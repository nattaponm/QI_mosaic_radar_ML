{
 "cells": [
  {
   "cell_type": "markdown",
   "id": "afbc7683-8fe2-4209-9d7c-91d0a540cdae",
   "metadata": {},
   "source": [
    "# เตรียมลิสต์ไฟล์รายชั่วโมงเพื่อนำไปสร้างฝนสะสมรายเหตุการณ์และนำไปทำKfolds\n",
    "* สร้างลิสต์ไฟล์ของฝนรายชั่วโมงทั้งเรดาร์และฝนสถานี เอาเฉพาะสถานีที่ตรงกัน แล้วจะใช้ในการรวมฝนรายเหตุการณ์"
   ]
  },
  {
   "cell_type": "code",
   "execution_count": 1,
   "id": "192bcbbd-3687-4c9a-8abb-050060d92824",
   "metadata": {},
   "outputs": [
    {
     "name": "stdout",
     "output_type": "stream",
     "text": [
      "Radar directory contents:\n",
      "['2018071507_2000m.tif', '2018071508_2000m.tif', '2018071509_2000m.tif', '2018071510_2000m.tif', '2018071511_2000m.tif']\n",
      "\n",
      "Gauge directory contents:\n",
      "['2018071500.csv', '2018071501.csv', '2018071502.csv', '2018071503.csv', '2018071504.csv']\n",
      "Matched list saved to ./zProcessing_temp/matched_rainfall_files.csv\n",
      "Total matched times: 235\n",
      "\n",
      "Top 10 rows of the matched rainfall files:\n",
      "              Datetime            Radar_File      Gauge_File\n",
      "0  2018-07-15 07:00:00  2018071507_2000m.tif  2018071507.csv\n",
      "1  2018-07-15 08:00:00  2018071508_2000m.tif  2018071508.csv\n",
      "2  2018-07-15 09:00:00  2018071509_2000m.tif  2018071509.csv\n",
      "3  2018-07-15 10:00:00  2018071510_2000m.tif  2018071510.csv\n",
      "4  2018-07-15 11:00:00  2018071511_2000m.tif  2018071511.csv\n",
      "5  2018-07-15 12:00:00  2018071512_2000m.tif  2018071512.csv\n",
      "6  2018-07-15 13:00:00  2018071513_2000m.tif  2018071513.csv\n",
      "7  2018-07-15 14:00:00  2018071514_2000m.tif  2018071514.csv\n",
      "8  2018-07-15 15:00:00  2018071515_2000m.tif  2018071515.csv\n",
      "9  2018-07-15 16:00:00  2018071516_2000m.tif  2018071516.csv\n"
     ]
    }
   ],
   "source": [
    "import os\n",
    "import datetime\n",
    "import pandas as pd\n",
    "\n",
    "def get_file_datetime(filename, is_radar=True):\n",
    "    # Extract datetime from filename\n",
    "    if is_radar:\n",
    "        date_str = filename.split('_')[0]\n",
    "    else:\n",
    "        date_str = filename.split('.')[0]\n",
    "    return datetime.datetime.strptime(date_str, '%Y%m%d%H')\n",
    "\n",
    "def get_matching_files(radar_dir, gauge_dir):\n",
    "    radar_files = os.listdir(radar_dir)\n",
    "    gauge_files = os.listdir(gauge_dir)\n",
    "    \n",
    "    radar_times = {get_file_datetime(f, is_radar=True): f for f in radar_files if f.endswith('.tif')}\n",
    "    gauge_times = {get_file_datetime(f, is_radar=False): f for f in gauge_files if f.endswith('.csv')}\n",
    "    \n",
    "    matched_times = sorted(set(radar_times.keys()) & set(gauge_times.keys()))\n",
    "    \n",
    "    return [(t, radar_times[t], gauge_times[t]) for t in matched_times]\n",
    "\n",
    "def save_matched_list(matched_list, output_file):\n",
    "    df = pd.DataFrame(matched_list, columns=['Datetime', 'Radar_File', 'Gauge_File'])\n",
    "    df.to_csv(output_file, index=False)\n",
    "    print(f\"Matched list saved to {output_file}\")\n",
    "\n",
    "def main():\n",
    "    radar_dir = '../00run_batch_acchr_codes/2output/0Hourly/0Sontihn_RF/0CBB_Pulse/0output_mosaic/'\n",
    "    gauge_dir = '../1data/3Gauges/rain_hourly/0Sontihn/2Final_hourly_dates/'\n",
    "    output_file = './zProcessing_temp/matched_rainfall_files.csv'\n",
    "    \n",
    "    print(\"Radar directory contents:\")\n",
    "    print(os.listdir(radar_dir)[:5])  # Print first 5 files\n",
    "    print(\"\\nGauge directory contents:\")\n",
    "    print(os.listdir(gauge_dir)[:5])  # Print first 5 files\n",
    "    \n",
    "    matched_list = get_matching_files(radar_dir, gauge_dir)\n",
    "    save_matched_list(matched_list, output_file)\n",
    "    \n",
    "    print(f\"Total matched times: {len(matched_list)}\")\n",
    "    \n",
    "    # Read the saved CSV file\n",
    "    df = pd.read_csv(output_file)\n",
    "    \n",
    "    # Print the top 10 rows\n",
    "    print(\"\\nTop 10 rows of the matched rainfall files:\")\n",
    "    print(df.head(10))\n",
    "\n",
    "if __name__ == \"__main__\":\n",
    "    main()"
   ]
  },
  {
   "cell_type": "code",
   "execution_count": null,
   "id": "6127b71b-47e6-4759-828c-d2edd89f2c05",
   "metadata": {},
   "outputs": [],
   "source": []
  }
 ],
 "metadata": {
  "kernelspec": {
   "display_name": "Python 3 (ipykernel)",
   "language": "python",
   "name": "python3"
  },
  "language_info": {
   "codemirror_mode": {
    "name": "ipython",
    "version": 3
   },
   "file_extension": ".py",
   "mimetype": "text/x-python",
   "name": "python",
   "nbconvert_exporter": "python",
   "pygments_lexer": "ipython3",
   "version": "3.8.13"
  }
 },
 "nbformat": 4,
 "nbformat_minor": 5
}
