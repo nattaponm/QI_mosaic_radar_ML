{
 "cells": [
  {
   "cell_type": "markdown",
   "id": "df9fed6b-a260-40d9-b9b8-da4879bf8350",
   "metadata": {},
   "source": [
    "# คำนวณค่าตัวแปรที่ใช้ในการโมเสค ช่วยให้ประหยัดเวลาในการคำนวณ\n",
    "* เซฟตัวแปรเก็บไว้ แล้วนำมาใช้ต่อในไฟล์โค้ดหลัก"
   ]
  },
  {
   "cell_type": "code",
   "execution_count": 1,
   "id": "17017586-1fe0-40ba-adbe-b07e90699758",
   "metadata": {},
   "outputs": [
    {
     "name": "stdout",
     "output_type": "stream",
     "text": [
      "\n",
      "## You are using the Python ARM Radar Toolkit (Py-ART), an open source\n",
      "## library for working with weather radar data. Py-ART is partly\n",
      "## supported by the U.S. Department of Energy as part of the Atmospheric\n",
      "## Radiation Measurement (ARM) Climate Research Facility, an Office of\n",
      "## Science user facility.\n",
      "##\n",
      "## If you use this software to prepare a publication, please cite:\n",
      "##\n",
      "##     JJ Helmus and SM Collis, JORS 2016, doi: 10.5334/jors.119\n",
      "\n"
     ]
    }
   ],
   "source": [
    "import numpy as np\n",
    "import numpy.ma as ma\n",
    "import cartopy.crs as ccrs\n",
    "import cartopy\n",
    "import matplotlib.pyplot as pl\n",
    "import wradlib as wrl\n",
    "from wradlib.io import read_generic_netcdf\n",
    "import pyart\n",
    "import sys\n",
    "import warnings\n",
    "warnings.filterwarnings('ignore')\n",
    "import glob\n",
    "import os\n",
    "import re\n",
    "import time\n",
    "import gzip\n",
    "import shutil"
   ]
  },
  {
   "cell_type": "code",
   "execution_count": 2,
   "id": "0e9740bd-fe67-400d-be30-28756ad14deb",
   "metadata": {},
   "outputs": [
    {
     "name": "stdout",
     "output_type": "stream",
     "text": [
      "1.14.0\n",
      "3.8.13 | packaged by conda-forge | (default, Mar 25 2022, 05:59:45) [MSC v.1929 64 bit (AMD64)]\n",
      "0.0.0\n"
     ]
    }
   ],
   "source": [
    "print(wrl.__version__)\n",
    "print(sys.version)\n",
    "print(pyart.__version__)"
   ]
  },
  {
   "cell_type": "code",
   "execution_count": 3,
   "id": "27eb43aa-b2b9-4b41-81e2-e671464a0e85",
   "metadata": {},
   "outputs": [],
   "source": [
    "# เพื่อแตกไฟล์ gzip ให้เป็น uf \n",
    "def decompress_gzip(input_file, output_file):\n",
    "    try:\n",
    "        with gzip.open(input_file, 'rb') as f_in:\n",
    "            with open(output_file, 'wb') as f_out:\n",
    "                shutil.copyfileobj(f_in, f_out)\n",
    "        print(f\"File decompressed successfully: {output_file}\")\n",
    "        return True\n",
    "    except Exception as e:\n",
    "        print(f\"An error occurred while decompressing {input_file}: {str(e)}\")\n",
    "        return False\n",
    "\n",
    "def check_and_decompress(path, mos_time):\n",
    "    for root, dirs, files in os.walk(path):\n",
    "        for file in files:\n",
    "            if file.endswith('.bz2') and mos_time in file:\n",
    "                bz2_file = os.path.join(root, file)\n",
    "                uf_file = os.path.splitext(bz2_file)[0]\n",
    "                if not os.path.exists(uf_file):\n",
    "                    print(f\"Decompressing {bz2_file}\")\n",
    "                    decompress_gzip(bz2_file, uf_file)        "
   ]
  },
  {
   "cell_type": "code",
   "execution_count": 4,
   "id": "c478923c-eebf-459b-a5e0-136e5a00095a",
   "metadata": {},
   "outputs": [],
   "source": [
    "# ลบไฟล์นามสกุล .uf กับ .nc ที่แตกไฟล์มาและที่ได้จากประมวลผล\n",
    "def cleanup_files(path, extensions_to_delete=['.uf', '.nc']):\n",
    "    for root, dirs, files in os.walk(path):\n",
    "        for ext in extensions_to_delete:\n",
    "            for file in glob.glob(os.path.join(root, f'*{ext}')):\n",
    "                try:\n",
    "                    os.remove(file)\n",
    "                    print(f\"Deleted: {file}\")\n",
    "                except Exception as e:\n",
    "                    print(f\"Error deleting {file}: {str(e)}\")"
   ]
  },
  {
   "cell_type": "code",
   "execution_count": 5,
   "id": "158e55a8-4752-48cd-b7a3-a676d99395b0",
   "metadata": {},
   "outputs": [],
   "source": [
    "def remove_noise_flare_SNR(file_in, file_out):\n",
    "    #radar = pyart.io.read_uf(file_in)\n",
    "    radar =pyart.io.auto_read.read(file_in)\n",
    "    \n",
    "    snr = pyart.retrieve.calculate_snr_from_reflectivity(radar, refl_field='reflectivity',toa=2500.0) #ค่าตั้งต้นคือ 15000 ทดลองเอง \n",
    "#ลอง 12500 ไม่เวิร์ค ลอง 5000 ก็ไม่เวิร์คเรดาร์ชุมพรฝนหาย ลอง 1000 เวิร์ค ฝนมี แต่เหมือนบางลง ตกลงใช้ toa 2500 เพราะฝนหายน้อยกว่า ได้ฝนครบ\n",
    "\n",
    "    radar.add_field('signal_to_noise_ratio', snr, replace_existing=True)\n",
    "\n",
    "    # กรองสัญญาณรบกวน ด้วยการใช้ SNR ใช้ gatefilter\n",
    "    # ตรงนี้ต้องใช้ if กรณีที่ไม่มีค่า dual-pol ฟิวด์ ให้กลับไปใช้ SNR ที่คำนวณได้ ในการทำ texture\n",
    "    gtfilter = pyart.filters.moment_and_texture_based_gate_filter(radar, phi_field='differential_phase')\n",
    "    gtfilter.exclude_below('signal_to_noise_ratio', 2) #ใช้ค่า snr  = 10 \n",
    "    gtfilter.exclude_above('signal_to_noise_ratio', 70) #ใช้ค่า snr  = 60 \n",
    "\n",
    "    # แอดฟิวด์ที่ได้กรองสัญญาณรบกวนออกไป เอาโค้ดมาจาก  https://github.com/ARM-DOE/pyart/issues/763\n",
    "    nf = radar.fields['corrected_reflectivity']\n",
    "    nf['data'] = np.ma.masked_where(gtfilter.gate_excluded , nf['data'])\n",
    "    radar.add_field('filtered_refectivity', nf, replace_existing=True)\n",
    "\n",
    "    # ส่งออก radar object เพื่อนำฟิวด์ที่กรองสัญญาณรบกวนออกไปnetcdf เพื่อใช้ใน wradlib\n",
    "    #file = './0data/PHI201807171100SNR'\n",
    "    pyart.io.write_cfradial(file_out, radar, format='NETCDF4')\n",
    "    \n",
    "    #return "
   ]
  },
  {
   "cell_type": "code",
   "execution_count": 6,
   "id": "e708c395-1ec9-4f73-8225-01b0b0a7275a",
   "metadata": {},
   "outputs": [],
   "source": [
    "#ฟังค์ชั่นรับค่าพารามิเตอร์เพื่อนำไปคำนวณพิกัด utm\n",
    "def get_geom(vol, i=0) :\n",
    "    # เก็บตัวแปร variables\n",
    "    v = vol['variables']\n",
    "\n",
    "    # เก็บพิกัด\n",
    "    lon = v['longitude']['data']\n",
    "    lat = v['latitude']['data']\n",
    "    alt = v['altitude']['data']\n",
    "    radar_location = (lon, lat)    \n",
    "    \n",
    "    # อินเด็กซ์ของการกวาดในแต่ละมุมยก swstart=ค่าอินเด็กซ์แรกของแต่ละมุมยก swend= ค่าอินเด็กซ์สุดท้ายของแต่ละมุมยก\n",
    "    swstart = v['sweep_start_ray_index']['data']\n",
    "    swend = v['sweep_end_ray_index']['data']\n",
    "\n",
    "     # ค่าเริ่มและหยุดในการกวาดมุมยกแรก i=0\n",
    "    i = 0\n",
    "    i1 = swstart[i]\n",
    "    i2 = swend[i]\n",
    "\n",
    "    # มุมอซิมัท\n",
    "    azi = v['azimuth']['data']\n",
    "    az = azi[i1:i2]\n",
    "\n",
    "    # ระยะห่างระหว่าง gate/bin\n",
    "    r = v['range']['data']\n",
    "    rg =r[i1:i2]\n",
    "\n",
    "    # ค่ามุมยก\n",
    "    el = v['fixed_angle']['data']\n",
    "    elev=el[i] #i = 0 มุมแรก\n",
    "    \n",
    "    return az, rg, elev, radar_location"
   ]
  },
  {
   "cell_type": "code",
   "execution_count": 7,
   "id": "9ebf09a2-cdb0-4ce8-84c2-b7c80d7011f9",
   "metadata": {},
   "outputs": [],
   "source": [
    "# คำนวณค่าพิกัดเรดาร์ด้วยการแปลงจากโพลาร์ไปเป็นกริด\n",
    "proj_utm = wrl.georef.epsg_to_osr(32647)\n",
    "def cal_coord(rg, az, elev, radar_location, proj_utm):\n",
    "    coord = wrl.georef.spherical_to_centroids(rg, az, elev, radar_location, proj=proj_utm)\n",
    "    coord = coord[..., 0:2]\n",
    "    coord = coord.reshape(-1, coord.shape[-1])\n",
    "    \n",
    "    return coord"
   ]
  },
  {
   "cell_type": "code",
   "execution_count": 8,
   "id": "026837dc-32aa-4ea2-a373-760bbd2ff3bf",
   "metadata": {},
   "outputs": [],
   "source": [
    "#คำนวณค่าพิกัดขอบเขตการโมเสค ตามพิกัดเรดาร์\n",
    "def bbox(*args):\n",
    "    \"\"\"Get bounding box from a set of radar bin coordinates\"\"\"\n",
    "    x = np.array([])\n",
    "    y = np.array([])\n",
    "    for arg in args:\n",
    "        x = np.append(x, arg[:, 0])\n",
    "        y = np.append(y, arg[:, 1])\n",
    "        #print( ': ', x.min(), x.max(), ': ', y.min(), y.max())\n",
    "    xmin = x.min()\n",
    "    xmax = x.max()\n",
    "    ymin = y.min()\n",
    "    ymax = y.max()\n",
    "\n",
    "    return xmin, xmax, ymin, ymax"
   ]
  },
  {
   "cell_type": "code",
   "execution_count": 9,
   "id": "e1bfbba3-65d4-45ec-9f33-1b3000b0163a",
   "metadata": {},
   "outputs": [],
   "source": [
    "# คำนวณค่ากริดผลลัพธ์ จากขอบเขตที่ได้จาก bbox ฟังก์ชัน ของทุกเรดาร์\n",
    "def cal_grid_out(coord_all, num_xy):\n",
    "    # define target grid for composition\n",
    "    #xmin, xmax, ymin, ymax = bbox(coord_all)    \n",
    "    # ฟังก์ชั่นนี้จะใช้วิธีการ fix ค่าพิกัด extent ของพื้นที่การโมเสคทั้งประเทศ เพราะต้องการจะทำให้ทุกช่วงเวลาของการกวาด มีขอบเขตที่ตรงกัน\n",
    "    # ค่า xmin, xmax, ymin, ymax ได้มาจากการคำนวณหาค่า ด้วยการใช้เรดาร์ เชียงราย ลำพูน พิษณุโลก ชัยนาท เพื่อหาขอบเขต เหนือ ใต้ ออก ตก\n",
    "    xmin, xmax, ymin, ymax= 150000.00, 925000.00, 1420000.00, 2500000.00\n",
    "    print('>>>>>xmin, xmax, ymin, ymax of cal_grid_out: ',  xmin, xmax, ymin, ymax)\n",
    "    x = np.linspace(xmin, xmax + 1000.0, num_xy)\n",
    "    y = np.linspace(ymin, ymax + 1000.0, num_xy)\n",
    "    grid_coords = wrl.util.gridaspoints(y, x)\n",
    "    \n",
    "    return x, y, grid_coords"
   ]
  },
  {
   "cell_type": "code",
   "execution_count": 10,
   "id": "bbeeaf0e-1eb6-416c-919f-862166a375ac",
   "metadata": {},
   "outputs": [],
   "source": [
    "def check_files_mos(path, mos_time): \n",
    "    print('\\n\\n--->โมเสคทั้งหมด แม้ว่าจะมีไม่ครบ 4 ครั้ง/ชั่วโมง')\n",
    "    \n",
    "    # ตรวจสอบไฟล์ gzip เพื่อแตกไฟล์เป็น uf\n",
    "    check_and_decompress(path, mos_time)\n",
    "\n",
    "    # ค้นหาสถานีที่มีการสแกน แม้ว่าจะมีไม่ครบ 4 ครั้ง/ชั่วโมง\n",
    "    fd_name = os.listdir(path)\n",
    "    numFiles=[]\n",
    "    fd_run=[]\n",
    "    for i, fd in enumerate(fd_name):\n",
    "        j=0\n",
    "        for file in os.listdir(path+'/'+ fd):\n",
    "            if file.endswith('.uf'):\n",
    "                j+=1            \n",
    "        if j!=0 : \n",
    "            numFiles.append(j)\n",
    "            fd_run.append(fd)\n",
    "\n",
    "    #-ลิสต์ไฟล์ตามเวลาที่สแกน เพื่อนำไปโมเสคราย 15 นาที\n",
    "\n",
    "    min_fn = [\"00\", \"15\", \"30\", \"45\"] #สแกนนาที ที่ [00, 15, 30, 45]\n",
    "    files_total=[]\n",
    "\n",
    "    for min_s in min_fn:\n",
    "        files_total.append('scan minute: '+ min_s)\n",
    "        j=0\n",
    "        files=[]\n",
    "        fd_n=[]\n",
    "        for i, fd in enumerate(fd_run):\n",
    "            #print(fd+'---')        \n",
    "            for file in os.listdir(path+'/'+ fd):\n",
    "                if file.endswith('.uf') and re.search(r\"2018(\\d{6})\"+min_s, file) :\n",
    "                #if file.endswith('.bz2') and re.search(r\"2018(\\d{6})\"+min_s, file) :\n",
    "                    #print(i, fd, file)\n",
    "                    files.append(file) #เพิ่มเฉพาะไฟล์ที่เจอในลิสต์ \n",
    "                    fd_n.append(fd) #เพิ่มเฉพาะโฟลเดอร์ที่เจอ *uf ในลิสต์\n",
    "                    j+=1\n",
    "                    #print(file)     \n",
    "        files_total.append(j)\n",
    "        files_total.append(fd_n)\n",
    "        files_total.append(files)\n",
    "    \n",
    "    return fd_run, files_total\n",
    "\n",
    "#--นำไปโมเสคได้ ราย 15 นาที แล้วนำไปทำฝนสะสมรายชั่วโมง กรณีที่ต้องการการสแกนที่ครบถ้วน"
   ]
  },
  {
   "cell_type": "code",
   "execution_count": 11,
   "id": "aad582ef-53ec-4cca-a9e9-b84e69ad4f7f",
   "metadata": {},
   "outputs": [],
   "source": [
    "# ตั้งค่าผลิตภัณฑ์ฝนตรงนี้\n",
    "path = '../1data/0radar/0Mosaic15min_4rads_1hour_Sentihn0_good/'\n",
    "#path = '../1data/0radar/0Mosaic15min_4rads_1hour_Sentihn1/'\n",
    "#path = '../1data/0radar/0Mosaic15min_4rads_1hour_Bebinca/'\n",
    "#path = '../1data/0radar/0Mosaic15min_4rads_1hour/'\n",
    "#path = '../1data/0radar/0Mosaic15min_4rads_list_files/'\n",
    "\n",
    "#เปลี่ยนขนาดกริดตรงนี้\n",
    "gridsize_new=2000 #ขนาดกริดใหม่ หน่วยเมตร\n",
    "\n",
    "gridsize_org = 1000 #ขนาดกริดตั้งต้น\n",
    "num_grid_org = gridsize_org**2 #จำนวนกริดตั้งต้น\n",
    "num_xy = int(num_grid_org/gridsize_new) #จำนวนกริดในแนวแกน x และy\n",
    "num_grid_new = int(num_grid_org/gridsize_new)**2 #จำนวนกริดใหม่ทั้งหมด\n",
    "\n",
    "# ตรวจสอบสถานีและจำนวนไฟล์ที่จะใช้ในการโมเสคแต่ละช่วงเวลา\n",
    "#fd_run, files_total = check_files_mos(path)\n",
    "#print(fd_run)\n",
    "#print(files_total)"
   ]
  },
  {
   "cell_type": "code",
   "execution_count": 12,
   "id": "d7fde789-63fb-4ea8-b82d-1ed3e99ef564",
   "metadata": {},
   "outputs": [
    {
     "name": "stdout",
     "output_type": "stream",
     "text": [
      "\n",
      "\n",
      "--->โมเสคทั้งหมด แม้ว่าจะมีไม่ครบ 4 ครั้ง/ชั่วโมง\n",
      "Decompressing ../1data/0radar/0Mosaic15min_4rads_1hour_Sentihn0_good/CHN\\CHN240@201807171130.uf.bz2\n",
      "File decompressed successfully: ../1data/0radar/0Mosaic15min_4rads_1hour_Sentihn0_good/CHN\\CHN240@201807171130.uf\n",
      "Decompressing ../1data/0radar/0Mosaic15min_4rads_1hour_Sentihn0_good/CRI\\CRI240@201807171130.uf.bz2\n",
      "File decompressed successfully: ../1data/0radar/0Mosaic15min_4rads_1hour_Sentihn0_good/CRI\\CRI240@201807171130.uf\n",
      "Decompressing ../1data/0radar/0Mosaic15min_4rads_1hour_Sentihn0_good/LMP\\LMP240@201807171130.uf.bz2\n",
      "File decompressed successfully: ../1data/0radar/0Mosaic15min_4rads_1hour_Sentihn0_good/LMP\\LMP240@201807171130.uf\n",
      "Decompressing ../1data/0radar/0Mosaic15min_4rads_1hour_Sentihn0_good/PHS\\PHS240@201807171130.uf.bz2\n",
      "File decompressed successfully: ../1data/0radar/0Mosaic15min_4rads_1hour_Sentihn0_good/PHS\\PHS240@201807171130.uf\n",
      "['CHN', 'CRI', 'LMP', 'PHS']\n",
      "สแกนนาที:  scan minute: 30\n",
      "จำนวนสถานีที่มีข้อมูล:  4\n",
      "ชื่อสถานีที่มีข้อมูล:  ['CHN', 'CRI', 'LMP', 'PHS']\n"
     ]
    }
   ],
   "source": [
    "#เลือกเวลาที่ต้องการโมเสค ปี เดือน วัน ชั่วโมง นาที\n",
    "mos_time='201807171130'\n",
    "scan_time=mos_time[-2:] \n",
    "\n",
    "# ตรวจสอบสถานีและจำนวนไฟล์ที่จะใช้ในการโมเสคแต่ละช่วงเวลา\n",
    "fd_run, files_total = check_files_mos(path,mos_time)\n",
    "print(fd_run)\n",
    "\n",
    "# Iterate through files_total to find the index of the matching scan minute\n",
    "index = None\n",
    "for i, item in enumerate(files_total):\n",
    "    if isinstance(item, str) and item == f'scan minute: {scan_time}':\n",
    "        index = i\n",
    "        break\n",
    "\n",
    "# Check if a match was found and print the index\n",
    "if index is not None:\n",
    "    print('สแกนนาที: ', files_total[index])\n",
    "    print('จำนวนสถานีที่มีข้อมูล: ', files_total[index+1])\n",
    "    print('ชื่อสถานีที่มีข้อมูล: ', files_total[index+2])\n",
    "    num_sta_available=files_total[index+1]\n",
    "    name_sta_available=files_total[index+2]\n",
    "    list_name_uf_sta_available=files_total[index+3]\n",
    "\n",
    "else:\n",
    "    print(f\"'scan minute: {scan_time}' not found in the list\")"
   ]
  },
  {
   "cell_type": "code",
   "execution_count": 13,
   "id": "4b408be8-22cb-4c0f-8777-51c9f4d5d6bb",
   "metadata": {},
   "outputs": [],
   "source": [
    "sta=name_sta_available\n",
    "fn_in=list_name_uf_sta_available\n",
    "#fn_in=list_name_bz2_sta_available\n",
    "fn_out = [item + '_SNR.nc' for item in sta]"
   ]
  },
  {
   "cell_type": "code",
   "execution_count": 14,
   "id": "ce8e7861-018b-4755-9fa6-933c87afa292",
   "metadata": {},
   "outputs": [
    {
     "data": {
      "text/plain": [
       "['CHN240@201807171130.uf',\n",
       " 'CRI240@201807171130.uf',\n",
       " 'LMP240@201807171130.uf',\n",
       " 'PHS240@201807171130.uf']"
      ]
     },
     "execution_count": 14,
     "metadata": {},
     "output_type": "execute_result"
    }
   ],
   "source": [
    "fn_in"
   ]
  },
  {
   "cell_type": "code",
   "execution_count": 15,
   "id": "9ac5b97d-8438-4351-bacf-d11c350735b8",
   "metadata": {},
   "outputs": [
    {
     "data": {
      "text/plain": [
       "['CHN_SNR.nc', 'CRI_SNR.nc', 'LMP_SNR.nc', 'PHS_SNR.nc']"
      ]
     },
     "execution_count": 15,
     "metadata": {},
     "output_type": "execute_result"
    }
   ],
   "source": [
    "fn_out"
   ]
  },
  {
   "cell_type": "code",
   "execution_count": 16,
   "id": "dd375574-cbc8-427d-bfe2-4a078e03b28f",
   "metadata": {},
   "outputs": [
    {
     "name": "stdout",
     "output_type": "stream",
     "text": [
      ">>1. กรอง noise + flare ใน pyart...\n",
      "--> noise+flare removing :  ../1data/0radar/0Mosaic15min_4rads_1hour_Sentihn0_good/CHN/CHN240@201807171130.uf\n",
      "--> noise+flare removing :  ../1data/0radar/0Mosaic15min_4rads_1hour_Sentihn0_good/CRI/CRI240@201807171130.uf\n",
      "--> noise+flare removing :  ../1data/0radar/0Mosaic15min_4rads_1hour_Sentihn0_good/LMP/LMP240@201807171130.uf\n",
      "--> noise+flare removing :  ../1data/0radar/0Mosaic15min_4rads_1hour_Sentihn0_good/PHS/PHS240@201807171130.uf\n"
     ]
    }
   ],
   "source": [
    "print('>>1. กรอง noise + flare ใน pyart...')\n",
    "for i, sta_n in enumerate(sta):    \n",
    "    file_in= path+sta_n+'/'+fn_in[i]\n",
    "    file_out= path+sta_n+'/'+fn_out[i]\n",
    "    print('--> noise+flare removing : ', file_in)\n",
    "    \n",
    "    # ฟังก์ชันกรอง noise+flare ใน pyart แล้วเซฟเป็นไฟล์ใหม่เพื่อนำไปใช้ใน wradlib\n",
    "    try:\n",
    "        remove_noise_flare_SNR(file_in, file_out)\n",
    "    except:\n",
    "        print('fail: ', file_in)\n",
    "        pass"
   ]
  },
  {
   "cell_type": "code",
   "execution_count": 17,
   "id": "e2bcce5f-6a35-4a80-8fa0-f163dd973e16",
   "metadata": {},
   "outputs": [
    {
     "name": "stdout",
     "output_type": "stream",
     "text": [
      "\n",
      "\n",
      "2.************************************************\n",
      "\n",
      "คำนวณค่า extent ของข้อมูลเรดาร์ทุกสถานี\n",
      "\n",
      "../1data/0radar/0Mosaic15min_4rads_1hour_Sentihn0_good/CHN/CHN_SNR.nc\n",
      "../1data/0radar/0Mosaic15min_4rads_1hour_Sentihn0_good/CRI/CRI_SNR.nc\n",
      "../1data/0radar/0Mosaic15min_4rads_1hour_Sentihn0_good/LMP/LMP_SNR.nc\n",
      "../1data/0radar/0Mosaic15min_4rads_1hour_Sentihn0_good/PHS/PHS_SNR.nc\n",
      ">>>>>xmin, xmax, ymin, ymax of cal_grid_out:  150000.0 925000.0 1420000.0 2500000.0\n"
     ]
    }
   ],
   "source": [
    "##################################################################\n",
    "\n",
    "#คำนวณค่า extent ของเรดาร์ทุกสถานี เพื่อสร้างกริด utm ผลลัพธ์\n",
    "print('\\n\\n2.************************************************\\n')\n",
    "print('คำนวณค่า extent ของข้อมูลเรดาร์ทุกสถานี\\n')\n",
    "coord_list = []\n",
    "for i, sta_n in enumerate(sta):\n",
    "\n",
    "    print(path+sta_n+'/'+fn_out[i])\n",
    "    file= path+sta_n+'/'+fn_out[i]\n",
    "    \n",
    "    #อ่าน vol เข้ามา\n",
    "    vol=read_generic_netcdf(file)\n",
    "    \n",
    "    #รับค่าพารามิเตอร์เพื่อคำนวณพิกัดจากฟังก์ชั่น\n",
    "    az, rg, elev, radar_location = get_geom(vol, 0) #el=0 เท่ากับมุมยกที่ 1 \n",
    "    \n",
    "    #แปลงค่าพิกัดโพลาร์ เป็น กริด utm เพื่อให้ได้  coord แต่ละสถานี ที่มีสองหลัก  \n",
    "    proj_utm = wrl.georef.epsg_to_osr(32647)\n",
    "    \n",
    "    try:    \n",
    "        coord = cal_coord(rg, az, elev, radar_location, proj_utm)        \n",
    "    except Exception as e:\n",
    "        print(f\"Error processing radar data for {sta_n}: {e}\")\n",
    "        continue\n",
    "    \n",
    "    # Append the coordinates of the current radar to the list\n",
    "    coord_list.append(coord)\n",
    "    \n",
    "# Concatenate coordinates from all radars\n",
    "coord_all = np.concatenate(coord_list, axis=0)\n",
    "\n",
    "# Calculate the overall grid extents\n",
    "x, y, grid_coords = cal_grid_out(coord_all, num_xy)\n",
    "\n",
    "\n",
    "#data_qi_gridded = np.empty((len(sta), 1000000))  #1000000 เป็นค่า  quality_gridded.shape\n",
    "#data_gridded = np.empty((len(sta), 1000000))  #1000000 เป็นค่า  quality_gridded.shape   \n",
    "\n",
    "data_qi_gridded = np.empty((len(sta), num_grid_new))  #1000000 เป็นค่า  quality_gridded.shape\n",
    "data_gridded = np.empty((len(sta), num_grid_new))  #1000000 เป็นค่า  quality_gridded.shape  "
   ]
  },
  {
   "cell_type": "markdown",
   "id": "57f67b76-4d14-45d3-b284-f495337eecc8",
   "metadata": {},
   "source": [
    "# เซฟค่าตัวแปรที่ใช้ในการโมเสคโปรแกรมหลัก"
   ]
  },
  {
   "cell_type": "code",
   "execution_count": 18,
   "id": "dfaddbfa-9a89-4f5b-9eb4-660ceac73e36",
   "metadata": {},
   "outputs": [
    {
     "name": "stdout",
     "output_type": "stream",
     "text": [
      "Variables saved in folder: 0variables_mosaic\n"
     ]
    }
   ],
   "source": [
    "# Folder name\n",
    "folder_name = \"0variables_mosaic\"\n",
    "\n",
    "# Create folder if it doesn't exist\n",
    "if not os.path.exists(folder_name):\n",
    "    os.makedirs(folder_name)\n",
    "\n",
    "# Save variables to files\n",
    "np.save(os.path.join(folder_name, 'coord_list.npy'), coord_list)\n",
    "np.save(os.path.join(folder_name, 'coord_all.npy'), coord_all)\n",
    "np.save(os.path.join(folder_name, 'x.npy'), x)\n",
    "np.save(os.path.join(folder_name, 'y.npy'), y)\n",
    "np.save(os.path.join(folder_name, 'grid_coords.npy'), grid_coords)\n",
    "np.save(os.path.join(folder_name, 'num_xy.npy'), np.array([num_xy]))\n",
    "\n",
    "print(f\"Variables saved in folder: {folder_name}\")"
   ]
  },
  {
   "cell_type": "code",
   "execution_count": 19,
   "id": "e7ea69e8-ac67-401e-8b1a-1b21aa135aef",
   "metadata": {},
   "outputs": [
    {
     "data": {
      "text/plain": [
       "'\\nimport numpy as np\\nimport matplotlib.pyplot as plt\\nfrom matplotlib.colors import ListedColormap\\n\\n# Create a custom colormap\\ndef create_custom_cmap(base_cmap=\\'viridis\\'):\\n    cmap = plt.get_cmap(base_cmap)\\n    colors = cmap(np.arange(cmap.N))\\n    colors[0, :] = [0.9, 0.9, 0.9, 1.0]  # Set the color of the first color (value 0) to light gray\\n    custom_cmap = ListedColormap(colors)\\n    return custom_cmap\\n\\n# Plotting function for each station\\ndef plot_station_data(data_gridded, x, y, station_name, custom_cmap):\\n    # Mask the data values that are NaN\\n    masked_data = np.ma.masked_where(np.isnan(data_gridded), data_gridded)\\n\\n    # Plotting the masked data\\n    plt.figure(figsize=(10, 8))\\n    ax = plt.subplot(111, aspect=\"equal\")\\n    plt.pcolormesh(x, y, masked_data.reshape((len(y), len(x))), cmap=custom_cmap, vmin=0, vmax=5)\\n    plt.colorbar(label=\"Rainfall Intensity (mm)\")\\n    \\n    # Plot radar boundaries\\n    #circle = plt.Circle(radar_location, radius, color=\\'gray\\', alpha=0.3, fill=False)\\n    #ax.add_patch(circle)\\n\\n    plt.grid()\\n    plt.xlim(min(x), max(x))\\n    plt.ylim(min(y), max(y))\\n    plt.title(f\"Radar Rainfall Depth - {station_name}\")\\n    plt.xlabel(\"UTM Easting (m)\")\\n    plt.ylabel(\"UTM Northing (m)\")\\n    plt.show()\\n\\n\\n# Create the custom colormap\\ncustom_cmap = create_custom_cmap()\\n\\n# Plot data for each station\\nfor i, sta_n in enumerate(sta):\\n    plot_station_data(data_gridded[i], x, y, sta_n, custom_cmap)\\n'"
      ]
     },
     "execution_count": 19,
     "metadata": {},
     "output_type": "execute_result"
    }
   ],
   "source": [
    "'''\n",
    "import numpy as np\n",
    "import matplotlib.pyplot as plt\n",
    "from matplotlib.colors import ListedColormap\n",
    "\n",
    "# Create a custom colormap\n",
    "def create_custom_cmap(base_cmap='viridis'):\n",
    "    cmap = plt.get_cmap(base_cmap)\n",
    "    colors = cmap(np.arange(cmap.N))\n",
    "    colors[0, :] = [0.9, 0.9, 0.9, 1.0]  # Set the color of the first color (value 0) to light gray\n",
    "    custom_cmap = ListedColormap(colors)\n",
    "    return custom_cmap\n",
    "\n",
    "# Plotting function for each station\n",
    "def plot_station_data(data_gridded, x, y, station_name, custom_cmap):\n",
    "    # Mask the data values that are NaN\n",
    "    masked_data = np.ma.masked_where(np.isnan(data_gridded), data_gridded)\n",
    "\n",
    "    # Plotting the masked data\n",
    "    plt.figure(figsize=(10, 8))\n",
    "    ax = plt.subplot(111, aspect=\"equal\")\n",
    "    plt.pcolormesh(x, y, masked_data.reshape((len(y), len(x))), cmap=custom_cmap, vmin=0, vmax=5)\n",
    "    plt.colorbar(label=\"Rainfall Intensity (mm)\")\n",
    "    \n",
    "    # Plot radar boundaries\n",
    "    #circle = plt.Circle(radar_location, radius, color='gray', alpha=0.3, fill=False)\n",
    "    #ax.add_patch(circle)\n",
    "\n",
    "    plt.grid()\n",
    "    plt.xlim(min(x), max(x))\n",
    "    plt.ylim(min(y), max(y))\n",
    "    plt.title(f\"Radar Rainfall Depth - {station_name}\")\n",
    "    plt.xlabel(\"UTM Easting (m)\")\n",
    "    plt.ylabel(\"UTM Northing (m)\")\n",
    "    plt.show()\n",
    "\n",
    "\n",
    "# Create the custom colormap\n",
    "custom_cmap = create_custom_cmap()\n",
    "\n",
    "# Plot data for each station\n",
    "for i, sta_n in enumerate(sta):\n",
    "    plot_station_data(data_gridded[i], x, y, sta_n, custom_cmap)\n",
    "'''"
   ]
  },
  {
   "cell_type": "code",
   "execution_count": null,
   "id": "79d879a9-7c7b-4e89-a549-e35d33249664",
   "metadata": {},
   "outputs": [],
   "source": []
  }
 ],
 "metadata": {
  "kernelspec": {
   "display_name": "Python 3 (ipykernel)",
   "language": "python",
   "name": "python3"
  },
  "language_info": {
   "codemirror_mode": {
    "name": "ipython",
    "version": 3
   },
   "file_extension": ".py",
   "mimetype": "text/x-python",
   "name": "python",
   "nbconvert_exporter": "python",
   "pygments_lexer": "ipython3",
   "version": "3.8.13"
  }
 },
 "nbformat": 4,
 "nbformat_minor": 5
}
