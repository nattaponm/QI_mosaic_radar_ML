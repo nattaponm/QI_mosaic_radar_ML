{
 "cells": [
  {
   "cell_type": "markdown",
   "id": "a89018e8-17ae-4dd2-96d2-04568eb8c313",
   "metadata": {},
   "source": [
    "# สร้างแบบจำลอง Random Forest และใช้ปรับแก้ฝนเรดาร์รายชั่วโมง\n",
    "* ผลของการทดสอบวิธีการปรับแก้ผลิตภัณฑ์ฝนโมเสคลุ่มเจ้าพระยา ด้วยวิธีการหลากหลาย พบว่าการใช้ Random Forest ที่เป็นหนึ่งในแมชชีนเลิร์นนิ่ง ให้ผลการปรับแก้ที่ดีเมื่อเทียบกับจำนวนสถานีฝนภาคพื้นดิน (validating stations)\n",
    "* ดังนั้นในโค้ดนี้จึงสร้างแบบจำลอง RF โดยการรวมฝนเรดาร์ให้เป็นฝนรายเหตุการณ์ก่อน แล้ว train/test ด้วยฝนสถานีที่รวมเป็นฝนรายเหตุการณ์เช่นกัน ด้วยวิธีการ grid search เพื่อให้ได้ best parameters แล้วจึงเซฟโมเดลออกไป เพื่อเรียกใช้ในการปรับแก้ฝนรายชั่วโมงต่อไป"
   ]
  },
  {
   "cell_type": "markdown",
   "id": "c1b83d4a-0941-488a-8f45-30e3457078f6",
   "metadata": {},
   "source": [
    "## สร้างแบบจำลอง Random Forest using Grid search แล้วเซฟเพื่อนำไปใช้ปรับแก้ฝนเรดาร์"
   ]
  },
  {
   "cell_type": "code",
   "execution_count": 9,
   "id": "ef494a33-4762-4cd0-807f-35b779068a14",
   "metadata": {},
   "outputs": [
    {
     "name": "stderr",
     "output_type": "stream",
     "text": [
      "2024-08-22 19:42:42,426 - INFO - Calculating total radar rainfall...\n",
      "2024-08-22 19:42:42,428 - INFO - Processing fold 1\n"
     ]
    },
    {
     "name": "stdout",
     "output_type": "stream",
     "text": [
      "Fitting 20 folds for each of 108 candidates, totalling 2160 fits\n"
     ]
    },
    {
     "name": "stderr",
     "output_type": "stream",
     "text": [
      "2024-08-22 19:43:09,239 - INFO - Best parameters found: {'max_depth': None, 'min_samples_leaf': 4, 'min_samples_split': 10, 'n_estimators': 200}\n",
      "2024-08-22 19:43:09,240 - INFO - Best cross-validation score: -0.01774899271025545\n",
      "2024-08-22 19:43:09,262 - INFO - Feature Importance:\n",
      "2024-08-22 19:43:09,262 - INFO -           feature  importance\n",
      "2        latitude    0.417423\n",
      "1       longitude    0.366364\n",
      "0  radar_rainfall    0.216213\n",
      "2024-08-22 19:43:09,266 - INFO - Processing fold 2\n"
     ]
    },
    {
     "name": "stdout",
     "output_type": "stream",
     "text": [
      "Fitting 20 folds for each of 108 candidates, totalling 2160 fits\n"
     ]
    },
    {
     "name": "stderr",
     "output_type": "stream",
     "text": [
      "2024-08-22 19:43:39,419 - INFO - Best parameters found: {'max_depth': 10, 'min_samples_leaf': 1, 'min_samples_split': 10, 'n_estimators': 50}\n",
      "2024-08-22 19:43:39,420 - INFO - Best cross-validation score: 0.032447308728131265\n",
      "2024-08-22 19:43:39,432 - INFO - Feature Importance:\n",
      "2024-08-22 19:43:39,433 - INFO -           feature  importance\n",
      "1       longitude    0.446262\n",
      "2        latitude    0.376747\n",
      "0  radar_rainfall    0.176991\n",
      "2024-08-22 19:43:39,440 - INFO - Processing fold 3\n"
     ]
    },
    {
     "name": "stdout",
     "output_type": "stream",
     "text": [
      "Fitting 20 folds for each of 108 candidates, totalling 2160 fits\n"
     ]
    },
    {
     "name": "stderr",
     "output_type": "stream",
     "text": [
      "2024-08-22 19:44:09,724 - INFO - Best parameters found: {'max_depth': 10, 'min_samples_leaf': 1, 'min_samples_split': 5, 'n_estimators': 200}\n",
      "2024-08-22 19:44:09,724 - INFO - Best cross-validation score: 0.22632948391160818\n",
      "2024-08-22 19:44:09,748 - INFO - Feature Importance:\n",
      "2024-08-22 19:44:09,748 - INFO -           feature  importance\n",
      "2        latitude    0.450540\n",
      "1       longitude    0.372137\n",
      "0  radar_rainfall    0.177323\n",
      "2024-08-22 19:44:09,753 - INFO - Processing fold 4\n"
     ]
    },
    {
     "name": "stdout",
     "output_type": "stream",
     "text": [
      "Fitting 20 folds for each of 108 candidates, totalling 2160 fits\n"
     ]
    },
    {
     "name": "stderr",
     "output_type": "stream",
     "text": [
      "2024-08-22 19:44:40,129 - INFO - Best parameters found: {'max_depth': None, 'min_samples_leaf': 4, 'min_samples_split': 10, 'n_estimators': 200}\n",
      "2024-08-22 19:44:40,129 - INFO - Best cross-validation score: -0.47488200183536955\n",
      "2024-08-22 19:44:40,152 - INFO - Feature Importance:\n",
      "2024-08-22 19:44:40,152 - INFO -           feature  importance\n",
      "1       longitude    0.448467\n",
      "2        latitude    0.398853\n",
      "0  radar_rainfall    0.152680\n",
      "2024-08-22 19:44:40,156 - INFO - Processing fold 5\n"
     ]
    },
    {
     "name": "stdout",
     "output_type": "stream",
     "text": [
      "Fitting 20 folds for each of 108 candidates, totalling 2160 fits\n"
     ]
    },
    {
     "name": "stderr",
     "output_type": "stream",
     "text": [
      "2024-08-22 19:45:10,343 - INFO - Best parameters found: {'max_depth': None, 'min_samples_leaf': 4, 'min_samples_split': 10, 'n_estimators': 200}\n",
      "2024-08-22 19:45:10,344 - INFO - Best cross-validation score: -0.012978061201346768\n",
      "2024-08-22 19:45:10,367 - INFO - Feature Importance:\n",
      "2024-08-22 19:45:10,368 - INFO -           feature  importance\n",
      "2        latitude    0.490293\n",
      "1       longitude    0.320592\n",
      "0  radar_rainfall    0.189115\n",
      "2024-08-22 19:45:10,373 - INFO - Processing fold 6\n"
     ]
    },
    {
     "name": "stdout",
     "output_type": "stream",
     "text": [
      "Fitting 20 folds for each of 108 candidates, totalling 2160 fits\n"
     ]
    },
    {
     "name": "stderr",
     "output_type": "stream",
     "text": [
      "2024-08-22 19:45:40,616 - INFO - Best parameters found: {'max_depth': None, 'min_samples_leaf': 2, 'min_samples_split': 10, 'n_estimators': 50}\n",
      "2024-08-22 19:45:40,617 - INFO - Best cross-validation score: 0.255949617289938\n",
      "2024-08-22 19:45:40,624 - INFO - Feature Importance:\n",
      "2024-08-22 19:45:40,625 - INFO -           feature  importance\n",
      "1       longitude    0.511986\n",
      "2        latitude    0.356169\n",
      "0  radar_rainfall    0.131845\n",
      "2024-08-22 19:45:40,629 - INFO - Processing fold 7\n"
     ]
    },
    {
     "name": "stdout",
     "output_type": "stream",
     "text": [
      "Fitting 20 folds for each of 108 candidates, totalling 2160 fits\n"
     ]
    },
    {
     "name": "stderr",
     "output_type": "stream",
     "text": [
      "2024-08-22 19:46:10,838 - INFO - Best parameters found: {'max_depth': None, 'min_samples_leaf': 4, 'min_samples_split': 10, 'n_estimators': 50}\n",
      "2024-08-22 19:46:10,839 - INFO - Best cross-validation score: -0.45401428801702276\n",
      "2024-08-22 19:46:10,847 - INFO - Feature Importance:\n",
      "2024-08-22 19:46:10,847 - INFO -           feature  importance\n",
      "2        latitude    0.574046\n",
      "1       longitude    0.312826\n",
      "0  radar_rainfall    0.113128\n",
      "2024-08-22 19:46:10,851 - INFO - Processing fold 8\n"
     ]
    },
    {
     "name": "stdout",
     "output_type": "stream",
     "text": [
      "Fitting 20 folds for each of 108 candidates, totalling 2160 fits\n"
     ]
    },
    {
     "name": "stderr",
     "output_type": "stream",
     "text": [
      "2024-08-22 19:46:41,112 - INFO - Best parameters found: {'max_depth': 10, 'min_samples_leaf': 4, 'min_samples_split': 10, 'n_estimators': 100}\n",
      "2024-08-22 19:46:41,113 - INFO - Best cross-validation score: -0.2374535286592482\n",
      "2024-08-22 19:46:41,125 - INFO - Feature Importance:\n",
      "2024-08-22 19:46:41,126 - INFO -           feature  importance\n",
      "2        latitude    0.541178\n",
      "1       longitude    0.302255\n",
      "0  radar_rainfall    0.156567\n",
      "2024-08-22 19:46:41,129 - INFO - Processing fold 9\n"
     ]
    },
    {
     "name": "stdout",
     "output_type": "stream",
     "text": [
      "Fitting 20 folds for each of 108 candidates, totalling 2160 fits\n"
     ]
    },
    {
     "name": "stderr",
     "output_type": "stream",
     "text": [
      "2024-08-22 19:47:11,631 - INFO - Best parameters found: {'max_depth': 10, 'min_samples_leaf': 1, 'min_samples_split': 10, 'n_estimators': 50}\n",
      "2024-08-22 19:47:11,632 - INFO - Best cross-validation score: 0.23415123007143923\n",
      "2024-08-22 19:47:11,639 - INFO - Feature Importance:\n",
      "2024-08-22 19:47:11,640 - INFO -           feature  importance\n",
      "2        latitude    0.459005\n",
      "1       longitude    0.349840\n",
      "0  radar_rainfall    0.191155\n",
      "2024-08-22 19:47:11,644 - INFO - Processing fold 10\n"
     ]
    },
    {
     "name": "stdout",
     "output_type": "stream",
     "text": [
      "Fitting 20 folds for each of 108 candidates, totalling 2160 fits\n"
     ]
    },
    {
     "name": "stderr",
     "output_type": "stream",
     "text": [
      "2024-08-22 19:47:41,986 - INFO - Best parameters found: {'max_depth': 10, 'min_samples_leaf': 1, 'min_samples_split': 10, 'n_estimators': 200}\n",
      "2024-08-22 19:47:41,986 - INFO - Best cross-validation score: -0.2516585443006861\n",
      "2024-08-22 19:47:42,009 - INFO - Feature Importance:\n",
      "2024-08-22 19:47:42,009 - INFO -           feature  importance\n",
      "2        latitude    0.472682\n",
      "1       longitude    0.345936\n",
      "0  radar_rainfall    0.181383\n",
      "2024-08-22 19:47:42,013 - INFO - Processing fold 11\n"
     ]
    },
    {
     "name": "stdout",
     "output_type": "stream",
     "text": [
      "Fitting 20 folds for each of 108 candidates, totalling 2160 fits\n"
     ]
    },
    {
     "name": "stderr",
     "output_type": "stream",
     "text": [
      "2024-08-22 19:48:12,557 - INFO - Best parameters found: {'max_depth': None, 'min_samples_leaf': 4, 'min_samples_split': 10, 'n_estimators': 200}\n",
      "2024-08-22 19:48:12,557 - INFO - Best cross-validation score: -0.10822010300194304\n",
      "2024-08-22 19:48:12,581 - INFO - Feature Importance:\n",
      "2024-08-22 19:48:12,581 - INFO -           feature  importance\n",
      "2        latitude    0.463842\n",
      "1       longitude    0.328224\n",
      "0  radar_rainfall    0.207933\n",
      "2024-08-22 19:48:12,585 - INFO - Processing fold 12\n"
     ]
    },
    {
     "name": "stdout",
     "output_type": "stream",
     "text": [
      "Fitting 20 folds for each of 108 candidates, totalling 2160 fits\n"
     ]
    },
    {
     "name": "stderr",
     "output_type": "stream",
     "text": [
      "2024-08-22 19:48:42,828 - INFO - Best parameters found: {'max_depth': None, 'min_samples_leaf': 4, 'min_samples_split': 10, 'n_estimators': 50}\n",
      "2024-08-22 19:48:42,828 - INFO - Best cross-validation score: -0.036042937837967456\n",
      "2024-08-22 19:48:42,836 - INFO - Feature Importance:\n",
      "2024-08-22 19:48:42,837 - INFO -           feature  importance\n",
      "2        latitude    0.505913\n",
      "1       longitude    0.280431\n",
      "0  radar_rainfall    0.213656\n",
      "2024-08-22 19:48:42,841 - INFO - Processing fold 13\n"
     ]
    },
    {
     "name": "stdout",
     "output_type": "stream",
     "text": [
      "Fitting 20 folds for each of 108 candidates, totalling 2160 fits\n"
     ]
    },
    {
     "name": "stderr",
     "output_type": "stream",
     "text": [
      "2024-08-22 19:49:13,094 - INFO - Best parameters found: {'max_depth': None, 'min_samples_leaf': 4, 'min_samples_split': 10, 'n_estimators': 200}\n",
      "2024-08-22 19:49:13,095 - INFO - Best cross-validation score: 0.0481188158697242\n",
      "2024-08-22 19:49:13,117 - INFO - Feature Importance:\n",
      "2024-08-22 19:49:13,118 - INFO -           feature  importance\n",
      "2        latitude    0.473181\n",
      "1       longitude    0.335002\n",
      "0  radar_rainfall    0.191817\n",
      "2024-08-22 19:49:13,122 - INFO - Processing fold 14\n"
     ]
    },
    {
     "name": "stdout",
     "output_type": "stream",
     "text": [
      "Fitting 20 folds for each of 108 candidates, totalling 2160 fits\n"
     ]
    },
    {
     "name": "stderr",
     "output_type": "stream",
     "text": [
      "2024-08-22 19:49:43,468 - INFO - Best parameters found: {'max_depth': None, 'min_samples_leaf': 4, 'min_samples_split': 10, 'n_estimators': 100}\n",
      "2024-08-22 19:49:43,468 - INFO - Best cross-validation score: -0.06244597241046077\n",
      "2024-08-22 19:49:43,480 - INFO - Feature Importance:\n",
      "2024-08-22 19:49:43,481 - INFO -           feature  importance\n",
      "2        latitude    0.479026\n",
      "1       longitude    0.400922\n",
      "0  radar_rainfall    0.120052\n",
      "2024-08-22 19:49:43,484 - INFO - Processing fold 15\n"
     ]
    },
    {
     "name": "stdout",
     "output_type": "stream",
     "text": [
      "Fitting 20 folds for each of 108 candidates, totalling 2160 fits\n"
     ]
    },
    {
     "name": "stderr",
     "output_type": "stream",
     "text": [
      "2024-08-22 19:50:13,675 - INFO - Best parameters found: {'max_depth': None, 'min_samples_leaf': 2, 'min_samples_split': 10, 'n_estimators': 100}\n",
      "2024-08-22 19:50:13,675 - INFO - Best cross-validation score: 0.09998605956381552\n",
      "2024-08-22 19:50:13,688 - INFO - Feature Importance:\n",
      "2024-08-22 19:50:13,689 - INFO -           feature  importance\n",
      "2        latitude    0.440125\n",
      "1       longitude    0.344781\n",
      "0  radar_rainfall    0.215094\n",
      "2024-08-22 19:50:13,692 - INFO - Processing fold 16\n"
     ]
    },
    {
     "name": "stdout",
     "output_type": "stream",
     "text": [
      "Fitting 20 folds for each of 108 candidates, totalling 2160 fits\n"
     ]
    },
    {
     "name": "stderr",
     "output_type": "stream",
     "text": [
      "2024-08-22 19:50:44,426 - INFO - Best parameters found: {'max_depth': None, 'min_samples_leaf': 2, 'min_samples_split': 10, 'n_estimators': 200}\n",
      "2024-08-22 19:50:44,426 - INFO - Best cross-validation score: 0.029333944327990347\n",
      "2024-08-22 19:50:44,451 - INFO - Feature Importance:\n",
      "2024-08-22 19:50:44,451 - INFO -           feature  importance\n",
      "2        latitude    0.449895\n",
      "1       longitude    0.389939\n",
      "0  radar_rainfall    0.160166\n",
      "2024-08-22 19:50:44,455 - INFO - Processing fold 17\n"
     ]
    },
    {
     "name": "stdout",
     "output_type": "stream",
     "text": [
      "Fitting 20 folds for each of 108 candidates, totalling 2160 fits\n"
     ]
    },
    {
     "name": "stderr",
     "output_type": "stream",
     "text": [
      "2024-08-22 19:51:14,736 - INFO - Best parameters found: {'max_depth': None, 'min_samples_leaf': 4, 'min_samples_split': 10, 'n_estimators': 200}\n",
      "2024-08-22 19:51:14,737 - INFO - Best cross-validation score: -0.00595838502023458\n",
      "2024-08-22 19:51:14,760 - INFO - Feature Importance:\n",
      "2024-08-22 19:51:14,760 - INFO -           feature  importance\n",
      "2        latitude    0.489256\n",
      "1       longitude    0.317488\n",
      "0  radar_rainfall    0.193255\n",
      "2024-08-22 19:51:14,764 - INFO - Processing fold 18\n"
     ]
    },
    {
     "name": "stdout",
     "output_type": "stream",
     "text": [
      "Fitting 20 folds for each of 108 candidates, totalling 2160 fits\n"
     ]
    },
    {
     "name": "stderr",
     "output_type": "stream",
     "text": [
      "2024-08-22 19:51:44,903 - INFO - Best parameters found: {'max_depth': None, 'min_samples_leaf': 1, 'min_samples_split': 10, 'n_estimators': 100}\n",
      "2024-08-22 19:51:44,903 - INFO - Best cross-validation score: -0.152685463775306\n",
      "2024-08-22 19:51:44,916 - INFO - Feature Importance:\n",
      "2024-08-22 19:51:44,917 - INFO -           feature  importance\n",
      "2        latitude    0.458343\n",
      "1       longitude    0.354777\n",
      "0  radar_rainfall    0.186880\n",
      "2024-08-22 19:51:44,920 - INFO - Processing fold 19\n"
     ]
    },
    {
     "name": "stdout",
     "output_type": "stream",
     "text": [
      "Fitting 20 folds for each of 108 candidates, totalling 2160 fits\n"
     ]
    },
    {
     "name": "stderr",
     "output_type": "stream",
     "text": [
      "2024-08-22 19:52:15,122 - INFO - Best parameters found: {'max_depth': None, 'min_samples_leaf': 2, 'min_samples_split': 10, 'n_estimators': 50}\n",
      "2024-08-22 19:52:15,122 - INFO - Best cross-validation score: -0.258232104573153\n",
      "2024-08-22 19:52:15,130 - INFO - Feature Importance:\n",
      "2024-08-22 19:52:15,130 - INFO -           feature  importance\n",
      "1       longitude    0.465091\n",
      "2        latitude    0.350440\n",
      "0  radar_rainfall    0.184470\n",
      "2024-08-22 19:52:15,134 - INFO - Processing fold 20\n"
     ]
    },
    {
     "name": "stdout",
     "output_type": "stream",
     "text": [
      "Fitting 20 folds for each of 108 candidates, totalling 2160 fits\n"
     ]
    },
    {
     "name": "stderr",
     "output_type": "stream",
     "text": [
      "2024-08-22 19:52:45,505 - INFO - Best parameters found: {'max_depth': None, 'min_samples_leaf': 2, 'min_samples_split': 10, 'n_estimators': 200}\n",
      "2024-08-22 19:52:45,505 - INFO - Best cross-validation score: -0.19747097590643256\n",
      "2024-08-22 19:52:45,528 - INFO - Feature Importance:\n",
      "2024-08-22 19:52:45,529 - INFO -           feature  importance\n",
      "2        latitude    0.431029\n",
      "1       longitude    0.370082\n",
      "0  radar_rainfall    0.198889\n",
      "2024-08-22 19:52:45,532 - INFO - Best model found in fold 11 with R2 score: 0.5664314700747728\n",
      "2024-08-22 19:52:45,579 - INFO - Best model saved to ../3output/0models/rf_model_best.joblib\n",
      "2024-08-22 19:52:45,580 - INFO - Model training and saving completed.\n"
     ]
    },
    {
     "name": "stdout",
     "output_type": "stream",
     "text": [
      "\n",
      "Average Metrics Across Folds:\n",
      "\n",
      "Original Method:\n",
      "MBE: -14.3464\n",
      "MAE: 36.7990\n",
      "RMSE: 52.1148\n",
      "PBIAS: -28.4801\n",
      "NSE: -0.3836\n",
      "R: 0.2496\n",
      "\n",
      "Rf Method:\n",
      "MBE: -0.6356\n",
      "MAE: 24.1327\n",
      "RMSE: 35.5751\n",
      "PBIAS: -0.6833\n",
      "NSE: 0.3530\n",
      "R: 0.6294\n",
      "\n",
      "Average MFB (Train): 1.4102\n",
      "Average MFB (Test Original): 1.4323\n",
      "Average MFB (Test Random Forest): 1.0162\n"
     ]
    }
   ],
   "source": [
    "import pandas as pd\n",
    "import numpy as np\n",
    "import os\n",
    "from glob import glob\n",
    "from tqdm import tqdm\n",
    "import rasterio\n",
    "import logging\n",
    "from sklearn.model_selection import GridSearchCV\n",
    "from sklearn.ensemble import RandomForestRegressor\n",
    "from sklearn.metrics import r2_score\n",
    "import joblib\n",
    "\n",
    "# Set up logging\n",
    "logging.basicConfig(level=logging.INFO, format='%(asctime)s - %(levelname)s - %(message)s')\n",
    "# Function to calculate evaluation metrics\n",
    "def calculate_metrics(observed, predicted):\n",
    "    metrics = {}\n",
    "    metrics['MBE'] = np.mean(predicted - observed)\n",
    "    metrics['MAE'] = np.mean(np.abs(predicted - observed))\n",
    "    metrics['RMSE'] = np.sqrt(np.mean((predicted - observed)**2))\n",
    "    metrics['PBIAS'] = 100 * np.sum(predicted - observed) / np.sum(observed) if np.sum(observed) != 0 else np.nan\n",
    "    metrics['NSE'] = 1 - (np.sum((observed - predicted)**2) / np.sum((observed - np.mean(observed))**2)) if np.sum((observed - np.mean(observed))**2) != 0 else np.nan\n",
    "    metrics['R'] = np.corrcoef(observed, predicted)[0, 1] if np.std(observed) != 0 and np.std(predicted) != 0 else np.nan\n",
    "    return metrics\n",
    "\n",
    "def calculate_total_radar_rainfall(radar_dir):\n",
    "    radar_files = glob(os.path.join(radar_dir, '*.tif'))\n",
    "    total_rainfall = None\n",
    "    transform = None\n",
    "    \n",
    "    for file in tqdm(radar_files, desc=\"Processing radar files\"):\n",
    "        with rasterio.open(file) as src:\n",
    "            radar_data = src.read(1)  # Read the first band\n",
    "            if total_rainfall is None:\n",
    "                total_rainfall = radar_data\n",
    "                transform = src.transform\n",
    "            else:\n",
    "                total_rainfall += radar_data\n",
    "    \n",
    "    return total_rainfall, transform\n",
    "\n",
    "def extract_radar_rainfall(lon, lat, total_rainfall, transform, window_size=3):\n",
    "    row, col = rasterio.transform.rowcol(transform, lon, lat)\n",
    "    half_window = window_size // 2\n",
    "    window = total_rainfall[max(0, row-half_window):row+half_window+1, \n",
    "                            max(0, col-half_window):col+half_window+1]\n",
    "    return np.nanmean(window)\n",
    "\n",
    "# Function to calculate MFB\n",
    "def calculate_mfb(observed, predicted):\n",
    "    return np.sum(observed) / np.sum(predicted)\n",
    "\n",
    "def optimize_random_forest(train_df, test_df):\n",
    "    features = ['radar_rainfall', 'longitude', 'latitude']\n",
    "    X_train = train_df[features]\n",
    "    y_train = train_df['rain']\n",
    "    X_test = test_df[features]\n",
    "    \n",
    "    param_grid = {\n",
    "        'n_estimators': [50, 100, 200],\n",
    "        'max_depth': [None, 10, 20, 30],\n",
    "        'min_samples_split': [2, 5, 10],\n",
    "        'min_samples_leaf': [1, 2, 4]\n",
    "    }\n",
    "    \n",
    "    rf = RandomForestRegressor(random_state=42)\n",
    "    grid_search = GridSearchCV(estimator=rf, param_grid=param_grid, \n",
    "                               cv=20, n_jobs=-1, verbose=2, scoring='r2') #cv=20\n",
    "    \n",
    "    grid_search.fit(X_train, y_train)\n",
    "    \n",
    "    logging.info(f\"Best parameters found: {grid_search.best_params_}\")\n",
    "    logging.info(f\"Best cross-validation score: {grid_search.best_score_}\")\n",
    "    \n",
    "    best_model = grid_search.best_estimator_\n",
    "    y_pred = best_model.predict(X_test)\n",
    "    \n",
    "    feature_importance = pd.DataFrame({'feature': features, 'importance': best_model.feature_importances_})\n",
    "    feature_importance = feature_importance.sort_values('importance', ascending=False)\n",
    "    logging.info(\"Feature Importance:\")\n",
    "    logging.info(feature_importance)\n",
    "    \n",
    "    return y_pred, best_model\n",
    "\n",
    "def process_fold(fold):    \n",
    "    logging.info(f\"Processing fold {fold}\")\n",
    "    \n",
    "    train_df = pd.read_csv(f'./train_test_validate/train_split_{fold}.csv')\n",
    "    test_df = pd.read_csv(f'./train_test_validate/test_split_{fold}.csv')\n",
    "    \n",
    "    # Original (no correction)\n",
    "    mfb_train = calculate_mfb(train_df['rain'], train_df['radar_rainfall'])\n",
    "    mfb_test = calculate_mfb(test_df['rain'], test_df['radar_rainfall'])\n",
    "    metrics_original = calculate_metrics(test_df['rain'], test_df['radar_rainfall'])\n",
    "    \n",
    "    # Optimized Random Forest bias correction\n",
    "    test_df['radar_rainfall_rf'], best_model = optimize_random_forest(train_df, test_df)\n",
    "    mfb_test_rf = calculate_mfb(test_df['rain'], test_df['radar_rainfall_rf'])\n",
    "    metrics_rf = calculate_metrics(test_df['rain'], test_df['radar_rainfall_rf'])\n",
    "    \n",
    "    # Calculate R2 score for Random Forest\n",
    "    r2_rf = r2_score(test_df['rain'], test_df['radar_rainfall_rf'])\n",
    "    \n",
    "    return {\n",
    "        'fold': fold,\n",
    "        'mfb_train': mfb_train,\n",
    "        'mfb_test': mfb_test,\n",
    "        'mfb_test_rf': mfb_test_rf,\n",
    "        'metrics_original': metrics_original,\n",
    "        'metrics_rf': metrics_rf,\n",
    "        'r2_score_rf': r2_rf,  # Add R2 score to the results\n",
    "        'test_data': test_df,\n",
    "        'best_model': best_model\n",
    "    }\n",
    "\n",
    "# Function to print results\n",
    "def print_results(results):\n",
    "    methods = ['original', 'rf']  # Changed to match the keys in the results dictionary\n",
    "    print(\"\\nAverage Metrics Across Folds:\")\n",
    "    for method in methods:\n",
    "        print(f\"\\n{method.capitalize()} Method:\")\n",
    "        for metric in results[0][f'metrics_{method}'].keys():\n",
    "            avg_metric = np.mean([r[f'metrics_{method}'][metric] for r in results])\n",
    "            print(f\"{metric}: {avg_metric:.4f}\")\n",
    "    \n",
    "    print(f\"\\nAverage MFB (Train): {np.mean([r['mfb_train'] for r in results]):.4f}\")\n",
    "    print(f\"Average MFB (Test Original): {np.mean([r['mfb_test'] for r in results]):.4f}\")\n",
    "    print(f\"Average MFB (Test Random Forest): {np.mean([r['mfb_test_rf'] for r in results]):.4f}\")\n",
    "\n",
    "if __name__ == \"__main__\":\n",
    "    # Paths\n",
    "    #radar_dir = r'D:\\1Yang\\0Research\\0_2566_radar_mosaic\\00mos_chaophraya\\00run_batch_acchr_codes\\2output\\0Hourly\\0Sontihn_RF\\0CBB_Pulse\\0output_mosaic'\n",
    "    #train_dir = './train_test_validate/'\n",
    "    #test_dir = './train_test_validate/'\n",
    "    model_save_path = '../3output/0models/rf_model_best.joblib'\n",
    "\n",
    "    # Ensure the model save directory exists\n",
    "    os.makedirs(os.path.dirname(model_save_path), exist_ok=True)\n",
    "\n",
    "    # Calculate total radar rainfall\n",
    "    logging.info(\"Calculating total radar rainfall...\")\n",
    "    #total_radar_rainfall, radar_transform = calculate_total_radar_rainfall(radar_dir)\n",
    "\n",
    "    # Process all 20 folds\n",
    "    results = []\n",
    "    for fold in range(1, 21):\n",
    "        result = process_fold(fold)\n",
    "        results.append(result)\n",
    "\n",
    "    # Find the best model based on R2 score\n",
    "    best_result = max(results, key=lambda x: x['r2_score_rf'])\n",
    "    best_model = best_result['best_model']\n",
    "    best_fold = best_result['fold']\n",
    "\n",
    "    logging.info(f\"Best model found in fold {best_fold} with R2 score: {best_result['r2_score_rf']}\")\n",
    "\n",
    "    # Save the best model\n",
    "    joblib.dump(best_model, model_save_path)\n",
    "    logging.info(f\"Best model saved to {model_save_path}\")\n",
    "\n",
    "    logging.info(\"Model training and saving completed.\")\n",
    "\n",
    "    # Print results\n",
    "    print_results(results)"
   ]
  },
  {
   "cell_type": "code",
   "execution_count": 2,
   "id": "dedd5246-d77a-49d5-98ac-482d4aa9e930",
   "metadata": {},
   "outputs": [
    {
     "data": {
      "text/plain": [
       "'\\n# ต้นแบบ แต่ใช้ file split train/test ไฟล์เดียว\\n# สร้างแบบจำลอง RF แล้วเซฟเพื่อนำมาใช้ปรับแก้ สมบูรณ์\\nimport pandas as pd\\nimport numpy as np\\nimport os\\nfrom glob import glob\\nfrom tqdm import tqdm\\nimport rasterio\\nimport logging\\nfrom sklearn.model_selection import GridSearchCV\\nfrom sklearn.ensemble import RandomForestRegressor\\nimport joblib\\n\\n# Set up logging\\nlogging.basicConfig(level=logging.INFO, format=\\'%(asctime)s - %(levelname)s - %(message)s\\')\\n\\ndef calculate_total_radar_rainfall(radar_dir):\\n    radar_files = glob(os.path.join(radar_dir, \\'*.tif\\'))\\n    total_rainfall = None\\n    transform = None\\n    \\n    for file in tqdm(radar_files, desc=\"Processing radar files\"):\\n        with rasterio.open(file) as src:\\n            radar_data = src.read(1)  # Read the first band\\n            if total_rainfall is None:\\n                total_rainfall = radar_data\\n                transform = src.transform\\n            else:\\n                total_rainfall += radar_data\\n    \\n    return total_rainfall, transform\\n\\ndef extract_radar_rainfall(lon, lat, total_rainfall, transform, window_size=3):\\n    row, col = rasterio.transform.rowcol(transform, lon, lat)\\n    half_window = window_size // 2\\n    window = total_rainfall[max(0, row-half_window):row+half_window+1, \\n                            max(0, col-half_window):col+half_window+1]\\n    return np.nanmean(window)\\n\\ndef optimize_random_forest(train_df, test_df, model_save_path):\\n    # Prepare features\\n    features = [\\'radar_rainfall\\', \\'longitude\\', \\'latitude\\']\\n    X_train = train_df[features]\\n    y_train = train_df[\\'sum_rain_event\\']\\n    X_test = test_df[features]\\n    \\n    # Define parameter grid\\n    param_grid = {\\n        \\'n_estimators\\': [50, 100, 200],\\n        \\'max_depth\\': [None, 10, 20, 30],\\n        \\'min_samples_split\\': [2, 5, 10],\\n        \\'min_samples_leaf\\': [1, 2, 4]\\n    }\\n    \\n    # Create a base model\\n    rf = RandomForestRegressor(random_state=42)\\n    \\n    # Instantiate the grid search model\\n    grid_search = GridSearchCV(estimator=rf, param_grid=param_grid, \\n                               cv=20, n_jobs=-1, verbose=2, scoring=\\'r2\\') # cv=20\\n    \\n    # Fit the grid search to the data\\n    grid_search.fit(X_train, y_train)\\n    \\n    # Print the best parameters\\n    logging.info(f\"Best parameters found: {grid_search.best_params_}\")\\n    logging.info(f\"Best cross-validation score: {grid_search.best_score_}\")\\n    \\n    # Use the best model to predict\\n    best_model = grid_search.best_estimator_\\n    y_pred = best_model.predict(X_test)\\n    \\n    # Feature importance\\n    feature_importance = pd.DataFrame({\\'feature\\': features, \\'importance\\': best_model.feature_importances_})\\n    feature_importance = feature_importance.sort_values(\\'importance\\', ascending=False)\\n    logging.info(\"Feature Importance:\")\\n    logging.info(feature_importance)\\n    \\n    # Save the model\\n    joblib.dump(best_model, model_save_path)\\n    logging.info(f\"Model saved to {model_save_path}\")\\n    \\n    return y_pred, best_model\\n\\nif __name__ == \"__main__\":\\n    # Paths\\n    radar_dir = r\\'D:\\x01Yang\\x00Research\\x00_2566_radar_mosaic\\x00mos_chaophraya\\x00run_batch_acchr_codes\\x02output\\x00Hourly\\x00Sontihn_RF\\x00CBB_Pulse\\x00output_mosaic\\'\\n    train_data_path = \\'../1data/3Gauges/cross_val_sum_total_event_rain/train_split_kfolds/train_split_1.csv\\'\\n    test_data_path = \\'../1data/3Gauges/cross_val_sum_total_event_rain/train_split_kfolds/test_split_1.csv\\'\\n    model_save_path = \\'../4output/0models/rf_model_best.joblib\\'\\n\\n    # Ensure the model save directory exists\\n    os.makedirs(os.path.dirname(model_save_path), exist_ok=True)\\n\\n    # Calculate total radar rainfall\\n    logging.info(\"Calculating total radar rainfall...\")\\n    total_radar_rainfall, radar_transform = calculate_total_radar_rainfall(radar_dir)\\n\\n    # Load train and test data\\n    logging.info(\"Loading train and test data...\")\\n    train_df = pd.read_csv(train_data_path)\\n    test_df = pd.read_csv(test_data_path)\\n\\n    # Extract radar rainfall for each station\\n    logging.info(\"Extracting radar rainfall for each station...\")\\n    train_df[\\'radar_rainfall\\'] = train_df.apply(lambda row: extract_radar_rainfall(row[\\'longitude\\'], row[\\'latitude\\'], total_radar_rainfall, radar_transform), axis=1)\\n    test_df[\\'radar_rainfall\\'] = test_df.apply(lambda row: extract_radar_rainfall(row[\\'longitude\\'], row[\\'latitude\\'], total_radar_rainfall, radar_transform), axis=1)\\n\\n    # Train and save the model\\n    logging.info(\"Training and saving the Random Forest model...\")\\n    _, _ = optimize_random_forest(train_df, test_df, model_save_path)\\n\\n    logging.info(\"Model training and saving completed.\")\\n'"
      ]
     },
     "execution_count": 2,
     "metadata": {},
     "output_type": "execute_result"
    }
   ],
   "source": [
    "'''\n",
    "# ต้นแบบ แต่ใช้ file split train/test ไฟล์เดียว\n",
    "# สร้างแบบจำลอง RF แล้วเซฟเพื่อนำมาใช้ปรับแก้ สมบูรณ์\n",
    "import pandas as pd\n",
    "import numpy as np\n",
    "import os\n",
    "from glob import glob\n",
    "from tqdm import tqdm\n",
    "import rasterio\n",
    "import logging\n",
    "from sklearn.model_selection import GridSearchCV\n",
    "from sklearn.ensemble import RandomForestRegressor\n",
    "import joblib\n",
    "\n",
    "# Set up logging\n",
    "logging.basicConfig(level=logging.INFO, format='%(asctime)s - %(levelname)s - %(message)s')\n",
    "\n",
    "def calculate_total_radar_rainfall(radar_dir):\n",
    "    radar_files = glob(os.path.join(radar_dir, '*.tif'))\n",
    "    total_rainfall = None\n",
    "    transform = None\n",
    "    \n",
    "    for file in tqdm(radar_files, desc=\"Processing radar files\"):\n",
    "        with rasterio.open(file) as src:\n",
    "            radar_data = src.read(1)  # Read the first band\n",
    "            if total_rainfall is None:\n",
    "                total_rainfall = radar_data\n",
    "                transform = src.transform\n",
    "            else:\n",
    "                total_rainfall += radar_data\n",
    "    \n",
    "    return total_rainfall, transform\n",
    "\n",
    "def extract_radar_rainfall(lon, lat, total_rainfall, transform, window_size=3):\n",
    "    row, col = rasterio.transform.rowcol(transform, lon, lat)\n",
    "    half_window = window_size // 2\n",
    "    window = total_rainfall[max(0, row-half_window):row+half_window+1, \n",
    "                            max(0, col-half_window):col+half_window+1]\n",
    "    return np.nanmean(window)\n",
    "\n",
    "def optimize_random_forest(train_df, test_df, model_save_path):\n",
    "    # Prepare features\n",
    "    features = ['radar_rainfall', 'longitude', 'latitude']\n",
    "    X_train = train_df[features]\n",
    "    y_train = train_df['sum_rain_event']\n",
    "    X_test = test_df[features]\n",
    "    \n",
    "    # Define parameter grid\n",
    "    param_grid = {\n",
    "        'n_estimators': [50, 100, 200],\n",
    "        'max_depth': [None, 10, 20, 30],\n",
    "        'min_samples_split': [2, 5, 10],\n",
    "        'min_samples_leaf': [1, 2, 4]\n",
    "    }\n",
    "    \n",
    "    # Create a base model\n",
    "    rf = RandomForestRegressor(random_state=42)\n",
    "    \n",
    "    # Instantiate the grid search model\n",
    "    grid_search = GridSearchCV(estimator=rf, param_grid=param_grid, \n",
    "                               cv=20, n_jobs=-1, verbose=2, scoring='r2') # cv=20\n",
    "    \n",
    "    # Fit the grid search to the data\n",
    "    grid_search.fit(X_train, y_train)\n",
    "    \n",
    "    # Print the best parameters\n",
    "    logging.info(f\"Best parameters found: {grid_search.best_params_}\")\n",
    "    logging.info(f\"Best cross-validation score: {grid_search.best_score_}\")\n",
    "    \n",
    "    # Use the best model to predict\n",
    "    best_model = grid_search.best_estimator_\n",
    "    y_pred = best_model.predict(X_test)\n",
    "    \n",
    "    # Feature importance\n",
    "    feature_importance = pd.DataFrame({'feature': features, 'importance': best_model.feature_importances_})\n",
    "    feature_importance = feature_importance.sort_values('importance', ascending=False)\n",
    "    logging.info(\"Feature Importance:\")\n",
    "    logging.info(feature_importance)\n",
    "    \n",
    "    # Save the model\n",
    "    joblib.dump(best_model, model_save_path)\n",
    "    logging.info(f\"Model saved to {model_save_path}\")\n",
    "    \n",
    "    return y_pred, best_model\n",
    "\n",
    "if __name__ == \"__main__\":\n",
    "    # Paths\n",
    "    radar_dir = r'D:\\1Yang\\0Research\\0_2566_radar_mosaic\\00mos_chaophraya\\00run_batch_acchr_codes\\2output\\0Hourly\\0Sontihn_RF\\0CBB_Pulse\\0output_mosaic'\n",
    "    train_data_path = '../1data/3Gauges/cross_val_sum_total_event_rain/train_split_kfolds/train_split_1.csv'\n",
    "    test_data_path = '../1data/3Gauges/cross_val_sum_total_event_rain/train_split_kfolds/test_split_1.csv'\n",
    "    model_save_path = '../4output/0models/rf_model_best.joblib'\n",
    "\n",
    "    # Ensure the model save directory exists\n",
    "    os.makedirs(os.path.dirname(model_save_path), exist_ok=True)\n",
    "\n",
    "    # Calculate total radar rainfall\n",
    "    logging.info(\"Calculating total radar rainfall...\")\n",
    "    total_radar_rainfall, radar_transform = calculate_total_radar_rainfall(radar_dir)\n",
    "\n",
    "    # Load train and test data\n",
    "    logging.info(\"Loading train and test data...\")\n",
    "    train_df = pd.read_csv(train_data_path)\n",
    "    test_df = pd.read_csv(test_data_path)\n",
    "\n",
    "    # Extract radar rainfall for each station\n",
    "    logging.info(\"Extracting radar rainfall for each station...\")\n",
    "    train_df['radar_rainfall'] = train_df.apply(lambda row: extract_radar_rainfall(row['longitude'], row['latitude'], total_radar_rainfall, radar_transform), axis=1)\n",
    "    test_df['radar_rainfall'] = test_df.apply(lambda row: extract_radar_rainfall(row['longitude'], row['latitude'], total_radar_rainfall, radar_transform), axis=1)\n",
    "\n",
    "    # Train and save the model\n",
    "    logging.info(\"Training and saving the Random Forest model...\")\n",
    "    _, _ = optimize_random_forest(train_df, test_df, model_save_path)\n",
    "\n",
    "    logging.info(\"Model training and saving completed.\")\n",
    "'''"
   ]
  },
  {
   "cell_type": "markdown",
   "id": "ae90c3a1-ef7d-4c5f-a095-f8623244174e",
   "metadata": {},
   "source": [
    "## โค้ดเรียกใช้แบบจำลอง RF เพื่อปรับแก้ฝนเรดาร์รายชั่วโมง รันปรับแก้ทั้งโฟลเดอร์ perfect!!!"
   ]
  },
  {
   "cell_type": "code",
   "execution_count": null,
   "id": "4e45b823-c5ea-4d93-b7d1-99ecd5a45d84",
   "metadata": {},
   "outputs": [
    {
     "name": "stdout",
     "output_type": "stream",
     "text": [
      "Script started\n",
      "Loading model and scaler\n",
      "Model and scaler loaded successfully\n",
      "Model n_features_in_: 3\n",
      "Scaler n_features_in_: 3\n",
      "Importance of rainfall: 0.20793344664295807\n",
      "Importance of longitude: 0.32822411945752383\n",
      "Importance of latitude: 0.46384243389951796\n",
      "Found 235 .tif files\n",
      "\n",
      "Processing files with mean imputation strategy\n"
     ]
    },
    {
     "name": "stderr",
     "output_type": "stream",
     "text": [
      "  0%|                                                                                          | 0/235 [00:00<?, ?it/s]"
     ]
    },
    {
     "name": "stdout",
     "output_type": "stream",
     "text": [
      "\n",
      "Processing file: D:\\1Yang\\0Research\\0_2566_radar_mosaic\\00mos_chaophraya\\00run_batch_acchr_codes\\2output\\0Hourly\\0Sontihn_RF\\0CBB_Pulse\\0output_mosaic\\2018071507_2000m.tif\n",
      "Warning: CRS not defined for D:\\1Yang\\0Research\\0_2566_radar_mosaic\\00mos_chaophraya\\00run_batch_acchr_codes\\2output\\0Hourly\\0Sontihn_RF\\0CBB_Pulse\\0output_mosaic\\2018071507_2000m.tif. Using WGS84 as default.\n",
      "Features shape: (250000, 3)\n",
      "NaN values before imputation: 114311\n",
      "NaN values after imputation: 114311\n"
     ]
    },
    {
     "name": "stderr",
     "output_type": "stream",
     "text": [
      "C:\\Users\\Admin\\anaconda3\\envs\\mossf\\lib\\site-packages\\sklearn\\base.py:493: FutureWarning: The feature names should match those that were passed during fit. Starting version 1.2, an error will be raised.\n",
      "Feature names unseen at fit time:\n",
      "- rainfall\n",
      "Feature names seen at fit time, yet now missing:\n",
      "- radar_rainfall\n",
      "\n",
      "  warnings.warn(message, FutureWarning)\n"
     ]
    },
    {
     "name": "stdout",
     "output_type": "stream",
     "text": [
      "Original data - Mean: 0.01, Max: 4.38\n",
      "Corrected data - Mean: 0.19, Max: 17.07\n"
     ]
    },
    {
     "name": "stderr",
     "output_type": "stream",
     "text": [
      "  0%|▎                                                                                 | 1/235 [00:04<17:40,  4.53s/it]C:\\Users\\Admin\\anaconda3\\envs\\mossf\\lib\\site-packages\\sklearn\\base.py:493: FutureWarning: The feature names should match those that were passed during fit. Starting version 1.2, an error will be raised.\n",
      "Feature names unseen at fit time:\n",
      "- rainfall\n",
      "Feature names seen at fit time, yet now missing:\n",
      "- radar_rainfall\n",
      "\n",
      "  warnings.warn(message, FutureWarning)\n"
     ]
    },
    {
     "name": "stdout",
     "output_type": "stream",
     "text": [
      "\n",
      "Processing file: D:\\1Yang\\0Research\\0_2566_radar_mosaic\\00mos_chaophraya\\00run_batch_acchr_codes\\2output\\0Hourly\\0Sontihn_RF\\0CBB_Pulse\\0output_mosaic\\2018071508_2000m.tif\n",
      "Warning: CRS not defined for D:\\1Yang\\0Research\\0_2566_radar_mosaic\\00mos_chaophraya\\00run_batch_acchr_codes\\2output\\0Hourly\\0Sontihn_RF\\0CBB_Pulse\\0output_mosaic\\2018071508_2000m.tif. Using WGS84 as default.\n",
      "Features shape: (250000, 3)\n",
      "NaN values before imputation: 114385\n",
      "NaN values after imputation: 114385\n",
      "Original data - Mean: 0.01, Max: 6.54\n",
      "Corrected data - Mean: 0.22, Max: 17.22\n"
     ]
    },
    {
     "name": "stderr",
     "output_type": "stream",
     "text": [
      "  1%|▋                                                                                 | 2/235 [00:08<17:14,  4.44s/it]C:\\Users\\Admin\\anaconda3\\envs\\mossf\\lib\\site-packages\\sklearn\\base.py:493: FutureWarning: The feature names should match those that were passed during fit. Starting version 1.2, an error will be raised.\n",
      "Feature names unseen at fit time:\n",
      "- rainfall\n",
      "Feature names seen at fit time, yet now missing:\n",
      "- radar_rainfall\n",
      "\n",
      "  warnings.warn(message, FutureWarning)\n"
     ]
    },
    {
     "name": "stdout",
     "output_type": "stream",
     "text": [
      "\n",
      "Processing file: D:\\1Yang\\0Research\\0_2566_radar_mosaic\\00mos_chaophraya\\00run_batch_acchr_codes\\2output\\0Hourly\\0Sontihn_RF\\0CBB_Pulse\\0output_mosaic\\2018071509_2000m.tif\n",
      "Warning: CRS not defined for D:\\1Yang\\0Research\\0_2566_radar_mosaic\\00mos_chaophraya\\00run_batch_acchr_codes\\2output\\0Hourly\\0Sontihn_RF\\0CBB_Pulse\\0output_mosaic\\2018071509_2000m.tif. Using WGS84 as default.\n",
      "Features shape: (250000, 3)\n",
      "NaN values before imputation: 114284\n",
      "NaN values after imputation: 114284\n",
      "Original data - Mean: 0.01, Max: 3.88\n",
      "Corrected data - Mean: 0.21, Max: 14.83\n"
     ]
    },
    {
     "name": "stderr",
     "output_type": "stream",
     "text": [
      "  1%|█                                                                                 | 3/235 [00:13<17:09,  4.44s/it]C:\\Users\\Admin\\anaconda3\\envs\\mossf\\lib\\site-packages\\sklearn\\base.py:493: FutureWarning: The feature names should match those that were passed during fit. Starting version 1.2, an error will be raised.\n",
      "Feature names unseen at fit time:\n",
      "- rainfall\n",
      "Feature names seen at fit time, yet now missing:\n",
      "- radar_rainfall\n",
      "\n",
      "  warnings.warn(message, FutureWarning)\n"
     ]
    },
    {
     "name": "stdout",
     "output_type": "stream",
     "text": [
      "\n",
      "Processing file: D:\\1Yang\\0Research\\0_2566_radar_mosaic\\00mos_chaophraya\\00run_batch_acchr_codes\\2output\\0Hourly\\0Sontihn_RF\\0CBB_Pulse\\0output_mosaic\\2018071510_2000m.tif\n",
      "Warning: CRS not defined for D:\\1Yang\\0Research\\0_2566_radar_mosaic\\00mos_chaophraya\\00run_batch_acchr_codes\\2output\\0Hourly\\0Sontihn_RF\\0CBB_Pulse\\0output_mosaic\\2018071510_2000m.tif. Using WGS84 as default.\n",
      "Features shape: (250000, 3)\n",
      "NaN values before imputation: 114328\n",
      "NaN values after imputation: 114328\n",
      "Original data - Mean: 0.01, Max: 3.85\n",
      "Corrected data - Mean: 0.12, Max: 14.83\n"
     ]
    },
    {
     "name": "stderr",
     "output_type": "stream",
     "text": [
      "  2%|█▍                                                                                | 4/235 [00:17<17:17,  4.49s/it]C:\\Users\\Admin\\anaconda3\\envs\\mossf\\lib\\site-packages\\sklearn\\base.py:493: FutureWarning: The feature names should match those that were passed during fit. Starting version 1.2, an error will be raised.\n",
      "Feature names unseen at fit time:\n",
      "- rainfall\n",
      "Feature names seen at fit time, yet now missing:\n",
      "- radar_rainfall\n",
      "\n",
      "  warnings.warn(message, FutureWarning)\n"
     ]
    },
    {
     "name": "stdout",
     "output_type": "stream",
     "text": [
      "\n",
      "Processing file: D:\\1Yang\\0Research\\0_2566_radar_mosaic\\00mos_chaophraya\\00run_batch_acchr_codes\\2output\\0Hourly\\0Sontihn_RF\\0CBB_Pulse\\0output_mosaic\\2018071511_2000m.tif\n",
      "Warning: CRS not defined for D:\\1Yang\\0Research\\0_2566_radar_mosaic\\00mos_chaophraya\\00run_batch_acchr_codes\\2output\\0Hourly\\0Sontihn_RF\\0CBB_Pulse\\0output_mosaic\\2018071511_2000m.tif. Using WGS84 as default.\n",
      "Features shape: (250000, 3)\n",
      "NaN values before imputation: 114312\n",
      "NaN values after imputation: 114312\n",
      "Original data - Mean: 0.00, Max: 3.29\n",
      "Corrected data - Mean: 0.08, Max: 14.12\n"
     ]
    },
    {
     "name": "stderr",
     "output_type": "stream",
     "text": [
      "  2%|█▋                                                                                | 5/235 [00:22<17:07,  4.47s/it]C:\\Users\\Admin\\anaconda3\\envs\\mossf\\lib\\site-packages\\sklearn\\base.py:493: FutureWarning: The feature names should match those that were passed during fit. Starting version 1.2, an error will be raised.\n",
      "Feature names unseen at fit time:\n",
      "- rainfall\n",
      "Feature names seen at fit time, yet now missing:\n",
      "- radar_rainfall\n",
      "\n",
      "  warnings.warn(message, FutureWarning)\n"
     ]
    },
    {
     "name": "stdout",
     "output_type": "stream",
     "text": [
      "\n",
      "Processing file: D:\\1Yang\\0Research\\0_2566_radar_mosaic\\00mos_chaophraya\\00run_batch_acchr_codes\\2output\\0Hourly\\0Sontihn_RF\\0CBB_Pulse\\0output_mosaic\\2018071512_2000m.tif\n",
      "Warning: CRS not defined for D:\\1Yang\\0Research\\0_2566_radar_mosaic\\00mos_chaophraya\\00run_batch_acchr_codes\\2output\\0Hourly\\0Sontihn_RF\\0CBB_Pulse\\0output_mosaic\\2018071512_2000m.tif. Using WGS84 as default.\n",
      "Features shape: (250000, 3)\n",
      "NaN values before imputation: 114515\n",
      "NaN values after imputation: 114515\n",
      "Original data - Mean: 0.01, Max: 47.79\n",
      "Corrected data - Mean: 0.11, Max: 49.43\n"
     ]
    },
    {
     "name": "stderr",
     "output_type": "stream",
     "text": [
      "  3%|██                                                                                | 6/235 [00:26<16:56,  4.44s/it]C:\\Users\\Admin\\anaconda3\\envs\\mossf\\lib\\site-packages\\sklearn\\base.py:493: FutureWarning: The feature names should match those that were passed during fit. Starting version 1.2, an error will be raised.\n",
      "Feature names unseen at fit time:\n",
      "- rainfall\n",
      "Feature names seen at fit time, yet now missing:\n",
      "- radar_rainfall\n",
      "\n",
      "  warnings.warn(message, FutureWarning)\n"
     ]
    },
    {
     "name": "stdout",
     "output_type": "stream",
     "text": [
      "\n",
      "Processing file: D:\\1Yang\\0Research\\0_2566_radar_mosaic\\00mos_chaophraya\\00run_batch_acchr_codes\\2output\\0Hourly\\0Sontihn_RF\\0CBB_Pulse\\0output_mosaic\\2018071513_2000m.tif\n",
      "Warning: CRS not defined for D:\\1Yang\\0Research\\0_2566_radar_mosaic\\00mos_chaophraya\\00run_batch_acchr_codes\\2output\\0Hourly\\0Sontihn_RF\\0CBB_Pulse\\0output_mosaic\\2018071513_2000m.tif. Using WGS84 as default.\n",
      "Features shape: (250000, 3)\n",
      "NaN values before imputation: 114347\n",
      "NaN values after imputation: 114347\n",
      "Original data - Mean: 0.02, Max: 62.32\n",
      "Corrected data - Mean: 0.13, Max: 49.43\n"
     ]
    },
    {
     "name": "stderr",
     "output_type": "stream",
     "text": [
      "  3%|██▍                                                                               | 7/235 [00:31<16:55,  4.45s/it]C:\\Users\\Admin\\anaconda3\\envs\\mossf\\lib\\site-packages\\sklearn\\base.py:493: FutureWarning: The feature names should match those that were passed during fit. Starting version 1.2, an error will be raised.\n",
      "Feature names unseen at fit time:\n",
      "- rainfall\n",
      "Feature names seen at fit time, yet now missing:\n",
      "- radar_rainfall\n",
      "\n",
      "  warnings.warn(message, FutureWarning)\n"
     ]
    },
    {
     "name": "stdout",
     "output_type": "stream",
     "text": [
      "\n",
      "Processing file: D:\\1Yang\\0Research\\0_2566_radar_mosaic\\00mos_chaophraya\\00run_batch_acchr_codes\\2output\\0Hourly\\0Sontihn_RF\\0CBB_Pulse\\0output_mosaic\\2018071514_2000m.tif\n",
      "Warning: CRS not defined for D:\\1Yang\\0Research\\0_2566_radar_mosaic\\00mos_chaophraya\\00run_batch_acchr_codes\\2output\\0Hourly\\0Sontihn_RF\\0CBB_Pulse\\0output_mosaic\\2018071514_2000m.tif. Using WGS84 as default.\n",
      "Features shape: (250000, 3)\n",
      "NaN values before imputation: 114340\n",
      "NaN values after imputation: 114340\n",
      "Original data - Mean: 0.01, Max: 17.59\n",
      "Corrected data - Mean: 0.10, Max: 49.43\n"
     ]
    },
    {
     "name": "stderr",
     "output_type": "stream",
     "text": [
      "  3%|██▊                                                                               | 8/235 [00:35<16:55,  4.47s/it]C:\\Users\\Admin\\anaconda3\\envs\\mossf\\lib\\site-packages\\sklearn\\base.py:493: FutureWarning: The feature names should match those that were passed during fit. Starting version 1.2, an error will be raised.\n",
      "Feature names unseen at fit time:\n",
      "- rainfall\n",
      "Feature names seen at fit time, yet now missing:\n",
      "- radar_rainfall\n",
      "\n",
      "  warnings.warn(message, FutureWarning)\n"
     ]
    },
    {
     "name": "stdout",
     "output_type": "stream",
     "text": [
      "\n",
      "Processing file: D:\\1Yang\\0Research\\0_2566_radar_mosaic\\00mos_chaophraya\\00run_batch_acchr_codes\\2output\\0Hourly\\0Sontihn_RF\\0CBB_Pulse\\0output_mosaic\\2018071515_2000m.tif\n",
      "Warning: CRS not defined for D:\\1Yang\\0Research\\0_2566_radar_mosaic\\00mos_chaophraya\\00run_batch_acchr_codes\\2output\\0Hourly\\0Sontihn_RF\\0CBB_Pulse\\0output_mosaic\\2018071515_2000m.tif. Using WGS84 as default.\n",
      "Features shape: (250000, 3)\n",
      "NaN values before imputation: 114382\n",
      "NaN values after imputation: 114382\n",
      "Original data - Mean: 0.02, Max: 26.72\n",
      "Corrected data - Mean: 0.16, Max: 49.43\n"
     ]
    },
    {
     "name": "stderr",
     "output_type": "stream",
     "text": [
      "  4%|███▏                                                                              | 9/235 [00:40<16:50,  4.47s/it]C:\\Users\\Admin\\anaconda3\\envs\\mossf\\lib\\site-packages\\sklearn\\base.py:493: FutureWarning: The feature names should match those that were passed during fit. Starting version 1.2, an error will be raised.\n",
      "Feature names unseen at fit time:\n",
      "- rainfall\n",
      "Feature names seen at fit time, yet now missing:\n",
      "- radar_rainfall\n",
      "\n",
      "  warnings.warn(message, FutureWarning)\n"
     ]
    },
    {
     "name": "stdout",
     "output_type": "stream",
     "text": [
      "\n",
      "Processing file: D:\\1Yang\\0Research\\0_2566_radar_mosaic\\00mos_chaophraya\\00run_batch_acchr_codes\\2output\\0Hourly\\0Sontihn_RF\\0CBB_Pulse\\0output_mosaic\\2018071516_2000m.tif\n",
      "Warning: CRS not defined for D:\\1Yang\\0Research\\0_2566_radar_mosaic\\00mos_chaophraya\\00run_batch_acchr_codes\\2output\\0Hourly\\0Sontihn_RF\\0CBB_Pulse\\0output_mosaic\\2018071516_2000m.tif. Using WGS84 as default.\n",
      "Features shape: (250000, 3)\n",
      "NaN values before imputation: 114341\n",
      "NaN values after imputation: 114341\n",
      "Original data - Mean: 0.02, Max: 65.54\n",
      "Corrected data - Mean: 0.21, Max: 49.43\n"
     ]
    },
    {
     "name": "stderr",
     "output_type": "stream",
     "text": [
      "  4%|███▍                                                                             | 10/235 [00:44<16:43,  4.46s/it]C:\\Users\\Admin\\anaconda3\\envs\\mossf\\lib\\site-packages\\sklearn\\base.py:493: FutureWarning: The feature names should match those that were passed during fit. Starting version 1.2, an error will be raised.\n",
      "Feature names unseen at fit time:\n",
      "- rainfall\n",
      "Feature names seen at fit time, yet now missing:\n",
      "- radar_rainfall\n",
      "\n",
      "  warnings.warn(message, FutureWarning)\n"
     ]
    },
    {
     "name": "stdout",
     "output_type": "stream",
     "text": [
      "\n",
      "Processing file: D:\\1Yang\\0Research\\0_2566_radar_mosaic\\00mos_chaophraya\\00run_batch_acchr_codes\\2output\\0Hourly\\0Sontihn_RF\\0CBB_Pulse\\0output_mosaic\\2018071517_2000m.tif\n",
      "Warning: CRS not defined for D:\\1Yang\\0Research\\0_2566_radar_mosaic\\00mos_chaophraya\\00run_batch_acchr_codes\\2output\\0Hourly\\0Sontihn_RF\\0CBB_Pulse\\0output_mosaic\\2018071517_2000m.tif. Using WGS84 as default.\n",
      "Features shape: (250000, 3)\n",
      "NaN values before imputation: 114319\n",
      "NaN values after imputation: 114319\n",
      "Original data - Mean: 0.03, Max: 22.29\n",
      "Corrected data - Mean: 0.38, Max: 49.43\n"
     ]
    },
    {
     "name": "stderr",
     "output_type": "stream",
     "text": [
      "  5%|███▊                                                                             | 11/235 [00:49<16:44,  4.48s/it]C:\\Users\\Admin\\anaconda3\\envs\\mossf\\lib\\site-packages\\sklearn\\base.py:493: FutureWarning: The feature names should match those that were passed during fit. Starting version 1.2, an error will be raised.\n",
      "Feature names unseen at fit time:\n",
      "- rainfall\n",
      "Feature names seen at fit time, yet now missing:\n",
      "- radar_rainfall\n",
      "\n",
      "  warnings.warn(message, FutureWarning)\n"
     ]
    },
    {
     "name": "stdout",
     "output_type": "stream",
     "text": [
      "\n",
      "Processing file: D:\\1Yang\\0Research\\0_2566_radar_mosaic\\00mos_chaophraya\\00run_batch_acchr_codes\\2output\\0Hourly\\0Sontihn_RF\\0CBB_Pulse\\0output_mosaic\\2018071518_2000m.tif\n",
      "Warning: CRS not defined for D:\\1Yang\\0Research\\0_2566_radar_mosaic\\00mos_chaophraya\\00run_batch_acchr_codes\\2output\\0Hourly\\0Sontihn_RF\\0CBB_Pulse\\0output_mosaic\\2018071518_2000m.tif. Using WGS84 as default.\n",
      "Features shape: (250000, 3)\n",
      "NaN values before imputation: 114306\n",
      "NaN values after imputation: 114306\n",
      "Original data - Mean: 0.03, Max: 30.03\n",
      "Corrected data - Mean: 0.39, Max: 49.43\n"
     ]
    },
    {
     "name": "stderr",
     "output_type": "stream",
     "text": [
      "  5%|████▏                                                                            | 12/235 [00:53<16:38,  4.48s/it]C:\\Users\\Admin\\anaconda3\\envs\\mossf\\lib\\site-packages\\sklearn\\base.py:493: FutureWarning: The feature names should match those that were passed during fit. Starting version 1.2, an error will be raised.\n",
      "Feature names unseen at fit time:\n",
      "- rainfall\n",
      "Feature names seen at fit time, yet now missing:\n",
      "- radar_rainfall\n",
      "\n",
      "  warnings.warn(message, FutureWarning)\n"
     ]
    },
    {
     "name": "stdout",
     "output_type": "stream",
     "text": [
      "\n",
      "Processing file: D:\\1Yang\\0Research\\0_2566_radar_mosaic\\00mos_chaophraya\\00run_batch_acchr_codes\\2output\\0Hourly\\0Sontihn_RF\\0CBB_Pulse\\0output_mosaic\\2018071519_2000m.tif\n",
      "Warning: CRS not defined for D:\\1Yang\\0Research\\0_2566_radar_mosaic\\00mos_chaophraya\\00run_batch_acchr_codes\\2output\\0Hourly\\0Sontihn_RF\\0CBB_Pulse\\0output_mosaic\\2018071519_2000m.tif. Using WGS84 as default.\n",
      "Features shape: (250000, 3)\n",
      "NaN values before imputation: 114351\n",
      "NaN values after imputation: 114351\n",
      "Original data - Mean: 0.04, Max: 37.00\n",
      "Corrected data - Mean: 0.41, Max: 49.43\n"
     ]
    },
    {
     "name": "stderr",
     "output_type": "stream",
     "text": [
      "  6%|████▍                                                                            | 13/235 [00:58<16:34,  4.48s/it]C:\\Users\\Admin\\anaconda3\\envs\\mossf\\lib\\site-packages\\sklearn\\base.py:493: FutureWarning: The feature names should match those that were passed during fit. Starting version 1.2, an error will be raised.\n",
      "Feature names unseen at fit time:\n",
      "- rainfall\n",
      "Feature names seen at fit time, yet now missing:\n",
      "- radar_rainfall\n",
      "\n",
      "  warnings.warn(message, FutureWarning)\n"
     ]
    },
    {
     "name": "stdout",
     "output_type": "stream",
     "text": [
      "\n",
      "Processing file: D:\\1Yang\\0Research\\0_2566_radar_mosaic\\00mos_chaophraya\\00run_batch_acchr_codes\\2output\\0Hourly\\0Sontihn_RF\\0CBB_Pulse\\0output_mosaic\\2018071520_2000m.tif\n",
      "Warning: CRS not defined for D:\\1Yang\\0Research\\0_2566_radar_mosaic\\00mos_chaophraya\\00run_batch_acchr_codes\\2output\\0Hourly\\0Sontihn_RF\\0CBB_Pulse\\0output_mosaic\\2018071520_2000m.tif. Using WGS84 as default.\n",
      "Features shape: (250000, 3)\n",
      "NaN values before imputation: 114307\n",
      "NaN values after imputation: 114307\n",
      "Original data - Mean: 0.06, Max: 78.15\n",
      "Corrected data - Mean: 0.49, Max: 49.43\n"
     ]
    },
    {
     "name": "stderr",
     "output_type": "stream",
     "text": [
      "  6%|████▊                                                                            | 14/235 [01:02<16:32,  4.49s/it]C:\\Users\\Admin\\anaconda3\\envs\\mossf\\lib\\site-packages\\sklearn\\base.py:493: FutureWarning: The feature names should match those that were passed during fit. Starting version 1.2, an error will be raised.\n",
      "Feature names unseen at fit time:\n",
      "- rainfall\n",
      "Feature names seen at fit time, yet now missing:\n",
      "- radar_rainfall\n",
      "\n",
      "  warnings.warn(message, FutureWarning)\n"
     ]
    },
    {
     "name": "stdout",
     "output_type": "stream",
     "text": [
      "\n",
      "Processing file: D:\\1Yang\\0Research\\0_2566_radar_mosaic\\00mos_chaophraya\\00run_batch_acchr_codes\\2output\\0Hourly\\0Sontihn_RF\\0CBB_Pulse\\0output_mosaic\\2018071521_2000m.tif\n",
      "Warning: CRS not defined for D:\\1Yang\\0Research\\0_2566_radar_mosaic\\00mos_chaophraya\\00run_batch_acchr_codes\\2output\\0Hourly\\0Sontihn_RF\\0CBB_Pulse\\0output_mosaic\\2018071521_2000m.tif. Using WGS84 as default.\n",
      "Features shape: (250000, 3)\n",
      "NaN values before imputation: 114519\n",
      "NaN values after imputation: 114519\n",
      "Original data - Mean: 0.08, Max: 50.69\n",
      "Corrected data - Mean: 0.57, Max: 49.43\n"
     ]
    },
    {
     "name": "stderr",
     "output_type": "stream",
     "text": [
      "  6%|█████▏                                                                           | 15/235 [01:07<16:25,  4.48s/it]C:\\Users\\Admin\\anaconda3\\envs\\mossf\\lib\\site-packages\\sklearn\\base.py:493: FutureWarning: The feature names should match those that were passed during fit. Starting version 1.2, an error will be raised.\n",
      "Feature names unseen at fit time:\n",
      "- rainfall\n",
      "Feature names seen at fit time, yet now missing:\n",
      "- radar_rainfall\n",
      "\n",
      "  warnings.warn(message, FutureWarning)\n"
     ]
    },
    {
     "name": "stdout",
     "output_type": "stream",
     "text": [
      "\n",
      "Processing file: D:\\1Yang\\0Research\\0_2566_radar_mosaic\\00mos_chaophraya\\00run_batch_acchr_codes\\2output\\0Hourly\\0Sontihn_RF\\0CBB_Pulse\\0output_mosaic\\2018071522_2000m.tif\n",
      "Warning: CRS not defined for D:\\1Yang\\0Research\\0_2566_radar_mosaic\\00mos_chaophraya\\00run_batch_acchr_codes\\2output\\0Hourly\\0Sontihn_RF\\0CBB_Pulse\\0output_mosaic\\2018071522_2000m.tif. Using WGS84 as default.\n",
      "Features shape: (250000, 3)\n",
      "NaN values before imputation: 114346\n",
      "NaN values after imputation: 114346\n",
      "Original data - Mean: 0.10, Max: 70.39\n",
      "Corrected data - Mean: 0.59, Max: 49.43\n"
     ]
    },
    {
     "name": "stderr",
     "output_type": "stream",
     "text": [
      "  7%|█████▌                                                                           | 16/235 [01:11<16:28,  4.51s/it]C:\\Users\\Admin\\anaconda3\\envs\\mossf\\lib\\site-packages\\sklearn\\base.py:493: FutureWarning: The feature names should match those that were passed during fit. Starting version 1.2, an error will be raised.\n",
      "Feature names unseen at fit time:\n",
      "- rainfall\n",
      "Feature names seen at fit time, yet now missing:\n",
      "- radar_rainfall\n",
      "\n",
      "  warnings.warn(message, FutureWarning)\n"
     ]
    },
    {
     "name": "stdout",
     "output_type": "stream",
     "text": [
      "\n",
      "Processing file: D:\\1Yang\\0Research\\0_2566_radar_mosaic\\00mos_chaophraya\\00run_batch_acchr_codes\\2output\\0Hourly\\0Sontihn_RF\\0CBB_Pulse\\0output_mosaic\\2018071523_2000m.tif\n",
      "Warning: CRS not defined for D:\\1Yang\\0Research\\0_2566_radar_mosaic\\00mos_chaophraya\\00run_batch_acchr_codes\\2output\\0Hourly\\0Sontihn_RF\\0CBB_Pulse\\0output_mosaic\\2018071523_2000m.tif. Using WGS84 as default.\n",
      "Features shape: (250000, 3)\n",
      "NaN values before imputation: 114364\n",
      "NaN values after imputation: 114364\n",
      "Original data - Mean: 0.05, Max: 28.91\n",
      "Corrected data - Mean: 0.50, Max: 49.43\n"
     ]
    },
    {
     "name": "stderr",
     "output_type": "stream",
     "text": [
      "  7%|█████▊                                                                           | 17/235 [01:16<16:28,  4.53s/it]C:\\Users\\Admin\\anaconda3\\envs\\mossf\\lib\\site-packages\\sklearn\\base.py:493: FutureWarning: The feature names should match those that were passed during fit. Starting version 1.2, an error will be raised.\n",
      "Feature names unseen at fit time:\n",
      "- rainfall\n",
      "Feature names seen at fit time, yet now missing:\n",
      "- radar_rainfall\n",
      "\n",
      "  warnings.warn(message, FutureWarning)\n"
     ]
    },
    {
     "name": "stdout",
     "output_type": "stream",
     "text": [
      "\n",
      "Processing file: D:\\1Yang\\0Research\\0_2566_radar_mosaic\\00mos_chaophraya\\00run_batch_acchr_codes\\2output\\0Hourly\\0Sontihn_RF\\0CBB_Pulse\\0output_mosaic\\2018071600_2000m.tif\n",
      "Warning: CRS not defined for D:\\1Yang\\0Research\\0_2566_radar_mosaic\\00mos_chaophraya\\00run_batch_acchr_codes\\2output\\0Hourly\\0Sontihn_RF\\0CBB_Pulse\\0output_mosaic\\2018071600_2000m.tif. Using WGS84 as default.\n",
      "Features shape: (250000, 3)\n",
      "NaN values before imputation: 114345\n",
      "NaN values after imputation: 114345\n",
      "Original data - Mean: 0.07, Max: 26.60\n",
      "Corrected data - Mean: 0.49, Max: 49.43\n"
     ]
    },
    {
     "name": "stderr",
     "output_type": "stream",
     "text": [
      "  8%|██████▏                                                                          | 18/235 [01:20<16:31,  4.57s/it]C:\\Users\\Admin\\anaconda3\\envs\\mossf\\lib\\site-packages\\sklearn\\base.py:493: FutureWarning: The feature names should match those that were passed during fit. Starting version 1.2, an error will be raised.\n",
      "Feature names unseen at fit time:\n",
      "- rainfall\n",
      "Feature names seen at fit time, yet now missing:\n",
      "- radar_rainfall\n",
      "\n",
      "  warnings.warn(message, FutureWarning)\n"
     ]
    },
    {
     "name": "stdout",
     "output_type": "stream",
     "text": [
      "\n",
      "Processing file: D:\\1Yang\\0Research\\0_2566_radar_mosaic\\00mos_chaophraya\\00run_batch_acchr_codes\\2output\\0Hourly\\0Sontihn_RF\\0CBB_Pulse\\0output_mosaic\\2018071601_2000m.tif\n",
      "Warning: CRS not defined for D:\\1Yang\\0Research\\0_2566_radar_mosaic\\00mos_chaophraya\\00run_batch_acchr_codes\\2output\\0Hourly\\0Sontihn_RF\\0CBB_Pulse\\0output_mosaic\\2018071601_2000m.tif. Using WGS84 as default.\n",
      "Features shape: (250000, 3)\n",
      "NaN values before imputation: 114343\n",
      "NaN values after imputation: 114343\n",
      "Original data - Mean: 0.10, Max: 18.26\n",
      "Corrected data - Mean: 0.60, Max: 49.43\n"
     ]
    },
    {
     "name": "stderr",
     "output_type": "stream",
     "text": [
      "  8%|██████▌                                                                          | 19/235 [01:25<16:40,  4.63s/it]C:\\Users\\Admin\\anaconda3\\envs\\mossf\\lib\\site-packages\\sklearn\\base.py:493: FutureWarning: The feature names should match those that were passed during fit. Starting version 1.2, an error will be raised.\n",
      "Feature names unseen at fit time:\n",
      "- rainfall\n",
      "Feature names seen at fit time, yet now missing:\n",
      "- radar_rainfall\n",
      "\n",
      "  warnings.warn(message, FutureWarning)\n"
     ]
    },
    {
     "name": "stdout",
     "output_type": "stream",
     "text": [
      "\n",
      "Processing file: D:\\1Yang\\0Research\\0_2566_radar_mosaic\\00mos_chaophraya\\00run_batch_acchr_codes\\2output\\0Hourly\\0Sontihn_RF\\0CBB_Pulse\\0output_mosaic\\2018071602_2000m.tif\n",
      "Warning: CRS not defined for D:\\1Yang\\0Research\\0_2566_radar_mosaic\\00mos_chaophraya\\00run_batch_acchr_codes\\2output\\0Hourly\\0Sontihn_RF\\0CBB_Pulse\\0output_mosaic\\2018071602_2000m.tif. Using WGS84 as default.\n",
      "Features shape: (250000, 3)\n",
      "NaN values before imputation: 114412\n",
      "NaN values after imputation: 114412\n",
      "Original data - Mean: 0.05, Max: 8.99\n",
      "Corrected data - Mean: 0.50, Max: 20.71\n"
     ]
    },
    {
     "name": "stderr",
     "output_type": "stream",
     "text": [
      "  9%|██████▉                                                                          | 20/235 [01:30<16:27,  4.59s/it]C:\\Users\\Admin\\anaconda3\\envs\\mossf\\lib\\site-packages\\sklearn\\base.py:493: FutureWarning: The feature names should match those that were passed during fit. Starting version 1.2, an error will be raised.\n",
      "Feature names unseen at fit time:\n",
      "- rainfall\n",
      "Feature names seen at fit time, yet now missing:\n",
      "- radar_rainfall\n",
      "\n",
      "  warnings.warn(message, FutureWarning)\n"
     ]
    },
    {
     "name": "stdout",
     "output_type": "stream",
     "text": [
      "\n",
      "Processing file: D:\\1Yang\\0Research\\0_2566_radar_mosaic\\00mos_chaophraya\\00run_batch_acchr_codes\\2output\\0Hourly\\0Sontihn_RF\\0CBB_Pulse\\0output_mosaic\\2018071603_2000m.tif\n",
      "Warning: CRS not defined for D:\\1Yang\\0Research\\0_2566_radar_mosaic\\00mos_chaophraya\\00run_batch_acchr_codes\\2output\\0Hourly\\0Sontihn_RF\\0CBB_Pulse\\0output_mosaic\\2018071603_2000m.tif. Using WGS84 as default.\n",
      "Features shape: (250000, 3)\n",
      "NaN values before imputation: 114439\n",
      "NaN values after imputation: 114439\n",
      "Original data - Mean: 0.06, Max: 10.06\n",
      "Corrected data - Mean: 0.54, Max: 23.30\n"
     ]
    },
    {
     "name": "stderr",
     "output_type": "stream",
     "text": [
      "  9%|███████▏                                                                         | 21/235 [01:34<16:34,  4.65s/it]C:\\Users\\Admin\\anaconda3\\envs\\mossf\\lib\\site-packages\\sklearn\\base.py:493: FutureWarning: The feature names should match those that were passed during fit. Starting version 1.2, an error will be raised.\n",
      "Feature names unseen at fit time:\n",
      "- rainfall\n",
      "Feature names seen at fit time, yet now missing:\n",
      "- radar_rainfall\n",
      "\n",
      "  warnings.warn(message, FutureWarning)\n"
     ]
    },
    {
     "name": "stdout",
     "output_type": "stream",
     "text": [
      "\n",
      "Processing file: D:\\1Yang\\0Research\\0_2566_radar_mosaic\\00mos_chaophraya\\00run_batch_acchr_codes\\2output\\0Hourly\\0Sontihn_RF\\0CBB_Pulse\\0output_mosaic\\2018071604_2000m.tif\n",
      "Warning: CRS not defined for D:\\1Yang\\0Research\\0_2566_radar_mosaic\\00mos_chaophraya\\00run_batch_acchr_codes\\2output\\0Hourly\\0Sontihn_RF\\0CBB_Pulse\\0output_mosaic\\2018071604_2000m.tif. Using WGS84 as default.\n",
      "Features shape: (250000, 3)\n",
      "NaN values before imputation: 114372\n",
      "NaN values after imputation: 114372\n",
      "Original data - Mean: 0.04, Max: 9.85\n",
      "Corrected data - Mean: 0.50, Max: 22.88\n"
     ]
    },
    {
     "name": "stderr",
     "output_type": "stream",
     "text": [
      "  9%|███████▌                                                                         | 22/235 [01:39<16:35,  4.67s/it]C:\\Users\\Admin\\anaconda3\\envs\\mossf\\lib\\site-packages\\sklearn\\base.py:493: FutureWarning: The feature names should match those that were passed during fit. Starting version 1.2, an error will be raised.\n",
      "Feature names unseen at fit time:\n",
      "- rainfall\n",
      "Feature names seen at fit time, yet now missing:\n",
      "- radar_rainfall\n",
      "\n",
      "  warnings.warn(message, FutureWarning)\n"
     ]
    },
    {
     "name": "stdout",
     "output_type": "stream",
     "text": [
      "\n",
      "Processing file: D:\\1Yang\\0Research\\0_2566_radar_mosaic\\00mos_chaophraya\\00run_batch_acchr_codes\\2output\\0Hourly\\0Sontihn_RF\\0CBB_Pulse\\0output_mosaic\\2018071605_2000m.tif\n",
      "Warning: CRS not defined for D:\\1Yang\\0Research\\0_2566_radar_mosaic\\00mos_chaophraya\\00run_batch_acchr_codes\\2output\\0Hourly\\0Sontihn_RF\\0CBB_Pulse\\0output_mosaic\\2018071605_2000m.tif. Using WGS84 as default.\n",
      "Features shape: (250000, 3)\n",
      "NaN values before imputation: 114402\n",
      "NaN values after imputation: 114402\n",
      "Original data - Mean: 0.03, Max: 6.52\n",
      "Corrected data - Mean: 0.47, Max: 17.22\n"
     ]
    },
    {
     "name": "stderr",
     "output_type": "stream",
     "text": [
      " 10%|███████▉                                                                         | 23/235 [01:44<16:18,  4.62s/it]C:\\Users\\Admin\\anaconda3\\envs\\mossf\\lib\\site-packages\\sklearn\\base.py:493: FutureWarning: The feature names should match those that were passed during fit. Starting version 1.2, an error will be raised.\n",
      "Feature names unseen at fit time:\n",
      "- rainfall\n",
      "Feature names seen at fit time, yet now missing:\n",
      "- radar_rainfall\n",
      "\n",
      "  warnings.warn(message, FutureWarning)\n"
     ]
    },
    {
     "name": "stdout",
     "output_type": "stream",
     "text": [
      "\n",
      "Processing file: D:\\1Yang\\0Research\\0_2566_radar_mosaic\\00mos_chaophraya\\00run_batch_acchr_codes\\2output\\0Hourly\\0Sontihn_RF\\0CBB_Pulse\\0output_mosaic\\2018071606_2000m.tif\n",
      "Warning: CRS not defined for D:\\1Yang\\0Research\\0_2566_radar_mosaic\\00mos_chaophraya\\00run_batch_acchr_codes\\2output\\0Hourly\\0Sontihn_RF\\0CBB_Pulse\\0output_mosaic\\2018071606_2000m.tif. Using WGS84 as default.\n",
      "Features shape: (250000, 3)\n",
      "NaN values before imputation: 114412\n",
      "NaN values after imputation: 114412\n",
      "Original data - Mean: 0.02, Max: 9.90\n",
      "Corrected data - Mean: 0.43, Max: 22.88\n"
     ]
    },
    {
     "name": "stderr",
     "output_type": "stream",
     "text": [
      " 10%|████████▎                                                                        | 24/235 [01:48<16:01,  4.56s/it]C:\\Users\\Admin\\anaconda3\\envs\\mossf\\lib\\site-packages\\sklearn\\base.py:493: FutureWarning: The feature names should match those that were passed during fit. Starting version 1.2, an error will be raised.\n",
      "Feature names unseen at fit time:\n",
      "- rainfall\n",
      "Feature names seen at fit time, yet now missing:\n",
      "- radar_rainfall\n",
      "\n",
      "  warnings.warn(message, FutureWarning)\n"
     ]
    },
    {
     "name": "stdout",
     "output_type": "stream",
     "text": [
      "\n",
      "Processing file: D:\\1Yang\\0Research\\0_2566_radar_mosaic\\00mos_chaophraya\\00run_batch_acchr_codes\\2output\\0Hourly\\0Sontihn_RF\\0CBB_Pulse\\0output_mosaic\\2018071607_2000m.tif\n",
      "Warning: CRS not defined for D:\\1Yang\\0Research\\0_2566_radar_mosaic\\00mos_chaophraya\\00run_batch_acchr_codes\\2output\\0Hourly\\0Sontihn_RF\\0CBB_Pulse\\0output_mosaic\\2018071607_2000m.tif. Using WGS84 as default.\n",
      "Features shape: (250000, 3)\n",
      "NaN values before imputation: 114338\n",
      "NaN values after imputation: 114338\n",
      "Original data - Mean: 0.02, Max: 6.09\n",
      "Corrected data - Mean: 0.50, Max: 17.22\n"
     ]
    },
    {
     "name": "stderr",
     "output_type": "stream",
     "text": [
      " 11%|████████▌                                                                        | 25/235 [01:53<15:50,  4.53s/it]C:\\Users\\Admin\\anaconda3\\envs\\mossf\\lib\\site-packages\\sklearn\\base.py:493: FutureWarning: The feature names should match those that were passed during fit. Starting version 1.2, an error will be raised.\n",
      "Feature names unseen at fit time:\n",
      "- rainfall\n",
      "Feature names seen at fit time, yet now missing:\n",
      "- radar_rainfall\n",
      "\n",
      "  warnings.warn(message, FutureWarning)\n"
     ]
    },
    {
     "name": "stdout",
     "output_type": "stream",
     "text": [
      "\n",
      "Processing file: D:\\1Yang\\0Research\\0_2566_radar_mosaic\\00mos_chaophraya\\00run_batch_acchr_codes\\2output\\0Hourly\\0Sontihn_RF\\0CBB_Pulse\\0output_mosaic\\2018071608_2000m.tif\n",
      "Warning: CRS not defined for D:\\1Yang\\0Research\\0_2566_radar_mosaic\\00mos_chaophraya\\00run_batch_acchr_codes\\2output\\0Hourly\\0Sontihn_RF\\0CBB_Pulse\\0output_mosaic\\2018071608_2000m.tif. Using WGS84 as default.\n",
      "Features shape: (250000, 3)\n",
      "NaN values before imputation: 114414\n",
      "NaN values after imputation: 114414\n",
      "Original data - Mean: 0.02, Max: 4.11\n",
      "Corrected data - Mean: 0.44, Max: 16.63\n"
     ]
    },
    {
     "name": "stderr",
     "output_type": "stream",
     "text": [
      " 11%|████████▉                                                                        | 26/235 [01:57<15:56,  4.58s/it]C:\\Users\\Admin\\anaconda3\\envs\\mossf\\lib\\site-packages\\sklearn\\base.py:493: FutureWarning: The feature names should match those that were passed during fit. Starting version 1.2, an error will be raised.\n",
      "Feature names unseen at fit time:\n",
      "- rainfall\n",
      "Feature names seen at fit time, yet now missing:\n",
      "- radar_rainfall\n",
      "\n",
      "  warnings.warn(message, FutureWarning)\n"
     ]
    },
    {
     "name": "stdout",
     "output_type": "stream",
     "text": [
      "\n",
      "Processing file: D:\\1Yang\\0Research\\0_2566_radar_mosaic\\00mos_chaophraya\\00run_batch_acchr_codes\\2output\\0Hourly\\0Sontihn_RF\\0CBB_Pulse\\0output_mosaic\\2018071609_2000m.tif\n",
      "Warning: CRS not defined for D:\\1Yang\\0Research\\0_2566_radar_mosaic\\00mos_chaophraya\\00run_batch_acchr_codes\\2output\\0Hourly\\0Sontihn_RF\\0CBB_Pulse\\0output_mosaic\\2018071609_2000m.tif. Using WGS84 as default.\n",
      "Features shape: (250000, 3)\n",
      "NaN values before imputation: 114544\n",
      "NaN values after imputation: 114544\n",
      "Original data - Mean: 0.03, Max: 5.08\n",
      "Corrected data - Mean: 0.45, Max: 17.22\n"
     ]
    },
    {
     "name": "stderr",
     "output_type": "stream",
     "text": [
      " 11%|█████████▎                                                                       | 27/235 [02:02<16:16,  4.70s/it]C:\\Users\\Admin\\anaconda3\\envs\\mossf\\lib\\site-packages\\sklearn\\base.py:493: FutureWarning: The feature names should match those that were passed during fit. Starting version 1.2, an error will be raised.\n",
      "Feature names unseen at fit time:\n",
      "- rainfall\n",
      "Feature names seen at fit time, yet now missing:\n",
      "- radar_rainfall\n",
      "\n",
      "  warnings.warn(message, FutureWarning)\n"
     ]
    },
    {
     "name": "stdout",
     "output_type": "stream",
     "text": [
      "\n",
      "Processing file: D:\\1Yang\\0Research\\0_2566_radar_mosaic\\00mos_chaophraya\\00run_batch_acchr_codes\\2output\\0Hourly\\0Sontihn_RF\\0CBB_Pulse\\0output_mosaic\\2018071610_2000m.tif\n",
      "Warning: CRS not defined for D:\\1Yang\\0Research\\0_2566_radar_mosaic\\00mos_chaophraya\\00run_batch_acchr_codes\\2output\\0Hourly\\0Sontihn_RF\\0CBB_Pulse\\0output_mosaic\\2018071610_2000m.tif. Using WGS84 as default.\n",
      "Features shape: (250000, 3)\n",
      "NaN values before imputation: 114406\n",
      "NaN values after imputation: 114406\n",
      "Original data - Mean: 0.03, Max: 5.26\n",
      "Corrected data - Mean: 0.59, Max: 17.22\n"
     ]
    },
    {
     "name": "stderr",
     "output_type": "stream",
     "text": [
      " 12%|█████████▋                                                                       | 28/235 [02:07<16:15,  4.71s/it]C:\\Users\\Admin\\anaconda3\\envs\\mossf\\lib\\site-packages\\sklearn\\base.py:493: FutureWarning: The feature names should match those that were passed during fit. Starting version 1.2, an error will be raised.\n",
      "Feature names unseen at fit time:\n",
      "- rainfall\n",
      "Feature names seen at fit time, yet now missing:\n",
      "- radar_rainfall\n",
      "\n",
      "  warnings.warn(message, FutureWarning)\n"
     ]
    },
    {
     "name": "stdout",
     "output_type": "stream",
     "text": [
      "\n",
      "Processing file: D:\\1Yang\\0Research\\0_2566_radar_mosaic\\00mos_chaophraya\\00run_batch_acchr_codes\\2output\\0Hourly\\0Sontihn_RF\\0CBB_Pulse\\0output_mosaic\\2018071611_2000m.tif\n",
      "Warning: CRS not defined for D:\\1Yang\\0Research\\0_2566_radar_mosaic\\00mos_chaophraya\\00run_batch_acchr_codes\\2output\\0Hourly\\0Sontihn_RF\\0CBB_Pulse\\0output_mosaic\\2018071611_2000m.tif. Using WGS84 as default.\n",
      "Features shape: (250000, 3)\n",
      "NaN values before imputation: 114346\n",
      "NaN values after imputation: 114346\n",
      "Original data - Mean: 0.02, Max: 9.33\n",
      "Corrected data - Mean: 0.53, Max: 22.88\n"
     ]
    },
    {
     "name": "stderr",
     "output_type": "stream",
     "text": [
      " 12%|█████████▉                                                                       | 29/235 [02:11<15:54,  4.64s/it]C:\\Users\\Admin\\anaconda3\\envs\\mossf\\lib\\site-packages\\sklearn\\base.py:493: FutureWarning: The feature names should match those that were passed during fit. Starting version 1.2, an error will be raised.\n",
      "Feature names unseen at fit time:\n",
      "- rainfall\n",
      "Feature names seen at fit time, yet now missing:\n",
      "- radar_rainfall\n",
      "\n",
      "  warnings.warn(message, FutureWarning)\n"
     ]
    },
    {
     "name": "stdout",
     "output_type": "stream",
     "text": [
      "\n",
      "Processing file: D:\\1Yang\\0Research\\0_2566_radar_mosaic\\00mos_chaophraya\\00run_batch_acchr_codes\\2output\\0Hourly\\0Sontihn_RF\\0CBB_Pulse\\0output_mosaic\\2018071612_2000m.tif\n",
      "Warning: CRS not defined for D:\\1Yang\\0Research\\0_2566_radar_mosaic\\00mos_chaophraya\\00run_batch_acchr_codes\\2output\\0Hourly\\0Sontihn_RF\\0CBB_Pulse\\0output_mosaic\\2018071612_2000m.tif. Using WGS84 as default.\n",
      "Features shape: (250000, 3)\n",
      "NaN values before imputation: 114348\n",
      "NaN values after imputation: 114348\n",
      "Original data - Mean: 0.09, Max: 25.03\n",
      "Corrected data - Mean: 0.71, Max: 49.43\n"
     ]
    },
    {
     "name": "stderr",
     "output_type": "stream",
     "text": [
      " 13%|██████████▎                                                                      | 30/235 [02:16<15:43,  4.60s/it]C:\\Users\\Admin\\anaconda3\\envs\\mossf\\lib\\site-packages\\sklearn\\base.py:493: FutureWarning: The feature names should match those that were passed during fit. Starting version 1.2, an error will be raised.\n",
      "Feature names unseen at fit time:\n",
      "- rainfall\n",
      "Feature names seen at fit time, yet now missing:\n",
      "- radar_rainfall\n",
      "\n",
      "  warnings.warn(message, FutureWarning)\n"
     ]
    },
    {
     "name": "stdout",
     "output_type": "stream",
     "text": [
      "\n",
      "Processing file: D:\\1Yang\\0Research\\0_2566_radar_mosaic\\00mos_chaophraya\\00run_batch_acchr_codes\\2output\\0Hourly\\0Sontihn_RF\\0CBB_Pulse\\0output_mosaic\\2018071613_2000m.tif\n",
      "Warning: CRS not defined for D:\\1Yang\\0Research\\0_2566_radar_mosaic\\00mos_chaophraya\\00run_batch_acchr_codes\\2output\\0Hourly\\0Sontihn_RF\\0CBB_Pulse\\0output_mosaic\\2018071613_2000m.tif. Using WGS84 as default.\n",
      "Features shape: (250000, 3)\n",
      "NaN values before imputation: 114305\n",
      "NaN values after imputation: 114305\n",
      "Original data - Mean: 0.07, Max: 23.93\n",
      "Corrected data - Mean: 0.82, Max: 49.43\n"
     ]
    },
    {
     "name": "stderr",
     "output_type": "stream",
     "text": [
      " 13%|██████████▋                                                                      | 31/235 [02:20<15:32,  4.57s/it]C:\\Users\\Admin\\anaconda3\\envs\\mossf\\lib\\site-packages\\sklearn\\base.py:493: FutureWarning: The feature names should match those that were passed during fit. Starting version 1.2, an error will be raised.\n",
      "Feature names unseen at fit time:\n",
      "- rainfall\n",
      "Feature names seen at fit time, yet now missing:\n",
      "- radar_rainfall\n",
      "\n",
      "  warnings.warn(message, FutureWarning)\n"
     ]
    },
    {
     "name": "stdout",
     "output_type": "stream",
     "text": [
      "\n",
      "Processing file: D:\\1Yang\\0Research\\0_2566_radar_mosaic\\00mos_chaophraya\\00run_batch_acchr_codes\\2output\\0Hourly\\0Sontihn_RF\\0CBB_Pulse\\0output_mosaic\\2018071614_2000m.tif\n",
      "Warning: CRS not defined for D:\\1Yang\\0Research\\0_2566_radar_mosaic\\00mos_chaophraya\\00run_batch_acchr_codes\\2output\\0Hourly\\0Sontihn_RF\\0CBB_Pulse\\0output_mosaic\\2018071614_2000m.tif. Using WGS84 as default.\n",
      "Features shape: (250000, 3)\n",
      "NaN values before imputation: 114433\n",
      "NaN values after imputation: 114433\n",
      "Original data - Mean: 0.11, Max: 25.52\n",
      "Corrected data - Mean: 0.96, Max: 49.43\n"
     ]
    },
    {
     "name": "stderr",
     "output_type": "stream",
     "text": [
      " 14%|███████████                                                                      | 32/235 [02:25<15:24,  4.55s/it]C:\\Users\\Admin\\anaconda3\\envs\\mossf\\lib\\site-packages\\sklearn\\base.py:493: FutureWarning: The feature names should match those that were passed during fit. Starting version 1.2, an error will be raised.\n",
      "Feature names unseen at fit time:\n",
      "- rainfall\n",
      "Feature names seen at fit time, yet now missing:\n",
      "- radar_rainfall\n",
      "\n",
      "  warnings.warn(message, FutureWarning)\n"
     ]
    },
    {
     "name": "stdout",
     "output_type": "stream",
     "text": [
      "\n",
      "Processing file: D:\\1Yang\\0Research\\0_2566_radar_mosaic\\00mos_chaophraya\\00run_batch_acchr_codes\\2output\\0Hourly\\0Sontihn_RF\\0CBB_Pulse\\0output_mosaic\\2018071615_2000m.tif\n",
      "Warning: CRS not defined for D:\\1Yang\\0Research\\0_2566_radar_mosaic\\00mos_chaophraya\\00run_batch_acchr_codes\\2output\\0Hourly\\0Sontihn_RF\\0CBB_Pulse\\0output_mosaic\\2018071615_2000m.tif. Using WGS84 as default.\n",
      "Features shape: (250000, 3)\n",
      "NaN values before imputation: 114343\n",
      "NaN values after imputation: 114343\n",
      "Original data - Mean: 0.15, Max: 48.53\n",
      "Corrected data - Mean: 1.03, Max: 49.43\n"
     ]
    },
    {
     "name": "stderr",
     "output_type": "stream",
     "text": [
      " 14%|███████████▎                                                                     | 33/235 [02:30<15:21,  4.56s/it]C:\\Users\\Admin\\anaconda3\\envs\\mossf\\lib\\site-packages\\sklearn\\base.py:493: FutureWarning: The feature names should match those that were passed during fit. Starting version 1.2, an error will be raised.\n",
      "Feature names unseen at fit time:\n",
      "- rainfall\n",
      "Feature names seen at fit time, yet now missing:\n",
      "- radar_rainfall\n",
      "\n",
      "  warnings.warn(message, FutureWarning)\n"
     ]
    },
    {
     "name": "stdout",
     "output_type": "stream",
     "text": [
      "\n",
      "Processing file: D:\\1Yang\\0Research\\0_2566_radar_mosaic\\00mos_chaophraya\\00run_batch_acchr_codes\\2output\\0Hourly\\0Sontihn_RF\\0CBB_Pulse\\0output_mosaic\\2018071616_2000m.tif\n",
      "Warning: CRS not defined for D:\\1Yang\\0Research\\0_2566_radar_mosaic\\00mos_chaophraya\\00run_batch_acchr_codes\\2output\\0Hourly\\0Sontihn_RF\\0CBB_Pulse\\0output_mosaic\\2018071616_2000m.tif. Using WGS84 as default.\n",
      "Features shape: (250000, 3)\n",
      "NaN values before imputation: 114309\n",
      "NaN values after imputation: 114309\n",
      "Original data - Mean: 0.18, Max: 57.60\n",
      "Corrected data - Mean: 1.04, Max: 49.43\n"
     ]
    },
    {
     "name": "stderr",
     "output_type": "stream",
     "text": [
      " 14%|███████████▋                                                                     | 34/235 [02:34<15:11,  4.54s/it]C:\\Users\\Admin\\anaconda3\\envs\\mossf\\lib\\site-packages\\sklearn\\base.py:493: FutureWarning: The feature names should match those that were passed during fit. Starting version 1.2, an error will be raised.\n",
      "Feature names unseen at fit time:\n",
      "- rainfall\n",
      "Feature names seen at fit time, yet now missing:\n",
      "- radar_rainfall\n",
      "\n",
      "  warnings.warn(message, FutureWarning)\n"
     ]
    },
    {
     "name": "stdout",
     "output_type": "stream",
     "text": [
      "\n",
      "Processing file: D:\\1Yang\\0Research\\0_2566_radar_mosaic\\00mos_chaophraya\\00run_batch_acchr_codes\\2output\\0Hourly\\0Sontihn_RF\\0CBB_Pulse\\0output_mosaic\\2018071617_2000m.tif\n",
      "Warning: CRS not defined for D:\\1Yang\\0Research\\0_2566_radar_mosaic\\00mos_chaophraya\\00run_batch_acchr_codes\\2output\\0Hourly\\0Sontihn_RF\\0CBB_Pulse\\0output_mosaic\\2018071617_2000m.tif. Using WGS84 as default.\n",
      "Features shape: (250000, 3)\n",
      "NaN values before imputation: 114362\n",
      "NaN values after imputation: 114362\n",
      "Original data - Mean: 0.16, Max: 56.44\n",
      "Corrected data - Mean: 0.92, Max: 49.43\n"
     ]
    },
    {
     "name": "stderr",
     "output_type": "stream",
     "text": [
      " 15%|████████████                                                                     | 35/235 [02:38<15:03,  4.52s/it]C:\\Users\\Admin\\anaconda3\\envs\\mossf\\lib\\site-packages\\sklearn\\base.py:493: FutureWarning: The feature names should match those that were passed during fit. Starting version 1.2, an error will be raised.\n",
      "Feature names unseen at fit time:\n",
      "- rainfall\n",
      "Feature names seen at fit time, yet now missing:\n",
      "- radar_rainfall\n",
      "\n",
      "  warnings.warn(message, FutureWarning)\n"
     ]
    },
    {
     "name": "stdout",
     "output_type": "stream",
     "text": [
      "\n",
      "Processing file: D:\\1Yang\\0Research\\0_2566_radar_mosaic\\00mos_chaophraya\\00run_batch_acchr_codes\\2output\\0Hourly\\0Sontihn_RF\\0CBB_Pulse\\0output_mosaic\\2018071618_2000m.tif\n",
      "Warning: CRS not defined for D:\\1Yang\\0Research\\0_2566_radar_mosaic\\00mos_chaophraya\\00run_batch_acchr_codes\\2output\\0Hourly\\0Sontihn_RF\\0CBB_Pulse\\0output_mosaic\\2018071618_2000m.tif. Using WGS84 as default.\n",
      "Features shape: (250000, 3)\n",
      "NaN values before imputation: 114421\n",
      "NaN values after imputation: 114421\n",
      "Original data - Mean: 0.14, Max: 31.49\n",
      "Corrected data - Mean: 0.83, Max: 49.43\n"
     ]
    },
    {
     "name": "stderr",
     "output_type": "stream",
     "text": [
      " 15%|████████████▍                                                                    | 36/235 [02:43<15:05,  4.55s/it]C:\\Users\\Admin\\anaconda3\\envs\\mossf\\lib\\site-packages\\sklearn\\base.py:493: FutureWarning: The feature names should match those that were passed during fit. Starting version 1.2, an error will be raised.\n",
      "Feature names unseen at fit time:\n",
      "- rainfall\n",
      "Feature names seen at fit time, yet now missing:\n",
      "- radar_rainfall\n",
      "\n",
      "  warnings.warn(message, FutureWarning)\n"
     ]
    },
    {
     "name": "stdout",
     "output_type": "stream",
     "text": [
      "\n",
      "Processing file: D:\\1Yang\\0Research\\0_2566_radar_mosaic\\00mos_chaophraya\\00run_batch_acchr_codes\\2output\\0Hourly\\0Sontihn_RF\\0CBB_Pulse\\0output_mosaic\\2018071619_2000m.tif\n",
      "Warning: CRS not defined for D:\\1Yang\\0Research\\0_2566_radar_mosaic\\00mos_chaophraya\\00run_batch_acchr_codes\\2output\\0Hourly\\0Sontihn_RF\\0CBB_Pulse\\0output_mosaic\\2018071619_2000m.tif. Using WGS84 as default.\n",
      "Features shape: (250000, 3)\n",
      "NaN values before imputation: 114299\n",
      "NaN values after imputation: 114299\n",
      "Original data - Mean: 0.16, Max: 25.64\n",
      "Corrected data - Mean: 0.92, Max: 49.43\n"
     ]
    },
    {
     "name": "stderr",
     "output_type": "stream",
     "text": [
      " 16%|████████████▊                                                                    | 37/235 [02:48<14:53,  4.51s/it]C:\\Users\\Admin\\anaconda3\\envs\\mossf\\lib\\site-packages\\sklearn\\base.py:493: FutureWarning: The feature names should match those that were passed during fit. Starting version 1.2, an error will be raised.\n",
      "Feature names unseen at fit time:\n",
      "- rainfall\n",
      "Feature names seen at fit time, yet now missing:\n",
      "- radar_rainfall\n",
      "\n",
      "  warnings.warn(message, FutureWarning)\n"
     ]
    },
    {
     "name": "stdout",
     "output_type": "stream",
     "text": [
      "\n",
      "Processing file: D:\\1Yang\\0Research\\0_2566_radar_mosaic\\00mos_chaophraya\\00run_batch_acchr_codes\\2output\\0Hourly\\0Sontihn_RF\\0CBB_Pulse\\0output_mosaic\\2018071620_2000m.tif\n",
      "Warning: CRS not defined for D:\\1Yang\\0Research\\0_2566_radar_mosaic\\00mos_chaophraya\\00run_batch_acchr_codes\\2output\\0Hourly\\0Sontihn_RF\\0CBB_Pulse\\0output_mosaic\\2018071620_2000m.tif. Using WGS84 as default.\n",
      "Features shape: (250000, 3)\n",
      "NaN values before imputation: 114448\n",
      "NaN values after imputation: 114448\n",
      "Original data - Mean: 0.11, Max: 55.88\n",
      "Corrected data - Mean: 0.86, Max: 49.43\n"
     ]
    },
    {
     "name": "stderr",
     "output_type": "stream",
     "text": [
      " 16%|█████████████                                                                    | 38/235 [02:52<14:45,  4.50s/it]C:\\Users\\Admin\\anaconda3\\envs\\mossf\\lib\\site-packages\\sklearn\\base.py:493: FutureWarning: The feature names should match those that were passed during fit. Starting version 1.2, an error will be raised.\n",
      "Feature names unseen at fit time:\n",
      "- rainfall\n",
      "Feature names seen at fit time, yet now missing:\n",
      "- radar_rainfall\n",
      "\n",
      "  warnings.warn(message, FutureWarning)\n"
     ]
    },
    {
     "name": "stdout",
     "output_type": "stream",
     "text": [
      "\n",
      "Processing file: D:\\1Yang\\0Research\\0_2566_radar_mosaic\\00mos_chaophraya\\00run_batch_acchr_codes\\2output\\0Hourly\\0Sontihn_RF\\0CBB_Pulse\\0output_mosaic\\2018071621_2000m.tif\n",
      "Warning: CRS not defined for D:\\1Yang\\0Research\\0_2566_radar_mosaic\\00mos_chaophraya\\00run_batch_acchr_codes\\2output\\0Hourly\\0Sontihn_RF\\0CBB_Pulse\\0output_mosaic\\2018071621_2000m.tif. Using WGS84 as default.\n",
      "Features shape: (250000, 3)\n",
      "NaN values before imputation: 114333\n",
      "NaN values after imputation: 114333\n",
      "Original data - Mean: 0.03, Max: 18.64\n",
      "Corrected data - Mean: 0.73, Max: 49.43\n"
     ]
    },
    {
     "name": "stderr",
     "output_type": "stream",
     "text": [
      " 17%|█████████████▍                                                                   | 39/235 [02:57<14:40,  4.49s/it]C:\\Users\\Admin\\anaconda3\\envs\\mossf\\lib\\site-packages\\sklearn\\base.py:493: FutureWarning: The feature names should match those that were passed during fit. Starting version 1.2, an error will be raised.\n",
      "Feature names unseen at fit time:\n",
      "- rainfall\n",
      "Feature names seen at fit time, yet now missing:\n",
      "- radar_rainfall\n",
      "\n",
      "  warnings.warn(message, FutureWarning)\n"
     ]
    },
    {
     "name": "stdout",
     "output_type": "stream",
     "text": [
      "\n",
      "Processing file: D:\\1Yang\\0Research\\0_2566_radar_mosaic\\00mos_chaophraya\\00run_batch_acchr_codes\\2output\\0Hourly\\0Sontihn_RF\\0CBB_Pulse\\0output_mosaic\\2018071622_2000m.tif\n",
      "Warning: CRS not defined for D:\\1Yang\\0Research\\0_2566_radar_mosaic\\00mos_chaophraya\\00run_batch_acchr_codes\\2output\\0Hourly\\0Sontihn_RF\\0CBB_Pulse\\0output_mosaic\\2018071622_2000m.tif. Using WGS84 as default.\n",
      "Features shape: (250000, 3)\n",
      "NaN values before imputation: 114309\n",
      "NaN values after imputation: 114309\n",
      "Original data - Mean: 0.03, Max: 14.18\n",
      "Corrected data - Mean: 0.61, Max: 49.43\n"
     ]
    },
    {
     "name": "stderr",
     "output_type": "stream",
     "text": [
      " 17%|█████████████▊                                                                   | 40/235 [03:01<14:31,  4.47s/it]C:\\Users\\Admin\\anaconda3\\envs\\mossf\\lib\\site-packages\\sklearn\\base.py:493: FutureWarning: The feature names should match those that were passed during fit. Starting version 1.2, an error will be raised.\n",
      "Feature names unseen at fit time:\n",
      "- rainfall\n",
      "Feature names seen at fit time, yet now missing:\n",
      "- radar_rainfall\n",
      "\n",
      "  warnings.warn(message, FutureWarning)\n"
     ]
    },
    {
     "name": "stdout",
     "output_type": "stream",
     "text": [
      "\n",
      "Processing file: D:\\1Yang\\0Research\\0_2566_radar_mosaic\\00mos_chaophraya\\00run_batch_acchr_codes\\2output\\0Hourly\\0Sontihn_RF\\0CBB_Pulse\\0output_mosaic\\2018071623_2000m.tif\n",
      "Warning: CRS not defined for D:\\1Yang\\0Research\\0_2566_radar_mosaic\\00mos_chaophraya\\00run_batch_acchr_codes\\2output\\0Hourly\\0Sontihn_RF\\0CBB_Pulse\\0output_mosaic\\2018071623_2000m.tif. Using WGS84 as default.\n",
      "Features shape: (250000, 3)\n",
      "NaN values before imputation: 114367\n",
      "NaN values after imputation: 114367\n",
      "Original data - Mean: 0.03, Max: 28.18\n",
      "Corrected data - Mean: 0.56, Max: 49.43\n"
     ]
    },
    {
     "name": "stderr",
     "output_type": "stream",
     "text": [
      " 17%|██████████████▏                                                                  | 41/235 [03:05<14:25,  4.46s/it]C:\\Users\\Admin\\anaconda3\\envs\\mossf\\lib\\site-packages\\sklearn\\base.py:493: FutureWarning: The feature names should match those that were passed during fit. Starting version 1.2, an error will be raised.\n",
      "Feature names unseen at fit time:\n",
      "- rainfall\n",
      "Feature names seen at fit time, yet now missing:\n",
      "- radar_rainfall\n",
      "\n",
      "  warnings.warn(message, FutureWarning)\n"
     ]
    },
    {
     "name": "stdout",
     "output_type": "stream",
     "text": [
      "\n",
      "Processing file: D:\\1Yang\\0Research\\0_2566_radar_mosaic\\00mos_chaophraya\\00run_batch_acchr_codes\\2output\\0Hourly\\0Sontihn_RF\\0CBB_Pulse\\0output_mosaic\\2018071700_2000m.tif\n",
      "Warning: CRS not defined for D:\\1Yang\\0Research\\0_2566_radar_mosaic\\00mos_chaophraya\\00run_batch_acchr_codes\\2output\\0Hourly\\0Sontihn_RF\\0CBB_Pulse\\0output_mosaic\\2018071700_2000m.tif. Using WGS84 as default.\n",
      "Features shape: (250000, 3)\n",
      "NaN values before imputation: 114325\n",
      "NaN values after imputation: 114325\n",
      "Original data - Mean: 0.03, Max: 11.89\n",
      "Corrected data - Mean: 0.59, Max: 48.65\n"
     ]
    },
    {
     "name": "stderr",
     "output_type": "stream",
     "text": [
      " 18%|██████████████▍                                                                  | 42/235 [03:10<14:19,  4.45s/it]C:\\Users\\Admin\\anaconda3\\envs\\mossf\\lib\\site-packages\\sklearn\\base.py:493: FutureWarning: The feature names should match those that were passed during fit. Starting version 1.2, an error will be raised.\n",
      "Feature names unseen at fit time:\n",
      "- rainfall\n",
      "Feature names seen at fit time, yet now missing:\n",
      "- radar_rainfall\n",
      "\n",
      "  warnings.warn(message, FutureWarning)\n"
     ]
    },
    {
     "name": "stdout",
     "output_type": "stream",
     "text": [
      "\n",
      "Processing file: D:\\1Yang\\0Research\\0_2566_radar_mosaic\\00mos_chaophraya\\00run_batch_acchr_codes\\2output\\0Hourly\\0Sontihn_RF\\0CBB_Pulse\\0output_mosaic\\2018071701_2000m.tif\n",
      "Warning: CRS not defined for D:\\1Yang\\0Research\\0_2566_radar_mosaic\\00mos_chaophraya\\00run_batch_acchr_codes\\2output\\0Hourly\\0Sontihn_RF\\0CBB_Pulse\\0output_mosaic\\2018071701_2000m.tif. Using WGS84 as default.\n",
      "Features shape: (250000, 3)\n",
      "NaN values before imputation: 114311\n",
      "NaN values after imputation: 114311\n",
      "Original data - Mean: 0.03, Max: 9.19\n",
      "Corrected data - Mean: 0.63, Max: 22.88\n"
     ]
    },
    {
     "name": "stderr",
     "output_type": "stream",
     "text": [
      " 18%|██████████████▊                                                                  | 43/235 [03:14<14:10,  4.43s/it]C:\\Users\\Admin\\anaconda3\\envs\\mossf\\lib\\site-packages\\sklearn\\base.py:493: FutureWarning: The feature names should match those that were passed during fit. Starting version 1.2, an error will be raised.\n",
      "Feature names unseen at fit time:\n",
      "- rainfall\n",
      "Feature names seen at fit time, yet now missing:\n",
      "- radar_rainfall\n",
      "\n",
      "  warnings.warn(message, FutureWarning)\n"
     ]
    },
    {
     "name": "stdout",
     "output_type": "stream",
     "text": [
      "\n",
      "Processing file: D:\\1Yang\\0Research\\0_2566_radar_mosaic\\00mos_chaophraya\\00run_batch_acchr_codes\\2output\\0Hourly\\0Sontihn_RF\\0CBB_Pulse\\0output_mosaic\\2018071702_2000m.tif\n",
      "Warning: CRS not defined for D:\\1Yang\\0Research\\0_2566_radar_mosaic\\00mos_chaophraya\\00run_batch_acchr_codes\\2output\\0Hourly\\0Sontihn_RF\\0CBB_Pulse\\0output_mosaic\\2018071702_2000m.tif. Using WGS84 as default.\n",
      "Features shape: (250000, 3)\n",
      "NaN values before imputation: 114369\n",
      "NaN values after imputation: 114369\n",
      "Original data - Mean: 0.04, Max: 7.47\n",
      "Corrected data - Mean: 0.65, Max: 18.87\n"
     ]
    },
    {
     "name": "stderr",
     "output_type": "stream",
     "text": [
      " 19%|███████████████▏                                                                 | 44/235 [03:19<14:04,  4.42s/it]C:\\Users\\Admin\\anaconda3\\envs\\mossf\\lib\\site-packages\\sklearn\\base.py:493: FutureWarning: The feature names should match those that were passed during fit. Starting version 1.2, an error will be raised.\n",
      "Feature names unseen at fit time:\n",
      "- rainfall\n",
      "Feature names seen at fit time, yet now missing:\n",
      "- radar_rainfall\n",
      "\n",
      "  warnings.warn(message, FutureWarning)\n"
     ]
    },
    {
     "name": "stdout",
     "output_type": "stream",
     "text": [
      "\n",
      "Processing file: D:\\1Yang\\0Research\\0_2566_radar_mosaic\\00mos_chaophraya\\00run_batch_acchr_codes\\2output\\0Hourly\\0Sontihn_RF\\0CBB_Pulse\\0output_mosaic\\2018071703_2000m.tif\n",
      "Warning: CRS not defined for D:\\1Yang\\0Research\\0_2566_radar_mosaic\\00mos_chaophraya\\00run_batch_acchr_codes\\2output\\0Hourly\\0Sontihn_RF\\0CBB_Pulse\\0output_mosaic\\2018071703_2000m.tif. Using WGS84 as default.\n",
      "Features shape: (250000, 3)\n",
      "NaN values before imputation: 114294\n",
      "NaN values after imputation: 114294\n",
      "Original data - Mean: 0.04, Max: 16.87\n",
      "Corrected data - Mean: 0.76, Max: 49.43\n"
     ]
    },
    {
     "name": "stderr",
     "output_type": "stream",
     "text": [
      " 19%|███████████████▌                                                                 | 45/235 [03:23<14:13,  4.49s/it]C:\\Users\\Admin\\anaconda3\\envs\\mossf\\lib\\site-packages\\sklearn\\base.py:493: FutureWarning: The feature names should match those that were passed during fit. Starting version 1.2, an error will be raised.\n",
      "Feature names unseen at fit time:\n",
      "- rainfall\n",
      "Feature names seen at fit time, yet now missing:\n",
      "- radar_rainfall\n",
      "\n",
      "  warnings.warn(message, FutureWarning)\n"
     ]
    },
    {
     "name": "stdout",
     "output_type": "stream",
     "text": [
      "\n",
      "Processing file: D:\\1Yang\\0Research\\0_2566_radar_mosaic\\00mos_chaophraya\\00run_batch_acchr_codes\\2output\\0Hourly\\0Sontihn_RF\\0CBB_Pulse\\0output_mosaic\\2018071704_2000m.tif\n",
      "Warning: CRS not defined for D:\\1Yang\\0Research\\0_2566_radar_mosaic\\00mos_chaophraya\\00run_batch_acchr_codes\\2output\\0Hourly\\0Sontihn_RF\\0CBB_Pulse\\0output_mosaic\\2018071704_2000m.tif. Using WGS84 as default.\n",
      "Features shape: (250000, 3)\n",
      "NaN values before imputation: 114324\n",
      "NaN values after imputation: 114324\n",
      "Original data - Mean: 0.05, Max: 26.97\n",
      "Corrected data - Mean: 0.82, Max: 49.43\n"
     ]
    },
    {
     "name": "stderr",
     "output_type": "stream",
     "text": [
      " 20%|███████████████▊                                                                 | 46/235 [03:28<14:05,  4.47s/it]C:\\Users\\Admin\\anaconda3\\envs\\mossf\\lib\\site-packages\\sklearn\\base.py:493: FutureWarning: The feature names should match those that were passed during fit. Starting version 1.2, an error will be raised.\n",
      "Feature names unseen at fit time:\n",
      "- rainfall\n",
      "Feature names seen at fit time, yet now missing:\n",
      "- radar_rainfall\n",
      "\n",
      "  warnings.warn(message, FutureWarning)\n"
     ]
    },
    {
     "name": "stdout",
     "output_type": "stream",
     "text": [
      "\n",
      "Processing file: D:\\1Yang\\0Research\\0_2566_radar_mosaic\\00mos_chaophraya\\00run_batch_acchr_codes\\2output\\0Hourly\\0Sontihn_RF\\0CBB_Pulse\\0output_mosaic\\2018071705_2000m.tif\n",
      "Warning: CRS not defined for D:\\1Yang\\0Research\\0_2566_radar_mosaic\\00mos_chaophraya\\00run_batch_acchr_codes\\2output\\0Hourly\\0Sontihn_RF\\0CBB_Pulse\\0output_mosaic\\2018071705_2000m.tif. Using WGS84 as default.\n",
      "Features shape: (250000, 3)\n",
      "NaN values before imputation: 114341\n",
      "NaN values after imputation: 114341\n",
      "Original data - Mean: 0.06, Max: 33.82\n",
      "Corrected data - Mean: 0.87, Max: 49.43\n"
     ]
    },
    {
     "name": "stderr",
     "output_type": "stream",
     "text": [
      " 20%|████████████████▏                                                                | 47/235 [03:32<14:00,  4.47s/it]C:\\Users\\Admin\\anaconda3\\envs\\mossf\\lib\\site-packages\\sklearn\\base.py:493: FutureWarning: The feature names should match those that were passed during fit. Starting version 1.2, an error will be raised.\n",
      "Feature names unseen at fit time:\n",
      "- rainfall\n",
      "Feature names seen at fit time, yet now missing:\n",
      "- radar_rainfall\n",
      "\n",
      "  warnings.warn(message, FutureWarning)\n"
     ]
    },
    {
     "name": "stdout",
     "output_type": "stream",
     "text": [
      "\n",
      "Processing file: D:\\1Yang\\0Research\\0_2566_radar_mosaic\\00mos_chaophraya\\00run_batch_acchr_codes\\2output\\0Hourly\\0Sontihn_RF\\0CBB_Pulse\\0output_mosaic\\2018071706_2000m.tif\n",
      "Warning: CRS not defined for D:\\1Yang\\0Research\\0_2566_radar_mosaic\\00mos_chaophraya\\00run_batch_acchr_codes\\2output\\0Hourly\\0Sontihn_RF\\0CBB_Pulse\\0output_mosaic\\2018071706_2000m.tif. Using WGS84 as default.\n",
      "Features shape: (250000, 3)\n",
      "NaN values before imputation: 114300\n",
      "NaN values after imputation: 114300\n",
      "Original data - Mean: 0.08, Max: 43.35\n",
      "Corrected data - Mean: 0.92, Max: 49.43\n"
     ]
    },
    {
     "name": "stderr",
     "output_type": "stream",
     "text": [
      " 20%|████████████████▌                                                                | 48/235 [03:37<13:52,  4.45s/it]C:\\Users\\Admin\\anaconda3\\envs\\mossf\\lib\\site-packages\\sklearn\\base.py:493: FutureWarning: The feature names should match those that were passed during fit. Starting version 1.2, an error will be raised.\n",
      "Feature names unseen at fit time:\n",
      "- rainfall\n",
      "Feature names seen at fit time, yet now missing:\n",
      "- radar_rainfall\n",
      "\n",
      "  warnings.warn(message, FutureWarning)\n"
     ]
    },
    {
     "name": "stdout",
     "output_type": "stream",
     "text": [
      "\n",
      "Processing file: D:\\1Yang\\0Research\\0_2566_radar_mosaic\\00mos_chaophraya\\00run_batch_acchr_codes\\2output\\0Hourly\\0Sontihn_RF\\0CBB_Pulse\\0output_mosaic\\2018071707_2000m.tif\n",
      "Warning: CRS not defined for D:\\1Yang\\0Research\\0_2566_radar_mosaic\\00mos_chaophraya\\00run_batch_acchr_codes\\2output\\0Hourly\\0Sontihn_RF\\0CBB_Pulse\\0output_mosaic\\2018071707_2000m.tif. Using WGS84 as default.\n",
      "Features shape: (250000, 3)\n",
      "NaN values before imputation: 114329\n",
      "NaN values after imputation: 114329\n",
      "Original data - Mean: 0.11, Max: 40.16\n",
      "Corrected data - Mean: 0.90, Max: 49.43\n"
     ]
    },
    {
     "name": "stderr",
     "output_type": "stream",
     "text": [
      " 21%|████████████████▉                                                                | 49/235 [03:41<13:46,  4.44s/it]C:\\Users\\Admin\\anaconda3\\envs\\mossf\\lib\\site-packages\\sklearn\\base.py:493: FutureWarning: The feature names should match those that were passed during fit. Starting version 1.2, an error will be raised.\n",
      "Feature names unseen at fit time:\n",
      "- rainfall\n",
      "Feature names seen at fit time, yet now missing:\n",
      "- radar_rainfall\n",
      "\n",
      "  warnings.warn(message, FutureWarning)\n"
     ]
    },
    {
     "name": "stdout",
     "output_type": "stream",
     "text": [
      "\n",
      "Processing file: D:\\1Yang\\0Research\\0_2566_radar_mosaic\\00mos_chaophraya\\00run_batch_acchr_codes\\2output\\0Hourly\\0Sontihn_RF\\0CBB_Pulse\\0output_mosaic\\2018071708_2000m.tif\n",
      "Warning: CRS not defined for D:\\1Yang\\0Research\\0_2566_radar_mosaic\\00mos_chaophraya\\00run_batch_acchr_codes\\2output\\0Hourly\\0Sontihn_RF\\0CBB_Pulse\\0output_mosaic\\2018071708_2000m.tif. Using WGS84 as default.\n",
      "Features shape: (250000, 3)\n",
      "NaN values before imputation: 114339\n",
      "NaN values after imputation: 114339\n",
      "Original data - Mean: 0.12, Max: 35.78\n",
      "Corrected data - Mean: 0.93, Max: 49.43\n"
     ]
    },
    {
     "name": "stderr",
     "output_type": "stream",
     "text": [
      " 21%|█████████████████▏                                                               | 50/235 [03:45<13:41,  4.44s/it]C:\\Users\\Admin\\anaconda3\\envs\\mossf\\lib\\site-packages\\sklearn\\base.py:493: FutureWarning: The feature names should match those that were passed during fit. Starting version 1.2, an error will be raised.\n",
      "Feature names unseen at fit time:\n",
      "- rainfall\n",
      "Feature names seen at fit time, yet now missing:\n",
      "- radar_rainfall\n",
      "\n",
      "  warnings.warn(message, FutureWarning)\n"
     ]
    },
    {
     "name": "stdout",
     "output_type": "stream",
     "text": [
      "\n",
      "Processing file: D:\\1Yang\\0Research\\0_2566_radar_mosaic\\00mos_chaophraya\\00run_batch_acchr_codes\\2output\\0Hourly\\0Sontihn_RF\\0CBB_Pulse\\0output_mosaic\\2018071709_2000m.tif\n",
      "Warning: CRS not defined for D:\\1Yang\\0Research\\0_2566_radar_mosaic\\00mos_chaophraya\\00run_batch_acchr_codes\\2output\\0Hourly\\0Sontihn_RF\\0CBB_Pulse\\0output_mosaic\\2018071709_2000m.tif. Using WGS84 as default.\n",
      "Features shape: (250000, 3)\n",
      "NaN values before imputation: 114286\n",
      "NaN values after imputation: 114286\n",
      "Original data - Mean: 0.15, Max: 40.77\n",
      "Corrected data - Mean: 0.87, Max: 49.43\n"
     ]
    },
    {
     "name": "stderr",
     "output_type": "stream",
     "text": [
      " 22%|█████████████████▌                                                               | 51/235 [03:50<13:36,  4.44s/it]C:\\Users\\Admin\\anaconda3\\envs\\mossf\\lib\\site-packages\\sklearn\\base.py:493: FutureWarning: The feature names should match those that were passed during fit. Starting version 1.2, an error will be raised.\n",
      "Feature names unseen at fit time:\n",
      "- rainfall\n",
      "Feature names seen at fit time, yet now missing:\n",
      "- radar_rainfall\n",
      "\n",
      "  warnings.warn(message, FutureWarning)\n"
     ]
    },
    {
     "name": "stdout",
     "output_type": "stream",
     "text": [
      "\n",
      "Processing file: D:\\1Yang\\0Research\\0_2566_radar_mosaic\\00mos_chaophraya\\00run_batch_acchr_codes\\2output\\0Hourly\\0Sontihn_RF\\0CBB_Pulse\\0output_mosaic\\2018071710_2000m.tif\n",
      "Warning: CRS not defined for D:\\1Yang\\0Research\\0_2566_radar_mosaic\\00mos_chaophraya\\00run_batch_acchr_codes\\2output\\0Hourly\\0Sontihn_RF\\0CBB_Pulse\\0output_mosaic\\2018071710_2000m.tif. Using WGS84 as default.\n",
      "Features shape: (250000, 3)\n",
      "NaN values before imputation: 114357\n",
      "NaN values after imputation: 114357\n",
      "Original data - Mean: 0.15, Max: 28.53\n",
      "Corrected data - Mean: 0.78, Max: 49.43\n"
     ]
    },
    {
     "name": "stderr",
     "output_type": "stream",
     "text": [
      " 22%|█████████████████▉                                                               | 52/235 [03:54<13:31,  4.43s/it]C:\\Users\\Admin\\anaconda3\\envs\\mossf\\lib\\site-packages\\sklearn\\base.py:493: FutureWarning: The feature names should match those that were passed during fit. Starting version 1.2, an error will be raised.\n",
      "Feature names unseen at fit time:\n",
      "- rainfall\n",
      "Feature names seen at fit time, yet now missing:\n",
      "- radar_rainfall\n",
      "\n",
      "  warnings.warn(message, FutureWarning)\n"
     ]
    },
    {
     "name": "stdout",
     "output_type": "stream",
     "text": [
      "\n",
      "Processing file: D:\\1Yang\\0Research\\0_2566_radar_mosaic\\00mos_chaophraya\\00run_batch_acchr_codes\\2output\\0Hourly\\0Sontihn_RF\\0CBB_Pulse\\0output_mosaic\\2018071711_2000m.tif\n",
      "Warning: CRS not defined for D:\\1Yang\\0Research\\0_2566_radar_mosaic\\00mos_chaophraya\\00run_batch_acchr_codes\\2output\\0Hourly\\0Sontihn_RF\\0CBB_Pulse\\0output_mosaic\\2018071711_2000m.tif. Using WGS84 as default.\n",
      "Features shape: (250000, 3)\n",
      "NaN values before imputation: 114313\n",
      "NaN values after imputation: 114313\n",
      "Original data - Mean: 0.22, Max: 24.29\n",
      "Corrected data - Mean: 0.98, Max: 49.43\n"
     ]
    },
    {
     "name": "stderr",
     "output_type": "stream",
     "text": [
      " 23%|██████████████████▎                                                              | 53/235 [03:59<13:29,  4.45s/it]C:\\Users\\Admin\\anaconda3\\envs\\mossf\\lib\\site-packages\\sklearn\\base.py:493: FutureWarning: The feature names should match those that were passed during fit. Starting version 1.2, an error will be raised.\n",
      "Feature names unseen at fit time:\n",
      "- rainfall\n",
      "Feature names seen at fit time, yet now missing:\n",
      "- radar_rainfall\n",
      "\n",
      "  warnings.warn(message, FutureWarning)\n"
     ]
    },
    {
     "name": "stdout",
     "output_type": "stream",
     "text": [
      "\n",
      "Processing file: D:\\1Yang\\0Research\\0_2566_radar_mosaic\\00mos_chaophraya\\00run_batch_acchr_codes\\2output\\0Hourly\\0Sontihn_RF\\0CBB_Pulse\\0output_mosaic\\2018071712_2000m.tif\n",
      "Warning: CRS not defined for D:\\1Yang\\0Research\\0_2566_radar_mosaic\\00mos_chaophraya\\00run_batch_acchr_codes\\2output\\0Hourly\\0Sontihn_RF\\0CBB_Pulse\\0output_mosaic\\2018071712_2000m.tif. Using WGS84 as default.\n",
      "Features shape: (250000, 3)\n",
      "NaN values before imputation: 114424\n",
      "NaN values after imputation: 114424\n",
      "Original data - Mean: 0.24, Max: 23.94\n",
      "Corrected data - Mean: 1.10, Max: 49.43\n"
     ]
    },
    {
     "name": "stderr",
     "output_type": "stream",
     "text": [
      " 23%|██████████████████▌                                                              | 54/235 [04:03<13:23,  4.44s/it]C:\\Users\\Admin\\anaconda3\\envs\\mossf\\lib\\site-packages\\sklearn\\base.py:493: FutureWarning: The feature names should match those that were passed during fit. Starting version 1.2, an error will be raised.\n",
      "Feature names unseen at fit time:\n",
      "- rainfall\n",
      "Feature names seen at fit time, yet now missing:\n",
      "- radar_rainfall\n",
      "\n",
      "  warnings.warn(message, FutureWarning)\n"
     ]
    },
    {
     "name": "stdout",
     "output_type": "stream",
     "text": [
      "\n",
      "Processing file: D:\\1Yang\\0Research\\0_2566_radar_mosaic\\00mos_chaophraya\\00run_batch_acchr_codes\\2output\\0Hourly\\0Sontihn_RF\\0CBB_Pulse\\0output_mosaic\\2018071713_2000m.tif\n",
      "Warning: CRS not defined for D:\\1Yang\\0Research\\0_2566_radar_mosaic\\00mos_chaophraya\\00run_batch_acchr_codes\\2output\\0Hourly\\0Sontihn_RF\\0CBB_Pulse\\0output_mosaic\\2018071713_2000m.tif. Using WGS84 as default.\n",
      "Features shape: (250000, 3)\n",
      "NaN values before imputation: 114325\n",
      "NaN values after imputation: 114325\n",
      "Original data - Mean: 0.34, Max: 37.87\n",
      "Corrected data - Mean: 1.35, Max: 49.43\n"
     ]
    },
    {
     "name": "stderr",
     "output_type": "stream",
     "text": [
      " 23%|██████████████████▉                                                              | 55/235 [04:08<13:19,  4.44s/it]C:\\Users\\Admin\\anaconda3\\envs\\mossf\\lib\\site-packages\\sklearn\\base.py:493: FutureWarning: The feature names should match those that were passed during fit. Starting version 1.2, an error will be raised.\n",
      "Feature names unseen at fit time:\n",
      "- rainfall\n",
      "Feature names seen at fit time, yet now missing:\n",
      "- radar_rainfall\n",
      "\n",
      "  warnings.warn(message, FutureWarning)\n"
     ]
    },
    {
     "name": "stdout",
     "output_type": "stream",
     "text": [
      "\n",
      "Processing file: D:\\1Yang\\0Research\\0_2566_radar_mosaic\\00mos_chaophraya\\00run_batch_acchr_codes\\2output\\0Hourly\\0Sontihn_RF\\0CBB_Pulse\\0output_mosaic\\2018071714_2000m.tif\n",
      "Warning: CRS not defined for D:\\1Yang\\0Research\\0_2566_radar_mosaic\\00mos_chaophraya\\00run_batch_acchr_codes\\2output\\0Hourly\\0Sontihn_RF\\0CBB_Pulse\\0output_mosaic\\2018071714_2000m.tif. Using WGS84 as default.\n",
      "Features shape: (250000, 3)\n",
      "NaN values before imputation: 114313\n",
      "NaN values after imputation: 114313\n",
      "Original data - Mean: 0.43, Max: 95.33\n",
      "Corrected data - Mean: 1.56, Max: 49.43\n"
     ]
    },
    {
     "name": "stderr",
     "output_type": "stream",
     "text": [
      " 24%|███████████████████▎                                                             | 56/235 [04:12<13:14,  4.44s/it]C:\\Users\\Admin\\anaconda3\\envs\\mossf\\lib\\site-packages\\sklearn\\base.py:493: FutureWarning: The feature names should match those that were passed during fit. Starting version 1.2, an error will be raised.\n",
      "Feature names unseen at fit time:\n",
      "- rainfall\n",
      "Feature names seen at fit time, yet now missing:\n",
      "- radar_rainfall\n",
      "\n",
      "  warnings.warn(message, FutureWarning)\n"
     ]
    },
    {
     "name": "stdout",
     "output_type": "stream",
     "text": [
      "\n",
      "Processing file: D:\\1Yang\\0Research\\0_2566_radar_mosaic\\00mos_chaophraya\\00run_batch_acchr_codes\\2output\\0Hourly\\0Sontihn_RF\\0CBB_Pulse\\0output_mosaic\\2018071715_2000m.tif\n",
      "Warning: CRS not defined for D:\\1Yang\\0Research\\0_2566_radar_mosaic\\00mos_chaophraya\\00run_batch_acchr_codes\\2output\\0Hourly\\0Sontihn_RF\\0CBB_Pulse\\0output_mosaic\\2018071715_2000m.tif. Using WGS84 as default.\n",
      "Features shape: (250000, 3)\n",
      "NaN values before imputation: 114310\n",
      "NaN values after imputation: 114310\n",
      "Original data - Mean: 0.50, Max: 75.51\n",
      "Corrected data - Mean: 1.70, Max: 49.43\n"
     ]
    },
    {
     "name": "stderr",
     "output_type": "stream",
     "text": [
      " 24%|███████████████████▋                                                             | 57/235 [04:17<13:25,  4.53s/it]C:\\Users\\Admin\\anaconda3\\envs\\mossf\\lib\\site-packages\\sklearn\\base.py:493: FutureWarning: The feature names should match those that were passed during fit. Starting version 1.2, an error will be raised.\n",
      "Feature names unseen at fit time:\n",
      "- rainfall\n",
      "Feature names seen at fit time, yet now missing:\n",
      "- radar_rainfall\n",
      "\n",
      "  warnings.warn(message, FutureWarning)\n"
     ]
    },
    {
     "name": "stdout",
     "output_type": "stream",
     "text": [
      "\n",
      "Processing file: D:\\1Yang\\0Research\\0_2566_radar_mosaic\\00mos_chaophraya\\00run_batch_acchr_codes\\2output\\0Hourly\\0Sontihn_RF\\0CBB_Pulse\\0output_mosaic\\2018071716_2000m.tif\n",
      "Warning: CRS not defined for D:\\1Yang\\0Research\\0_2566_radar_mosaic\\00mos_chaophraya\\00run_batch_acchr_codes\\2output\\0Hourly\\0Sontihn_RF\\0CBB_Pulse\\0output_mosaic\\2018071716_2000m.tif. Using WGS84 as default.\n",
      "Features shape: (250000, 3)\n",
      "NaN values before imputation: 114318\n",
      "NaN values after imputation: 114318\n",
      "Original data - Mean: 0.30, Max: 63.78\n",
      "Corrected data - Mean: 1.31, Max: 49.43\n"
     ]
    },
    {
     "name": "stderr",
     "output_type": "stream",
     "text": [
      " 25%|███████████████████▉                                                             | 58/235 [04:21<13:16,  4.50s/it]C:\\Users\\Admin\\anaconda3\\envs\\mossf\\lib\\site-packages\\sklearn\\base.py:493: FutureWarning: The feature names should match those that were passed during fit. Starting version 1.2, an error will be raised.\n",
      "Feature names unseen at fit time:\n",
      "- rainfall\n",
      "Feature names seen at fit time, yet now missing:\n",
      "- radar_rainfall\n",
      "\n",
      "  warnings.warn(message, FutureWarning)\n"
     ]
    },
    {
     "name": "stdout",
     "output_type": "stream",
     "text": [
      "\n",
      "Processing file: D:\\1Yang\\0Research\\0_2566_radar_mosaic\\00mos_chaophraya\\00run_batch_acchr_codes\\2output\\0Hourly\\0Sontihn_RF\\0CBB_Pulse\\0output_mosaic\\2018071717_2000m.tif\n",
      "Warning: CRS not defined for D:\\1Yang\\0Research\\0_2566_radar_mosaic\\00mos_chaophraya\\00run_batch_acchr_codes\\2output\\0Hourly\\0Sontihn_RF\\0CBB_Pulse\\0output_mosaic\\2018071717_2000m.tif. Using WGS84 as default.\n",
      "Features shape: (250000, 3)\n",
      "NaN values before imputation: 114330\n",
      "NaN values after imputation: 114330\n",
      "Original data - Mean: 0.29, Max: 96.28\n",
      "Corrected data - Mean: 1.35, Max: 49.43\n"
     ]
    },
    {
     "name": "stderr",
     "output_type": "stream",
     "text": [
      " 25%|████████████████████▎                                                            | 59/235 [04:26<13:07,  4.47s/it]C:\\Users\\Admin\\anaconda3\\envs\\mossf\\lib\\site-packages\\sklearn\\base.py:493: FutureWarning: The feature names should match those that were passed during fit. Starting version 1.2, an error will be raised.\n",
      "Feature names unseen at fit time:\n",
      "- rainfall\n",
      "Feature names seen at fit time, yet now missing:\n",
      "- radar_rainfall\n",
      "\n",
      "  warnings.warn(message, FutureWarning)\n"
     ]
    },
    {
     "name": "stdout",
     "output_type": "stream",
     "text": [
      "\n",
      "Processing file: D:\\1Yang\\0Research\\0_2566_radar_mosaic\\00mos_chaophraya\\00run_batch_acchr_codes\\2output\\0Hourly\\0Sontihn_RF\\0CBB_Pulse\\0output_mosaic\\2018071718_2000m.tif\n",
      "Warning: CRS not defined for D:\\1Yang\\0Research\\0_2566_radar_mosaic\\00mos_chaophraya\\00run_batch_acchr_codes\\2output\\0Hourly\\0Sontihn_RF\\0CBB_Pulse\\0output_mosaic\\2018071718_2000m.tif. Using WGS84 as default.\n",
      "Features shape: (250000, 3)\n",
      "NaN values before imputation: 114333\n",
      "NaN values after imputation: 114333\n",
      "Original data - Mean: 0.35, Max: 107.79\n",
      "Corrected data - Mean: 1.40, Max: 49.43\n"
     ]
    },
    {
     "name": "stderr",
     "output_type": "stream",
     "text": [
      " 26%|████████████████████▋                                                            | 60/235 [04:30<13:04,  4.48s/it]C:\\Users\\Admin\\anaconda3\\envs\\mossf\\lib\\site-packages\\sklearn\\base.py:493: FutureWarning: The feature names should match those that were passed during fit. Starting version 1.2, an error will be raised.\n",
      "Feature names unseen at fit time:\n",
      "- rainfall\n",
      "Feature names seen at fit time, yet now missing:\n",
      "- radar_rainfall\n",
      "\n",
      "  warnings.warn(message, FutureWarning)\n"
     ]
    },
    {
     "name": "stdout",
     "output_type": "stream",
     "text": [
      "\n",
      "Processing file: D:\\1Yang\\0Research\\0_2566_radar_mosaic\\00mos_chaophraya\\00run_batch_acchr_codes\\2output\\0Hourly\\0Sontihn_RF\\0CBB_Pulse\\0output_mosaic\\2018071719_2000m.tif\n",
      "Warning: CRS not defined for D:\\1Yang\\0Research\\0_2566_radar_mosaic\\00mos_chaophraya\\00run_batch_acchr_codes\\2output\\0Hourly\\0Sontihn_RF\\0CBB_Pulse\\0output_mosaic\\2018071719_2000m.tif. Using WGS84 as default.\n",
      "Features shape: (250000, 3)\n",
      "NaN values before imputation: 114334\n",
      "NaN values after imputation: 114334\n",
      "Original data - Mean: 0.36, Max: 84.63\n",
      "Corrected data - Mean: 1.42, Max: 49.43\n"
     ]
    },
    {
     "name": "stderr",
     "output_type": "stream",
     "text": [
      " 26%|█████████████████████                                                            | 61/235 [04:35<12:58,  4.47s/it]C:\\Users\\Admin\\anaconda3\\envs\\mossf\\lib\\site-packages\\sklearn\\base.py:493: FutureWarning: The feature names should match those that were passed during fit. Starting version 1.2, an error will be raised.\n",
      "Feature names unseen at fit time:\n",
      "- rainfall\n",
      "Feature names seen at fit time, yet now missing:\n",
      "- radar_rainfall\n",
      "\n",
      "  warnings.warn(message, FutureWarning)\n"
     ]
    },
    {
     "name": "stdout",
     "output_type": "stream",
     "text": [
      "\n",
      "Processing file: D:\\1Yang\\0Research\\0_2566_radar_mosaic\\00mos_chaophraya\\00run_batch_acchr_codes\\2output\\0Hourly\\0Sontihn_RF\\0CBB_Pulse\\0output_mosaic\\2018071720_2000m.tif\n",
      "Warning: CRS not defined for D:\\1Yang\\0Research\\0_2566_radar_mosaic\\00mos_chaophraya\\00run_batch_acchr_codes\\2output\\0Hourly\\0Sontihn_RF\\0CBB_Pulse\\0output_mosaic\\2018071720_2000m.tif. Using WGS84 as default.\n",
      "Features shape: (250000, 3)\n",
      "NaN values before imputation: 114269\n",
      "NaN values after imputation: 114269\n",
      "Original data - Mean: 0.43, Max: 87.57\n",
      "Corrected data - Mean: 1.54, Max: 49.43\n"
     ]
    },
    {
     "name": "stderr",
     "output_type": "stream",
     "text": [
      " 26%|█████████████████████▎                                                           | 62/235 [04:39<12:51,  4.46s/it]C:\\Users\\Admin\\anaconda3\\envs\\mossf\\lib\\site-packages\\sklearn\\base.py:493: FutureWarning: The feature names should match those that were passed during fit. Starting version 1.2, an error will be raised.\n",
      "Feature names unseen at fit time:\n",
      "- rainfall\n",
      "Feature names seen at fit time, yet now missing:\n",
      "- radar_rainfall\n",
      "\n",
      "  warnings.warn(message, FutureWarning)\n"
     ]
    },
    {
     "name": "stdout",
     "output_type": "stream",
     "text": [
      "\n",
      "Processing file: D:\\1Yang\\0Research\\0_2566_radar_mosaic\\00mos_chaophraya\\00run_batch_acchr_codes\\2output\\0Hourly\\0Sontihn_RF\\0CBB_Pulse\\0output_mosaic\\2018071721_2000m.tif\n",
      "Warning: CRS not defined for D:\\1Yang\\0Research\\0_2566_radar_mosaic\\00mos_chaophraya\\00run_batch_acchr_codes\\2output\\0Hourly\\0Sontihn_RF\\0CBB_Pulse\\0output_mosaic\\2018071721_2000m.tif. Using WGS84 as default.\n",
      "Features shape: (250000, 3)\n",
      "NaN values before imputation: 114345\n",
      "NaN values after imputation: 114345\n",
      "Original data - Mean: 0.43, Max: 65.82\n",
      "Corrected data - Mean: 1.64, Max: 49.43\n"
     ]
    },
    {
     "name": "stderr",
     "output_type": "stream",
     "text": [
      " 27%|█████████████████████▋                                                           | 63/235 [04:43<12:45,  4.45s/it]C:\\Users\\Admin\\anaconda3\\envs\\mossf\\lib\\site-packages\\sklearn\\base.py:493: FutureWarning: The feature names should match those that were passed during fit. Starting version 1.2, an error will be raised.\n",
      "Feature names unseen at fit time:\n",
      "- rainfall\n",
      "Feature names seen at fit time, yet now missing:\n",
      "- radar_rainfall\n",
      "\n",
      "  warnings.warn(message, FutureWarning)\n"
     ]
    },
    {
     "name": "stdout",
     "output_type": "stream",
     "text": [
      "\n",
      "Processing file: D:\\1Yang\\0Research\\0_2566_radar_mosaic\\00mos_chaophraya\\00run_batch_acchr_codes\\2output\\0Hourly\\0Sontihn_RF\\0CBB_Pulse\\0output_mosaic\\2018071722_2000m.tif\n",
      "Warning: CRS not defined for D:\\1Yang\\0Research\\0_2566_radar_mosaic\\00mos_chaophraya\\00run_batch_acchr_codes\\2output\\0Hourly\\0Sontihn_RF\\0CBB_Pulse\\0output_mosaic\\2018071722_2000m.tif. Using WGS84 as default.\n",
      "Features shape: (250000, 3)\n",
      "NaN values before imputation: 114315\n",
      "NaN values after imputation: 114315\n",
      "Original data - Mean: 0.44, Max: 103.22\n",
      "Corrected data - Mean: 1.43, Max: 49.43\n"
     ]
    },
    {
     "name": "stderr",
     "output_type": "stream",
     "text": [
      " 27%|██████████████████████                                                           | 64/235 [04:48<12:41,  4.45s/it]C:\\Users\\Admin\\anaconda3\\envs\\mossf\\lib\\site-packages\\sklearn\\base.py:493: FutureWarning: The feature names should match those that were passed during fit. Starting version 1.2, an error will be raised.\n",
      "Feature names unseen at fit time:\n",
      "- rainfall\n",
      "Feature names seen at fit time, yet now missing:\n",
      "- radar_rainfall\n",
      "\n",
      "  warnings.warn(message, FutureWarning)\n"
     ]
    },
    {
     "name": "stdout",
     "output_type": "stream",
     "text": [
      "\n",
      "Processing file: D:\\1Yang\\0Research\\0_2566_radar_mosaic\\00mos_chaophraya\\00run_batch_acchr_codes\\2output\\0Hourly\\0Sontihn_RF\\0CBB_Pulse\\0output_mosaic\\2018071723_2000m.tif\n",
      "Warning: CRS not defined for D:\\1Yang\\0Research\\0_2566_radar_mosaic\\00mos_chaophraya\\00run_batch_acchr_codes\\2output\\0Hourly\\0Sontihn_RF\\0CBB_Pulse\\0output_mosaic\\2018071723_2000m.tif. Using WGS84 as default.\n",
      "Features shape: (250000, 3)\n",
      "NaN values before imputation: 114396\n",
      "NaN values after imputation: 114396\n",
      "Original data - Mean: 0.22, Max: 42.93\n",
      "Corrected data - Mean: 0.92, Max: 49.43\n"
     ]
    },
    {
     "name": "stderr",
     "output_type": "stream",
     "text": [
      " 28%|██████████████████████▍                                                          | 65/235 [04:52<12:38,  4.46s/it]C:\\Users\\Admin\\anaconda3\\envs\\mossf\\lib\\site-packages\\sklearn\\base.py:493: FutureWarning: The feature names should match those that were passed during fit. Starting version 1.2, an error will be raised.\n",
      "Feature names unseen at fit time:\n",
      "- rainfall\n",
      "Feature names seen at fit time, yet now missing:\n",
      "- radar_rainfall\n",
      "\n",
      "  warnings.warn(message, FutureWarning)\n"
     ]
    },
    {
     "name": "stdout",
     "output_type": "stream",
     "text": [
      "\n",
      "Processing file: D:\\1Yang\\0Research\\0_2566_radar_mosaic\\00mos_chaophraya\\00run_batch_acchr_codes\\2output\\0Hourly\\0Sontihn_RF\\0CBB_Pulse\\0output_mosaic\\2018071800_2000m.tif\n",
      "Warning: CRS not defined for D:\\1Yang\\0Research\\0_2566_radar_mosaic\\00mos_chaophraya\\00run_batch_acchr_codes\\2output\\0Hourly\\0Sontihn_RF\\0CBB_Pulse\\0output_mosaic\\2018071800_2000m.tif. Using WGS84 as default.\n",
      "Features shape: (250000, 3)\n",
      "NaN values before imputation: 114408\n",
      "NaN values after imputation: 114408\n",
      "Original data - Mean: 0.26, Max: 52.96\n",
      "Corrected data - Mean: 0.94, Max: 49.43\n"
     ]
    },
    {
     "name": "stderr",
     "output_type": "stream",
     "text": [
      " 28%|██████████████████████▋                                                          | 66/235 [04:57<12:31,  4.45s/it]C:\\Users\\Admin\\anaconda3\\envs\\mossf\\lib\\site-packages\\sklearn\\base.py:493: FutureWarning: The feature names should match those that were passed during fit. Starting version 1.2, an error will be raised.\n",
      "Feature names unseen at fit time:\n",
      "- rainfall\n",
      "Feature names seen at fit time, yet now missing:\n",
      "- radar_rainfall\n",
      "\n",
      "  warnings.warn(message, FutureWarning)\n"
     ]
    },
    {
     "name": "stdout",
     "output_type": "stream",
     "text": [
      "\n",
      "Processing file: D:\\1Yang\\0Research\\0_2566_radar_mosaic\\00mos_chaophraya\\00run_batch_acchr_codes\\2output\\0Hourly\\0Sontihn_RF\\0CBB_Pulse\\0output_mosaic\\2018071801_2000m.tif\n",
      "Warning: CRS not defined for D:\\1Yang\\0Research\\0_2566_radar_mosaic\\00mos_chaophraya\\00run_batch_acchr_codes\\2output\\0Hourly\\0Sontihn_RF\\0CBB_Pulse\\0output_mosaic\\2018071801_2000m.tif. Using WGS84 as default.\n",
      "Features shape: (250000, 3)\n",
      "NaN values before imputation: 114342\n",
      "NaN values after imputation: 114342\n",
      "Original data - Mean: 0.20, Max: 45.80\n",
      "Corrected data - Mean: 0.76, Max: 49.43\n"
     ]
    },
    {
     "name": "stderr",
     "output_type": "stream",
     "text": [
      " 29%|███████████████████████                                                          | 67/235 [05:01<12:26,  4.44s/it]C:\\Users\\Admin\\anaconda3\\envs\\mossf\\lib\\site-packages\\sklearn\\base.py:493: FutureWarning: The feature names should match those that were passed during fit. Starting version 1.2, an error will be raised.\n",
      "Feature names unseen at fit time:\n",
      "- rainfall\n",
      "Feature names seen at fit time, yet now missing:\n",
      "- radar_rainfall\n",
      "\n",
      "  warnings.warn(message, FutureWarning)\n"
     ]
    },
    {
     "name": "stdout",
     "output_type": "stream",
     "text": [
      "\n",
      "Processing file: D:\\1Yang\\0Research\\0_2566_radar_mosaic\\00mos_chaophraya\\00run_batch_acchr_codes\\2output\\0Hourly\\0Sontihn_RF\\0CBB_Pulse\\0output_mosaic\\2018071802_2000m.tif\n",
      "Warning: CRS not defined for D:\\1Yang\\0Research\\0_2566_radar_mosaic\\00mos_chaophraya\\00run_batch_acchr_codes\\2output\\0Hourly\\0Sontihn_RF\\0CBB_Pulse\\0output_mosaic\\2018071802_2000m.tif. Using WGS84 as default.\n",
      "Features shape: (250000, 3)\n",
      "NaN values before imputation: 114428\n",
      "NaN values after imputation: 114428\n",
      "Original data - Mean: 0.10, Max: 33.08\n",
      "Corrected data - Mean: 0.56, Max: 49.43\n"
     ]
    },
    {
     "name": "stderr",
     "output_type": "stream",
     "text": [
      " 29%|███████████████████████▍                                                         | 68/235 [05:06<12:22,  4.44s/it]C:\\Users\\Admin\\anaconda3\\envs\\mossf\\lib\\site-packages\\sklearn\\base.py:493: FutureWarning: The feature names should match those that were passed during fit. Starting version 1.2, an error will be raised.\n",
      "Feature names unseen at fit time:\n",
      "- rainfall\n",
      "Feature names seen at fit time, yet now missing:\n",
      "- radar_rainfall\n",
      "\n",
      "  warnings.warn(message, FutureWarning)\n"
     ]
    },
    {
     "name": "stdout",
     "output_type": "stream",
     "text": [
      "\n",
      "Processing file: D:\\1Yang\\0Research\\0_2566_radar_mosaic\\00mos_chaophraya\\00run_batch_acchr_codes\\2output\\0Hourly\\0Sontihn_RF\\0CBB_Pulse\\0output_mosaic\\2018071803_2000m.tif\n",
      "Warning: CRS not defined for D:\\1Yang\\0Research\\0_2566_radar_mosaic\\00mos_chaophraya\\00run_batch_acchr_codes\\2output\\0Hourly\\0Sontihn_RF\\0CBB_Pulse\\0output_mosaic\\2018071803_2000m.tif. Using WGS84 as default.\n",
      "Features shape: (250000, 3)\n",
      "NaN values before imputation: 114351\n",
      "NaN values after imputation: 114351\n",
      "Original data - Mean: 0.13, Max: 43.60\n",
      "Corrected data - Mean: 0.65, Max: 49.43\n"
     ]
    },
    {
     "name": "stderr",
     "output_type": "stream",
     "text": [
      " 29%|███████████████████████▊                                                         | 69/235 [05:10<12:20,  4.46s/it]C:\\Users\\Admin\\anaconda3\\envs\\mossf\\lib\\site-packages\\sklearn\\base.py:493: FutureWarning: The feature names should match those that were passed during fit. Starting version 1.2, an error will be raised.\n",
      "Feature names unseen at fit time:\n",
      "- rainfall\n",
      "Feature names seen at fit time, yet now missing:\n",
      "- radar_rainfall\n",
      "\n",
      "  warnings.warn(message, FutureWarning)\n"
     ]
    },
    {
     "name": "stdout",
     "output_type": "stream",
     "text": [
      "\n",
      "Processing file: D:\\1Yang\\0Research\\0_2566_radar_mosaic\\00mos_chaophraya\\00run_batch_acchr_codes\\2output\\0Hourly\\0Sontihn_RF\\0CBB_Pulse\\0output_mosaic\\2018071804_2000m.tif\n",
      "Warning: CRS not defined for D:\\1Yang\\0Research\\0_2566_radar_mosaic\\00mos_chaophraya\\00run_batch_acchr_codes\\2output\\0Hourly\\0Sontihn_RF\\0CBB_Pulse\\0output_mosaic\\2018071804_2000m.tif. Using WGS84 as default.\n",
      "Features shape: (250000, 3)\n",
      "NaN values before imputation: 114340\n",
      "NaN values after imputation: 114340\n",
      "Original data - Mean: 0.13, Max: 36.17\n",
      "Corrected data - Mean: 0.60, Max: 49.43\n"
     ]
    },
    {
     "name": "stderr",
     "output_type": "stream",
     "text": [
      " 30%|████████████████████████▏                                                        | 70/235 [05:15<12:16,  4.46s/it]C:\\Users\\Admin\\anaconda3\\envs\\mossf\\lib\\site-packages\\sklearn\\base.py:493: FutureWarning: The feature names should match those that were passed during fit. Starting version 1.2, an error will be raised.\n",
      "Feature names unseen at fit time:\n",
      "- rainfall\n",
      "Feature names seen at fit time, yet now missing:\n",
      "- radar_rainfall\n",
      "\n",
      "  warnings.warn(message, FutureWarning)\n"
     ]
    },
    {
     "name": "stdout",
     "output_type": "stream",
     "text": [
      "\n",
      "Processing file: D:\\1Yang\\0Research\\0_2566_radar_mosaic\\00mos_chaophraya\\00run_batch_acchr_codes\\2output\\0Hourly\\0Sontihn_RF\\0CBB_Pulse\\0output_mosaic\\2018071805_2000m.tif\n",
      "Warning: CRS not defined for D:\\1Yang\\0Research\\0_2566_radar_mosaic\\00mos_chaophraya\\00run_batch_acchr_codes\\2output\\0Hourly\\0Sontihn_RF\\0CBB_Pulse\\0output_mosaic\\2018071805_2000m.tif. Using WGS84 as default.\n",
      "Features shape: (250000, 3)\n",
      "NaN values before imputation: 114324\n",
      "NaN values after imputation: 114324\n",
      "Original data - Mean: 0.14, Max: 40.99\n",
      "Corrected data - Mean: 0.64, Max: 49.43\n"
     ]
    },
    {
     "name": "stderr",
     "output_type": "stream",
     "text": [
      " 30%|████████████████████████▍                                                        | 71/235 [05:19<12:31,  4.58s/it]C:\\Users\\Admin\\anaconda3\\envs\\mossf\\lib\\site-packages\\sklearn\\base.py:493: FutureWarning: The feature names should match those that were passed during fit. Starting version 1.2, an error will be raised.\n",
      "Feature names unseen at fit time:\n",
      "- rainfall\n",
      "Feature names seen at fit time, yet now missing:\n",
      "- radar_rainfall\n",
      "\n",
      "  warnings.warn(message, FutureWarning)\n"
     ]
    },
    {
     "name": "stdout",
     "output_type": "stream",
     "text": [
      "\n",
      "Processing file: D:\\1Yang\\0Research\\0_2566_radar_mosaic\\00mos_chaophraya\\00run_batch_acchr_codes\\2output\\0Hourly\\0Sontihn_RF\\0CBB_Pulse\\0output_mosaic\\2018071806_2000m.tif\n",
      "Warning: CRS not defined for D:\\1Yang\\0Research\\0_2566_radar_mosaic\\00mos_chaophraya\\00run_batch_acchr_codes\\2output\\0Hourly\\0Sontihn_RF\\0CBB_Pulse\\0output_mosaic\\2018071806_2000m.tif. Using WGS84 as default.\n",
      "Features shape: (250000, 3)\n",
      "NaN values before imputation: 114348\n",
      "NaN values after imputation: 114348\n",
      "Original data - Mean: 0.09, Max: 19.58\n",
      "Corrected data - Mean: 0.46, Max: 49.43\n"
     ]
    },
    {
     "name": "stderr",
     "output_type": "stream",
     "text": [
      " 31%|████████████████████████▊                                                        | 72/235 [05:24<12:18,  4.53s/it]C:\\Users\\Admin\\anaconda3\\envs\\mossf\\lib\\site-packages\\sklearn\\base.py:493: FutureWarning: The feature names should match those that were passed during fit. Starting version 1.2, an error will be raised.\n",
      "Feature names unseen at fit time:\n",
      "- rainfall\n",
      "Feature names seen at fit time, yet now missing:\n",
      "- radar_rainfall\n",
      "\n",
      "  warnings.warn(message, FutureWarning)\n"
     ]
    },
    {
     "name": "stdout",
     "output_type": "stream",
     "text": [
      "\n",
      "Processing file: D:\\1Yang\\0Research\\0_2566_radar_mosaic\\00mos_chaophraya\\00run_batch_acchr_codes\\2output\\0Hourly\\0Sontihn_RF\\0CBB_Pulse\\0output_mosaic\\2018071807_2000m.tif\n",
      "Warning: CRS not defined for D:\\1Yang\\0Research\\0_2566_radar_mosaic\\00mos_chaophraya\\00run_batch_acchr_codes\\2output\\0Hourly\\0Sontihn_RF\\0CBB_Pulse\\0output_mosaic\\2018071807_2000m.tif. Using WGS84 as default.\n",
      "Features shape: (250000, 3)\n",
      "NaN values before imputation: 114283\n",
      "NaN values after imputation: 114283\n",
      "Original data - Mean: 0.03, Max: 13.84\n",
      "Corrected data - Mean: 0.32, Max: 49.43\n"
     ]
    },
    {
     "name": "stderr",
     "output_type": "stream",
     "text": [
      " 31%|█████████████████████████▏                                                       | 73/235 [05:28<12:10,  4.51s/it]C:\\Users\\Admin\\anaconda3\\envs\\mossf\\lib\\site-packages\\sklearn\\base.py:493: FutureWarning: The feature names should match those that were passed during fit. Starting version 1.2, an error will be raised.\n",
      "Feature names unseen at fit time:\n",
      "- rainfall\n",
      "Feature names seen at fit time, yet now missing:\n",
      "- radar_rainfall\n",
      "\n",
      "  warnings.warn(message, FutureWarning)\n"
     ]
    },
    {
     "name": "stdout",
     "output_type": "stream",
     "text": [
      "\n",
      "Processing file: D:\\1Yang\\0Research\\0_2566_radar_mosaic\\00mos_chaophraya\\00run_batch_acchr_codes\\2output\\0Hourly\\0Sontihn_RF\\0CBB_Pulse\\0output_mosaic\\2018071808_2000m.tif\n",
      "Warning: CRS not defined for D:\\1Yang\\0Research\\0_2566_radar_mosaic\\00mos_chaophraya\\00run_batch_acchr_codes\\2output\\0Hourly\\0Sontihn_RF\\0CBB_Pulse\\0output_mosaic\\2018071808_2000m.tif. Using WGS84 as default.\n",
      "Features shape: (250000, 3)\n",
      "NaN values before imputation: 114339\n",
      "NaN values after imputation: 114339\n",
      "Original data - Mean: 0.03, Max: 13.80\n",
      "Corrected data - Mean: 0.25, Max: 49.43\n"
     ]
    },
    {
     "name": "stderr",
     "output_type": "stream",
     "text": [
      " 31%|█████████████████████████▌                                                       | 74/235 [05:33<12:02,  4.49s/it]C:\\Users\\Admin\\anaconda3\\envs\\mossf\\lib\\site-packages\\sklearn\\base.py:493: FutureWarning: The feature names should match those that were passed during fit. Starting version 1.2, an error will be raised.\n",
      "Feature names unseen at fit time:\n",
      "- rainfall\n",
      "Feature names seen at fit time, yet now missing:\n",
      "- radar_rainfall\n",
      "\n",
      "  warnings.warn(message, FutureWarning)\n"
     ]
    },
    {
     "name": "stdout",
     "output_type": "stream",
     "text": [
      "\n",
      "Processing file: D:\\1Yang\\0Research\\0_2566_radar_mosaic\\00mos_chaophraya\\00run_batch_acchr_codes\\2output\\0Hourly\\0Sontihn_RF\\0CBB_Pulse\\0output_mosaic\\2018071809_2000m.tif\n",
      "Warning: CRS not defined for D:\\1Yang\\0Research\\0_2566_radar_mosaic\\00mos_chaophraya\\00run_batch_acchr_codes\\2output\\0Hourly\\0Sontihn_RF\\0CBB_Pulse\\0output_mosaic\\2018071809_2000m.tif. Using WGS84 as default.\n",
      "Features shape: (250000, 3)\n",
      "NaN values before imputation: 114340\n",
      "NaN values after imputation: 114340\n",
      "Original data - Mean: 0.05, Max: 27.41\n",
      "Corrected data - Mean: 0.27, Max: 49.43\n"
     ]
    },
    {
     "name": "stderr",
     "output_type": "stream",
     "text": [
      " 32%|█████████████████████████▊                                                       | 75/235 [05:37<11:55,  4.47s/it]C:\\Users\\Admin\\anaconda3\\envs\\mossf\\lib\\site-packages\\sklearn\\base.py:493: FutureWarning: The feature names should match those that were passed during fit. Starting version 1.2, an error will be raised.\n",
      "Feature names unseen at fit time:\n",
      "- rainfall\n",
      "Feature names seen at fit time, yet now missing:\n",
      "- radar_rainfall\n",
      "\n",
      "  warnings.warn(message, FutureWarning)\n"
     ]
    },
    {
     "name": "stdout",
     "output_type": "stream",
     "text": [
      "\n",
      "Processing file: D:\\1Yang\\0Research\\0_2566_radar_mosaic\\00mos_chaophraya\\00run_batch_acchr_codes\\2output\\0Hourly\\0Sontihn_RF\\0CBB_Pulse\\0output_mosaic\\2018071810_2000m.tif\n",
      "Warning: CRS not defined for D:\\1Yang\\0Research\\0_2566_radar_mosaic\\00mos_chaophraya\\00run_batch_acchr_codes\\2output\\0Hourly\\0Sontihn_RF\\0CBB_Pulse\\0output_mosaic\\2018071810_2000m.tif. Using WGS84 as default.\n",
      "Features shape: (250000, 3)\n",
      "NaN values before imputation: 114336\n",
      "NaN values after imputation: 114336\n",
      "Original data - Mean: 0.08, Max: 59.13\n",
      "Corrected data - Mean: 0.29, Max: 49.43\n"
     ]
    },
    {
     "name": "stderr",
     "output_type": "stream",
     "text": [
      " 32%|██████████████████████████▏                                                      | 76/235 [05:42<11:50,  4.47s/it]C:\\Users\\Admin\\anaconda3\\envs\\mossf\\lib\\site-packages\\sklearn\\base.py:493: FutureWarning: The feature names should match those that were passed during fit. Starting version 1.2, an error will be raised.\n",
      "Feature names unseen at fit time:\n",
      "- rainfall\n",
      "Feature names seen at fit time, yet now missing:\n",
      "- radar_rainfall\n",
      "\n",
      "  warnings.warn(message, FutureWarning)\n"
     ]
    },
    {
     "name": "stdout",
     "output_type": "stream",
     "text": [
      "\n",
      "Processing file: D:\\1Yang\\0Research\\0_2566_radar_mosaic\\00mos_chaophraya\\00run_batch_acchr_codes\\2output\\0Hourly\\0Sontihn_RF\\0CBB_Pulse\\0output_mosaic\\2018071811_2000m.tif\n",
      "Warning: CRS not defined for D:\\1Yang\\0Research\\0_2566_radar_mosaic\\00mos_chaophraya\\00run_batch_acchr_codes\\2output\\0Hourly\\0Sontihn_RF\\0CBB_Pulse\\0output_mosaic\\2018071811_2000m.tif. Using WGS84 as default.\n",
      "Features shape: (250000, 3)\n",
      "NaN values before imputation: 114346\n",
      "NaN values after imputation: 114346\n",
      "Original data - Mean: 0.02, Max: 6.45\n",
      "Corrected data - Mean: 0.14, Max: 17.22\n"
     ]
    },
    {
     "name": "stderr",
     "output_type": "stream",
     "text": [
      " 33%|██████████████████████████▌                                                      | 77/235 [05:46<11:42,  4.45s/it]C:\\Users\\Admin\\anaconda3\\envs\\mossf\\lib\\site-packages\\sklearn\\base.py:493: FutureWarning: The feature names should match those that were passed during fit. Starting version 1.2, an error will be raised.\n",
      "Feature names unseen at fit time:\n",
      "- rainfall\n",
      "Feature names seen at fit time, yet now missing:\n",
      "- radar_rainfall\n",
      "\n",
      "  warnings.warn(message, FutureWarning)\n"
     ]
    },
    {
     "name": "stdout",
     "output_type": "stream",
     "text": [
      "\n",
      "Processing file: D:\\1Yang\\0Research\\0_2566_radar_mosaic\\00mos_chaophraya\\00run_batch_acchr_codes\\2output\\0Hourly\\0Sontihn_RF\\0CBB_Pulse\\0output_mosaic\\2018071812_2000m.tif\n",
      "Warning: CRS not defined for D:\\1Yang\\0Research\\0_2566_radar_mosaic\\00mos_chaophraya\\00run_batch_acchr_codes\\2output\\0Hourly\\0Sontihn_RF\\0CBB_Pulse\\0output_mosaic\\2018071812_2000m.tif. Using WGS84 as default.\n",
      "Features shape: (250000, 3)\n",
      "NaN values before imputation: 114372\n",
      "NaN values after imputation: 114372\n",
      "Original data - Mean: 0.03, Max: 30.12\n",
      "Corrected data - Mean: 0.19, Max: 49.43\n"
     ]
    },
    {
     "name": "stderr",
     "output_type": "stream",
     "text": [
      " 33%|██████████████████████████▉                                                      | 78/235 [05:51<11:38,  4.45s/it]C:\\Users\\Admin\\anaconda3\\envs\\mossf\\lib\\site-packages\\sklearn\\base.py:493: FutureWarning: The feature names should match those that were passed during fit. Starting version 1.2, an error will be raised.\n",
      "Feature names unseen at fit time:\n",
      "- rainfall\n",
      "Feature names seen at fit time, yet now missing:\n",
      "- radar_rainfall\n",
      "\n",
      "  warnings.warn(message, FutureWarning)\n"
     ]
    },
    {
     "name": "stdout",
     "output_type": "stream",
     "text": [
      "\n",
      "Processing file: D:\\1Yang\\0Research\\0_2566_radar_mosaic\\00mos_chaophraya\\00run_batch_acchr_codes\\2output\\0Hourly\\0Sontihn_RF\\0CBB_Pulse\\0output_mosaic\\2018071813_2000m.tif\n",
      "Warning: CRS not defined for D:\\1Yang\\0Research\\0_2566_radar_mosaic\\00mos_chaophraya\\00run_batch_acchr_codes\\2output\\0Hourly\\0Sontihn_RF\\0CBB_Pulse\\0output_mosaic\\2018071813_2000m.tif. Using WGS84 as default.\n",
      "Features shape: (250000, 3)\n",
      "NaN values before imputation: 114314\n",
      "NaN values after imputation: 114314\n",
      "Original data - Mean: 0.05, Max: 56.30\n",
      "Corrected data - Mean: 0.30, Max: 49.43\n"
     ]
    },
    {
     "name": "stderr",
     "output_type": "stream",
     "text": [
      " 34%|███████████████████████████▏                                                     | 79/235 [05:55<11:35,  4.46s/it]C:\\Users\\Admin\\anaconda3\\envs\\mossf\\lib\\site-packages\\sklearn\\base.py:493: FutureWarning: The feature names should match those that were passed during fit. Starting version 1.2, an error will be raised.\n",
      "Feature names unseen at fit time:\n",
      "- rainfall\n",
      "Feature names seen at fit time, yet now missing:\n",
      "- radar_rainfall\n",
      "\n",
      "  warnings.warn(message, FutureWarning)\n"
     ]
    },
    {
     "name": "stdout",
     "output_type": "stream",
     "text": [
      "\n",
      "Processing file: D:\\1Yang\\0Research\\0_2566_radar_mosaic\\00mos_chaophraya\\00run_batch_acchr_codes\\2output\\0Hourly\\0Sontihn_RF\\0CBB_Pulse\\0output_mosaic\\2018071814_2000m.tif\n",
      "Warning: CRS not defined for D:\\1Yang\\0Research\\0_2566_radar_mosaic\\00mos_chaophraya\\00run_batch_acchr_codes\\2output\\0Hourly\\0Sontihn_RF\\0CBB_Pulse\\0output_mosaic\\2018071814_2000m.tif. Using WGS84 as default.\n",
      "Features shape: (250000, 3)\n",
      "NaN values before imputation: 114345\n",
      "NaN values after imputation: 114345\n",
      "Original data - Mean: 0.06, Max: 47.85\n",
      "Corrected data - Mean: 0.38, Max: 49.43\n"
     ]
    },
    {
     "name": "stderr",
     "output_type": "stream",
     "text": [
      " 34%|███████████████████████████▌                                                     | 80/235 [05:59<11:31,  4.46s/it]C:\\Users\\Admin\\anaconda3\\envs\\mossf\\lib\\site-packages\\sklearn\\base.py:493: FutureWarning: The feature names should match those that were passed during fit. Starting version 1.2, an error will be raised.\n",
      "Feature names unseen at fit time:\n",
      "- rainfall\n",
      "Feature names seen at fit time, yet now missing:\n",
      "- radar_rainfall\n",
      "\n",
      "  warnings.warn(message, FutureWarning)\n"
     ]
    },
    {
     "name": "stdout",
     "output_type": "stream",
     "text": [
      "\n",
      "Processing file: D:\\1Yang\\0Research\\0_2566_radar_mosaic\\00mos_chaophraya\\00run_batch_acchr_codes\\2output\\0Hourly\\0Sontihn_RF\\0CBB_Pulse\\0output_mosaic\\2018071815_2000m.tif\n",
      "Warning: CRS not defined for D:\\1Yang\\0Research\\0_2566_radar_mosaic\\00mos_chaophraya\\00run_batch_acchr_codes\\2output\\0Hourly\\0Sontihn_RF\\0CBB_Pulse\\0output_mosaic\\2018071815_2000m.tif. Using WGS84 as default.\n",
      "Features shape: (250000, 3)\n",
      "NaN values before imputation: 114330\n",
      "NaN values after imputation: 114330\n",
      "Original data - Mean: 0.16, Max: 168.21\n",
      "Corrected data - Mean: 0.58, Max: 49.43\n"
     ]
    },
    {
     "name": "stderr",
     "output_type": "stream",
     "text": [
      " 34%|███████████████████████████▉                                                     | 81/235 [06:04<11:38,  4.53s/it]C:\\Users\\Admin\\anaconda3\\envs\\mossf\\lib\\site-packages\\sklearn\\base.py:493: FutureWarning: The feature names should match those that were passed during fit. Starting version 1.2, an error will be raised.\n",
      "Feature names unseen at fit time:\n",
      "- rainfall\n",
      "Feature names seen at fit time, yet now missing:\n",
      "- radar_rainfall\n",
      "\n",
      "  warnings.warn(message, FutureWarning)\n"
     ]
    },
    {
     "name": "stdout",
     "output_type": "stream",
     "text": [
      "\n",
      "Processing file: D:\\1Yang\\0Research\\0_2566_radar_mosaic\\00mos_chaophraya\\00run_batch_acchr_codes\\2output\\0Hourly\\0Sontihn_RF\\0CBB_Pulse\\0output_mosaic\\2018071816_2000m.tif\n",
      "Warning: CRS not defined for D:\\1Yang\\0Research\\0_2566_radar_mosaic\\00mos_chaophraya\\00run_batch_acchr_codes\\2output\\0Hourly\\0Sontihn_RF\\0CBB_Pulse\\0output_mosaic\\2018071816_2000m.tif. Using WGS84 as default.\n",
      "Features shape: (250000, 3)\n",
      "NaN values before imputation: 114326\n",
      "NaN values after imputation: 114326\n",
      "Original data - Mean: 0.15, Max: 80.63\n",
      "Corrected data - Mean: 0.56, Max: 49.43\n"
     ]
    },
    {
     "name": "stderr",
     "output_type": "stream",
     "text": [
      " 35%|████████████████████████████▎                                                    | 82/235 [06:09<11:42,  4.59s/it]C:\\Users\\Admin\\anaconda3\\envs\\mossf\\lib\\site-packages\\sklearn\\base.py:493: FutureWarning: The feature names should match those that were passed during fit. Starting version 1.2, an error will be raised.\n",
      "Feature names unseen at fit time:\n",
      "- rainfall\n",
      "Feature names seen at fit time, yet now missing:\n",
      "- radar_rainfall\n",
      "\n",
      "  warnings.warn(message, FutureWarning)\n"
     ]
    },
    {
     "name": "stdout",
     "output_type": "stream",
     "text": [
      "\n",
      "Processing file: D:\\1Yang\\0Research\\0_2566_radar_mosaic\\00mos_chaophraya\\00run_batch_acchr_codes\\2output\\0Hourly\\0Sontihn_RF\\0CBB_Pulse\\0output_mosaic\\2018071817_2000m.tif\n",
      "Warning: CRS not defined for D:\\1Yang\\0Research\\0_2566_radar_mosaic\\00mos_chaophraya\\00run_batch_acchr_codes\\2output\\0Hourly\\0Sontihn_RF\\0CBB_Pulse\\0output_mosaic\\2018071817_2000m.tif. Using WGS84 as default.\n",
      "Features shape: (250000, 3)\n",
      "NaN values before imputation: 114343\n",
      "NaN values after imputation: 114343\n",
      "Original data - Mean: 0.26, Max: 107.48\n",
      "Corrected data - Mean: 0.84, Max: 49.43\n"
     ]
    },
    {
     "name": "stderr",
     "output_type": "stream",
     "text": [
      " 35%|████████████████████████████▌                                                    | 83/235 [06:14<11:44,  4.64s/it]C:\\Users\\Admin\\anaconda3\\envs\\mossf\\lib\\site-packages\\sklearn\\base.py:493: FutureWarning: The feature names should match those that were passed during fit. Starting version 1.2, an error will be raised.\n",
      "Feature names unseen at fit time:\n",
      "- rainfall\n",
      "Feature names seen at fit time, yet now missing:\n",
      "- radar_rainfall\n",
      "\n",
      "  warnings.warn(message, FutureWarning)\n"
     ]
    },
    {
     "name": "stdout",
     "output_type": "stream",
     "text": [
      "\n",
      "Processing file: D:\\1Yang\\0Research\\0_2566_radar_mosaic\\00mos_chaophraya\\00run_batch_acchr_codes\\2output\\0Hourly\\0Sontihn_RF\\0CBB_Pulse\\0output_mosaic\\2018071818_2000m.tif\n",
      "Warning: CRS not defined for D:\\1Yang\\0Research\\0_2566_radar_mosaic\\00mos_chaophraya\\00run_batch_acchr_codes\\2output\\0Hourly\\0Sontihn_RF\\0CBB_Pulse\\0output_mosaic\\2018071818_2000m.tif. Using WGS84 as default.\n",
      "Features shape: (250000, 3)\n",
      "NaN values before imputation: 114319\n",
      "NaN values after imputation: 114319\n",
      "Original data - Mean: 0.45, Max: 143.93\n",
      "Corrected data - Mean: 1.19, Max: 49.43\n"
     ]
    },
    {
     "name": "stderr",
     "output_type": "stream",
     "text": [
      " 36%|████████████████████████████▉                                                    | 84/235 [06:18<11:44,  4.66s/it]C:\\Users\\Admin\\anaconda3\\envs\\mossf\\lib\\site-packages\\sklearn\\base.py:493: FutureWarning: The feature names should match those that were passed during fit. Starting version 1.2, an error will be raised.\n",
      "Feature names unseen at fit time:\n",
      "- rainfall\n",
      "Feature names seen at fit time, yet now missing:\n",
      "- radar_rainfall\n",
      "\n",
      "  warnings.warn(message, FutureWarning)\n"
     ]
    },
    {
     "name": "stdout",
     "output_type": "stream",
     "text": [
      "\n",
      "Processing file: D:\\1Yang\\0Research\\0_2566_radar_mosaic\\00mos_chaophraya\\00run_batch_acchr_codes\\2output\\0Hourly\\0Sontihn_RF\\0CBB_Pulse\\0output_mosaic\\2018071819_2000m.tif\n",
      "Warning: CRS not defined for D:\\1Yang\\0Research\\0_2566_radar_mosaic\\00mos_chaophraya\\00run_batch_acchr_codes\\2output\\0Hourly\\0Sontihn_RF\\0CBB_Pulse\\0output_mosaic\\2018071819_2000m.tif. Using WGS84 as default.\n",
      "Features shape: (250000, 3)\n",
      "NaN values before imputation: 122038\n",
      "NaN values after imputation: 122038\n",
      "Original data - Mean: 0.11, Max: 81.95\n",
      "Corrected data - Mean: 0.32, Max: 49.43\n"
     ]
    },
    {
     "name": "stderr",
     "output_type": "stream",
     "text": [
      " 36%|█████████████████████████████▎                                                   | 85/235 [06:23<11:38,  4.66s/it]C:\\Users\\Admin\\anaconda3\\envs\\mossf\\lib\\site-packages\\sklearn\\base.py:493: FutureWarning: The feature names should match those that were passed during fit. Starting version 1.2, an error will be raised.\n",
      "Feature names unseen at fit time:\n",
      "- rainfall\n",
      "Feature names seen at fit time, yet now missing:\n",
      "- radar_rainfall\n",
      "\n",
      "  warnings.warn(message, FutureWarning)\n"
     ]
    },
    {
     "name": "stdout",
     "output_type": "stream",
     "text": [
      "\n",
      "Processing file: D:\\1Yang\\0Research\\0_2566_radar_mosaic\\00mos_chaophraya\\00run_batch_acchr_codes\\2output\\0Hourly\\0Sontihn_RF\\0CBB_Pulse\\0output_mosaic\\2018071820_2000m.tif\n",
      "Warning: CRS not defined for D:\\1Yang\\0Research\\0_2566_radar_mosaic\\00mos_chaophraya\\00run_batch_acchr_codes\\2output\\0Hourly\\0Sontihn_RF\\0CBB_Pulse\\0output_mosaic\\2018071820_2000m.tif. Using WGS84 as default.\n",
      "Features shape: (250000, 3)\n",
      "NaN values before imputation: 122050\n",
      "NaN values after imputation: 122050\n",
      "Original data - Mean: 0.10, Max: 85.75\n",
      "Corrected data - Mean: 0.31, Max: 49.43\n"
     ]
    },
    {
     "name": "stderr",
     "output_type": "stream",
     "text": [
      " 37%|█████████████████████████████▋                                                   | 86/235 [06:28<11:31,  4.64s/it]C:\\Users\\Admin\\anaconda3\\envs\\mossf\\lib\\site-packages\\sklearn\\base.py:493: FutureWarning: The feature names should match those that were passed during fit. Starting version 1.2, an error will be raised.\n",
      "Feature names unseen at fit time:\n",
      "- rainfall\n",
      "Feature names seen at fit time, yet now missing:\n",
      "- radar_rainfall\n",
      "\n",
      "  warnings.warn(message, FutureWarning)\n"
     ]
    },
    {
     "name": "stdout",
     "output_type": "stream",
     "text": [
      "\n",
      "Processing file: D:\\1Yang\\0Research\\0_2566_radar_mosaic\\00mos_chaophraya\\00run_batch_acchr_codes\\2output\\0Hourly\\0Sontihn_RF\\0CBB_Pulse\\0output_mosaic\\2018071821_2000m.tif\n",
      "Warning: CRS not defined for D:\\1Yang\\0Research\\0_2566_radar_mosaic\\00mos_chaophraya\\00run_batch_acchr_codes\\2output\\0Hourly\\0Sontihn_RF\\0CBB_Pulse\\0output_mosaic\\2018071821_2000m.tif. Using WGS84 as default.\n",
      "Features shape: (250000, 3)\n",
      "NaN values before imputation: 114275\n",
      "NaN values after imputation: 114275\n",
      "Original data - Mean: 0.21, Max: 121.95\n",
      "Corrected data - Mean: 0.66, Max: 49.43\n"
     ]
    },
    {
     "name": "stderr",
     "output_type": "stream",
     "text": [
      " 37%|█████████████████████████████▉                                                   | 87/235 [06:32<11:28,  4.65s/it]C:\\Users\\Admin\\anaconda3\\envs\\mossf\\lib\\site-packages\\sklearn\\base.py:493: FutureWarning: The feature names should match those that were passed during fit. Starting version 1.2, an error will be raised.\n",
      "Feature names unseen at fit time:\n",
      "- rainfall\n",
      "Feature names seen at fit time, yet now missing:\n",
      "- radar_rainfall\n",
      "\n",
      "  warnings.warn(message, FutureWarning)\n"
     ]
    },
    {
     "name": "stdout",
     "output_type": "stream",
     "text": [
      "\n",
      "Processing file: D:\\1Yang\\0Research\\0_2566_radar_mosaic\\00mos_chaophraya\\00run_batch_acchr_codes\\2output\\0Hourly\\0Sontihn_RF\\0CBB_Pulse\\0output_mosaic\\2018071822_2000m.tif\n",
      "Warning: CRS not defined for D:\\1Yang\\0Research\\0_2566_radar_mosaic\\00mos_chaophraya\\00run_batch_acchr_codes\\2output\\0Hourly\\0Sontihn_RF\\0CBB_Pulse\\0output_mosaic\\2018071822_2000m.tif. Using WGS84 as default.\n",
      "Features shape: (250000, 3)\n",
      "NaN values before imputation: 114330\n",
      "NaN values after imputation: 114330\n",
      "Original data - Mean: 0.16, Max: 110.95\n",
      "Corrected data - Mean: 0.58, Max: 49.43\n"
     ]
    },
    {
     "name": "stderr",
     "output_type": "stream",
     "text": [
      " 37%|██████████████████████████████▎                                                  | 88/235 [06:38<11:58,  4.89s/it]C:\\Users\\Admin\\anaconda3\\envs\\mossf\\lib\\site-packages\\sklearn\\base.py:493: FutureWarning: The feature names should match those that were passed during fit. Starting version 1.2, an error will be raised.\n",
      "Feature names unseen at fit time:\n",
      "- rainfall\n",
      "Feature names seen at fit time, yet now missing:\n",
      "- radar_rainfall\n",
      "\n",
      "  warnings.warn(message, FutureWarning)\n"
     ]
    },
    {
     "name": "stdout",
     "output_type": "stream",
     "text": [
      "\n",
      "Processing file: D:\\1Yang\\0Research\\0_2566_radar_mosaic\\00mos_chaophraya\\00run_batch_acchr_codes\\2output\\0Hourly\\0Sontihn_RF\\0CBB_Pulse\\0output_mosaic\\2018071823_2000m.tif\n",
      "Warning: CRS not defined for D:\\1Yang\\0Research\\0_2566_radar_mosaic\\00mos_chaophraya\\00run_batch_acchr_codes\\2output\\0Hourly\\0Sontihn_RF\\0CBB_Pulse\\0output_mosaic\\2018071823_2000m.tif. Using WGS84 as default.\n",
      "Features shape: (250000, 3)\n",
      "NaN values before imputation: 114363\n",
      "NaN values after imputation: 114363\n",
      "Original data - Mean: 0.16, Max: 135.04\n",
      "Corrected data - Mean: 0.52, Max: 49.43\n"
     ]
    },
    {
     "name": "stderr",
     "output_type": "stream",
     "text": [
      " 38%|██████████████████████████████▋                                                  | 89/235 [06:43<11:49,  4.86s/it]C:\\Users\\Admin\\anaconda3\\envs\\mossf\\lib\\site-packages\\sklearn\\base.py:493: FutureWarning: The feature names should match those that were passed during fit. Starting version 1.2, an error will be raised.\n",
      "Feature names unseen at fit time:\n",
      "- rainfall\n",
      "Feature names seen at fit time, yet now missing:\n",
      "- radar_rainfall\n",
      "\n",
      "  warnings.warn(message, FutureWarning)\n"
     ]
    },
    {
     "name": "stdout",
     "output_type": "stream",
     "text": [
      "\n",
      "Processing file: D:\\1Yang\\0Research\\0_2566_radar_mosaic\\00mos_chaophraya\\00run_batch_acchr_codes\\2output\\0Hourly\\0Sontihn_RF\\0CBB_Pulse\\0output_mosaic\\2018071900_2000m.tif\n",
      "Warning: CRS not defined for D:\\1Yang\\0Research\\0_2566_radar_mosaic\\00mos_chaophraya\\00run_batch_acchr_codes\\2output\\0Hourly\\0Sontihn_RF\\0CBB_Pulse\\0output_mosaic\\2018071900_2000m.tif. Using WGS84 as default.\n",
      "Features shape: (250000, 3)\n",
      "NaN values before imputation: 114348\n",
      "NaN values after imputation: 114348\n",
      "Original data - Mean: 0.11, Max: 68.92\n",
      "Corrected data - Mean: 0.42, Max: 49.43\n"
     ]
    },
    {
     "name": "stderr",
     "output_type": "stream",
     "text": [
      " 38%|███████████████████████████████                                                  | 90/235 [06:47<11:36,  4.80s/it]C:\\Users\\Admin\\anaconda3\\envs\\mossf\\lib\\site-packages\\sklearn\\base.py:493: FutureWarning: The feature names should match those that were passed during fit. Starting version 1.2, an error will be raised.\n",
      "Feature names unseen at fit time:\n",
      "- rainfall\n",
      "Feature names seen at fit time, yet now missing:\n",
      "- radar_rainfall\n",
      "\n",
      "  warnings.warn(message, FutureWarning)\n"
     ]
    },
    {
     "name": "stdout",
     "output_type": "stream",
     "text": [
      "\n",
      "Processing file: D:\\1Yang\\0Research\\0_2566_radar_mosaic\\00mos_chaophraya\\00run_batch_acchr_codes\\2output\\0Hourly\\0Sontihn_RF\\0CBB_Pulse\\0output_mosaic\\2018071901_2000m.tif\n",
      "Warning: CRS not defined for D:\\1Yang\\0Research\\0_2566_radar_mosaic\\00mos_chaophraya\\00run_batch_acchr_codes\\2output\\0Hourly\\0Sontihn_RF\\0CBB_Pulse\\0output_mosaic\\2018071901_2000m.tif. Using WGS84 as default.\n",
      "Features shape: (250000, 3)\n",
      "NaN values before imputation: 114301\n",
      "NaN values after imputation: 114301\n",
      "Original data - Mean: 0.06, Max: 20.02\n",
      "Corrected data - Mean: 0.31, Max: 49.43\n"
     ]
    },
    {
     "name": "stderr",
     "output_type": "stream",
     "text": [
      " 39%|███████████████████████████████▎                                                 | 91/235 [06:52<11:23,  4.75s/it]C:\\Users\\Admin\\anaconda3\\envs\\mossf\\lib\\site-packages\\sklearn\\base.py:493: FutureWarning: The feature names should match those that were passed during fit. Starting version 1.2, an error will be raised.\n",
      "Feature names unseen at fit time:\n",
      "- rainfall\n",
      "Feature names seen at fit time, yet now missing:\n",
      "- radar_rainfall\n",
      "\n",
      "  warnings.warn(message, FutureWarning)\n"
     ]
    },
    {
     "name": "stdout",
     "output_type": "stream",
     "text": [
      "\n",
      "Processing file: D:\\1Yang\\0Research\\0_2566_radar_mosaic\\00mos_chaophraya\\00run_batch_acchr_codes\\2output\\0Hourly\\0Sontihn_RF\\0CBB_Pulse\\0output_mosaic\\2018071902_2000m.tif\n",
      "Warning: CRS not defined for D:\\1Yang\\0Research\\0_2566_radar_mosaic\\00mos_chaophraya\\00run_batch_acchr_codes\\2output\\0Hourly\\0Sontihn_RF\\0CBB_Pulse\\0output_mosaic\\2018071902_2000m.tif. Using WGS84 as default.\n",
      "Features shape: (250000, 3)\n",
      "NaN values before imputation: 114323\n",
      "NaN values after imputation: 114323\n",
      "Original data - Mean: 0.03, Max: 16.35\n",
      "Corrected data - Mean: 0.16, Max: 49.43\n"
     ]
    },
    {
     "name": "stderr",
     "output_type": "stream",
     "text": [
      " 39%|███████████████████████████████▋                                                 | 92/235 [06:56<11:14,  4.72s/it]C:\\Users\\Admin\\anaconda3\\envs\\mossf\\lib\\site-packages\\sklearn\\base.py:493: FutureWarning: The feature names should match those that were passed during fit. Starting version 1.2, an error will be raised.\n",
      "Feature names unseen at fit time:\n",
      "- rainfall\n",
      "Feature names seen at fit time, yet now missing:\n",
      "- radar_rainfall\n",
      "\n",
      "  warnings.warn(message, FutureWarning)\n"
     ]
    },
    {
     "name": "stdout",
     "output_type": "stream",
     "text": [
      "\n",
      "Processing file: D:\\1Yang\\0Research\\0_2566_radar_mosaic\\00mos_chaophraya\\00run_batch_acchr_codes\\2output\\0Hourly\\0Sontihn_RF\\0CBB_Pulse\\0output_mosaic\\2018071903_2000m.tif\n",
      "Warning: CRS not defined for D:\\1Yang\\0Research\\0_2566_radar_mosaic\\00mos_chaophraya\\00run_batch_acchr_codes\\2output\\0Hourly\\0Sontihn_RF\\0CBB_Pulse\\0output_mosaic\\2018071903_2000m.tif. Using WGS84 as default.\n",
      "Features shape: (250000, 3)\n",
      "NaN values before imputation: 114291\n",
      "NaN values after imputation: 114291\n",
      "Original data - Mean: 0.02, Max: 7.71\n",
      "Corrected data - Mean: 0.11, Max: 18.92\n"
     ]
    },
    {
     "name": "stderr",
     "output_type": "stream",
     "text": [
      " 40%|████████████████████████████████                                                 | 93/235 [07:01<11:10,  4.72s/it]C:\\Users\\Admin\\anaconda3\\envs\\mossf\\lib\\site-packages\\sklearn\\base.py:493: FutureWarning: The feature names should match those that were passed during fit. Starting version 1.2, an error will be raised.\n",
      "Feature names unseen at fit time:\n",
      "- rainfall\n",
      "Feature names seen at fit time, yet now missing:\n",
      "- radar_rainfall\n",
      "\n",
      "  warnings.warn(message, FutureWarning)\n"
     ]
    },
    {
     "name": "stdout",
     "output_type": "stream",
     "text": [
      "\n",
      "Processing file: D:\\1Yang\\0Research\\0_2566_radar_mosaic\\00mos_chaophraya\\00run_batch_acchr_codes\\2output\\0Hourly\\0Sontihn_RF\\0CBB_Pulse\\0output_mosaic\\2018071904_2000m.tif\n",
      "Warning: CRS not defined for D:\\1Yang\\0Research\\0_2566_radar_mosaic\\00mos_chaophraya\\00run_batch_acchr_codes\\2output\\0Hourly\\0Sontihn_RF\\0CBB_Pulse\\0output_mosaic\\2018071904_2000m.tif. Using WGS84 as default.\n",
      "Features shape: (250000, 3)\n",
      "NaN values before imputation: 114354\n",
      "NaN values after imputation: 114354\n",
      "Original data - Mean: 0.04, Max: 15.68\n",
      "Corrected data - Mean: 0.17, Max: 49.43\n"
     ]
    },
    {
     "name": "stderr",
     "output_type": "stream",
     "text": [
      " 40%|████████████████████████████████▍                                                | 94/235 [07:06<11:07,  4.74s/it]C:\\Users\\Admin\\anaconda3\\envs\\mossf\\lib\\site-packages\\sklearn\\base.py:493: FutureWarning: The feature names should match those that were passed during fit. Starting version 1.2, an error will be raised.\n",
      "Feature names unseen at fit time:\n",
      "- rainfall\n",
      "Feature names seen at fit time, yet now missing:\n",
      "- radar_rainfall\n",
      "\n",
      "  warnings.warn(message, FutureWarning)\n"
     ]
    },
    {
     "name": "stdout",
     "output_type": "stream",
     "text": [
      "\n",
      "Processing file: D:\\1Yang\\0Research\\0_2566_radar_mosaic\\00mos_chaophraya\\00run_batch_acchr_codes\\2output\\0Hourly\\0Sontihn_RF\\0CBB_Pulse\\0output_mosaic\\2018071905_2000m.tif\n",
      "Warning: CRS not defined for D:\\1Yang\\0Research\\0_2566_radar_mosaic\\00mos_chaophraya\\00run_batch_acchr_codes\\2output\\0Hourly\\0Sontihn_RF\\0CBB_Pulse\\0output_mosaic\\2018071905_2000m.tif. Using WGS84 as default.\n",
      "Features shape: (250000, 3)\n",
      "NaN values before imputation: 114333\n",
      "NaN values after imputation: 114333\n",
      "Original data - Mean: 0.03, Max: 13.25\n",
      "Corrected data - Mean: 0.14, Max: 49.43\n"
     ]
    },
    {
     "name": "stderr",
     "output_type": "stream",
     "text": [
      " 40%|████████████████████████████████▋                                                | 95/235 [07:11<10:59,  4.71s/it]C:\\Users\\Admin\\anaconda3\\envs\\mossf\\lib\\site-packages\\sklearn\\base.py:493: FutureWarning: The feature names should match those that were passed during fit. Starting version 1.2, an error will be raised.\n",
      "Feature names unseen at fit time:\n",
      "- rainfall\n",
      "Feature names seen at fit time, yet now missing:\n",
      "- radar_rainfall\n",
      "\n",
      "  warnings.warn(message, FutureWarning)\n"
     ]
    },
    {
     "name": "stdout",
     "output_type": "stream",
     "text": [
      "\n",
      "Processing file: D:\\1Yang\\0Research\\0_2566_radar_mosaic\\00mos_chaophraya\\00run_batch_acchr_codes\\2output\\0Hourly\\0Sontihn_RF\\0CBB_Pulse\\0output_mosaic\\2018071906_2000m.tif\n",
      "Warning: CRS not defined for D:\\1Yang\\0Research\\0_2566_radar_mosaic\\00mos_chaophraya\\00run_batch_acchr_codes\\2output\\0Hourly\\0Sontihn_RF\\0CBB_Pulse\\0output_mosaic\\2018071906_2000m.tif. Using WGS84 as default.\n",
      "Features shape: (250000, 3)\n",
      "NaN values before imputation: 114322\n",
      "NaN values after imputation: 114322\n",
      "Original data - Mean: 0.03, Max: 12.31\n",
      "Corrected data - Mean: 0.17, Max: 49.00\n"
     ]
    },
    {
     "name": "stderr",
     "output_type": "stream",
     "text": [
      " 41%|█████████████████████████████████                                                | 96/235 [07:15<10:49,  4.68s/it]C:\\Users\\Admin\\anaconda3\\envs\\mossf\\lib\\site-packages\\sklearn\\base.py:493: FutureWarning: The feature names should match those that were passed during fit. Starting version 1.2, an error will be raised.\n",
      "Feature names unseen at fit time:\n",
      "- rainfall\n",
      "Feature names seen at fit time, yet now missing:\n",
      "- radar_rainfall\n",
      "\n",
      "  warnings.warn(message, FutureWarning)\n"
     ]
    },
    {
     "name": "stdout",
     "output_type": "stream",
     "text": [
      "\n",
      "Processing file: D:\\1Yang\\0Research\\0_2566_radar_mosaic\\00mos_chaophraya\\00run_batch_acchr_codes\\2output\\0Hourly\\0Sontihn_RF\\0CBB_Pulse\\0output_mosaic\\2018071907_2000m.tif\n",
      "Warning: CRS not defined for D:\\1Yang\\0Research\\0_2566_radar_mosaic\\00mos_chaophraya\\00run_batch_acchr_codes\\2output\\0Hourly\\0Sontihn_RF\\0CBB_Pulse\\0output_mosaic\\2018071907_2000m.tif. Using WGS84 as default.\n",
      "Features shape: (250000, 3)\n",
      "NaN values before imputation: 114343\n",
      "NaN values after imputation: 114343\n",
      "Original data - Mean: 0.02, Max: 13.08\n",
      "Corrected data - Mean: 0.11, Max: 49.43\n"
     ]
    },
    {
     "name": "stderr",
     "output_type": "stream",
     "text": [
      " 41%|█████████████████████████████████▍                                               | 97/235 [07:20<10:50,  4.71s/it]C:\\Users\\Admin\\anaconda3\\envs\\mossf\\lib\\site-packages\\sklearn\\base.py:493: FutureWarning: The feature names should match those that were passed during fit. Starting version 1.2, an error will be raised.\n",
      "Feature names unseen at fit time:\n",
      "- rainfall\n",
      "Feature names seen at fit time, yet now missing:\n",
      "- radar_rainfall\n",
      "\n",
      "  warnings.warn(message, FutureWarning)\n"
     ]
    },
    {
     "name": "stdout",
     "output_type": "stream",
     "text": [
      "\n",
      "Processing file: D:\\1Yang\\0Research\\0_2566_radar_mosaic\\00mos_chaophraya\\00run_batch_acchr_codes\\2output\\0Hourly\\0Sontihn_RF\\0CBB_Pulse\\0output_mosaic\\2018071908_2000m.tif\n",
      "Warning: CRS not defined for D:\\1Yang\\0Research\\0_2566_radar_mosaic\\00mos_chaophraya\\00run_batch_acchr_codes\\2output\\0Hourly\\0Sontihn_RF\\0CBB_Pulse\\0output_mosaic\\2018071908_2000m.tif. Using WGS84 as default.\n",
      "Features shape: (250000, 3)\n",
      "NaN values before imputation: 114387\n",
      "NaN values after imputation: 114387\n",
      "Original data - Mean: 0.01, Max: 13.31\n",
      "Corrected data - Mean: 0.07, Max: 49.43\n"
     ]
    },
    {
     "name": "stderr",
     "output_type": "stream",
     "text": [
      " 42%|█████████████████████████████████▊                                               | 98/235 [07:25<10:50,  4.75s/it]C:\\Users\\Admin\\anaconda3\\envs\\mossf\\lib\\site-packages\\sklearn\\base.py:493: FutureWarning: The feature names should match those that were passed during fit. Starting version 1.2, an error will be raised.\n",
      "Feature names unseen at fit time:\n",
      "- rainfall\n",
      "Feature names seen at fit time, yet now missing:\n",
      "- radar_rainfall\n",
      "\n",
      "  warnings.warn(message, FutureWarning)\n"
     ]
    },
    {
     "name": "stdout",
     "output_type": "stream",
     "text": [
      "\n",
      "Processing file: D:\\1Yang\\0Research\\0_2566_radar_mosaic\\00mos_chaophraya\\00run_batch_acchr_codes\\2output\\0Hourly\\0Sontihn_RF\\0CBB_Pulse\\0output_mosaic\\2018071909_2000m.tif\n",
      "Warning: CRS not defined for D:\\1Yang\\0Research\\0_2566_radar_mosaic\\00mos_chaophraya\\00run_batch_acchr_codes\\2output\\0Hourly\\0Sontihn_RF\\0CBB_Pulse\\0output_mosaic\\2018071909_2000m.tif. Using WGS84 as default.\n",
      "Features shape: (250000, 3)\n",
      "NaN values before imputation: 114439\n",
      "NaN values after imputation: 114439\n",
      "Original data - Mean: 0.01, Max: 10.13\n",
      "Corrected data - Mean: 0.16, Max: 24.95\n"
     ]
    },
    {
     "name": "stderr",
     "output_type": "stream",
     "text": [
      " 42%|██████████████████████████████████                                               | 99/235 [07:30<10:45,  4.75s/it]C:\\Users\\Admin\\anaconda3\\envs\\mossf\\lib\\site-packages\\sklearn\\base.py:493: FutureWarning: The feature names should match those that were passed during fit. Starting version 1.2, an error will be raised.\n",
      "Feature names unseen at fit time:\n",
      "- rainfall\n",
      "Feature names seen at fit time, yet now missing:\n",
      "- radar_rainfall\n",
      "\n",
      "  warnings.warn(message, FutureWarning)\n"
     ]
    },
    {
     "name": "stdout",
     "output_type": "stream",
     "text": [
      "\n",
      "Processing file: D:\\1Yang\\0Research\\0_2566_radar_mosaic\\00mos_chaophraya\\00run_batch_acchr_codes\\2output\\0Hourly\\0Sontihn_RF\\0CBB_Pulse\\0output_mosaic\\2018071910_2000m.tif\n",
      "Warning: CRS not defined for D:\\1Yang\\0Research\\0_2566_radar_mosaic\\00mos_chaophraya\\00run_batch_acchr_codes\\2output\\0Hourly\\0Sontihn_RF\\0CBB_Pulse\\0output_mosaic\\2018071910_2000m.tif. Using WGS84 as default.\n",
      "Features shape: (250000, 3)\n",
      "NaN values before imputation: 114340\n",
      "NaN values after imputation: 114340\n",
      "Original data - Mean: 0.02, Max: 10.47\n",
      "Corrected data - Mean: 0.21, Max: 36.39\n"
     ]
    },
    {
     "name": "stderr",
     "output_type": "stream",
     "text": [
      " 43%|██████████████████████████████████                                              | 100/235 [07:34<10:36,  4.71s/it]C:\\Users\\Admin\\anaconda3\\envs\\mossf\\lib\\site-packages\\sklearn\\base.py:493: FutureWarning: The feature names should match those that were passed during fit. Starting version 1.2, an error will be raised.\n",
      "Feature names unseen at fit time:\n",
      "- rainfall\n",
      "Feature names seen at fit time, yet now missing:\n",
      "- radar_rainfall\n",
      "\n",
      "  warnings.warn(message, FutureWarning)\n"
     ]
    },
    {
     "name": "stdout",
     "output_type": "stream",
     "text": [
      "\n",
      "Processing file: D:\\1Yang\\0Research\\0_2566_radar_mosaic\\00mos_chaophraya\\00run_batch_acchr_codes\\2output\\0Hourly\\0Sontihn_RF\\0CBB_Pulse\\0output_mosaic\\2018071911_2000m.tif\n",
      "Warning: CRS not defined for D:\\1Yang\\0Research\\0_2566_radar_mosaic\\00mos_chaophraya\\00run_batch_acchr_codes\\2output\\0Hourly\\0Sontihn_RF\\0CBB_Pulse\\0output_mosaic\\2018071911_2000m.tif. Using WGS84 as default.\n",
      "Features shape: (250000, 3)\n",
      "NaN values before imputation: 114398\n",
      "NaN values after imputation: 114398\n",
      "Original data - Mean: 0.04, Max: 15.37\n",
      "Corrected data - Mean: 0.39, Max: 49.43\n"
     ]
    },
    {
     "name": "stderr",
     "output_type": "stream",
     "text": [
      " 43%|██████████████████████████████████▍                                             | 101/235 [07:39<10:33,  4.73s/it]C:\\Users\\Admin\\anaconda3\\envs\\mossf\\lib\\site-packages\\sklearn\\base.py:493: FutureWarning: The feature names should match those that were passed during fit. Starting version 1.2, an error will be raised.\n",
      "Feature names unseen at fit time:\n",
      "- rainfall\n",
      "Feature names seen at fit time, yet now missing:\n",
      "- radar_rainfall\n",
      "\n",
      "  warnings.warn(message, FutureWarning)\n"
     ]
    },
    {
     "name": "stdout",
     "output_type": "stream",
     "text": [
      "\n",
      "Processing file: D:\\1Yang\\0Research\\0_2566_radar_mosaic\\00mos_chaophraya\\00run_batch_acchr_codes\\2output\\0Hourly\\0Sontihn_RF\\0CBB_Pulse\\0output_mosaic\\2018071912_2000m.tif\n",
      "Warning: CRS not defined for D:\\1Yang\\0Research\\0_2566_radar_mosaic\\00mos_chaophraya\\00run_batch_acchr_codes\\2output\\0Hourly\\0Sontihn_RF\\0CBB_Pulse\\0output_mosaic\\2018071912_2000m.tif. Using WGS84 as default.\n",
      "Features shape: (250000, 3)\n",
      "NaN values before imputation: 114373\n",
      "NaN values after imputation: 114373\n",
      "Original data - Mean: 0.04, Max: 10.26\n",
      "Corrected data - Mean: 0.50, Max: 25.11\n"
     ]
    },
    {
     "name": "stderr",
     "output_type": "stream",
     "text": [
      " 43%|██████████████████████████████████▋                                             | 102/235 [07:44<10:28,  4.73s/it]C:\\Users\\Admin\\anaconda3\\envs\\mossf\\lib\\site-packages\\sklearn\\base.py:493: FutureWarning: The feature names should match those that were passed during fit. Starting version 1.2, an error will be raised.\n",
      "Feature names unseen at fit time:\n",
      "- rainfall\n",
      "Feature names seen at fit time, yet now missing:\n",
      "- radar_rainfall\n",
      "\n",
      "  warnings.warn(message, FutureWarning)\n"
     ]
    },
    {
     "name": "stdout",
     "output_type": "stream",
     "text": [
      "\n",
      "Processing file: D:\\1Yang\\0Research\\0_2566_radar_mosaic\\00mos_chaophraya\\00run_batch_acchr_codes\\2output\\0Hourly\\0Sontihn_RF\\0CBB_Pulse\\0output_mosaic\\2018071913_2000m.tif\n",
      "Warning: CRS not defined for D:\\1Yang\\0Research\\0_2566_radar_mosaic\\00mos_chaophraya\\00run_batch_acchr_codes\\2output\\0Hourly\\0Sontihn_RF\\0CBB_Pulse\\0output_mosaic\\2018071913_2000m.tif. Using WGS84 as default.\n",
      "Features shape: (250000, 3)\n",
      "NaN values before imputation: 114324\n",
      "NaN values after imputation: 114324\n",
      "Original data - Mean: 0.05, Max: 34.72\n",
      "Corrected data - Mean: 0.55, Max: 49.43\n"
     ]
    },
    {
     "name": "stderr",
     "output_type": "stream",
     "text": [
      " 44%|███████████████████████████████████                                             | 103/235 [07:48<10:22,  4.72s/it]C:\\Users\\Admin\\anaconda3\\envs\\mossf\\lib\\site-packages\\sklearn\\base.py:493: FutureWarning: The feature names should match those that were passed during fit. Starting version 1.2, an error will be raised.\n",
      "Feature names unseen at fit time:\n",
      "- rainfall\n",
      "Feature names seen at fit time, yet now missing:\n",
      "- radar_rainfall\n",
      "\n",
      "  warnings.warn(message, FutureWarning)\n"
     ]
    },
    {
     "name": "stdout",
     "output_type": "stream",
     "text": [
      "\n",
      "Processing file: D:\\1Yang\\0Research\\0_2566_radar_mosaic\\00mos_chaophraya\\00run_batch_acchr_codes\\2output\\0Hourly\\0Sontihn_RF\\0CBB_Pulse\\0output_mosaic\\2018071914_2000m.tif\n",
      "Warning: CRS not defined for D:\\1Yang\\0Research\\0_2566_radar_mosaic\\00mos_chaophraya\\00run_batch_acchr_codes\\2output\\0Hourly\\0Sontihn_RF\\0CBB_Pulse\\0output_mosaic\\2018071914_2000m.tif. Using WGS84 as default.\n",
      "Features shape: (250000, 3)\n",
      "NaN values before imputation: 114247\n",
      "NaN values after imputation: 114247\n",
      "Original data - Mean: 0.08, Max: 87.91\n",
      "Corrected data - Mean: 0.65, Max: 49.43\n"
     ]
    },
    {
     "name": "stderr",
     "output_type": "stream",
     "text": [
      " 44%|███████████████████████████████████▍                                            | 104/235 [07:53<10:08,  4.65s/it]C:\\Users\\Admin\\anaconda3\\envs\\mossf\\lib\\site-packages\\sklearn\\base.py:493: FutureWarning: The feature names should match those that were passed during fit. Starting version 1.2, an error will be raised.\n",
      "Feature names unseen at fit time:\n",
      "- rainfall\n",
      "Feature names seen at fit time, yet now missing:\n",
      "- radar_rainfall\n",
      "\n",
      "  warnings.warn(message, FutureWarning)\n"
     ]
    },
    {
     "name": "stdout",
     "output_type": "stream",
     "text": [
      "\n",
      "Processing file: D:\\1Yang\\0Research\\0_2566_radar_mosaic\\00mos_chaophraya\\00run_batch_acchr_codes\\2output\\0Hourly\\0Sontihn_RF\\0CBB_Pulse\\0output_mosaic\\2018071915_2000m.tif\n",
      "Warning: CRS not defined for D:\\1Yang\\0Research\\0_2566_radar_mosaic\\00mos_chaophraya\\00run_batch_acchr_codes\\2output\\0Hourly\\0Sontihn_RF\\0CBB_Pulse\\0output_mosaic\\2018071915_2000m.tif. Using WGS84 as default.\n",
      "Features shape: (250000, 3)\n",
      "NaN values before imputation: 114357\n",
      "NaN values after imputation: 114357\n",
      "Original data - Mean: 0.09, Max: 83.77\n",
      "Corrected data - Mean: 0.57, Max: 49.43\n"
     ]
    },
    {
     "name": "stderr",
     "output_type": "stream",
     "text": [
      " 45%|███████████████████████████████████▋                                            | 105/235 [07:57<09:57,  4.59s/it]C:\\Users\\Admin\\anaconda3\\envs\\mossf\\lib\\site-packages\\sklearn\\base.py:493: FutureWarning: The feature names should match those that were passed during fit. Starting version 1.2, an error will be raised.\n",
      "Feature names unseen at fit time:\n",
      "- rainfall\n",
      "Feature names seen at fit time, yet now missing:\n",
      "- radar_rainfall\n",
      "\n",
      "  warnings.warn(message, FutureWarning)\n"
     ]
    },
    {
     "name": "stdout",
     "output_type": "stream",
     "text": [
      "\n",
      "Processing file: D:\\1Yang\\0Research\\0_2566_radar_mosaic\\00mos_chaophraya\\00run_batch_acchr_codes\\2output\\0Hourly\\0Sontihn_RF\\0CBB_Pulse\\0output_mosaic\\2018071916_2000m.tif\n",
      "Warning: CRS not defined for D:\\1Yang\\0Research\\0_2566_radar_mosaic\\00mos_chaophraya\\00run_batch_acchr_codes\\2output\\0Hourly\\0Sontihn_RF\\0CBB_Pulse\\0output_mosaic\\2018071916_2000m.tif. Using WGS84 as default.\n",
      "Features shape: (250000, 3)\n",
      "NaN values before imputation: 0\n",
      "NaN values after imputation: 0\n",
      "Original data - Mean: 0.02, Max: 48.40\n",
      "Corrected data - Mean: 0.22, Max: 49.43\n"
     ]
    },
    {
     "name": "stderr",
     "output_type": "stream",
     "text": [
      " 45%|████████████████████████████████████                                            | 106/235 [08:02<09:54,  4.61s/it]C:\\Users\\Admin\\anaconda3\\envs\\mossf\\lib\\site-packages\\sklearn\\base.py:493: FutureWarning: The feature names should match those that were passed during fit. Starting version 1.2, an error will be raised.\n",
      "Feature names unseen at fit time:\n",
      "- rainfall\n",
      "Feature names seen at fit time, yet now missing:\n",
      "- radar_rainfall\n",
      "\n",
      "  warnings.warn(message, FutureWarning)\n"
     ]
    },
    {
     "name": "stdout",
     "output_type": "stream",
     "text": [
      "\n",
      "Processing file: D:\\1Yang\\0Research\\0_2566_radar_mosaic\\00mos_chaophraya\\00run_batch_acchr_codes\\2output\\0Hourly\\0Sontihn_RF\\0CBB_Pulse\\0output_mosaic\\2018071917_2000m.tif\n",
      "Warning: CRS not defined for D:\\1Yang\\0Research\\0_2566_radar_mosaic\\00mos_chaophraya\\00run_batch_acchr_codes\\2output\\0Hourly\\0Sontihn_RF\\0CBB_Pulse\\0output_mosaic\\2018071917_2000m.tif. Using WGS84 as default.\n",
      "Features shape: (250000, 3)\n",
      "NaN values before imputation: 114307\n",
      "NaN values after imputation: 114307\n",
      "Original data - Mean: 0.08, Max: 28.20\n",
      "Corrected data - Mean: 0.63, Max: 49.43\n"
     ]
    },
    {
     "name": "stderr",
     "output_type": "stream",
     "text": [
      " 46%|████████████████████████████████████▍                                           | 107/235 [08:06<09:43,  4.56s/it]C:\\Users\\Admin\\anaconda3\\envs\\mossf\\lib\\site-packages\\sklearn\\base.py:493: FutureWarning: The feature names should match those that were passed during fit. Starting version 1.2, an error will be raised.\n",
      "Feature names unseen at fit time:\n",
      "- rainfall\n",
      "Feature names seen at fit time, yet now missing:\n",
      "- radar_rainfall\n",
      "\n",
      "  warnings.warn(message, FutureWarning)\n"
     ]
    },
    {
     "name": "stdout",
     "output_type": "stream",
     "text": [
      "\n",
      "Processing file: D:\\1Yang\\0Research\\0_2566_radar_mosaic\\00mos_chaophraya\\00run_batch_acchr_codes\\2output\\0Hourly\\0Sontihn_RF\\0CBB_Pulse\\0output_mosaic\\2018071918_2000m.tif\n",
      "Warning: CRS not defined for D:\\1Yang\\0Research\\0_2566_radar_mosaic\\00mos_chaophraya\\00run_batch_acchr_codes\\2output\\0Hourly\\0Sontihn_RF\\0CBB_Pulse\\0output_mosaic\\2018071918_2000m.tif. Using WGS84 as default.\n",
      "Features shape: (250000, 3)\n",
      "NaN values before imputation: 114350\n",
      "NaN values after imputation: 114350\n",
      "Original data - Mean: 0.10, Max: 58.43\n",
      "Corrected data - Mean: 0.71, Max: 49.43\n"
     ]
    },
    {
     "name": "stderr",
     "output_type": "stream",
     "text": [
      " 46%|████████████████████████████████████▊                                           | 108/235 [08:11<09:36,  4.54s/it]C:\\Users\\Admin\\anaconda3\\envs\\mossf\\lib\\site-packages\\sklearn\\base.py:493: FutureWarning: The feature names should match those that were passed during fit. Starting version 1.2, an error will be raised.\n",
      "Feature names unseen at fit time:\n",
      "- rainfall\n",
      "Feature names seen at fit time, yet now missing:\n",
      "- radar_rainfall\n",
      "\n",
      "  warnings.warn(message, FutureWarning)\n"
     ]
    },
    {
     "name": "stdout",
     "output_type": "stream",
     "text": [
      "\n",
      "Processing file: D:\\1Yang\\0Research\\0_2566_radar_mosaic\\00mos_chaophraya\\00run_batch_acchr_codes\\2output\\0Hourly\\0Sontihn_RF\\0CBB_Pulse\\0output_mosaic\\2018071919_2000m.tif\n",
      "Warning: CRS not defined for D:\\1Yang\\0Research\\0_2566_radar_mosaic\\00mos_chaophraya\\00run_batch_acchr_codes\\2output\\0Hourly\\0Sontihn_RF\\0CBB_Pulse\\0output_mosaic\\2018071919_2000m.tif. Using WGS84 as default.\n",
      "Features shape: (250000, 3)\n",
      "NaN values before imputation: 114264\n",
      "NaN values after imputation: 114264\n",
      "Original data - Mean: 0.10, Max: 38.98\n",
      "Corrected data - Mean: 0.70, Max: 49.43\n"
     ]
    },
    {
     "name": "stderr",
     "output_type": "stream",
     "text": [
      " 46%|█████████████████████████████████████                                           | 109/235 [08:16<09:49,  4.68s/it]C:\\Users\\Admin\\anaconda3\\envs\\mossf\\lib\\site-packages\\sklearn\\base.py:493: FutureWarning: The feature names should match those that were passed during fit. Starting version 1.2, an error will be raised.\n",
      "Feature names unseen at fit time:\n",
      "- rainfall\n",
      "Feature names seen at fit time, yet now missing:\n",
      "- radar_rainfall\n",
      "\n",
      "  warnings.warn(message, FutureWarning)\n"
     ]
    },
    {
     "name": "stdout",
     "output_type": "stream",
     "text": [
      "\n",
      "Processing file: D:\\1Yang\\0Research\\0_2566_radar_mosaic\\00mos_chaophraya\\00run_batch_acchr_codes\\2output\\0Hourly\\0Sontihn_RF\\0CBB_Pulse\\0output_mosaic\\2018071920_2000m.tif\n",
      "Warning: CRS not defined for D:\\1Yang\\0Research\\0_2566_radar_mosaic\\00mos_chaophraya\\00run_batch_acchr_codes\\2output\\0Hourly\\0Sontihn_RF\\0CBB_Pulse\\0output_mosaic\\2018071920_2000m.tif. Using WGS84 as default.\n",
      "Features shape: (250000, 3)\n",
      "NaN values before imputation: 114308\n",
      "NaN values after imputation: 114308\n",
      "Original data - Mean: 0.07, Max: 9.38\n",
      "Corrected data - Mean: 0.64, Max: 22.88\n"
     ]
    },
    {
     "name": "stderr",
     "output_type": "stream",
     "text": [
      " 47%|█████████████████████████████████████▍                                          | 110/235 [08:20<09:32,  4.58s/it]C:\\Users\\Admin\\anaconda3\\envs\\mossf\\lib\\site-packages\\sklearn\\base.py:493: FutureWarning: The feature names should match those that were passed during fit. Starting version 1.2, an error will be raised.\n",
      "Feature names unseen at fit time:\n",
      "- rainfall\n",
      "Feature names seen at fit time, yet now missing:\n",
      "- radar_rainfall\n",
      "\n",
      "  warnings.warn(message, FutureWarning)\n"
     ]
    },
    {
     "name": "stdout",
     "output_type": "stream",
     "text": [
      "\n",
      "Processing file: D:\\1Yang\\0Research\\0_2566_radar_mosaic\\00mos_chaophraya\\00run_batch_acchr_codes\\2output\\0Hourly\\0Sontihn_RF\\0CBB_Pulse\\0output_mosaic\\2018071921_2000m.tif\n",
      "Warning: CRS not defined for D:\\1Yang\\0Research\\0_2566_radar_mosaic\\00mos_chaophraya\\00run_batch_acchr_codes\\2output\\0Hourly\\0Sontihn_RF\\0CBB_Pulse\\0output_mosaic\\2018071921_2000m.tif. Using WGS84 as default.\n",
      "Features shape: (250000, 3)\n",
      "NaN values before imputation: 114338\n",
      "NaN values after imputation: 114338\n",
      "Original data - Mean: 0.06, Max: 20.23\n",
      "Corrected data - Mean: 0.53, Max: 49.43\n"
     ]
    },
    {
     "name": "stderr",
     "output_type": "stream",
     "text": [
      " 47%|█████████████████████████████████████▊                                          | 111/235 [08:25<09:22,  4.53s/it]C:\\Users\\Admin\\anaconda3\\envs\\mossf\\lib\\site-packages\\sklearn\\base.py:493: FutureWarning: The feature names should match those that were passed during fit. Starting version 1.2, an error will be raised.\n",
      "Feature names unseen at fit time:\n",
      "- rainfall\n",
      "Feature names seen at fit time, yet now missing:\n",
      "- radar_rainfall\n",
      "\n",
      "  warnings.warn(message, FutureWarning)\n"
     ]
    },
    {
     "name": "stdout",
     "output_type": "stream",
     "text": [
      "\n",
      "Processing file: D:\\1Yang\\0Research\\0_2566_radar_mosaic\\00mos_chaophraya\\00run_batch_acchr_codes\\2output\\0Hourly\\0Sontihn_RF\\0CBB_Pulse\\0output_mosaic\\2018071922_2000m.tif\n",
      "Warning: CRS not defined for D:\\1Yang\\0Research\\0_2566_radar_mosaic\\00mos_chaophraya\\00run_batch_acchr_codes\\2output\\0Hourly\\0Sontihn_RF\\0CBB_Pulse\\0output_mosaic\\2018071922_2000m.tif. Using WGS84 as default.\n",
      "Features shape: (250000, 3)\n",
      "NaN values before imputation: 114406\n",
      "NaN values after imputation: 114406\n",
      "Original data - Mean: 0.04, Max: 12.13\n",
      "Corrected data - Mean: 0.49, Max: 49.00\n"
     ]
    },
    {
     "name": "stderr",
     "output_type": "stream",
     "text": [
      " 48%|██████████████████████████████████████▏                                         | 112/235 [08:29<09:16,  4.52s/it]C:\\Users\\Admin\\anaconda3\\envs\\mossf\\lib\\site-packages\\sklearn\\base.py:493: FutureWarning: The feature names should match those that were passed during fit. Starting version 1.2, an error will be raised.\n",
      "Feature names unseen at fit time:\n",
      "- rainfall\n",
      "Feature names seen at fit time, yet now missing:\n",
      "- radar_rainfall\n",
      "\n",
      "  warnings.warn(message, FutureWarning)\n"
     ]
    },
    {
     "name": "stdout",
     "output_type": "stream",
     "text": [
      "\n",
      "Processing file: D:\\1Yang\\0Research\\0_2566_radar_mosaic\\00mos_chaophraya\\00run_batch_acchr_codes\\2output\\0Hourly\\0Sontihn_RF\\0CBB_Pulse\\0output_mosaic\\2018071923_2000m.tif\n",
      "Warning: CRS not defined for D:\\1Yang\\0Research\\0_2566_radar_mosaic\\00mos_chaophraya\\00run_batch_acchr_codes\\2output\\0Hourly\\0Sontihn_RF\\0CBB_Pulse\\0output_mosaic\\2018071923_2000m.tif. Using WGS84 as default.\n",
      "Features shape: (250000, 3)\n",
      "NaN values before imputation: 114330\n",
      "NaN values after imputation: 114330\n",
      "Original data - Mean: 0.05, Max: 82.43\n",
      "Corrected data - Mean: 0.48, Max: 49.43\n"
     ]
    },
    {
     "name": "stderr",
     "output_type": "stream",
     "text": [
      " 48%|██████████████████████████████████████▍                                         | 113/235 [08:34<09:10,  4.52s/it]C:\\Users\\Admin\\anaconda3\\envs\\mossf\\lib\\site-packages\\sklearn\\base.py:493: FutureWarning: The feature names should match those that were passed during fit. Starting version 1.2, an error will be raised.\n",
      "Feature names unseen at fit time:\n",
      "- rainfall\n",
      "Feature names seen at fit time, yet now missing:\n",
      "- radar_rainfall\n",
      "\n",
      "  warnings.warn(message, FutureWarning)\n"
     ]
    },
    {
     "name": "stdout",
     "output_type": "stream",
     "text": [
      "\n",
      "Processing file: D:\\1Yang\\0Research\\0_2566_radar_mosaic\\00mos_chaophraya\\00run_batch_acchr_codes\\2output\\0Hourly\\0Sontihn_RF\\0CBB_Pulse\\0output_mosaic\\2018072000_2000m.tif\n",
      "Warning: CRS not defined for D:\\1Yang\\0Research\\0_2566_radar_mosaic\\00mos_chaophraya\\00run_batch_acchr_codes\\2output\\0Hourly\\0Sontihn_RF\\0CBB_Pulse\\0output_mosaic\\2018072000_2000m.tif. Using WGS84 as default.\n",
      "Features shape: (250000, 3)\n",
      "NaN values before imputation: 114333\n",
      "NaN values after imputation: 114333\n",
      "Original data - Mean: 0.06, Max: 54.46\n",
      "Corrected data - Mean: 0.55, Max: 49.43\n"
     ]
    },
    {
     "name": "stderr",
     "output_type": "stream",
     "text": [
      " 49%|██████████████████████████████████████▊                                         | 114/235 [08:38<09:03,  4.50s/it]C:\\Users\\Admin\\anaconda3\\envs\\mossf\\lib\\site-packages\\sklearn\\base.py:493: FutureWarning: The feature names should match those that were passed during fit. Starting version 1.2, an error will be raised.\n",
      "Feature names unseen at fit time:\n",
      "- rainfall\n",
      "Feature names seen at fit time, yet now missing:\n",
      "- radar_rainfall\n",
      "\n",
      "  warnings.warn(message, FutureWarning)\n"
     ]
    },
    {
     "name": "stdout",
     "output_type": "stream",
     "text": [
      "\n",
      "Processing file: D:\\1Yang\\0Research\\0_2566_radar_mosaic\\00mos_chaophraya\\00run_batch_acchr_codes\\2output\\0Hourly\\0Sontihn_RF\\0CBB_Pulse\\0output_mosaic\\2018072001_2000m.tif\n",
      "Warning: CRS not defined for D:\\1Yang\\0Research\\0_2566_radar_mosaic\\00mos_chaophraya\\00run_batch_acchr_codes\\2output\\0Hourly\\0Sontihn_RF\\0CBB_Pulse\\0output_mosaic\\2018072001_2000m.tif. Using WGS84 as default.\n",
      "Features shape: (250000, 3)\n",
      "NaN values before imputation: 114296\n",
      "NaN values after imputation: 114296\n",
      "Original data - Mean: 0.05, Max: 19.51\n",
      "Corrected data - Mean: 0.65, Max: 49.43\n"
     ]
    },
    {
     "name": "stderr",
     "output_type": "stream",
     "text": [
      " 49%|███████████████████████████████████████▏                                        | 115/235 [08:43<08:57,  4.48s/it]C:\\Users\\Admin\\anaconda3\\envs\\mossf\\lib\\site-packages\\sklearn\\base.py:493: FutureWarning: The feature names should match those that were passed during fit. Starting version 1.2, an error will be raised.\n",
      "Feature names unseen at fit time:\n",
      "- rainfall\n",
      "Feature names seen at fit time, yet now missing:\n",
      "- radar_rainfall\n",
      "\n",
      "  warnings.warn(message, FutureWarning)\n"
     ]
    },
    {
     "name": "stdout",
     "output_type": "stream",
     "text": [
      "\n",
      "Processing file: D:\\1Yang\\0Research\\0_2566_radar_mosaic\\00mos_chaophraya\\00run_batch_acchr_codes\\2output\\0Hourly\\0Sontihn_RF\\0CBB_Pulse\\0output_mosaic\\2018072002_2000m.tif\n",
      "Warning: CRS not defined for D:\\1Yang\\0Research\\0_2566_radar_mosaic\\00mos_chaophraya\\00run_batch_acchr_codes\\2output\\0Hourly\\0Sontihn_RF\\0CBB_Pulse\\0output_mosaic\\2018072002_2000m.tif. Using WGS84 as default.\n",
      "Features shape: (250000, 3)\n",
      "NaN values before imputation: 114334\n",
      "NaN values after imputation: 114334\n",
      "Original data - Mean: 0.05, Max: 24.91\n",
      "Corrected data - Mean: 0.57, Max: 49.43\n"
     ]
    },
    {
     "name": "stderr",
     "output_type": "stream",
     "text": [
      " 49%|███████████████████████████████████████▍                                        | 116/235 [08:47<08:53,  4.48s/it]C:\\Users\\Admin\\anaconda3\\envs\\mossf\\lib\\site-packages\\sklearn\\base.py:493: FutureWarning: The feature names should match those that were passed during fit. Starting version 1.2, an error will be raised.\n",
      "Feature names unseen at fit time:\n",
      "- rainfall\n",
      "Feature names seen at fit time, yet now missing:\n",
      "- radar_rainfall\n",
      "\n",
      "  warnings.warn(message, FutureWarning)\n"
     ]
    },
    {
     "name": "stdout",
     "output_type": "stream",
     "text": [
      "\n",
      "Processing file: D:\\1Yang\\0Research\\0_2566_radar_mosaic\\00mos_chaophraya\\00run_batch_acchr_codes\\2output\\0Hourly\\0Sontihn_RF\\0CBB_Pulse\\0output_mosaic\\2018072003_2000m.tif\n",
      "Warning: CRS not defined for D:\\1Yang\\0Research\\0_2566_radar_mosaic\\00mos_chaophraya\\00run_batch_acchr_codes\\2output\\0Hourly\\0Sontihn_RF\\0CBB_Pulse\\0output_mosaic\\2018072003_2000m.tif. Using WGS84 as default.\n",
      "Features shape: (250000, 3)\n",
      "NaN values before imputation: 114422\n",
      "NaN values after imputation: 114422\n",
      "Original data - Mean: 0.12, Max: 26.79\n",
      "Corrected data - Mean: 0.78, Max: 49.43\n"
     ]
    },
    {
     "name": "stderr",
     "output_type": "stream",
     "text": [
      " 50%|███████████████████████████████████████▊                                        | 117/235 [08:52<08:48,  4.48s/it]C:\\Users\\Admin\\anaconda3\\envs\\mossf\\lib\\site-packages\\sklearn\\base.py:493: FutureWarning: The feature names should match those that were passed during fit. Starting version 1.2, an error will be raised.\n",
      "Feature names unseen at fit time:\n",
      "- rainfall\n",
      "Feature names seen at fit time, yet now missing:\n",
      "- radar_rainfall\n",
      "\n",
      "  warnings.warn(message, FutureWarning)\n"
     ]
    },
    {
     "name": "stdout",
     "output_type": "stream",
     "text": [
      "\n",
      "Processing file: D:\\1Yang\\0Research\\0_2566_radar_mosaic\\00mos_chaophraya\\00run_batch_acchr_codes\\2output\\0Hourly\\0Sontihn_RF\\0CBB_Pulse\\0output_mosaic\\2018072004_2000m.tif\n",
      "Warning: CRS not defined for D:\\1Yang\\0Research\\0_2566_radar_mosaic\\00mos_chaophraya\\00run_batch_acchr_codes\\2output\\0Hourly\\0Sontihn_RF\\0CBB_Pulse\\0output_mosaic\\2018072004_2000m.tif. Using WGS84 as default.\n",
      "Features shape: (250000, 3)\n",
      "NaN values before imputation: 114300\n",
      "NaN values after imputation: 114300\n",
      "Original data - Mean: 0.16, Max: 27.12\n",
      "Corrected data - Mean: 0.80, Max: 49.43\n"
     ]
    },
    {
     "name": "stderr",
     "output_type": "stream",
     "text": [
      " 50%|████████████████████████████████████████▏                                       | 118/235 [08:56<08:43,  4.47s/it]C:\\Users\\Admin\\anaconda3\\envs\\mossf\\lib\\site-packages\\sklearn\\base.py:493: FutureWarning: The feature names should match those that were passed during fit. Starting version 1.2, an error will be raised.\n",
      "Feature names unseen at fit time:\n",
      "- rainfall\n",
      "Feature names seen at fit time, yet now missing:\n",
      "- radar_rainfall\n",
      "\n",
      "  warnings.warn(message, FutureWarning)\n"
     ]
    },
    {
     "name": "stdout",
     "output_type": "stream",
     "text": [
      "\n",
      "Processing file: D:\\1Yang\\0Research\\0_2566_radar_mosaic\\00mos_chaophraya\\00run_batch_acchr_codes\\2output\\0Hourly\\0Sontihn_RF\\0CBB_Pulse\\0output_mosaic\\2018072005_2000m.tif\n",
      "Warning: CRS not defined for D:\\1Yang\\0Research\\0_2566_radar_mosaic\\00mos_chaophraya\\00run_batch_acchr_codes\\2output\\0Hourly\\0Sontihn_RF\\0CBB_Pulse\\0output_mosaic\\2018072005_2000m.tif. Using WGS84 as default.\n",
      "Features shape: (250000, 3)\n",
      "NaN values before imputation: 114436\n",
      "NaN values after imputation: 114436\n",
      "Original data - Mean: 0.11, Max: 18.10\n",
      "Corrected data - Mean: 0.68, Max: 49.43\n"
     ]
    },
    {
     "name": "stderr",
     "output_type": "stream",
     "text": [
      " 51%|████████████████████████████████████████▌                                       | 119/235 [09:01<08:39,  4.48s/it]C:\\Users\\Admin\\anaconda3\\envs\\mossf\\lib\\site-packages\\sklearn\\base.py:493: FutureWarning: The feature names should match those that were passed during fit. Starting version 1.2, an error will be raised.\n",
      "Feature names unseen at fit time:\n",
      "- rainfall\n",
      "Feature names seen at fit time, yet now missing:\n",
      "- radar_rainfall\n",
      "\n",
      "  warnings.warn(message, FutureWarning)\n"
     ]
    },
    {
     "name": "stdout",
     "output_type": "stream",
     "text": [
      "\n",
      "Processing file: D:\\1Yang\\0Research\\0_2566_radar_mosaic\\00mos_chaophraya\\00run_batch_acchr_codes\\2output\\0Hourly\\0Sontihn_RF\\0CBB_Pulse\\0output_mosaic\\2018072006_2000m.tif\n",
      "Warning: CRS not defined for D:\\1Yang\\0Research\\0_2566_radar_mosaic\\00mos_chaophraya\\00run_batch_acchr_codes\\2output\\0Hourly\\0Sontihn_RF\\0CBB_Pulse\\0output_mosaic\\2018072006_2000m.tif. Using WGS84 as default.\n",
      "Features shape: (250000, 3)\n",
      "NaN values before imputation: 114319\n",
      "NaN values after imputation: 114319\n",
      "Original data - Mean: 0.10, Max: 17.96\n",
      "Corrected data - Mean: 0.74, Max: 49.43\n"
     ]
    },
    {
     "name": "stderr",
     "output_type": "stream",
     "text": [
      " 51%|████████████████████████████████████████▊                                       | 120/235 [09:05<08:36,  4.49s/it]C:\\Users\\Admin\\anaconda3\\envs\\mossf\\lib\\site-packages\\sklearn\\base.py:493: FutureWarning: The feature names should match those that were passed during fit. Starting version 1.2, an error will be raised.\n",
      "Feature names unseen at fit time:\n",
      "- rainfall\n",
      "Feature names seen at fit time, yet now missing:\n",
      "- radar_rainfall\n",
      "\n",
      "  warnings.warn(message, FutureWarning)\n"
     ]
    },
    {
     "name": "stdout",
     "output_type": "stream",
     "text": [
      "\n",
      "Processing file: D:\\1Yang\\0Research\\0_2566_radar_mosaic\\00mos_chaophraya\\00run_batch_acchr_codes\\2output\\0Hourly\\0Sontihn_RF\\0CBB_Pulse\\0output_mosaic\\2018072007_2000m.tif\n",
      "Warning: CRS not defined for D:\\1Yang\\0Research\\0_2566_radar_mosaic\\00mos_chaophraya\\00run_batch_acchr_codes\\2output\\0Hourly\\0Sontihn_RF\\0CBB_Pulse\\0output_mosaic\\2018072007_2000m.tif. Using WGS84 as default.\n",
      "Features shape: (250000, 3)\n",
      "NaN values before imputation: 114535\n",
      "NaN values after imputation: 114535\n",
      "Original data - Mean: 0.14, Max: 22.67\n",
      "Corrected data - Mean: 1.12, Max: 49.43\n"
     ]
    },
    {
     "name": "stderr",
     "output_type": "stream",
     "text": [
      " 51%|█████████████████████████████████████████▏                                      | 121/235 [09:09<08:30,  4.48s/it]C:\\Users\\Admin\\anaconda3\\envs\\mossf\\lib\\site-packages\\sklearn\\base.py:493: FutureWarning: The feature names should match those that were passed during fit. Starting version 1.2, an error will be raised.\n",
      "Feature names unseen at fit time:\n",
      "- rainfall\n",
      "Feature names seen at fit time, yet now missing:\n",
      "- radar_rainfall\n",
      "\n",
      "  warnings.warn(message, FutureWarning)\n"
     ]
    },
    {
     "name": "stdout",
     "output_type": "stream",
     "text": [
      "\n",
      "Processing file: D:\\1Yang\\0Research\\0_2566_radar_mosaic\\00mos_chaophraya\\00run_batch_acchr_codes\\2output\\0Hourly\\0Sontihn_RF\\0CBB_Pulse\\0output_mosaic\\2018072008_2000m.tif\n",
      "Warning: CRS not defined for D:\\1Yang\\0Research\\0_2566_radar_mosaic\\00mos_chaophraya\\00run_batch_acchr_codes\\2output\\0Hourly\\0Sontihn_RF\\0CBB_Pulse\\0output_mosaic\\2018072008_2000m.tif. Using WGS84 as default.\n",
      "Features shape: (250000, 3)\n",
      "NaN values before imputation: 114339\n",
      "NaN values after imputation: 114339\n",
      "Original data - Mean: 0.15, Max: 26.74\n",
      "Corrected data - Mean: 0.92, Max: 49.43\n"
     ]
    },
    {
     "name": "stderr",
     "output_type": "stream",
     "text": [
      " 52%|█████████████████████████████████████████▌                                      | 122/235 [09:14<08:24,  4.47s/it]C:\\Users\\Admin\\anaconda3\\envs\\mossf\\lib\\site-packages\\sklearn\\base.py:493: FutureWarning: The feature names should match those that were passed during fit. Starting version 1.2, an error will be raised.\n",
      "Feature names unseen at fit time:\n",
      "- rainfall\n",
      "Feature names seen at fit time, yet now missing:\n",
      "- radar_rainfall\n",
      "\n",
      "  warnings.warn(message, FutureWarning)\n"
     ]
    },
    {
     "name": "stdout",
     "output_type": "stream",
     "text": [
      "\n",
      "Processing file: D:\\1Yang\\0Research\\0_2566_radar_mosaic\\00mos_chaophraya\\00run_batch_acchr_codes\\2output\\0Hourly\\0Sontihn_RF\\0CBB_Pulse\\0output_mosaic\\2018072009_2000m.tif\n",
      "Warning: CRS not defined for D:\\1Yang\\0Research\\0_2566_radar_mosaic\\00mos_chaophraya\\00run_batch_acchr_codes\\2output\\0Hourly\\0Sontihn_RF\\0CBB_Pulse\\0output_mosaic\\2018072009_2000m.tif. Using WGS84 as default.\n",
      "Features shape: (250000, 3)\n",
      "NaN values before imputation: 114320\n",
      "NaN values after imputation: 114320\n",
      "Original data - Mean: 0.18, Max: 40.69\n",
      "Corrected data - Mean: 0.98, Max: 49.43\n"
     ]
    },
    {
     "name": "stderr",
     "output_type": "stream",
     "text": [
      " 52%|█████████████████████████████████████████▊                                      | 123/235 [09:18<08:20,  4.47s/it]C:\\Users\\Admin\\anaconda3\\envs\\mossf\\lib\\site-packages\\sklearn\\base.py:493: FutureWarning: The feature names should match those that were passed during fit. Starting version 1.2, an error will be raised.\n",
      "Feature names unseen at fit time:\n",
      "- rainfall\n",
      "Feature names seen at fit time, yet now missing:\n",
      "- radar_rainfall\n",
      "\n",
      "  warnings.warn(message, FutureWarning)\n"
     ]
    },
    {
     "name": "stdout",
     "output_type": "stream",
     "text": [
      "\n",
      "Processing file: D:\\1Yang\\0Research\\0_2566_radar_mosaic\\00mos_chaophraya\\00run_batch_acchr_codes\\2output\\0Hourly\\0Sontihn_RF\\0CBB_Pulse\\0output_mosaic\\2018072010_2000m.tif\n",
      "Warning: CRS not defined for D:\\1Yang\\0Research\\0_2566_radar_mosaic\\00mos_chaophraya\\00run_batch_acchr_codes\\2output\\0Hourly\\0Sontihn_RF\\0CBB_Pulse\\0output_mosaic\\2018072010_2000m.tif. Using WGS84 as default.\n",
      "Features shape: (250000, 3)\n",
      "NaN values before imputation: 114317\n",
      "NaN values after imputation: 114317\n",
      "Original data - Mean: 0.12, Max: 20.76\n",
      "Corrected data - Mean: 0.77, Max: 49.43\n"
     ]
    },
    {
     "name": "stderr",
     "output_type": "stream",
     "text": [
      " 53%|██████████████████████████████████████████▏                                     | 124/235 [09:23<08:18,  4.49s/it]C:\\Users\\Admin\\anaconda3\\envs\\mossf\\lib\\site-packages\\sklearn\\base.py:493: FutureWarning: The feature names should match those that were passed during fit. Starting version 1.2, an error will be raised.\n",
      "Feature names unseen at fit time:\n",
      "- rainfall\n",
      "Feature names seen at fit time, yet now missing:\n",
      "- radar_rainfall\n",
      "\n",
      "  warnings.warn(message, FutureWarning)\n"
     ]
    },
    {
     "name": "stdout",
     "output_type": "stream",
     "text": [
      "\n",
      "Processing file: D:\\1Yang\\0Research\\0_2566_radar_mosaic\\00mos_chaophraya\\00run_batch_acchr_codes\\2output\\0Hourly\\0Sontihn_RF\\0CBB_Pulse\\0output_mosaic\\2018072011_2000m.tif\n",
      "Warning: CRS not defined for D:\\1Yang\\0Research\\0_2566_radar_mosaic\\00mos_chaophraya\\00run_batch_acchr_codes\\2output\\0Hourly\\0Sontihn_RF\\0CBB_Pulse\\0output_mosaic\\2018072011_2000m.tif. Using WGS84 as default.\n",
      "Features shape: (250000, 3)\n",
      "NaN values before imputation: 114452\n",
      "NaN values after imputation: 114452\n",
      "Original data - Mean: 0.09, Max: 27.22\n",
      "Corrected data - Mean: 0.79, Max: 49.43\n"
     ]
    },
    {
     "name": "stderr",
     "output_type": "stream",
     "text": [
      " 53%|██████████████████████████████████████████▌                                     | 125/235 [09:27<08:14,  4.49s/it]C:\\Users\\Admin\\anaconda3\\envs\\mossf\\lib\\site-packages\\sklearn\\base.py:493: FutureWarning: The feature names should match those that were passed during fit. Starting version 1.2, an error will be raised.\n",
      "Feature names unseen at fit time:\n",
      "- rainfall\n",
      "Feature names seen at fit time, yet now missing:\n",
      "- radar_rainfall\n",
      "\n",
      "  warnings.warn(message, FutureWarning)\n"
     ]
    },
    {
     "name": "stdout",
     "output_type": "stream",
     "text": [
      "\n",
      "Processing file: D:\\1Yang\\0Research\\0_2566_radar_mosaic\\00mos_chaophraya\\00run_batch_acchr_codes\\2output\\0Hourly\\0Sontihn_RF\\0CBB_Pulse\\0output_mosaic\\2018072012_2000m.tif\n",
      "Warning: CRS not defined for D:\\1Yang\\0Research\\0_2566_radar_mosaic\\00mos_chaophraya\\00run_batch_acchr_codes\\2output\\0Hourly\\0Sontihn_RF\\0CBB_Pulse\\0output_mosaic\\2018072012_2000m.tif. Using WGS84 as default.\n",
      "Features shape: (250000, 3)\n",
      "NaN values before imputation: 114294\n",
      "NaN values after imputation: 114294\n",
      "Original data - Mean: 0.21, Max: 38.28\n",
      "Corrected data - Mean: 1.09, Max: 49.43\n"
     ]
    },
    {
     "name": "stderr",
     "output_type": "stream",
     "text": [
      " 54%|██████████████████████████████████████████▉                                     | 126/235 [09:32<08:07,  4.47s/it]C:\\Users\\Admin\\anaconda3\\envs\\mossf\\lib\\site-packages\\sklearn\\base.py:493: FutureWarning: The feature names should match those that were passed during fit. Starting version 1.2, an error will be raised.\n",
      "Feature names unseen at fit time:\n",
      "- rainfall\n",
      "Feature names seen at fit time, yet now missing:\n",
      "- radar_rainfall\n",
      "\n",
      "  warnings.warn(message, FutureWarning)\n"
     ]
    },
    {
     "name": "stdout",
     "output_type": "stream",
     "text": [
      "\n",
      "Processing file: D:\\1Yang\\0Research\\0_2566_radar_mosaic\\00mos_chaophraya\\00run_batch_acchr_codes\\2output\\0Hourly\\0Sontihn_RF\\0CBB_Pulse\\0output_mosaic\\2018072018_2000m.tif\n",
      "Warning: CRS not defined for D:\\1Yang\\0Research\\0_2566_radar_mosaic\\00mos_chaophraya\\00run_batch_acchr_codes\\2output\\0Hourly\\0Sontihn_RF\\0CBB_Pulse\\0output_mosaic\\2018072018_2000m.tif. Using WGS84 as default.\n",
      "Features shape: (250000, 3)\n",
      "NaN values before imputation: 114332\n",
      "NaN values after imputation: 114332\n",
      "Original data - Mean: 0.05, Max: 68.34\n",
      "Corrected data - Mean: 0.50, Max: 49.43\n"
     ]
    },
    {
     "name": "stderr",
     "output_type": "stream",
     "text": [
      " 54%|███████████████████████████████████████████▏                                    | 127/235 [09:36<08:03,  4.47s/it]C:\\Users\\Admin\\anaconda3\\envs\\mossf\\lib\\site-packages\\sklearn\\base.py:493: FutureWarning: The feature names should match those that were passed during fit. Starting version 1.2, an error will be raised.\n",
      "Feature names unseen at fit time:\n",
      "- rainfall\n",
      "Feature names seen at fit time, yet now missing:\n",
      "- radar_rainfall\n",
      "\n",
      "  warnings.warn(message, FutureWarning)\n"
     ]
    },
    {
     "name": "stdout",
     "output_type": "stream",
     "text": [
      "\n",
      "Processing file: D:\\1Yang\\0Research\\0_2566_radar_mosaic\\00mos_chaophraya\\00run_batch_acchr_codes\\2output\\0Hourly\\0Sontihn_RF\\0CBB_Pulse\\0output_mosaic\\2018072019_2000m.tif\n",
      "Warning: CRS not defined for D:\\1Yang\\0Research\\0_2566_radar_mosaic\\00mos_chaophraya\\00run_batch_acchr_codes\\2output\\0Hourly\\0Sontihn_RF\\0CBB_Pulse\\0output_mosaic\\2018072019_2000m.tif. Using WGS84 as default.\n",
      "Features shape: (250000, 3)\n",
      "NaN values before imputation: 114314\n",
      "NaN values after imputation: 114314\n",
      "Original data - Mean: 0.06, Max: 53.22\n",
      "Corrected data - Mean: 0.50, Max: 49.43\n"
     ]
    },
    {
     "name": "stderr",
     "output_type": "stream",
     "text": [
      " 54%|███████████████████████████████████████████▌                                    | 128/235 [09:41<07:58,  4.48s/it]C:\\Users\\Admin\\anaconda3\\envs\\mossf\\lib\\site-packages\\sklearn\\base.py:493: FutureWarning: The feature names should match those that were passed during fit. Starting version 1.2, an error will be raised.\n",
      "Feature names unseen at fit time:\n",
      "- rainfall\n",
      "Feature names seen at fit time, yet now missing:\n",
      "- radar_rainfall\n",
      "\n",
      "  warnings.warn(message, FutureWarning)\n"
     ]
    },
    {
     "name": "stdout",
     "output_type": "stream",
     "text": [
      "\n",
      "Processing file: D:\\1Yang\\0Research\\0_2566_radar_mosaic\\00mos_chaophraya\\00run_batch_acchr_codes\\2output\\0Hourly\\0Sontihn_RF\\0CBB_Pulse\\0output_mosaic\\2018072020_2000m.tif\n",
      "Warning: CRS not defined for D:\\1Yang\\0Research\\0_2566_radar_mosaic\\00mos_chaophraya\\00run_batch_acchr_codes\\2output\\0Hourly\\0Sontihn_RF\\0CBB_Pulse\\0output_mosaic\\2018072020_2000m.tif. Using WGS84 as default.\n",
      "Features shape: (250000, 3)\n",
      "NaN values before imputation: 114453\n",
      "NaN values after imputation: 114453\n",
      "Original data - Mean: 0.08, Max: 64.26\n",
      "Corrected data - Mean: 0.46, Max: 49.43\n"
     ]
    },
    {
     "name": "stderr",
     "output_type": "stream",
     "text": [
      " 55%|███████████████████████████████████████████▉                                    | 129/235 [09:45<07:54,  4.48s/it]C:\\Users\\Admin\\anaconda3\\envs\\mossf\\lib\\site-packages\\sklearn\\base.py:493: FutureWarning: The feature names should match those that were passed during fit. Starting version 1.2, an error will be raised.\n",
      "Feature names unseen at fit time:\n",
      "- rainfall\n",
      "Feature names seen at fit time, yet now missing:\n",
      "- radar_rainfall\n",
      "\n",
      "  warnings.warn(message, FutureWarning)\n"
     ]
    },
    {
     "name": "stdout",
     "output_type": "stream",
     "text": [
      "\n",
      "Processing file: D:\\1Yang\\0Research\\0_2566_radar_mosaic\\00mos_chaophraya\\00run_batch_acchr_codes\\2output\\0Hourly\\0Sontihn_RF\\0CBB_Pulse\\0output_mosaic\\2018072021_2000m.tif\n",
      "Warning: CRS not defined for D:\\1Yang\\0Research\\0_2566_radar_mosaic\\00mos_chaophraya\\00run_batch_acchr_codes\\2output\\0Hourly\\0Sontihn_RF\\0CBB_Pulse\\0output_mosaic\\2018072021_2000m.tif. Using WGS84 as default.\n",
      "Features shape: (250000, 3)\n",
      "NaN values before imputation: 114286\n",
      "NaN values after imputation: 114286\n",
      "Original data - Mean: 0.03, Max: 26.26\n",
      "Corrected data - Mean: 0.33, Max: 49.43\n"
     ]
    },
    {
     "name": "stderr",
     "output_type": "stream",
     "text": [
      " 55%|████████████████████████████████████████████▎                                   | 130/235 [09:50<07:52,  4.50s/it]C:\\Users\\Admin\\anaconda3\\envs\\mossf\\lib\\site-packages\\sklearn\\base.py:493: FutureWarning: The feature names should match those that were passed during fit. Starting version 1.2, an error will be raised.\n",
      "Feature names unseen at fit time:\n",
      "- rainfall\n",
      "Feature names seen at fit time, yet now missing:\n",
      "- radar_rainfall\n",
      "\n",
      "  warnings.warn(message, FutureWarning)\n"
     ]
    },
    {
     "name": "stdout",
     "output_type": "stream",
     "text": [
      "\n",
      "Processing file: D:\\1Yang\\0Research\\0_2566_radar_mosaic\\00mos_chaophraya\\00run_batch_acchr_codes\\2output\\0Hourly\\0Sontihn_RF\\0CBB_Pulse\\0output_mosaic\\2018072022_2000m.tif\n",
      "Warning: CRS not defined for D:\\1Yang\\0Research\\0_2566_radar_mosaic\\00mos_chaophraya\\00run_batch_acchr_codes\\2output\\0Hourly\\0Sontihn_RF\\0CBB_Pulse\\0output_mosaic\\2018072022_2000m.tif. Using WGS84 as default.\n",
      "Features shape: (250000, 3)\n",
      "NaN values before imputation: 114468\n",
      "NaN values after imputation: 114468\n",
      "Original data - Mean: 0.02, Max: 62.01\n",
      "Corrected data - Mean: 0.21, Max: 49.43\n"
     ]
    },
    {
     "name": "stderr",
     "output_type": "stream",
     "text": [
      " 56%|████████████████████████████████████████████▌                                   | 131/235 [09:54<07:47,  4.50s/it]C:\\Users\\Admin\\anaconda3\\envs\\mossf\\lib\\site-packages\\sklearn\\base.py:493: FutureWarning: The feature names should match those that were passed during fit. Starting version 1.2, an error will be raised.\n",
      "Feature names unseen at fit time:\n",
      "- rainfall\n",
      "Feature names seen at fit time, yet now missing:\n",
      "- radar_rainfall\n",
      "\n",
      "  warnings.warn(message, FutureWarning)\n"
     ]
    },
    {
     "name": "stdout",
     "output_type": "stream",
     "text": [
      "\n",
      "Processing file: D:\\1Yang\\0Research\\0_2566_radar_mosaic\\00mos_chaophraya\\00run_batch_acchr_codes\\2output\\0Hourly\\0Sontihn_RF\\0CBB_Pulse\\0output_mosaic\\2018072023_2000m.tif\n",
      "Warning: CRS not defined for D:\\1Yang\\0Research\\0_2566_radar_mosaic\\00mos_chaophraya\\00run_batch_acchr_codes\\2output\\0Hourly\\0Sontihn_RF\\0CBB_Pulse\\0output_mosaic\\2018072023_2000m.tif. Using WGS84 as default.\n",
      "Features shape: (250000, 3)\n",
      "NaN values before imputation: 114299\n",
      "NaN values after imputation: 114299\n",
      "Original data - Mean: 0.03, Max: 30.69\n",
      "Corrected data - Mean: 0.26, Max: 49.43\n"
     ]
    },
    {
     "name": "stderr",
     "output_type": "stream",
     "text": [
      " 56%|████████████████████████████████████████████▉                                   | 132/235 [09:59<07:44,  4.51s/it]C:\\Users\\Admin\\anaconda3\\envs\\mossf\\lib\\site-packages\\sklearn\\base.py:493: FutureWarning: The feature names should match those that were passed during fit. Starting version 1.2, an error will be raised.\n",
      "Feature names unseen at fit time:\n",
      "- rainfall\n",
      "Feature names seen at fit time, yet now missing:\n",
      "- radar_rainfall\n",
      "\n",
      "  warnings.warn(message, FutureWarning)\n"
     ]
    },
    {
     "name": "stdout",
     "output_type": "stream",
     "text": [
      "\n",
      "Processing file: D:\\1Yang\\0Research\\0_2566_radar_mosaic\\00mos_chaophraya\\00run_batch_acchr_codes\\2output\\0Hourly\\0Sontihn_RF\\0CBB_Pulse\\0output_mosaic\\2018072100_2000m.tif\n",
      "Warning: CRS not defined for D:\\1Yang\\0Research\\0_2566_radar_mosaic\\00mos_chaophraya\\00run_batch_acchr_codes\\2output\\0Hourly\\0Sontihn_RF\\0CBB_Pulse\\0output_mosaic\\2018072100_2000m.tif. Using WGS84 as default.\n",
      "Features shape: (250000, 3)\n",
      "NaN values before imputation: 114370\n",
      "NaN values after imputation: 114370\n",
      "Original data - Mean: 0.12, Max: 77.38\n",
      "Corrected data - Mean: 0.64, Max: 49.43\n"
     ]
    },
    {
     "name": "stderr",
     "output_type": "stream",
     "text": [
      " 57%|█████████████████████████████████████████████▎                                  | 133/235 [10:03<07:39,  4.50s/it]C:\\Users\\Admin\\anaconda3\\envs\\mossf\\lib\\site-packages\\sklearn\\base.py:493: FutureWarning: The feature names should match those that were passed during fit. Starting version 1.2, an error will be raised.\n",
      "Feature names unseen at fit time:\n",
      "- rainfall\n",
      "Feature names seen at fit time, yet now missing:\n",
      "- radar_rainfall\n",
      "\n",
      "  warnings.warn(message, FutureWarning)\n"
     ]
    },
    {
     "name": "stdout",
     "output_type": "stream",
     "text": [
      "\n",
      "Processing file: D:\\1Yang\\0Research\\0_2566_radar_mosaic\\00mos_chaophraya\\00run_batch_acchr_codes\\2output\\0Hourly\\0Sontihn_RF\\0CBB_Pulse\\0output_mosaic\\2018072101_2000m.tif\n",
      "Warning: CRS not defined for D:\\1Yang\\0Research\\0_2566_radar_mosaic\\00mos_chaophraya\\00run_batch_acchr_codes\\2output\\0Hourly\\0Sontihn_RF\\0CBB_Pulse\\0output_mosaic\\2018072101_2000m.tif. Using WGS84 as default.\n",
      "Features shape: (250000, 3)\n",
      "NaN values before imputation: 114326\n",
      "NaN values after imputation: 114326\n",
      "Original data - Mean: 0.20, Max: 57.12\n",
      "Corrected data - Mean: 0.88, Max: 49.43\n"
     ]
    },
    {
     "name": "stderr",
     "output_type": "stream",
     "text": [
      " 57%|█████████████████████████████████████████████▌                                  | 134/235 [10:08<07:33,  4.49s/it]C:\\Users\\Admin\\anaconda3\\envs\\mossf\\lib\\site-packages\\sklearn\\base.py:493: FutureWarning: The feature names should match those that were passed during fit. Starting version 1.2, an error will be raised.\n",
      "Feature names unseen at fit time:\n",
      "- rainfall\n",
      "Feature names seen at fit time, yet now missing:\n",
      "- radar_rainfall\n",
      "\n",
      "  warnings.warn(message, FutureWarning)\n"
     ]
    },
    {
     "name": "stdout",
     "output_type": "stream",
     "text": [
      "\n",
      "Processing file: D:\\1Yang\\0Research\\0_2566_radar_mosaic\\00mos_chaophraya\\00run_batch_acchr_codes\\2output\\0Hourly\\0Sontihn_RF\\0CBB_Pulse\\0output_mosaic\\2018072102_2000m.tif\n",
      "Warning: CRS not defined for D:\\1Yang\\0Research\\0_2566_radar_mosaic\\00mos_chaophraya\\00run_batch_acchr_codes\\2output\\0Hourly\\0Sontihn_RF\\0CBB_Pulse\\0output_mosaic\\2018072102_2000m.tif. Using WGS84 as default.\n",
      "Features shape: (250000, 3)\n",
      "NaN values before imputation: 114298\n",
      "NaN values after imputation: 114298\n",
      "Original data - Mean: 0.19, Max: 38.20\n",
      "Corrected data - Mean: 0.86, Max: 49.43\n"
     ]
    },
    {
     "name": "stderr",
     "output_type": "stream",
     "text": [
      " 57%|█████████████████████████████████████████████▉                                  | 135/235 [10:13<07:45,  4.66s/it]C:\\Users\\Admin\\anaconda3\\envs\\mossf\\lib\\site-packages\\sklearn\\base.py:493: FutureWarning: The feature names should match those that were passed during fit. Starting version 1.2, an error will be raised.\n",
      "Feature names unseen at fit time:\n",
      "- rainfall\n",
      "Feature names seen at fit time, yet now missing:\n",
      "- radar_rainfall\n",
      "\n",
      "  warnings.warn(message, FutureWarning)\n"
     ]
    },
    {
     "name": "stdout",
     "output_type": "stream",
     "text": [
      "\n",
      "Processing file: D:\\1Yang\\0Research\\0_2566_radar_mosaic\\00mos_chaophraya\\00run_batch_acchr_codes\\2output\\0Hourly\\0Sontihn_RF\\0CBB_Pulse\\0output_mosaic\\2018072103_2000m.tif\n",
      "Warning: CRS not defined for D:\\1Yang\\0Research\\0_2566_radar_mosaic\\00mos_chaophraya\\00run_batch_acchr_codes\\2output\\0Hourly\\0Sontihn_RF\\0CBB_Pulse\\0output_mosaic\\2018072103_2000m.tif. Using WGS84 as default.\n",
      "Features shape: (250000, 3)\n",
      "NaN values before imputation: 114317\n",
      "NaN values after imputation: 114317\n",
      "Original data - Mean: 0.22, Max: 66.99\n",
      "Corrected data - Mean: 0.88, Max: 49.43\n"
     ]
    },
    {
     "name": "stderr",
     "output_type": "stream",
     "text": [
      " 58%|██████████████████████████████████████████████▎                                 | 136/235 [10:17<07:33,  4.58s/it]C:\\Users\\Admin\\anaconda3\\envs\\mossf\\lib\\site-packages\\sklearn\\base.py:493: FutureWarning: The feature names should match those that were passed during fit. Starting version 1.2, an error will be raised.\n",
      "Feature names unseen at fit time:\n",
      "- rainfall\n",
      "Feature names seen at fit time, yet now missing:\n",
      "- radar_rainfall\n",
      "\n",
      "  warnings.warn(message, FutureWarning)\n"
     ]
    },
    {
     "name": "stdout",
     "output_type": "stream",
     "text": [
      "\n",
      "Processing file: D:\\1Yang\\0Research\\0_2566_radar_mosaic\\00mos_chaophraya\\00run_batch_acchr_codes\\2output\\0Hourly\\0Sontihn_RF\\0CBB_Pulse\\0output_mosaic\\2018072104_2000m.tif\n",
      "Warning: CRS not defined for D:\\1Yang\\0Research\\0_2566_radar_mosaic\\00mos_chaophraya\\00run_batch_acchr_codes\\2output\\0Hourly\\0Sontihn_RF\\0CBB_Pulse\\0output_mosaic\\2018072104_2000m.tif. Using WGS84 as default.\n",
      "Features shape: (250000, 3)\n",
      "NaN values before imputation: 114353\n",
      "NaN values after imputation: 114353\n",
      "Original data - Mean: 0.17, Max: 78.49\n",
      "Corrected data - Mean: 0.72, Max: 49.43\n"
     ]
    },
    {
     "name": "stderr",
     "output_type": "stream",
     "text": [
      " 58%|██████████████████████████████████████████████▋                                 | 137/235 [10:22<07:24,  4.54s/it]C:\\Users\\Admin\\anaconda3\\envs\\mossf\\lib\\site-packages\\sklearn\\base.py:493: FutureWarning: The feature names should match those that were passed during fit. Starting version 1.2, an error will be raised.\n",
      "Feature names unseen at fit time:\n",
      "- rainfall\n",
      "Feature names seen at fit time, yet now missing:\n",
      "- radar_rainfall\n",
      "\n",
      "  warnings.warn(message, FutureWarning)\n"
     ]
    },
    {
     "name": "stdout",
     "output_type": "stream",
     "text": [
      "\n",
      "Processing file: D:\\1Yang\\0Research\\0_2566_radar_mosaic\\00mos_chaophraya\\00run_batch_acchr_codes\\2output\\0Hourly\\0Sontihn_RF\\0CBB_Pulse\\0output_mosaic\\2018072105_2000m.tif\n",
      "Warning: CRS not defined for D:\\1Yang\\0Research\\0_2566_radar_mosaic\\00mos_chaophraya\\00run_batch_acchr_codes\\2output\\0Hourly\\0Sontihn_RF\\0CBB_Pulse\\0output_mosaic\\2018072105_2000m.tif. Using WGS84 as default.\n",
      "Features shape: (250000, 3)\n",
      "NaN values before imputation: 114289\n",
      "NaN values after imputation: 114289\n",
      "Original data - Mean: 0.10, Max: 76.92\n",
      "Corrected data - Mean: 0.51, Max: 49.43\n"
     ]
    },
    {
     "name": "stderr",
     "output_type": "stream",
     "text": [
      " 59%|██████████████████████████████████████████████▉                                 | 138/235 [10:26<07:17,  4.51s/it]C:\\Users\\Admin\\anaconda3\\envs\\mossf\\lib\\site-packages\\sklearn\\base.py:493: FutureWarning: The feature names should match those that were passed during fit. Starting version 1.2, an error will be raised.\n",
      "Feature names unseen at fit time:\n",
      "- rainfall\n",
      "Feature names seen at fit time, yet now missing:\n",
      "- radar_rainfall\n",
      "\n",
      "  warnings.warn(message, FutureWarning)\n"
     ]
    },
    {
     "name": "stdout",
     "output_type": "stream",
     "text": [
      "\n",
      "Processing file: D:\\1Yang\\0Research\\0_2566_radar_mosaic\\00mos_chaophraya\\00run_batch_acchr_codes\\2output\\0Hourly\\0Sontihn_RF\\0CBB_Pulse\\0output_mosaic\\2018072106_2000m.tif\n",
      "Warning: CRS not defined for D:\\1Yang\\0Research\\0_2566_radar_mosaic\\00mos_chaophraya\\00run_batch_acchr_codes\\2output\\0Hourly\\0Sontihn_RF\\0CBB_Pulse\\0output_mosaic\\2018072106_2000m.tif. Using WGS84 as default.\n",
      "Features shape: (250000, 3)\n",
      "NaN values before imputation: 114344\n",
      "NaN values after imputation: 114344\n",
      "Original data - Mean: 0.07, Max: 41.56\n",
      "Corrected data - Mean: 0.41, Max: 49.43\n"
     ]
    },
    {
     "name": "stderr",
     "output_type": "stream",
     "text": [
      " 59%|███████████████████████████████████████████████▎                                | 139/235 [10:31<07:11,  4.50s/it]C:\\Users\\Admin\\anaconda3\\envs\\mossf\\lib\\site-packages\\sklearn\\base.py:493: FutureWarning: The feature names should match those that were passed during fit. Starting version 1.2, an error will be raised.\n",
      "Feature names unseen at fit time:\n",
      "- rainfall\n",
      "Feature names seen at fit time, yet now missing:\n",
      "- radar_rainfall\n",
      "\n",
      "  warnings.warn(message, FutureWarning)\n"
     ]
    },
    {
     "name": "stdout",
     "output_type": "stream",
     "text": [
      "\n",
      "Processing file: D:\\1Yang\\0Research\\0_2566_radar_mosaic\\00mos_chaophraya\\00run_batch_acchr_codes\\2output\\0Hourly\\0Sontihn_RF\\0CBB_Pulse\\0output_mosaic\\2018072107_2000m.tif\n",
      "Warning: CRS not defined for D:\\1Yang\\0Research\\0_2566_radar_mosaic\\00mos_chaophraya\\00run_batch_acchr_codes\\2output\\0Hourly\\0Sontihn_RF\\0CBB_Pulse\\0output_mosaic\\2018072107_2000m.tif. Using WGS84 as default.\n",
      "Features shape: (250000, 3)\n",
      "NaN values before imputation: 114319\n",
      "NaN values after imputation: 114319\n",
      "Original data - Mean: 0.05, Max: 62.66\n",
      "Corrected data - Mean: 0.39, Max: 49.43\n"
     ]
    },
    {
     "name": "stderr",
     "output_type": "stream",
     "text": [
      " 60%|███████████████████████████████████████████████▋                                | 140/235 [10:35<07:05,  4.48s/it]C:\\Users\\Admin\\anaconda3\\envs\\mossf\\lib\\site-packages\\sklearn\\base.py:493: FutureWarning: The feature names should match those that were passed during fit. Starting version 1.2, an error will be raised.\n",
      "Feature names unseen at fit time:\n",
      "- rainfall\n",
      "Feature names seen at fit time, yet now missing:\n",
      "- radar_rainfall\n",
      "\n",
      "  warnings.warn(message, FutureWarning)\n"
     ]
    },
    {
     "name": "stdout",
     "output_type": "stream",
     "text": [
      "\n",
      "Processing file: D:\\1Yang\\0Research\\0_2566_radar_mosaic\\00mos_chaophraya\\00run_batch_acchr_codes\\2output\\0Hourly\\0Sontihn_RF\\0CBB_Pulse\\0output_mosaic\\2018072108_2000m.tif\n",
      "Warning: CRS not defined for D:\\1Yang\\0Research\\0_2566_radar_mosaic\\00mos_chaophraya\\00run_batch_acchr_codes\\2output\\0Hourly\\0Sontihn_RF\\0CBB_Pulse\\0output_mosaic\\2018072108_2000m.tif. Using WGS84 as default.\n",
      "Features shape: (250000, 3)\n",
      "NaN values before imputation: 114312\n",
      "NaN values after imputation: 114312\n",
      "Original data - Mean: 0.10, Max: 51.07\n",
      "Corrected data - Mean: 0.51, Max: 49.43\n"
     ]
    },
    {
     "name": "stderr",
     "output_type": "stream",
     "text": [
      " 60%|████████████████████████████████████████████████                                | 141/235 [10:39<07:00,  4.47s/it]C:\\Users\\Admin\\anaconda3\\envs\\mossf\\lib\\site-packages\\sklearn\\base.py:493: FutureWarning: The feature names should match those that were passed during fit. Starting version 1.2, an error will be raised.\n",
      "Feature names unseen at fit time:\n",
      "- rainfall\n",
      "Feature names seen at fit time, yet now missing:\n",
      "- radar_rainfall\n",
      "\n",
      "  warnings.warn(message, FutureWarning)\n"
     ]
    },
    {
     "name": "stdout",
     "output_type": "stream",
     "text": [
      "\n",
      "Processing file: D:\\1Yang\\0Research\\0_2566_radar_mosaic\\00mos_chaophraya\\00run_batch_acchr_codes\\2output\\0Hourly\\0Sontihn_RF\\0CBB_Pulse\\0output_mosaic\\2018072109_2000m.tif\n",
      "Warning: CRS not defined for D:\\1Yang\\0Research\\0_2566_radar_mosaic\\00mos_chaophraya\\00run_batch_acchr_codes\\2output\\0Hourly\\0Sontihn_RF\\0CBB_Pulse\\0output_mosaic\\2018072109_2000m.tif. Using WGS84 as default.\n",
      "Features shape: (250000, 3)\n",
      "NaN values before imputation: 114320\n",
      "NaN values after imputation: 114320\n",
      "Original data - Mean: 0.09, Max: 63.69\n",
      "Corrected data - Mean: 0.43, Max: 49.43\n"
     ]
    },
    {
     "name": "stderr",
     "output_type": "stream",
     "text": [
      " 60%|████████████████████████████████████████████████▎                               | 142/235 [10:44<06:56,  4.48s/it]C:\\Users\\Admin\\anaconda3\\envs\\mossf\\lib\\site-packages\\sklearn\\base.py:493: FutureWarning: The feature names should match those that were passed during fit. Starting version 1.2, an error will be raised.\n",
      "Feature names unseen at fit time:\n",
      "- rainfall\n",
      "Feature names seen at fit time, yet now missing:\n",
      "- radar_rainfall\n",
      "\n",
      "  warnings.warn(message, FutureWarning)\n"
     ]
    },
    {
     "name": "stdout",
     "output_type": "stream",
     "text": [
      "\n",
      "Processing file: D:\\1Yang\\0Research\\0_2566_radar_mosaic\\00mos_chaophraya\\00run_batch_acchr_codes\\2output\\0Hourly\\0Sontihn_RF\\0CBB_Pulse\\0output_mosaic\\2018072110_2000m.tif\n",
      "Warning: CRS not defined for D:\\1Yang\\0Research\\0_2566_radar_mosaic\\00mos_chaophraya\\00run_batch_acchr_codes\\2output\\0Hourly\\0Sontihn_RF\\0CBB_Pulse\\0output_mosaic\\2018072110_2000m.tif. Using WGS84 as default.\n",
      "Features shape: (250000, 3)\n",
      "NaN values before imputation: 114415\n",
      "NaN values after imputation: 114415\n",
      "Original data - Mean: 0.07, Max: 31.87\n",
      "Corrected data - Mean: 0.35, Max: 49.43\n"
     ]
    },
    {
     "name": "stderr",
     "output_type": "stream",
     "text": [
      " 61%|████████████████████████████████████████████████▋                               | 143/235 [10:48<06:51,  4.47s/it]C:\\Users\\Admin\\anaconda3\\envs\\mossf\\lib\\site-packages\\sklearn\\base.py:493: FutureWarning: The feature names should match those that were passed during fit. Starting version 1.2, an error will be raised.\n",
      "Feature names unseen at fit time:\n",
      "- rainfall\n",
      "Feature names seen at fit time, yet now missing:\n",
      "- radar_rainfall\n",
      "\n",
      "  warnings.warn(message, FutureWarning)\n"
     ]
    },
    {
     "name": "stdout",
     "output_type": "stream",
     "text": [
      "\n",
      "Processing file: D:\\1Yang\\0Research\\0_2566_radar_mosaic\\00mos_chaophraya\\00run_batch_acchr_codes\\2output\\0Hourly\\0Sontihn_RF\\0CBB_Pulse\\0output_mosaic\\2018072111_2000m.tif\n",
      "Warning: CRS not defined for D:\\1Yang\\0Research\\0_2566_radar_mosaic\\00mos_chaophraya\\00run_batch_acchr_codes\\2output\\0Hourly\\0Sontihn_RF\\0CBB_Pulse\\0output_mosaic\\2018072111_2000m.tif. Using WGS84 as default.\n",
      "Features shape: (250000, 3)\n",
      "NaN values before imputation: 114478\n",
      "NaN values after imputation: 114478\n",
      "Original data - Mean: 0.06, Max: 64.16\n",
      "Corrected data - Mean: 0.37, Max: 49.43\n"
     ]
    },
    {
     "name": "stderr",
     "output_type": "stream",
     "text": [
      " 61%|█████████████████████████████████████████████████                               | 144/235 [10:53<06:46,  4.47s/it]C:\\Users\\Admin\\anaconda3\\envs\\mossf\\lib\\site-packages\\sklearn\\base.py:493: FutureWarning: The feature names should match those that were passed during fit. Starting version 1.2, an error will be raised.\n",
      "Feature names unseen at fit time:\n",
      "- rainfall\n",
      "Feature names seen at fit time, yet now missing:\n",
      "- radar_rainfall\n",
      "\n",
      "  warnings.warn(message, FutureWarning)\n"
     ]
    },
    {
     "name": "stdout",
     "output_type": "stream",
     "text": [
      "\n",
      "Processing file: D:\\1Yang\\0Research\\0_2566_radar_mosaic\\00mos_chaophraya\\00run_batch_acchr_codes\\2output\\0Hourly\\0Sontihn_RF\\0CBB_Pulse\\0output_mosaic\\2018072112_2000m.tif\n",
      "Warning: CRS not defined for D:\\1Yang\\0Research\\0_2566_radar_mosaic\\00mos_chaophraya\\00run_batch_acchr_codes\\2output\\0Hourly\\0Sontihn_RF\\0CBB_Pulse\\0output_mosaic\\2018072112_2000m.tif. Using WGS84 as default.\n",
      "Features shape: (250000, 3)\n",
      "NaN values before imputation: 114457\n",
      "NaN values after imputation: 114457\n",
      "Original data - Mean: 0.07, Max: 85.34\n",
      "Corrected data - Mean: 0.35, Max: 49.43\n"
     ]
    },
    {
     "name": "stderr",
     "output_type": "stream",
     "text": [
      " 62%|█████████████████████████████████████████████████▎                              | 145/235 [10:57<06:42,  4.48s/it]C:\\Users\\Admin\\anaconda3\\envs\\mossf\\lib\\site-packages\\sklearn\\base.py:493: FutureWarning: The feature names should match those that were passed during fit. Starting version 1.2, an error will be raised.\n",
      "Feature names unseen at fit time:\n",
      "- rainfall\n",
      "Feature names seen at fit time, yet now missing:\n",
      "- radar_rainfall\n",
      "\n",
      "  warnings.warn(message, FutureWarning)\n"
     ]
    },
    {
     "name": "stdout",
     "output_type": "stream",
     "text": [
      "\n",
      "Processing file: D:\\1Yang\\0Research\\0_2566_radar_mosaic\\00mos_chaophraya\\00run_batch_acchr_codes\\2output\\0Hourly\\0Sontihn_RF\\0CBB_Pulse\\0output_mosaic\\2018072113_2000m.tif\n",
      "Warning: CRS not defined for D:\\1Yang\\0Research\\0_2566_radar_mosaic\\00mos_chaophraya\\00run_batch_acchr_codes\\2output\\0Hourly\\0Sontihn_RF\\0CBB_Pulse\\0output_mosaic\\2018072113_2000m.tif. Using WGS84 as default.\n",
      "Features shape: (250000, 3)\n",
      "NaN values before imputation: 114300\n",
      "NaN values after imputation: 114300\n",
      "Original data - Mean: 0.05, Max: 50.46\n",
      "Corrected data - Mean: 0.30, Max: 49.43\n"
     ]
    },
    {
     "name": "stderr",
     "output_type": "stream",
     "text": [
      " 62%|█████████████████████████████████████████████████▋                              | 146/235 [11:02<06:37,  4.47s/it]C:\\Users\\Admin\\anaconda3\\envs\\mossf\\lib\\site-packages\\sklearn\\base.py:493: FutureWarning: The feature names should match those that were passed during fit. Starting version 1.2, an error will be raised.\n",
      "Feature names unseen at fit time:\n",
      "- rainfall\n",
      "Feature names seen at fit time, yet now missing:\n",
      "- radar_rainfall\n",
      "\n",
      "  warnings.warn(message, FutureWarning)\n"
     ]
    },
    {
     "name": "stdout",
     "output_type": "stream",
     "text": [
      "\n",
      "Processing file: D:\\1Yang\\0Research\\0_2566_radar_mosaic\\00mos_chaophraya\\00run_batch_acchr_codes\\2output\\0Hourly\\0Sontihn_RF\\0CBB_Pulse\\0output_mosaic\\2018072114_2000m.tif\n",
      "Warning: CRS not defined for D:\\1Yang\\0Research\\0_2566_radar_mosaic\\00mos_chaophraya\\00run_batch_acchr_codes\\2output\\0Hourly\\0Sontihn_RF\\0CBB_Pulse\\0output_mosaic\\2018072114_2000m.tif. Using WGS84 as default.\n",
      "Features shape: (250000, 3)\n",
      "NaN values before imputation: 114322\n",
      "NaN values after imputation: 114322\n",
      "Original data - Mean: 0.06, Max: 39.26\n",
      "Corrected data - Mean: 0.58, Max: 49.43\n"
     ]
    },
    {
     "name": "stderr",
     "output_type": "stream",
     "text": [
      " 63%|██████████████████████████████████████████████████                              | 147/235 [11:06<06:32,  4.46s/it]C:\\Users\\Admin\\anaconda3\\envs\\mossf\\lib\\site-packages\\sklearn\\base.py:493: FutureWarning: The feature names should match those that were passed during fit. Starting version 1.2, an error will be raised.\n",
      "Feature names unseen at fit time:\n",
      "- rainfall\n",
      "Feature names seen at fit time, yet now missing:\n",
      "- radar_rainfall\n",
      "\n",
      "  warnings.warn(message, FutureWarning)\n"
     ]
    },
    {
     "name": "stdout",
     "output_type": "stream",
     "text": [
      "\n",
      "Processing file: D:\\1Yang\\0Research\\0_2566_radar_mosaic\\00mos_chaophraya\\00run_batch_acchr_codes\\2output\\0Hourly\\0Sontihn_RF\\0CBB_Pulse\\0output_mosaic\\2018072115_2000m.tif\n",
      "Warning: CRS not defined for D:\\1Yang\\0Research\\0_2566_radar_mosaic\\00mos_chaophraya\\00run_batch_acchr_codes\\2output\\0Hourly\\0Sontihn_RF\\0CBB_Pulse\\0output_mosaic\\2018072115_2000m.tif. Using WGS84 as default.\n",
      "Features shape: (250000, 3)\n",
      "NaN values before imputation: 114339\n",
      "NaN values after imputation: 114339\n",
      "Original data - Mean: 0.12, Max: 98.63\n",
      "Corrected data - Mean: 0.54, Max: 49.43\n"
     ]
    },
    {
     "name": "stderr",
     "output_type": "stream",
     "text": [
      " 63%|██████████████████████████████████████████████████▍                             | 148/235 [11:11<06:29,  4.47s/it]C:\\Users\\Admin\\anaconda3\\envs\\mossf\\lib\\site-packages\\sklearn\\base.py:493: FutureWarning: The feature names should match those that were passed during fit. Starting version 1.2, an error will be raised.\n",
      "Feature names unseen at fit time:\n",
      "- rainfall\n",
      "Feature names seen at fit time, yet now missing:\n",
      "- radar_rainfall\n",
      "\n",
      "  warnings.warn(message, FutureWarning)\n"
     ]
    },
    {
     "name": "stdout",
     "output_type": "stream",
     "text": [
      "\n",
      "Processing file: D:\\1Yang\\0Research\\0_2566_radar_mosaic\\00mos_chaophraya\\00run_batch_acchr_codes\\2output\\0Hourly\\0Sontihn_RF\\0CBB_Pulse\\0output_mosaic\\2018072116_2000m.tif\n",
      "Warning: CRS not defined for D:\\1Yang\\0Research\\0_2566_radar_mosaic\\00mos_chaophraya\\00run_batch_acchr_codes\\2output\\0Hourly\\0Sontihn_RF\\0CBB_Pulse\\0output_mosaic\\2018072116_2000m.tif. Using WGS84 as default.\n",
      "Features shape: (250000, 3)\n",
      "NaN values before imputation: 114293\n",
      "NaN values after imputation: 114293\n",
      "Original data - Mean: 0.21, Max: 65.20\n",
      "Corrected data - Mean: 0.84, Max: 49.43\n"
     ]
    },
    {
     "name": "stderr",
     "output_type": "stream",
     "text": [
      " 63%|██████████████████████████████████████████████████▋                             | 149/235 [11:15<06:25,  4.49s/it]C:\\Users\\Admin\\anaconda3\\envs\\mossf\\lib\\site-packages\\sklearn\\base.py:493: FutureWarning: The feature names should match those that were passed during fit. Starting version 1.2, an error will be raised.\n",
      "Feature names unseen at fit time:\n",
      "- rainfall\n",
      "Feature names seen at fit time, yet now missing:\n",
      "- radar_rainfall\n",
      "\n",
      "  warnings.warn(message, FutureWarning)\n"
     ]
    },
    {
     "name": "stdout",
     "output_type": "stream",
     "text": [
      "\n",
      "Processing file: D:\\1Yang\\0Research\\0_2566_radar_mosaic\\00mos_chaophraya\\00run_batch_acchr_codes\\2output\\0Hourly\\0Sontihn_RF\\0CBB_Pulse\\0output_mosaic\\2018072117_2000m.tif\n",
      "Warning: CRS not defined for D:\\1Yang\\0Research\\0_2566_radar_mosaic\\00mos_chaophraya\\00run_batch_acchr_codes\\2output\\0Hourly\\0Sontihn_RF\\0CBB_Pulse\\0output_mosaic\\2018072117_2000m.tif. Using WGS84 as default.\n",
      "Features shape: (250000, 3)\n",
      "NaN values before imputation: 114459\n",
      "NaN values after imputation: 114459\n",
      "Original data - Mean: 0.33, Max: 82.13\n",
      "Corrected data - Mean: 1.17, Max: 49.43\n"
     ]
    },
    {
     "name": "stderr",
     "output_type": "stream",
     "text": [
      " 64%|███████████████████████████████████████████████████                             | 150/235 [11:20<06:21,  4.49s/it]C:\\Users\\Admin\\anaconda3\\envs\\mossf\\lib\\site-packages\\sklearn\\base.py:493: FutureWarning: The feature names should match those that were passed during fit. Starting version 1.2, an error will be raised.\n",
      "Feature names unseen at fit time:\n",
      "- rainfall\n",
      "Feature names seen at fit time, yet now missing:\n",
      "- radar_rainfall\n",
      "\n",
      "  warnings.warn(message, FutureWarning)\n"
     ]
    },
    {
     "name": "stdout",
     "output_type": "stream",
     "text": [
      "\n",
      "Processing file: D:\\1Yang\\0Research\\0_2566_radar_mosaic\\00mos_chaophraya\\00run_batch_acchr_codes\\2output\\0Hourly\\0Sontihn_RF\\0CBB_Pulse\\0output_mosaic\\2018072118_2000m.tif\n",
      "Warning: CRS not defined for D:\\1Yang\\0Research\\0_2566_radar_mosaic\\00mos_chaophraya\\00run_batch_acchr_codes\\2output\\0Hourly\\0Sontihn_RF\\0CBB_Pulse\\0output_mosaic\\2018072118_2000m.tif. Using WGS84 as default.\n",
      "Features shape: (250000, 3)\n",
      "NaN values before imputation: 114326\n",
      "NaN values after imputation: 114326\n",
      "Original data - Mean: 0.34, Max: 89.36\n",
      "Corrected data - Mean: 1.21, Max: 49.43\n"
     ]
    },
    {
     "name": "stderr",
     "output_type": "stream",
     "text": [
      " 64%|███████████████████████████████████████████████████▍                            | 151/235 [11:24<06:17,  4.50s/it]C:\\Users\\Admin\\anaconda3\\envs\\mossf\\lib\\site-packages\\sklearn\\base.py:493: FutureWarning: The feature names should match those that were passed during fit. Starting version 1.2, an error will be raised.\n",
      "Feature names unseen at fit time:\n",
      "- rainfall\n",
      "Feature names seen at fit time, yet now missing:\n",
      "- radar_rainfall\n",
      "\n",
      "  warnings.warn(message, FutureWarning)\n"
     ]
    },
    {
     "name": "stdout",
     "output_type": "stream",
     "text": [
      "\n",
      "Processing file: D:\\1Yang\\0Research\\0_2566_radar_mosaic\\00mos_chaophraya\\00run_batch_acchr_codes\\2output\\0Hourly\\0Sontihn_RF\\0CBB_Pulse\\0output_mosaic\\2018072119_2000m.tif\n",
      "Warning: CRS not defined for D:\\1Yang\\0Research\\0_2566_radar_mosaic\\00mos_chaophraya\\00run_batch_acchr_codes\\2output\\0Hourly\\0Sontihn_RF\\0CBB_Pulse\\0output_mosaic\\2018072119_2000m.tif. Using WGS84 as default.\n",
      "Features shape: (250000, 3)\n",
      "NaN values before imputation: 114303\n",
      "NaN values after imputation: 114303\n",
      "Original data - Mean: 0.23, Max: 63.84\n",
      "Corrected data - Mean: 1.06, Max: 49.43\n"
     ]
    },
    {
     "name": "stderr",
     "output_type": "stream",
     "text": [
      " 65%|███████████████████████████████████████████████████▋                            | 152/235 [11:29<06:14,  4.51s/it]C:\\Users\\Admin\\anaconda3\\envs\\mossf\\lib\\site-packages\\sklearn\\base.py:493: FutureWarning: The feature names should match those that were passed during fit. Starting version 1.2, an error will be raised.\n",
      "Feature names unseen at fit time:\n",
      "- rainfall\n",
      "Feature names seen at fit time, yet now missing:\n",
      "- radar_rainfall\n",
      "\n",
      "  warnings.warn(message, FutureWarning)\n"
     ]
    },
    {
     "name": "stdout",
     "output_type": "stream",
     "text": [
      "\n",
      "Processing file: D:\\1Yang\\0Research\\0_2566_radar_mosaic\\00mos_chaophraya\\00run_batch_acchr_codes\\2output\\0Hourly\\0Sontihn_RF\\0CBB_Pulse\\0output_mosaic\\2018072120_2000m.tif\n",
      "Warning: CRS not defined for D:\\1Yang\\0Research\\0_2566_radar_mosaic\\00mos_chaophraya\\00run_batch_acchr_codes\\2output\\0Hourly\\0Sontihn_RF\\0CBB_Pulse\\0output_mosaic\\2018072120_2000m.tif. Using WGS84 as default.\n",
      "Features shape: (250000, 3)\n",
      "NaN values before imputation: 114343\n",
      "NaN values after imputation: 114343\n",
      "Original data - Mean: 0.25, Max: 63.53\n",
      "Corrected data - Mean: 1.26, Max: 49.43\n"
     ]
    },
    {
     "name": "stderr",
     "output_type": "stream",
     "text": [
      " 65%|████████████████████████████████████████████████████                            | 153/235 [11:33<06:09,  4.51s/it]C:\\Users\\Admin\\anaconda3\\envs\\mossf\\lib\\site-packages\\sklearn\\base.py:493: FutureWarning: The feature names should match those that were passed during fit. Starting version 1.2, an error will be raised.\n",
      "Feature names unseen at fit time:\n",
      "- rainfall\n",
      "Feature names seen at fit time, yet now missing:\n",
      "- radar_rainfall\n",
      "\n",
      "  warnings.warn(message, FutureWarning)\n"
     ]
    },
    {
     "name": "stdout",
     "output_type": "stream",
     "text": [
      "\n",
      "Processing file: D:\\1Yang\\0Research\\0_2566_radar_mosaic\\00mos_chaophraya\\00run_batch_acchr_codes\\2output\\0Hourly\\0Sontihn_RF\\0CBB_Pulse\\0output_mosaic\\2018072121_2000m.tif\n",
      "Warning: CRS not defined for D:\\1Yang\\0Research\\0_2566_radar_mosaic\\00mos_chaophraya\\00run_batch_acchr_codes\\2output\\0Hourly\\0Sontihn_RF\\0CBB_Pulse\\0output_mosaic\\2018072121_2000m.tif. Using WGS84 as default.\n",
      "Features shape: (250000, 3)\n",
      "NaN values before imputation: 114382\n",
      "NaN values after imputation: 114382\n",
      "Original data - Mean: 0.13, Max: 20.08\n",
      "Corrected data - Mean: 0.77, Max: 49.43\n"
     ]
    },
    {
     "name": "stderr",
     "output_type": "stream",
     "text": [
      " 66%|████████████████████████████████████████████████████▍                           | 154/235 [11:38<06:05,  4.51s/it]C:\\Users\\Admin\\anaconda3\\envs\\mossf\\lib\\site-packages\\sklearn\\base.py:493: FutureWarning: The feature names should match those that were passed during fit. Starting version 1.2, an error will be raised.\n",
      "Feature names unseen at fit time:\n",
      "- rainfall\n",
      "Feature names seen at fit time, yet now missing:\n",
      "- radar_rainfall\n",
      "\n",
      "  warnings.warn(message, FutureWarning)\n"
     ]
    },
    {
     "name": "stdout",
     "output_type": "stream",
     "text": [
      "\n",
      "Processing file: D:\\1Yang\\0Research\\0_2566_radar_mosaic\\00mos_chaophraya\\00run_batch_acchr_codes\\2output\\0Hourly\\0Sontihn_RF\\0CBB_Pulse\\0output_mosaic\\2018072122_2000m.tif\n",
      "Warning: CRS not defined for D:\\1Yang\\0Research\\0_2566_radar_mosaic\\00mos_chaophraya\\00run_batch_acchr_codes\\2output\\0Hourly\\0Sontihn_RF\\0CBB_Pulse\\0output_mosaic\\2018072122_2000m.tif. Using WGS84 as default.\n",
      "Features shape: (250000, 3)\n",
      "NaN values before imputation: 114278\n",
      "NaN values after imputation: 114278\n",
      "Original data - Mean: 0.06, Max: 19.93\n",
      "Corrected data - Mean: 0.61, Max: 49.43\n"
     ]
    },
    {
     "name": "stderr",
     "output_type": "stream",
     "text": [
      " 66%|████████████████████████████████████████████████████▊                           | 155/235 [11:42<06:00,  4.51s/it]C:\\Users\\Admin\\anaconda3\\envs\\mossf\\lib\\site-packages\\sklearn\\base.py:493: FutureWarning: The feature names should match those that were passed during fit. Starting version 1.2, an error will be raised.\n",
      "Feature names unseen at fit time:\n",
      "- rainfall\n",
      "Feature names seen at fit time, yet now missing:\n",
      "- radar_rainfall\n",
      "\n",
      "  warnings.warn(message, FutureWarning)\n"
     ]
    },
    {
     "name": "stdout",
     "output_type": "stream",
     "text": [
      "\n",
      "Processing file: D:\\1Yang\\0Research\\0_2566_radar_mosaic\\00mos_chaophraya\\00run_batch_acchr_codes\\2output\\0Hourly\\0Sontihn_RF\\0CBB_Pulse\\0output_mosaic\\2018072123_2000m.tif\n",
      "Warning: CRS not defined for D:\\1Yang\\0Research\\0_2566_radar_mosaic\\00mos_chaophraya\\00run_batch_acchr_codes\\2output\\0Hourly\\0Sontihn_RF\\0CBB_Pulse\\0output_mosaic\\2018072123_2000m.tif. Using WGS84 as default.\n",
      "Features shape: (250000, 3)\n",
      "NaN values before imputation: 114348\n",
      "NaN values after imputation: 114348\n",
      "Original data - Mean: 0.03, Max: 10.41\n",
      "Corrected data - Mean: 0.51, Max: 35.83\n"
     ]
    },
    {
     "name": "stderr",
     "output_type": "stream",
     "text": [
      " 66%|█████████████████████████████████████████████████████                           | 156/235 [11:47<05:54,  4.49s/it]C:\\Users\\Admin\\anaconda3\\envs\\mossf\\lib\\site-packages\\sklearn\\base.py:493: FutureWarning: The feature names should match those that were passed during fit. Starting version 1.2, an error will be raised.\n",
      "Feature names unseen at fit time:\n",
      "- rainfall\n",
      "Feature names seen at fit time, yet now missing:\n",
      "- radar_rainfall\n",
      "\n",
      "  warnings.warn(message, FutureWarning)\n"
     ]
    },
    {
     "name": "stdout",
     "output_type": "stream",
     "text": [
      "\n",
      "Processing file: D:\\1Yang\\0Research\\0_2566_radar_mosaic\\00mos_chaophraya\\00run_batch_acchr_codes\\2output\\0Hourly\\0Sontihn_RF\\0CBB_Pulse\\0output_mosaic\\2018072200_2000m.tif\n",
      "Warning: CRS not defined for D:\\1Yang\\0Research\\0_2566_radar_mosaic\\00mos_chaophraya\\00run_batch_acchr_codes\\2output\\0Hourly\\0Sontihn_RF\\0CBB_Pulse\\0output_mosaic\\2018072200_2000m.tif. Using WGS84 as default.\n",
      "Features shape: (250000, 3)\n",
      "NaN values before imputation: 114303\n",
      "NaN values after imputation: 114303\n",
      "Original data - Mean: 0.03, Max: 15.10\n",
      "Corrected data - Mean: 0.42, Max: 49.43\n"
     ]
    },
    {
     "name": "stderr",
     "output_type": "stream",
     "text": [
      " 67%|█████████████████████████████████████████████████████▍                          | 157/235 [11:51<05:50,  4.49s/it]C:\\Users\\Admin\\anaconda3\\envs\\mossf\\lib\\site-packages\\sklearn\\base.py:493: FutureWarning: The feature names should match those that were passed during fit. Starting version 1.2, an error will be raised.\n",
      "Feature names unseen at fit time:\n",
      "- rainfall\n",
      "Feature names seen at fit time, yet now missing:\n",
      "- radar_rainfall\n",
      "\n",
      "  warnings.warn(message, FutureWarning)\n"
     ]
    },
    {
     "name": "stdout",
     "output_type": "stream",
     "text": [
      "\n",
      "Processing file: D:\\1Yang\\0Research\\0_2566_radar_mosaic\\00mos_chaophraya\\00run_batch_acchr_codes\\2output\\0Hourly\\0Sontihn_RF\\0CBB_Pulse\\0output_mosaic\\2018072201_2000m.tif\n",
      "Warning: CRS not defined for D:\\1Yang\\0Research\\0_2566_radar_mosaic\\00mos_chaophraya\\00run_batch_acchr_codes\\2output\\0Hourly\\0Sontihn_RF\\0CBB_Pulse\\0output_mosaic\\2018072201_2000m.tif. Using WGS84 as default.\n",
      "Features shape: (250000, 3)\n",
      "NaN values before imputation: 114528\n",
      "NaN values after imputation: 114528\n",
      "Original data - Mean: 0.06, Max: 34.39\n",
      "Corrected data - Mean: 0.45, Max: 49.43\n"
     ]
    },
    {
     "name": "stderr",
     "output_type": "stream",
     "text": [
      " 67%|█████████████████████████████████████████████████████▊                          | 158/235 [11:56<05:46,  4.50s/it]C:\\Users\\Admin\\anaconda3\\envs\\mossf\\lib\\site-packages\\sklearn\\base.py:493: FutureWarning: The feature names should match those that were passed during fit. Starting version 1.2, an error will be raised.\n",
      "Feature names unseen at fit time:\n",
      "- rainfall\n",
      "Feature names seen at fit time, yet now missing:\n",
      "- radar_rainfall\n",
      "\n",
      "  warnings.warn(message, FutureWarning)\n"
     ]
    },
    {
     "name": "stdout",
     "output_type": "stream",
     "text": [
      "\n",
      "Processing file: D:\\1Yang\\0Research\\0_2566_radar_mosaic\\00mos_chaophraya\\00run_batch_acchr_codes\\2output\\0Hourly\\0Sontihn_RF\\0CBB_Pulse\\0output_mosaic\\2018072202_2000m.tif\n",
      "Warning: CRS not defined for D:\\1Yang\\0Research\\0_2566_radar_mosaic\\00mos_chaophraya\\00run_batch_acchr_codes\\2output\\0Hourly\\0Sontihn_RF\\0CBB_Pulse\\0output_mosaic\\2018072202_2000m.tif. Using WGS84 as default.\n",
      "Features shape: (250000, 3)\n",
      "NaN values before imputation: 114343\n",
      "NaN values after imputation: 114343\n",
      "Original data - Mean: 0.09, Max: 84.40\n",
      "Corrected data - Mean: 0.54, Max: 49.43\n"
     ]
    },
    {
     "name": "stderr",
     "output_type": "stream",
     "text": [
      " 68%|██████████████████████████████████████████████████████▏                         | 159/235 [12:00<05:41,  4.50s/it]C:\\Users\\Admin\\anaconda3\\envs\\mossf\\lib\\site-packages\\sklearn\\base.py:493: FutureWarning: The feature names should match those that were passed during fit. Starting version 1.2, an error will be raised.\n",
      "Feature names unseen at fit time:\n",
      "- rainfall\n",
      "Feature names seen at fit time, yet now missing:\n",
      "- radar_rainfall\n",
      "\n",
      "  warnings.warn(message, FutureWarning)\n"
     ]
    },
    {
     "name": "stdout",
     "output_type": "stream",
     "text": [
      "\n",
      "Processing file: D:\\1Yang\\0Research\\0_2566_radar_mosaic\\00mos_chaophraya\\00run_batch_acchr_codes\\2output\\0Hourly\\0Sontihn_RF\\0CBB_Pulse\\0output_mosaic\\2018072203_2000m.tif\n",
      "Warning: CRS not defined for D:\\1Yang\\0Research\\0_2566_radar_mosaic\\00mos_chaophraya\\00run_batch_acchr_codes\\2output\\0Hourly\\0Sontihn_RF\\0CBB_Pulse\\0output_mosaic\\2018072203_2000m.tif. Using WGS84 as default.\n",
      "Features shape: (250000, 3)\n",
      "NaN values before imputation: 114447\n",
      "NaN values after imputation: 114447\n",
      "Original data - Mean: 0.07, Max: 73.82\n",
      "Corrected data - Mean: 0.43, Max: 49.43\n"
     ]
    },
    {
     "name": "stderr",
     "output_type": "stream",
     "text": [
      " 68%|██████████████████████████████████████████████████████▍                         | 160/235 [12:05<05:37,  4.49s/it]C:\\Users\\Admin\\anaconda3\\envs\\mossf\\lib\\site-packages\\sklearn\\base.py:493: FutureWarning: The feature names should match those that were passed during fit. Starting version 1.2, an error will be raised.\n",
      "Feature names unseen at fit time:\n",
      "- rainfall\n",
      "Feature names seen at fit time, yet now missing:\n",
      "- radar_rainfall\n",
      "\n",
      "  warnings.warn(message, FutureWarning)\n"
     ]
    },
    {
     "name": "stdout",
     "output_type": "stream",
     "text": [
      "\n",
      "Processing file: D:\\1Yang\\0Research\\0_2566_radar_mosaic\\00mos_chaophraya\\00run_batch_acchr_codes\\2output\\0Hourly\\0Sontihn_RF\\0CBB_Pulse\\0output_mosaic\\2018072204_2000m.tif\n",
      "Warning: CRS not defined for D:\\1Yang\\0Research\\0_2566_radar_mosaic\\00mos_chaophraya\\00run_batch_acchr_codes\\2output\\0Hourly\\0Sontihn_RF\\0CBB_Pulse\\0output_mosaic\\2018072204_2000m.tif. Using WGS84 as default.\n",
      "Features shape: (250000, 3)\n",
      "NaN values before imputation: 114419\n",
      "NaN values after imputation: 114419\n",
      "Original data - Mean: 0.07, Max: 25.61\n",
      "Corrected data - Mean: 0.40, Max: 49.43\n"
     ]
    },
    {
     "name": "stderr",
     "output_type": "stream",
     "text": [
      " 69%|██████████████████████████████████████████████████████▊                         | 161/235 [12:09<05:32,  4.49s/it]C:\\Users\\Admin\\anaconda3\\envs\\mossf\\lib\\site-packages\\sklearn\\base.py:493: FutureWarning: The feature names should match those that were passed during fit. Starting version 1.2, an error will be raised.\n",
      "Feature names unseen at fit time:\n",
      "- rainfall\n",
      "Feature names seen at fit time, yet now missing:\n",
      "- radar_rainfall\n",
      "\n",
      "  warnings.warn(message, FutureWarning)\n"
     ]
    },
    {
     "name": "stdout",
     "output_type": "stream",
     "text": [
      "\n",
      "Processing file: D:\\1Yang\\0Research\\0_2566_radar_mosaic\\00mos_chaophraya\\00run_batch_acchr_codes\\2output\\0Hourly\\0Sontihn_RF\\0CBB_Pulse\\0output_mosaic\\2018072205_2000m.tif\n",
      "Warning: CRS not defined for D:\\1Yang\\0Research\\0_2566_radar_mosaic\\00mos_chaophraya\\00run_batch_acchr_codes\\2output\\0Hourly\\0Sontihn_RF\\0CBB_Pulse\\0output_mosaic\\2018072205_2000m.tif. Using WGS84 as default.\n",
      "Features shape: (250000, 3)\n",
      "NaN values before imputation: 114340\n",
      "NaN values after imputation: 114340\n",
      "Original data - Mean: 0.07, Max: 16.24\n",
      "Corrected data - Mean: 0.41, Max: 49.43\n"
     ]
    },
    {
     "name": "stderr",
     "output_type": "stream",
     "text": [
      " 69%|███████████████████████████████████████████████████████▏                        | 162/235 [12:14<05:27,  4.49s/it]C:\\Users\\Admin\\anaconda3\\envs\\mossf\\lib\\site-packages\\sklearn\\base.py:493: FutureWarning: The feature names should match those that were passed during fit. Starting version 1.2, an error will be raised.\n",
      "Feature names unseen at fit time:\n",
      "- rainfall\n",
      "Feature names seen at fit time, yet now missing:\n",
      "- radar_rainfall\n",
      "\n",
      "  warnings.warn(message, FutureWarning)\n"
     ]
    },
    {
     "name": "stdout",
     "output_type": "stream",
     "text": [
      "\n",
      "Processing file: D:\\1Yang\\0Research\\0_2566_radar_mosaic\\00mos_chaophraya\\00run_batch_acchr_codes\\2output\\0Hourly\\0Sontihn_RF\\0CBB_Pulse\\0output_mosaic\\2018072206_2000m.tif\n",
      "Warning: CRS not defined for D:\\1Yang\\0Research\\0_2566_radar_mosaic\\00mos_chaophraya\\00run_batch_acchr_codes\\2output\\0Hourly\\0Sontihn_RF\\0CBB_Pulse\\0output_mosaic\\2018072206_2000m.tif. Using WGS84 as default.\n",
      "Features shape: (250000, 3)\n",
      "NaN values before imputation: 114287\n",
      "NaN values after imputation: 114287\n",
      "Original data - Mean: 0.04, Max: 10.75\n",
      "Corrected data - Mean: 0.37, Max: 36.39\n"
     ]
    },
    {
     "name": "stderr",
     "output_type": "stream",
     "text": [
      " 69%|███████████████████████████████████████████████████████▍                        | 163/235 [12:18<05:25,  4.52s/it]C:\\Users\\Admin\\anaconda3\\envs\\mossf\\lib\\site-packages\\sklearn\\base.py:493: FutureWarning: The feature names should match those that were passed during fit. Starting version 1.2, an error will be raised.\n",
      "Feature names unseen at fit time:\n",
      "- rainfall\n",
      "Feature names seen at fit time, yet now missing:\n",
      "- radar_rainfall\n",
      "\n",
      "  warnings.warn(message, FutureWarning)\n"
     ]
    },
    {
     "name": "stdout",
     "output_type": "stream",
     "text": [
      "\n",
      "Processing file: D:\\1Yang\\0Research\\0_2566_radar_mosaic\\00mos_chaophraya\\00run_batch_acchr_codes\\2output\\0Hourly\\0Sontihn_RF\\0CBB_Pulse\\0output_mosaic\\2018072207_2000m.tif\n",
      "Warning: CRS not defined for D:\\1Yang\\0Research\\0_2566_radar_mosaic\\00mos_chaophraya\\00run_batch_acchr_codes\\2output\\0Hourly\\0Sontihn_RF\\0CBB_Pulse\\0output_mosaic\\2018072207_2000m.tif. Using WGS84 as default.\n",
      "Features shape: (250000, 3)\n",
      "NaN values before imputation: 114336\n",
      "NaN values after imputation: 114336\n",
      "Original data - Mean: 0.04, Max: 25.60\n",
      "Corrected data - Mean: 0.40, Max: 49.43\n"
     ]
    },
    {
     "name": "stderr",
     "output_type": "stream",
     "text": [
      " 70%|███████████████████████████████████████████████████████▊                        | 164/235 [12:23<05:21,  4.53s/it]C:\\Users\\Admin\\anaconda3\\envs\\mossf\\lib\\site-packages\\sklearn\\base.py:493: FutureWarning: The feature names should match those that were passed during fit. Starting version 1.2, an error will be raised.\n",
      "Feature names unseen at fit time:\n",
      "- rainfall\n",
      "Feature names seen at fit time, yet now missing:\n",
      "- radar_rainfall\n",
      "\n",
      "  warnings.warn(message, FutureWarning)\n"
     ]
    },
    {
     "name": "stdout",
     "output_type": "stream",
     "text": [
      "\n",
      "Processing file: D:\\1Yang\\0Research\\0_2566_radar_mosaic\\00mos_chaophraya\\00run_batch_acchr_codes\\2output\\0Hourly\\0Sontihn_RF\\0CBB_Pulse\\0output_mosaic\\2018072208_2000m.tif\n",
      "Warning: CRS not defined for D:\\1Yang\\0Research\\0_2566_radar_mosaic\\00mos_chaophraya\\00run_batch_acchr_codes\\2output\\0Hourly\\0Sontihn_RF\\0CBB_Pulse\\0output_mosaic\\2018072208_2000m.tif. Using WGS84 as default.\n",
      "Features shape: (250000, 3)\n",
      "NaN values before imputation: 114322\n",
      "NaN values after imputation: 114322\n",
      "Original data - Mean: 0.06, Max: 19.76\n",
      "Corrected data - Mean: 0.50, Max: 49.43\n"
     ]
    },
    {
     "name": "stderr",
     "output_type": "stream",
     "text": [
      " 70%|████████████████████████████████████████████████████████▏                       | 165/235 [12:27<05:16,  4.53s/it]C:\\Users\\Admin\\anaconda3\\envs\\mossf\\lib\\site-packages\\sklearn\\base.py:493: FutureWarning: The feature names should match those that were passed during fit. Starting version 1.2, an error will be raised.\n",
      "Feature names unseen at fit time:\n",
      "- rainfall\n",
      "Feature names seen at fit time, yet now missing:\n",
      "- radar_rainfall\n",
      "\n",
      "  warnings.warn(message, FutureWarning)\n"
     ]
    },
    {
     "name": "stdout",
     "output_type": "stream",
     "text": [
      "\n",
      "Processing file: D:\\1Yang\\0Research\\0_2566_radar_mosaic\\00mos_chaophraya\\00run_batch_acchr_codes\\2output\\0Hourly\\0Sontihn_RF\\0CBB_Pulse\\0output_mosaic\\2018072209_2000m.tif\n",
      "Warning: CRS not defined for D:\\1Yang\\0Research\\0_2566_radar_mosaic\\00mos_chaophraya\\00run_batch_acchr_codes\\2output\\0Hourly\\0Sontihn_RF\\0CBB_Pulse\\0output_mosaic\\2018072209_2000m.tif. Using WGS84 as default.\n",
      "Features shape: (250000, 3)\n",
      "NaN values before imputation: 114262\n",
      "NaN values after imputation: 114262\n",
      "Original data - Mean: 0.09, Max: 60.80\n",
      "Corrected data - Mean: 0.51, Max: 49.43\n"
     ]
    },
    {
     "name": "stderr",
     "output_type": "stream",
     "text": [
      " 71%|████████████████████████████████████████████████████████▌                       | 166/235 [12:32<05:12,  4.54s/it]C:\\Users\\Admin\\anaconda3\\envs\\mossf\\lib\\site-packages\\sklearn\\base.py:493: FutureWarning: The feature names should match those that were passed during fit. Starting version 1.2, an error will be raised.\n",
      "Feature names unseen at fit time:\n",
      "- rainfall\n",
      "Feature names seen at fit time, yet now missing:\n",
      "- radar_rainfall\n",
      "\n",
      "  warnings.warn(message, FutureWarning)\n"
     ]
    },
    {
     "name": "stdout",
     "output_type": "stream",
     "text": [
      "\n",
      "Processing file: D:\\1Yang\\0Research\\0_2566_radar_mosaic\\00mos_chaophraya\\00run_batch_acchr_codes\\2output\\0Hourly\\0Sontihn_RF\\0CBB_Pulse\\0output_mosaic\\2018072210_2000m.tif\n",
      "Warning: CRS not defined for D:\\1Yang\\0Research\\0_2566_radar_mosaic\\00mos_chaophraya\\00run_batch_acchr_codes\\2output\\0Hourly\\0Sontihn_RF\\0CBB_Pulse\\0output_mosaic\\2018072210_2000m.tif. Using WGS84 as default.\n",
      "Features shape: (250000, 3)\n",
      "NaN values before imputation: 114341\n",
      "NaN values after imputation: 114341\n",
      "Original data - Mean: 0.06, Max: 19.11\n",
      "Corrected data - Mean: 0.48, Max: 49.43\n"
     ]
    },
    {
     "name": "stderr",
     "output_type": "stream",
     "text": [
      " 71%|████████████████████████████████████████████████████████▊                       | 167/235 [12:37<05:24,  4.78s/it]C:\\Users\\Admin\\anaconda3\\envs\\mossf\\lib\\site-packages\\sklearn\\base.py:493: FutureWarning: The feature names should match those that were passed during fit. Starting version 1.2, an error will be raised.\n",
      "Feature names unseen at fit time:\n",
      "- rainfall\n",
      "Feature names seen at fit time, yet now missing:\n",
      "- radar_rainfall\n",
      "\n",
      "  warnings.warn(message, FutureWarning)\n"
     ]
    },
    {
     "name": "stdout",
     "output_type": "stream",
     "text": [
      "\n",
      "Processing file: D:\\1Yang\\0Research\\0_2566_radar_mosaic\\00mos_chaophraya\\00run_batch_acchr_codes\\2output\\0Hourly\\0Sontihn_RF\\0CBB_Pulse\\0output_mosaic\\2018072211_2000m.tif\n",
      "Warning: CRS not defined for D:\\1Yang\\0Research\\0_2566_radar_mosaic\\00mos_chaophraya\\00run_batch_acchr_codes\\2output\\0Hourly\\0Sontihn_RF\\0CBB_Pulse\\0output_mosaic\\2018072211_2000m.tif. Using WGS84 as default.\n",
      "Features shape: (250000, 3)\n",
      "NaN values before imputation: 114299\n",
      "NaN values after imputation: 114299\n",
      "Original data - Mean: 0.06, Max: 24.54\n",
      "Corrected data - Mean: 0.44, Max: 49.43\n"
     ]
    },
    {
     "name": "stderr",
     "output_type": "stream",
     "text": [
      " 71%|█████████████████████████████████████████████████████████▏                      | 168/235 [12:42<05:13,  4.68s/it]C:\\Users\\Admin\\anaconda3\\envs\\mossf\\lib\\site-packages\\sklearn\\base.py:493: FutureWarning: The feature names should match those that were passed during fit. Starting version 1.2, an error will be raised.\n",
      "Feature names unseen at fit time:\n",
      "- rainfall\n",
      "Feature names seen at fit time, yet now missing:\n",
      "- radar_rainfall\n",
      "\n",
      "  warnings.warn(message, FutureWarning)\n"
     ]
    },
    {
     "name": "stdout",
     "output_type": "stream",
     "text": [
      "\n",
      "Processing file: D:\\1Yang\\0Research\\0_2566_radar_mosaic\\00mos_chaophraya\\00run_batch_acchr_codes\\2output\\0Hourly\\0Sontihn_RF\\0CBB_Pulse\\0output_mosaic\\2018072212_2000m.tif\n",
      "Warning: CRS not defined for D:\\1Yang\\0Research\\0_2566_radar_mosaic\\00mos_chaophraya\\00run_batch_acchr_codes\\2output\\0Hourly\\0Sontihn_RF\\0CBB_Pulse\\0output_mosaic\\2018072212_2000m.tif. Using WGS84 as default.\n",
      "Features shape: (250000, 3)\n",
      "NaN values before imputation: 114307\n",
      "NaN values after imputation: 114307\n",
      "Original data - Mean: 0.03, Max: 12.70\n",
      "Corrected data - Mean: 0.37, Max: 49.00\n"
     ]
    },
    {
     "name": "stderr",
     "output_type": "stream",
     "text": [
      " 72%|█████████████████████████████████████████████████████████▌                      | 169/235 [12:46<05:03,  4.60s/it]C:\\Users\\Admin\\anaconda3\\envs\\mossf\\lib\\site-packages\\sklearn\\base.py:493: FutureWarning: The feature names should match those that were passed during fit. Starting version 1.2, an error will be raised.\n",
      "Feature names unseen at fit time:\n",
      "- rainfall\n",
      "Feature names seen at fit time, yet now missing:\n",
      "- radar_rainfall\n",
      "\n",
      "  warnings.warn(message, FutureWarning)\n"
     ]
    },
    {
     "name": "stdout",
     "output_type": "stream",
     "text": [
      "\n",
      "Processing file: D:\\1Yang\\0Research\\0_2566_radar_mosaic\\00mos_chaophraya\\00run_batch_acchr_codes\\2output\\0Hourly\\0Sontihn_RF\\0CBB_Pulse\\0output_mosaic\\2018072213_2000m.tif\n",
      "Warning: CRS not defined for D:\\1Yang\\0Research\\0_2566_radar_mosaic\\00mos_chaophraya\\00run_batch_acchr_codes\\2output\\0Hourly\\0Sontihn_RF\\0CBB_Pulse\\0output_mosaic\\2018072213_2000m.tif. Using WGS84 as default.\n",
      "Features shape: (250000, 3)\n",
      "NaN values before imputation: 114307\n",
      "NaN values after imputation: 114307\n",
      "Original data - Mean: 0.05, Max: 63.76\n",
      "Corrected data - Mean: 0.46, Max: 49.43\n"
     ]
    },
    {
     "name": "stderr",
     "output_type": "stream",
     "text": [
      " 72%|█████████████████████████████████████████████████████████▊                      | 170/235 [12:51<04:55,  4.55s/it]C:\\Users\\Admin\\anaconda3\\envs\\mossf\\lib\\site-packages\\sklearn\\base.py:493: FutureWarning: The feature names should match those that were passed during fit. Starting version 1.2, an error will be raised.\n",
      "Feature names unseen at fit time:\n",
      "- rainfall\n",
      "Feature names seen at fit time, yet now missing:\n",
      "- radar_rainfall\n",
      "\n",
      "  warnings.warn(message, FutureWarning)\n"
     ]
    },
    {
     "name": "stdout",
     "output_type": "stream",
     "text": [
      "\n",
      "Processing file: D:\\1Yang\\0Research\\0_2566_radar_mosaic\\00mos_chaophraya\\00run_batch_acchr_codes\\2output\\0Hourly\\0Sontihn_RF\\0CBB_Pulse\\0output_mosaic\\2018072214_2000m.tif\n",
      "Warning: CRS not defined for D:\\1Yang\\0Research\\0_2566_radar_mosaic\\00mos_chaophraya\\00run_batch_acchr_codes\\2output\\0Hourly\\0Sontihn_RF\\0CBB_Pulse\\0output_mosaic\\2018072214_2000m.tif. Using WGS84 as default.\n",
      "Features shape: (250000, 3)\n",
      "NaN values before imputation: 114308\n",
      "NaN values after imputation: 114308\n",
      "Original data - Mean: 0.09, Max: 58.12\n",
      "Corrected data - Mean: 0.66, Max: 49.43\n"
     ]
    },
    {
     "name": "stderr",
     "output_type": "stream",
     "text": [
      " 73%|██████████████████████████████████████████████████████████▏                     | 171/235 [12:55<04:49,  4.52s/it]C:\\Users\\Admin\\anaconda3\\envs\\mossf\\lib\\site-packages\\sklearn\\base.py:493: FutureWarning: The feature names should match those that were passed during fit. Starting version 1.2, an error will be raised.\n",
      "Feature names unseen at fit time:\n",
      "- rainfall\n",
      "Feature names seen at fit time, yet now missing:\n",
      "- radar_rainfall\n",
      "\n",
      "  warnings.warn(message, FutureWarning)\n"
     ]
    },
    {
     "name": "stdout",
     "output_type": "stream",
     "text": [
      "\n",
      "Processing file: D:\\1Yang\\0Research\\0_2566_radar_mosaic\\00mos_chaophraya\\00run_batch_acchr_codes\\2output\\0Hourly\\0Sontihn_RF\\0CBB_Pulse\\0output_mosaic\\2018072215_2000m.tif\n",
      "Warning: CRS not defined for D:\\1Yang\\0Research\\0_2566_radar_mosaic\\00mos_chaophraya\\00run_batch_acchr_codes\\2output\\0Hourly\\0Sontihn_RF\\0CBB_Pulse\\0output_mosaic\\2018072215_2000m.tif. Using WGS84 as default.\n",
      "Features shape: (250000, 3)\n",
      "NaN values before imputation: 114316\n",
      "NaN values after imputation: 114316\n",
      "Original data - Mean: 0.13, Max: 62.23\n",
      "Corrected data - Mean: 0.81, Max: 49.43\n"
     ]
    },
    {
     "name": "stderr",
     "output_type": "stream",
     "text": [
      " 73%|██████████████████████████████████████████████████████████▌                     | 172/235 [13:00<04:43,  4.50s/it]C:\\Users\\Admin\\anaconda3\\envs\\mossf\\lib\\site-packages\\sklearn\\base.py:493: FutureWarning: The feature names should match those that were passed during fit. Starting version 1.2, an error will be raised.\n",
      "Feature names unseen at fit time:\n",
      "- rainfall\n",
      "Feature names seen at fit time, yet now missing:\n",
      "- radar_rainfall\n",
      "\n",
      "  warnings.warn(message, FutureWarning)\n"
     ]
    },
    {
     "name": "stdout",
     "output_type": "stream",
     "text": [
      "\n",
      "Processing file: D:\\1Yang\\0Research\\0_2566_radar_mosaic\\00mos_chaophraya\\00run_batch_acchr_codes\\2output\\0Hourly\\0Sontihn_RF\\0CBB_Pulse\\0output_mosaic\\2018072216_2000m.tif\n",
      "Warning: CRS not defined for D:\\1Yang\\0Research\\0_2566_radar_mosaic\\00mos_chaophraya\\00run_batch_acchr_codes\\2output\\0Hourly\\0Sontihn_RF\\0CBB_Pulse\\0output_mosaic\\2018072216_2000m.tif. Using WGS84 as default.\n",
      "Features shape: (250000, 3)\n",
      "NaN values before imputation: 114338\n",
      "NaN values after imputation: 114338\n",
      "Original data - Mean: 0.16, Max: 74.33\n",
      "Corrected data - Mean: 0.75, Max: 49.43\n"
     ]
    },
    {
     "name": "stderr",
     "output_type": "stream",
     "text": [
      " 74%|██████████████████████████████████████████████████████████▉                     | 173/235 [13:04<04:38,  4.49s/it]C:\\Users\\Admin\\anaconda3\\envs\\mossf\\lib\\site-packages\\sklearn\\base.py:493: FutureWarning: The feature names should match those that were passed during fit. Starting version 1.2, an error will be raised.\n",
      "Feature names unseen at fit time:\n",
      "- rainfall\n",
      "Feature names seen at fit time, yet now missing:\n",
      "- radar_rainfall\n",
      "\n",
      "  warnings.warn(message, FutureWarning)\n"
     ]
    },
    {
     "name": "stdout",
     "output_type": "stream",
     "text": [
      "\n",
      "Processing file: D:\\1Yang\\0Research\\0_2566_radar_mosaic\\00mos_chaophraya\\00run_batch_acchr_codes\\2output\\0Hourly\\0Sontihn_RF\\0CBB_Pulse\\0output_mosaic\\2018072217_2000m.tif\n",
      "Warning: CRS not defined for D:\\1Yang\\0Research\\0_2566_radar_mosaic\\00mos_chaophraya\\00run_batch_acchr_codes\\2output\\0Hourly\\0Sontihn_RF\\0CBB_Pulse\\0output_mosaic\\2018072217_2000m.tif. Using WGS84 as default.\n",
      "Features shape: (250000, 3)\n",
      "NaN values before imputation: 114295\n",
      "NaN values after imputation: 114295\n",
      "Original data - Mean: 0.24, Max: 90.71\n",
      "Corrected data - Mean: 0.79, Max: 49.43\n"
     ]
    },
    {
     "name": "stderr",
     "output_type": "stream",
     "text": [
      " 74%|███████████████████████████████████████████████████████████▏                    | 174/235 [13:08<04:32,  4.47s/it]C:\\Users\\Admin\\anaconda3\\envs\\mossf\\lib\\site-packages\\sklearn\\base.py:493: FutureWarning: The feature names should match those that were passed during fit. Starting version 1.2, an error will be raised.\n",
      "Feature names unseen at fit time:\n",
      "- rainfall\n",
      "Feature names seen at fit time, yet now missing:\n",
      "- radar_rainfall\n",
      "\n",
      "  warnings.warn(message, FutureWarning)\n"
     ]
    },
    {
     "name": "stdout",
     "output_type": "stream",
     "text": [
      "\n",
      "Processing file: D:\\1Yang\\0Research\\0_2566_radar_mosaic\\00mos_chaophraya\\00run_batch_acchr_codes\\2output\\0Hourly\\0Sontihn_RF\\0CBB_Pulse\\0output_mosaic\\2018072218_2000m.tif\n",
      "Warning: CRS not defined for D:\\1Yang\\0Research\\0_2566_radar_mosaic\\00mos_chaophraya\\00run_batch_acchr_codes\\2output\\0Hourly\\0Sontihn_RF\\0CBB_Pulse\\0output_mosaic\\2018072218_2000m.tif. Using WGS84 as default.\n",
      "Features shape: (250000, 3)\n",
      "NaN values before imputation: 114341\n",
      "NaN values after imputation: 114341\n",
      "Original data - Mean: 0.26, Max: 87.87\n",
      "Corrected data - Mean: 0.85, Max: 49.43\n"
     ]
    },
    {
     "name": "stderr",
     "output_type": "stream",
     "text": [
      " 74%|███████████████████████████████████████████████████████████▌                    | 175/235 [13:13<04:27,  4.46s/it]C:\\Users\\Admin\\anaconda3\\envs\\mossf\\lib\\site-packages\\sklearn\\base.py:493: FutureWarning: The feature names should match those that were passed during fit. Starting version 1.2, an error will be raised.\n",
      "Feature names unseen at fit time:\n",
      "- rainfall\n",
      "Feature names seen at fit time, yet now missing:\n",
      "- radar_rainfall\n",
      "\n",
      "  warnings.warn(message, FutureWarning)\n"
     ]
    },
    {
     "name": "stdout",
     "output_type": "stream",
     "text": [
      "\n",
      "Processing file: D:\\1Yang\\0Research\\0_2566_radar_mosaic\\00mos_chaophraya\\00run_batch_acchr_codes\\2output\\0Hourly\\0Sontihn_RF\\0CBB_Pulse\\0output_mosaic\\2018072219_2000m.tif\n",
      "Warning: CRS not defined for D:\\1Yang\\0Research\\0_2566_radar_mosaic\\00mos_chaophraya\\00run_batch_acchr_codes\\2output\\0Hourly\\0Sontihn_RF\\0CBB_Pulse\\0output_mosaic\\2018072219_2000m.tif. Using WGS84 as default.\n",
      "Features shape: (250000, 3)\n",
      "NaN values before imputation: 114322\n",
      "NaN values after imputation: 114322\n",
      "Original data - Mean: 0.20, Max: 82.61\n",
      "Corrected data - Mean: 0.79, Max: 49.43\n"
     ]
    },
    {
     "name": "stderr",
     "output_type": "stream",
     "text": [
      " 75%|███████████████████████████████████████████████████████████▉                    | 176/235 [13:17<04:23,  4.46s/it]C:\\Users\\Admin\\anaconda3\\envs\\mossf\\lib\\site-packages\\sklearn\\base.py:493: FutureWarning: The feature names should match those that were passed during fit. Starting version 1.2, an error will be raised.\n",
      "Feature names unseen at fit time:\n",
      "- rainfall\n",
      "Feature names seen at fit time, yet now missing:\n",
      "- radar_rainfall\n",
      "\n",
      "  warnings.warn(message, FutureWarning)\n"
     ]
    },
    {
     "name": "stdout",
     "output_type": "stream",
     "text": [
      "\n",
      "Processing file: D:\\1Yang\\0Research\\0_2566_radar_mosaic\\00mos_chaophraya\\00run_batch_acchr_codes\\2output\\0Hourly\\0Sontihn_RF\\0CBB_Pulse\\0output_mosaic\\2018072220_2000m.tif\n",
      "Warning: CRS not defined for D:\\1Yang\\0Research\\0_2566_radar_mosaic\\00mos_chaophraya\\00run_batch_acchr_codes\\2output\\0Hourly\\0Sontihn_RF\\0CBB_Pulse\\0output_mosaic\\2018072220_2000m.tif. Using WGS84 as default.\n",
      "Features shape: (250000, 3)\n",
      "NaN values before imputation: 114277\n",
      "NaN values after imputation: 114277\n",
      "Original data - Mean: 0.18, Max: 40.04\n",
      "Corrected data - Mean: 0.70, Max: 49.43\n"
     ]
    },
    {
     "name": "stderr",
     "output_type": "stream",
     "text": [
      " 75%|████████████████████████████████████████████████████████████▎                   | 177/235 [13:22<04:18,  4.47s/it]C:\\Users\\Admin\\anaconda3\\envs\\mossf\\lib\\site-packages\\sklearn\\base.py:493: FutureWarning: The feature names should match those that were passed during fit. Starting version 1.2, an error will be raised.\n",
      "Feature names unseen at fit time:\n",
      "- rainfall\n",
      "Feature names seen at fit time, yet now missing:\n",
      "- radar_rainfall\n",
      "\n",
      "  warnings.warn(message, FutureWarning)\n"
     ]
    },
    {
     "name": "stdout",
     "output_type": "stream",
     "text": [
      "\n",
      "Processing file: D:\\1Yang\\0Research\\0_2566_radar_mosaic\\00mos_chaophraya\\00run_batch_acchr_codes\\2output\\0Hourly\\0Sontihn_RF\\0CBB_Pulse\\0output_mosaic\\2018072221_2000m.tif\n",
      "Warning: CRS not defined for D:\\1Yang\\0Research\\0_2566_radar_mosaic\\00mos_chaophraya\\00run_batch_acchr_codes\\2output\\0Hourly\\0Sontihn_RF\\0CBB_Pulse\\0output_mosaic\\2018072221_2000m.tif. Using WGS84 as default.\n",
      "Features shape: (250000, 3)\n",
      "NaN values before imputation: 114328\n",
      "NaN values after imputation: 114328\n",
      "Original data - Mean: 0.10, Max: 14.82\n",
      "Corrected data - Mean: 0.51, Max: 49.43\n"
     ]
    },
    {
     "name": "stderr",
     "output_type": "stream",
     "text": [
      " 76%|████████████████████████████████████████████████████████████▌                   | 178/235 [13:26<04:14,  4.46s/it]C:\\Users\\Admin\\anaconda3\\envs\\mossf\\lib\\site-packages\\sklearn\\base.py:493: FutureWarning: The feature names should match those that were passed during fit. Starting version 1.2, an error will be raised.\n",
      "Feature names unseen at fit time:\n",
      "- rainfall\n",
      "Feature names seen at fit time, yet now missing:\n",
      "- radar_rainfall\n",
      "\n",
      "  warnings.warn(message, FutureWarning)\n"
     ]
    },
    {
     "name": "stdout",
     "output_type": "stream",
     "text": [
      "\n",
      "Processing file: D:\\1Yang\\0Research\\0_2566_radar_mosaic\\00mos_chaophraya\\00run_batch_acchr_codes\\2output\\0Hourly\\0Sontihn_RF\\0CBB_Pulse\\0output_mosaic\\2018072222_2000m.tif\n",
      "Warning: CRS not defined for D:\\1Yang\\0Research\\0_2566_radar_mosaic\\00mos_chaophraya\\00run_batch_acchr_codes\\2output\\0Hourly\\0Sontihn_RF\\0CBB_Pulse\\0output_mosaic\\2018072222_2000m.tif. Using WGS84 as default.\n",
      "Features shape: (250000, 3)\n",
      "NaN values before imputation: 114298\n",
      "NaN values after imputation: 114298\n",
      "Original data - Mean: 0.06, Max: 27.55\n",
      "Corrected data - Mean: 0.43, Max: 49.43\n"
     ]
    },
    {
     "name": "stderr",
     "output_type": "stream",
     "text": [
      " 76%|████████████████████████████████████████████████████████████▉                   | 179/235 [13:31<04:10,  4.47s/it]C:\\Users\\Admin\\anaconda3\\envs\\mossf\\lib\\site-packages\\sklearn\\base.py:493: FutureWarning: The feature names should match those that were passed during fit. Starting version 1.2, an error will be raised.\n",
      "Feature names unseen at fit time:\n",
      "- rainfall\n",
      "Feature names seen at fit time, yet now missing:\n",
      "- radar_rainfall\n",
      "\n",
      "  warnings.warn(message, FutureWarning)\n"
     ]
    },
    {
     "name": "stdout",
     "output_type": "stream",
     "text": [
      "\n",
      "Processing file: D:\\1Yang\\0Research\\0_2566_radar_mosaic\\00mos_chaophraya\\00run_batch_acchr_codes\\2output\\0Hourly\\0Sontihn_RF\\0CBB_Pulse\\0output_mosaic\\2018072223_2000m.tif\n",
      "Warning: CRS not defined for D:\\1Yang\\0Research\\0_2566_radar_mosaic\\00mos_chaophraya\\00run_batch_acchr_codes\\2output\\0Hourly\\0Sontihn_RF\\0CBB_Pulse\\0output_mosaic\\2018072223_2000m.tif. Using WGS84 as default.\n",
      "Features shape: (250000, 3)\n",
      "NaN values before imputation: 114307\n",
      "NaN values after imputation: 114307\n",
      "Original data - Mean: 0.05, Max: 12.28\n",
      "Corrected data - Mean: 0.48, Max: 49.00\n"
     ]
    },
    {
     "name": "stderr",
     "output_type": "stream",
     "text": [
      " 77%|█████████████████████████████████████████████████████████████▎                  | 180/235 [13:35<04:06,  4.47s/it]C:\\Users\\Admin\\anaconda3\\envs\\mossf\\lib\\site-packages\\sklearn\\base.py:493: FutureWarning: The feature names should match those that were passed during fit. Starting version 1.2, an error will be raised.\n",
      "Feature names unseen at fit time:\n",
      "- rainfall\n",
      "Feature names seen at fit time, yet now missing:\n",
      "- radar_rainfall\n",
      "\n",
      "  warnings.warn(message, FutureWarning)\n"
     ]
    },
    {
     "name": "stdout",
     "output_type": "stream",
     "text": [
      "\n",
      "Processing file: D:\\1Yang\\0Research\\0_2566_radar_mosaic\\00mos_chaophraya\\00run_batch_acchr_codes\\2output\\0Hourly\\0Sontihn_RF\\0CBB_Pulse\\0output_mosaic\\2018072300_2000m.tif\n",
      "Warning: CRS not defined for D:\\1Yang\\0Research\\0_2566_radar_mosaic\\00mos_chaophraya\\00run_batch_acchr_codes\\2output\\0Hourly\\0Sontihn_RF\\0CBB_Pulse\\0output_mosaic\\2018072300_2000m.tif. Using WGS84 as default.\n",
      "Features shape: (250000, 3)\n",
      "NaN values before imputation: 114377\n",
      "NaN values after imputation: 114377\n",
      "Original data - Mean: 0.04, Max: 11.50\n",
      "Corrected data - Mean: 0.33, Max: 46.23\n"
     ]
    },
    {
     "name": "stderr",
     "output_type": "stream",
     "text": [
      " 77%|█████████████████████████████████████████████████████████████▌                  | 181/235 [13:40<04:01,  4.47s/it]C:\\Users\\Admin\\anaconda3\\envs\\mossf\\lib\\site-packages\\sklearn\\base.py:493: FutureWarning: The feature names should match those that were passed during fit. Starting version 1.2, an error will be raised.\n",
      "Feature names unseen at fit time:\n",
      "- rainfall\n",
      "Feature names seen at fit time, yet now missing:\n",
      "- radar_rainfall\n",
      "\n",
      "  warnings.warn(message, FutureWarning)\n"
     ]
    },
    {
     "name": "stdout",
     "output_type": "stream",
     "text": [
      "\n",
      "Processing file: D:\\1Yang\\0Research\\0_2566_radar_mosaic\\00mos_chaophraya\\00run_batch_acchr_codes\\2output\\0Hourly\\0Sontihn_RF\\0CBB_Pulse\\0output_mosaic\\2018072301_2000m.tif\n",
      "Warning: CRS not defined for D:\\1Yang\\0Research\\0_2566_radar_mosaic\\00mos_chaophraya\\00run_batch_acchr_codes\\2output\\0Hourly\\0Sontihn_RF\\0CBB_Pulse\\0output_mosaic\\2018072301_2000m.tif. Using WGS84 as default.\n",
      "Features shape: (250000, 3)\n",
      "NaN values before imputation: 114348\n",
      "NaN values after imputation: 114348\n",
      "Original data - Mean: 0.05, Max: 32.22\n",
      "Corrected data - Mean: 0.32, Max: 49.43\n"
     ]
    },
    {
     "name": "stderr",
     "output_type": "stream",
     "text": [
      " 77%|█████████████████████████████████████████████████████████████▉                  | 182/235 [13:44<03:57,  4.48s/it]C:\\Users\\Admin\\anaconda3\\envs\\mossf\\lib\\site-packages\\sklearn\\base.py:493: FutureWarning: The feature names should match those that were passed during fit. Starting version 1.2, an error will be raised.\n",
      "Feature names unseen at fit time:\n",
      "- rainfall\n",
      "Feature names seen at fit time, yet now missing:\n",
      "- radar_rainfall\n",
      "\n",
      "  warnings.warn(message, FutureWarning)\n"
     ]
    },
    {
     "name": "stdout",
     "output_type": "stream",
     "text": [
      "\n",
      "Processing file: D:\\1Yang\\0Research\\0_2566_radar_mosaic\\00mos_chaophraya\\00run_batch_acchr_codes\\2output\\0Hourly\\0Sontihn_RF\\0CBB_Pulse\\0output_mosaic\\2018072302_2000m.tif\n",
      "Warning: CRS not defined for D:\\1Yang\\0Research\\0_2566_radar_mosaic\\00mos_chaophraya\\00run_batch_acchr_codes\\2output\\0Hourly\\0Sontihn_RF\\0CBB_Pulse\\0output_mosaic\\2018072302_2000m.tif. Using WGS84 as default.\n",
      "Features shape: (250000, 3)\n",
      "NaN values before imputation: 114254\n",
      "NaN values after imputation: 114254\n",
      "Original data - Mean: 0.07, Max: 35.61\n",
      "Corrected data - Mean: 0.27, Max: 49.43\n"
     ]
    },
    {
     "name": "stderr",
     "output_type": "stream",
     "text": [
      " 78%|██████████████████████████████████████████████████████████████▎                 | 183/235 [13:49<03:52,  4.48s/it]C:\\Users\\Admin\\anaconda3\\envs\\mossf\\lib\\site-packages\\sklearn\\base.py:493: FutureWarning: The feature names should match those that were passed during fit. Starting version 1.2, an error will be raised.\n",
      "Feature names unseen at fit time:\n",
      "- rainfall\n",
      "Feature names seen at fit time, yet now missing:\n",
      "- radar_rainfall\n",
      "\n",
      "  warnings.warn(message, FutureWarning)\n"
     ]
    },
    {
     "name": "stdout",
     "output_type": "stream",
     "text": [
      "\n",
      "Processing file: D:\\1Yang\\0Research\\0_2566_radar_mosaic\\00mos_chaophraya\\00run_batch_acchr_codes\\2output\\0Hourly\\0Sontihn_RF\\0CBB_Pulse\\0output_mosaic\\2018072303_2000m.tif\n",
      "Warning: CRS not defined for D:\\1Yang\\0Research\\0_2566_radar_mosaic\\00mos_chaophraya\\00run_batch_acchr_codes\\2output\\0Hourly\\0Sontihn_RF\\0CBB_Pulse\\0output_mosaic\\2018072303_2000m.tif. Using WGS84 as default.\n",
      "Features shape: (250000, 3)\n",
      "NaN values before imputation: 114326\n",
      "NaN values after imputation: 114326\n",
      "Original data - Mean: 0.08, Max: 54.54\n",
      "Corrected data - Mean: 0.31, Max: 49.43\n"
     ]
    },
    {
     "name": "stderr",
     "output_type": "stream",
     "text": [
      " 78%|██████████████████████████████████████████████████████████████▋                 | 184/235 [13:53<03:49,  4.49s/it]C:\\Users\\Admin\\anaconda3\\envs\\mossf\\lib\\site-packages\\sklearn\\base.py:493: FutureWarning: The feature names should match those that were passed during fit. Starting version 1.2, an error will be raised.\n",
      "Feature names unseen at fit time:\n",
      "- rainfall\n",
      "Feature names seen at fit time, yet now missing:\n",
      "- radar_rainfall\n",
      "\n",
      "  warnings.warn(message, FutureWarning)\n"
     ]
    },
    {
     "name": "stdout",
     "output_type": "stream",
     "text": [
      "\n",
      "Processing file: D:\\1Yang\\0Research\\0_2566_radar_mosaic\\00mos_chaophraya\\00run_batch_acchr_codes\\2output\\0Hourly\\0Sontihn_RF\\0CBB_Pulse\\0output_mosaic\\2018072304_2000m.tif\n",
      "Warning: CRS not defined for D:\\1Yang\\0Research\\0_2566_radar_mosaic\\00mos_chaophraya\\00run_batch_acchr_codes\\2output\\0Hourly\\0Sontihn_RF\\0CBB_Pulse\\0output_mosaic\\2018072304_2000m.tif. Using WGS84 as default.\n",
      "Features shape: (250000, 3)\n",
      "NaN values before imputation: 114320\n",
      "NaN values after imputation: 114320\n",
      "Original data - Mean: 0.12, Max: 62.27\n",
      "Corrected data - Mean: 0.40, Max: 49.43\n"
     ]
    },
    {
     "name": "stderr",
     "output_type": "stream",
     "text": [
      " 79%|██████████████████████████████████████████████████████████████▉                 | 185/235 [13:58<03:46,  4.52s/it]C:\\Users\\Admin\\anaconda3\\envs\\mossf\\lib\\site-packages\\sklearn\\base.py:493: FutureWarning: The feature names should match those that were passed during fit. Starting version 1.2, an error will be raised.\n",
      "Feature names unseen at fit time:\n",
      "- rainfall\n",
      "Feature names seen at fit time, yet now missing:\n",
      "- radar_rainfall\n",
      "\n",
      "  warnings.warn(message, FutureWarning)\n"
     ]
    },
    {
     "name": "stdout",
     "output_type": "stream",
     "text": [
      "\n",
      "Processing file: D:\\1Yang\\0Research\\0_2566_radar_mosaic\\00mos_chaophraya\\00run_batch_acchr_codes\\2output\\0Hourly\\0Sontihn_RF\\0CBB_Pulse\\0output_mosaic\\2018072305_2000m.tif\n",
      "Warning: CRS not defined for D:\\1Yang\\0Research\\0_2566_radar_mosaic\\00mos_chaophraya\\00run_batch_acchr_codes\\2output\\0Hourly\\0Sontihn_RF\\0CBB_Pulse\\0output_mosaic\\2018072305_2000m.tif. Using WGS84 as default.\n",
      "Features shape: (250000, 3)\n",
      "NaN values before imputation: 114315\n",
      "NaN values after imputation: 114315\n",
      "Original data - Mean: 0.15, Max: 57.98\n",
      "Corrected data - Mean: 0.48, Max: 49.43\n"
     ]
    },
    {
     "name": "stderr",
     "output_type": "stream",
     "text": [
      " 79%|███████████████████████████████████████████████████████████████▎                | 186/235 [14:02<03:42,  4.54s/it]C:\\Users\\Admin\\anaconda3\\envs\\mossf\\lib\\site-packages\\sklearn\\base.py:493: FutureWarning: The feature names should match those that were passed during fit. Starting version 1.2, an error will be raised.\n",
      "Feature names unseen at fit time:\n",
      "- rainfall\n",
      "Feature names seen at fit time, yet now missing:\n",
      "- radar_rainfall\n",
      "\n",
      "  warnings.warn(message, FutureWarning)\n"
     ]
    },
    {
     "name": "stdout",
     "output_type": "stream",
     "text": [
      "\n",
      "Processing file: D:\\1Yang\\0Research\\0_2566_radar_mosaic\\00mos_chaophraya\\00run_batch_acchr_codes\\2output\\0Hourly\\0Sontihn_RF\\0CBB_Pulse\\0output_mosaic\\2018072306_2000m.tif\n",
      "Warning: CRS not defined for D:\\1Yang\\0Research\\0_2566_radar_mosaic\\00mos_chaophraya\\00run_batch_acchr_codes\\2output\\0Hourly\\0Sontihn_RF\\0CBB_Pulse\\0output_mosaic\\2018072306_2000m.tif. Using WGS84 as default.\n",
      "Features shape: (250000, 3)\n",
      "NaN values before imputation: 114306\n",
      "NaN values after imputation: 114306\n",
      "Original data - Mean: 0.14, Max: 48.83\n",
      "Corrected data - Mean: 0.48, Max: 49.43\n"
     ]
    },
    {
     "name": "stderr",
     "output_type": "stream",
     "text": [
      " 80%|███████████████████████████████████████████████████████████████▋                | 187/235 [14:07<03:39,  4.58s/it]C:\\Users\\Admin\\anaconda3\\envs\\mossf\\lib\\site-packages\\sklearn\\base.py:493: FutureWarning: The feature names should match those that were passed during fit. Starting version 1.2, an error will be raised.\n",
      "Feature names unseen at fit time:\n",
      "- rainfall\n",
      "Feature names seen at fit time, yet now missing:\n",
      "- radar_rainfall\n",
      "\n",
      "  warnings.warn(message, FutureWarning)\n"
     ]
    },
    {
     "name": "stdout",
     "output_type": "stream",
     "text": [
      "\n",
      "Processing file: D:\\1Yang\\0Research\\0_2566_radar_mosaic\\00mos_chaophraya\\00run_batch_acchr_codes\\2output\\0Hourly\\0Sontihn_RF\\0CBB_Pulse\\0output_mosaic\\2018072307_2000m.tif\n",
      "Warning: CRS not defined for D:\\1Yang\\0Research\\0_2566_radar_mosaic\\00mos_chaophraya\\00run_batch_acchr_codes\\2output\\0Hourly\\0Sontihn_RF\\0CBB_Pulse\\0output_mosaic\\2018072307_2000m.tif. Using WGS84 as default.\n",
      "Features shape: (250000, 3)\n",
      "NaN values before imputation: 114289\n",
      "NaN values after imputation: 114289\n",
      "Original data - Mean: 0.15, Max: 49.64\n",
      "Corrected data - Mean: 0.51, Max: 49.43\n"
     ]
    },
    {
     "name": "stderr",
     "output_type": "stream",
     "text": [
      " 80%|████████████████████████████████████████████████████████████████                | 188/235 [14:12<03:34,  4.56s/it]C:\\Users\\Admin\\anaconda3\\envs\\mossf\\lib\\site-packages\\sklearn\\base.py:493: FutureWarning: The feature names should match those that were passed during fit. Starting version 1.2, an error will be raised.\n",
      "Feature names unseen at fit time:\n",
      "- rainfall\n",
      "Feature names seen at fit time, yet now missing:\n",
      "- radar_rainfall\n",
      "\n",
      "  warnings.warn(message, FutureWarning)\n"
     ]
    },
    {
     "name": "stdout",
     "output_type": "stream",
     "text": [
      "\n",
      "Processing file: D:\\1Yang\\0Research\\0_2566_radar_mosaic\\00mos_chaophraya\\00run_batch_acchr_codes\\2output\\0Hourly\\0Sontihn_RF\\0CBB_Pulse\\0output_mosaic\\2018072308_2000m.tif\n",
      "Warning: CRS not defined for D:\\1Yang\\0Research\\0_2566_radar_mosaic\\00mos_chaophraya\\00run_batch_acchr_codes\\2output\\0Hourly\\0Sontihn_RF\\0CBB_Pulse\\0output_mosaic\\2018072308_2000m.tif. Using WGS84 as default.\n",
      "Features shape: (250000, 3)\n",
      "NaN values before imputation: 114333\n",
      "NaN values after imputation: 114333\n",
      "Original data - Mean: 0.12, Max: 47.28\n",
      "Corrected data - Mean: 0.46, Max: 49.43\n"
     ]
    },
    {
     "name": "stderr",
     "output_type": "stream",
     "text": [
      " 80%|████████████████████████████████████████████████████████████████▎               | 189/235 [14:16<03:30,  4.57s/it]C:\\Users\\Admin\\anaconda3\\envs\\mossf\\lib\\site-packages\\sklearn\\base.py:493: FutureWarning: The feature names should match those that were passed during fit. Starting version 1.2, an error will be raised.\n",
      "Feature names unseen at fit time:\n",
      "- rainfall\n",
      "Feature names seen at fit time, yet now missing:\n",
      "- radar_rainfall\n",
      "\n",
      "  warnings.warn(message, FutureWarning)\n"
     ]
    },
    {
     "name": "stdout",
     "output_type": "stream",
     "text": [
      "\n",
      "Processing file: D:\\1Yang\\0Research\\0_2566_radar_mosaic\\00mos_chaophraya\\00run_batch_acchr_codes\\2output\\0Hourly\\0Sontihn_RF\\0CBB_Pulse\\0output_mosaic\\2018072309_2000m.tif\n",
      "Warning: CRS not defined for D:\\1Yang\\0Research\\0_2566_radar_mosaic\\00mos_chaophraya\\00run_batch_acchr_codes\\2output\\0Hourly\\0Sontihn_RF\\0CBB_Pulse\\0output_mosaic\\2018072309_2000m.tif. Using WGS84 as default.\n",
      "Features shape: (250000, 3)\n",
      "NaN values before imputation: 114456\n",
      "NaN values after imputation: 114456\n",
      "Original data - Mean: 0.09, Max: 40.26\n",
      "Corrected data - Mean: 0.35, Max: 49.43\n"
     ]
    },
    {
     "name": "stderr",
     "output_type": "stream",
     "text": [
      " 81%|████████████████████████████████████████████████████████████████▋               | 190/235 [14:21<03:26,  4.58s/it]C:\\Users\\Admin\\anaconda3\\envs\\mossf\\lib\\site-packages\\sklearn\\base.py:493: FutureWarning: The feature names should match those that were passed during fit. Starting version 1.2, an error will be raised.\n",
      "Feature names unseen at fit time:\n",
      "- rainfall\n",
      "Feature names seen at fit time, yet now missing:\n",
      "- radar_rainfall\n",
      "\n",
      "  warnings.warn(message, FutureWarning)\n"
     ]
    },
    {
     "name": "stdout",
     "output_type": "stream",
     "text": [
      "\n",
      "Processing file: D:\\1Yang\\0Research\\0_2566_radar_mosaic\\00mos_chaophraya\\00run_batch_acchr_codes\\2output\\0Hourly\\0Sontihn_RF\\0CBB_Pulse\\0output_mosaic\\2018072310_2000m.tif\n",
      "Warning: CRS not defined for D:\\1Yang\\0Research\\0_2566_radar_mosaic\\00mos_chaophraya\\00run_batch_acchr_codes\\2output\\0Hourly\\0Sontihn_RF\\0CBB_Pulse\\0output_mosaic\\2018072310_2000m.tif. Using WGS84 as default.\n",
      "Features shape: (250000, 3)\n",
      "NaN values before imputation: 121993\n",
      "NaN values after imputation: 121993\n",
      "Original data - Mean: 0.02, Max: 16.23\n",
      "Corrected data - Mean: 0.11, Max: 49.43\n"
     ]
    },
    {
     "name": "stderr",
     "output_type": "stream",
     "text": [
      " 81%|█████████████████████████████████████████████████████████████████               | 191/235 [14:25<03:21,  4.57s/it]C:\\Users\\Admin\\anaconda3\\envs\\mossf\\lib\\site-packages\\sklearn\\base.py:493: FutureWarning: The feature names should match those that were passed during fit. Starting version 1.2, an error will be raised.\n",
      "Feature names unseen at fit time:\n",
      "- rainfall\n",
      "Feature names seen at fit time, yet now missing:\n",
      "- radar_rainfall\n",
      "\n",
      "  warnings.warn(message, FutureWarning)\n"
     ]
    },
    {
     "name": "stdout",
     "output_type": "stream",
     "text": [
      "\n",
      "Processing file: D:\\1Yang\\0Research\\0_2566_radar_mosaic\\00mos_chaophraya\\00run_batch_acchr_codes\\2output\\0Hourly\\0Sontihn_RF\\0CBB_Pulse\\0output_mosaic\\2018072311_2000m.tif\n",
      "Warning: CRS not defined for D:\\1Yang\\0Research\\0_2566_radar_mosaic\\00mos_chaophraya\\00run_batch_acchr_codes\\2output\\0Hourly\\0Sontihn_RF\\0CBB_Pulse\\0output_mosaic\\2018072311_2000m.tif. Using WGS84 as default.\n",
      "Features shape: (250000, 3)\n",
      "NaN values before imputation: 114332\n",
      "NaN values after imputation: 114332\n",
      "Original data - Mean: 0.04, Max: 38.71\n",
      "Corrected data - Mean: 0.25, Max: 49.43\n"
     ]
    },
    {
     "name": "stderr",
     "output_type": "stream",
     "text": [
      " 82%|█████████████████████████████████████████████████████████████████▎              | 192/235 [14:30<03:18,  4.62s/it]C:\\Users\\Admin\\anaconda3\\envs\\mossf\\lib\\site-packages\\sklearn\\base.py:493: FutureWarning: The feature names should match those that were passed during fit. Starting version 1.2, an error will be raised.\n",
      "Feature names unseen at fit time:\n",
      "- rainfall\n",
      "Feature names seen at fit time, yet now missing:\n",
      "- radar_rainfall\n",
      "\n",
      "  warnings.warn(message, FutureWarning)\n"
     ]
    },
    {
     "name": "stdout",
     "output_type": "stream",
     "text": [
      "\n",
      "Processing file: D:\\1Yang\\0Research\\0_2566_radar_mosaic\\00mos_chaophraya\\00run_batch_acchr_codes\\2output\\0Hourly\\0Sontihn_RF\\0CBB_Pulse\\0output_mosaic\\2018072312_2000m.tif\n",
      "Warning: CRS not defined for D:\\1Yang\\0Research\\0_2566_radar_mosaic\\00mos_chaophraya\\00run_batch_acchr_codes\\2output\\0Hourly\\0Sontihn_RF\\0CBB_Pulse\\0output_mosaic\\2018072312_2000m.tif. Using WGS84 as default.\n",
      "Features shape: (250000, 3)\n",
      "NaN values before imputation: 114331\n",
      "NaN values after imputation: 114331\n",
      "Original data - Mean: 0.04, Max: 22.43\n",
      "Corrected data - Mean: 0.29, Max: 49.43\n"
     ]
    },
    {
     "name": "stderr",
     "output_type": "stream",
     "text": [
      " 82%|█████████████████████████████████████████████████████████████████▋              | 193/235 [14:35<03:13,  4.61s/it]C:\\Users\\Admin\\anaconda3\\envs\\mossf\\lib\\site-packages\\sklearn\\base.py:493: FutureWarning: The feature names should match those that were passed during fit. Starting version 1.2, an error will be raised.\n",
      "Feature names unseen at fit time:\n",
      "- rainfall\n",
      "Feature names seen at fit time, yet now missing:\n",
      "- radar_rainfall\n",
      "\n",
      "  warnings.warn(message, FutureWarning)\n"
     ]
    },
    {
     "name": "stdout",
     "output_type": "stream",
     "text": [
      "\n",
      "Processing file: D:\\1Yang\\0Research\\0_2566_radar_mosaic\\00mos_chaophraya\\00run_batch_acchr_codes\\2output\\0Hourly\\0Sontihn_RF\\0CBB_Pulse\\0output_mosaic\\2018072313_2000m.tif\n",
      "Warning: CRS not defined for D:\\1Yang\\0Research\\0_2566_radar_mosaic\\00mos_chaophraya\\00run_batch_acchr_codes\\2output\\0Hourly\\0Sontihn_RF\\0CBB_Pulse\\0output_mosaic\\2018072313_2000m.tif. Using WGS84 as default.\n",
      "Features shape: (250000, 3)\n",
      "NaN values before imputation: 114394\n",
      "NaN values after imputation: 114394\n",
      "Original data - Mean: 0.04, Max: 33.54\n",
      "Corrected data - Mean: 0.30, Max: 49.43\n"
     ]
    },
    {
     "name": "stderr",
     "output_type": "stream",
     "text": [
      " 83%|██████████████████████████████████████████████████████████████████              | 194/235 [14:39<03:07,  4.58s/it]C:\\Users\\Admin\\anaconda3\\envs\\mossf\\lib\\site-packages\\sklearn\\base.py:493: FutureWarning: The feature names should match those that were passed during fit. Starting version 1.2, an error will be raised.\n",
      "Feature names unseen at fit time:\n",
      "- rainfall\n",
      "Feature names seen at fit time, yet now missing:\n",
      "- radar_rainfall\n",
      "\n",
      "  warnings.warn(message, FutureWarning)\n"
     ]
    },
    {
     "name": "stdout",
     "output_type": "stream",
     "text": [
      "\n",
      "Processing file: D:\\1Yang\\0Research\\0_2566_radar_mosaic\\00mos_chaophraya\\00run_batch_acchr_codes\\2output\\0Hourly\\0Sontihn_RF\\0CBB_Pulse\\0output_mosaic\\2018072314_2000m.tif\n",
      "Warning: CRS not defined for D:\\1Yang\\0Research\\0_2566_radar_mosaic\\00mos_chaophraya\\00run_batch_acchr_codes\\2output\\0Hourly\\0Sontihn_RF\\0CBB_Pulse\\0output_mosaic\\2018072314_2000m.tif. Using WGS84 as default.\n",
      "Features shape: (250000, 3)\n",
      "NaN values before imputation: 114456\n",
      "NaN values after imputation: 114456\n",
      "Original data - Mean: 0.09, Max: 71.27\n",
      "Corrected data - Mean: 0.42, Max: 49.43\n"
     ]
    },
    {
     "name": "stderr",
     "output_type": "stream",
     "text": [
      " 83%|██████████████████████████████████████████████████████████████████▍             | 195/235 [14:44<03:01,  4.55s/it]C:\\Users\\Admin\\anaconda3\\envs\\mossf\\lib\\site-packages\\sklearn\\base.py:493: FutureWarning: The feature names should match those that were passed during fit. Starting version 1.2, an error will be raised.\n",
      "Feature names unseen at fit time:\n",
      "- rainfall\n",
      "Feature names seen at fit time, yet now missing:\n",
      "- radar_rainfall\n",
      "\n",
      "  warnings.warn(message, FutureWarning)\n"
     ]
    },
    {
     "name": "stdout",
     "output_type": "stream",
     "text": [
      "\n",
      "Processing file: D:\\1Yang\\0Research\\0_2566_radar_mosaic\\00mos_chaophraya\\00run_batch_acchr_codes\\2output\\0Hourly\\0Sontihn_RF\\0CBB_Pulse\\0output_mosaic\\2018072315_2000m.tif\n",
      "Warning: CRS not defined for D:\\1Yang\\0Research\\0_2566_radar_mosaic\\00mos_chaophraya\\00run_batch_acchr_codes\\2output\\0Hourly\\0Sontihn_RF\\0CBB_Pulse\\0output_mosaic\\2018072315_2000m.tif. Using WGS84 as default.\n",
      "Features shape: (250000, 3)\n",
      "NaN values before imputation: 114330\n",
      "NaN values after imputation: 114330\n",
      "Original data - Mean: 0.10, Max: 97.81\n",
      "Corrected data - Mean: 0.44, Max: 49.43\n"
     ]
    },
    {
     "name": "stderr",
     "output_type": "stream",
     "text": [
      " 83%|██████████████████████████████████████████████████████████████████▋             | 196/235 [14:48<02:57,  4.55s/it]C:\\Users\\Admin\\anaconda3\\envs\\mossf\\lib\\site-packages\\sklearn\\base.py:493: FutureWarning: The feature names should match those that were passed during fit. Starting version 1.2, an error will be raised.\n",
      "Feature names unseen at fit time:\n",
      "- rainfall\n",
      "Feature names seen at fit time, yet now missing:\n",
      "- radar_rainfall\n",
      "\n",
      "  warnings.warn(message, FutureWarning)\n"
     ]
    },
    {
     "name": "stdout",
     "output_type": "stream",
     "text": [
      "\n",
      "Processing file: D:\\1Yang\\0Research\\0_2566_radar_mosaic\\00mos_chaophraya\\00run_batch_acchr_codes\\2output\\0Hourly\\0Sontihn_RF\\0CBB_Pulse\\0output_mosaic\\2018072316_2000m.tif\n",
      "Warning: CRS not defined for D:\\1Yang\\0Research\\0_2566_radar_mosaic\\00mos_chaophraya\\00run_batch_acchr_codes\\2output\\0Hourly\\0Sontihn_RF\\0CBB_Pulse\\0output_mosaic\\2018072316_2000m.tif. Using WGS84 as default.\n",
      "Features shape: (250000, 3)\n",
      "NaN values before imputation: 114519\n",
      "NaN values after imputation: 114519\n",
      "Original data - Mean: 0.12, Max: 165.21\n",
      "Corrected data - Mean: 0.33, Max: 49.43\n"
     ]
    },
    {
     "name": "stderr",
     "output_type": "stream",
     "text": [
      " 84%|███████████████████████████████████████████████████████████████████             | 197/235 [14:53<02:52,  4.53s/it]C:\\Users\\Admin\\anaconda3\\envs\\mossf\\lib\\site-packages\\sklearn\\base.py:493: FutureWarning: The feature names should match those that were passed during fit. Starting version 1.2, an error will be raised.\n",
      "Feature names unseen at fit time:\n",
      "- rainfall\n",
      "Feature names seen at fit time, yet now missing:\n",
      "- radar_rainfall\n",
      "\n",
      "  warnings.warn(message, FutureWarning)\n"
     ]
    },
    {
     "name": "stdout",
     "output_type": "stream",
     "text": [
      "\n",
      "Processing file: D:\\1Yang\\0Research\\0_2566_radar_mosaic\\00mos_chaophraya\\00run_batch_acchr_codes\\2output\\0Hourly\\0Sontihn_RF\\0CBB_Pulse\\0output_mosaic\\2018072317_2000m.tif\n",
      "Warning: CRS not defined for D:\\1Yang\\0Research\\0_2566_radar_mosaic\\00mos_chaophraya\\00run_batch_acchr_codes\\2output\\0Hourly\\0Sontihn_RF\\0CBB_Pulse\\0output_mosaic\\2018072317_2000m.tif. Using WGS84 as default.\n",
      "Features shape: (250000, 3)\n",
      "NaN values before imputation: 114476\n",
      "NaN values after imputation: 114476\n",
      "Original data - Mean: 0.09, Max: 99.38\n",
      "Corrected data - Mean: 0.38, Max: 49.43\n"
     ]
    },
    {
     "name": "stderr",
     "output_type": "stream",
     "text": [
      " 84%|███████████████████████████████████████████████████████████████████▍            | 198/235 [14:57<02:47,  4.52s/it]C:\\Users\\Admin\\anaconda3\\envs\\mossf\\lib\\site-packages\\sklearn\\base.py:493: FutureWarning: The feature names should match those that were passed during fit. Starting version 1.2, an error will be raised.\n",
      "Feature names unseen at fit time:\n",
      "- rainfall\n",
      "Feature names seen at fit time, yet now missing:\n",
      "- radar_rainfall\n",
      "\n",
      "  warnings.warn(message, FutureWarning)\n"
     ]
    },
    {
     "name": "stdout",
     "output_type": "stream",
     "text": [
      "\n",
      "Processing file: D:\\1Yang\\0Research\\0_2566_radar_mosaic\\00mos_chaophraya\\00run_batch_acchr_codes\\2output\\0Hourly\\0Sontihn_RF\\0CBB_Pulse\\0output_mosaic\\2018072318_2000m.tif\n",
      "Warning: CRS not defined for D:\\1Yang\\0Research\\0_2566_radar_mosaic\\00mos_chaophraya\\00run_batch_acchr_codes\\2output\\0Hourly\\0Sontihn_RF\\0CBB_Pulse\\0output_mosaic\\2018072318_2000m.tif. Using WGS84 as default.\n",
      "Features shape: (250000, 3)\n",
      "NaN values before imputation: 114267\n",
      "NaN values after imputation: 114267\n",
      "Original data - Mean: 0.09, Max: 121.57\n",
      "Corrected data - Mean: 0.37, Max: 49.43\n"
     ]
    },
    {
     "name": "stderr",
     "output_type": "stream",
     "text": [
      " 85%|███████████████████████████████████████████████████████████████████▋            | 199/235 [15:02<02:47,  4.64s/it]C:\\Users\\Admin\\anaconda3\\envs\\mossf\\lib\\site-packages\\sklearn\\base.py:493: FutureWarning: The feature names should match those that were passed during fit. Starting version 1.2, an error will be raised.\n",
      "Feature names unseen at fit time:\n",
      "- rainfall\n",
      "Feature names seen at fit time, yet now missing:\n",
      "- radar_rainfall\n",
      "\n",
      "  warnings.warn(message, FutureWarning)\n"
     ]
    },
    {
     "name": "stdout",
     "output_type": "stream",
     "text": [
      "\n",
      "Processing file: D:\\1Yang\\0Research\\0_2566_radar_mosaic\\00mos_chaophraya\\00run_batch_acchr_codes\\2output\\0Hourly\\0Sontihn_RF\\0CBB_Pulse\\0output_mosaic\\2018072319_2000m.tif\n",
      "Warning: CRS not defined for D:\\1Yang\\0Research\\0_2566_radar_mosaic\\00mos_chaophraya\\00run_batch_acchr_codes\\2output\\0Hourly\\0Sontihn_RF\\0CBB_Pulse\\0output_mosaic\\2018072319_2000m.tif. Using WGS84 as default.\n",
      "Features shape: (250000, 3)\n",
      "NaN values before imputation: 114329\n",
      "NaN values after imputation: 114329\n",
      "Original data - Mean: 0.10, Max: 107.46\n",
      "Corrected data - Mean: 0.38, Max: 49.43\n"
     ]
    },
    {
     "name": "stderr",
     "output_type": "stream",
     "text": [
      " 85%|████████████████████████████████████████████████████████████████████            | 200/235 [15:07<02:41,  4.60s/it]C:\\Users\\Admin\\anaconda3\\envs\\mossf\\lib\\site-packages\\sklearn\\base.py:493: FutureWarning: The feature names should match those that were passed during fit. Starting version 1.2, an error will be raised.\n",
      "Feature names unseen at fit time:\n",
      "- rainfall\n",
      "Feature names seen at fit time, yet now missing:\n",
      "- radar_rainfall\n",
      "\n",
      "  warnings.warn(message, FutureWarning)\n"
     ]
    },
    {
     "name": "stdout",
     "output_type": "stream",
     "text": [
      "\n",
      "Processing file: D:\\1Yang\\0Research\\0_2566_radar_mosaic\\00mos_chaophraya\\00run_batch_acchr_codes\\2output\\0Hourly\\0Sontihn_RF\\0CBB_Pulse\\0output_mosaic\\2018072320_2000m.tif\n",
      "Warning: CRS not defined for D:\\1Yang\\0Research\\0_2566_radar_mosaic\\00mos_chaophraya\\00run_batch_acchr_codes\\2output\\0Hourly\\0Sontihn_RF\\0CBB_Pulse\\0output_mosaic\\2018072320_2000m.tif. Using WGS84 as default.\n",
      "Features shape: (250000, 3)\n",
      "NaN values before imputation: 114316\n",
      "NaN values after imputation: 114316\n",
      "Original data - Mean: 0.12, Max: 57.82\n",
      "Corrected data - Mean: 0.47, Max: 49.43\n"
     ]
    },
    {
     "name": "stderr",
     "output_type": "stream",
     "text": [
      " 86%|████████████████████████████████████████████████████████████████████▍           | 201/235 [15:11<02:35,  4.57s/it]C:\\Users\\Admin\\anaconda3\\envs\\mossf\\lib\\site-packages\\sklearn\\base.py:493: FutureWarning: The feature names should match those that were passed during fit. Starting version 1.2, an error will be raised.\n",
      "Feature names unseen at fit time:\n",
      "- rainfall\n",
      "Feature names seen at fit time, yet now missing:\n",
      "- radar_rainfall\n",
      "\n",
      "  warnings.warn(message, FutureWarning)\n"
     ]
    },
    {
     "name": "stdout",
     "output_type": "stream",
     "text": [
      "\n",
      "Processing file: D:\\1Yang\\0Research\\0_2566_radar_mosaic\\00mos_chaophraya\\00run_batch_acchr_codes\\2output\\0Hourly\\0Sontihn_RF\\0CBB_Pulse\\0output_mosaic\\2018072321_2000m.tif\n",
      "Warning: CRS not defined for D:\\1Yang\\0Research\\0_2566_radar_mosaic\\00mos_chaophraya\\00run_batch_acchr_codes\\2output\\0Hourly\\0Sontihn_RF\\0CBB_Pulse\\0output_mosaic\\2018072321_2000m.tif. Using WGS84 as default.\n",
      "Features shape: (250000, 3)\n",
      "NaN values before imputation: 114321\n",
      "NaN values after imputation: 114321\n",
      "Original data - Mean: 0.16, Max: 39.36\n",
      "Corrected data - Mean: 0.65, Max: 49.43\n"
     ]
    },
    {
     "name": "stderr",
     "output_type": "stream",
     "text": [
      " 86%|████████████████████████████████████████████████████████████████████▊           | 202/235 [15:16<02:30,  4.56s/it]C:\\Users\\Admin\\anaconda3\\envs\\mossf\\lib\\site-packages\\sklearn\\base.py:493: FutureWarning: The feature names should match those that were passed during fit. Starting version 1.2, an error will be raised.\n",
      "Feature names unseen at fit time:\n",
      "- rainfall\n",
      "Feature names seen at fit time, yet now missing:\n",
      "- radar_rainfall\n",
      "\n",
      "  warnings.warn(message, FutureWarning)\n"
     ]
    },
    {
     "name": "stdout",
     "output_type": "stream",
     "text": [
      "\n",
      "Processing file: D:\\1Yang\\0Research\\0_2566_radar_mosaic\\00mos_chaophraya\\00run_batch_acchr_codes\\2output\\0Hourly\\0Sontihn_RF\\0CBB_Pulse\\0output_mosaic\\2018072322_2000m.tif\n",
      "Warning: CRS not defined for D:\\1Yang\\0Research\\0_2566_radar_mosaic\\00mos_chaophraya\\00run_batch_acchr_codes\\2output\\0Hourly\\0Sontihn_RF\\0CBB_Pulse\\0output_mosaic\\2018072322_2000m.tif. Using WGS84 as default.\n",
      "Features shape: (250000, 3)\n",
      "NaN values before imputation: 114333\n",
      "NaN values after imputation: 114333\n",
      "Original data - Mean: 0.23, Max: 40.22\n",
      "Corrected data - Mean: 0.91, Max: 49.43\n"
     ]
    },
    {
     "name": "stderr",
     "output_type": "stream",
     "text": [
      " 86%|█████████████████████████████████████████████████████████████████████           | 203/235 [15:20<02:25,  4.56s/it]C:\\Users\\Admin\\anaconda3\\envs\\mossf\\lib\\site-packages\\sklearn\\base.py:493: FutureWarning: The feature names should match those that were passed during fit. Starting version 1.2, an error will be raised.\n",
      "Feature names unseen at fit time:\n",
      "- rainfall\n",
      "Feature names seen at fit time, yet now missing:\n",
      "- radar_rainfall\n",
      "\n",
      "  warnings.warn(message, FutureWarning)\n"
     ]
    },
    {
     "name": "stdout",
     "output_type": "stream",
     "text": [
      "\n",
      "Processing file: D:\\1Yang\\0Research\\0_2566_radar_mosaic\\00mos_chaophraya\\00run_batch_acchr_codes\\2output\\0Hourly\\0Sontihn_RF\\0CBB_Pulse\\0output_mosaic\\2018072323_2000m.tif\n",
      "Warning: CRS not defined for D:\\1Yang\\0Research\\0_2566_radar_mosaic\\00mos_chaophraya\\00run_batch_acchr_codes\\2output\\0Hourly\\0Sontihn_RF\\0CBB_Pulse\\0output_mosaic\\2018072323_2000m.tif. Using WGS84 as default.\n",
      "Features shape: (250000, 3)\n",
      "NaN values before imputation: 114341\n",
      "NaN values after imputation: 114341\n",
      "Original data - Mean: 0.26, Max: 58.07\n",
      "Corrected data - Mean: 0.92, Max: 49.43\n"
     ]
    },
    {
     "name": "stderr",
     "output_type": "stream",
     "text": [
      " 87%|█████████████████████████████████████████████████████████████████████▍          | 204/235 [15:26<02:36,  5.04s/it]C:\\Users\\Admin\\anaconda3\\envs\\mossf\\lib\\site-packages\\sklearn\\base.py:493: FutureWarning: The feature names should match those that were passed during fit. Starting version 1.2, an error will be raised.\n",
      "Feature names unseen at fit time:\n",
      "- rainfall\n",
      "Feature names seen at fit time, yet now missing:\n",
      "- radar_rainfall\n",
      "\n",
      "  warnings.warn(message, FutureWarning)\n"
     ]
    },
    {
     "name": "stdout",
     "output_type": "stream",
     "text": [
      "\n",
      "Processing file: D:\\1Yang\\0Research\\0_2566_radar_mosaic\\00mos_chaophraya\\00run_batch_acchr_codes\\2output\\0Hourly\\0Sontihn_RF\\0CBB_Pulse\\0output_mosaic\\2018072400_2000m.tif\n",
      "Warning: CRS not defined for D:\\1Yang\\0Research\\0_2566_radar_mosaic\\00mos_chaophraya\\00run_batch_acchr_codes\\2output\\0Hourly\\0Sontihn_RF\\0CBB_Pulse\\0output_mosaic\\2018072400_2000m.tif. Using WGS84 as default.\n",
      "Features shape: (250000, 3)\n",
      "NaN values before imputation: 114300\n",
      "NaN values after imputation: 114300\n",
      "Original data - Mean: 0.27, Max: 57.57\n",
      "Corrected data - Mean: 0.90, Max: 49.43\n"
     ]
    },
    {
     "name": "stderr",
     "output_type": "stream",
     "text": [
      " 87%|█████████████████████████████████████████████████████████████████████▊          | 205/235 [15:31<02:25,  4.86s/it]C:\\Users\\Admin\\anaconda3\\envs\\mossf\\lib\\site-packages\\sklearn\\base.py:493: FutureWarning: The feature names should match those that were passed during fit. Starting version 1.2, an error will be raised.\n",
      "Feature names unseen at fit time:\n",
      "- rainfall\n",
      "Feature names seen at fit time, yet now missing:\n",
      "- radar_rainfall\n",
      "\n",
      "  warnings.warn(message, FutureWarning)\n"
     ]
    },
    {
     "name": "stdout",
     "output_type": "stream",
     "text": [
      "\n",
      "Processing file: D:\\1Yang\\0Research\\0_2566_radar_mosaic\\00mos_chaophraya\\00run_batch_acchr_codes\\2output\\0Hourly\\0Sontihn_RF\\0CBB_Pulse\\0output_mosaic\\2018072401_2000m.tif\n",
      "Warning: CRS not defined for D:\\1Yang\\0Research\\0_2566_radar_mosaic\\00mos_chaophraya\\00run_batch_acchr_codes\\2output\\0Hourly\\0Sontihn_RF\\0CBB_Pulse\\0output_mosaic\\2018072401_2000m.tif. Using WGS84 as default.\n",
      "Features shape: (250000, 3)\n",
      "NaN values before imputation: 114328\n",
      "NaN values after imputation: 114328\n",
      "Original data - Mean: 0.14, Max: 28.23\n",
      "Corrected data - Mean: 0.68, Max: 49.43\n"
     ]
    },
    {
     "name": "stderr",
     "output_type": "stream",
     "text": [
      " 88%|██████████████████████████████████████████████████████████████████████▏         | 206/235 [15:35<02:17,  4.74s/it]C:\\Users\\Admin\\anaconda3\\envs\\mossf\\lib\\site-packages\\sklearn\\base.py:493: FutureWarning: The feature names should match those that were passed during fit. Starting version 1.2, an error will be raised.\n",
      "Feature names unseen at fit time:\n",
      "- rainfall\n",
      "Feature names seen at fit time, yet now missing:\n",
      "- radar_rainfall\n",
      "\n",
      "  warnings.warn(message, FutureWarning)\n"
     ]
    },
    {
     "name": "stdout",
     "output_type": "stream",
     "text": [
      "\n",
      "Processing file: D:\\1Yang\\0Research\\0_2566_radar_mosaic\\00mos_chaophraya\\00run_batch_acchr_codes\\2output\\0Hourly\\0Sontihn_RF\\0CBB_Pulse\\0output_mosaic\\2018072402_2000m.tif\n",
      "Warning: CRS not defined for D:\\1Yang\\0Research\\0_2566_radar_mosaic\\00mos_chaophraya\\00run_batch_acchr_codes\\2output\\0Hourly\\0Sontihn_RF\\0CBB_Pulse\\0output_mosaic\\2018072402_2000m.tif. Using WGS84 as default.\n",
      "Features shape: (250000, 3)\n",
      "NaN values before imputation: 114353\n",
      "NaN values after imputation: 114353\n",
      "Original data - Mean: 0.07, Max: 27.19\n",
      "Corrected data - Mean: 0.42, Max: 49.43\n"
     ]
    },
    {
     "name": "stderr",
     "output_type": "stream",
     "text": [
      " 88%|██████████████████████████████████████████████████████████████████████▍         | 207/235 [15:40<02:10,  4.66s/it]C:\\Users\\Admin\\anaconda3\\envs\\mossf\\lib\\site-packages\\sklearn\\base.py:493: FutureWarning: The feature names should match those that were passed during fit. Starting version 1.2, an error will be raised.\n",
      "Feature names unseen at fit time:\n",
      "- rainfall\n",
      "Feature names seen at fit time, yet now missing:\n",
      "- radar_rainfall\n",
      "\n",
      "  warnings.warn(message, FutureWarning)\n"
     ]
    },
    {
     "name": "stdout",
     "output_type": "stream",
     "text": [
      "\n",
      "Processing file: D:\\1Yang\\0Research\\0_2566_radar_mosaic\\00mos_chaophraya\\00run_batch_acchr_codes\\2output\\0Hourly\\0Sontihn_RF\\0CBB_Pulse\\0output_mosaic\\2018072403_2000m.tif\n",
      "Warning: CRS not defined for D:\\1Yang\\0Research\\0_2566_radar_mosaic\\00mos_chaophraya\\00run_batch_acchr_codes\\2output\\0Hourly\\0Sontihn_RF\\0CBB_Pulse\\0output_mosaic\\2018072403_2000m.tif. Using WGS84 as default.\n",
      "Features shape: (250000, 3)\n",
      "NaN values before imputation: 114301\n",
      "NaN values after imputation: 114301\n",
      "Original data - Mean: 0.08, Max: 26.06\n",
      "Corrected data - Mean: 0.42, Max: 49.43\n"
     ]
    },
    {
     "name": "stderr",
     "output_type": "stream",
     "text": [
      " 89%|██████████████████████████████████████████████████████████████████████▊         | 208/235 [15:44<02:04,  4.60s/it]C:\\Users\\Admin\\anaconda3\\envs\\mossf\\lib\\site-packages\\sklearn\\base.py:493: FutureWarning: The feature names should match those that were passed during fit. Starting version 1.2, an error will be raised.\n",
      "Feature names unseen at fit time:\n",
      "- rainfall\n",
      "Feature names seen at fit time, yet now missing:\n",
      "- radar_rainfall\n",
      "\n",
      "  warnings.warn(message, FutureWarning)\n"
     ]
    },
    {
     "name": "stdout",
     "output_type": "stream",
     "text": [
      "\n",
      "Processing file: D:\\1Yang\\0Research\\0_2566_radar_mosaic\\00mos_chaophraya\\00run_batch_acchr_codes\\2output\\0Hourly\\0Sontihn_RF\\0CBB_Pulse\\0output_mosaic\\2018072404_2000m.tif\n",
      "Warning: CRS not defined for D:\\1Yang\\0Research\\0_2566_radar_mosaic\\00mos_chaophraya\\00run_batch_acchr_codes\\2output\\0Hourly\\0Sontihn_RF\\0CBB_Pulse\\0output_mosaic\\2018072404_2000m.tif. Using WGS84 as default.\n",
      "Features shape: (250000, 3)\n",
      "NaN values before imputation: 114350\n",
      "NaN values after imputation: 114350\n",
      "Original data - Mean: 0.06, Max: 24.03\n",
      "Corrected data - Mean: 0.35, Max: 49.43\n"
     ]
    },
    {
     "name": "stderr",
     "output_type": "stream",
     "text": [
      " 89%|███████████████████████████████████████████████████████████████████████▏        | 209/235 [15:49<01:58,  4.56s/it]C:\\Users\\Admin\\anaconda3\\envs\\mossf\\lib\\site-packages\\sklearn\\base.py:493: FutureWarning: The feature names should match those that were passed during fit. Starting version 1.2, an error will be raised.\n",
      "Feature names unseen at fit time:\n",
      "- rainfall\n",
      "Feature names seen at fit time, yet now missing:\n",
      "- radar_rainfall\n",
      "\n",
      "  warnings.warn(message, FutureWarning)\n"
     ]
    },
    {
     "name": "stdout",
     "output_type": "stream",
     "text": [
      "\n",
      "Processing file: D:\\1Yang\\0Research\\0_2566_radar_mosaic\\00mos_chaophraya\\00run_batch_acchr_codes\\2output\\0Hourly\\0Sontihn_RF\\0CBB_Pulse\\0output_mosaic\\2018072405_2000m.tif\n",
      "Warning: CRS not defined for D:\\1Yang\\0Research\\0_2566_radar_mosaic\\00mos_chaophraya\\00run_batch_acchr_codes\\2output\\0Hourly\\0Sontihn_RF\\0CBB_Pulse\\0output_mosaic\\2018072405_2000m.tif. Using WGS84 as default.\n",
      "Features shape: (250000, 3)\n",
      "NaN values before imputation: 114301\n",
      "NaN values after imputation: 114301\n",
      "Original data - Mean: 0.15, Max: 44.98\n",
      "Corrected data - Mean: 0.53, Max: 49.43\n"
     ]
    },
    {
     "name": "stderr",
     "output_type": "stream",
     "text": [
      " 89%|███████████████████████████████████████████████████████████████████████▍        | 210/235 [15:53<01:53,  4.53s/it]C:\\Users\\Admin\\anaconda3\\envs\\mossf\\lib\\site-packages\\sklearn\\base.py:493: FutureWarning: The feature names should match those that were passed during fit. Starting version 1.2, an error will be raised.\n",
      "Feature names unseen at fit time:\n",
      "- rainfall\n",
      "Feature names seen at fit time, yet now missing:\n",
      "- radar_rainfall\n",
      "\n",
      "  warnings.warn(message, FutureWarning)\n"
     ]
    },
    {
     "name": "stdout",
     "output_type": "stream",
     "text": [
      "\n",
      "Processing file: D:\\1Yang\\0Research\\0_2566_radar_mosaic\\00mos_chaophraya\\00run_batch_acchr_codes\\2output\\0Hourly\\0Sontihn_RF\\0CBB_Pulse\\0output_mosaic\\2018072406_2000m.tif\n",
      "Warning: CRS not defined for D:\\1Yang\\0Research\\0_2566_radar_mosaic\\00mos_chaophraya\\00run_batch_acchr_codes\\2output\\0Hourly\\0Sontihn_RF\\0CBB_Pulse\\0output_mosaic\\2018072406_2000m.tif. Using WGS84 as default.\n",
      "Features shape: (250000, 3)\n",
      "NaN values before imputation: 114302\n",
      "NaN values after imputation: 114302\n",
      "Original data - Mean: 0.29, Max: 58.78\n",
      "Corrected data - Mean: 0.73, Max: 49.43\n"
     ]
    },
    {
     "name": "stderr",
     "output_type": "stream",
     "text": [
      " 90%|███████████████████████████████████████████████████████████████████████▊        | 211/235 [15:58<01:48,  4.51s/it]C:\\Users\\Admin\\anaconda3\\envs\\mossf\\lib\\site-packages\\sklearn\\base.py:493: FutureWarning: The feature names should match those that were passed during fit. Starting version 1.2, an error will be raised.\n",
      "Feature names unseen at fit time:\n",
      "- rainfall\n",
      "Feature names seen at fit time, yet now missing:\n",
      "- radar_rainfall\n",
      "\n",
      "  warnings.warn(message, FutureWarning)\n"
     ]
    },
    {
     "name": "stdout",
     "output_type": "stream",
     "text": [
      "\n",
      "Processing file: D:\\1Yang\\0Research\\0_2566_radar_mosaic\\00mos_chaophraya\\00run_batch_acchr_codes\\2output\\0Hourly\\0Sontihn_RF\\0CBB_Pulse\\0output_mosaic\\2018072407_2000m.tif\n",
      "Warning: CRS not defined for D:\\1Yang\\0Research\\0_2566_radar_mosaic\\00mos_chaophraya\\00run_batch_acchr_codes\\2output\\0Hourly\\0Sontihn_RF\\0CBB_Pulse\\0output_mosaic\\2018072407_2000m.tif. Using WGS84 as default.\n",
      "Features shape: (250000, 3)\n",
      "NaN values before imputation: 114372\n",
      "NaN values after imputation: 114372\n",
      "Original data - Mean: 0.31, Max: 76.62\n",
      "Corrected data - Mean: 0.75, Max: 49.43\n"
     ]
    },
    {
     "name": "stderr",
     "output_type": "stream",
     "text": [
      " 90%|████████████████████████████████████████████████████████████████████████▏       | 212/235 [16:02<01:43,  4.49s/it]C:\\Users\\Admin\\anaconda3\\envs\\mossf\\lib\\site-packages\\sklearn\\base.py:493: FutureWarning: The feature names should match those that were passed during fit. Starting version 1.2, an error will be raised.\n",
      "Feature names unseen at fit time:\n",
      "- rainfall\n",
      "Feature names seen at fit time, yet now missing:\n",
      "- radar_rainfall\n",
      "\n",
      "  warnings.warn(message, FutureWarning)\n"
     ]
    },
    {
     "name": "stdout",
     "output_type": "stream",
     "text": [
      "\n",
      "Processing file: D:\\1Yang\\0Research\\0_2566_radar_mosaic\\00mos_chaophraya\\00run_batch_acchr_codes\\2output\\0Hourly\\0Sontihn_RF\\0CBB_Pulse\\0output_mosaic\\2018072408_2000m.tif\n",
      "Warning: CRS not defined for D:\\1Yang\\0Research\\0_2566_radar_mosaic\\00mos_chaophraya\\00run_batch_acchr_codes\\2output\\0Hourly\\0Sontihn_RF\\0CBB_Pulse\\0output_mosaic\\2018072408_2000m.tif. Using WGS84 as default.\n",
      "Features shape: (250000, 3)\n",
      "NaN values before imputation: 114325\n",
      "NaN values after imputation: 114325\n",
      "Original data - Mean: 0.38, Max: 94.13\n",
      "Corrected data - Mean: 0.74, Max: 49.43\n"
     ]
    },
    {
     "name": "stderr",
     "output_type": "stream",
     "text": [
      " 91%|████████████████████████████████████████████████████████████████████████▌       | 213/235 [16:07<01:38,  4.49s/it]C:\\Users\\Admin\\anaconda3\\envs\\mossf\\lib\\site-packages\\sklearn\\base.py:493: FutureWarning: The feature names should match those that were passed during fit. Starting version 1.2, an error will be raised.\n",
      "Feature names unseen at fit time:\n",
      "- rainfall\n",
      "Feature names seen at fit time, yet now missing:\n",
      "- radar_rainfall\n",
      "\n",
      "  warnings.warn(message, FutureWarning)\n"
     ]
    },
    {
     "name": "stdout",
     "output_type": "stream",
     "text": [
      "\n",
      "Processing file: D:\\1Yang\\0Research\\0_2566_radar_mosaic\\00mos_chaophraya\\00run_batch_acchr_codes\\2output\\0Hourly\\0Sontihn_RF\\0CBB_Pulse\\0output_mosaic\\2018072409_2000m.tif\n",
      "Warning: CRS not defined for D:\\1Yang\\0Research\\0_2566_radar_mosaic\\00mos_chaophraya\\00run_batch_acchr_codes\\2output\\0Hourly\\0Sontihn_RF\\0CBB_Pulse\\0output_mosaic\\2018072409_2000m.tif. Using WGS84 as default.\n",
      "Features shape: (250000, 3)\n",
      "NaN values before imputation: 114303\n",
      "NaN values after imputation: 114303\n",
      "Original data - Mean: 0.28, Max: 76.23\n",
      "Corrected data - Mean: 0.60, Max: 49.43\n"
     ]
    },
    {
     "name": "stderr",
     "output_type": "stream",
     "text": [
      " 91%|████████████████████████████████████████████████████████████████████████▊       | 214/235 [16:11<01:34,  4.48s/it]C:\\Users\\Admin\\anaconda3\\envs\\mossf\\lib\\site-packages\\sklearn\\base.py:493: FutureWarning: The feature names should match those that were passed during fit. Starting version 1.2, an error will be raised.\n",
      "Feature names unseen at fit time:\n",
      "- rainfall\n",
      "Feature names seen at fit time, yet now missing:\n",
      "- radar_rainfall\n",
      "\n",
      "  warnings.warn(message, FutureWarning)\n"
     ]
    },
    {
     "name": "stdout",
     "output_type": "stream",
     "text": [
      "\n",
      "Processing file: D:\\1Yang\\0Research\\0_2566_radar_mosaic\\00mos_chaophraya\\00run_batch_acchr_codes\\2output\\0Hourly\\0Sontihn_RF\\0CBB_Pulse\\0output_mosaic\\2018072410_2000m.tif\n",
      "Warning: CRS not defined for D:\\1Yang\\0Research\\0_2566_radar_mosaic\\00mos_chaophraya\\00run_batch_acchr_codes\\2output\\0Hourly\\0Sontihn_RF\\0CBB_Pulse\\0output_mosaic\\2018072410_2000m.tif. Using WGS84 as default.\n",
      "Features shape: (250000, 3)\n",
      "NaN values before imputation: 114316\n",
      "NaN values after imputation: 114316\n",
      "Original data - Mean: 0.19, Max: 68.53\n",
      "Corrected data - Mean: 0.50, Max: 49.43\n"
     ]
    },
    {
     "name": "stderr",
     "output_type": "stream",
     "text": [
      " 91%|█████████████████████████████████████████████████████████████████████████▏      | 215/235 [16:15<01:29,  4.47s/it]C:\\Users\\Admin\\anaconda3\\envs\\mossf\\lib\\site-packages\\sklearn\\base.py:493: FutureWarning: The feature names should match those that were passed during fit. Starting version 1.2, an error will be raised.\n",
      "Feature names unseen at fit time:\n",
      "- rainfall\n",
      "Feature names seen at fit time, yet now missing:\n",
      "- radar_rainfall\n",
      "\n",
      "  warnings.warn(message, FutureWarning)\n"
     ]
    },
    {
     "name": "stdout",
     "output_type": "stream",
     "text": [
      "\n",
      "Processing file: D:\\1Yang\\0Research\\0_2566_radar_mosaic\\00mos_chaophraya\\00run_batch_acchr_codes\\2output\\0Hourly\\0Sontihn_RF\\0CBB_Pulse\\0output_mosaic\\2018072411_2000m.tif\n",
      "Warning: CRS not defined for D:\\1Yang\\0Research\\0_2566_radar_mosaic\\00mos_chaophraya\\00run_batch_acchr_codes\\2output\\0Hourly\\0Sontihn_RF\\0CBB_Pulse\\0output_mosaic\\2018072411_2000m.tif. Using WGS84 as default.\n",
      "Features shape: (250000, 3)\n",
      "NaN values before imputation: 114292\n",
      "NaN values after imputation: 114292\n",
      "Original data - Mean: 0.09, Max: 25.29\n",
      "Corrected data - Mean: 0.40, Max: 49.43\n"
     ]
    },
    {
     "name": "stderr",
     "output_type": "stream",
     "text": [
      " 92%|█████████████████████████████████████████████████████████████████████████▌      | 216/235 [16:20<01:24,  4.47s/it]C:\\Users\\Admin\\anaconda3\\envs\\mossf\\lib\\site-packages\\sklearn\\base.py:493: FutureWarning: The feature names should match those that were passed during fit. Starting version 1.2, an error will be raised.\n",
      "Feature names unseen at fit time:\n",
      "- rainfall\n",
      "Feature names seen at fit time, yet now missing:\n",
      "- radar_rainfall\n",
      "\n",
      "  warnings.warn(message, FutureWarning)\n"
     ]
    },
    {
     "name": "stdout",
     "output_type": "stream",
     "text": [
      "\n",
      "Processing file: D:\\1Yang\\0Research\\0_2566_radar_mosaic\\00mos_chaophraya\\00run_batch_acchr_codes\\2output\\0Hourly\\0Sontihn_RF\\0CBB_Pulse\\0output_mosaic\\2018072412_2000m.tif\n",
      "Warning: CRS not defined for D:\\1Yang\\0Research\\0_2566_radar_mosaic\\00mos_chaophraya\\00run_batch_acchr_codes\\2output\\0Hourly\\0Sontihn_RF\\0CBB_Pulse\\0output_mosaic\\2018072412_2000m.tif. Using WGS84 as default.\n",
      "Features shape: (250000, 3)\n",
      "NaN values before imputation: 114321\n",
      "NaN values after imputation: 114321\n",
      "Original data - Mean: 0.03, Max: 11.14\n",
      "Corrected data - Mean: 0.16, Max: 45.30\n"
     ]
    },
    {
     "name": "stderr",
     "output_type": "stream",
     "text": [
      " 92%|█████████████████████████████████████████████████████████████████████████▊      | 217/235 [16:24<01:20,  4.50s/it]C:\\Users\\Admin\\anaconda3\\envs\\mossf\\lib\\site-packages\\sklearn\\base.py:493: FutureWarning: The feature names should match those that were passed during fit. Starting version 1.2, an error will be raised.\n",
      "Feature names unseen at fit time:\n",
      "- rainfall\n",
      "Feature names seen at fit time, yet now missing:\n",
      "- radar_rainfall\n",
      "\n",
      "  warnings.warn(message, FutureWarning)\n"
     ]
    },
    {
     "name": "stdout",
     "output_type": "stream",
     "text": [
      "\n",
      "Processing file: D:\\1Yang\\0Research\\0_2566_radar_mosaic\\00mos_chaophraya\\00run_batch_acchr_codes\\2output\\0Hourly\\0Sontihn_RF\\0CBB_Pulse\\0output_mosaic\\2018072413_2000m.tif\n",
      "Warning: CRS not defined for D:\\1Yang\\0Research\\0_2566_radar_mosaic\\00mos_chaophraya\\00run_batch_acchr_codes\\2output\\0Hourly\\0Sontihn_RF\\0CBB_Pulse\\0output_mosaic\\2018072413_2000m.tif. Using WGS84 as default.\n",
      "Features shape: (250000, 3)\n",
      "NaN values before imputation: 114354\n",
      "NaN values after imputation: 114354\n",
      "Original data - Mean: 0.02, Max: 13.60\n",
      "Corrected data - Mean: 0.14, Max: 49.43\n"
     ]
    },
    {
     "name": "stderr",
     "output_type": "stream",
     "text": [
      " 93%|██████████████████████████████████████████████████████████████████████████▏     | 218/235 [16:29<01:16,  4.49s/it]C:\\Users\\Admin\\anaconda3\\envs\\mossf\\lib\\site-packages\\sklearn\\base.py:493: FutureWarning: The feature names should match those that were passed during fit. Starting version 1.2, an error will be raised.\n",
      "Feature names unseen at fit time:\n",
      "- rainfall\n",
      "Feature names seen at fit time, yet now missing:\n",
      "- radar_rainfall\n",
      "\n",
      "  warnings.warn(message, FutureWarning)\n"
     ]
    },
    {
     "name": "stdout",
     "output_type": "stream",
     "text": [
      "\n",
      "Processing file: D:\\1Yang\\0Research\\0_2566_radar_mosaic\\00mos_chaophraya\\00run_batch_acchr_codes\\2output\\0Hourly\\0Sontihn_RF\\0CBB_Pulse\\0output_mosaic\\2018072414_2000m.tif\n",
      "Warning: CRS not defined for D:\\1Yang\\0Research\\0_2566_radar_mosaic\\00mos_chaophraya\\00run_batch_acchr_codes\\2output\\0Hourly\\0Sontihn_RF\\0CBB_Pulse\\0output_mosaic\\2018072414_2000m.tif. Using WGS84 as default.\n",
      "Features shape: (250000, 3)\n",
      "NaN values before imputation: 114304\n",
      "NaN values after imputation: 114304\n",
      "Original data - Mean: 0.01, Max: 19.87\n",
      "Corrected data - Mean: 0.13, Max: 49.43\n"
     ]
    },
    {
     "name": "stderr",
     "output_type": "stream",
     "text": [
      " 93%|██████████████████████████████████████████████████████████████████████████▌     | 219/235 [16:33<01:12,  4.50s/it]C:\\Users\\Admin\\anaconda3\\envs\\mossf\\lib\\site-packages\\sklearn\\base.py:493: FutureWarning: The feature names should match those that were passed during fit. Starting version 1.2, an error will be raised.\n",
      "Feature names unseen at fit time:\n",
      "- rainfall\n",
      "Feature names seen at fit time, yet now missing:\n",
      "- radar_rainfall\n",
      "\n",
      "  warnings.warn(message, FutureWarning)\n"
     ]
    },
    {
     "name": "stdout",
     "output_type": "stream",
     "text": [
      "\n",
      "Processing file: D:\\1Yang\\0Research\\0_2566_radar_mosaic\\00mos_chaophraya\\00run_batch_acchr_codes\\2output\\0Hourly\\0Sontihn_RF\\0CBB_Pulse\\0output_mosaic\\2018072415_2000m.tif\n",
      "Warning: CRS not defined for D:\\1Yang\\0Research\\0_2566_radar_mosaic\\00mos_chaophraya\\00run_batch_acchr_codes\\2output\\0Hourly\\0Sontihn_RF\\0CBB_Pulse\\0output_mosaic\\2018072415_2000m.tif. Using WGS84 as default.\n",
      "Features shape: (250000, 3)\n",
      "NaN values before imputation: 114323\n",
      "NaN values after imputation: 114323\n",
      "Original data - Mean: 0.02, Max: 28.74\n",
      "Corrected data - Mean: 0.20, Max: 49.43\n"
     ]
    },
    {
     "name": "stderr",
     "output_type": "stream",
     "text": [
      " 94%|██████████████████████████████████████████████████████████████████████████▉     | 220/235 [16:38<01:07,  4.52s/it]C:\\Users\\Admin\\anaconda3\\envs\\mossf\\lib\\site-packages\\sklearn\\base.py:493: FutureWarning: The feature names should match those that were passed during fit. Starting version 1.2, an error will be raised.\n",
      "Feature names unseen at fit time:\n",
      "- rainfall\n",
      "Feature names seen at fit time, yet now missing:\n",
      "- radar_rainfall\n",
      "\n",
      "  warnings.warn(message, FutureWarning)\n"
     ]
    },
    {
     "name": "stdout",
     "output_type": "stream",
     "text": [
      "\n",
      "Processing file: D:\\1Yang\\0Research\\0_2566_radar_mosaic\\00mos_chaophraya\\00run_batch_acchr_codes\\2output\\0Hourly\\0Sontihn_RF\\0CBB_Pulse\\0output_mosaic\\2018072416_2000m.tif\n",
      "Warning: CRS not defined for D:\\1Yang\\0Research\\0_2566_radar_mosaic\\00mos_chaophraya\\00run_batch_acchr_codes\\2output\\0Hourly\\0Sontihn_RF\\0CBB_Pulse\\0output_mosaic\\2018072416_2000m.tif. Using WGS84 as default.\n",
      "Features shape: (250000, 3)\n",
      "NaN values before imputation: 114343\n",
      "NaN values after imputation: 114343\n",
      "Original data - Mean: 0.04, Max: 43.40\n",
      "Corrected data - Mean: 0.27, Max: 49.43\n"
     ]
    },
    {
     "name": "stderr",
     "output_type": "stream",
     "text": [
      " 94%|███████████████████████████████████████████████████████████████████████████▏    | 221/235 [16:43<01:03,  4.50s/it]C:\\Users\\Admin\\anaconda3\\envs\\mossf\\lib\\site-packages\\sklearn\\base.py:493: FutureWarning: The feature names should match those that were passed during fit. Starting version 1.2, an error will be raised.\n",
      "Feature names unseen at fit time:\n",
      "- rainfall\n",
      "Feature names seen at fit time, yet now missing:\n",
      "- radar_rainfall\n",
      "\n",
      "  warnings.warn(message, FutureWarning)\n"
     ]
    },
    {
     "name": "stdout",
     "output_type": "stream",
     "text": [
      "\n",
      "Processing file: D:\\1Yang\\0Research\\0_2566_radar_mosaic\\00mos_chaophraya\\00run_batch_acchr_codes\\2output\\0Hourly\\0Sontihn_RF\\0CBB_Pulse\\0output_mosaic\\2018072417_2000m.tif\n",
      "Warning: CRS not defined for D:\\1Yang\\0Research\\0_2566_radar_mosaic\\00mos_chaophraya\\00run_batch_acchr_codes\\2output\\0Hourly\\0Sontihn_RF\\0CBB_Pulse\\0output_mosaic\\2018072417_2000m.tif. Using WGS84 as default.\n",
      "Features shape: (250000, 3)\n",
      "NaN values before imputation: 114407\n",
      "NaN values after imputation: 114407\n",
      "Original data - Mean: 0.03, Max: 31.99\n",
      "Corrected data - Mean: 0.26, Max: 49.43\n"
     ]
    },
    {
     "name": "stderr",
     "output_type": "stream",
     "text": [
      " 94%|███████████████████████████████████████████████████████████████████████████▌    | 222/235 [16:47<00:58,  4.47s/it]C:\\Users\\Admin\\anaconda3\\envs\\mossf\\lib\\site-packages\\sklearn\\base.py:493: FutureWarning: The feature names should match those that were passed during fit. Starting version 1.2, an error will be raised.\n",
      "Feature names unseen at fit time:\n",
      "- rainfall\n",
      "Feature names seen at fit time, yet now missing:\n",
      "- radar_rainfall\n",
      "\n",
      "  warnings.warn(message, FutureWarning)\n"
     ]
    },
    {
     "name": "stdout",
     "output_type": "stream",
     "text": [
      "\n",
      "Processing file: D:\\1Yang\\0Research\\0_2566_radar_mosaic\\00mos_chaophraya\\00run_batch_acchr_codes\\2output\\0Hourly\\0Sontihn_RF\\0CBB_Pulse\\0output_mosaic\\2018072418_2000m.tif\n",
      "Warning: CRS not defined for D:\\1Yang\\0Research\\0_2566_radar_mosaic\\00mos_chaophraya\\00run_batch_acchr_codes\\2output\\0Hourly\\0Sontihn_RF\\0CBB_Pulse\\0output_mosaic\\2018072418_2000m.tif. Using WGS84 as default.\n",
      "Features shape: (250000, 3)\n",
      "NaN values before imputation: 114330\n",
      "NaN values after imputation: 114330\n",
      "Original data - Mean: 0.02, Max: 14.59\n",
      "Corrected data - Mean: 0.27, Max: 49.43\n"
     ]
    },
    {
     "name": "stderr",
     "output_type": "stream",
     "text": [
      " 95%|███████████████████████████████████████████████████████████████████████████▉    | 223/235 [16:51<00:53,  4.47s/it]C:\\Users\\Admin\\anaconda3\\envs\\mossf\\lib\\site-packages\\sklearn\\base.py:493: FutureWarning: The feature names should match those that were passed during fit. Starting version 1.2, an error will be raised.\n",
      "Feature names unseen at fit time:\n",
      "- rainfall\n",
      "Feature names seen at fit time, yet now missing:\n",
      "- radar_rainfall\n",
      "\n",
      "  warnings.warn(message, FutureWarning)\n"
     ]
    },
    {
     "name": "stdout",
     "output_type": "stream",
     "text": [
      "\n",
      "Processing file: D:\\1Yang\\0Research\\0_2566_radar_mosaic\\00mos_chaophraya\\00run_batch_acchr_codes\\2output\\0Hourly\\0Sontihn_RF\\0CBB_Pulse\\0output_mosaic\\2018072419_2000m.tif\n",
      "Warning: CRS not defined for D:\\1Yang\\0Research\\0_2566_radar_mosaic\\00mos_chaophraya\\00run_batch_acchr_codes\\2output\\0Hourly\\0Sontihn_RF\\0CBB_Pulse\\0output_mosaic\\2018072419_2000m.tif. Using WGS84 as default.\n",
      "Features shape: (250000, 3)\n",
      "NaN values before imputation: 114356\n",
      "NaN values after imputation: 114356\n",
      "Original data - Mean: 0.02, Max: 10.36\n",
      "Corrected data - Mean: 0.26, Max: 33.96\n"
     ]
    },
    {
     "name": "stderr",
     "output_type": "stream",
     "text": [
      " 95%|████████████████████████████████████████████████████████████████████████████▎   | 224/235 [16:56<00:49,  4.47s/it]C:\\Users\\Admin\\anaconda3\\envs\\mossf\\lib\\site-packages\\sklearn\\base.py:493: FutureWarning: The feature names should match those that were passed during fit. Starting version 1.2, an error will be raised.\n",
      "Feature names unseen at fit time:\n",
      "- rainfall\n",
      "Feature names seen at fit time, yet now missing:\n",
      "- radar_rainfall\n",
      "\n",
      "  warnings.warn(message, FutureWarning)\n"
     ]
    },
    {
     "name": "stdout",
     "output_type": "stream",
     "text": [
      "\n",
      "Processing file: D:\\1Yang\\0Research\\0_2566_radar_mosaic\\00mos_chaophraya\\00run_batch_acchr_codes\\2output\\0Hourly\\0Sontihn_RF\\0CBB_Pulse\\0output_mosaic\\2018072420_2000m.tif\n",
      "Warning: CRS not defined for D:\\1Yang\\0Research\\0_2566_radar_mosaic\\00mos_chaophraya\\00run_batch_acchr_codes\\2output\\0Hourly\\0Sontihn_RF\\0CBB_Pulse\\0output_mosaic\\2018072420_2000m.tif. Using WGS84 as default.\n",
      "Features shape: (250000, 3)\n",
      "NaN values before imputation: 114275\n",
      "NaN values after imputation: 114275\n",
      "Original data - Mean: 0.02, Max: 21.43\n",
      "Corrected data - Mean: 0.30, Max: 49.43\n"
     ]
    },
    {
     "name": "stderr",
     "output_type": "stream",
     "text": [
      " 96%|████████████████████████████████████████████████████████████████████████████▌   | 225/235 [17:00<00:44,  4.49s/it]C:\\Users\\Admin\\anaconda3\\envs\\mossf\\lib\\site-packages\\sklearn\\base.py:493: FutureWarning: The feature names should match those that were passed during fit. Starting version 1.2, an error will be raised.\n",
      "Feature names unseen at fit time:\n",
      "- rainfall\n",
      "Feature names seen at fit time, yet now missing:\n",
      "- radar_rainfall\n",
      "\n",
      "  warnings.warn(message, FutureWarning)\n"
     ]
    },
    {
     "name": "stdout",
     "output_type": "stream",
     "text": [
      "\n",
      "Processing file: D:\\1Yang\\0Research\\0_2566_radar_mosaic\\00mos_chaophraya\\00run_batch_acchr_codes\\2output\\0Hourly\\0Sontihn_RF\\0CBB_Pulse\\0output_mosaic\\2018072421_2000m.tif\n",
      "Warning: CRS not defined for D:\\1Yang\\0Research\\0_2566_radar_mosaic\\00mos_chaophraya\\00run_batch_acchr_codes\\2output\\0Hourly\\0Sontihn_RF\\0CBB_Pulse\\0output_mosaic\\2018072421_2000m.tif. Using WGS84 as default.\n",
      "Features shape: (250000, 3)\n",
      "NaN values before imputation: 114349\n",
      "NaN values after imputation: 114349\n",
      "Original data - Mean: 0.03, Max: 13.66\n",
      "Corrected data - Mean: 0.29, Max: 49.43\n"
     ]
    },
    {
     "name": "stderr",
     "output_type": "stream",
     "text": [
      " 96%|████████████████████████████████████████████████████████████████████████████▉   | 226/235 [17:06<00:42,  4.68s/it]C:\\Users\\Admin\\anaconda3\\envs\\mossf\\lib\\site-packages\\sklearn\\base.py:493: FutureWarning: The feature names should match those that were passed during fit. Starting version 1.2, an error will be raised.\n",
      "Feature names unseen at fit time:\n",
      "- rainfall\n",
      "Feature names seen at fit time, yet now missing:\n",
      "- radar_rainfall\n",
      "\n",
      "  warnings.warn(message, FutureWarning)\n"
     ]
    },
    {
     "name": "stdout",
     "output_type": "stream",
     "text": [
      "\n",
      "Processing file: D:\\1Yang\\0Research\\0_2566_radar_mosaic\\00mos_chaophraya\\00run_batch_acchr_codes\\2output\\0Hourly\\0Sontihn_RF\\0CBB_Pulse\\0output_mosaic\\2018072422_2000m.tif\n",
      "Warning: CRS not defined for D:\\1Yang\\0Research\\0_2566_radar_mosaic\\00mos_chaophraya\\00run_batch_acchr_codes\\2output\\0Hourly\\0Sontihn_RF\\0CBB_Pulse\\0output_mosaic\\2018072422_2000m.tif. Using WGS84 as default.\n",
      "Features shape: (250000, 3)\n",
      "NaN values before imputation: 114323\n",
      "NaN values after imputation: 114323\n",
      "Original data - Mean: 0.03, Max: 14.11\n",
      "Corrected data - Mean: 0.37, Max: 49.43\n"
     ]
    },
    {
     "name": "stderr",
     "output_type": "stream",
     "text": [
      " 97%|█████████████████████████████████████████████████████████████████████████████▎  | 227/235 [17:10<00:37,  4.63s/it]C:\\Users\\Admin\\anaconda3\\envs\\mossf\\lib\\site-packages\\sklearn\\base.py:493: FutureWarning: The feature names should match those that were passed during fit. Starting version 1.2, an error will be raised.\n",
      "Feature names unseen at fit time:\n",
      "- rainfall\n",
      "Feature names seen at fit time, yet now missing:\n",
      "- radar_rainfall\n",
      "\n",
      "  warnings.warn(message, FutureWarning)\n"
     ]
    },
    {
     "name": "stdout",
     "output_type": "stream",
     "text": [
      "\n",
      "Processing file: D:\\1Yang\\0Research\\0_2566_radar_mosaic\\00mos_chaophraya\\00run_batch_acchr_codes\\2output\\0Hourly\\0Sontihn_RF\\0CBB_Pulse\\0output_mosaic\\2018072423_2000m.tif\n",
      "Warning: CRS not defined for D:\\1Yang\\0Research\\0_2566_radar_mosaic\\00mos_chaophraya\\00run_batch_acchr_codes\\2output\\0Hourly\\0Sontihn_RF\\0CBB_Pulse\\0output_mosaic\\2018072423_2000m.tif. Using WGS84 as default.\n",
      "Features shape: (250000, 3)\n",
      "NaN values before imputation: 114297\n",
      "NaN values after imputation: 114297\n",
      "Original data - Mean: 0.05, Max: 15.05\n",
      "Corrected data - Mean: 0.55, Max: 49.43\n"
     ]
    },
    {
     "name": "stderr",
     "output_type": "stream",
     "text": [
      " 97%|█████████████████████████████████████████████████████████████████████████████▌  | 228/235 [17:15<00:32,  4.61s/it]C:\\Users\\Admin\\anaconda3\\envs\\mossf\\lib\\site-packages\\sklearn\\base.py:493: FutureWarning: The feature names should match those that were passed during fit. Starting version 1.2, an error will be raised.\n",
      "Feature names unseen at fit time:\n",
      "- rainfall\n",
      "Feature names seen at fit time, yet now missing:\n",
      "- radar_rainfall\n",
      "\n",
      "  warnings.warn(message, FutureWarning)\n"
     ]
    },
    {
     "name": "stdout",
     "output_type": "stream",
     "text": [
      "\n",
      "Processing file: D:\\1Yang\\0Research\\0_2566_radar_mosaic\\00mos_chaophraya\\00run_batch_acchr_codes\\2output\\0Hourly\\0Sontihn_RF\\0CBB_Pulse\\0output_mosaic\\2018072500_2000m.tif\n",
      "Warning: CRS not defined for D:\\1Yang\\0Research\\0_2566_radar_mosaic\\00mos_chaophraya\\00run_batch_acchr_codes\\2output\\0Hourly\\0Sontihn_RF\\0CBB_Pulse\\0output_mosaic\\2018072500_2000m.tif. Using WGS84 as default.\n",
      "Features shape: (250000, 3)\n",
      "NaN values before imputation: 114388\n",
      "NaN values after imputation: 114388\n",
      "Original data - Mean: 0.05, Max: 28.89\n",
      "Corrected data - Mean: 0.69, Max: 49.43\n"
     ]
    },
    {
     "name": "stderr",
     "output_type": "stream",
     "text": [
      " 97%|█████████████████████████████████████████████████████████████████████████████▉  | 229/235 [17:19<00:27,  4.57s/it]C:\\Users\\Admin\\anaconda3\\envs\\mossf\\lib\\site-packages\\sklearn\\base.py:493: FutureWarning: The feature names should match those that were passed during fit. Starting version 1.2, an error will be raised.\n",
      "Feature names unseen at fit time:\n",
      "- rainfall\n",
      "Feature names seen at fit time, yet now missing:\n",
      "- radar_rainfall\n",
      "\n",
      "  warnings.warn(message, FutureWarning)\n"
     ]
    },
    {
     "name": "stdout",
     "output_type": "stream",
     "text": [
      "\n",
      "Processing file: D:\\1Yang\\0Research\\0_2566_radar_mosaic\\00mos_chaophraya\\00run_batch_acchr_codes\\2output\\0Hourly\\0Sontihn_RF\\0CBB_Pulse\\0output_mosaic\\2018072501_2000m.tif\n",
      "Warning: CRS not defined for D:\\1Yang\\0Research\\0_2566_radar_mosaic\\00mos_chaophraya\\00run_batch_acchr_codes\\2output\\0Hourly\\0Sontihn_RF\\0CBB_Pulse\\0output_mosaic\\2018072501_2000m.tif. Using WGS84 as default.\n",
      "Features shape: (250000, 3)\n",
      "NaN values before imputation: 114391\n",
      "NaN values after imputation: 114391\n",
      "Original data - Mean: 0.05, Max: 27.34\n",
      "Corrected data - Mean: 0.56, Max: 49.43\n"
     ]
    },
    {
     "name": "stderr",
     "output_type": "stream",
     "text": [
      " 98%|██████████████████████████████████████████████████████████████████████████████▎ | 230/235 [17:24<00:22,  4.54s/it]C:\\Users\\Admin\\anaconda3\\envs\\mossf\\lib\\site-packages\\sklearn\\base.py:493: FutureWarning: The feature names should match those that were passed during fit. Starting version 1.2, an error will be raised.\n",
      "Feature names unseen at fit time:\n",
      "- rainfall\n",
      "Feature names seen at fit time, yet now missing:\n",
      "- radar_rainfall\n",
      "\n",
      "  warnings.warn(message, FutureWarning)\n"
     ]
    },
    {
     "name": "stdout",
     "output_type": "stream",
     "text": [
      "\n",
      "Processing file: D:\\1Yang\\0Research\\0_2566_radar_mosaic\\00mos_chaophraya\\00run_batch_acchr_codes\\2output\\0Hourly\\0Sontihn_RF\\0CBB_Pulse\\0output_mosaic\\2018072502_2000m.tif\n",
      "Warning: CRS not defined for D:\\1Yang\\0Research\\0_2566_radar_mosaic\\00mos_chaophraya\\00run_batch_acchr_codes\\2output\\0Hourly\\0Sontihn_RF\\0CBB_Pulse\\0output_mosaic\\2018072502_2000m.tif. Using WGS84 as default.\n",
      "Features shape: (250000, 3)\n",
      "NaN values before imputation: 114421\n",
      "NaN values after imputation: 114421\n",
      "Original data - Mean: 0.06, Max: 62.06\n",
      "Corrected data - Mean: 0.52, Max: 49.43\n"
     ]
    },
    {
     "name": "stderr",
     "output_type": "stream",
     "text": [
      " 98%|██████████████████████████████████████████████████████████████████████████████▋ | 231/235 [17:28<00:18,  4.55s/it]C:\\Users\\Admin\\anaconda3\\envs\\mossf\\lib\\site-packages\\sklearn\\base.py:493: FutureWarning: The feature names should match those that were passed during fit. Starting version 1.2, an error will be raised.\n",
      "Feature names unseen at fit time:\n",
      "- rainfall\n",
      "Feature names seen at fit time, yet now missing:\n",
      "- radar_rainfall\n",
      "\n",
      "  warnings.warn(message, FutureWarning)\n"
     ]
    },
    {
     "name": "stdout",
     "output_type": "stream",
     "text": [
      "\n",
      "Processing file: D:\\1Yang\\0Research\\0_2566_radar_mosaic\\00mos_chaophraya\\00run_batch_acchr_codes\\2output\\0Hourly\\0Sontihn_RF\\0CBB_Pulse\\0output_mosaic\\2018072503_2000m.tif\n",
      "Warning: CRS not defined for D:\\1Yang\\0Research\\0_2566_radar_mosaic\\00mos_chaophraya\\00run_batch_acchr_codes\\2output\\0Hourly\\0Sontihn_RF\\0CBB_Pulse\\0output_mosaic\\2018072503_2000m.tif. Using WGS84 as default.\n",
      "Features shape: (250000, 3)\n",
      "NaN values before imputation: 114379\n",
      "NaN values after imputation: 114379\n",
      "Original data - Mean: 0.09, Max: 70.53\n",
      "Corrected data - Mean: 0.63, Max: 49.43\n"
     ]
    },
    {
     "name": "stderr",
     "output_type": "stream",
     "text": [
      " 99%|██████████████████████████████████████████████████████████████████████████████▉ | 232/235 [17:33<00:13,  4.53s/it]C:\\Users\\Admin\\anaconda3\\envs\\mossf\\lib\\site-packages\\sklearn\\base.py:493: FutureWarning: The feature names should match those that were passed during fit. Starting version 1.2, an error will be raised.\n",
      "Feature names unseen at fit time:\n",
      "- rainfall\n",
      "Feature names seen at fit time, yet now missing:\n",
      "- radar_rainfall\n",
      "\n",
      "  warnings.warn(message, FutureWarning)\n"
     ]
    },
    {
     "name": "stdout",
     "output_type": "stream",
     "text": [
      "\n",
      "Processing file: D:\\1Yang\\0Research\\0_2566_radar_mosaic\\00mos_chaophraya\\00run_batch_acchr_codes\\2output\\0Hourly\\0Sontihn_RF\\0CBB_Pulse\\0output_mosaic\\2018072504_2000m.tif\n",
      "Warning: CRS not defined for D:\\1Yang\\0Research\\0_2566_radar_mosaic\\00mos_chaophraya\\00run_batch_acchr_codes\\2output\\0Hourly\\0Sontihn_RF\\0CBB_Pulse\\0output_mosaic\\2018072504_2000m.tif. Using WGS84 as default.\n",
      "Features shape: (250000, 3)\n",
      "NaN values before imputation: 114303\n",
      "NaN values after imputation: 114303\n",
      "Original data - Mean: 0.07, Max: 21.59\n",
      "Corrected data - Mean: 0.67, Max: 49.43\n"
     ]
    },
    {
     "name": "stderr",
     "output_type": "stream",
     "text": [
      " 99%|███████████████████████████████████████████████████████████████████████████████▎| 233/235 [17:37<00:09,  4.53s/it]C:\\Users\\Admin\\anaconda3\\envs\\mossf\\lib\\site-packages\\sklearn\\base.py:493: FutureWarning: The feature names should match those that were passed during fit. Starting version 1.2, an error will be raised.\n",
      "Feature names unseen at fit time:\n",
      "- rainfall\n",
      "Feature names seen at fit time, yet now missing:\n",
      "- radar_rainfall\n",
      "\n",
      "  warnings.warn(message, FutureWarning)\n"
     ]
    },
    {
     "name": "stdout",
     "output_type": "stream",
     "text": [
      "\n",
      "Processing file: D:\\1Yang\\0Research\\0_2566_radar_mosaic\\00mos_chaophraya\\00run_batch_acchr_codes\\2output\\0Hourly\\0Sontihn_RF\\0CBB_Pulse\\0output_mosaic\\2018072505_2000m.tif\n",
      "Warning: CRS not defined for D:\\1Yang\\0Research\\0_2566_radar_mosaic\\00mos_chaophraya\\00run_batch_acchr_codes\\2output\\0Hourly\\0Sontihn_RF\\0CBB_Pulse\\0output_mosaic\\2018072505_2000m.tif. Using WGS84 as default.\n",
      "Features shape: (250000, 3)\n",
      "NaN values before imputation: 114342\n",
      "NaN values after imputation: 114342\n",
      "Original data - Mean: 0.06, Max: 24.82\n",
      "Corrected data - Mean: 0.63, Max: 49.43\n"
     ]
    },
    {
     "name": "stderr",
     "output_type": "stream",
     "text": [
      "100%|███████████████████████████████████████████████████████████████████████████████▋| 234/235 [17:42<00:04,  4.52s/it]C:\\Users\\Admin\\anaconda3\\envs\\mossf\\lib\\site-packages\\sklearn\\base.py:493: FutureWarning: The feature names should match those that were passed during fit. Starting version 1.2, an error will be raised.\n",
      "Feature names unseen at fit time:\n",
      "- rainfall\n",
      "Feature names seen at fit time, yet now missing:\n",
      "- radar_rainfall\n",
      "\n",
      "  warnings.warn(message, FutureWarning)\n"
     ]
    },
    {
     "name": "stdout",
     "output_type": "stream",
     "text": [
      "\n",
      "Processing file: D:\\1Yang\\0Research\\0_2566_radar_mosaic\\00mos_chaophraya\\00run_batch_acchr_codes\\2output\\0Hourly\\0Sontihn_RF\\0CBB_Pulse\\0output_mosaic\\2018072506_2000m.tif\n",
      "Warning: CRS not defined for D:\\1Yang\\0Research\\0_2566_radar_mosaic\\00mos_chaophraya\\00run_batch_acchr_codes\\2output\\0Hourly\\0Sontihn_RF\\0CBB_Pulse\\0output_mosaic\\2018072506_2000m.tif. Using WGS84 as default.\n",
      "Features shape: (250000, 3)\n",
      "NaN values before imputation: 114327\n",
      "NaN values after imputation: 114327\n",
      "Original data - Mean: 0.05, Max: 27.84\n",
      "Corrected data - Mean: 0.54, Max: 49.43\n"
     ]
    },
    {
     "name": "stderr",
     "output_type": "stream",
     "text": [
      "100%|████████████████████████████████████████████████████████████████████████████████| 235/235 [17:46<00:00,  4.54s/it]\n"
     ]
    },
    {
     "name": "stdout",
     "output_type": "stream",
     "text": [
      "\n",
      "Processing files with median imputation strategy\n"
     ]
    },
    {
     "name": "stderr",
     "output_type": "stream",
     "text": [
      "  0%|                                                                                          | 0/235 [00:00<?, ?it/s]C:\\Users\\Admin\\anaconda3\\envs\\mossf\\lib\\site-packages\\sklearn\\base.py:493: FutureWarning: The feature names should match those that were passed during fit. Starting version 1.2, an error will be raised.\n",
      "Feature names unseen at fit time:\n",
      "- rainfall\n",
      "Feature names seen at fit time, yet now missing:\n",
      "- radar_rainfall\n",
      "\n",
      "  warnings.warn(message, FutureWarning)\n"
     ]
    },
    {
     "name": "stdout",
     "output_type": "stream",
     "text": [
      "\n",
      "Processing file: D:\\1Yang\\0Research\\0_2566_radar_mosaic\\00mos_chaophraya\\00run_batch_acchr_codes\\2output\\0Hourly\\0Sontihn_RF\\0CBB_Pulse\\0output_mosaic\\2018071507_2000m.tif\n",
      "Warning: CRS not defined for D:\\1Yang\\0Research\\0_2566_radar_mosaic\\00mos_chaophraya\\00run_batch_acchr_codes\\2output\\0Hourly\\0Sontihn_RF\\0CBB_Pulse\\0output_mosaic\\2018071507_2000m.tif. Using WGS84 as default.\n",
      "Features shape: (250000, 3)\n",
      "NaN values before imputation: 114311\n",
      "NaN values after imputation: 114311\n",
      "Original data - Mean: 0.01, Max: 4.38\n",
      "Corrected data - Mean: 0.19, Max: 17.07\n"
     ]
    },
    {
     "name": "stderr",
     "output_type": "stream",
     "text": [
      "  0%|▎                                                                                 | 1/235 [00:04<17:05,  4.38s/it]C:\\Users\\Admin\\anaconda3\\envs\\mossf\\lib\\site-packages\\sklearn\\base.py:493: FutureWarning: The feature names should match those that were passed during fit. Starting version 1.2, an error will be raised.\n",
      "Feature names unseen at fit time:\n",
      "- rainfall\n",
      "Feature names seen at fit time, yet now missing:\n",
      "- radar_rainfall\n",
      "\n",
      "  warnings.warn(message, FutureWarning)\n"
     ]
    },
    {
     "name": "stdout",
     "output_type": "stream",
     "text": [
      "\n",
      "Processing file: D:\\1Yang\\0Research\\0_2566_radar_mosaic\\00mos_chaophraya\\00run_batch_acchr_codes\\2output\\0Hourly\\0Sontihn_RF\\0CBB_Pulse\\0output_mosaic\\2018071508_2000m.tif\n",
      "Warning: CRS not defined for D:\\1Yang\\0Research\\0_2566_radar_mosaic\\00mos_chaophraya\\00run_batch_acchr_codes\\2output\\0Hourly\\0Sontihn_RF\\0CBB_Pulse\\0output_mosaic\\2018071508_2000m.tif. Using WGS84 as default.\n",
      "Features shape: (250000, 3)\n",
      "NaN values before imputation: 114385\n",
      "NaN values after imputation: 114385\n",
      "Original data - Mean: 0.01, Max: 6.54\n",
      "Corrected data - Mean: 0.22, Max: 17.22\n"
     ]
    },
    {
     "name": "stderr",
     "output_type": "stream",
     "text": [
      "  1%|▋                                                                                 | 2/235 [00:08<17:16,  4.45s/it]C:\\Users\\Admin\\anaconda3\\envs\\mossf\\lib\\site-packages\\sklearn\\base.py:493: FutureWarning: The feature names should match those that were passed during fit. Starting version 1.2, an error will be raised.\n",
      "Feature names unseen at fit time:\n",
      "- rainfall\n",
      "Feature names seen at fit time, yet now missing:\n",
      "- radar_rainfall\n",
      "\n",
      "  warnings.warn(message, FutureWarning)\n"
     ]
    },
    {
     "name": "stdout",
     "output_type": "stream",
     "text": [
      "\n",
      "Processing file: D:\\1Yang\\0Research\\0_2566_radar_mosaic\\00mos_chaophraya\\00run_batch_acchr_codes\\2output\\0Hourly\\0Sontihn_RF\\0CBB_Pulse\\0output_mosaic\\2018071509_2000m.tif\n",
      "Warning: CRS not defined for D:\\1Yang\\0Research\\0_2566_radar_mosaic\\00mos_chaophraya\\00run_batch_acchr_codes\\2output\\0Hourly\\0Sontihn_RF\\0CBB_Pulse\\0output_mosaic\\2018071509_2000m.tif. Using WGS84 as default.\n",
      "Features shape: (250000, 3)\n",
      "NaN values before imputation: 114284\n",
      "NaN values after imputation: 114284\n",
      "Original data - Mean: 0.01, Max: 3.88\n",
      "Corrected data - Mean: 0.21, Max: 14.83\n"
     ]
    },
    {
     "name": "stderr",
     "output_type": "stream",
     "text": [
      "  1%|█                                                                                 | 3/235 [00:13<17:14,  4.46s/it]C:\\Users\\Admin\\anaconda3\\envs\\mossf\\lib\\site-packages\\sklearn\\base.py:493: FutureWarning: The feature names should match those that were passed during fit. Starting version 1.2, an error will be raised.\n",
      "Feature names unseen at fit time:\n",
      "- rainfall\n",
      "Feature names seen at fit time, yet now missing:\n",
      "- radar_rainfall\n",
      "\n",
      "  warnings.warn(message, FutureWarning)\n"
     ]
    },
    {
     "name": "stdout",
     "output_type": "stream",
     "text": [
      "\n",
      "Processing file: D:\\1Yang\\0Research\\0_2566_radar_mosaic\\00mos_chaophraya\\00run_batch_acchr_codes\\2output\\0Hourly\\0Sontihn_RF\\0CBB_Pulse\\0output_mosaic\\2018071510_2000m.tif\n",
      "Warning: CRS not defined for D:\\1Yang\\0Research\\0_2566_radar_mosaic\\00mos_chaophraya\\00run_batch_acchr_codes\\2output\\0Hourly\\0Sontihn_RF\\0CBB_Pulse\\0output_mosaic\\2018071510_2000m.tif. Using WGS84 as default.\n",
      "Features shape: (250000, 3)\n",
      "NaN values before imputation: 114328\n",
      "NaN values after imputation: 114328\n",
      "Original data - Mean: 0.01, Max: 3.85\n",
      "Corrected data - Mean: 0.12, Max: 14.83\n"
     ]
    },
    {
     "name": "stderr",
     "output_type": "stream",
     "text": [
      "  2%|█▍                                                                                | 4/235 [00:18<18:04,  4.70s/it]C:\\Users\\Admin\\anaconda3\\envs\\mossf\\lib\\site-packages\\sklearn\\base.py:493: FutureWarning: The feature names should match those that were passed during fit. Starting version 1.2, an error will be raised.\n",
      "Feature names unseen at fit time:\n",
      "- rainfall\n",
      "Feature names seen at fit time, yet now missing:\n",
      "- radar_rainfall\n",
      "\n",
      "  warnings.warn(message, FutureWarning)\n"
     ]
    },
    {
     "name": "stdout",
     "output_type": "stream",
     "text": [
      "\n",
      "Processing file: D:\\1Yang\\0Research\\0_2566_radar_mosaic\\00mos_chaophraya\\00run_batch_acchr_codes\\2output\\0Hourly\\0Sontihn_RF\\0CBB_Pulse\\0output_mosaic\\2018071511_2000m.tif\n",
      "Warning: CRS not defined for D:\\1Yang\\0Research\\0_2566_radar_mosaic\\00mos_chaophraya\\00run_batch_acchr_codes\\2output\\0Hourly\\0Sontihn_RF\\0CBB_Pulse\\0output_mosaic\\2018071511_2000m.tif. Using WGS84 as default.\n",
      "Features shape: (250000, 3)\n",
      "NaN values before imputation: 114312\n",
      "NaN values after imputation: 114312\n",
      "Original data - Mean: 0.00, Max: 3.29\n",
      "Corrected data - Mean: 0.08, Max: 14.12\n"
     ]
    },
    {
     "name": "stderr",
     "output_type": "stream",
     "text": [
      "  2%|█▋                                                                                | 5/235 [00:22<17:35,  4.59s/it]C:\\Users\\Admin\\anaconda3\\envs\\mossf\\lib\\site-packages\\sklearn\\base.py:493: FutureWarning: The feature names should match those that were passed during fit. Starting version 1.2, an error will be raised.\n",
      "Feature names unseen at fit time:\n",
      "- rainfall\n",
      "Feature names seen at fit time, yet now missing:\n",
      "- radar_rainfall\n",
      "\n",
      "  warnings.warn(message, FutureWarning)\n"
     ]
    },
    {
     "name": "stdout",
     "output_type": "stream",
     "text": [
      "\n",
      "Processing file: D:\\1Yang\\0Research\\0_2566_radar_mosaic\\00mos_chaophraya\\00run_batch_acchr_codes\\2output\\0Hourly\\0Sontihn_RF\\0CBB_Pulse\\0output_mosaic\\2018071512_2000m.tif\n",
      "Warning: CRS not defined for D:\\1Yang\\0Research\\0_2566_radar_mosaic\\00mos_chaophraya\\00run_batch_acchr_codes\\2output\\0Hourly\\0Sontihn_RF\\0CBB_Pulse\\0output_mosaic\\2018071512_2000m.tif. Using WGS84 as default.\n",
      "Features shape: (250000, 3)\n",
      "NaN values before imputation: 114515\n",
      "NaN values after imputation: 114515\n",
      "Original data - Mean: 0.01, Max: 47.79\n",
      "Corrected data - Mean: 0.11, Max: 49.43\n"
     ]
    },
    {
     "name": "stderr",
     "output_type": "stream",
     "text": [
      "  3%|██                                                                                | 6/235 [00:27<17:19,  4.54s/it]C:\\Users\\Admin\\anaconda3\\envs\\mossf\\lib\\site-packages\\sklearn\\base.py:493: FutureWarning: The feature names should match those that were passed during fit. Starting version 1.2, an error will be raised.\n",
      "Feature names unseen at fit time:\n",
      "- rainfall\n",
      "Feature names seen at fit time, yet now missing:\n",
      "- radar_rainfall\n",
      "\n",
      "  warnings.warn(message, FutureWarning)\n"
     ]
    },
    {
     "name": "stdout",
     "output_type": "stream",
     "text": [
      "\n",
      "Processing file: D:\\1Yang\\0Research\\0_2566_radar_mosaic\\00mos_chaophraya\\00run_batch_acchr_codes\\2output\\0Hourly\\0Sontihn_RF\\0CBB_Pulse\\0output_mosaic\\2018071513_2000m.tif\n",
      "Warning: CRS not defined for D:\\1Yang\\0Research\\0_2566_radar_mosaic\\00mos_chaophraya\\00run_batch_acchr_codes\\2output\\0Hourly\\0Sontihn_RF\\0CBB_Pulse\\0output_mosaic\\2018071513_2000m.tif. Using WGS84 as default.\n",
      "Features shape: (250000, 3)\n",
      "NaN values before imputation: 114347\n",
      "NaN values after imputation: 114347\n",
      "Original data - Mean: 0.02, Max: 62.32\n",
      "Corrected data - Mean: 0.13, Max: 49.43\n"
     ]
    },
    {
     "name": "stderr",
     "output_type": "stream",
     "text": [
      "  3%|██▍                                                                               | 7/235 [00:31<17:10,  4.52s/it]C:\\Users\\Admin\\anaconda3\\envs\\mossf\\lib\\site-packages\\sklearn\\base.py:493: FutureWarning: The feature names should match those that were passed during fit. Starting version 1.2, an error will be raised.\n",
      "Feature names unseen at fit time:\n",
      "- rainfall\n",
      "Feature names seen at fit time, yet now missing:\n",
      "- radar_rainfall\n",
      "\n",
      "  warnings.warn(message, FutureWarning)\n"
     ]
    },
    {
     "name": "stdout",
     "output_type": "stream",
     "text": [
      "\n",
      "Processing file: D:\\1Yang\\0Research\\0_2566_radar_mosaic\\00mos_chaophraya\\00run_batch_acchr_codes\\2output\\0Hourly\\0Sontihn_RF\\0CBB_Pulse\\0output_mosaic\\2018071514_2000m.tif\n",
      "Warning: CRS not defined for D:\\1Yang\\0Research\\0_2566_radar_mosaic\\00mos_chaophraya\\00run_batch_acchr_codes\\2output\\0Hourly\\0Sontihn_RF\\0CBB_Pulse\\0output_mosaic\\2018071514_2000m.tif. Using WGS84 as default.\n",
      "Features shape: (250000, 3)\n",
      "NaN values before imputation: 114340\n",
      "NaN values after imputation: 114340\n",
      "Original data - Mean: 0.01, Max: 17.59\n",
      "Corrected data - Mean: 0.10, Max: 49.43\n"
     ]
    },
    {
     "name": "stderr",
     "output_type": "stream",
     "text": [
      "  3%|██▊                                                                               | 8/235 [00:36<17:07,  4.53s/it]C:\\Users\\Admin\\anaconda3\\envs\\mossf\\lib\\site-packages\\sklearn\\base.py:493: FutureWarning: The feature names should match those that were passed during fit. Starting version 1.2, an error will be raised.\n",
      "Feature names unseen at fit time:\n",
      "- rainfall\n",
      "Feature names seen at fit time, yet now missing:\n",
      "- radar_rainfall\n",
      "\n",
      "  warnings.warn(message, FutureWarning)\n"
     ]
    },
    {
     "name": "stdout",
     "output_type": "stream",
     "text": [
      "\n",
      "Processing file: D:\\1Yang\\0Research\\0_2566_radar_mosaic\\00mos_chaophraya\\00run_batch_acchr_codes\\2output\\0Hourly\\0Sontihn_RF\\0CBB_Pulse\\0output_mosaic\\2018071515_2000m.tif\n",
      "Warning: CRS not defined for D:\\1Yang\\0Research\\0_2566_radar_mosaic\\00mos_chaophraya\\00run_batch_acchr_codes\\2output\\0Hourly\\0Sontihn_RF\\0CBB_Pulse\\0output_mosaic\\2018071515_2000m.tif. Using WGS84 as default.\n",
      "Features shape: (250000, 3)\n",
      "NaN values before imputation: 114382\n",
      "NaN values after imputation: 114382\n",
      "Original data - Mean: 0.02, Max: 26.72\n",
      "Corrected data - Mean: 0.16, Max: 49.43\n"
     ]
    },
    {
     "name": "stderr",
     "output_type": "stream",
     "text": [
      "  4%|███▏                                                                              | 9/235 [00:40<16:59,  4.51s/it]C:\\Users\\Admin\\anaconda3\\envs\\mossf\\lib\\site-packages\\sklearn\\base.py:493: FutureWarning: The feature names should match those that were passed during fit. Starting version 1.2, an error will be raised.\n",
      "Feature names unseen at fit time:\n",
      "- rainfall\n",
      "Feature names seen at fit time, yet now missing:\n",
      "- radar_rainfall\n",
      "\n",
      "  warnings.warn(message, FutureWarning)\n"
     ]
    },
    {
     "name": "stdout",
     "output_type": "stream",
     "text": [
      "\n",
      "Processing file: D:\\1Yang\\0Research\\0_2566_radar_mosaic\\00mos_chaophraya\\00run_batch_acchr_codes\\2output\\0Hourly\\0Sontihn_RF\\0CBB_Pulse\\0output_mosaic\\2018071516_2000m.tif\n",
      "Warning: CRS not defined for D:\\1Yang\\0Research\\0_2566_radar_mosaic\\00mos_chaophraya\\00run_batch_acchr_codes\\2output\\0Hourly\\0Sontihn_RF\\0CBB_Pulse\\0output_mosaic\\2018071516_2000m.tif. Using WGS84 as default.\n",
      "Features shape: (250000, 3)\n",
      "NaN values before imputation: 114341\n",
      "NaN values after imputation: 114341\n",
      "Original data - Mean: 0.02, Max: 65.54\n",
      "Corrected data - Mean: 0.21, Max: 49.43\n"
     ]
    },
    {
     "name": "stderr",
     "output_type": "stream",
     "text": [
      "  4%|███▍                                                                             | 10/235 [00:45<16:55,  4.51s/it]C:\\Users\\Admin\\anaconda3\\envs\\mossf\\lib\\site-packages\\sklearn\\base.py:493: FutureWarning: The feature names should match those that were passed during fit. Starting version 1.2, an error will be raised.\n",
      "Feature names unseen at fit time:\n",
      "- rainfall\n",
      "Feature names seen at fit time, yet now missing:\n",
      "- radar_rainfall\n",
      "\n",
      "  warnings.warn(message, FutureWarning)\n"
     ]
    },
    {
     "name": "stdout",
     "output_type": "stream",
     "text": [
      "\n",
      "Processing file: D:\\1Yang\\0Research\\0_2566_radar_mosaic\\00mos_chaophraya\\00run_batch_acchr_codes\\2output\\0Hourly\\0Sontihn_RF\\0CBB_Pulse\\0output_mosaic\\2018071517_2000m.tif\n",
      "Warning: CRS not defined for D:\\1Yang\\0Research\\0_2566_radar_mosaic\\00mos_chaophraya\\00run_batch_acchr_codes\\2output\\0Hourly\\0Sontihn_RF\\0CBB_Pulse\\0output_mosaic\\2018071517_2000m.tif. Using WGS84 as default.\n",
      "Features shape: (250000, 3)\n",
      "NaN values before imputation: 114319\n",
      "NaN values after imputation: 114319\n",
      "Original data - Mean: 0.03, Max: 22.29\n",
      "Corrected data - Mean: 0.38, Max: 49.43\n"
     ]
    },
    {
     "name": "stderr",
     "output_type": "stream",
     "text": [
      "  5%|███▊                                                                             | 11/235 [00:49<16:50,  4.51s/it]C:\\Users\\Admin\\anaconda3\\envs\\mossf\\lib\\site-packages\\sklearn\\base.py:493: FutureWarning: The feature names should match those that were passed during fit. Starting version 1.2, an error will be raised.\n",
      "Feature names unseen at fit time:\n",
      "- rainfall\n",
      "Feature names seen at fit time, yet now missing:\n",
      "- radar_rainfall\n",
      "\n",
      "  warnings.warn(message, FutureWarning)\n"
     ]
    },
    {
     "name": "stdout",
     "output_type": "stream",
     "text": [
      "\n",
      "Processing file: D:\\1Yang\\0Research\\0_2566_radar_mosaic\\00mos_chaophraya\\00run_batch_acchr_codes\\2output\\0Hourly\\0Sontihn_RF\\0CBB_Pulse\\0output_mosaic\\2018071518_2000m.tif\n",
      "Warning: CRS not defined for D:\\1Yang\\0Research\\0_2566_radar_mosaic\\00mos_chaophraya\\00run_batch_acchr_codes\\2output\\0Hourly\\0Sontihn_RF\\0CBB_Pulse\\0output_mosaic\\2018071518_2000m.tif. Using WGS84 as default.\n",
      "Features shape: (250000, 3)\n",
      "NaN values before imputation: 114306\n",
      "NaN values after imputation: 114306\n",
      "Original data - Mean: 0.03, Max: 30.03\n",
      "Corrected data - Mean: 0.39, Max: 49.43\n"
     ]
    },
    {
     "name": "stderr",
     "output_type": "stream",
     "text": [
      "  5%|████▏                                                                            | 12/235 [00:54<16:44,  4.51s/it]C:\\Users\\Admin\\anaconda3\\envs\\mossf\\lib\\site-packages\\sklearn\\base.py:493: FutureWarning: The feature names should match those that were passed during fit. Starting version 1.2, an error will be raised.\n",
      "Feature names unseen at fit time:\n",
      "- rainfall\n",
      "Feature names seen at fit time, yet now missing:\n",
      "- radar_rainfall\n",
      "\n",
      "  warnings.warn(message, FutureWarning)\n"
     ]
    },
    {
     "name": "stdout",
     "output_type": "stream",
     "text": [
      "\n",
      "Processing file: D:\\1Yang\\0Research\\0_2566_radar_mosaic\\00mos_chaophraya\\00run_batch_acchr_codes\\2output\\0Hourly\\0Sontihn_RF\\0CBB_Pulse\\0output_mosaic\\2018071519_2000m.tif\n",
      "Warning: CRS not defined for D:\\1Yang\\0Research\\0_2566_radar_mosaic\\00mos_chaophraya\\00run_batch_acchr_codes\\2output\\0Hourly\\0Sontihn_RF\\0CBB_Pulse\\0output_mosaic\\2018071519_2000m.tif. Using WGS84 as default.\n",
      "Features shape: (250000, 3)\n",
      "NaN values before imputation: 114351\n",
      "NaN values after imputation: 114351\n",
      "Original data - Mean: 0.04, Max: 37.00\n",
      "Corrected data - Mean: 0.41, Max: 49.43\n"
     ]
    },
    {
     "name": "stderr",
     "output_type": "stream",
     "text": [
      "  6%|████▍                                                                            | 13/235 [00:58<16:37,  4.49s/it]C:\\Users\\Admin\\anaconda3\\envs\\mossf\\lib\\site-packages\\sklearn\\base.py:493: FutureWarning: The feature names should match those that were passed during fit. Starting version 1.2, an error will be raised.\n",
      "Feature names unseen at fit time:\n",
      "- rainfall\n",
      "Feature names seen at fit time, yet now missing:\n",
      "- radar_rainfall\n",
      "\n",
      "  warnings.warn(message, FutureWarning)\n"
     ]
    },
    {
     "name": "stdout",
     "output_type": "stream",
     "text": [
      "\n",
      "Processing file: D:\\1Yang\\0Research\\0_2566_radar_mosaic\\00mos_chaophraya\\00run_batch_acchr_codes\\2output\\0Hourly\\0Sontihn_RF\\0CBB_Pulse\\0output_mosaic\\2018071520_2000m.tif\n",
      "Warning: CRS not defined for D:\\1Yang\\0Research\\0_2566_radar_mosaic\\00mos_chaophraya\\00run_batch_acchr_codes\\2output\\0Hourly\\0Sontihn_RF\\0CBB_Pulse\\0output_mosaic\\2018071520_2000m.tif. Using WGS84 as default.\n",
      "Features shape: (250000, 3)\n",
      "NaN values before imputation: 114307\n",
      "NaN values after imputation: 114307\n",
      "Original data - Mean: 0.06, Max: 78.15\n",
      "Corrected data - Mean: 0.49, Max: 49.43\n"
     ]
    },
    {
     "name": "stderr",
     "output_type": "stream",
     "text": [
      "  6%|████▊                                                                            | 14/235 [01:03<16:41,  4.53s/it]C:\\Users\\Admin\\anaconda3\\envs\\mossf\\lib\\site-packages\\sklearn\\base.py:493: FutureWarning: The feature names should match those that were passed during fit. Starting version 1.2, an error will be raised.\n",
      "Feature names unseen at fit time:\n",
      "- rainfall\n",
      "Feature names seen at fit time, yet now missing:\n",
      "- radar_rainfall\n",
      "\n",
      "  warnings.warn(message, FutureWarning)\n"
     ]
    },
    {
     "name": "stdout",
     "output_type": "stream",
     "text": [
      "\n",
      "Processing file: D:\\1Yang\\0Research\\0_2566_radar_mosaic\\00mos_chaophraya\\00run_batch_acchr_codes\\2output\\0Hourly\\0Sontihn_RF\\0CBB_Pulse\\0output_mosaic\\2018071521_2000m.tif\n",
      "Warning: CRS not defined for D:\\1Yang\\0Research\\0_2566_radar_mosaic\\00mos_chaophraya\\00run_batch_acchr_codes\\2output\\0Hourly\\0Sontihn_RF\\0CBB_Pulse\\0output_mosaic\\2018071521_2000m.tif. Using WGS84 as default.\n",
      "Features shape: (250000, 3)\n",
      "NaN values before imputation: 114519\n",
      "NaN values after imputation: 114519\n",
      "Original data - Mean: 0.08, Max: 50.69\n",
      "Corrected data - Mean: 0.57, Max: 49.43\n"
     ]
    },
    {
     "name": "stderr",
     "output_type": "stream",
     "text": [
      "  6%|█████▏                                                                           | 15/235 [01:08<16:56,  4.62s/it]C:\\Users\\Admin\\anaconda3\\envs\\mossf\\lib\\site-packages\\sklearn\\base.py:493: FutureWarning: The feature names should match those that were passed during fit. Starting version 1.2, an error will be raised.\n",
      "Feature names unseen at fit time:\n",
      "- rainfall\n",
      "Feature names seen at fit time, yet now missing:\n",
      "- radar_rainfall\n",
      "\n",
      "  warnings.warn(message, FutureWarning)\n"
     ]
    },
    {
     "name": "stdout",
     "output_type": "stream",
     "text": [
      "\n",
      "Processing file: D:\\1Yang\\0Research\\0_2566_radar_mosaic\\00mos_chaophraya\\00run_batch_acchr_codes\\2output\\0Hourly\\0Sontihn_RF\\0CBB_Pulse\\0output_mosaic\\2018071522_2000m.tif\n",
      "Warning: CRS not defined for D:\\1Yang\\0Research\\0_2566_radar_mosaic\\00mos_chaophraya\\00run_batch_acchr_codes\\2output\\0Hourly\\0Sontihn_RF\\0CBB_Pulse\\0output_mosaic\\2018071522_2000m.tif. Using WGS84 as default.\n",
      "Features shape: (250000, 3)\n",
      "NaN values before imputation: 114346\n",
      "NaN values after imputation: 114346\n",
      "Original data - Mean: 0.10, Max: 70.39\n",
      "Corrected data - Mean: 0.59, Max: 49.43\n"
     ]
    },
    {
     "name": "stderr",
     "output_type": "stream",
     "text": [
      "  7%|█████▌                                                                           | 16/235 [01:13<18:06,  4.96s/it]C:\\Users\\Admin\\anaconda3\\envs\\mossf\\lib\\site-packages\\sklearn\\base.py:493: FutureWarning: The feature names should match those that were passed during fit. Starting version 1.2, an error will be raised.\n",
      "Feature names unseen at fit time:\n",
      "- rainfall\n",
      "Feature names seen at fit time, yet now missing:\n",
      "- radar_rainfall\n",
      "\n",
      "  warnings.warn(message, FutureWarning)\n"
     ]
    },
    {
     "name": "stdout",
     "output_type": "stream",
     "text": [
      "\n",
      "Processing file: D:\\1Yang\\0Research\\0_2566_radar_mosaic\\00mos_chaophraya\\00run_batch_acchr_codes\\2output\\0Hourly\\0Sontihn_RF\\0CBB_Pulse\\0output_mosaic\\2018071523_2000m.tif\n",
      "Warning: CRS not defined for D:\\1Yang\\0Research\\0_2566_radar_mosaic\\00mos_chaophraya\\00run_batch_acchr_codes\\2output\\0Hourly\\0Sontihn_RF\\0CBB_Pulse\\0output_mosaic\\2018071523_2000m.tif. Using WGS84 as default.\n",
      "Features shape: (250000, 3)\n",
      "NaN values before imputation: 114364\n",
      "NaN values after imputation: 114364\n",
      "Original data - Mean: 0.05, Max: 28.91\n",
      "Corrected data - Mean: 0.50, Max: 49.43\n"
     ]
    },
    {
     "name": "stderr",
     "output_type": "stream",
     "text": [
      "  7%|█████▊                                                                           | 17/235 [01:18<17:26,  4.80s/it]C:\\Users\\Admin\\anaconda3\\envs\\mossf\\lib\\site-packages\\sklearn\\base.py:493: FutureWarning: The feature names should match those that were passed during fit. Starting version 1.2, an error will be raised.\n",
      "Feature names unseen at fit time:\n",
      "- rainfall\n",
      "Feature names seen at fit time, yet now missing:\n",
      "- radar_rainfall\n",
      "\n",
      "  warnings.warn(message, FutureWarning)\n"
     ]
    },
    {
     "name": "stdout",
     "output_type": "stream",
     "text": [
      "\n",
      "Processing file: D:\\1Yang\\0Research\\0_2566_radar_mosaic\\00mos_chaophraya\\00run_batch_acchr_codes\\2output\\0Hourly\\0Sontihn_RF\\0CBB_Pulse\\0output_mosaic\\2018071600_2000m.tif\n",
      "Warning: CRS not defined for D:\\1Yang\\0Research\\0_2566_radar_mosaic\\00mos_chaophraya\\00run_batch_acchr_codes\\2output\\0Hourly\\0Sontihn_RF\\0CBB_Pulse\\0output_mosaic\\2018071600_2000m.tif. Using WGS84 as default.\n",
      "Features shape: (250000, 3)\n",
      "NaN values before imputation: 114345\n",
      "NaN values after imputation: 114345\n",
      "Original data - Mean: 0.07, Max: 26.60\n",
      "Corrected data - Mean: 0.49, Max: 49.43\n"
     ]
    },
    {
     "name": "stderr",
     "output_type": "stream",
     "text": [
      "  8%|██████▏                                                                          | 18/235 [01:22<16:56,  4.68s/it]C:\\Users\\Admin\\anaconda3\\envs\\mossf\\lib\\site-packages\\sklearn\\base.py:493: FutureWarning: The feature names should match those that were passed during fit. Starting version 1.2, an error will be raised.\n",
      "Feature names unseen at fit time:\n",
      "- rainfall\n",
      "Feature names seen at fit time, yet now missing:\n",
      "- radar_rainfall\n",
      "\n",
      "  warnings.warn(message, FutureWarning)\n"
     ]
    },
    {
     "name": "stdout",
     "output_type": "stream",
     "text": [
      "\n",
      "Processing file: D:\\1Yang\\0Research\\0_2566_radar_mosaic\\00mos_chaophraya\\00run_batch_acchr_codes\\2output\\0Hourly\\0Sontihn_RF\\0CBB_Pulse\\0output_mosaic\\2018071601_2000m.tif\n",
      "Warning: CRS not defined for D:\\1Yang\\0Research\\0_2566_radar_mosaic\\00mos_chaophraya\\00run_batch_acchr_codes\\2output\\0Hourly\\0Sontihn_RF\\0CBB_Pulse\\0output_mosaic\\2018071601_2000m.tif. Using WGS84 as default.\n",
      "Features shape: (250000, 3)\n",
      "NaN values before imputation: 114343\n",
      "NaN values after imputation: 114343\n",
      "Original data - Mean: 0.10, Max: 18.26\n",
      "Corrected data - Mean: 0.60, Max: 49.43\n"
     ]
    },
    {
     "name": "stderr",
     "output_type": "stream",
     "text": [
      "  8%|██████▌                                                                          | 19/235 [01:27<16:32,  4.59s/it]C:\\Users\\Admin\\anaconda3\\envs\\mossf\\lib\\site-packages\\sklearn\\base.py:493: FutureWarning: The feature names should match those that were passed during fit. Starting version 1.2, an error will be raised.\n",
      "Feature names unseen at fit time:\n",
      "- rainfall\n",
      "Feature names seen at fit time, yet now missing:\n",
      "- radar_rainfall\n",
      "\n",
      "  warnings.warn(message, FutureWarning)\n"
     ]
    },
    {
     "name": "stdout",
     "output_type": "stream",
     "text": [
      "\n",
      "Processing file: D:\\1Yang\\0Research\\0_2566_radar_mosaic\\00mos_chaophraya\\00run_batch_acchr_codes\\2output\\0Hourly\\0Sontihn_RF\\0CBB_Pulse\\0output_mosaic\\2018071602_2000m.tif\n",
      "Warning: CRS not defined for D:\\1Yang\\0Research\\0_2566_radar_mosaic\\00mos_chaophraya\\00run_batch_acchr_codes\\2output\\0Hourly\\0Sontihn_RF\\0CBB_Pulse\\0output_mosaic\\2018071602_2000m.tif. Using WGS84 as default.\n",
      "Features shape: (250000, 3)\n",
      "NaN values before imputation: 114412\n",
      "NaN values after imputation: 114412\n",
      "Original data - Mean: 0.05, Max: 8.99\n",
      "Corrected data - Mean: 0.50, Max: 20.71\n"
     ]
    },
    {
     "name": "stderr",
     "output_type": "stream",
     "text": [
      "  9%|██████▉                                                                          | 20/235 [01:31<16:16,  4.54s/it]C:\\Users\\Admin\\anaconda3\\envs\\mossf\\lib\\site-packages\\sklearn\\base.py:493: FutureWarning: The feature names should match those that were passed during fit. Starting version 1.2, an error will be raised.\n",
      "Feature names unseen at fit time:\n",
      "- rainfall\n",
      "Feature names seen at fit time, yet now missing:\n",
      "- radar_rainfall\n",
      "\n",
      "  warnings.warn(message, FutureWarning)\n"
     ]
    },
    {
     "name": "stdout",
     "output_type": "stream",
     "text": [
      "\n",
      "Processing file: D:\\1Yang\\0Research\\0_2566_radar_mosaic\\00mos_chaophraya\\00run_batch_acchr_codes\\2output\\0Hourly\\0Sontihn_RF\\0CBB_Pulse\\0output_mosaic\\2018071603_2000m.tif\n",
      "Warning: CRS not defined for D:\\1Yang\\0Research\\0_2566_radar_mosaic\\00mos_chaophraya\\00run_batch_acchr_codes\\2output\\0Hourly\\0Sontihn_RF\\0CBB_Pulse\\0output_mosaic\\2018071603_2000m.tif. Using WGS84 as default.\n",
      "Features shape: (250000, 3)\n",
      "NaN values before imputation: 114439\n",
      "NaN values after imputation: 114439\n",
      "Original data - Mean: 0.06, Max: 10.06\n",
      "Corrected data - Mean: 0.54, Max: 23.30\n"
     ]
    },
    {
     "name": "stderr",
     "output_type": "stream",
     "text": [
      "  9%|███████▏                                                                         | 21/235 [01:36<16:04,  4.51s/it]C:\\Users\\Admin\\anaconda3\\envs\\mossf\\lib\\site-packages\\sklearn\\base.py:493: FutureWarning: The feature names should match those that were passed during fit. Starting version 1.2, an error will be raised.\n",
      "Feature names unseen at fit time:\n",
      "- rainfall\n",
      "Feature names seen at fit time, yet now missing:\n",
      "- radar_rainfall\n",
      "\n",
      "  warnings.warn(message, FutureWarning)\n"
     ]
    },
    {
     "name": "stdout",
     "output_type": "stream",
     "text": [
      "\n",
      "Processing file: D:\\1Yang\\0Research\\0_2566_radar_mosaic\\00mos_chaophraya\\00run_batch_acchr_codes\\2output\\0Hourly\\0Sontihn_RF\\0CBB_Pulse\\0output_mosaic\\2018071604_2000m.tif\n",
      "Warning: CRS not defined for D:\\1Yang\\0Research\\0_2566_radar_mosaic\\00mos_chaophraya\\00run_batch_acchr_codes\\2output\\0Hourly\\0Sontihn_RF\\0CBB_Pulse\\0output_mosaic\\2018071604_2000m.tif. Using WGS84 as default.\n",
      "Features shape: (250000, 3)\n",
      "NaN values before imputation: 114372\n",
      "NaN values after imputation: 114372\n",
      "Original data - Mean: 0.04, Max: 9.85\n",
      "Corrected data - Mean: 0.50, Max: 22.88\n"
     ]
    },
    {
     "name": "stderr",
     "output_type": "stream",
     "text": [
      "  9%|███████▌                                                                         | 22/235 [01:40<15:58,  4.50s/it]C:\\Users\\Admin\\anaconda3\\envs\\mossf\\lib\\site-packages\\sklearn\\base.py:493: FutureWarning: The feature names should match those that were passed during fit. Starting version 1.2, an error will be raised.\n",
      "Feature names unseen at fit time:\n",
      "- rainfall\n",
      "Feature names seen at fit time, yet now missing:\n",
      "- radar_rainfall\n",
      "\n",
      "  warnings.warn(message, FutureWarning)\n"
     ]
    },
    {
     "name": "stdout",
     "output_type": "stream",
     "text": [
      "\n",
      "Processing file: D:\\1Yang\\0Research\\0_2566_radar_mosaic\\00mos_chaophraya\\00run_batch_acchr_codes\\2output\\0Hourly\\0Sontihn_RF\\0CBB_Pulse\\0output_mosaic\\2018071605_2000m.tif\n",
      "Warning: CRS not defined for D:\\1Yang\\0Research\\0_2566_radar_mosaic\\00mos_chaophraya\\00run_batch_acchr_codes\\2output\\0Hourly\\0Sontihn_RF\\0CBB_Pulse\\0output_mosaic\\2018071605_2000m.tif. Using WGS84 as default.\n",
      "Features shape: (250000, 3)\n",
      "NaN values before imputation: 114402\n",
      "NaN values after imputation: 114402\n",
      "Original data - Mean: 0.03, Max: 6.52\n",
      "Corrected data - Mean: 0.47, Max: 17.22\n"
     ]
    },
    {
     "name": "stderr",
     "output_type": "stream",
     "text": [
      " 10%|███████▉                                                                         | 23/235 [01:44<15:46,  4.47s/it]C:\\Users\\Admin\\anaconda3\\envs\\mossf\\lib\\site-packages\\sklearn\\base.py:493: FutureWarning: The feature names should match those that were passed during fit. Starting version 1.2, an error will be raised.\n",
      "Feature names unseen at fit time:\n",
      "- rainfall\n",
      "Feature names seen at fit time, yet now missing:\n",
      "- radar_rainfall\n",
      "\n",
      "  warnings.warn(message, FutureWarning)\n"
     ]
    },
    {
     "name": "stdout",
     "output_type": "stream",
     "text": [
      "\n",
      "Processing file: D:\\1Yang\\0Research\\0_2566_radar_mosaic\\00mos_chaophraya\\00run_batch_acchr_codes\\2output\\0Hourly\\0Sontihn_RF\\0CBB_Pulse\\0output_mosaic\\2018071606_2000m.tif\n",
      "Warning: CRS not defined for D:\\1Yang\\0Research\\0_2566_radar_mosaic\\00mos_chaophraya\\00run_batch_acchr_codes\\2output\\0Hourly\\0Sontihn_RF\\0CBB_Pulse\\0output_mosaic\\2018071606_2000m.tif. Using WGS84 as default.\n",
      "Features shape: (250000, 3)\n",
      "NaN values before imputation: 114412\n",
      "NaN values after imputation: 114412\n",
      "Original data - Mean: 0.02, Max: 9.90\n",
      "Corrected data - Mean: 0.43, Max: 22.88\n"
     ]
    },
    {
     "name": "stderr",
     "output_type": "stream",
     "text": [
      " 10%|████████▎                                                                        | 24/235 [01:49<15:36,  4.44s/it]C:\\Users\\Admin\\anaconda3\\envs\\mossf\\lib\\site-packages\\sklearn\\base.py:493: FutureWarning: The feature names should match those that were passed during fit. Starting version 1.2, an error will be raised.\n",
      "Feature names unseen at fit time:\n",
      "- rainfall\n",
      "Feature names seen at fit time, yet now missing:\n",
      "- radar_rainfall\n",
      "\n",
      "  warnings.warn(message, FutureWarning)\n"
     ]
    },
    {
     "name": "stdout",
     "output_type": "stream",
     "text": [
      "\n",
      "Processing file: D:\\1Yang\\0Research\\0_2566_radar_mosaic\\00mos_chaophraya\\00run_batch_acchr_codes\\2output\\0Hourly\\0Sontihn_RF\\0CBB_Pulse\\0output_mosaic\\2018071607_2000m.tif\n",
      "Warning: CRS not defined for D:\\1Yang\\0Research\\0_2566_radar_mosaic\\00mos_chaophraya\\00run_batch_acchr_codes\\2output\\0Hourly\\0Sontihn_RF\\0CBB_Pulse\\0output_mosaic\\2018071607_2000m.tif. Using WGS84 as default.\n",
      "Features shape: (250000, 3)\n",
      "NaN values before imputation: 114338\n",
      "NaN values after imputation: 114338\n",
      "Original data - Mean: 0.02, Max: 6.09\n",
      "Corrected data - Mean: 0.50, Max: 17.22\n"
     ]
    },
    {
     "name": "stderr",
     "output_type": "stream",
     "text": [
      " 11%|████████▌                                                                        | 25/235 [01:53<15:30,  4.43s/it]C:\\Users\\Admin\\anaconda3\\envs\\mossf\\lib\\site-packages\\sklearn\\base.py:493: FutureWarning: The feature names should match those that were passed during fit. Starting version 1.2, an error will be raised.\n",
      "Feature names unseen at fit time:\n",
      "- rainfall\n",
      "Feature names seen at fit time, yet now missing:\n",
      "- radar_rainfall\n",
      "\n",
      "  warnings.warn(message, FutureWarning)\n"
     ]
    },
    {
     "name": "stdout",
     "output_type": "stream",
     "text": [
      "\n",
      "Processing file: D:\\1Yang\\0Research\\0_2566_radar_mosaic\\00mos_chaophraya\\00run_batch_acchr_codes\\2output\\0Hourly\\0Sontihn_RF\\0CBB_Pulse\\0output_mosaic\\2018071608_2000m.tif\n",
      "Warning: CRS not defined for D:\\1Yang\\0Research\\0_2566_radar_mosaic\\00mos_chaophraya\\00run_batch_acchr_codes\\2output\\0Hourly\\0Sontihn_RF\\0CBB_Pulse\\0output_mosaic\\2018071608_2000m.tif. Using WGS84 as default.\n",
      "Features shape: (250000, 3)\n",
      "NaN values before imputation: 114414\n",
      "NaN values after imputation: 114414\n",
      "Original data - Mean: 0.02, Max: 4.11\n",
      "Corrected data - Mean: 0.44, Max: 16.63\n"
     ]
    },
    {
     "name": "stderr",
     "output_type": "stream",
     "text": [
      " 11%|████████▉                                                                        | 26/235 [01:57<15:19,  4.40s/it]C:\\Users\\Admin\\anaconda3\\envs\\mossf\\lib\\site-packages\\sklearn\\base.py:493: FutureWarning: The feature names should match those that were passed during fit. Starting version 1.2, an error will be raised.\n",
      "Feature names unseen at fit time:\n",
      "- rainfall\n",
      "Feature names seen at fit time, yet now missing:\n",
      "- radar_rainfall\n",
      "\n",
      "  warnings.warn(message, FutureWarning)\n"
     ]
    },
    {
     "name": "stdout",
     "output_type": "stream",
     "text": [
      "\n",
      "Processing file: D:\\1Yang\\0Research\\0_2566_radar_mosaic\\00mos_chaophraya\\00run_batch_acchr_codes\\2output\\0Hourly\\0Sontihn_RF\\0CBB_Pulse\\0output_mosaic\\2018071609_2000m.tif\n",
      "Warning: CRS not defined for D:\\1Yang\\0Research\\0_2566_radar_mosaic\\00mos_chaophraya\\00run_batch_acchr_codes\\2output\\0Hourly\\0Sontihn_RF\\0CBB_Pulse\\0output_mosaic\\2018071609_2000m.tif. Using WGS84 as default.\n",
      "Features shape: (250000, 3)\n",
      "NaN values before imputation: 114544\n",
      "NaN values after imputation: 114544\n",
      "Original data - Mean: 0.03, Max: 5.08\n",
      "Corrected data - Mean: 0.45, Max: 17.22\n"
     ]
    },
    {
     "name": "stderr",
     "output_type": "stream",
     "text": [
      " 11%|█████████▎                                                                       | 27/235 [02:02<15:15,  4.40s/it]C:\\Users\\Admin\\anaconda3\\envs\\mossf\\lib\\site-packages\\sklearn\\base.py:493: FutureWarning: The feature names should match those that were passed during fit. Starting version 1.2, an error will be raised.\n",
      "Feature names unseen at fit time:\n",
      "- rainfall\n",
      "Feature names seen at fit time, yet now missing:\n",
      "- radar_rainfall\n",
      "\n",
      "  warnings.warn(message, FutureWarning)\n"
     ]
    },
    {
     "name": "stdout",
     "output_type": "stream",
     "text": [
      "\n",
      "Processing file: D:\\1Yang\\0Research\\0_2566_radar_mosaic\\00mos_chaophraya\\00run_batch_acchr_codes\\2output\\0Hourly\\0Sontihn_RF\\0CBB_Pulse\\0output_mosaic\\2018071610_2000m.tif\n",
      "Warning: CRS not defined for D:\\1Yang\\0Research\\0_2566_radar_mosaic\\00mos_chaophraya\\00run_batch_acchr_codes\\2output\\0Hourly\\0Sontihn_RF\\0CBB_Pulse\\0output_mosaic\\2018071610_2000m.tif. Using WGS84 as default.\n",
      "Features shape: (250000, 3)\n",
      "NaN values before imputation: 114406\n",
      "NaN values after imputation: 114406\n",
      "Original data - Mean: 0.03, Max: 5.26\n",
      "Corrected data - Mean: 0.59, Max: 17.22\n"
     ]
    },
    {
     "name": "stderr",
     "output_type": "stream",
     "text": [
      " 12%|█████████▋                                                                       | 28/235 [02:06<15:13,  4.41s/it]C:\\Users\\Admin\\anaconda3\\envs\\mossf\\lib\\site-packages\\sklearn\\base.py:493: FutureWarning: The feature names should match those that were passed during fit. Starting version 1.2, an error will be raised.\n",
      "Feature names unseen at fit time:\n",
      "- rainfall\n",
      "Feature names seen at fit time, yet now missing:\n",
      "- radar_rainfall\n",
      "\n",
      "  warnings.warn(message, FutureWarning)\n"
     ]
    },
    {
     "name": "stdout",
     "output_type": "stream",
     "text": [
      "\n",
      "Processing file: D:\\1Yang\\0Research\\0_2566_radar_mosaic\\00mos_chaophraya\\00run_batch_acchr_codes\\2output\\0Hourly\\0Sontihn_RF\\0CBB_Pulse\\0output_mosaic\\2018071611_2000m.tif\n",
      "Warning: CRS not defined for D:\\1Yang\\0Research\\0_2566_radar_mosaic\\00mos_chaophraya\\00run_batch_acchr_codes\\2output\\0Hourly\\0Sontihn_RF\\0CBB_Pulse\\0output_mosaic\\2018071611_2000m.tif. Using WGS84 as default.\n",
      "Features shape: (250000, 3)\n",
      "NaN values before imputation: 114346\n",
      "NaN values after imputation: 114346\n",
      "Original data - Mean: 0.02, Max: 9.33\n",
      "Corrected data - Mean: 0.53, Max: 22.88\n"
     ]
    },
    {
     "name": "stderr",
     "output_type": "stream",
     "text": [
      " 12%|█████████▉                                                                       | 29/235 [02:11<15:10,  4.42s/it]C:\\Users\\Admin\\anaconda3\\envs\\mossf\\lib\\site-packages\\sklearn\\base.py:493: FutureWarning: The feature names should match those that were passed during fit. Starting version 1.2, an error will be raised.\n",
      "Feature names unseen at fit time:\n",
      "- rainfall\n",
      "Feature names seen at fit time, yet now missing:\n",
      "- radar_rainfall\n",
      "\n",
      "  warnings.warn(message, FutureWarning)\n"
     ]
    },
    {
     "name": "stdout",
     "output_type": "stream",
     "text": [
      "\n",
      "Processing file: D:\\1Yang\\0Research\\0_2566_radar_mosaic\\00mos_chaophraya\\00run_batch_acchr_codes\\2output\\0Hourly\\0Sontihn_RF\\0CBB_Pulse\\0output_mosaic\\2018071612_2000m.tif\n",
      "Warning: CRS not defined for D:\\1Yang\\0Research\\0_2566_radar_mosaic\\00mos_chaophraya\\00run_batch_acchr_codes\\2output\\0Hourly\\0Sontihn_RF\\0CBB_Pulse\\0output_mosaic\\2018071612_2000m.tif. Using WGS84 as default.\n",
      "Features shape: (250000, 3)\n",
      "NaN values before imputation: 114348\n",
      "NaN values after imputation: 114348\n",
      "Original data - Mean: 0.09, Max: 25.03\n",
      "Corrected data - Mean: 0.71, Max: 49.43\n"
     ]
    },
    {
     "name": "stderr",
     "output_type": "stream",
     "text": [
      " 13%|██████████▎                                                                      | 30/235 [02:15<15:08,  4.43s/it]C:\\Users\\Admin\\anaconda3\\envs\\mossf\\lib\\site-packages\\sklearn\\base.py:493: FutureWarning: The feature names should match those that were passed during fit. Starting version 1.2, an error will be raised.\n",
      "Feature names unseen at fit time:\n",
      "- rainfall\n",
      "Feature names seen at fit time, yet now missing:\n",
      "- radar_rainfall\n",
      "\n",
      "  warnings.warn(message, FutureWarning)\n"
     ]
    },
    {
     "name": "stdout",
     "output_type": "stream",
     "text": [
      "\n",
      "Processing file: D:\\1Yang\\0Research\\0_2566_radar_mosaic\\00mos_chaophraya\\00run_batch_acchr_codes\\2output\\0Hourly\\0Sontihn_RF\\0CBB_Pulse\\0output_mosaic\\2018071613_2000m.tif\n",
      "Warning: CRS not defined for D:\\1Yang\\0Research\\0_2566_radar_mosaic\\00mos_chaophraya\\00run_batch_acchr_codes\\2output\\0Hourly\\0Sontihn_RF\\0CBB_Pulse\\0output_mosaic\\2018071613_2000m.tif. Using WGS84 as default.\n",
      "Features shape: (250000, 3)\n",
      "NaN values before imputation: 114305\n",
      "NaN values after imputation: 114305\n",
      "Original data - Mean: 0.07, Max: 23.93\n",
      "Corrected data - Mean: 0.82, Max: 49.43\n"
     ]
    },
    {
     "name": "stderr",
     "output_type": "stream",
     "text": [
      " 13%|██████████▋                                                                      | 31/235 [02:20<15:03,  4.43s/it]C:\\Users\\Admin\\anaconda3\\envs\\mossf\\lib\\site-packages\\sklearn\\base.py:493: FutureWarning: The feature names should match those that were passed during fit. Starting version 1.2, an error will be raised.\n",
      "Feature names unseen at fit time:\n",
      "- rainfall\n",
      "Feature names seen at fit time, yet now missing:\n",
      "- radar_rainfall\n",
      "\n",
      "  warnings.warn(message, FutureWarning)\n"
     ]
    },
    {
     "name": "stdout",
     "output_type": "stream",
     "text": [
      "\n",
      "Processing file: D:\\1Yang\\0Research\\0_2566_radar_mosaic\\00mos_chaophraya\\00run_batch_acchr_codes\\2output\\0Hourly\\0Sontihn_RF\\0CBB_Pulse\\0output_mosaic\\2018071614_2000m.tif\n",
      "Warning: CRS not defined for D:\\1Yang\\0Research\\0_2566_radar_mosaic\\00mos_chaophraya\\00run_batch_acchr_codes\\2output\\0Hourly\\0Sontihn_RF\\0CBB_Pulse\\0output_mosaic\\2018071614_2000m.tif. Using WGS84 as default.\n",
      "Features shape: (250000, 3)\n",
      "NaN values before imputation: 114433\n",
      "NaN values after imputation: 114433\n",
      "Original data - Mean: 0.11, Max: 25.52\n",
      "Corrected data - Mean: 0.96, Max: 49.43\n"
     ]
    },
    {
     "name": "stderr",
     "output_type": "stream",
     "text": [
      " 14%|███████████                                                                      | 32/235 [02:24<15:01,  4.44s/it]C:\\Users\\Admin\\anaconda3\\envs\\mossf\\lib\\site-packages\\sklearn\\base.py:493: FutureWarning: The feature names should match those that were passed during fit. Starting version 1.2, an error will be raised.\n",
      "Feature names unseen at fit time:\n",
      "- rainfall\n",
      "Feature names seen at fit time, yet now missing:\n",
      "- radar_rainfall\n",
      "\n",
      "  warnings.warn(message, FutureWarning)\n"
     ]
    },
    {
     "name": "stdout",
     "output_type": "stream",
     "text": [
      "\n",
      "Processing file: D:\\1Yang\\0Research\\0_2566_radar_mosaic\\00mos_chaophraya\\00run_batch_acchr_codes\\2output\\0Hourly\\0Sontihn_RF\\0CBB_Pulse\\0output_mosaic\\2018071615_2000m.tif\n",
      "Warning: CRS not defined for D:\\1Yang\\0Research\\0_2566_radar_mosaic\\00mos_chaophraya\\00run_batch_acchr_codes\\2output\\0Hourly\\0Sontihn_RF\\0CBB_Pulse\\0output_mosaic\\2018071615_2000m.tif. Using WGS84 as default.\n",
      "Features shape: (250000, 3)\n",
      "NaN values before imputation: 114343\n",
      "NaN values after imputation: 114343\n",
      "Original data - Mean: 0.15, Max: 48.53\n",
      "Corrected data - Mean: 1.03, Max: 49.43\n"
     ]
    },
    {
     "name": "stderr",
     "output_type": "stream",
     "text": [
      " 14%|███████████▎                                                                     | 33/235 [02:29<14:59,  4.45s/it]C:\\Users\\Admin\\anaconda3\\envs\\mossf\\lib\\site-packages\\sklearn\\base.py:493: FutureWarning: The feature names should match those that were passed during fit. Starting version 1.2, an error will be raised.\n",
      "Feature names unseen at fit time:\n",
      "- rainfall\n",
      "Feature names seen at fit time, yet now missing:\n",
      "- radar_rainfall\n",
      "\n",
      "  warnings.warn(message, FutureWarning)\n"
     ]
    },
    {
     "name": "stdout",
     "output_type": "stream",
     "text": [
      "\n",
      "Processing file: D:\\1Yang\\0Research\\0_2566_radar_mosaic\\00mos_chaophraya\\00run_batch_acchr_codes\\2output\\0Hourly\\0Sontihn_RF\\0CBB_Pulse\\0output_mosaic\\2018071616_2000m.tif\n",
      "Warning: CRS not defined for D:\\1Yang\\0Research\\0_2566_radar_mosaic\\00mos_chaophraya\\00run_batch_acchr_codes\\2output\\0Hourly\\0Sontihn_RF\\0CBB_Pulse\\0output_mosaic\\2018071616_2000m.tif. Using WGS84 as default.\n",
      "Features shape: (250000, 3)\n",
      "NaN values before imputation: 114309\n",
      "NaN values after imputation: 114309\n",
      "Original data - Mean: 0.18, Max: 57.60\n",
      "Corrected data - Mean: 1.04, Max: 49.43\n"
     ]
    },
    {
     "name": "stderr",
     "output_type": "stream",
     "text": [
      " 14%|███████████▋                                                                     | 34/235 [02:33<14:55,  4.45s/it]C:\\Users\\Admin\\anaconda3\\envs\\mossf\\lib\\site-packages\\sklearn\\base.py:493: FutureWarning: The feature names should match those that were passed during fit. Starting version 1.2, an error will be raised.\n",
      "Feature names unseen at fit time:\n",
      "- rainfall\n",
      "Feature names seen at fit time, yet now missing:\n",
      "- radar_rainfall\n",
      "\n",
      "  warnings.warn(message, FutureWarning)\n"
     ]
    },
    {
     "name": "stdout",
     "output_type": "stream",
     "text": [
      "\n",
      "Processing file: D:\\1Yang\\0Research\\0_2566_radar_mosaic\\00mos_chaophraya\\00run_batch_acchr_codes\\2output\\0Hourly\\0Sontihn_RF\\0CBB_Pulse\\0output_mosaic\\2018071617_2000m.tif\n",
      "Warning: CRS not defined for D:\\1Yang\\0Research\\0_2566_radar_mosaic\\00mos_chaophraya\\00run_batch_acchr_codes\\2output\\0Hourly\\0Sontihn_RF\\0CBB_Pulse\\0output_mosaic\\2018071617_2000m.tif. Using WGS84 as default.\n",
      "Features shape: (250000, 3)\n",
      "NaN values before imputation: 114362\n",
      "NaN values after imputation: 114362\n",
      "Original data - Mean: 0.16, Max: 56.44\n",
      "Corrected data - Mean: 0.92, Max: 49.43\n"
     ]
    },
    {
     "name": "stderr",
     "output_type": "stream",
     "text": [
      " 15%|████████████                                                                     | 35/235 [02:38<14:51,  4.46s/it]C:\\Users\\Admin\\anaconda3\\envs\\mossf\\lib\\site-packages\\sklearn\\base.py:493: FutureWarning: The feature names should match those that were passed during fit. Starting version 1.2, an error will be raised.\n",
      "Feature names unseen at fit time:\n",
      "- rainfall\n",
      "Feature names seen at fit time, yet now missing:\n",
      "- radar_rainfall\n",
      "\n",
      "  warnings.warn(message, FutureWarning)\n"
     ]
    },
    {
     "name": "stdout",
     "output_type": "stream",
     "text": [
      "\n",
      "Processing file: D:\\1Yang\\0Research\\0_2566_radar_mosaic\\00mos_chaophraya\\00run_batch_acchr_codes\\2output\\0Hourly\\0Sontihn_RF\\0CBB_Pulse\\0output_mosaic\\2018071618_2000m.tif\n",
      "Warning: CRS not defined for D:\\1Yang\\0Research\\0_2566_radar_mosaic\\00mos_chaophraya\\00run_batch_acchr_codes\\2output\\0Hourly\\0Sontihn_RF\\0CBB_Pulse\\0output_mosaic\\2018071618_2000m.tif. Using WGS84 as default.\n",
      "Features shape: (250000, 3)\n",
      "NaN values before imputation: 114421\n",
      "NaN values after imputation: 114421\n",
      "Original data - Mean: 0.14, Max: 31.49\n",
      "Corrected data - Mean: 0.83, Max: 49.43\n"
     ]
    },
    {
     "name": "stderr",
     "output_type": "stream",
     "text": [
      " 15%|████████████▍                                                                    | 36/235 [02:42<14:47,  4.46s/it]C:\\Users\\Admin\\anaconda3\\envs\\mossf\\lib\\site-packages\\sklearn\\base.py:493: FutureWarning: The feature names should match those that were passed during fit. Starting version 1.2, an error will be raised.\n",
      "Feature names unseen at fit time:\n",
      "- rainfall\n",
      "Feature names seen at fit time, yet now missing:\n",
      "- radar_rainfall\n",
      "\n",
      "  warnings.warn(message, FutureWarning)\n"
     ]
    },
    {
     "name": "stdout",
     "output_type": "stream",
     "text": [
      "\n",
      "Processing file: D:\\1Yang\\0Research\\0_2566_radar_mosaic\\00mos_chaophraya\\00run_batch_acchr_codes\\2output\\0Hourly\\0Sontihn_RF\\0CBB_Pulse\\0output_mosaic\\2018071619_2000m.tif\n",
      "Warning: CRS not defined for D:\\1Yang\\0Research\\0_2566_radar_mosaic\\00mos_chaophraya\\00run_batch_acchr_codes\\2output\\0Hourly\\0Sontihn_RF\\0CBB_Pulse\\0output_mosaic\\2018071619_2000m.tif. Using WGS84 as default.\n",
      "Features shape: (250000, 3)\n",
      "NaN values before imputation: 114299\n",
      "NaN values after imputation: 114299\n",
      "Original data - Mean: 0.16, Max: 25.64\n",
      "Corrected data - Mean: 0.92, Max: 49.43\n"
     ]
    },
    {
     "name": "stderr",
     "output_type": "stream",
     "text": [
      " 16%|████████████▊                                                                    | 37/235 [02:46<14:42,  4.46s/it]C:\\Users\\Admin\\anaconda3\\envs\\mossf\\lib\\site-packages\\sklearn\\base.py:493: FutureWarning: The feature names should match those that were passed during fit. Starting version 1.2, an error will be raised.\n",
      "Feature names unseen at fit time:\n",
      "- rainfall\n",
      "Feature names seen at fit time, yet now missing:\n",
      "- radar_rainfall\n",
      "\n",
      "  warnings.warn(message, FutureWarning)\n"
     ]
    },
    {
     "name": "stdout",
     "output_type": "stream",
     "text": [
      "\n",
      "Processing file: D:\\1Yang\\0Research\\0_2566_radar_mosaic\\00mos_chaophraya\\00run_batch_acchr_codes\\2output\\0Hourly\\0Sontihn_RF\\0CBB_Pulse\\0output_mosaic\\2018071620_2000m.tif\n",
      "Warning: CRS not defined for D:\\1Yang\\0Research\\0_2566_radar_mosaic\\00mos_chaophraya\\00run_batch_acchr_codes\\2output\\0Hourly\\0Sontihn_RF\\0CBB_Pulse\\0output_mosaic\\2018071620_2000m.tif. Using WGS84 as default.\n",
      "Features shape: (250000, 3)\n",
      "NaN values before imputation: 114448\n",
      "NaN values after imputation: 114448\n",
      "Original data - Mean: 0.11, Max: 55.88\n",
      "Corrected data - Mean: 0.86, Max: 49.43\n"
     ]
    },
    {
     "name": "stderr",
     "output_type": "stream",
     "text": [
      " 16%|█████████████                                                                    | 38/235 [02:51<14:40,  4.47s/it]C:\\Users\\Admin\\anaconda3\\envs\\mossf\\lib\\site-packages\\sklearn\\base.py:493: FutureWarning: The feature names should match those that were passed during fit. Starting version 1.2, an error will be raised.\n",
      "Feature names unseen at fit time:\n",
      "- rainfall\n",
      "Feature names seen at fit time, yet now missing:\n",
      "- radar_rainfall\n",
      "\n",
      "  warnings.warn(message, FutureWarning)\n"
     ]
    },
    {
     "name": "stdout",
     "output_type": "stream",
     "text": [
      "\n",
      "Processing file: D:\\1Yang\\0Research\\0_2566_radar_mosaic\\00mos_chaophraya\\00run_batch_acchr_codes\\2output\\0Hourly\\0Sontihn_RF\\0CBB_Pulse\\0output_mosaic\\2018071621_2000m.tif\n",
      "Warning: CRS not defined for D:\\1Yang\\0Research\\0_2566_radar_mosaic\\00mos_chaophraya\\00run_batch_acchr_codes\\2output\\0Hourly\\0Sontihn_RF\\0CBB_Pulse\\0output_mosaic\\2018071621_2000m.tif. Using WGS84 as default.\n",
      "Features shape: (250000, 3)\n",
      "NaN values before imputation: 114333\n",
      "NaN values after imputation: 114333\n",
      "Original data - Mean: 0.03, Max: 18.64\n",
      "Corrected data - Mean: 0.73, Max: 49.43\n"
     ]
    },
    {
     "name": "stderr",
     "output_type": "stream",
     "text": [
      " 17%|█████████████▍                                                                   | 39/235 [02:55<14:35,  4.47s/it]C:\\Users\\Admin\\anaconda3\\envs\\mossf\\lib\\site-packages\\sklearn\\base.py:493: FutureWarning: The feature names should match those that were passed during fit. Starting version 1.2, an error will be raised.\n",
      "Feature names unseen at fit time:\n",
      "- rainfall\n",
      "Feature names seen at fit time, yet now missing:\n",
      "- radar_rainfall\n",
      "\n",
      "  warnings.warn(message, FutureWarning)\n"
     ]
    },
    {
     "name": "stdout",
     "output_type": "stream",
     "text": [
      "\n",
      "Processing file: D:\\1Yang\\0Research\\0_2566_radar_mosaic\\00mos_chaophraya\\00run_batch_acchr_codes\\2output\\0Hourly\\0Sontihn_RF\\0CBB_Pulse\\0output_mosaic\\2018071622_2000m.tif\n",
      "Warning: CRS not defined for D:\\1Yang\\0Research\\0_2566_radar_mosaic\\00mos_chaophraya\\00run_batch_acchr_codes\\2output\\0Hourly\\0Sontihn_RF\\0CBB_Pulse\\0output_mosaic\\2018071622_2000m.tif. Using WGS84 as default.\n",
      "Features shape: (250000, 3)\n",
      "NaN values before imputation: 114309\n",
      "NaN values after imputation: 114309\n",
      "Original data - Mean: 0.03, Max: 14.18\n",
      "Corrected data - Mean: 0.61, Max: 49.43\n"
     ]
    },
    {
     "name": "stderr",
     "output_type": "stream",
     "text": [
      " 17%|█████████████▊                                                                   | 40/235 [03:00<14:32,  4.47s/it]C:\\Users\\Admin\\anaconda3\\envs\\mossf\\lib\\site-packages\\sklearn\\base.py:493: FutureWarning: The feature names should match those that were passed during fit. Starting version 1.2, an error will be raised.\n",
      "Feature names unseen at fit time:\n",
      "- rainfall\n",
      "Feature names seen at fit time, yet now missing:\n",
      "- radar_rainfall\n",
      "\n",
      "  warnings.warn(message, FutureWarning)\n"
     ]
    },
    {
     "name": "stdout",
     "output_type": "stream",
     "text": [
      "\n",
      "Processing file: D:\\1Yang\\0Research\\0_2566_radar_mosaic\\00mos_chaophraya\\00run_batch_acchr_codes\\2output\\0Hourly\\0Sontihn_RF\\0CBB_Pulse\\0output_mosaic\\2018071623_2000m.tif\n",
      "Warning: CRS not defined for D:\\1Yang\\0Research\\0_2566_radar_mosaic\\00mos_chaophraya\\00run_batch_acchr_codes\\2output\\0Hourly\\0Sontihn_RF\\0CBB_Pulse\\0output_mosaic\\2018071623_2000m.tif. Using WGS84 as default.\n",
      "Features shape: (250000, 3)\n",
      "NaN values before imputation: 114367\n",
      "NaN values after imputation: 114367\n",
      "Original data - Mean: 0.03, Max: 28.18\n",
      "Corrected data - Mean: 0.56, Max: 49.43\n"
     ]
    },
    {
     "name": "stderr",
     "output_type": "stream",
     "text": [
      " 17%|██████████████▏                                                                  | 41/235 [03:04<14:29,  4.48s/it]C:\\Users\\Admin\\anaconda3\\envs\\mossf\\lib\\site-packages\\sklearn\\base.py:493: FutureWarning: The feature names should match those that were passed during fit. Starting version 1.2, an error will be raised.\n",
      "Feature names unseen at fit time:\n",
      "- rainfall\n",
      "Feature names seen at fit time, yet now missing:\n",
      "- radar_rainfall\n",
      "\n",
      "  warnings.warn(message, FutureWarning)\n"
     ]
    },
    {
     "name": "stdout",
     "output_type": "stream",
     "text": [
      "\n",
      "Processing file: D:\\1Yang\\0Research\\0_2566_radar_mosaic\\00mos_chaophraya\\00run_batch_acchr_codes\\2output\\0Hourly\\0Sontihn_RF\\0CBB_Pulse\\0output_mosaic\\2018071700_2000m.tif\n",
      "Warning: CRS not defined for D:\\1Yang\\0Research\\0_2566_radar_mosaic\\00mos_chaophraya\\00run_batch_acchr_codes\\2output\\0Hourly\\0Sontihn_RF\\0CBB_Pulse\\0output_mosaic\\2018071700_2000m.tif. Using WGS84 as default.\n",
      "Features shape: (250000, 3)\n",
      "NaN values before imputation: 114325\n",
      "NaN values after imputation: 114325\n",
      "Original data - Mean: 0.03, Max: 11.89\n",
      "Corrected data - Mean: 0.59, Max: 48.65\n"
     ]
    },
    {
     "name": "stderr",
     "output_type": "stream",
     "text": [
      " 18%|██████████████▍                                                                  | 42/235 [03:09<14:25,  4.48s/it]C:\\Users\\Admin\\anaconda3\\envs\\mossf\\lib\\site-packages\\sklearn\\base.py:493: FutureWarning: The feature names should match those that were passed during fit. Starting version 1.2, an error will be raised.\n",
      "Feature names unseen at fit time:\n",
      "- rainfall\n",
      "Feature names seen at fit time, yet now missing:\n",
      "- radar_rainfall\n",
      "\n",
      "  warnings.warn(message, FutureWarning)\n"
     ]
    },
    {
     "name": "stdout",
     "output_type": "stream",
     "text": [
      "\n",
      "Processing file: D:\\1Yang\\0Research\\0_2566_radar_mosaic\\00mos_chaophraya\\00run_batch_acchr_codes\\2output\\0Hourly\\0Sontihn_RF\\0CBB_Pulse\\0output_mosaic\\2018071701_2000m.tif\n",
      "Warning: CRS not defined for D:\\1Yang\\0Research\\0_2566_radar_mosaic\\00mos_chaophraya\\00run_batch_acchr_codes\\2output\\0Hourly\\0Sontihn_RF\\0CBB_Pulse\\0output_mosaic\\2018071701_2000m.tif. Using WGS84 as default.\n",
      "Features shape: (250000, 3)\n",
      "NaN values before imputation: 114311\n",
      "NaN values after imputation: 114311\n",
      "Original data - Mean: 0.03, Max: 9.19\n",
      "Corrected data - Mean: 0.63, Max: 22.88\n"
     ]
    },
    {
     "name": "stderr",
     "output_type": "stream",
     "text": [
      " 18%|██████████████▊                                                                  | 43/235 [03:13<14:20,  4.48s/it]C:\\Users\\Admin\\anaconda3\\envs\\mossf\\lib\\site-packages\\sklearn\\base.py:493: FutureWarning: The feature names should match those that were passed during fit. Starting version 1.2, an error will be raised.\n",
      "Feature names unseen at fit time:\n",
      "- rainfall\n",
      "Feature names seen at fit time, yet now missing:\n",
      "- radar_rainfall\n",
      "\n",
      "  warnings.warn(message, FutureWarning)\n"
     ]
    },
    {
     "name": "stdout",
     "output_type": "stream",
     "text": [
      "\n",
      "Processing file: D:\\1Yang\\0Research\\0_2566_radar_mosaic\\00mos_chaophraya\\00run_batch_acchr_codes\\2output\\0Hourly\\0Sontihn_RF\\0CBB_Pulse\\0output_mosaic\\2018071702_2000m.tif\n",
      "Warning: CRS not defined for D:\\1Yang\\0Research\\0_2566_radar_mosaic\\00mos_chaophraya\\00run_batch_acchr_codes\\2output\\0Hourly\\0Sontihn_RF\\0CBB_Pulse\\0output_mosaic\\2018071702_2000m.tif. Using WGS84 as default.\n",
      "Features shape: (250000, 3)\n",
      "NaN values before imputation: 114369\n",
      "NaN values after imputation: 114369\n",
      "Original data - Mean: 0.04, Max: 7.47\n",
      "Corrected data - Mean: 0.65, Max: 18.87\n"
     ]
    },
    {
     "name": "stderr",
     "output_type": "stream",
     "text": [
      " 19%|███████████████▏                                                                 | 44/235 [03:18<14:18,  4.50s/it]C:\\Users\\Admin\\anaconda3\\envs\\mossf\\lib\\site-packages\\sklearn\\base.py:493: FutureWarning: The feature names should match those that were passed during fit. Starting version 1.2, an error will be raised.\n",
      "Feature names unseen at fit time:\n",
      "- rainfall\n",
      "Feature names seen at fit time, yet now missing:\n",
      "- radar_rainfall\n",
      "\n",
      "  warnings.warn(message, FutureWarning)\n"
     ]
    },
    {
     "name": "stdout",
     "output_type": "stream",
     "text": [
      "\n",
      "Processing file: D:\\1Yang\\0Research\\0_2566_radar_mosaic\\00mos_chaophraya\\00run_batch_acchr_codes\\2output\\0Hourly\\0Sontihn_RF\\0CBB_Pulse\\0output_mosaic\\2018071703_2000m.tif\n",
      "Warning: CRS not defined for D:\\1Yang\\0Research\\0_2566_radar_mosaic\\00mos_chaophraya\\00run_batch_acchr_codes\\2output\\0Hourly\\0Sontihn_RF\\0CBB_Pulse\\0output_mosaic\\2018071703_2000m.tif. Using WGS84 as default.\n",
      "Features shape: (250000, 3)\n",
      "NaN values before imputation: 114294\n",
      "NaN values after imputation: 114294\n",
      "Original data - Mean: 0.04, Max: 16.87\n",
      "Corrected data - Mean: 0.76, Max: 49.43\n"
     ]
    },
    {
     "name": "stderr",
     "output_type": "stream",
     "text": [
      " 19%|███████████████▌                                                                 | 45/235 [03:22<14:19,  4.52s/it]C:\\Users\\Admin\\anaconda3\\envs\\mossf\\lib\\site-packages\\sklearn\\base.py:493: FutureWarning: The feature names should match those that were passed during fit. Starting version 1.2, an error will be raised.\n",
      "Feature names unseen at fit time:\n",
      "- rainfall\n",
      "Feature names seen at fit time, yet now missing:\n",
      "- radar_rainfall\n",
      "\n",
      "  warnings.warn(message, FutureWarning)\n"
     ]
    },
    {
     "name": "stdout",
     "output_type": "stream",
     "text": [
      "\n",
      "Processing file: D:\\1Yang\\0Research\\0_2566_radar_mosaic\\00mos_chaophraya\\00run_batch_acchr_codes\\2output\\0Hourly\\0Sontihn_RF\\0CBB_Pulse\\0output_mosaic\\2018071704_2000m.tif\n",
      "Warning: CRS not defined for D:\\1Yang\\0Research\\0_2566_radar_mosaic\\00mos_chaophraya\\00run_batch_acchr_codes\\2output\\0Hourly\\0Sontihn_RF\\0CBB_Pulse\\0output_mosaic\\2018071704_2000m.tif. Using WGS84 as default.\n",
      "Features shape: (250000, 3)\n",
      "NaN values before imputation: 114324\n",
      "NaN values after imputation: 114324\n",
      "Original data - Mean: 0.05, Max: 26.97\n",
      "Corrected data - Mean: 0.82, Max: 49.43\n"
     ]
    },
    {
     "name": "stderr",
     "output_type": "stream",
     "text": [
      " 20%|███████████████▊                                                                 | 46/235 [03:27<14:12,  4.51s/it]C:\\Users\\Admin\\anaconda3\\envs\\mossf\\lib\\site-packages\\sklearn\\base.py:493: FutureWarning: The feature names should match those that were passed during fit. Starting version 1.2, an error will be raised.\n",
      "Feature names unseen at fit time:\n",
      "- rainfall\n",
      "Feature names seen at fit time, yet now missing:\n",
      "- radar_rainfall\n",
      "\n",
      "  warnings.warn(message, FutureWarning)\n"
     ]
    },
    {
     "name": "stdout",
     "output_type": "stream",
     "text": [
      "\n",
      "Processing file: D:\\1Yang\\0Research\\0_2566_radar_mosaic\\00mos_chaophraya\\00run_batch_acchr_codes\\2output\\0Hourly\\0Sontihn_RF\\0CBB_Pulse\\0output_mosaic\\2018071705_2000m.tif\n",
      "Warning: CRS not defined for D:\\1Yang\\0Research\\0_2566_radar_mosaic\\00mos_chaophraya\\00run_batch_acchr_codes\\2output\\0Hourly\\0Sontihn_RF\\0CBB_Pulse\\0output_mosaic\\2018071705_2000m.tif. Using WGS84 as default.\n",
      "Features shape: (250000, 3)\n",
      "NaN values before imputation: 114341\n",
      "NaN values after imputation: 114341\n",
      "Original data - Mean: 0.06, Max: 33.82\n",
      "Corrected data - Mean: 0.87, Max: 49.43\n"
     ]
    },
    {
     "name": "stderr",
     "output_type": "stream",
     "text": [
      " 20%|████████████████▏                                                                | 47/235 [03:31<14:07,  4.51s/it]C:\\Users\\Admin\\anaconda3\\envs\\mossf\\lib\\site-packages\\sklearn\\base.py:493: FutureWarning: The feature names should match those that were passed during fit. Starting version 1.2, an error will be raised.\n",
      "Feature names unseen at fit time:\n",
      "- rainfall\n",
      "Feature names seen at fit time, yet now missing:\n",
      "- radar_rainfall\n",
      "\n",
      "  warnings.warn(message, FutureWarning)\n"
     ]
    },
    {
     "name": "stdout",
     "output_type": "stream",
     "text": [
      "\n",
      "Processing file: D:\\1Yang\\0Research\\0_2566_radar_mosaic\\00mos_chaophraya\\00run_batch_acchr_codes\\2output\\0Hourly\\0Sontihn_RF\\0CBB_Pulse\\0output_mosaic\\2018071706_2000m.tif\n",
      "Warning: CRS not defined for D:\\1Yang\\0Research\\0_2566_radar_mosaic\\00mos_chaophraya\\00run_batch_acchr_codes\\2output\\0Hourly\\0Sontihn_RF\\0CBB_Pulse\\0output_mosaic\\2018071706_2000m.tif. Using WGS84 as default.\n",
      "Features shape: (250000, 3)\n",
      "NaN values before imputation: 114300\n",
      "NaN values after imputation: 114300\n",
      "Original data - Mean: 0.08, Max: 43.35\n",
      "Corrected data - Mean: 0.92, Max: 49.43\n"
     ]
    },
    {
     "name": "stderr",
     "output_type": "stream",
     "text": [
      " 20%|████████████████▌                                                                | 48/235 [03:36<14:02,  4.51s/it]C:\\Users\\Admin\\anaconda3\\envs\\mossf\\lib\\site-packages\\sklearn\\base.py:493: FutureWarning: The feature names should match those that were passed during fit. Starting version 1.2, an error will be raised.\n",
      "Feature names unseen at fit time:\n",
      "- rainfall\n",
      "Feature names seen at fit time, yet now missing:\n",
      "- radar_rainfall\n",
      "\n",
      "  warnings.warn(message, FutureWarning)\n"
     ]
    },
    {
     "name": "stdout",
     "output_type": "stream",
     "text": [
      "\n",
      "Processing file: D:\\1Yang\\0Research\\0_2566_radar_mosaic\\00mos_chaophraya\\00run_batch_acchr_codes\\2output\\0Hourly\\0Sontihn_RF\\0CBB_Pulse\\0output_mosaic\\2018071707_2000m.tif\n",
      "Warning: CRS not defined for D:\\1Yang\\0Research\\0_2566_radar_mosaic\\00mos_chaophraya\\00run_batch_acchr_codes\\2output\\0Hourly\\0Sontihn_RF\\0CBB_Pulse\\0output_mosaic\\2018071707_2000m.tif. Using WGS84 as default.\n",
      "Features shape: (250000, 3)\n",
      "NaN values before imputation: 114329\n",
      "NaN values after imputation: 114329\n",
      "Original data - Mean: 0.11, Max: 40.16\n",
      "Corrected data - Mean: 0.90, Max: 49.43\n"
     ]
    },
    {
     "name": "stderr",
     "output_type": "stream",
     "text": [
      " 21%|████████████████▉                                                                | 49/235 [03:40<13:55,  4.49s/it]C:\\Users\\Admin\\anaconda3\\envs\\mossf\\lib\\site-packages\\sklearn\\base.py:493: FutureWarning: The feature names should match those that were passed during fit. Starting version 1.2, an error will be raised.\n",
      "Feature names unseen at fit time:\n",
      "- rainfall\n",
      "Feature names seen at fit time, yet now missing:\n",
      "- radar_rainfall\n",
      "\n",
      "  warnings.warn(message, FutureWarning)\n"
     ]
    },
    {
     "name": "stdout",
     "output_type": "stream",
     "text": [
      "\n",
      "Processing file: D:\\1Yang\\0Research\\0_2566_radar_mosaic\\00mos_chaophraya\\00run_batch_acchr_codes\\2output\\0Hourly\\0Sontihn_RF\\0CBB_Pulse\\0output_mosaic\\2018071708_2000m.tif\n",
      "Warning: CRS not defined for D:\\1Yang\\0Research\\0_2566_radar_mosaic\\00mos_chaophraya\\00run_batch_acchr_codes\\2output\\0Hourly\\0Sontihn_RF\\0CBB_Pulse\\0output_mosaic\\2018071708_2000m.tif. Using WGS84 as default.\n",
      "Features shape: (250000, 3)\n",
      "NaN values before imputation: 114339\n",
      "NaN values after imputation: 114339\n",
      "Original data - Mean: 0.12, Max: 35.78\n",
      "Corrected data - Mean: 0.93, Max: 49.43\n"
     ]
    },
    {
     "name": "stderr",
     "output_type": "stream",
     "text": [
      " 21%|█████████████████▏                                                               | 50/235 [03:45<13:54,  4.51s/it]C:\\Users\\Admin\\anaconda3\\envs\\mossf\\lib\\site-packages\\sklearn\\base.py:493: FutureWarning: The feature names should match those that were passed during fit. Starting version 1.2, an error will be raised.\n",
      "Feature names unseen at fit time:\n",
      "- rainfall\n",
      "Feature names seen at fit time, yet now missing:\n",
      "- radar_rainfall\n",
      "\n",
      "  warnings.warn(message, FutureWarning)\n"
     ]
    },
    {
     "name": "stdout",
     "output_type": "stream",
     "text": [
      "\n",
      "Processing file: D:\\1Yang\\0Research\\0_2566_radar_mosaic\\00mos_chaophraya\\00run_batch_acchr_codes\\2output\\0Hourly\\0Sontihn_RF\\0CBB_Pulse\\0output_mosaic\\2018071709_2000m.tif\n",
      "Warning: CRS not defined for D:\\1Yang\\0Research\\0_2566_radar_mosaic\\00mos_chaophraya\\00run_batch_acchr_codes\\2output\\0Hourly\\0Sontihn_RF\\0CBB_Pulse\\0output_mosaic\\2018071709_2000m.tif. Using WGS84 as default.\n",
      "Features shape: (250000, 3)\n",
      "NaN values before imputation: 114286\n",
      "NaN values after imputation: 114286\n",
      "Original data - Mean: 0.15, Max: 40.77\n",
      "Corrected data - Mean: 0.87, Max: 49.43\n"
     ]
    },
    {
     "name": "stderr",
     "output_type": "stream",
     "text": [
      " 22%|█████████████████▌                                                               | 51/235 [03:49<13:48,  4.50s/it]C:\\Users\\Admin\\anaconda3\\envs\\mossf\\lib\\site-packages\\sklearn\\base.py:493: FutureWarning: The feature names should match those that were passed during fit. Starting version 1.2, an error will be raised.\n",
      "Feature names unseen at fit time:\n",
      "- rainfall\n",
      "Feature names seen at fit time, yet now missing:\n",
      "- radar_rainfall\n",
      "\n",
      "  warnings.warn(message, FutureWarning)\n"
     ]
    },
    {
     "name": "stdout",
     "output_type": "stream",
     "text": [
      "\n",
      "Processing file: D:\\1Yang\\0Research\\0_2566_radar_mosaic\\00mos_chaophraya\\00run_batch_acchr_codes\\2output\\0Hourly\\0Sontihn_RF\\0CBB_Pulse\\0output_mosaic\\2018071710_2000m.tif\n",
      "Warning: CRS not defined for D:\\1Yang\\0Research\\0_2566_radar_mosaic\\00mos_chaophraya\\00run_batch_acchr_codes\\2output\\0Hourly\\0Sontihn_RF\\0CBB_Pulse\\0output_mosaic\\2018071710_2000m.tif. Using WGS84 as default.\n",
      "Features shape: (250000, 3)\n",
      "NaN values before imputation: 114357\n",
      "NaN values after imputation: 114357\n",
      "Original data - Mean: 0.15, Max: 28.53\n",
      "Corrected data - Mean: 0.78, Max: 49.43\n"
     ]
    },
    {
     "name": "stderr",
     "output_type": "stream",
     "text": [
      " 22%|█████████████████▉                                                               | 52/235 [03:55<14:21,  4.71s/it]C:\\Users\\Admin\\anaconda3\\envs\\mossf\\lib\\site-packages\\sklearn\\base.py:493: FutureWarning: The feature names should match those that were passed during fit. Starting version 1.2, an error will be raised.\n",
      "Feature names unseen at fit time:\n",
      "- rainfall\n",
      "Feature names seen at fit time, yet now missing:\n",
      "- radar_rainfall\n",
      "\n",
      "  warnings.warn(message, FutureWarning)\n"
     ]
    },
    {
     "name": "stdout",
     "output_type": "stream",
     "text": [
      "\n",
      "Processing file: D:\\1Yang\\0Research\\0_2566_radar_mosaic\\00mos_chaophraya\\00run_batch_acchr_codes\\2output\\0Hourly\\0Sontihn_RF\\0CBB_Pulse\\0output_mosaic\\2018071711_2000m.tif\n",
      "Warning: CRS not defined for D:\\1Yang\\0Research\\0_2566_radar_mosaic\\00mos_chaophraya\\00run_batch_acchr_codes\\2output\\0Hourly\\0Sontihn_RF\\0CBB_Pulse\\0output_mosaic\\2018071711_2000m.tif. Using WGS84 as default.\n",
      "Features shape: (250000, 3)\n",
      "NaN values before imputation: 114313\n",
      "NaN values after imputation: 114313\n",
      "Original data - Mean: 0.22, Max: 24.29\n",
      "Corrected data - Mean: 0.98, Max: 49.43\n"
     ]
    },
    {
     "name": "stderr",
     "output_type": "stream",
     "text": [
      " 23%|██████████████████▎                                                              | 53/235 [04:00<14:29,  4.78s/it]C:\\Users\\Admin\\anaconda3\\envs\\mossf\\lib\\site-packages\\sklearn\\base.py:493: FutureWarning: The feature names should match those that were passed during fit. Starting version 1.2, an error will be raised.\n",
      "Feature names unseen at fit time:\n",
      "- rainfall\n",
      "Feature names seen at fit time, yet now missing:\n",
      "- radar_rainfall\n",
      "\n",
      "  warnings.warn(message, FutureWarning)\n"
     ]
    },
    {
     "name": "stdout",
     "output_type": "stream",
     "text": [
      "\n",
      "Processing file: D:\\1Yang\\0Research\\0_2566_radar_mosaic\\00mos_chaophraya\\00run_batch_acchr_codes\\2output\\0Hourly\\0Sontihn_RF\\0CBB_Pulse\\0output_mosaic\\2018071712_2000m.tif\n",
      "Warning: CRS not defined for D:\\1Yang\\0Research\\0_2566_radar_mosaic\\00mos_chaophraya\\00run_batch_acchr_codes\\2output\\0Hourly\\0Sontihn_RF\\0CBB_Pulse\\0output_mosaic\\2018071712_2000m.tif. Using WGS84 as default.\n",
      "Features shape: (250000, 3)\n",
      "NaN values before imputation: 114424\n",
      "NaN values after imputation: 114424\n",
      "Original data - Mean: 0.24, Max: 23.94\n",
      "Corrected data - Mean: 1.10, Max: 49.43\n"
     ]
    },
    {
     "name": "stderr",
     "output_type": "stream",
     "text": [
      " 23%|██████████████████▌                                                              | 54/235 [04:04<14:05,  4.67s/it]C:\\Users\\Admin\\anaconda3\\envs\\mossf\\lib\\site-packages\\sklearn\\base.py:493: FutureWarning: The feature names should match those that were passed during fit. Starting version 1.2, an error will be raised.\n",
      "Feature names unseen at fit time:\n",
      "- rainfall\n",
      "Feature names seen at fit time, yet now missing:\n",
      "- radar_rainfall\n",
      "\n",
      "  warnings.warn(message, FutureWarning)\n"
     ]
    },
    {
     "name": "stdout",
     "output_type": "stream",
     "text": [
      "\n",
      "Processing file: D:\\1Yang\\0Research\\0_2566_radar_mosaic\\00mos_chaophraya\\00run_batch_acchr_codes\\2output\\0Hourly\\0Sontihn_RF\\0CBB_Pulse\\0output_mosaic\\2018071713_2000m.tif\n",
      "Warning: CRS not defined for D:\\1Yang\\0Research\\0_2566_radar_mosaic\\00mos_chaophraya\\00run_batch_acchr_codes\\2output\\0Hourly\\0Sontihn_RF\\0CBB_Pulse\\0output_mosaic\\2018071713_2000m.tif. Using WGS84 as default.\n",
      "Features shape: (250000, 3)\n",
      "NaN values before imputation: 114325\n",
      "NaN values after imputation: 114325\n",
      "Original data - Mean: 0.34, Max: 37.87\n",
      "Corrected data - Mean: 1.35, Max: 49.43\n"
     ]
    },
    {
     "name": "stderr",
     "output_type": "stream",
     "text": [
      " 23%|██████████████████▉                                                              | 55/235 [04:08<13:48,  4.60s/it]C:\\Users\\Admin\\anaconda3\\envs\\mossf\\lib\\site-packages\\sklearn\\base.py:493: FutureWarning: The feature names should match those that were passed during fit. Starting version 1.2, an error will be raised.\n",
      "Feature names unseen at fit time:\n",
      "- rainfall\n",
      "Feature names seen at fit time, yet now missing:\n",
      "- radar_rainfall\n",
      "\n",
      "  warnings.warn(message, FutureWarning)\n"
     ]
    },
    {
     "name": "stdout",
     "output_type": "stream",
     "text": [
      "\n",
      "Processing file: D:\\1Yang\\0Research\\0_2566_radar_mosaic\\00mos_chaophraya\\00run_batch_acchr_codes\\2output\\0Hourly\\0Sontihn_RF\\0CBB_Pulse\\0output_mosaic\\2018071714_2000m.tif\n",
      "Warning: CRS not defined for D:\\1Yang\\0Research\\0_2566_radar_mosaic\\00mos_chaophraya\\00run_batch_acchr_codes\\2output\\0Hourly\\0Sontihn_RF\\0CBB_Pulse\\0output_mosaic\\2018071714_2000m.tif. Using WGS84 as default.\n",
      "Features shape: (250000, 3)\n",
      "NaN values before imputation: 114313\n",
      "NaN values after imputation: 114313\n",
      "Original data - Mean: 0.43, Max: 95.33\n",
      "Corrected data - Mean: 1.56, Max: 49.43\n"
     ]
    },
    {
     "name": "stderr",
     "output_type": "stream",
     "text": [
      " 24%|███████████████████▎                                                             | 56/235 [04:13<13:34,  4.55s/it]C:\\Users\\Admin\\anaconda3\\envs\\mossf\\lib\\site-packages\\sklearn\\base.py:493: FutureWarning: The feature names should match those that were passed during fit. Starting version 1.2, an error will be raised.\n",
      "Feature names unseen at fit time:\n",
      "- rainfall\n",
      "Feature names seen at fit time, yet now missing:\n",
      "- radar_rainfall\n",
      "\n",
      "  warnings.warn(message, FutureWarning)\n"
     ]
    },
    {
     "name": "stdout",
     "output_type": "stream",
     "text": [
      "\n",
      "Processing file: D:\\1Yang\\0Research\\0_2566_radar_mosaic\\00mos_chaophraya\\00run_batch_acchr_codes\\2output\\0Hourly\\0Sontihn_RF\\0CBB_Pulse\\0output_mosaic\\2018071715_2000m.tif\n",
      "Warning: CRS not defined for D:\\1Yang\\0Research\\0_2566_radar_mosaic\\00mos_chaophraya\\00run_batch_acchr_codes\\2output\\0Hourly\\0Sontihn_RF\\0CBB_Pulse\\0output_mosaic\\2018071715_2000m.tif. Using WGS84 as default.\n",
      "Features shape: (250000, 3)\n",
      "NaN values before imputation: 114310\n",
      "NaN values after imputation: 114310\n",
      "Original data - Mean: 0.50, Max: 75.51\n",
      "Corrected data - Mean: 1.70, Max: 49.43\n"
     ]
    },
    {
     "name": "stderr",
     "output_type": "stream",
     "text": [
      " 24%|███████████████████▋                                                             | 57/235 [04:17<13:25,  4.52s/it]C:\\Users\\Admin\\anaconda3\\envs\\mossf\\lib\\site-packages\\sklearn\\base.py:493: FutureWarning: The feature names should match those that were passed during fit. Starting version 1.2, an error will be raised.\n",
      "Feature names unseen at fit time:\n",
      "- rainfall\n",
      "Feature names seen at fit time, yet now missing:\n",
      "- radar_rainfall\n",
      "\n",
      "  warnings.warn(message, FutureWarning)\n"
     ]
    },
    {
     "name": "stdout",
     "output_type": "stream",
     "text": [
      "\n",
      "Processing file: D:\\1Yang\\0Research\\0_2566_radar_mosaic\\00mos_chaophraya\\00run_batch_acchr_codes\\2output\\0Hourly\\0Sontihn_RF\\0CBB_Pulse\\0output_mosaic\\2018071716_2000m.tif\n",
      "Warning: CRS not defined for D:\\1Yang\\0Research\\0_2566_radar_mosaic\\00mos_chaophraya\\00run_batch_acchr_codes\\2output\\0Hourly\\0Sontihn_RF\\0CBB_Pulse\\0output_mosaic\\2018071716_2000m.tif. Using WGS84 as default.\n",
      "Features shape: (250000, 3)\n",
      "NaN values before imputation: 114318\n",
      "NaN values after imputation: 114318\n",
      "Original data - Mean: 0.30, Max: 63.78\n",
      "Corrected data - Mean: 1.31, Max: 49.43\n"
     ]
    },
    {
     "name": "stderr",
     "output_type": "stream",
     "text": [
      " 25%|███████████████████▉                                                             | 58/235 [04:22<13:16,  4.50s/it]C:\\Users\\Admin\\anaconda3\\envs\\mossf\\lib\\site-packages\\sklearn\\base.py:493: FutureWarning: The feature names should match those that were passed during fit. Starting version 1.2, an error will be raised.\n",
      "Feature names unseen at fit time:\n",
      "- rainfall\n",
      "Feature names seen at fit time, yet now missing:\n",
      "- radar_rainfall\n",
      "\n",
      "  warnings.warn(message, FutureWarning)\n"
     ]
    },
    {
     "name": "stdout",
     "output_type": "stream",
     "text": [
      "\n",
      "Processing file: D:\\1Yang\\0Research\\0_2566_radar_mosaic\\00mos_chaophraya\\00run_batch_acchr_codes\\2output\\0Hourly\\0Sontihn_RF\\0CBB_Pulse\\0output_mosaic\\2018071717_2000m.tif\n",
      "Warning: CRS not defined for D:\\1Yang\\0Research\\0_2566_radar_mosaic\\00mos_chaophraya\\00run_batch_acchr_codes\\2output\\0Hourly\\0Sontihn_RF\\0CBB_Pulse\\0output_mosaic\\2018071717_2000m.tif. Using WGS84 as default.\n",
      "Features shape: (250000, 3)\n",
      "NaN values before imputation: 114330\n",
      "NaN values after imputation: 114330\n",
      "Original data - Mean: 0.29, Max: 96.28\n",
      "Corrected data - Mean: 1.35, Max: 49.43\n"
     ]
    },
    {
     "name": "stderr",
     "output_type": "stream",
     "text": [
      " 25%|████████████████████▎                                                            | 59/235 [04:26<13:09,  4.49s/it]C:\\Users\\Admin\\anaconda3\\envs\\mossf\\lib\\site-packages\\sklearn\\base.py:493: FutureWarning: The feature names should match those that were passed during fit. Starting version 1.2, an error will be raised.\n",
      "Feature names unseen at fit time:\n",
      "- rainfall\n",
      "Feature names seen at fit time, yet now missing:\n",
      "- radar_rainfall\n",
      "\n",
      "  warnings.warn(message, FutureWarning)\n"
     ]
    },
    {
     "name": "stdout",
     "output_type": "stream",
     "text": [
      "\n",
      "Processing file: D:\\1Yang\\0Research\\0_2566_radar_mosaic\\00mos_chaophraya\\00run_batch_acchr_codes\\2output\\0Hourly\\0Sontihn_RF\\0CBB_Pulse\\0output_mosaic\\2018071718_2000m.tif\n",
      "Warning: CRS not defined for D:\\1Yang\\0Research\\0_2566_radar_mosaic\\00mos_chaophraya\\00run_batch_acchr_codes\\2output\\0Hourly\\0Sontihn_RF\\0CBB_Pulse\\0output_mosaic\\2018071718_2000m.tif. Using WGS84 as default.\n",
      "Features shape: (250000, 3)\n",
      "NaN values before imputation: 114333\n",
      "NaN values after imputation: 114333\n",
      "Original data - Mean: 0.35, Max: 107.79\n",
      "Corrected data - Mean: 1.40, Max: 49.43\n"
     ]
    },
    {
     "name": "stderr",
     "output_type": "stream",
     "text": [
      " 26%|████████████████████▋                                                            | 60/235 [04:31<13:03,  4.48s/it]C:\\Users\\Admin\\anaconda3\\envs\\mossf\\lib\\site-packages\\sklearn\\base.py:493: FutureWarning: The feature names should match those that were passed during fit. Starting version 1.2, an error will be raised.\n",
      "Feature names unseen at fit time:\n",
      "- rainfall\n",
      "Feature names seen at fit time, yet now missing:\n",
      "- radar_rainfall\n",
      "\n",
      "  warnings.warn(message, FutureWarning)\n"
     ]
    },
    {
     "name": "stdout",
     "output_type": "stream",
     "text": [
      "\n",
      "Processing file: D:\\1Yang\\0Research\\0_2566_radar_mosaic\\00mos_chaophraya\\00run_batch_acchr_codes\\2output\\0Hourly\\0Sontihn_RF\\0CBB_Pulse\\0output_mosaic\\2018071719_2000m.tif\n",
      "Warning: CRS not defined for D:\\1Yang\\0Research\\0_2566_radar_mosaic\\00mos_chaophraya\\00run_batch_acchr_codes\\2output\\0Hourly\\0Sontihn_RF\\0CBB_Pulse\\0output_mosaic\\2018071719_2000m.tif. Using WGS84 as default.\n",
      "Features shape: (250000, 3)\n",
      "NaN values before imputation: 114334\n",
      "NaN values after imputation: 114334\n",
      "Original data - Mean: 0.36, Max: 84.63\n",
      "Corrected data - Mean: 1.42, Max: 49.43\n"
     ]
    },
    {
     "name": "stderr",
     "output_type": "stream",
     "text": [
      " 26%|█████████████████████                                                            | 61/235 [04:35<12:56,  4.46s/it]C:\\Users\\Admin\\anaconda3\\envs\\mossf\\lib\\site-packages\\sklearn\\base.py:493: FutureWarning: The feature names should match those that were passed during fit. Starting version 1.2, an error will be raised.\n",
      "Feature names unseen at fit time:\n",
      "- rainfall\n",
      "Feature names seen at fit time, yet now missing:\n",
      "- radar_rainfall\n",
      "\n",
      "  warnings.warn(message, FutureWarning)\n"
     ]
    },
    {
     "name": "stdout",
     "output_type": "stream",
     "text": [
      "\n",
      "Processing file: D:\\1Yang\\0Research\\0_2566_radar_mosaic\\00mos_chaophraya\\00run_batch_acchr_codes\\2output\\0Hourly\\0Sontihn_RF\\0CBB_Pulse\\0output_mosaic\\2018071720_2000m.tif\n",
      "Warning: CRS not defined for D:\\1Yang\\0Research\\0_2566_radar_mosaic\\00mos_chaophraya\\00run_batch_acchr_codes\\2output\\0Hourly\\0Sontihn_RF\\0CBB_Pulse\\0output_mosaic\\2018071720_2000m.tif. Using WGS84 as default.\n",
      "Features shape: (250000, 3)\n",
      "NaN values before imputation: 114269\n",
      "NaN values after imputation: 114269\n",
      "Original data - Mean: 0.43, Max: 87.57\n",
      "Corrected data - Mean: 1.54, Max: 49.43\n"
     ]
    },
    {
     "name": "stderr",
     "output_type": "stream",
     "text": [
      " 26%|█████████████████████▎                                                           | 62/235 [04:40<12:54,  4.48s/it]C:\\Users\\Admin\\anaconda3\\envs\\mossf\\lib\\site-packages\\sklearn\\base.py:493: FutureWarning: The feature names should match those that were passed during fit. Starting version 1.2, an error will be raised.\n",
      "Feature names unseen at fit time:\n",
      "- rainfall\n",
      "Feature names seen at fit time, yet now missing:\n",
      "- radar_rainfall\n",
      "\n",
      "  warnings.warn(message, FutureWarning)\n"
     ]
    },
    {
     "name": "stdout",
     "output_type": "stream",
     "text": [
      "\n",
      "Processing file: D:\\1Yang\\0Research\\0_2566_radar_mosaic\\00mos_chaophraya\\00run_batch_acchr_codes\\2output\\0Hourly\\0Sontihn_RF\\0CBB_Pulse\\0output_mosaic\\2018071721_2000m.tif\n",
      "Warning: CRS not defined for D:\\1Yang\\0Research\\0_2566_radar_mosaic\\00mos_chaophraya\\00run_batch_acchr_codes\\2output\\0Hourly\\0Sontihn_RF\\0CBB_Pulse\\0output_mosaic\\2018071721_2000m.tif. Using WGS84 as default.\n",
      "Features shape: (250000, 3)\n",
      "NaN values before imputation: 114345\n",
      "NaN values after imputation: 114345\n",
      "Original data - Mean: 0.43, Max: 65.82\n",
      "Corrected data - Mean: 1.64, Max: 49.43\n"
     ]
    },
    {
     "name": "stderr",
     "output_type": "stream",
     "text": [
      " 27%|█████████████████████▋                                                           | 63/235 [04:44<12:47,  4.46s/it]C:\\Users\\Admin\\anaconda3\\envs\\mossf\\lib\\site-packages\\sklearn\\base.py:493: FutureWarning: The feature names should match those that were passed during fit. Starting version 1.2, an error will be raised.\n",
      "Feature names unseen at fit time:\n",
      "- rainfall\n",
      "Feature names seen at fit time, yet now missing:\n",
      "- radar_rainfall\n",
      "\n",
      "  warnings.warn(message, FutureWarning)\n"
     ]
    },
    {
     "name": "stdout",
     "output_type": "stream",
     "text": [
      "\n",
      "Processing file: D:\\1Yang\\0Research\\0_2566_radar_mosaic\\00mos_chaophraya\\00run_batch_acchr_codes\\2output\\0Hourly\\0Sontihn_RF\\0CBB_Pulse\\0output_mosaic\\2018071722_2000m.tif\n",
      "Warning: CRS not defined for D:\\1Yang\\0Research\\0_2566_radar_mosaic\\00mos_chaophraya\\00run_batch_acchr_codes\\2output\\0Hourly\\0Sontihn_RF\\0CBB_Pulse\\0output_mosaic\\2018071722_2000m.tif. Using WGS84 as default.\n",
      "Features shape: (250000, 3)\n",
      "NaN values before imputation: 114315\n",
      "NaN values after imputation: 114315\n",
      "Original data - Mean: 0.44, Max: 103.22\n",
      "Corrected data - Mean: 1.43, Max: 49.43\n"
     ]
    },
    {
     "name": "stderr",
     "output_type": "stream",
     "text": [
      " 27%|██████████████████████                                                           | 64/235 [04:49<12:42,  4.46s/it]C:\\Users\\Admin\\anaconda3\\envs\\mossf\\lib\\site-packages\\sklearn\\base.py:493: FutureWarning: The feature names should match those that were passed during fit. Starting version 1.2, an error will be raised.\n",
      "Feature names unseen at fit time:\n",
      "- rainfall\n",
      "Feature names seen at fit time, yet now missing:\n",
      "- radar_rainfall\n",
      "\n",
      "  warnings.warn(message, FutureWarning)\n"
     ]
    },
    {
     "name": "stdout",
     "output_type": "stream",
     "text": [
      "\n",
      "Processing file: D:\\1Yang\\0Research\\0_2566_radar_mosaic\\00mos_chaophraya\\00run_batch_acchr_codes\\2output\\0Hourly\\0Sontihn_RF\\0CBB_Pulse\\0output_mosaic\\2018071723_2000m.tif\n",
      "Warning: CRS not defined for D:\\1Yang\\0Research\\0_2566_radar_mosaic\\00mos_chaophraya\\00run_batch_acchr_codes\\2output\\0Hourly\\0Sontihn_RF\\0CBB_Pulse\\0output_mosaic\\2018071723_2000m.tif. Using WGS84 as default.\n",
      "Features shape: (250000, 3)\n",
      "NaN values before imputation: 114396\n",
      "NaN values after imputation: 114396\n",
      "Original data - Mean: 0.22, Max: 42.93\n",
      "Corrected data - Mean: 0.92, Max: 49.43\n"
     ]
    },
    {
     "name": "stderr",
     "output_type": "stream",
     "text": [
      " 28%|██████████████████████▍                                                          | 65/235 [04:53<12:36,  4.45s/it]C:\\Users\\Admin\\anaconda3\\envs\\mossf\\lib\\site-packages\\sklearn\\base.py:493: FutureWarning: The feature names should match those that were passed during fit. Starting version 1.2, an error will be raised.\n",
      "Feature names unseen at fit time:\n",
      "- rainfall\n",
      "Feature names seen at fit time, yet now missing:\n",
      "- radar_rainfall\n",
      "\n",
      "  warnings.warn(message, FutureWarning)\n"
     ]
    },
    {
     "name": "stdout",
     "output_type": "stream",
     "text": [
      "\n",
      "Processing file: D:\\1Yang\\0Research\\0_2566_radar_mosaic\\00mos_chaophraya\\00run_batch_acchr_codes\\2output\\0Hourly\\0Sontihn_RF\\0CBB_Pulse\\0output_mosaic\\2018071800_2000m.tif\n",
      "Warning: CRS not defined for D:\\1Yang\\0Research\\0_2566_radar_mosaic\\00mos_chaophraya\\00run_batch_acchr_codes\\2output\\0Hourly\\0Sontihn_RF\\0CBB_Pulse\\0output_mosaic\\2018071800_2000m.tif. Using WGS84 as default.\n",
      "Features shape: (250000, 3)\n",
      "NaN values before imputation: 114408\n",
      "NaN values after imputation: 114408\n",
      "Original data - Mean: 0.26, Max: 52.96\n",
      "Corrected data - Mean: 0.94, Max: 49.43\n"
     ]
    },
    {
     "name": "stderr",
     "output_type": "stream",
     "text": [
      " 28%|██████████████████████▋                                                          | 66/235 [04:57<12:31,  4.45s/it]C:\\Users\\Admin\\anaconda3\\envs\\mossf\\lib\\site-packages\\sklearn\\base.py:493: FutureWarning: The feature names should match those that were passed during fit. Starting version 1.2, an error will be raised.\n",
      "Feature names unseen at fit time:\n",
      "- rainfall\n",
      "Feature names seen at fit time, yet now missing:\n",
      "- radar_rainfall\n",
      "\n",
      "  warnings.warn(message, FutureWarning)\n"
     ]
    },
    {
     "name": "stdout",
     "output_type": "stream",
     "text": [
      "\n",
      "Processing file: D:\\1Yang\\0Research\\0_2566_radar_mosaic\\00mos_chaophraya\\00run_batch_acchr_codes\\2output\\0Hourly\\0Sontihn_RF\\0CBB_Pulse\\0output_mosaic\\2018071801_2000m.tif\n",
      "Warning: CRS not defined for D:\\1Yang\\0Research\\0_2566_radar_mosaic\\00mos_chaophraya\\00run_batch_acchr_codes\\2output\\0Hourly\\0Sontihn_RF\\0CBB_Pulse\\0output_mosaic\\2018071801_2000m.tif. Using WGS84 as default.\n",
      "Features shape: (250000, 3)\n",
      "NaN values before imputation: 114342\n",
      "NaN values after imputation: 114342\n",
      "Original data - Mean: 0.20, Max: 45.80\n",
      "Corrected data - Mean: 0.76, Max: 49.43\n"
     ]
    },
    {
     "name": "stderr",
     "output_type": "stream",
     "text": [
      " 29%|███████████████████████                                                          | 67/235 [05:02<12:27,  4.45s/it]C:\\Users\\Admin\\anaconda3\\envs\\mossf\\lib\\site-packages\\sklearn\\base.py:493: FutureWarning: The feature names should match those that were passed during fit. Starting version 1.2, an error will be raised.\n",
      "Feature names unseen at fit time:\n",
      "- rainfall\n",
      "Feature names seen at fit time, yet now missing:\n",
      "- radar_rainfall\n",
      "\n",
      "  warnings.warn(message, FutureWarning)\n"
     ]
    },
    {
     "name": "stdout",
     "output_type": "stream",
     "text": [
      "\n",
      "Processing file: D:\\1Yang\\0Research\\0_2566_radar_mosaic\\00mos_chaophraya\\00run_batch_acchr_codes\\2output\\0Hourly\\0Sontihn_RF\\0CBB_Pulse\\0output_mosaic\\2018071802_2000m.tif\n",
      "Warning: CRS not defined for D:\\1Yang\\0Research\\0_2566_radar_mosaic\\00mos_chaophraya\\00run_batch_acchr_codes\\2output\\0Hourly\\0Sontihn_RF\\0CBB_Pulse\\0output_mosaic\\2018071802_2000m.tif. Using WGS84 as default.\n",
      "Features shape: (250000, 3)\n",
      "NaN values before imputation: 114428\n",
      "NaN values after imputation: 114428\n",
      "Original data - Mean: 0.10, Max: 33.08\n",
      "Corrected data - Mean: 0.56, Max: 49.43\n"
     ]
    },
    {
     "name": "stderr",
     "output_type": "stream",
     "text": [
      " 29%|███████████████████████▍                                                         | 68/235 [05:06<12:24,  4.46s/it]C:\\Users\\Admin\\anaconda3\\envs\\mossf\\lib\\site-packages\\sklearn\\base.py:493: FutureWarning: The feature names should match those that were passed during fit. Starting version 1.2, an error will be raised.\n",
      "Feature names unseen at fit time:\n",
      "- rainfall\n",
      "Feature names seen at fit time, yet now missing:\n",
      "- radar_rainfall\n",
      "\n",
      "  warnings.warn(message, FutureWarning)\n"
     ]
    },
    {
     "name": "stdout",
     "output_type": "stream",
     "text": [
      "\n",
      "Processing file: D:\\1Yang\\0Research\\0_2566_radar_mosaic\\00mos_chaophraya\\00run_batch_acchr_codes\\2output\\0Hourly\\0Sontihn_RF\\0CBB_Pulse\\0output_mosaic\\2018071803_2000m.tif\n",
      "Warning: CRS not defined for D:\\1Yang\\0Research\\0_2566_radar_mosaic\\00mos_chaophraya\\00run_batch_acchr_codes\\2output\\0Hourly\\0Sontihn_RF\\0CBB_Pulse\\0output_mosaic\\2018071803_2000m.tif. Using WGS84 as default.\n",
      "Features shape: (250000, 3)\n",
      "NaN values before imputation: 114351\n",
      "NaN values after imputation: 114351\n",
      "Original data - Mean: 0.13, Max: 43.60\n",
      "Corrected data - Mean: 0.65, Max: 49.43\n"
     ]
    },
    {
     "name": "stderr",
     "output_type": "stream",
     "text": [
      " 29%|███████████████████████▊                                                         | 69/235 [05:11<12:19,  4.46s/it]C:\\Users\\Admin\\anaconda3\\envs\\mossf\\lib\\site-packages\\sklearn\\base.py:493: FutureWarning: The feature names should match those that were passed during fit. Starting version 1.2, an error will be raised.\n",
      "Feature names unseen at fit time:\n",
      "- rainfall\n",
      "Feature names seen at fit time, yet now missing:\n",
      "- radar_rainfall\n",
      "\n",
      "  warnings.warn(message, FutureWarning)\n"
     ]
    },
    {
     "name": "stdout",
     "output_type": "stream",
     "text": [
      "\n",
      "Processing file: D:\\1Yang\\0Research\\0_2566_radar_mosaic\\00mos_chaophraya\\00run_batch_acchr_codes\\2output\\0Hourly\\0Sontihn_RF\\0CBB_Pulse\\0output_mosaic\\2018071804_2000m.tif\n",
      "Warning: CRS not defined for D:\\1Yang\\0Research\\0_2566_radar_mosaic\\00mos_chaophraya\\00run_batch_acchr_codes\\2output\\0Hourly\\0Sontihn_RF\\0CBB_Pulse\\0output_mosaic\\2018071804_2000m.tif. Using WGS84 as default.\n",
      "Features shape: (250000, 3)\n",
      "NaN values before imputation: 114340\n",
      "NaN values after imputation: 114340\n",
      "Original data - Mean: 0.13, Max: 36.17\n",
      "Corrected data - Mean: 0.60, Max: 49.43\n"
     ]
    },
    {
     "name": "stderr",
     "output_type": "stream",
     "text": [
      " 30%|████████████████████████▏                                                        | 70/235 [05:15<12:14,  4.45s/it]C:\\Users\\Admin\\anaconda3\\envs\\mossf\\lib\\site-packages\\sklearn\\base.py:493: FutureWarning: The feature names should match those that were passed during fit. Starting version 1.2, an error will be raised.\n",
      "Feature names unseen at fit time:\n",
      "- rainfall\n",
      "Feature names seen at fit time, yet now missing:\n",
      "- radar_rainfall\n",
      "\n",
      "  warnings.warn(message, FutureWarning)\n"
     ]
    },
    {
     "name": "stdout",
     "output_type": "stream",
     "text": [
      "\n",
      "Processing file: D:\\1Yang\\0Research\\0_2566_radar_mosaic\\00mos_chaophraya\\00run_batch_acchr_codes\\2output\\0Hourly\\0Sontihn_RF\\0CBB_Pulse\\0output_mosaic\\2018071805_2000m.tif\n",
      "Warning: CRS not defined for D:\\1Yang\\0Research\\0_2566_radar_mosaic\\00mos_chaophraya\\00run_batch_acchr_codes\\2output\\0Hourly\\0Sontihn_RF\\0CBB_Pulse\\0output_mosaic\\2018071805_2000m.tif. Using WGS84 as default.\n",
      "Features shape: (250000, 3)\n",
      "NaN values before imputation: 114324\n",
      "NaN values after imputation: 114324\n",
      "Original data - Mean: 0.14, Max: 40.99\n",
      "Corrected data - Mean: 0.64, Max: 49.43\n"
     ]
    },
    {
     "name": "stderr",
     "output_type": "stream",
     "text": [
      " 30%|████████████████████████▍                                                        | 71/235 [05:20<12:10,  4.45s/it]C:\\Users\\Admin\\anaconda3\\envs\\mossf\\lib\\site-packages\\sklearn\\base.py:493: FutureWarning: The feature names should match those that were passed during fit. Starting version 1.2, an error will be raised.\n",
      "Feature names unseen at fit time:\n",
      "- rainfall\n",
      "Feature names seen at fit time, yet now missing:\n",
      "- radar_rainfall\n",
      "\n",
      "  warnings.warn(message, FutureWarning)\n"
     ]
    },
    {
     "name": "stdout",
     "output_type": "stream",
     "text": [
      "\n",
      "Processing file: D:\\1Yang\\0Research\\0_2566_radar_mosaic\\00mos_chaophraya\\00run_batch_acchr_codes\\2output\\0Hourly\\0Sontihn_RF\\0CBB_Pulse\\0output_mosaic\\2018071806_2000m.tif\n",
      "Warning: CRS not defined for D:\\1Yang\\0Research\\0_2566_radar_mosaic\\00mos_chaophraya\\00run_batch_acchr_codes\\2output\\0Hourly\\0Sontihn_RF\\0CBB_Pulse\\0output_mosaic\\2018071806_2000m.tif. Using WGS84 as default.\n",
      "Features shape: (250000, 3)\n",
      "NaN values before imputation: 114348\n",
      "NaN values after imputation: 114348\n",
      "Original data - Mean: 0.09, Max: 19.58\n",
      "Corrected data - Mean: 0.46, Max: 49.43\n"
     ]
    },
    {
     "name": "stderr",
     "output_type": "stream",
     "text": [
      " 31%|████████████████████████▊                                                        | 72/235 [05:26<13:13,  4.87s/it]C:\\Users\\Admin\\anaconda3\\envs\\mossf\\lib\\site-packages\\sklearn\\base.py:493: FutureWarning: The feature names should match those that were passed during fit. Starting version 1.2, an error will be raised.\n",
      "Feature names unseen at fit time:\n",
      "- rainfall\n",
      "Feature names seen at fit time, yet now missing:\n",
      "- radar_rainfall\n",
      "\n",
      "  warnings.warn(message, FutureWarning)\n"
     ]
    },
    {
     "name": "stdout",
     "output_type": "stream",
     "text": [
      "\n",
      "Processing file: D:\\1Yang\\0Research\\0_2566_radar_mosaic\\00mos_chaophraya\\00run_batch_acchr_codes\\2output\\0Hourly\\0Sontihn_RF\\0CBB_Pulse\\0output_mosaic\\2018071807_2000m.tif\n",
      "Warning: CRS not defined for D:\\1Yang\\0Research\\0_2566_radar_mosaic\\00mos_chaophraya\\00run_batch_acchr_codes\\2output\\0Hourly\\0Sontihn_RF\\0CBB_Pulse\\0output_mosaic\\2018071807_2000m.tif. Using WGS84 as default.\n",
      "Features shape: (250000, 3)\n",
      "NaN values before imputation: 114283\n",
      "NaN values after imputation: 114283\n",
      "Original data - Mean: 0.03, Max: 13.84\n",
      "Corrected data - Mean: 0.32, Max: 49.43\n"
     ]
    },
    {
     "name": "stderr",
     "output_type": "stream",
     "text": [
      " 31%|█████████████████████████▏                                                       | 73/235 [05:30<12:45,  4.72s/it]C:\\Users\\Admin\\anaconda3\\envs\\mossf\\lib\\site-packages\\sklearn\\base.py:493: FutureWarning: The feature names should match those that were passed during fit. Starting version 1.2, an error will be raised.\n",
      "Feature names unseen at fit time:\n",
      "- rainfall\n",
      "Feature names seen at fit time, yet now missing:\n",
      "- radar_rainfall\n",
      "\n",
      "  warnings.warn(message, FutureWarning)\n"
     ]
    },
    {
     "name": "stdout",
     "output_type": "stream",
     "text": [
      "\n",
      "Processing file: D:\\1Yang\\0Research\\0_2566_radar_mosaic\\00mos_chaophraya\\00run_batch_acchr_codes\\2output\\0Hourly\\0Sontihn_RF\\0CBB_Pulse\\0output_mosaic\\2018071808_2000m.tif\n",
      "Warning: CRS not defined for D:\\1Yang\\0Research\\0_2566_radar_mosaic\\00mos_chaophraya\\00run_batch_acchr_codes\\2output\\0Hourly\\0Sontihn_RF\\0CBB_Pulse\\0output_mosaic\\2018071808_2000m.tif. Using WGS84 as default.\n",
      "Features shape: (250000, 3)\n",
      "NaN values before imputation: 114339\n",
      "NaN values after imputation: 114339\n",
      "Original data - Mean: 0.03, Max: 13.80\n",
      "Corrected data - Mean: 0.25, Max: 49.43\n"
     ]
    },
    {
     "name": "stderr",
     "output_type": "stream",
     "text": [
      " 31%|█████████████████████████▌                                                       | 74/235 [05:34<12:32,  4.67s/it]C:\\Users\\Admin\\anaconda3\\envs\\mossf\\lib\\site-packages\\sklearn\\base.py:493: FutureWarning: The feature names should match those that were passed during fit. Starting version 1.2, an error will be raised.\n",
      "Feature names unseen at fit time:\n",
      "- rainfall\n",
      "Feature names seen at fit time, yet now missing:\n",
      "- radar_rainfall\n",
      "\n",
      "  warnings.warn(message, FutureWarning)\n"
     ]
    },
    {
     "name": "stdout",
     "output_type": "stream",
     "text": [
      "\n",
      "Processing file: D:\\1Yang\\0Research\\0_2566_radar_mosaic\\00mos_chaophraya\\00run_batch_acchr_codes\\2output\\0Hourly\\0Sontihn_RF\\0CBB_Pulse\\0output_mosaic\\2018071809_2000m.tif\n",
      "Warning: CRS not defined for D:\\1Yang\\0Research\\0_2566_radar_mosaic\\00mos_chaophraya\\00run_batch_acchr_codes\\2output\\0Hourly\\0Sontihn_RF\\0CBB_Pulse\\0output_mosaic\\2018071809_2000m.tif. Using WGS84 as default.\n",
      "Features shape: (250000, 3)\n",
      "NaN values before imputation: 114340\n",
      "NaN values after imputation: 114340\n",
      "Original data - Mean: 0.05, Max: 27.41\n",
      "Corrected data - Mean: 0.27, Max: 49.43\n"
     ]
    },
    {
     "name": "stderr",
     "output_type": "stream",
     "text": [
      " 32%|█████████████████████████▊                                                       | 75/235 [05:39<12:18,  4.62s/it]C:\\Users\\Admin\\anaconda3\\envs\\mossf\\lib\\site-packages\\sklearn\\base.py:493: FutureWarning: The feature names should match those that were passed during fit. Starting version 1.2, an error will be raised.\n",
      "Feature names unseen at fit time:\n",
      "- rainfall\n",
      "Feature names seen at fit time, yet now missing:\n",
      "- radar_rainfall\n",
      "\n",
      "  warnings.warn(message, FutureWarning)\n"
     ]
    },
    {
     "name": "stdout",
     "output_type": "stream",
     "text": [
      "\n",
      "Processing file: D:\\1Yang\\0Research\\0_2566_radar_mosaic\\00mos_chaophraya\\00run_batch_acchr_codes\\2output\\0Hourly\\0Sontihn_RF\\0CBB_Pulse\\0output_mosaic\\2018071810_2000m.tif\n",
      "Warning: CRS not defined for D:\\1Yang\\0Research\\0_2566_radar_mosaic\\00mos_chaophraya\\00run_batch_acchr_codes\\2output\\0Hourly\\0Sontihn_RF\\0CBB_Pulse\\0output_mosaic\\2018071810_2000m.tif. Using WGS84 as default.\n",
      "Features shape: (250000, 3)\n",
      "NaN values before imputation: 114336\n",
      "NaN values after imputation: 114336\n",
      "Original data - Mean: 0.08, Max: 59.13\n",
      "Corrected data - Mean: 0.29, Max: 49.43\n"
     ]
    },
    {
     "name": "stderr",
     "output_type": "stream",
     "text": [
      " 32%|██████████████████████████▏                                                      | 76/235 [05:43<12:05,  4.56s/it]C:\\Users\\Admin\\anaconda3\\envs\\mossf\\lib\\site-packages\\sklearn\\base.py:493: FutureWarning: The feature names should match those that were passed during fit. Starting version 1.2, an error will be raised.\n",
      "Feature names unseen at fit time:\n",
      "- rainfall\n",
      "Feature names seen at fit time, yet now missing:\n",
      "- radar_rainfall\n",
      "\n",
      "  warnings.warn(message, FutureWarning)\n"
     ]
    },
    {
     "name": "stdout",
     "output_type": "stream",
     "text": [
      "\n",
      "Processing file: D:\\1Yang\\0Research\\0_2566_radar_mosaic\\00mos_chaophraya\\00run_batch_acchr_codes\\2output\\0Hourly\\0Sontihn_RF\\0CBB_Pulse\\0output_mosaic\\2018071811_2000m.tif\n",
      "Warning: CRS not defined for D:\\1Yang\\0Research\\0_2566_radar_mosaic\\00mos_chaophraya\\00run_batch_acchr_codes\\2output\\0Hourly\\0Sontihn_RF\\0CBB_Pulse\\0output_mosaic\\2018071811_2000m.tif. Using WGS84 as default.\n",
      "Features shape: (250000, 3)\n",
      "NaN values before imputation: 114346\n",
      "NaN values after imputation: 114346\n",
      "Original data - Mean: 0.02, Max: 6.45\n",
      "Corrected data - Mean: 0.14, Max: 17.22\n"
     ]
    },
    {
     "name": "stderr",
     "output_type": "stream",
     "text": [
      " 33%|██████████████████████████▌                                                      | 77/235 [05:48<11:52,  4.51s/it]C:\\Users\\Admin\\anaconda3\\envs\\mossf\\lib\\site-packages\\sklearn\\base.py:493: FutureWarning: The feature names should match those that were passed during fit. Starting version 1.2, an error will be raised.\n",
      "Feature names unseen at fit time:\n",
      "- rainfall\n",
      "Feature names seen at fit time, yet now missing:\n",
      "- radar_rainfall\n",
      "\n",
      "  warnings.warn(message, FutureWarning)\n"
     ]
    },
    {
     "name": "stdout",
     "output_type": "stream",
     "text": [
      "\n",
      "Processing file: D:\\1Yang\\0Research\\0_2566_radar_mosaic\\00mos_chaophraya\\00run_batch_acchr_codes\\2output\\0Hourly\\0Sontihn_RF\\0CBB_Pulse\\0output_mosaic\\2018071812_2000m.tif\n",
      "Warning: CRS not defined for D:\\1Yang\\0Research\\0_2566_radar_mosaic\\00mos_chaophraya\\00run_batch_acchr_codes\\2output\\0Hourly\\0Sontihn_RF\\0CBB_Pulse\\0output_mosaic\\2018071812_2000m.tif. Using WGS84 as default.\n",
      "Features shape: (250000, 3)\n",
      "NaN values before imputation: 114372\n",
      "NaN values after imputation: 114372\n",
      "Original data - Mean: 0.03, Max: 30.12\n",
      "Corrected data - Mean: 0.19, Max: 49.43\n"
     ]
    },
    {
     "name": "stderr",
     "output_type": "stream",
     "text": [
      " 33%|██████████████████████████▉                                                      | 78/235 [05:52<11:45,  4.49s/it]C:\\Users\\Admin\\anaconda3\\envs\\mossf\\lib\\site-packages\\sklearn\\base.py:493: FutureWarning: The feature names should match those that were passed during fit. Starting version 1.2, an error will be raised.\n",
      "Feature names unseen at fit time:\n",
      "- rainfall\n",
      "Feature names seen at fit time, yet now missing:\n",
      "- radar_rainfall\n",
      "\n",
      "  warnings.warn(message, FutureWarning)\n"
     ]
    },
    {
     "name": "stdout",
     "output_type": "stream",
     "text": [
      "\n",
      "Processing file: D:\\1Yang\\0Research\\0_2566_radar_mosaic\\00mos_chaophraya\\00run_batch_acchr_codes\\2output\\0Hourly\\0Sontihn_RF\\0CBB_Pulse\\0output_mosaic\\2018071813_2000m.tif\n",
      "Warning: CRS not defined for D:\\1Yang\\0Research\\0_2566_radar_mosaic\\00mos_chaophraya\\00run_batch_acchr_codes\\2output\\0Hourly\\0Sontihn_RF\\0CBB_Pulse\\0output_mosaic\\2018071813_2000m.tif. Using WGS84 as default.\n",
      "Features shape: (250000, 3)\n",
      "NaN values before imputation: 114314\n",
      "NaN values after imputation: 114314\n",
      "Original data - Mean: 0.05, Max: 56.30\n",
      "Corrected data - Mean: 0.30, Max: 49.43\n"
     ]
    },
    {
     "name": "stderr",
     "output_type": "stream",
     "text": [
      " 34%|███████████████████████████▏                                                     | 79/235 [05:57<11:38,  4.48s/it]C:\\Users\\Admin\\anaconda3\\envs\\mossf\\lib\\site-packages\\sklearn\\base.py:493: FutureWarning: The feature names should match those that were passed during fit. Starting version 1.2, an error will be raised.\n",
      "Feature names unseen at fit time:\n",
      "- rainfall\n",
      "Feature names seen at fit time, yet now missing:\n",
      "- radar_rainfall\n",
      "\n",
      "  warnings.warn(message, FutureWarning)\n"
     ]
    },
    {
     "name": "stdout",
     "output_type": "stream",
     "text": [
      "\n",
      "Processing file: D:\\1Yang\\0Research\\0_2566_radar_mosaic\\00mos_chaophraya\\00run_batch_acchr_codes\\2output\\0Hourly\\0Sontihn_RF\\0CBB_Pulse\\0output_mosaic\\2018071814_2000m.tif\n",
      "Warning: CRS not defined for D:\\1Yang\\0Research\\0_2566_radar_mosaic\\00mos_chaophraya\\00run_batch_acchr_codes\\2output\\0Hourly\\0Sontihn_RF\\0CBB_Pulse\\0output_mosaic\\2018071814_2000m.tif. Using WGS84 as default.\n",
      "Features shape: (250000, 3)\n",
      "NaN values before imputation: 114345\n",
      "NaN values after imputation: 114345\n",
      "Original data - Mean: 0.06, Max: 47.85\n",
      "Corrected data - Mean: 0.38, Max: 49.43\n"
     ]
    },
    {
     "name": "stderr",
     "output_type": "stream",
     "text": [
      " 34%|███████████████████████████▌                                                     | 80/235 [06:01<11:30,  4.46s/it]C:\\Users\\Admin\\anaconda3\\envs\\mossf\\lib\\site-packages\\sklearn\\base.py:493: FutureWarning: The feature names should match those that were passed during fit. Starting version 1.2, an error will be raised.\n",
      "Feature names unseen at fit time:\n",
      "- rainfall\n",
      "Feature names seen at fit time, yet now missing:\n",
      "- radar_rainfall\n",
      "\n",
      "  warnings.warn(message, FutureWarning)\n"
     ]
    },
    {
     "name": "stdout",
     "output_type": "stream",
     "text": [
      "\n",
      "Processing file: D:\\1Yang\\0Research\\0_2566_radar_mosaic\\00mos_chaophraya\\00run_batch_acchr_codes\\2output\\0Hourly\\0Sontihn_RF\\0CBB_Pulse\\0output_mosaic\\2018071815_2000m.tif\n",
      "Warning: CRS not defined for D:\\1Yang\\0Research\\0_2566_radar_mosaic\\00mos_chaophraya\\00run_batch_acchr_codes\\2output\\0Hourly\\0Sontihn_RF\\0CBB_Pulse\\0output_mosaic\\2018071815_2000m.tif. Using WGS84 as default.\n",
      "Features shape: (250000, 3)\n",
      "NaN values before imputation: 114330\n",
      "NaN values after imputation: 114330\n",
      "Original data - Mean: 0.16, Max: 168.21\n",
      "Corrected data - Mean: 0.58, Max: 49.43\n"
     ]
    },
    {
     "name": "stderr",
     "output_type": "stream",
     "text": [
      " 34%|███████████████████████████▉                                                     | 81/235 [06:06<11:27,  4.47s/it]C:\\Users\\Admin\\anaconda3\\envs\\mossf\\lib\\site-packages\\sklearn\\base.py:493: FutureWarning: The feature names should match those that were passed during fit. Starting version 1.2, an error will be raised.\n",
      "Feature names unseen at fit time:\n",
      "- rainfall\n",
      "Feature names seen at fit time, yet now missing:\n",
      "- radar_rainfall\n",
      "\n",
      "  warnings.warn(message, FutureWarning)\n"
     ]
    },
    {
     "name": "stdout",
     "output_type": "stream",
     "text": [
      "\n",
      "Processing file: D:\\1Yang\\0Research\\0_2566_radar_mosaic\\00mos_chaophraya\\00run_batch_acchr_codes\\2output\\0Hourly\\0Sontihn_RF\\0CBB_Pulse\\0output_mosaic\\2018071816_2000m.tif\n",
      "Warning: CRS not defined for D:\\1Yang\\0Research\\0_2566_radar_mosaic\\00mos_chaophraya\\00run_batch_acchr_codes\\2output\\0Hourly\\0Sontihn_RF\\0CBB_Pulse\\0output_mosaic\\2018071816_2000m.tif. Using WGS84 as default.\n",
      "Features shape: (250000, 3)\n",
      "NaN values before imputation: 114326\n",
      "NaN values after imputation: 114326\n",
      "Original data - Mean: 0.15, Max: 80.63\n",
      "Corrected data - Mean: 0.56, Max: 49.43\n"
     ]
    },
    {
     "name": "stderr",
     "output_type": "stream",
     "text": [
      " 35%|████████████████████████████▎                                                    | 82/235 [06:10<11:22,  4.46s/it]C:\\Users\\Admin\\anaconda3\\envs\\mossf\\lib\\site-packages\\sklearn\\base.py:493: FutureWarning: The feature names should match those that were passed during fit. Starting version 1.2, an error will be raised.\n",
      "Feature names unseen at fit time:\n",
      "- rainfall\n",
      "Feature names seen at fit time, yet now missing:\n",
      "- radar_rainfall\n",
      "\n",
      "  warnings.warn(message, FutureWarning)\n"
     ]
    },
    {
     "name": "stdout",
     "output_type": "stream",
     "text": [
      "\n",
      "Processing file: D:\\1Yang\\0Research\\0_2566_radar_mosaic\\00mos_chaophraya\\00run_batch_acchr_codes\\2output\\0Hourly\\0Sontihn_RF\\0CBB_Pulse\\0output_mosaic\\2018071817_2000m.tif\n",
      "Warning: CRS not defined for D:\\1Yang\\0Research\\0_2566_radar_mosaic\\00mos_chaophraya\\00run_batch_acchr_codes\\2output\\0Hourly\\0Sontihn_RF\\0CBB_Pulse\\0output_mosaic\\2018071817_2000m.tif. Using WGS84 as default.\n",
      "Features shape: (250000, 3)\n",
      "NaN values before imputation: 114343\n",
      "NaN values after imputation: 114343\n",
      "Original data - Mean: 0.26, Max: 107.48\n",
      "Corrected data - Mean: 0.84, Max: 49.43\n"
     ]
    },
    {
     "name": "stderr",
     "output_type": "stream",
     "text": [
      " 35%|████████████████████████████▌                                                    | 83/235 [06:14<11:16,  4.45s/it]C:\\Users\\Admin\\anaconda3\\envs\\mossf\\lib\\site-packages\\sklearn\\base.py:493: FutureWarning: The feature names should match those that were passed during fit. Starting version 1.2, an error will be raised.\n",
      "Feature names unseen at fit time:\n",
      "- rainfall\n",
      "Feature names seen at fit time, yet now missing:\n",
      "- radar_rainfall\n",
      "\n",
      "  warnings.warn(message, FutureWarning)\n"
     ]
    },
    {
     "name": "stdout",
     "output_type": "stream",
     "text": [
      "\n",
      "Processing file: D:\\1Yang\\0Research\\0_2566_radar_mosaic\\00mos_chaophraya\\00run_batch_acchr_codes\\2output\\0Hourly\\0Sontihn_RF\\0CBB_Pulse\\0output_mosaic\\2018071818_2000m.tif\n",
      "Warning: CRS not defined for D:\\1Yang\\0Research\\0_2566_radar_mosaic\\00mos_chaophraya\\00run_batch_acchr_codes\\2output\\0Hourly\\0Sontihn_RF\\0CBB_Pulse\\0output_mosaic\\2018071818_2000m.tif. Using WGS84 as default.\n",
      "Features shape: (250000, 3)\n",
      "NaN values before imputation: 114319\n",
      "NaN values after imputation: 114319\n",
      "Original data - Mean: 0.45, Max: 143.93\n",
      "Corrected data - Mean: 1.19, Max: 49.43\n"
     ]
    },
    {
     "name": "stderr",
     "output_type": "stream",
     "text": [
      " 36%|████████████████████████████▉                                                    | 84/235 [06:19<11:15,  4.47s/it]C:\\Users\\Admin\\anaconda3\\envs\\mossf\\lib\\site-packages\\sklearn\\base.py:493: FutureWarning: The feature names should match those that were passed during fit. Starting version 1.2, an error will be raised.\n",
      "Feature names unseen at fit time:\n",
      "- rainfall\n",
      "Feature names seen at fit time, yet now missing:\n",
      "- radar_rainfall\n",
      "\n",
      "  warnings.warn(message, FutureWarning)\n"
     ]
    },
    {
     "name": "stdout",
     "output_type": "stream",
     "text": [
      "\n",
      "Processing file: D:\\1Yang\\0Research\\0_2566_radar_mosaic\\00mos_chaophraya\\00run_batch_acchr_codes\\2output\\0Hourly\\0Sontihn_RF\\0CBB_Pulse\\0output_mosaic\\2018071819_2000m.tif\n",
      "Warning: CRS not defined for D:\\1Yang\\0Research\\0_2566_radar_mosaic\\00mos_chaophraya\\00run_batch_acchr_codes\\2output\\0Hourly\\0Sontihn_RF\\0CBB_Pulse\\0output_mosaic\\2018071819_2000m.tif. Using WGS84 as default.\n",
      "Features shape: (250000, 3)\n",
      "NaN values before imputation: 122038\n",
      "NaN values after imputation: 122038\n",
      "Original data - Mean: 0.11, Max: 81.95\n",
      "Corrected data - Mean: 0.32, Max: 49.43\n"
     ]
    },
    {
     "name": "stderr",
     "output_type": "stream",
     "text": [
      " 36%|█████████████████████████████▎                                                   | 85/235 [06:23<11:08,  4.46s/it]C:\\Users\\Admin\\anaconda3\\envs\\mossf\\lib\\site-packages\\sklearn\\base.py:493: FutureWarning: The feature names should match those that were passed during fit. Starting version 1.2, an error will be raised.\n",
      "Feature names unseen at fit time:\n",
      "- rainfall\n",
      "Feature names seen at fit time, yet now missing:\n",
      "- radar_rainfall\n",
      "\n",
      "  warnings.warn(message, FutureWarning)\n"
     ]
    },
    {
     "name": "stdout",
     "output_type": "stream",
     "text": [
      "\n",
      "Processing file: D:\\1Yang\\0Research\\0_2566_radar_mosaic\\00mos_chaophraya\\00run_batch_acchr_codes\\2output\\0Hourly\\0Sontihn_RF\\0CBB_Pulse\\0output_mosaic\\2018071820_2000m.tif\n",
      "Warning: CRS not defined for D:\\1Yang\\0Research\\0_2566_radar_mosaic\\00mos_chaophraya\\00run_batch_acchr_codes\\2output\\0Hourly\\0Sontihn_RF\\0CBB_Pulse\\0output_mosaic\\2018071820_2000m.tif. Using WGS84 as default.\n",
      "Features shape: (250000, 3)\n",
      "NaN values before imputation: 122050\n",
      "NaN values after imputation: 122050\n",
      "Original data - Mean: 0.10, Max: 85.75\n",
      "Corrected data - Mean: 0.31, Max: 49.43\n"
     ]
    },
    {
     "name": "stderr",
     "output_type": "stream",
     "text": [
      " 37%|█████████████████████████████▋                                                   | 86/235 [06:28<11:04,  4.46s/it]C:\\Users\\Admin\\anaconda3\\envs\\mossf\\lib\\site-packages\\sklearn\\base.py:493: FutureWarning: The feature names should match those that were passed during fit. Starting version 1.2, an error will be raised.\n",
      "Feature names unseen at fit time:\n",
      "- rainfall\n",
      "Feature names seen at fit time, yet now missing:\n",
      "- radar_rainfall\n",
      "\n",
      "  warnings.warn(message, FutureWarning)\n"
     ]
    },
    {
     "name": "stdout",
     "output_type": "stream",
     "text": [
      "\n",
      "Processing file: D:\\1Yang\\0Research\\0_2566_radar_mosaic\\00mos_chaophraya\\00run_batch_acchr_codes\\2output\\0Hourly\\0Sontihn_RF\\0CBB_Pulse\\0output_mosaic\\2018071821_2000m.tif\n",
      "Warning: CRS not defined for D:\\1Yang\\0Research\\0_2566_radar_mosaic\\00mos_chaophraya\\00run_batch_acchr_codes\\2output\\0Hourly\\0Sontihn_RF\\0CBB_Pulse\\0output_mosaic\\2018071821_2000m.tif. Using WGS84 as default.\n",
      "Features shape: (250000, 3)\n",
      "NaN values before imputation: 114275\n",
      "NaN values after imputation: 114275\n",
      "Original data - Mean: 0.21, Max: 121.95\n",
      "Corrected data - Mean: 0.66, Max: 49.43\n"
     ]
    },
    {
     "name": "stderr",
     "output_type": "stream",
     "text": [
      " 37%|█████████████████████████████▉                                                   | 87/235 [06:32<11:01,  4.47s/it]C:\\Users\\Admin\\anaconda3\\envs\\mossf\\lib\\site-packages\\sklearn\\base.py:493: FutureWarning: The feature names should match those that were passed during fit. Starting version 1.2, an error will be raised.\n",
      "Feature names unseen at fit time:\n",
      "- rainfall\n",
      "Feature names seen at fit time, yet now missing:\n",
      "- radar_rainfall\n",
      "\n",
      "  warnings.warn(message, FutureWarning)\n"
     ]
    },
    {
     "name": "stdout",
     "output_type": "stream",
     "text": [
      "\n",
      "Processing file: D:\\1Yang\\0Research\\0_2566_radar_mosaic\\00mos_chaophraya\\00run_batch_acchr_codes\\2output\\0Hourly\\0Sontihn_RF\\0CBB_Pulse\\0output_mosaic\\2018071822_2000m.tif\n",
      "Warning: CRS not defined for D:\\1Yang\\0Research\\0_2566_radar_mosaic\\00mos_chaophraya\\00run_batch_acchr_codes\\2output\\0Hourly\\0Sontihn_RF\\0CBB_Pulse\\0output_mosaic\\2018071822_2000m.tif. Using WGS84 as default.\n",
      "Features shape: (250000, 3)\n",
      "NaN values before imputation: 114330\n",
      "NaN values after imputation: 114330\n",
      "Original data - Mean: 0.16, Max: 110.95\n",
      "Corrected data - Mean: 0.58, Max: 49.43\n"
     ]
    },
    {
     "name": "stderr",
     "output_type": "stream",
     "text": [
      " 37%|██████████████████████████████▎                                                  | 88/235 [06:37<10:58,  4.48s/it]C:\\Users\\Admin\\anaconda3\\envs\\mossf\\lib\\site-packages\\sklearn\\base.py:493: FutureWarning: The feature names should match those that were passed during fit. Starting version 1.2, an error will be raised.\n",
      "Feature names unseen at fit time:\n",
      "- rainfall\n",
      "Feature names seen at fit time, yet now missing:\n",
      "- radar_rainfall\n",
      "\n",
      "  warnings.warn(message, FutureWarning)\n"
     ]
    },
    {
     "name": "stdout",
     "output_type": "stream",
     "text": [
      "\n",
      "Processing file: D:\\1Yang\\0Research\\0_2566_radar_mosaic\\00mos_chaophraya\\00run_batch_acchr_codes\\2output\\0Hourly\\0Sontihn_RF\\0CBB_Pulse\\0output_mosaic\\2018071823_2000m.tif\n",
      "Warning: CRS not defined for D:\\1Yang\\0Research\\0_2566_radar_mosaic\\00mos_chaophraya\\00run_batch_acchr_codes\\2output\\0Hourly\\0Sontihn_RF\\0CBB_Pulse\\0output_mosaic\\2018071823_2000m.tif. Using WGS84 as default.\n",
      "Features shape: (250000, 3)\n",
      "NaN values before imputation: 114363\n",
      "NaN values after imputation: 114363\n",
      "Original data - Mean: 0.16, Max: 135.04\n",
      "Corrected data - Mean: 0.52, Max: 49.43\n"
     ]
    },
    {
     "name": "stderr",
     "output_type": "stream",
     "text": [
      " 38%|██████████████████████████████▋                                                  | 89/235 [06:41<10:57,  4.50s/it]C:\\Users\\Admin\\anaconda3\\envs\\mossf\\lib\\site-packages\\sklearn\\base.py:493: FutureWarning: The feature names should match those that were passed during fit. Starting version 1.2, an error will be raised.\n",
      "Feature names unseen at fit time:\n",
      "- rainfall\n",
      "Feature names seen at fit time, yet now missing:\n",
      "- radar_rainfall\n",
      "\n",
      "  warnings.warn(message, FutureWarning)\n"
     ]
    },
    {
     "name": "stdout",
     "output_type": "stream",
     "text": [
      "\n",
      "Processing file: D:\\1Yang\\0Research\\0_2566_radar_mosaic\\00mos_chaophraya\\00run_batch_acchr_codes\\2output\\0Hourly\\0Sontihn_RF\\0CBB_Pulse\\0output_mosaic\\2018071900_2000m.tif\n",
      "Warning: CRS not defined for D:\\1Yang\\0Research\\0_2566_radar_mosaic\\00mos_chaophraya\\00run_batch_acchr_codes\\2output\\0Hourly\\0Sontihn_RF\\0CBB_Pulse\\0output_mosaic\\2018071900_2000m.tif. Using WGS84 as default.\n",
      "Features shape: (250000, 3)\n",
      "NaN values before imputation: 114348\n",
      "NaN values after imputation: 114348\n",
      "Original data - Mean: 0.11, Max: 68.92\n",
      "Corrected data - Mean: 0.42, Max: 49.43\n"
     ]
    },
    {
     "name": "stderr",
     "output_type": "stream",
     "text": [
      " 38%|███████████████████████████████                                                  | 90/235 [06:46<10:51,  4.49s/it]C:\\Users\\Admin\\anaconda3\\envs\\mossf\\lib\\site-packages\\sklearn\\base.py:493: FutureWarning: The feature names should match those that were passed during fit. Starting version 1.2, an error will be raised.\n",
      "Feature names unseen at fit time:\n",
      "- rainfall\n",
      "Feature names seen at fit time, yet now missing:\n",
      "- radar_rainfall\n",
      "\n",
      "  warnings.warn(message, FutureWarning)\n"
     ]
    },
    {
     "name": "stdout",
     "output_type": "stream",
     "text": [
      "\n",
      "Processing file: D:\\1Yang\\0Research\\0_2566_radar_mosaic\\00mos_chaophraya\\00run_batch_acchr_codes\\2output\\0Hourly\\0Sontihn_RF\\0CBB_Pulse\\0output_mosaic\\2018071901_2000m.tif\n",
      "Warning: CRS not defined for D:\\1Yang\\0Research\\0_2566_radar_mosaic\\00mos_chaophraya\\00run_batch_acchr_codes\\2output\\0Hourly\\0Sontihn_RF\\0CBB_Pulse\\0output_mosaic\\2018071901_2000m.tif. Using WGS84 as default.\n",
      "Features shape: (250000, 3)\n",
      "NaN values before imputation: 114301\n",
      "NaN values after imputation: 114301\n",
      "Original data - Mean: 0.06, Max: 20.02\n",
      "Corrected data - Mean: 0.31, Max: 49.43\n"
     ]
    },
    {
     "name": "stderr",
     "output_type": "stream",
     "text": [
      " 39%|███████████████████████████████▎                                                 | 91/235 [06:50<10:45,  4.48s/it]C:\\Users\\Admin\\anaconda3\\envs\\mossf\\lib\\site-packages\\sklearn\\base.py:493: FutureWarning: The feature names should match those that were passed during fit. Starting version 1.2, an error will be raised.\n",
      "Feature names unseen at fit time:\n",
      "- rainfall\n",
      "Feature names seen at fit time, yet now missing:\n",
      "- radar_rainfall\n",
      "\n",
      "  warnings.warn(message, FutureWarning)\n"
     ]
    },
    {
     "name": "stdout",
     "output_type": "stream",
     "text": [
      "\n",
      "Processing file: D:\\1Yang\\0Research\\0_2566_radar_mosaic\\00mos_chaophraya\\00run_batch_acchr_codes\\2output\\0Hourly\\0Sontihn_RF\\0CBB_Pulse\\0output_mosaic\\2018071902_2000m.tif\n",
      "Warning: CRS not defined for D:\\1Yang\\0Research\\0_2566_radar_mosaic\\00mos_chaophraya\\00run_batch_acchr_codes\\2output\\0Hourly\\0Sontihn_RF\\0CBB_Pulse\\0output_mosaic\\2018071902_2000m.tif. Using WGS84 as default.\n",
      "Features shape: (250000, 3)\n",
      "NaN values before imputation: 114323\n",
      "NaN values after imputation: 114323\n",
      "Original data - Mean: 0.03, Max: 16.35\n",
      "Corrected data - Mean: 0.16, Max: 49.43\n"
     ]
    },
    {
     "name": "stderr",
     "output_type": "stream",
     "text": [
      " 39%|███████████████████████████████▋                                                 | 92/235 [06:55<10:41,  4.48s/it]C:\\Users\\Admin\\anaconda3\\envs\\mossf\\lib\\site-packages\\sklearn\\base.py:493: FutureWarning: The feature names should match those that were passed during fit. Starting version 1.2, an error will be raised.\n",
      "Feature names unseen at fit time:\n",
      "- rainfall\n",
      "Feature names seen at fit time, yet now missing:\n",
      "- radar_rainfall\n",
      "\n",
      "  warnings.warn(message, FutureWarning)\n"
     ]
    },
    {
     "name": "stdout",
     "output_type": "stream",
     "text": [
      "\n",
      "Processing file: D:\\1Yang\\0Research\\0_2566_radar_mosaic\\00mos_chaophraya\\00run_batch_acchr_codes\\2output\\0Hourly\\0Sontihn_RF\\0CBB_Pulse\\0output_mosaic\\2018071903_2000m.tif\n",
      "Warning: CRS not defined for D:\\1Yang\\0Research\\0_2566_radar_mosaic\\00mos_chaophraya\\00run_batch_acchr_codes\\2output\\0Hourly\\0Sontihn_RF\\0CBB_Pulse\\0output_mosaic\\2018071903_2000m.tif. Using WGS84 as default.\n",
      "Features shape: (250000, 3)\n",
      "NaN values before imputation: 114291\n",
      "NaN values after imputation: 114291\n",
      "Original data - Mean: 0.02, Max: 7.71\n",
      "Corrected data - Mean: 0.11, Max: 18.92\n"
     ]
    },
    {
     "name": "stderr",
     "output_type": "stream",
     "text": [
      " 40%|████████████████████████████████                                                 | 93/235 [06:59<10:39,  4.50s/it]C:\\Users\\Admin\\anaconda3\\envs\\mossf\\lib\\site-packages\\sklearn\\base.py:493: FutureWarning: The feature names should match those that were passed during fit. Starting version 1.2, an error will be raised.\n",
      "Feature names unseen at fit time:\n",
      "- rainfall\n",
      "Feature names seen at fit time, yet now missing:\n",
      "- radar_rainfall\n",
      "\n",
      "  warnings.warn(message, FutureWarning)\n"
     ]
    },
    {
     "name": "stdout",
     "output_type": "stream",
     "text": [
      "\n",
      "Processing file: D:\\1Yang\\0Research\\0_2566_radar_mosaic\\00mos_chaophraya\\00run_batch_acchr_codes\\2output\\0Hourly\\0Sontihn_RF\\0CBB_Pulse\\0output_mosaic\\2018071904_2000m.tif\n",
      "Warning: CRS not defined for D:\\1Yang\\0Research\\0_2566_radar_mosaic\\00mos_chaophraya\\00run_batch_acchr_codes\\2output\\0Hourly\\0Sontihn_RF\\0CBB_Pulse\\0output_mosaic\\2018071904_2000m.tif. Using WGS84 as default.\n",
      "Features shape: (250000, 3)\n",
      "NaN values before imputation: 114354\n",
      "NaN values after imputation: 114354\n",
      "Original data - Mean: 0.04, Max: 15.68\n",
      "Corrected data - Mean: 0.17, Max: 49.43\n"
     ]
    },
    {
     "name": "stderr",
     "output_type": "stream",
     "text": [
      " 40%|████████████████████████████████▍                                                | 94/235 [07:04<10:37,  4.52s/it]C:\\Users\\Admin\\anaconda3\\envs\\mossf\\lib\\site-packages\\sklearn\\base.py:493: FutureWarning: The feature names should match those that were passed during fit. Starting version 1.2, an error will be raised.\n",
      "Feature names unseen at fit time:\n",
      "- rainfall\n",
      "Feature names seen at fit time, yet now missing:\n",
      "- radar_rainfall\n",
      "\n",
      "  warnings.warn(message, FutureWarning)\n"
     ]
    },
    {
     "name": "stdout",
     "output_type": "stream",
     "text": [
      "\n",
      "Processing file: D:\\1Yang\\0Research\\0_2566_radar_mosaic\\00mos_chaophraya\\00run_batch_acchr_codes\\2output\\0Hourly\\0Sontihn_RF\\0CBB_Pulse\\0output_mosaic\\2018071905_2000m.tif\n",
      "Warning: CRS not defined for D:\\1Yang\\0Research\\0_2566_radar_mosaic\\00mos_chaophraya\\00run_batch_acchr_codes\\2output\\0Hourly\\0Sontihn_RF\\0CBB_Pulse\\0output_mosaic\\2018071905_2000m.tif. Using WGS84 as default.\n",
      "Features shape: (250000, 3)\n",
      "NaN values before imputation: 114333\n",
      "NaN values after imputation: 114333\n",
      "Original data - Mean: 0.03, Max: 13.25\n",
      "Corrected data - Mean: 0.14, Max: 49.43\n"
     ]
    },
    {
     "name": "stderr",
     "output_type": "stream",
     "text": [
      " 40%|████████████████████████████████▋                                                | 95/235 [07:08<10:33,  4.53s/it]C:\\Users\\Admin\\anaconda3\\envs\\mossf\\lib\\site-packages\\sklearn\\base.py:493: FutureWarning: The feature names should match those that were passed during fit. Starting version 1.2, an error will be raised.\n",
      "Feature names unseen at fit time:\n",
      "- rainfall\n",
      "Feature names seen at fit time, yet now missing:\n",
      "- radar_rainfall\n",
      "\n",
      "  warnings.warn(message, FutureWarning)\n"
     ]
    },
    {
     "name": "stdout",
     "output_type": "stream",
     "text": [
      "\n",
      "Processing file: D:\\1Yang\\0Research\\0_2566_radar_mosaic\\00mos_chaophraya\\00run_batch_acchr_codes\\2output\\0Hourly\\0Sontihn_RF\\0CBB_Pulse\\0output_mosaic\\2018071906_2000m.tif\n",
      "Warning: CRS not defined for D:\\1Yang\\0Research\\0_2566_radar_mosaic\\00mos_chaophraya\\00run_batch_acchr_codes\\2output\\0Hourly\\0Sontihn_RF\\0CBB_Pulse\\0output_mosaic\\2018071906_2000m.tif. Using WGS84 as default.\n",
      "Features shape: (250000, 3)\n",
      "NaN values before imputation: 114322\n",
      "NaN values after imputation: 114322\n",
      "Original data - Mean: 0.03, Max: 12.31\n",
      "Corrected data - Mean: 0.17, Max: 49.00\n"
     ]
    },
    {
     "name": "stderr",
     "output_type": "stream",
     "text": [
      " 41%|█████████████████████████████████                                                | 96/235 [07:13<10:27,  4.51s/it]C:\\Users\\Admin\\anaconda3\\envs\\mossf\\lib\\site-packages\\sklearn\\base.py:493: FutureWarning: The feature names should match those that were passed during fit. Starting version 1.2, an error will be raised.\n",
      "Feature names unseen at fit time:\n",
      "- rainfall\n",
      "Feature names seen at fit time, yet now missing:\n",
      "- radar_rainfall\n",
      "\n",
      "  warnings.warn(message, FutureWarning)\n"
     ]
    },
    {
     "name": "stdout",
     "output_type": "stream",
     "text": [
      "\n",
      "Processing file: D:\\1Yang\\0Research\\0_2566_radar_mosaic\\00mos_chaophraya\\00run_batch_acchr_codes\\2output\\0Hourly\\0Sontihn_RF\\0CBB_Pulse\\0output_mosaic\\2018071907_2000m.tif\n",
      "Warning: CRS not defined for D:\\1Yang\\0Research\\0_2566_radar_mosaic\\00mos_chaophraya\\00run_batch_acchr_codes\\2output\\0Hourly\\0Sontihn_RF\\0CBB_Pulse\\0output_mosaic\\2018071907_2000m.tif. Using WGS84 as default.\n",
      "Features shape: (250000, 3)\n",
      "NaN values before imputation: 114343\n",
      "NaN values after imputation: 114343\n",
      "Original data - Mean: 0.02, Max: 13.08\n",
      "Corrected data - Mean: 0.11, Max: 49.43\n"
     ]
    },
    {
     "name": "stderr",
     "output_type": "stream",
     "text": [
      " 41%|█████████████████████████████████▍                                               | 97/235 [07:18<10:25,  4.53s/it]C:\\Users\\Admin\\anaconda3\\envs\\mossf\\lib\\site-packages\\sklearn\\base.py:493: FutureWarning: The feature names should match those that were passed during fit. Starting version 1.2, an error will be raised.\n",
      "Feature names unseen at fit time:\n",
      "- rainfall\n",
      "Feature names seen at fit time, yet now missing:\n",
      "- radar_rainfall\n",
      "\n",
      "  warnings.warn(message, FutureWarning)\n"
     ]
    },
    {
     "name": "stdout",
     "output_type": "stream",
     "text": [
      "\n",
      "Processing file: D:\\1Yang\\0Research\\0_2566_radar_mosaic\\00mos_chaophraya\\00run_batch_acchr_codes\\2output\\0Hourly\\0Sontihn_RF\\0CBB_Pulse\\0output_mosaic\\2018071908_2000m.tif\n",
      "Warning: CRS not defined for D:\\1Yang\\0Research\\0_2566_radar_mosaic\\00mos_chaophraya\\00run_batch_acchr_codes\\2output\\0Hourly\\0Sontihn_RF\\0CBB_Pulse\\0output_mosaic\\2018071908_2000m.tif. Using WGS84 as default.\n",
      "Features shape: (250000, 3)\n",
      "NaN values before imputation: 114387\n",
      "NaN values after imputation: 114387\n",
      "Original data - Mean: 0.01, Max: 13.31\n",
      "Corrected data - Mean: 0.07, Max: 49.43\n"
     ]
    },
    {
     "name": "stderr",
     "output_type": "stream",
     "text": [
      " 42%|█████████████████████████████████▊                                               | 98/235 [07:22<10:25,  4.57s/it]C:\\Users\\Admin\\anaconda3\\envs\\mossf\\lib\\site-packages\\sklearn\\base.py:493: FutureWarning: The feature names should match those that were passed during fit. Starting version 1.2, an error will be raised.\n",
      "Feature names unseen at fit time:\n",
      "- rainfall\n",
      "Feature names seen at fit time, yet now missing:\n",
      "- radar_rainfall\n",
      "\n",
      "  warnings.warn(message, FutureWarning)\n"
     ]
    },
    {
     "name": "stdout",
     "output_type": "stream",
     "text": [
      "\n",
      "Processing file: D:\\1Yang\\0Research\\0_2566_radar_mosaic\\00mos_chaophraya\\00run_batch_acchr_codes\\2output\\0Hourly\\0Sontihn_RF\\0CBB_Pulse\\0output_mosaic\\2018071909_2000m.tif\n",
      "Warning: CRS not defined for D:\\1Yang\\0Research\\0_2566_radar_mosaic\\00mos_chaophraya\\00run_batch_acchr_codes\\2output\\0Hourly\\0Sontihn_RF\\0CBB_Pulse\\0output_mosaic\\2018071909_2000m.tif. Using WGS84 as default.\n",
      "Features shape: (250000, 3)\n",
      "NaN values before imputation: 114439\n",
      "NaN values after imputation: 114439\n",
      "Original data - Mean: 0.01, Max: 10.13\n",
      "Corrected data - Mean: 0.16, Max: 24.95\n"
     ]
    },
    {
     "name": "stderr",
     "output_type": "stream",
     "text": [
      " 42%|██████████████████████████████████                                               | 99/235 [07:27<10:18,  4.55s/it]C:\\Users\\Admin\\anaconda3\\envs\\mossf\\lib\\site-packages\\sklearn\\base.py:493: FutureWarning: The feature names should match those that were passed during fit. Starting version 1.2, an error will be raised.\n",
      "Feature names unseen at fit time:\n",
      "- rainfall\n",
      "Feature names seen at fit time, yet now missing:\n",
      "- radar_rainfall\n",
      "\n",
      "  warnings.warn(message, FutureWarning)\n"
     ]
    },
    {
     "name": "stdout",
     "output_type": "stream",
     "text": [
      "\n",
      "Processing file: D:\\1Yang\\0Research\\0_2566_radar_mosaic\\00mos_chaophraya\\00run_batch_acchr_codes\\2output\\0Hourly\\0Sontihn_RF\\0CBB_Pulse\\0output_mosaic\\2018071910_2000m.tif\n",
      "Warning: CRS not defined for D:\\1Yang\\0Research\\0_2566_radar_mosaic\\00mos_chaophraya\\00run_batch_acchr_codes\\2output\\0Hourly\\0Sontihn_RF\\0CBB_Pulse\\0output_mosaic\\2018071910_2000m.tif. Using WGS84 as default.\n",
      "Features shape: (250000, 3)\n",
      "NaN values before imputation: 114340\n",
      "NaN values after imputation: 114340\n",
      "Original data - Mean: 0.02, Max: 10.47\n",
      "Corrected data - Mean: 0.21, Max: 36.39\n"
     ]
    },
    {
     "name": "stderr",
     "output_type": "stream",
     "text": [
      " 43%|██████████████████████████████████                                              | 100/235 [07:31<10:13,  4.54s/it]C:\\Users\\Admin\\anaconda3\\envs\\mossf\\lib\\site-packages\\sklearn\\base.py:493: FutureWarning: The feature names should match those that were passed during fit. Starting version 1.2, an error will be raised.\n",
      "Feature names unseen at fit time:\n",
      "- rainfall\n",
      "Feature names seen at fit time, yet now missing:\n",
      "- radar_rainfall\n",
      "\n",
      "  warnings.warn(message, FutureWarning)\n"
     ]
    },
    {
     "name": "stdout",
     "output_type": "stream",
     "text": [
      "\n",
      "Processing file: D:\\1Yang\\0Research\\0_2566_radar_mosaic\\00mos_chaophraya\\00run_batch_acchr_codes\\2output\\0Hourly\\0Sontihn_RF\\0CBB_Pulse\\0output_mosaic\\2018071911_2000m.tif\n",
      "Warning: CRS not defined for D:\\1Yang\\0Research\\0_2566_radar_mosaic\\00mos_chaophraya\\00run_batch_acchr_codes\\2output\\0Hourly\\0Sontihn_RF\\0CBB_Pulse\\0output_mosaic\\2018071911_2000m.tif. Using WGS84 as default.\n",
      "Features shape: (250000, 3)\n",
      "NaN values before imputation: 114398\n",
      "NaN values after imputation: 114398\n",
      "Original data - Mean: 0.04, Max: 15.37\n",
      "Corrected data - Mean: 0.39, Max: 49.43\n"
     ]
    },
    {
     "name": "stderr",
     "output_type": "stream",
     "text": [
      " 43%|██████████████████████████████████▍                                             | 101/235 [07:36<10:10,  4.55s/it]C:\\Users\\Admin\\anaconda3\\envs\\mossf\\lib\\site-packages\\sklearn\\base.py:493: FutureWarning: The feature names should match those that were passed during fit. Starting version 1.2, an error will be raised.\n",
      "Feature names unseen at fit time:\n",
      "- rainfall\n",
      "Feature names seen at fit time, yet now missing:\n",
      "- radar_rainfall\n",
      "\n",
      "  warnings.warn(message, FutureWarning)\n"
     ]
    },
    {
     "name": "stdout",
     "output_type": "stream",
     "text": [
      "\n",
      "Processing file: D:\\1Yang\\0Research\\0_2566_radar_mosaic\\00mos_chaophraya\\00run_batch_acchr_codes\\2output\\0Hourly\\0Sontihn_RF\\0CBB_Pulse\\0output_mosaic\\2018071912_2000m.tif\n",
      "Warning: CRS not defined for D:\\1Yang\\0Research\\0_2566_radar_mosaic\\00mos_chaophraya\\00run_batch_acchr_codes\\2output\\0Hourly\\0Sontihn_RF\\0CBB_Pulse\\0output_mosaic\\2018071912_2000m.tif. Using WGS84 as default.\n",
      "Features shape: (250000, 3)\n",
      "NaN values before imputation: 114373\n",
      "NaN values after imputation: 114373\n",
      "Original data - Mean: 0.04, Max: 10.26\n",
      "Corrected data - Mean: 0.50, Max: 25.11\n"
     ]
    },
    {
     "name": "stderr",
     "output_type": "stream",
     "text": [
      " 43%|██████████████████████████████████▋                                             | 102/235 [07:40<10:02,  4.53s/it]C:\\Users\\Admin\\anaconda3\\envs\\mossf\\lib\\site-packages\\sklearn\\base.py:493: FutureWarning: The feature names should match those that were passed during fit. Starting version 1.2, an error will be raised.\n",
      "Feature names unseen at fit time:\n",
      "- rainfall\n",
      "Feature names seen at fit time, yet now missing:\n",
      "- radar_rainfall\n",
      "\n",
      "  warnings.warn(message, FutureWarning)\n"
     ]
    },
    {
     "name": "stdout",
     "output_type": "stream",
     "text": [
      "\n",
      "Processing file: D:\\1Yang\\0Research\\0_2566_radar_mosaic\\00mos_chaophraya\\00run_batch_acchr_codes\\2output\\0Hourly\\0Sontihn_RF\\0CBB_Pulse\\0output_mosaic\\2018071913_2000m.tif\n",
      "Warning: CRS not defined for D:\\1Yang\\0Research\\0_2566_radar_mosaic\\00mos_chaophraya\\00run_batch_acchr_codes\\2output\\0Hourly\\0Sontihn_RF\\0CBB_Pulse\\0output_mosaic\\2018071913_2000m.tif. Using WGS84 as default.\n",
      "Features shape: (250000, 3)\n",
      "NaN values before imputation: 114324\n",
      "NaN values after imputation: 114324\n",
      "Original data - Mean: 0.05, Max: 34.72\n",
      "Corrected data - Mean: 0.55, Max: 49.43\n"
     ]
    },
    {
     "name": "stderr",
     "output_type": "stream",
     "text": [
      " 44%|███████████████████████████████████                                             | 103/235 [07:45<09:57,  4.53s/it]C:\\Users\\Admin\\anaconda3\\envs\\mossf\\lib\\site-packages\\sklearn\\base.py:493: FutureWarning: The feature names should match those that were passed during fit. Starting version 1.2, an error will be raised.\n",
      "Feature names unseen at fit time:\n",
      "- rainfall\n",
      "Feature names seen at fit time, yet now missing:\n",
      "- radar_rainfall\n",
      "\n",
      "  warnings.warn(message, FutureWarning)\n"
     ]
    },
    {
     "name": "stdout",
     "output_type": "stream",
     "text": [
      "\n",
      "Processing file: D:\\1Yang\\0Research\\0_2566_radar_mosaic\\00mos_chaophraya\\00run_batch_acchr_codes\\2output\\0Hourly\\0Sontihn_RF\\0CBB_Pulse\\0output_mosaic\\2018071914_2000m.tif\n",
      "Warning: CRS not defined for D:\\1Yang\\0Research\\0_2566_radar_mosaic\\00mos_chaophraya\\00run_batch_acchr_codes\\2output\\0Hourly\\0Sontihn_RF\\0CBB_Pulse\\0output_mosaic\\2018071914_2000m.tif. Using WGS84 as default.\n",
      "Features shape: (250000, 3)\n",
      "NaN values before imputation: 114247\n",
      "NaN values after imputation: 114247\n",
      "Original data - Mean: 0.08, Max: 87.91\n",
      "Corrected data - Mean: 0.65, Max: 49.43\n"
     ]
    },
    {
     "name": "stderr",
     "output_type": "stream",
     "text": [
      " 44%|███████████████████████████████████▍                                            | 104/235 [07:49<09:56,  4.55s/it]C:\\Users\\Admin\\anaconda3\\envs\\mossf\\lib\\site-packages\\sklearn\\base.py:493: FutureWarning: The feature names should match those that were passed during fit. Starting version 1.2, an error will be raised.\n",
      "Feature names unseen at fit time:\n",
      "- rainfall\n",
      "Feature names seen at fit time, yet now missing:\n",
      "- radar_rainfall\n",
      "\n",
      "  warnings.warn(message, FutureWarning)\n"
     ]
    },
    {
     "name": "stdout",
     "output_type": "stream",
     "text": [
      "\n",
      "Processing file: D:\\1Yang\\0Research\\0_2566_radar_mosaic\\00mos_chaophraya\\00run_batch_acchr_codes\\2output\\0Hourly\\0Sontihn_RF\\0CBB_Pulse\\0output_mosaic\\2018071915_2000m.tif\n",
      "Warning: CRS not defined for D:\\1Yang\\0Research\\0_2566_radar_mosaic\\00mos_chaophraya\\00run_batch_acchr_codes\\2output\\0Hourly\\0Sontihn_RF\\0CBB_Pulse\\0output_mosaic\\2018071915_2000m.tif. Using WGS84 as default.\n",
      "Features shape: (250000, 3)\n",
      "NaN values before imputation: 114357\n",
      "NaN values after imputation: 114357\n",
      "Original data - Mean: 0.09, Max: 83.77\n",
      "Corrected data - Mean: 0.57, Max: 49.43\n"
     ]
    },
    {
     "name": "stderr",
     "output_type": "stream",
     "text": [
      " 45%|███████████████████████████████████▋                                            | 105/235 [07:54<09:54,  4.57s/it]C:\\Users\\Admin\\anaconda3\\envs\\mossf\\lib\\site-packages\\sklearn\\base.py:493: FutureWarning: The feature names should match those that were passed during fit. Starting version 1.2, an error will be raised.\n",
      "Feature names unseen at fit time:\n",
      "- rainfall\n",
      "Feature names seen at fit time, yet now missing:\n",
      "- radar_rainfall\n",
      "\n",
      "  warnings.warn(message, FutureWarning)\n"
     ]
    },
    {
     "name": "stdout",
     "output_type": "stream",
     "text": [
      "\n",
      "Processing file: D:\\1Yang\\0Research\\0_2566_radar_mosaic\\00mos_chaophraya\\00run_batch_acchr_codes\\2output\\0Hourly\\0Sontihn_RF\\0CBB_Pulse\\0output_mosaic\\2018071916_2000m.tif\n",
      "Warning: CRS not defined for D:\\1Yang\\0Research\\0_2566_radar_mosaic\\00mos_chaophraya\\00run_batch_acchr_codes\\2output\\0Hourly\\0Sontihn_RF\\0CBB_Pulse\\0output_mosaic\\2018071916_2000m.tif. Using WGS84 as default.\n",
      "Features shape: (250000, 3)\n",
      "NaN values before imputation: 0\n",
      "NaN values after imputation: 0\n",
      "Original data - Mean: 0.02, Max: 48.40\n",
      "Corrected data - Mean: 0.22, Max: 49.43\n"
     ]
    },
    {
     "name": "stderr",
     "output_type": "stream",
     "text": [
      " 45%|████████████████████████████████████                                            | 106/235 [07:59<10:12,  4.75s/it]C:\\Users\\Admin\\anaconda3\\envs\\mossf\\lib\\site-packages\\sklearn\\base.py:493: FutureWarning: The feature names should match those that were passed during fit. Starting version 1.2, an error will be raised.\n",
      "Feature names unseen at fit time:\n",
      "- rainfall\n",
      "Feature names seen at fit time, yet now missing:\n",
      "- radar_rainfall\n",
      "\n",
      "  warnings.warn(message, FutureWarning)\n"
     ]
    },
    {
     "name": "stdout",
     "output_type": "stream",
     "text": [
      "\n",
      "Processing file: D:\\1Yang\\0Research\\0_2566_radar_mosaic\\00mos_chaophraya\\00run_batch_acchr_codes\\2output\\0Hourly\\0Sontihn_RF\\0CBB_Pulse\\0output_mosaic\\2018071917_2000m.tif\n",
      "Warning: CRS not defined for D:\\1Yang\\0Research\\0_2566_radar_mosaic\\00mos_chaophraya\\00run_batch_acchr_codes\\2output\\0Hourly\\0Sontihn_RF\\0CBB_Pulse\\0output_mosaic\\2018071917_2000m.tif. Using WGS84 as default.\n",
      "Features shape: (250000, 3)\n",
      "NaN values before imputation: 114307\n",
      "NaN values after imputation: 114307\n",
      "Original data - Mean: 0.08, Max: 28.20\n",
      "Corrected data - Mean: 0.63, Max: 49.43\n"
     ]
    },
    {
     "name": "stderr",
     "output_type": "stream",
     "text": [
      " 46%|████████████████████████████████████▍                                           | 107/235 [08:04<09:58,  4.68s/it]C:\\Users\\Admin\\anaconda3\\envs\\mossf\\lib\\site-packages\\sklearn\\base.py:493: FutureWarning: The feature names should match those that were passed during fit. Starting version 1.2, an error will be raised.\n",
      "Feature names unseen at fit time:\n",
      "- rainfall\n",
      "Feature names seen at fit time, yet now missing:\n",
      "- radar_rainfall\n",
      "\n",
      "  warnings.warn(message, FutureWarning)\n"
     ]
    },
    {
     "name": "stdout",
     "output_type": "stream",
     "text": [
      "\n",
      "Processing file: D:\\1Yang\\0Research\\0_2566_radar_mosaic\\00mos_chaophraya\\00run_batch_acchr_codes\\2output\\0Hourly\\0Sontihn_RF\\0CBB_Pulse\\0output_mosaic\\2018071918_2000m.tif\n",
      "Warning: CRS not defined for D:\\1Yang\\0Research\\0_2566_radar_mosaic\\00mos_chaophraya\\00run_batch_acchr_codes\\2output\\0Hourly\\0Sontihn_RF\\0CBB_Pulse\\0output_mosaic\\2018071918_2000m.tif. Using WGS84 as default.\n",
      "Features shape: (250000, 3)\n",
      "NaN values before imputation: 114350\n",
      "NaN values after imputation: 114350\n",
      "Original data - Mean: 0.10, Max: 58.43\n",
      "Corrected data - Mean: 0.71, Max: 49.43\n"
     ]
    },
    {
     "name": "stderr",
     "output_type": "stream",
     "text": [
      " 46%|████████████████████████████████████▊                                           | 108/235 [08:08<09:47,  4.62s/it]C:\\Users\\Admin\\anaconda3\\envs\\mossf\\lib\\site-packages\\sklearn\\base.py:493: FutureWarning: The feature names should match those that were passed during fit. Starting version 1.2, an error will be raised.\n",
      "Feature names unseen at fit time:\n",
      "- rainfall\n",
      "Feature names seen at fit time, yet now missing:\n",
      "- radar_rainfall\n",
      "\n",
      "  warnings.warn(message, FutureWarning)\n"
     ]
    },
    {
     "name": "stdout",
     "output_type": "stream",
     "text": [
      "\n",
      "Processing file: D:\\1Yang\\0Research\\0_2566_radar_mosaic\\00mos_chaophraya\\00run_batch_acchr_codes\\2output\\0Hourly\\0Sontihn_RF\\0CBB_Pulse\\0output_mosaic\\2018071919_2000m.tif\n",
      "Warning: CRS not defined for D:\\1Yang\\0Research\\0_2566_radar_mosaic\\00mos_chaophraya\\00run_batch_acchr_codes\\2output\\0Hourly\\0Sontihn_RF\\0CBB_Pulse\\0output_mosaic\\2018071919_2000m.tif. Using WGS84 as default.\n",
      "Features shape: (250000, 3)\n",
      "NaN values before imputation: 114264\n",
      "NaN values after imputation: 114264\n",
      "Original data - Mean: 0.10, Max: 38.98\n",
      "Corrected data - Mean: 0.70, Max: 49.43\n"
     ]
    },
    {
     "name": "stderr",
     "output_type": "stream",
     "text": [
      " 46%|█████████████████████████████████████                                           | 109/235 [08:13<09:36,  4.57s/it]C:\\Users\\Admin\\anaconda3\\envs\\mossf\\lib\\site-packages\\sklearn\\base.py:493: FutureWarning: The feature names should match those that were passed during fit. Starting version 1.2, an error will be raised.\n",
      "Feature names unseen at fit time:\n",
      "- rainfall\n",
      "Feature names seen at fit time, yet now missing:\n",
      "- radar_rainfall\n",
      "\n",
      "  warnings.warn(message, FutureWarning)\n"
     ]
    },
    {
     "name": "stdout",
     "output_type": "stream",
     "text": [
      "\n",
      "Processing file: D:\\1Yang\\0Research\\0_2566_radar_mosaic\\00mos_chaophraya\\00run_batch_acchr_codes\\2output\\0Hourly\\0Sontihn_RF\\0CBB_Pulse\\0output_mosaic\\2018071920_2000m.tif\n",
      "Warning: CRS not defined for D:\\1Yang\\0Research\\0_2566_radar_mosaic\\00mos_chaophraya\\00run_batch_acchr_codes\\2output\\0Hourly\\0Sontihn_RF\\0CBB_Pulse\\0output_mosaic\\2018071920_2000m.tif. Using WGS84 as default.\n",
      "Features shape: (250000, 3)\n",
      "NaN values before imputation: 114308\n",
      "NaN values after imputation: 114308\n",
      "Original data - Mean: 0.07, Max: 9.38\n",
      "Corrected data - Mean: 0.64, Max: 22.88\n"
     ]
    },
    {
     "name": "stderr",
     "output_type": "stream",
     "text": [
      " 47%|█████████████████████████████████████▍                                          | 110/235 [08:17<09:24,  4.52s/it]C:\\Users\\Admin\\anaconda3\\envs\\mossf\\lib\\site-packages\\sklearn\\base.py:493: FutureWarning: The feature names should match those that were passed during fit. Starting version 1.2, an error will be raised.\n",
      "Feature names unseen at fit time:\n",
      "- rainfall\n",
      "Feature names seen at fit time, yet now missing:\n",
      "- radar_rainfall\n",
      "\n",
      "  warnings.warn(message, FutureWarning)\n"
     ]
    },
    {
     "name": "stdout",
     "output_type": "stream",
     "text": [
      "\n",
      "Processing file: D:\\1Yang\\0Research\\0_2566_radar_mosaic\\00mos_chaophraya\\00run_batch_acchr_codes\\2output\\0Hourly\\0Sontihn_RF\\0CBB_Pulse\\0output_mosaic\\2018071921_2000m.tif\n",
      "Warning: CRS not defined for D:\\1Yang\\0Research\\0_2566_radar_mosaic\\00mos_chaophraya\\00run_batch_acchr_codes\\2output\\0Hourly\\0Sontihn_RF\\0CBB_Pulse\\0output_mosaic\\2018071921_2000m.tif. Using WGS84 as default.\n",
      "Features shape: (250000, 3)\n",
      "NaN values before imputation: 114338\n",
      "NaN values after imputation: 114338\n",
      "Original data - Mean: 0.06, Max: 20.23\n",
      "Corrected data - Mean: 0.53, Max: 49.43\n"
     ]
    },
    {
     "name": "stderr",
     "output_type": "stream",
     "text": [
      " 47%|█████████████████████████████████████▊                                          | 111/235 [08:21<09:19,  4.51s/it]C:\\Users\\Admin\\anaconda3\\envs\\mossf\\lib\\site-packages\\sklearn\\base.py:493: FutureWarning: The feature names should match those that were passed during fit. Starting version 1.2, an error will be raised.\n",
      "Feature names unseen at fit time:\n",
      "- rainfall\n",
      "Feature names seen at fit time, yet now missing:\n",
      "- radar_rainfall\n",
      "\n",
      "  warnings.warn(message, FutureWarning)\n"
     ]
    },
    {
     "name": "stdout",
     "output_type": "stream",
     "text": [
      "\n",
      "Processing file: D:\\1Yang\\0Research\\0_2566_radar_mosaic\\00mos_chaophraya\\00run_batch_acchr_codes\\2output\\0Hourly\\0Sontihn_RF\\0CBB_Pulse\\0output_mosaic\\2018071922_2000m.tif\n",
      "Warning: CRS not defined for D:\\1Yang\\0Research\\0_2566_radar_mosaic\\00mos_chaophraya\\00run_batch_acchr_codes\\2output\\0Hourly\\0Sontihn_RF\\0CBB_Pulse\\0output_mosaic\\2018071922_2000m.tif. Using WGS84 as default.\n",
      "Features shape: (250000, 3)\n",
      "NaN values before imputation: 114406\n",
      "NaN values after imputation: 114406\n",
      "Original data - Mean: 0.04, Max: 12.13\n",
      "Corrected data - Mean: 0.49, Max: 49.00\n"
     ]
    },
    {
     "name": "stderr",
     "output_type": "stream",
     "text": [
      " 48%|██████████████████████████████████████▏                                         | 112/235 [08:26<09:13,  4.50s/it]C:\\Users\\Admin\\anaconda3\\envs\\mossf\\lib\\site-packages\\sklearn\\base.py:493: FutureWarning: The feature names should match those that were passed during fit. Starting version 1.2, an error will be raised.\n",
      "Feature names unseen at fit time:\n",
      "- rainfall\n",
      "Feature names seen at fit time, yet now missing:\n",
      "- radar_rainfall\n",
      "\n",
      "  warnings.warn(message, FutureWarning)\n"
     ]
    },
    {
     "name": "stdout",
     "output_type": "stream",
     "text": [
      "\n",
      "Processing file: D:\\1Yang\\0Research\\0_2566_radar_mosaic\\00mos_chaophraya\\00run_batch_acchr_codes\\2output\\0Hourly\\0Sontihn_RF\\0CBB_Pulse\\0output_mosaic\\2018071923_2000m.tif\n",
      "Warning: CRS not defined for D:\\1Yang\\0Research\\0_2566_radar_mosaic\\00mos_chaophraya\\00run_batch_acchr_codes\\2output\\0Hourly\\0Sontihn_RF\\0CBB_Pulse\\0output_mosaic\\2018071923_2000m.tif. Using WGS84 as default.\n",
      "Features shape: (250000, 3)\n",
      "NaN values before imputation: 114330\n",
      "NaN values after imputation: 114330\n",
      "Original data - Mean: 0.05, Max: 82.43\n",
      "Corrected data - Mean: 0.48, Max: 49.43\n"
     ]
    },
    {
     "name": "stderr",
     "output_type": "stream",
     "text": [
      " 48%|██████████████████████████████████████▍                                         | 113/235 [08:31<09:11,  4.52s/it]C:\\Users\\Admin\\anaconda3\\envs\\mossf\\lib\\site-packages\\sklearn\\base.py:493: FutureWarning: The feature names should match those that were passed during fit. Starting version 1.2, an error will be raised.\n",
      "Feature names unseen at fit time:\n",
      "- rainfall\n",
      "Feature names seen at fit time, yet now missing:\n",
      "- radar_rainfall\n",
      "\n",
      "  warnings.warn(message, FutureWarning)\n"
     ]
    },
    {
     "name": "stdout",
     "output_type": "stream",
     "text": [
      "\n",
      "Processing file: D:\\1Yang\\0Research\\0_2566_radar_mosaic\\00mos_chaophraya\\00run_batch_acchr_codes\\2output\\0Hourly\\0Sontihn_RF\\0CBB_Pulse\\0output_mosaic\\2018072000_2000m.tif\n",
      "Warning: CRS not defined for D:\\1Yang\\0Research\\0_2566_radar_mosaic\\00mos_chaophraya\\00run_batch_acchr_codes\\2output\\0Hourly\\0Sontihn_RF\\0CBB_Pulse\\0output_mosaic\\2018072000_2000m.tif. Using WGS84 as default.\n",
      "Features shape: (250000, 3)\n",
      "NaN values before imputation: 114333\n",
      "NaN values after imputation: 114333\n",
      "Original data - Mean: 0.06, Max: 54.46\n",
      "Corrected data - Mean: 0.55, Max: 49.43\n"
     ]
    },
    {
     "name": "stderr",
     "output_type": "stream",
     "text": [
      " 49%|██████████████████████████████████████▊                                         | 114/235 [08:35<09:04,  4.50s/it]C:\\Users\\Admin\\anaconda3\\envs\\mossf\\lib\\site-packages\\sklearn\\base.py:493: FutureWarning: The feature names should match those that were passed during fit. Starting version 1.2, an error will be raised.\n",
      "Feature names unseen at fit time:\n",
      "- rainfall\n",
      "Feature names seen at fit time, yet now missing:\n",
      "- radar_rainfall\n",
      "\n",
      "  warnings.warn(message, FutureWarning)\n"
     ]
    },
    {
     "name": "stdout",
     "output_type": "stream",
     "text": [
      "\n",
      "Processing file: D:\\1Yang\\0Research\\0_2566_radar_mosaic\\00mos_chaophraya\\00run_batch_acchr_codes\\2output\\0Hourly\\0Sontihn_RF\\0CBB_Pulse\\0output_mosaic\\2018072001_2000m.tif\n",
      "Warning: CRS not defined for D:\\1Yang\\0Research\\0_2566_radar_mosaic\\00mos_chaophraya\\00run_batch_acchr_codes\\2output\\0Hourly\\0Sontihn_RF\\0CBB_Pulse\\0output_mosaic\\2018072001_2000m.tif. Using WGS84 as default.\n",
      "Features shape: (250000, 3)\n",
      "NaN values before imputation: 114296\n",
      "NaN values after imputation: 114296\n",
      "Original data - Mean: 0.05, Max: 19.51\n",
      "Corrected data - Mean: 0.65, Max: 49.43\n"
     ]
    },
    {
     "name": "stderr",
     "output_type": "stream",
     "text": [
      " 49%|███████████████████████████████████████▏                                        | 115/235 [08:40<09:12,  4.60s/it]C:\\Users\\Admin\\anaconda3\\envs\\mossf\\lib\\site-packages\\sklearn\\base.py:493: FutureWarning: The feature names should match those that were passed during fit. Starting version 1.2, an error will be raised.\n",
      "Feature names unseen at fit time:\n",
      "- rainfall\n",
      "Feature names seen at fit time, yet now missing:\n",
      "- radar_rainfall\n",
      "\n",
      "  warnings.warn(message, FutureWarning)\n"
     ]
    },
    {
     "name": "stdout",
     "output_type": "stream",
     "text": [
      "\n",
      "Processing file: D:\\1Yang\\0Research\\0_2566_radar_mosaic\\00mos_chaophraya\\00run_batch_acchr_codes\\2output\\0Hourly\\0Sontihn_RF\\0CBB_Pulse\\0output_mosaic\\2018072002_2000m.tif\n",
      "Warning: CRS not defined for D:\\1Yang\\0Research\\0_2566_radar_mosaic\\00mos_chaophraya\\00run_batch_acchr_codes\\2output\\0Hourly\\0Sontihn_RF\\0CBB_Pulse\\0output_mosaic\\2018072002_2000m.tif. Using WGS84 as default.\n",
      "Features shape: (250000, 3)\n",
      "NaN values before imputation: 114334\n",
      "NaN values after imputation: 114334\n",
      "Original data - Mean: 0.05, Max: 24.91\n",
      "Corrected data - Mean: 0.57, Max: 49.43\n"
     ]
    },
    {
     "name": "stderr",
     "output_type": "stream",
     "text": [
      " 49%|███████████████████████████████████████▍                                        | 116/235 [08:44<09:03,  4.57s/it]C:\\Users\\Admin\\anaconda3\\envs\\mossf\\lib\\site-packages\\sklearn\\base.py:493: FutureWarning: The feature names should match those that were passed during fit. Starting version 1.2, an error will be raised.\n",
      "Feature names unseen at fit time:\n",
      "- rainfall\n",
      "Feature names seen at fit time, yet now missing:\n",
      "- radar_rainfall\n",
      "\n",
      "  warnings.warn(message, FutureWarning)\n"
     ]
    },
    {
     "name": "stdout",
     "output_type": "stream",
     "text": [
      "\n",
      "Processing file: D:\\1Yang\\0Research\\0_2566_radar_mosaic\\00mos_chaophraya\\00run_batch_acchr_codes\\2output\\0Hourly\\0Sontihn_RF\\0CBB_Pulse\\0output_mosaic\\2018072003_2000m.tif\n",
      "Warning: CRS not defined for D:\\1Yang\\0Research\\0_2566_radar_mosaic\\00mos_chaophraya\\00run_batch_acchr_codes\\2output\\0Hourly\\0Sontihn_RF\\0CBB_Pulse\\0output_mosaic\\2018072003_2000m.tif. Using WGS84 as default.\n",
      "Features shape: (250000, 3)\n",
      "NaN values before imputation: 114422\n",
      "NaN values after imputation: 114422\n",
      "Original data - Mean: 0.12, Max: 26.79\n",
      "Corrected data - Mean: 0.78, Max: 49.43\n"
     ]
    },
    {
     "name": "stderr",
     "output_type": "stream",
     "text": [
      " 50%|███████████████████████████████████████▊                                        | 117/235 [08:49<08:59,  4.57s/it]C:\\Users\\Admin\\anaconda3\\envs\\mossf\\lib\\site-packages\\sklearn\\base.py:493: FutureWarning: The feature names should match those that were passed during fit. Starting version 1.2, an error will be raised.\n",
      "Feature names unseen at fit time:\n",
      "- rainfall\n",
      "Feature names seen at fit time, yet now missing:\n",
      "- radar_rainfall\n",
      "\n",
      "  warnings.warn(message, FutureWarning)\n"
     ]
    },
    {
     "name": "stdout",
     "output_type": "stream",
     "text": [
      "\n",
      "Processing file: D:\\1Yang\\0Research\\0_2566_radar_mosaic\\00mos_chaophraya\\00run_batch_acchr_codes\\2output\\0Hourly\\0Sontihn_RF\\0CBB_Pulse\\0output_mosaic\\2018072004_2000m.tif\n",
      "Warning: CRS not defined for D:\\1Yang\\0Research\\0_2566_radar_mosaic\\00mos_chaophraya\\00run_batch_acchr_codes\\2output\\0Hourly\\0Sontihn_RF\\0CBB_Pulse\\0output_mosaic\\2018072004_2000m.tif. Using WGS84 as default.\n",
      "Features shape: (250000, 3)\n",
      "NaN values before imputation: 114300\n",
      "NaN values after imputation: 114300\n",
      "Original data - Mean: 0.16, Max: 27.12\n",
      "Corrected data - Mean: 0.80, Max: 49.43\n"
     ]
    },
    {
     "name": "stderr",
     "output_type": "stream",
     "text": [
      " 50%|████████████████████████████████████████▏                                       | 118/235 [08:53<08:52,  4.55s/it]C:\\Users\\Admin\\anaconda3\\envs\\mossf\\lib\\site-packages\\sklearn\\base.py:493: FutureWarning: The feature names should match those that were passed during fit. Starting version 1.2, an error will be raised.\n",
      "Feature names unseen at fit time:\n",
      "- rainfall\n",
      "Feature names seen at fit time, yet now missing:\n",
      "- radar_rainfall\n",
      "\n",
      "  warnings.warn(message, FutureWarning)\n"
     ]
    },
    {
     "name": "stdout",
     "output_type": "stream",
     "text": [
      "\n",
      "Processing file: D:\\1Yang\\0Research\\0_2566_radar_mosaic\\00mos_chaophraya\\00run_batch_acchr_codes\\2output\\0Hourly\\0Sontihn_RF\\0CBB_Pulse\\0output_mosaic\\2018072005_2000m.tif\n",
      "Warning: CRS not defined for D:\\1Yang\\0Research\\0_2566_radar_mosaic\\00mos_chaophraya\\00run_batch_acchr_codes\\2output\\0Hourly\\0Sontihn_RF\\0CBB_Pulse\\0output_mosaic\\2018072005_2000m.tif. Using WGS84 as default.\n",
      "Features shape: (250000, 3)\n",
      "NaN values before imputation: 114436\n",
      "NaN values after imputation: 114436\n",
      "Original data - Mean: 0.11, Max: 18.10\n",
      "Corrected data - Mean: 0.68, Max: 49.43\n"
     ]
    },
    {
     "name": "stderr",
     "output_type": "stream",
     "text": [
      " 51%|████████████████████████████████████████▌                                       | 119/235 [08:58<08:51,  4.58s/it]C:\\Users\\Admin\\anaconda3\\envs\\mossf\\lib\\site-packages\\sklearn\\base.py:493: FutureWarning: The feature names should match those that were passed during fit. Starting version 1.2, an error will be raised.\n",
      "Feature names unseen at fit time:\n",
      "- rainfall\n",
      "Feature names seen at fit time, yet now missing:\n",
      "- radar_rainfall\n",
      "\n",
      "  warnings.warn(message, FutureWarning)\n"
     ]
    },
    {
     "name": "stdout",
     "output_type": "stream",
     "text": [
      "\n",
      "Processing file: D:\\1Yang\\0Research\\0_2566_radar_mosaic\\00mos_chaophraya\\00run_batch_acchr_codes\\2output\\0Hourly\\0Sontihn_RF\\0CBB_Pulse\\0output_mosaic\\2018072006_2000m.tif\n",
      "Warning: CRS not defined for D:\\1Yang\\0Research\\0_2566_radar_mosaic\\00mos_chaophraya\\00run_batch_acchr_codes\\2output\\0Hourly\\0Sontihn_RF\\0CBB_Pulse\\0output_mosaic\\2018072006_2000m.tif. Using WGS84 as default.\n",
      "Features shape: (250000, 3)\n",
      "NaN values before imputation: 114319\n",
      "NaN values after imputation: 114319\n",
      "Original data - Mean: 0.10, Max: 17.96\n",
      "Corrected data - Mean: 0.74, Max: 49.43\n"
     ]
    },
    {
     "name": "stderr",
     "output_type": "stream",
     "text": [
      " 51%|████████████████████████████████████████▊                                       | 120/235 [09:03<08:45,  4.57s/it]C:\\Users\\Admin\\anaconda3\\envs\\mossf\\lib\\site-packages\\sklearn\\base.py:493: FutureWarning: The feature names should match those that were passed during fit. Starting version 1.2, an error will be raised.\n",
      "Feature names unseen at fit time:\n",
      "- rainfall\n",
      "Feature names seen at fit time, yet now missing:\n",
      "- radar_rainfall\n",
      "\n",
      "  warnings.warn(message, FutureWarning)\n"
     ]
    },
    {
     "name": "stdout",
     "output_type": "stream",
     "text": [
      "\n",
      "Processing file: D:\\1Yang\\0Research\\0_2566_radar_mosaic\\00mos_chaophraya\\00run_batch_acchr_codes\\2output\\0Hourly\\0Sontihn_RF\\0CBB_Pulse\\0output_mosaic\\2018072007_2000m.tif\n",
      "Warning: CRS not defined for D:\\1Yang\\0Research\\0_2566_radar_mosaic\\00mos_chaophraya\\00run_batch_acchr_codes\\2output\\0Hourly\\0Sontihn_RF\\0CBB_Pulse\\0output_mosaic\\2018072007_2000m.tif. Using WGS84 as default.\n",
      "Features shape: (250000, 3)\n",
      "NaN values before imputation: 114535\n",
      "NaN values after imputation: 114535\n",
      "Original data - Mean: 0.14, Max: 22.67\n",
      "Corrected data - Mean: 1.12, Max: 49.43\n"
     ]
    },
    {
     "name": "stderr",
     "output_type": "stream",
     "text": [
      " 51%|█████████████████████████████████████████▏                                      | 121/235 [09:07<08:38,  4.55s/it]C:\\Users\\Admin\\anaconda3\\envs\\mossf\\lib\\site-packages\\sklearn\\base.py:493: FutureWarning: The feature names should match those that were passed during fit. Starting version 1.2, an error will be raised.\n",
      "Feature names unseen at fit time:\n",
      "- rainfall\n",
      "Feature names seen at fit time, yet now missing:\n",
      "- radar_rainfall\n",
      "\n",
      "  warnings.warn(message, FutureWarning)\n"
     ]
    },
    {
     "name": "stdout",
     "output_type": "stream",
     "text": [
      "\n",
      "Processing file: D:\\1Yang\\0Research\\0_2566_radar_mosaic\\00mos_chaophraya\\00run_batch_acchr_codes\\2output\\0Hourly\\0Sontihn_RF\\0CBB_Pulse\\0output_mosaic\\2018072008_2000m.tif\n",
      "Warning: CRS not defined for D:\\1Yang\\0Research\\0_2566_radar_mosaic\\00mos_chaophraya\\00run_batch_acchr_codes\\2output\\0Hourly\\0Sontihn_RF\\0CBB_Pulse\\0output_mosaic\\2018072008_2000m.tif. Using WGS84 as default.\n",
      "Features shape: (250000, 3)\n",
      "NaN values before imputation: 114339\n",
      "NaN values after imputation: 114339\n",
      "Original data - Mean: 0.15, Max: 26.74\n",
      "Corrected data - Mean: 0.92, Max: 49.43\n"
     ]
    },
    {
     "name": "stderr",
     "output_type": "stream",
     "text": [
      " 52%|█████████████████████████████████████████▌                                      | 122/235 [09:12<08:31,  4.53s/it]C:\\Users\\Admin\\anaconda3\\envs\\mossf\\lib\\site-packages\\sklearn\\base.py:493: FutureWarning: The feature names should match those that were passed during fit. Starting version 1.2, an error will be raised.\n",
      "Feature names unseen at fit time:\n",
      "- rainfall\n",
      "Feature names seen at fit time, yet now missing:\n",
      "- radar_rainfall\n",
      "\n",
      "  warnings.warn(message, FutureWarning)\n"
     ]
    },
    {
     "name": "stdout",
     "output_type": "stream",
     "text": [
      "\n",
      "Processing file: D:\\1Yang\\0Research\\0_2566_radar_mosaic\\00mos_chaophraya\\00run_batch_acchr_codes\\2output\\0Hourly\\0Sontihn_RF\\0CBB_Pulse\\0output_mosaic\\2018072009_2000m.tif\n",
      "Warning: CRS not defined for D:\\1Yang\\0Research\\0_2566_radar_mosaic\\00mos_chaophraya\\00run_batch_acchr_codes\\2output\\0Hourly\\0Sontihn_RF\\0CBB_Pulse\\0output_mosaic\\2018072009_2000m.tif. Using WGS84 as default.\n",
      "Features shape: (250000, 3)\n",
      "NaN values before imputation: 114320\n",
      "NaN values after imputation: 114320\n",
      "Original data - Mean: 0.18, Max: 40.69\n",
      "Corrected data - Mean: 0.98, Max: 49.43\n"
     ]
    },
    {
     "name": "stderr",
     "output_type": "stream",
     "text": [
      " 52%|█████████████████████████████████████████▊                                      | 123/235 [09:16<08:25,  4.51s/it]C:\\Users\\Admin\\anaconda3\\envs\\mossf\\lib\\site-packages\\sklearn\\base.py:493: FutureWarning: The feature names should match those that were passed during fit. Starting version 1.2, an error will be raised.\n",
      "Feature names unseen at fit time:\n",
      "- rainfall\n",
      "Feature names seen at fit time, yet now missing:\n",
      "- radar_rainfall\n",
      "\n",
      "  warnings.warn(message, FutureWarning)\n"
     ]
    },
    {
     "name": "stdout",
     "output_type": "stream",
     "text": [
      "\n",
      "Processing file: D:\\1Yang\\0Research\\0_2566_radar_mosaic\\00mos_chaophraya\\00run_batch_acchr_codes\\2output\\0Hourly\\0Sontihn_RF\\0CBB_Pulse\\0output_mosaic\\2018072010_2000m.tif\n",
      "Warning: CRS not defined for D:\\1Yang\\0Research\\0_2566_radar_mosaic\\00mos_chaophraya\\00run_batch_acchr_codes\\2output\\0Hourly\\0Sontihn_RF\\0CBB_Pulse\\0output_mosaic\\2018072010_2000m.tif. Using WGS84 as default.\n",
      "Features shape: (250000, 3)\n",
      "NaN values before imputation: 114317\n",
      "NaN values after imputation: 114317\n",
      "Original data - Mean: 0.12, Max: 20.76\n",
      "Corrected data - Mean: 0.77, Max: 49.43\n"
     ]
    },
    {
     "name": "stderr",
     "output_type": "stream",
     "text": [
      " 53%|██████████████████████████████████████████▏                                     | 124/235 [09:21<08:20,  4.51s/it]C:\\Users\\Admin\\anaconda3\\envs\\mossf\\lib\\site-packages\\sklearn\\base.py:493: FutureWarning: The feature names should match those that were passed during fit. Starting version 1.2, an error will be raised.\n",
      "Feature names unseen at fit time:\n",
      "- rainfall\n",
      "Feature names seen at fit time, yet now missing:\n",
      "- radar_rainfall\n",
      "\n",
      "  warnings.warn(message, FutureWarning)\n"
     ]
    },
    {
     "name": "stdout",
     "output_type": "stream",
     "text": [
      "\n",
      "Processing file: D:\\1Yang\\0Research\\0_2566_radar_mosaic\\00mos_chaophraya\\00run_batch_acchr_codes\\2output\\0Hourly\\0Sontihn_RF\\0CBB_Pulse\\0output_mosaic\\2018072011_2000m.tif\n",
      "Warning: CRS not defined for D:\\1Yang\\0Research\\0_2566_radar_mosaic\\00mos_chaophraya\\00run_batch_acchr_codes\\2output\\0Hourly\\0Sontihn_RF\\0CBB_Pulse\\0output_mosaic\\2018072011_2000m.tif. Using WGS84 as default.\n",
      "Features shape: (250000, 3)\n",
      "NaN values before imputation: 114452\n",
      "NaN values after imputation: 114452\n",
      "Original data - Mean: 0.09, Max: 27.22\n",
      "Corrected data - Mean: 0.79, Max: 49.43\n"
     ]
    },
    {
     "name": "stderr",
     "output_type": "stream",
     "text": [
      " 53%|██████████████████████████████████████████▌                                     | 125/235 [09:25<08:19,  4.54s/it]C:\\Users\\Admin\\anaconda3\\envs\\mossf\\lib\\site-packages\\sklearn\\base.py:493: FutureWarning: The feature names should match those that were passed during fit. Starting version 1.2, an error will be raised.\n",
      "Feature names unseen at fit time:\n",
      "- rainfall\n",
      "Feature names seen at fit time, yet now missing:\n",
      "- radar_rainfall\n",
      "\n",
      "  warnings.warn(message, FutureWarning)\n"
     ]
    },
    {
     "name": "stdout",
     "output_type": "stream",
     "text": [
      "\n",
      "Processing file: D:\\1Yang\\0Research\\0_2566_radar_mosaic\\00mos_chaophraya\\00run_batch_acchr_codes\\2output\\0Hourly\\0Sontihn_RF\\0CBB_Pulse\\0output_mosaic\\2018072012_2000m.tif\n",
      "Warning: CRS not defined for D:\\1Yang\\0Research\\0_2566_radar_mosaic\\00mos_chaophraya\\00run_batch_acchr_codes\\2output\\0Hourly\\0Sontihn_RF\\0CBB_Pulse\\0output_mosaic\\2018072012_2000m.tif. Using WGS84 as default.\n",
      "Features shape: (250000, 3)\n",
      "NaN values before imputation: 114294\n",
      "NaN values after imputation: 114294\n",
      "Original data - Mean: 0.21, Max: 38.28\n",
      "Corrected data - Mean: 1.09, Max: 49.43\n"
     ]
    },
    {
     "name": "stderr",
     "output_type": "stream",
     "text": [
      " 54%|██████████████████████████████████████████▉                                     | 126/235 [09:30<08:13,  4.53s/it]C:\\Users\\Admin\\anaconda3\\envs\\mossf\\lib\\site-packages\\sklearn\\base.py:493: FutureWarning: The feature names should match those that were passed during fit. Starting version 1.2, an error will be raised.\n",
      "Feature names unseen at fit time:\n",
      "- rainfall\n",
      "Feature names seen at fit time, yet now missing:\n",
      "- radar_rainfall\n",
      "\n",
      "  warnings.warn(message, FutureWarning)\n"
     ]
    },
    {
     "name": "stdout",
     "output_type": "stream",
     "text": [
      "\n",
      "Processing file: D:\\1Yang\\0Research\\0_2566_radar_mosaic\\00mos_chaophraya\\00run_batch_acchr_codes\\2output\\0Hourly\\0Sontihn_RF\\0CBB_Pulse\\0output_mosaic\\2018072018_2000m.tif\n",
      "Warning: CRS not defined for D:\\1Yang\\0Research\\0_2566_radar_mosaic\\00mos_chaophraya\\00run_batch_acchr_codes\\2output\\0Hourly\\0Sontihn_RF\\0CBB_Pulse\\0output_mosaic\\2018072018_2000m.tif. Using WGS84 as default.\n",
      "Features shape: (250000, 3)\n",
      "NaN values before imputation: 114332\n",
      "NaN values after imputation: 114332\n",
      "Original data - Mean: 0.05, Max: 68.34\n",
      "Corrected data - Mean: 0.50, Max: 49.43\n"
     ]
    },
    {
     "name": "stderr",
     "output_type": "stream",
     "text": [
      " 54%|███████████████████████████████████████████▏                                    | 127/235 [09:35<08:26,  4.69s/it]C:\\Users\\Admin\\anaconda3\\envs\\mossf\\lib\\site-packages\\sklearn\\base.py:493: FutureWarning: The feature names should match those that were passed during fit. Starting version 1.2, an error will be raised.\n",
      "Feature names unseen at fit time:\n",
      "- rainfall\n",
      "Feature names seen at fit time, yet now missing:\n",
      "- radar_rainfall\n",
      "\n",
      "  warnings.warn(message, FutureWarning)\n"
     ]
    },
    {
     "name": "stdout",
     "output_type": "stream",
     "text": [
      "\n",
      "Processing file: D:\\1Yang\\0Research\\0_2566_radar_mosaic\\00mos_chaophraya\\00run_batch_acchr_codes\\2output\\0Hourly\\0Sontihn_RF\\0CBB_Pulse\\0output_mosaic\\2018072019_2000m.tif\n",
      "Warning: CRS not defined for D:\\1Yang\\0Research\\0_2566_radar_mosaic\\00mos_chaophraya\\00run_batch_acchr_codes\\2output\\0Hourly\\0Sontihn_RF\\0CBB_Pulse\\0output_mosaic\\2018072019_2000m.tif. Using WGS84 as default.\n",
      "Features shape: (250000, 3)\n",
      "NaN values before imputation: 114314\n",
      "NaN values after imputation: 114314\n",
      "Original data - Mean: 0.06, Max: 53.22\n",
      "Corrected data - Mean: 0.50, Max: 49.43\n"
     ]
    },
    {
     "name": "stderr",
     "output_type": "stream",
     "text": [
      " 54%|███████████████████████████████████████████▌                                    | 128/235 [09:39<08:16,  4.64s/it]C:\\Users\\Admin\\anaconda3\\envs\\mossf\\lib\\site-packages\\sklearn\\base.py:493: FutureWarning: The feature names should match those that were passed during fit. Starting version 1.2, an error will be raised.\n",
      "Feature names unseen at fit time:\n",
      "- rainfall\n",
      "Feature names seen at fit time, yet now missing:\n",
      "- radar_rainfall\n",
      "\n",
      "  warnings.warn(message, FutureWarning)\n"
     ]
    },
    {
     "name": "stdout",
     "output_type": "stream",
     "text": [
      "\n",
      "Processing file: D:\\1Yang\\0Research\\0_2566_radar_mosaic\\00mos_chaophraya\\00run_batch_acchr_codes\\2output\\0Hourly\\0Sontihn_RF\\0CBB_Pulse\\0output_mosaic\\2018072020_2000m.tif\n",
      "Warning: CRS not defined for D:\\1Yang\\0Research\\0_2566_radar_mosaic\\00mos_chaophraya\\00run_batch_acchr_codes\\2output\\0Hourly\\0Sontihn_RF\\0CBB_Pulse\\0output_mosaic\\2018072020_2000m.tif. Using WGS84 as default.\n",
      "Features shape: (250000, 3)\n",
      "NaN values before imputation: 114453\n",
      "NaN values after imputation: 114453\n",
      "Original data - Mean: 0.08, Max: 64.26\n",
      "Corrected data - Mean: 0.46, Max: 49.43\n"
     ]
    },
    {
     "name": "stderr",
     "output_type": "stream",
     "text": [
      " 55%|███████████████████████████████████████████▉                                    | 129/235 [09:44<08:06,  4.59s/it]C:\\Users\\Admin\\anaconda3\\envs\\mossf\\lib\\site-packages\\sklearn\\base.py:493: FutureWarning: The feature names should match those that were passed during fit. Starting version 1.2, an error will be raised.\n",
      "Feature names unseen at fit time:\n",
      "- rainfall\n",
      "Feature names seen at fit time, yet now missing:\n",
      "- radar_rainfall\n",
      "\n",
      "  warnings.warn(message, FutureWarning)\n"
     ]
    },
    {
     "name": "stdout",
     "output_type": "stream",
     "text": [
      "\n",
      "Processing file: D:\\1Yang\\0Research\\0_2566_radar_mosaic\\00mos_chaophraya\\00run_batch_acchr_codes\\2output\\0Hourly\\0Sontihn_RF\\0CBB_Pulse\\0output_mosaic\\2018072021_2000m.tif\n",
      "Warning: CRS not defined for D:\\1Yang\\0Research\\0_2566_radar_mosaic\\00mos_chaophraya\\00run_batch_acchr_codes\\2output\\0Hourly\\0Sontihn_RF\\0CBB_Pulse\\0output_mosaic\\2018072021_2000m.tif. Using WGS84 as default.\n",
      "Features shape: (250000, 3)\n",
      "NaN values before imputation: 114286\n",
      "NaN values after imputation: 114286\n",
      "Original data - Mean: 0.03, Max: 26.26\n",
      "Corrected data - Mean: 0.33, Max: 49.43\n"
     ]
    },
    {
     "name": "stderr",
     "output_type": "stream",
     "text": [
      " 55%|████████████████████████████████████████████▎                                   | 130/235 [09:48<07:59,  4.56s/it]C:\\Users\\Admin\\anaconda3\\envs\\mossf\\lib\\site-packages\\sklearn\\base.py:493: FutureWarning: The feature names should match those that were passed during fit. Starting version 1.2, an error will be raised.\n",
      "Feature names unseen at fit time:\n",
      "- rainfall\n",
      "Feature names seen at fit time, yet now missing:\n",
      "- radar_rainfall\n",
      "\n",
      "  warnings.warn(message, FutureWarning)\n"
     ]
    },
    {
     "name": "stdout",
     "output_type": "stream",
     "text": [
      "\n",
      "Processing file: D:\\1Yang\\0Research\\0_2566_radar_mosaic\\00mos_chaophraya\\00run_batch_acchr_codes\\2output\\0Hourly\\0Sontihn_RF\\0CBB_Pulse\\0output_mosaic\\2018072022_2000m.tif\n",
      "Warning: CRS not defined for D:\\1Yang\\0Research\\0_2566_radar_mosaic\\00mos_chaophraya\\00run_batch_acchr_codes\\2output\\0Hourly\\0Sontihn_RF\\0CBB_Pulse\\0output_mosaic\\2018072022_2000m.tif. Using WGS84 as default.\n",
      "Features shape: (250000, 3)\n",
      "NaN values before imputation: 114468\n",
      "NaN values after imputation: 114468\n",
      "Original data - Mean: 0.02, Max: 62.01\n",
      "Corrected data - Mean: 0.21, Max: 49.43\n"
     ]
    },
    {
     "name": "stderr",
     "output_type": "stream",
     "text": [
      " 56%|████████████████████████████████████████████▌                                   | 131/235 [09:53<07:52,  4.54s/it]C:\\Users\\Admin\\anaconda3\\envs\\mossf\\lib\\site-packages\\sklearn\\base.py:493: FutureWarning: The feature names should match those that were passed during fit. Starting version 1.2, an error will be raised.\n",
      "Feature names unseen at fit time:\n",
      "- rainfall\n",
      "Feature names seen at fit time, yet now missing:\n",
      "- radar_rainfall\n",
      "\n",
      "  warnings.warn(message, FutureWarning)\n"
     ]
    },
    {
     "name": "stdout",
     "output_type": "stream",
     "text": [
      "\n",
      "Processing file: D:\\1Yang\\0Research\\0_2566_radar_mosaic\\00mos_chaophraya\\00run_batch_acchr_codes\\2output\\0Hourly\\0Sontihn_RF\\0CBB_Pulse\\0output_mosaic\\2018072023_2000m.tif\n",
      "Warning: CRS not defined for D:\\1Yang\\0Research\\0_2566_radar_mosaic\\00mos_chaophraya\\00run_batch_acchr_codes\\2output\\0Hourly\\0Sontihn_RF\\0CBB_Pulse\\0output_mosaic\\2018072023_2000m.tif. Using WGS84 as default.\n",
      "Features shape: (250000, 3)\n",
      "NaN values before imputation: 114299\n",
      "NaN values after imputation: 114299\n",
      "Original data - Mean: 0.03, Max: 30.69\n",
      "Corrected data - Mean: 0.26, Max: 49.43\n"
     ]
    },
    {
     "name": "stderr",
     "output_type": "stream",
     "text": [
      " 56%|████████████████████████████████████████████▉                                   | 132/235 [09:57<07:47,  4.54s/it]C:\\Users\\Admin\\anaconda3\\envs\\mossf\\lib\\site-packages\\sklearn\\base.py:493: FutureWarning: The feature names should match those that were passed during fit. Starting version 1.2, an error will be raised.\n",
      "Feature names unseen at fit time:\n",
      "- rainfall\n",
      "Feature names seen at fit time, yet now missing:\n",
      "- radar_rainfall\n",
      "\n",
      "  warnings.warn(message, FutureWarning)\n"
     ]
    },
    {
     "name": "stdout",
     "output_type": "stream",
     "text": [
      "\n",
      "Processing file: D:\\1Yang\\0Research\\0_2566_radar_mosaic\\00mos_chaophraya\\00run_batch_acchr_codes\\2output\\0Hourly\\0Sontihn_RF\\0CBB_Pulse\\0output_mosaic\\2018072100_2000m.tif\n",
      "Warning: CRS not defined for D:\\1Yang\\0Research\\0_2566_radar_mosaic\\00mos_chaophraya\\00run_batch_acchr_codes\\2output\\0Hourly\\0Sontihn_RF\\0CBB_Pulse\\0output_mosaic\\2018072100_2000m.tif. Using WGS84 as default.\n",
      "Features shape: (250000, 3)\n",
      "NaN values before imputation: 114370\n",
      "NaN values after imputation: 114370\n",
      "Original data - Mean: 0.12, Max: 77.38\n",
      "Corrected data - Mean: 0.64, Max: 49.43\n"
     ]
    },
    {
     "name": "stderr",
     "output_type": "stream",
     "text": [
      " 57%|█████████████████████████████████████████████▎                                  | 133/235 [10:02<07:42,  4.53s/it]C:\\Users\\Admin\\anaconda3\\envs\\mossf\\lib\\site-packages\\sklearn\\base.py:493: FutureWarning: The feature names should match those that were passed during fit. Starting version 1.2, an error will be raised.\n",
      "Feature names unseen at fit time:\n",
      "- rainfall\n",
      "Feature names seen at fit time, yet now missing:\n",
      "- radar_rainfall\n",
      "\n",
      "  warnings.warn(message, FutureWarning)\n"
     ]
    },
    {
     "name": "stdout",
     "output_type": "stream",
     "text": [
      "\n",
      "Processing file: D:\\1Yang\\0Research\\0_2566_radar_mosaic\\00mos_chaophraya\\00run_batch_acchr_codes\\2output\\0Hourly\\0Sontihn_RF\\0CBB_Pulse\\0output_mosaic\\2018072101_2000m.tif\n",
      "Warning: CRS not defined for D:\\1Yang\\0Research\\0_2566_radar_mosaic\\00mos_chaophraya\\00run_batch_acchr_codes\\2output\\0Hourly\\0Sontihn_RF\\0CBB_Pulse\\0output_mosaic\\2018072101_2000m.tif. Using WGS84 as default.\n",
      "Features shape: (250000, 3)\n",
      "NaN values before imputation: 114326\n",
      "NaN values after imputation: 114326\n",
      "Original data - Mean: 0.20, Max: 57.12\n",
      "Corrected data - Mean: 0.88, Max: 49.43\n"
     ]
    },
    {
     "name": "stderr",
     "output_type": "stream",
     "text": [
      " 57%|█████████████████████████████████████████████▌                                  | 134/235 [10:06<07:37,  4.53s/it]C:\\Users\\Admin\\anaconda3\\envs\\mossf\\lib\\site-packages\\sklearn\\base.py:493: FutureWarning: The feature names should match those that were passed during fit. Starting version 1.2, an error will be raised.\n",
      "Feature names unseen at fit time:\n",
      "- rainfall\n",
      "Feature names seen at fit time, yet now missing:\n",
      "- radar_rainfall\n",
      "\n",
      "  warnings.warn(message, FutureWarning)\n"
     ]
    },
    {
     "name": "stdout",
     "output_type": "stream",
     "text": [
      "\n",
      "Processing file: D:\\1Yang\\0Research\\0_2566_radar_mosaic\\00mos_chaophraya\\00run_batch_acchr_codes\\2output\\0Hourly\\0Sontihn_RF\\0CBB_Pulse\\0output_mosaic\\2018072102_2000m.tif\n",
      "Warning: CRS not defined for D:\\1Yang\\0Research\\0_2566_radar_mosaic\\00mos_chaophraya\\00run_batch_acchr_codes\\2output\\0Hourly\\0Sontihn_RF\\0CBB_Pulse\\0output_mosaic\\2018072102_2000m.tif. Using WGS84 as default.\n",
      "Features shape: (250000, 3)\n",
      "NaN values before imputation: 114298\n",
      "NaN values after imputation: 114298\n",
      "Original data - Mean: 0.19, Max: 38.20\n",
      "Corrected data - Mean: 0.86, Max: 49.43\n"
     ]
    },
    {
     "name": "stderr",
     "output_type": "stream",
     "text": [
      " 57%|█████████████████████████████████████████████▉                                  | 135/235 [10:11<07:34,  4.55s/it]C:\\Users\\Admin\\anaconda3\\envs\\mossf\\lib\\site-packages\\sklearn\\base.py:493: FutureWarning: The feature names should match those that were passed during fit. Starting version 1.2, an error will be raised.\n",
      "Feature names unseen at fit time:\n",
      "- rainfall\n",
      "Feature names seen at fit time, yet now missing:\n",
      "- radar_rainfall\n",
      "\n",
      "  warnings.warn(message, FutureWarning)\n"
     ]
    },
    {
     "name": "stdout",
     "output_type": "stream",
     "text": [
      "\n",
      "Processing file: D:\\1Yang\\0Research\\0_2566_radar_mosaic\\00mos_chaophraya\\00run_batch_acchr_codes\\2output\\0Hourly\\0Sontihn_RF\\0CBB_Pulse\\0output_mosaic\\2018072103_2000m.tif\n",
      "Warning: CRS not defined for D:\\1Yang\\0Research\\0_2566_radar_mosaic\\00mos_chaophraya\\00run_batch_acchr_codes\\2output\\0Hourly\\0Sontihn_RF\\0CBB_Pulse\\0output_mosaic\\2018072103_2000m.tif. Using WGS84 as default.\n",
      "Features shape: (250000, 3)\n",
      "NaN values before imputation: 114317\n",
      "NaN values after imputation: 114317\n",
      "Original data - Mean: 0.22, Max: 66.99\n",
      "Corrected data - Mean: 0.88, Max: 49.43\n"
     ]
    },
    {
     "name": "stderr",
     "output_type": "stream",
     "text": [
      " 58%|██████████████████████████████████████████████▎                                 | 136/235 [10:16<07:39,  4.64s/it]C:\\Users\\Admin\\anaconda3\\envs\\mossf\\lib\\site-packages\\sklearn\\base.py:493: FutureWarning: The feature names should match those that were passed during fit. Starting version 1.2, an error will be raised.\n",
      "Feature names unseen at fit time:\n",
      "- rainfall\n",
      "Feature names seen at fit time, yet now missing:\n",
      "- radar_rainfall\n",
      "\n",
      "  warnings.warn(message, FutureWarning)\n"
     ]
    },
    {
     "name": "stdout",
     "output_type": "stream",
     "text": [
      "\n",
      "Processing file: D:\\1Yang\\0Research\\0_2566_radar_mosaic\\00mos_chaophraya\\00run_batch_acchr_codes\\2output\\0Hourly\\0Sontihn_RF\\0CBB_Pulse\\0output_mosaic\\2018072104_2000m.tif\n",
      "Warning: CRS not defined for D:\\1Yang\\0Research\\0_2566_radar_mosaic\\00mos_chaophraya\\00run_batch_acchr_codes\\2output\\0Hourly\\0Sontihn_RF\\0CBB_Pulse\\0output_mosaic\\2018072104_2000m.tif. Using WGS84 as default.\n",
      "Features shape: (250000, 3)\n",
      "NaN values before imputation: 114353\n",
      "NaN values after imputation: 114353\n",
      "Original data - Mean: 0.17, Max: 78.49\n",
      "Corrected data - Mean: 0.72, Max: 49.43\n"
     ]
    },
    {
     "name": "stderr",
     "output_type": "stream",
     "text": [
      " 58%|██████████████████████████████████████████████▋                                 | 137/235 [10:20<07:30,  4.60s/it]C:\\Users\\Admin\\anaconda3\\envs\\mossf\\lib\\site-packages\\sklearn\\base.py:493: FutureWarning: The feature names should match those that were passed during fit. Starting version 1.2, an error will be raised.\n",
      "Feature names unseen at fit time:\n",
      "- rainfall\n",
      "Feature names seen at fit time, yet now missing:\n",
      "- radar_rainfall\n",
      "\n",
      "  warnings.warn(message, FutureWarning)\n"
     ]
    },
    {
     "name": "stdout",
     "output_type": "stream",
     "text": [
      "\n",
      "Processing file: D:\\1Yang\\0Research\\0_2566_radar_mosaic\\00mos_chaophraya\\00run_batch_acchr_codes\\2output\\0Hourly\\0Sontihn_RF\\0CBB_Pulse\\0output_mosaic\\2018072105_2000m.tif\n",
      "Warning: CRS not defined for D:\\1Yang\\0Research\\0_2566_radar_mosaic\\00mos_chaophraya\\00run_batch_acchr_codes\\2output\\0Hourly\\0Sontihn_RF\\0CBB_Pulse\\0output_mosaic\\2018072105_2000m.tif. Using WGS84 as default.\n",
      "Features shape: (250000, 3)\n",
      "NaN values before imputation: 114289\n",
      "NaN values after imputation: 114289\n",
      "Original data - Mean: 0.10, Max: 76.92\n",
      "Corrected data - Mean: 0.51, Max: 49.43\n"
     ]
    },
    {
     "name": "stderr",
     "output_type": "stream",
     "text": [
      " 59%|██████████████████████████████████████████████▉                                 | 138/235 [10:25<07:22,  4.56s/it]C:\\Users\\Admin\\anaconda3\\envs\\mossf\\lib\\site-packages\\sklearn\\base.py:493: FutureWarning: The feature names should match those that were passed during fit. Starting version 1.2, an error will be raised.\n",
      "Feature names unseen at fit time:\n",
      "- rainfall\n",
      "Feature names seen at fit time, yet now missing:\n",
      "- radar_rainfall\n",
      "\n",
      "  warnings.warn(message, FutureWarning)\n"
     ]
    },
    {
     "name": "stdout",
     "output_type": "stream",
     "text": [
      "\n",
      "Processing file: D:\\1Yang\\0Research\\0_2566_radar_mosaic\\00mos_chaophraya\\00run_batch_acchr_codes\\2output\\0Hourly\\0Sontihn_RF\\0CBB_Pulse\\0output_mosaic\\2018072106_2000m.tif\n",
      "Warning: CRS not defined for D:\\1Yang\\0Research\\0_2566_radar_mosaic\\00mos_chaophraya\\00run_batch_acchr_codes\\2output\\0Hourly\\0Sontihn_RF\\0CBB_Pulse\\0output_mosaic\\2018072106_2000m.tif. Using WGS84 as default.\n",
      "Features shape: (250000, 3)\n",
      "NaN values before imputation: 114344\n",
      "NaN values after imputation: 114344\n",
      "Original data - Mean: 0.07, Max: 41.56\n",
      "Corrected data - Mean: 0.41, Max: 49.43\n"
     ]
    },
    {
     "name": "stderr",
     "output_type": "stream",
     "text": [
      " 59%|███████████████████████████████████████████████▎                                | 139/235 [10:29<07:17,  4.55s/it]C:\\Users\\Admin\\anaconda3\\envs\\mossf\\lib\\site-packages\\sklearn\\base.py:493: FutureWarning: The feature names should match those that were passed during fit. Starting version 1.2, an error will be raised.\n",
      "Feature names unseen at fit time:\n",
      "- rainfall\n",
      "Feature names seen at fit time, yet now missing:\n",
      "- radar_rainfall\n",
      "\n",
      "  warnings.warn(message, FutureWarning)\n"
     ]
    },
    {
     "name": "stdout",
     "output_type": "stream",
     "text": [
      "\n",
      "Processing file: D:\\1Yang\\0Research\\0_2566_radar_mosaic\\00mos_chaophraya\\00run_batch_acchr_codes\\2output\\0Hourly\\0Sontihn_RF\\0CBB_Pulse\\0output_mosaic\\2018072107_2000m.tif\n",
      "Warning: CRS not defined for D:\\1Yang\\0Research\\0_2566_radar_mosaic\\00mos_chaophraya\\00run_batch_acchr_codes\\2output\\0Hourly\\0Sontihn_RF\\0CBB_Pulse\\0output_mosaic\\2018072107_2000m.tif. Using WGS84 as default.\n",
      "Features shape: (250000, 3)\n",
      "NaN values before imputation: 114319\n",
      "NaN values after imputation: 114319\n",
      "Original data - Mean: 0.05, Max: 62.66\n",
      "Corrected data - Mean: 0.39, Max: 49.43\n"
     ]
    },
    {
     "name": "stderr",
     "output_type": "stream",
     "text": [
      " 60%|███████████████████████████████████████████████▋                                | 140/235 [10:38<09:04,  5.74s/it]C:\\Users\\Admin\\anaconda3\\envs\\mossf\\lib\\site-packages\\sklearn\\base.py:493: FutureWarning: The feature names should match those that were passed during fit. Starting version 1.2, an error will be raised.\n",
      "Feature names unseen at fit time:\n",
      "- rainfall\n",
      "Feature names seen at fit time, yet now missing:\n",
      "- radar_rainfall\n",
      "\n",
      "  warnings.warn(message, FutureWarning)\n"
     ]
    },
    {
     "name": "stdout",
     "output_type": "stream",
     "text": [
      "\n",
      "Processing file: D:\\1Yang\\0Research\\0_2566_radar_mosaic\\00mos_chaophraya\\00run_batch_acchr_codes\\2output\\0Hourly\\0Sontihn_RF\\0CBB_Pulse\\0output_mosaic\\2018072108_2000m.tif\n",
      "Warning: CRS not defined for D:\\1Yang\\0Research\\0_2566_radar_mosaic\\00mos_chaophraya\\00run_batch_acchr_codes\\2output\\0Hourly\\0Sontihn_RF\\0CBB_Pulse\\0output_mosaic\\2018072108_2000m.tif. Using WGS84 as default.\n",
      "Features shape: (250000, 3)\n",
      "NaN values before imputation: 114312\n",
      "NaN values after imputation: 114312\n",
      "Original data - Mean: 0.10, Max: 51.07\n",
      "Corrected data - Mean: 0.51, Max: 49.43\n"
     ]
    },
    {
     "name": "stderr",
     "output_type": "stream",
     "text": [
      " 60%|████████████████████████████████████████████████                                | 141/235 [10:42<08:21,  5.34s/it]C:\\Users\\Admin\\anaconda3\\envs\\mossf\\lib\\site-packages\\sklearn\\base.py:493: FutureWarning: The feature names should match those that were passed during fit. Starting version 1.2, an error will be raised.\n",
      "Feature names unseen at fit time:\n",
      "- rainfall\n",
      "Feature names seen at fit time, yet now missing:\n",
      "- radar_rainfall\n",
      "\n",
      "  warnings.warn(message, FutureWarning)\n"
     ]
    },
    {
     "name": "stdout",
     "output_type": "stream",
     "text": [
      "\n",
      "Processing file: D:\\1Yang\\0Research\\0_2566_radar_mosaic\\00mos_chaophraya\\00run_batch_acchr_codes\\2output\\0Hourly\\0Sontihn_RF\\0CBB_Pulse\\0output_mosaic\\2018072109_2000m.tif\n",
      "Warning: CRS not defined for D:\\1Yang\\0Research\\0_2566_radar_mosaic\\00mos_chaophraya\\00run_batch_acchr_codes\\2output\\0Hourly\\0Sontihn_RF\\0CBB_Pulse\\0output_mosaic\\2018072109_2000m.tif. Using WGS84 as default.\n",
      "Features shape: (250000, 3)\n",
      "NaN values before imputation: 114320\n",
      "NaN values after imputation: 114320\n",
      "Original data - Mean: 0.09, Max: 63.69\n",
      "Corrected data - Mean: 0.43, Max: 49.43\n"
     ]
    },
    {
     "name": "stderr",
     "output_type": "stream",
     "text": [
      " 60%|████████████████████████████████████████████████▎                               | 142/235 [10:47<07:50,  5.06s/it]C:\\Users\\Admin\\anaconda3\\envs\\mossf\\lib\\site-packages\\sklearn\\base.py:493: FutureWarning: The feature names should match those that were passed during fit. Starting version 1.2, an error will be raised.\n",
      "Feature names unseen at fit time:\n",
      "- rainfall\n",
      "Feature names seen at fit time, yet now missing:\n",
      "- radar_rainfall\n",
      "\n",
      "  warnings.warn(message, FutureWarning)\n"
     ]
    },
    {
     "name": "stdout",
     "output_type": "stream",
     "text": [
      "\n",
      "Processing file: D:\\1Yang\\0Research\\0_2566_radar_mosaic\\00mos_chaophraya\\00run_batch_acchr_codes\\2output\\0Hourly\\0Sontihn_RF\\0CBB_Pulse\\0output_mosaic\\2018072110_2000m.tif\n",
      "Warning: CRS not defined for D:\\1Yang\\0Research\\0_2566_radar_mosaic\\00mos_chaophraya\\00run_batch_acchr_codes\\2output\\0Hourly\\0Sontihn_RF\\0CBB_Pulse\\0output_mosaic\\2018072110_2000m.tif. Using WGS84 as default.\n",
      "Features shape: (250000, 3)\n",
      "NaN values before imputation: 114415\n",
      "NaN values after imputation: 114415\n",
      "Original data - Mean: 0.07, Max: 31.87\n",
      "Corrected data - Mean: 0.35, Max: 49.43\n"
     ]
    },
    {
     "name": "stderr",
     "output_type": "stream",
     "text": [
      " 61%|████████████████████████████████████████████████▋                               | 143/235 [10:51<07:28,  4.87s/it]C:\\Users\\Admin\\anaconda3\\envs\\mossf\\lib\\site-packages\\sklearn\\base.py:493: FutureWarning: The feature names should match those that were passed during fit. Starting version 1.2, an error will be raised.\n",
      "Feature names unseen at fit time:\n",
      "- rainfall\n",
      "Feature names seen at fit time, yet now missing:\n",
      "- radar_rainfall\n",
      "\n",
      "  warnings.warn(message, FutureWarning)\n"
     ]
    },
    {
     "name": "stdout",
     "output_type": "stream",
     "text": [
      "\n",
      "Processing file: D:\\1Yang\\0Research\\0_2566_radar_mosaic\\00mos_chaophraya\\00run_batch_acchr_codes\\2output\\0Hourly\\0Sontihn_RF\\0CBB_Pulse\\0output_mosaic\\2018072111_2000m.tif\n",
      "Warning: CRS not defined for D:\\1Yang\\0Research\\0_2566_radar_mosaic\\00mos_chaophraya\\00run_batch_acchr_codes\\2output\\0Hourly\\0Sontihn_RF\\0CBB_Pulse\\0output_mosaic\\2018072111_2000m.tif. Using WGS84 as default.\n",
      "Features shape: (250000, 3)\n",
      "NaN values before imputation: 114478\n",
      "NaN values after imputation: 114478\n",
      "Original data - Mean: 0.06, Max: 64.16\n",
      "Corrected data - Mean: 0.37, Max: 49.43\n"
     ]
    },
    {
     "name": "stderr",
     "output_type": "stream",
     "text": [
      " 61%|█████████████████████████████████████████████████                               | 144/235 [10:55<07:11,  4.74s/it]C:\\Users\\Admin\\anaconda3\\envs\\mossf\\lib\\site-packages\\sklearn\\base.py:493: FutureWarning: The feature names should match those that were passed during fit. Starting version 1.2, an error will be raised.\n",
      "Feature names unseen at fit time:\n",
      "- rainfall\n",
      "Feature names seen at fit time, yet now missing:\n",
      "- radar_rainfall\n",
      "\n",
      "  warnings.warn(message, FutureWarning)\n"
     ]
    },
    {
     "name": "stdout",
     "output_type": "stream",
     "text": [
      "\n",
      "Processing file: D:\\1Yang\\0Research\\0_2566_radar_mosaic\\00mos_chaophraya\\00run_batch_acchr_codes\\2output\\0Hourly\\0Sontihn_RF\\0CBB_Pulse\\0output_mosaic\\2018072112_2000m.tif\n",
      "Warning: CRS not defined for D:\\1Yang\\0Research\\0_2566_radar_mosaic\\00mos_chaophraya\\00run_batch_acchr_codes\\2output\\0Hourly\\0Sontihn_RF\\0CBB_Pulse\\0output_mosaic\\2018072112_2000m.tif. Using WGS84 as default.\n",
      "Features shape: (250000, 3)\n",
      "NaN values before imputation: 114457\n",
      "NaN values after imputation: 114457\n",
      "Original data - Mean: 0.07, Max: 85.34\n",
      "Corrected data - Mean: 0.35, Max: 49.43\n"
     ]
    },
    {
     "name": "stderr",
     "output_type": "stream",
     "text": [
      " 62%|█████████████████████████████████████████████████▎                              | 145/235 [11:00<06:59,  4.66s/it]C:\\Users\\Admin\\anaconda3\\envs\\mossf\\lib\\site-packages\\sklearn\\base.py:493: FutureWarning: The feature names should match those that were passed during fit. Starting version 1.2, an error will be raised.\n",
      "Feature names unseen at fit time:\n",
      "- rainfall\n",
      "Feature names seen at fit time, yet now missing:\n",
      "- radar_rainfall\n",
      "\n",
      "  warnings.warn(message, FutureWarning)\n"
     ]
    },
    {
     "name": "stdout",
     "output_type": "stream",
     "text": [
      "\n",
      "Processing file: D:\\1Yang\\0Research\\0_2566_radar_mosaic\\00mos_chaophraya\\00run_batch_acchr_codes\\2output\\0Hourly\\0Sontihn_RF\\0CBB_Pulse\\0output_mosaic\\2018072113_2000m.tif\n",
      "Warning: CRS not defined for D:\\1Yang\\0Research\\0_2566_radar_mosaic\\00mos_chaophraya\\00run_batch_acchr_codes\\2output\\0Hourly\\0Sontihn_RF\\0CBB_Pulse\\0output_mosaic\\2018072113_2000m.tif. Using WGS84 as default.\n",
      "Features shape: (250000, 3)\n",
      "NaN values before imputation: 114300\n",
      "NaN values after imputation: 114300\n",
      "Original data - Mean: 0.05, Max: 50.46\n",
      "Corrected data - Mean: 0.30, Max: 49.43\n"
     ]
    },
    {
     "name": "stderr",
     "output_type": "stream",
     "text": [
      " 62%|█████████████████████████████████████████████████▋                              | 146/235 [11:04<06:49,  4.60s/it]C:\\Users\\Admin\\anaconda3\\envs\\mossf\\lib\\site-packages\\sklearn\\base.py:493: FutureWarning: The feature names should match those that were passed during fit. Starting version 1.2, an error will be raised.\n",
      "Feature names unseen at fit time:\n",
      "- rainfall\n",
      "Feature names seen at fit time, yet now missing:\n",
      "- radar_rainfall\n",
      "\n",
      "  warnings.warn(message, FutureWarning)\n"
     ]
    },
    {
     "name": "stdout",
     "output_type": "stream",
     "text": [
      "\n",
      "Processing file: D:\\1Yang\\0Research\\0_2566_radar_mosaic\\00mos_chaophraya\\00run_batch_acchr_codes\\2output\\0Hourly\\0Sontihn_RF\\0CBB_Pulse\\0output_mosaic\\2018072114_2000m.tif\n",
      "Warning: CRS not defined for D:\\1Yang\\0Research\\0_2566_radar_mosaic\\00mos_chaophraya\\00run_batch_acchr_codes\\2output\\0Hourly\\0Sontihn_RF\\0CBB_Pulse\\0output_mosaic\\2018072114_2000m.tif. Using WGS84 as default.\n",
      "Features shape: (250000, 3)\n",
      "NaN values before imputation: 114322\n",
      "NaN values after imputation: 114322\n",
      "Original data - Mean: 0.06, Max: 39.26\n",
      "Corrected data - Mean: 0.58, Max: 49.43\n"
     ]
    },
    {
     "name": "stderr",
     "output_type": "stream",
     "text": [
      " 63%|██████████████████████████████████████████████████                              | 147/235 [11:09<06:41,  4.56s/it]C:\\Users\\Admin\\anaconda3\\envs\\mossf\\lib\\site-packages\\sklearn\\base.py:493: FutureWarning: The feature names should match those that were passed during fit. Starting version 1.2, an error will be raised.\n",
      "Feature names unseen at fit time:\n",
      "- rainfall\n",
      "Feature names seen at fit time, yet now missing:\n",
      "- radar_rainfall\n",
      "\n",
      "  warnings.warn(message, FutureWarning)\n"
     ]
    },
    {
     "name": "stdout",
     "output_type": "stream",
     "text": [
      "\n",
      "Processing file: D:\\1Yang\\0Research\\0_2566_radar_mosaic\\00mos_chaophraya\\00run_batch_acchr_codes\\2output\\0Hourly\\0Sontihn_RF\\0CBB_Pulse\\0output_mosaic\\2018072115_2000m.tif\n",
      "Warning: CRS not defined for D:\\1Yang\\0Research\\0_2566_radar_mosaic\\00mos_chaophraya\\00run_batch_acchr_codes\\2output\\0Hourly\\0Sontihn_RF\\0CBB_Pulse\\0output_mosaic\\2018072115_2000m.tif. Using WGS84 as default.\n",
      "Features shape: (250000, 3)\n",
      "NaN values before imputation: 114339\n",
      "NaN values after imputation: 114339\n",
      "Original data - Mean: 0.12, Max: 98.63\n",
      "Corrected data - Mean: 0.54, Max: 49.43\n"
     ]
    },
    {
     "name": "stderr",
     "output_type": "stream",
     "text": [
      " 63%|██████████████████████████████████████████████████▍                             | 148/235 [11:13<06:33,  4.52s/it]C:\\Users\\Admin\\anaconda3\\envs\\mossf\\lib\\site-packages\\sklearn\\base.py:493: FutureWarning: The feature names should match those that were passed during fit. Starting version 1.2, an error will be raised.\n",
      "Feature names unseen at fit time:\n",
      "- rainfall\n",
      "Feature names seen at fit time, yet now missing:\n",
      "- radar_rainfall\n",
      "\n",
      "  warnings.warn(message, FutureWarning)\n"
     ]
    },
    {
     "name": "stdout",
     "output_type": "stream",
     "text": [
      "\n",
      "Processing file: D:\\1Yang\\0Research\\0_2566_radar_mosaic\\00mos_chaophraya\\00run_batch_acchr_codes\\2output\\0Hourly\\0Sontihn_RF\\0CBB_Pulse\\0output_mosaic\\2018072116_2000m.tif\n",
      "Warning: CRS not defined for D:\\1Yang\\0Research\\0_2566_radar_mosaic\\00mos_chaophraya\\00run_batch_acchr_codes\\2output\\0Hourly\\0Sontihn_RF\\0CBB_Pulse\\0output_mosaic\\2018072116_2000m.tif. Using WGS84 as default.\n",
      "Features shape: (250000, 3)\n",
      "NaN values before imputation: 114293\n",
      "NaN values after imputation: 114293\n",
      "Original data - Mean: 0.21, Max: 65.20\n",
      "Corrected data - Mean: 0.84, Max: 49.43\n"
     ]
    },
    {
     "name": "stderr",
     "output_type": "stream",
     "text": [
      " 63%|██████████████████████████████████████████████████▋                             | 149/235 [11:18<06:27,  4.50s/it]C:\\Users\\Admin\\anaconda3\\envs\\mossf\\lib\\site-packages\\sklearn\\base.py:493: FutureWarning: The feature names should match those that were passed during fit. Starting version 1.2, an error will be raised.\n",
      "Feature names unseen at fit time:\n",
      "- rainfall\n",
      "Feature names seen at fit time, yet now missing:\n",
      "- radar_rainfall\n",
      "\n",
      "  warnings.warn(message, FutureWarning)\n"
     ]
    },
    {
     "name": "stdout",
     "output_type": "stream",
     "text": [
      "\n",
      "Processing file: D:\\1Yang\\0Research\\0_2566_radar_mosaic\\00mos_chaophraya\\00run_batch_acchr_codes\\2output\\0Hourly\\0Sontihn_RF\\0CBB_Pulse\\0output_mosaic\\2018072117_2000m.tif\n",
      "Warning: CRS not defined for D:\\1Yang\\0Research\\0_2566_radar_mosaic\\00mos_chaophraya\\00run_batch_acchr_codes\\2output\\0Hourly\\0Sontihn_RF\\0CBB_Pulse\\0output_mosaic\\2018072117_2000m.tif. Using WGS84 as default.\n",
      "Features shape: (250000, 3)\n",
      "NaN values before imputation: 114459\n",
      "NaN values after imputation: 114459\n",
      "Original data - Mean: 0.33, Max: 82.13\n",
      "Corrected data - Mean: 1.17, Max: 49.43\n"
     ]
    },
    {
     "name": "stderr",
     "output_type": "stream",
     "text": [
      " 64%|███████████████████████████████████████████████████                             | 150/235 [11:22<06:21,  4.48s/it]C:\\Users\\Admin\\anaconda3\\envs\\mossf\\lib\\site-packages\\sklearn\\base.py:493: FutureWarning: The feature names should match those that were passed during fit. Starting version 1.2, an error will be raised.\n",
      "Feature names unseen at fit time:\n",
      "- rainfall\n",
      "Feature names seen at fit time, yet now missing:\n",
      "- radar_rainfall\n",
      "\n",
      "  warnings.warn(message, FutureWarning)\n"
     ]
    },
    {
     "name": "stdout",
     "output_type": "stream",
     "text": [
      "\n",
      "Processing file: D:\\1Yang\\0Research\\0_2566_radar_mosaic\\00mos_chaophraya\\00run_batch_acchr_codes\\2output\\0Hourly\\0Sontihn_RF\\0CBB_Pulse\\0output_mosaic\\2018072118_2000m.tif\n",
      "Warning: CRS not defined for D:\\1Yang\\0Research\\0_2566_radar_mosaic\\00mos_chaophraya\\00run_batch_acchr_codes\\2output\\0Hourly\\0Sontihn_RF\\0CBB_Pulse\\0output_mosaic\\2018072118_2000m.tif. Using WGS84 as default.\n",
      "Features shape: (250000, 3)\n",
      "NaN values before imputation: 114326\n",
      "NaN values after imputation: 114326\n",
      "Original data - Mean: 0.34, Max: 89.36\n",
      "Corrected data - Mean: 1.21, Max: 49.43\n"
     ]
    },
    {
     "name": "stderr",
     "output_type": "stream",
     "text": [
      " 64%|███████████████████████████████████████████████████▍                            | 151/235 [11:27<06:15,  4.47s/it]C:\\Users\\Admin\\anaconda3\\envs\\mossf\\lib\\site-packages\\sklearn\\base.py:493: FutureWarning: The feature names should match those that were passed during fit. Starting version 1.2, an error will be raised.\n",
      "Feature names unseen at fit time:\n",
      "- rainfall\n",
      "Feature names seen at fit time, yet now missing:\n",
      "- radar_rainfall\n",
      "\n",
      "  warnings.warn(message, FutureWarning)\n"
     ]
    },
    {
     "name": "stdout",
     "output_type": "stream",
     "text": [
      "\n",
      "Processing file: D:\\1Yang\\0Research\\0_2566_radar_mosaic\\00mos_chaophraya\\00run_batch_acchr_codes\\2output\\0Hourly\\0Sontihn_RF\\0CBB_Pulse\\0output_mosaic\\2018072119_2000m.tif\n",
      "Warning: CRS not defined for D:\\1Yang\\0Research\\0_2566_radar_mosaic\\00mos_chaophraya\\00run_batch_acchr_codes\\2output\\0Hourly\\0Sontihn_RF\\0CBB_Pulse\\0output_mosaic\\2018072119_2000m.tif. Using WGS84 as default.\n",
      "Features shape: (250000, 3)\n",
      "NaN values before imputation: 114303\n",
      "NaN values after imputation: 114303\n",
      "Original data - Mean: 0.23, Max: 63.84\n",
      "Corrected data - Mean: 1.06, Max: 49.43\n"
     ]
    },
    {
     "name": "stderr",
     "output_type": "stream",
     "text": [
      " 65%|███████████████████████████████████████████████████▋                            | 152/235 [11:31<06:11,  4.47s/it]C:\\Users\\Admin\\anaconda3\\envs\\mossf\\lib\\site-packages\\sklearn\\base.py:493: FutureWarning: The feature names should match those that were passed during fit. Starting version 1.2, an error will be raised.\n",
      "Feature names unseen at fit time:\n",
      "- rainfall\n",
      "Feature names seen at fit time, yet now missing:\n",
      "- radar_rainfall\n",
      "\n",
      "  warnings.warn(message, FutureWarning)\n"
     ]
    },
    {
     "name": "stdout",
     "output_type": "stream",
     "text": [
      "\n",
      "Processing file: D:\\1Yang\\0Research\\0_2566_radar_mosaic\\00mos_chaophraya\\00run_batch_acchr_codes\\2output\\0Hourly\\0Sontihn_RF\\0CBB_Pulse\\0output_mosaic\\2018072120_2000m.tif\n",
      "Warning: CRS not defined for D:\\1Yang\\0Research\\0_2566_radar_mosaic\\00mos_chaophraya\\00run_batch_acchr_codes\\2output\\0Hourly\\0Sontihn_RF\\0CBB_Pulse\\0output_mosaic\\2018072120_2000m.tif. Using WGS84 as default.\n",
      "Features shape: (250000, 3)\n",
      "NaN values before imputation: 114343\n",
      "NaN values after imputation: 114343\n",
      "Original data - Mean: 0.25, Max: 63.53\n",
      "Corrected data - Mean: 1.26, Max: 49.43\n"
     ]
    },
    {
     "name": "stderr",
     "output_type": "stream",
     "text": [
      " 65%|████████████████████████████████████████████████████                            | 153/235 [11:36<06:06,  4.47s/it]C:\\Users\\Admin\\anaconda3\\envs\\mossf\\lib\\site-packages\\sklearn\\base.py:493: FutureWarning: The feature names should match those that were passed during fit. Starting version 1.2, an error will be raised.\n",
      "Feature names unseen at fit time:\n",
      "- rainfall\n",
      "Feature names seen at fit time, yet now missing:\n",
      "- radar_rainfall\n",
      "\n",
      "  warnings.warn(message, FutureWarning)\n"
     ]
    },
    {
     "name": "stdout",
     "output_type": "stream",
     "text": [
      "\n",
      "Processing file: D:\\1Yang\\0Research\\0_2566_radar_mosaic\\00mos_chaophraya\\00run_batch_acchr_codes\\2output\\0Hourly\\0Sontihn_RF\\0CBB_Pulse\\0output_mosaic\\2018072121_2000m.tif\n",
      "Warning: CRS not defined for D:\\1Yang\\0Research\\0_2566_radar_mosaic\\00mos_chaophraya\\00run_batch_acchr_codes\\2output\\0Hourly\\0Sontihn_RF\\0CBB_Pulse\\0output_mosaic\\2018072121_2000m.tif. Using WGS84 as default.\n",
      "Features shape: (250000, 3)\n",
      "NaN values before imputation: 114382\n",
      "NaN values after imputation: 114382\n",
      "Original data - Mean: 0.13, Max: 20.08\n",
      "Corrected data - Mean: 0.77, Max: 49.43\n"
     ]
    },
    {
     "name": "stderr",
     "output_type": "stream",
     "text": [
      " 66%|████████████████████████████████████████████████████▍                           | 154/235 [11:40<06:01,  4.46s/it]C:\\Users\\Admin\\anaconda3\\envs\\mossf\\lib\\site-packages\\sklearn\\base.py:493: FutureWarning: The feature names should match those that were passed during fit. Starting version 1.2, an error will be raised.\n",
      "Feature names unseen at fit time:\n",
      "- rainfall\n",
      "Feature names seen at fit time, yet now missing:\n",
      "- radar_rainfall\n",
      "\n",
      "  warnings.warn(message, FutureWarning)\n"
     ]
    },
    {
     "name": "stdout",
     "output_type": "stream",
     "text": [
      "\n",
      "Processing file: D:\\1Yang\\0Research\\0_2566_radar_mosaic\\00mos_chaophraya\\00run_batch_acchr_codes\\2output\\0Hourly\\0Sontihn_RF\\0CBB_Pulse\\0output_mosaic\\2018072122_2000m.tif\n",
      "Warning: CRS not defined for D:\\1Yang\\0Research\\0_2566_radar_mosaic\\00mos_chaophraya\\00run_batch_acchr_codes\\2output\\0Hourly\\0Sontihn_RF\\0CBB_Pulse\\0output_mosaic\\2018072122_2000m.tif. Using WGS84 as default.\n",
      "Features shape: (250000, 3)\n",
      "NaN values before imputation: 114278\n",
      "NaN values after imputation: 114278\n",
      "Original data - Mean: 0.06, Max: 19.93\n",
      "Corrected data - Mean: 0.61, Max: 49.43\n"
     ]
    },
    {
     "name": "stderr",
     "output_type": "stream",
     "text": [
      " 66%|████████████████████████████████████████████████████▊                           | 155/235 [11:44<05:56,  4.45s/it]C:\\Users\\Admin\\anaconda3\\envs\\mossf\\lib\\site-packages\\sklearn\\base.py:493: FutureWarning: The feature names should match those that were passed during fit. Starting version 1.2, an error will be raised.\n",
      "Feature names unseen at fit time:\n",
      "- rainfall\n",
      "Feature names seen at fit time, yet now missing:\n",
      "- radar_rainfall\n",
      "\n",
      "  warnings.warn(message, FutureWarning)\n"
     ]
    },
    {
     "name": "stdout",
     "output_type": "stream",
     "text": [
      "\n",
      "Processing file: D:\\1Yang\\0Research\\0_2566_radar_mosaic\\00mos_chaophraya\\00run_batch_acchr_codes\\2output\\0Hourly\\0Sontihn_RF\\0CBB_Pulse\\0output_mosaic\\2018072123_2000m.tif\n",
      "Warning: CRS not defined for D:\\1Yang\\0Research\\0_2566_radar_mosaic\\00mos_chaophraya\\00run_batch_acchr_codes\\2output\\0Hourly\\0Sontihn_RF\\0CBB_Pulse\\0output_mosaic\\2018072123_2000m.tif. Using WGS84 as default.\n",
      "Features shape: (250000, 3)\n",
      "NaN values before imputation: 114348\n",
      "NaN values after imputation: 114348\n",
      "Original data - Mean: 0.03, Max: 10.41\n",
      "Corrected data - Mean: 0.51, Max: 35.83\n"
     ]
    },
    {
     "name": "stderr",
     "output_type": "stream",
     "text": [
      " 66%|█████████████████████████████████████████████████████                           | 156/235 [11:49<05:51,  4.45s/it]C:\\Users\\Admin\\anaconda3\\envs\\mossf\\lib\\site-packages\\sklearn\\base.py:493: FutureWarning: The feature names should match those that were passed during fit. Starting version 1.2, an error will be raised.\n",
      "Feature names unseen at fit time:\n",
      "- rainfall\n",
      "Feature names seen at fit time, yet now missing:\n",
      "- radar_rainfall\n",
      "\n",
      "  warnings.warn(message, FutureWarning)\n"
     ]
    },
    {
     "name": "stdout",
     "output_type": "stream",
     "text": [
      "\n",
      "Processing file: D:\\1Yang\\0Research\\0_2566_radar_mosaic\\00mos_chaophraya\\00run_batch_acchr_codes\\2output\\0Hourly\\0Sontihn_RF\\0CBB_Pulse\\0output_mosaic\\2018072200_2000m.tif\n",
      "Warning: CRS not defined for D:\\1Yang\\0Research\\0_2566_radar_mosaic\\00mos_chaophraya\\00run_batch_acchr_codes\\2output\\0Hourly\\0Sontihn_RF\\0CBB_Pulse\\0output_mosaic\\2018072200_2000m.tif. Using WGS84 as default.\n",
      "Features shape: (250000, 3)\n",
      "NaN values before imputation: 114303\n",
      "NaN values after imputation: 114303\n",
      "Original data - Mean: 0.03, Max: 15.10\n",
      "Corrected data - Mean: 0.42, Max: 49.43\n"
     ]
    },
    {
     "name": "stderr",
     "output_type": "stream",
     "text": [
      " 67%|█████████████████████████████████████████████████████▍                          | 157/235 [11:53<05:46,  4.44s/it]C:\\Users\\Admin\\anaconda3\\envs\\mossf\\lib\\site-packages\\sklearn\\base.py:493: FutureWarning: The feature names should match those that were passed during fit. Starting version 1.2, an error will be raised.\n",
      "Feature names unseen at fit time:\n",
      "- rainfall\n",
      "Feature names seen at fit time, yet now missing:\n",
      "- radar_rainfall\n",
      "\n",
      "  warnings.warn(message, FutureWarning)\n"
     ]
    },
    {
     "name": "stdout",
     "output_type": "stream",
     "text": [
      "\n",
      "Processing file: D:\\1Yang\\0Research\\0_2566_radar_mosaic\\00mos_chaophraya\\00run_batch_acchr_codes\\2output\\0Hourly\\0Sontihn_RF\\0CBB_Pulse\\0output_mosaic\\2018072201_2000m.tif\n",
      "Warning: CRS not defined for D:\\1Yang\\0Research\\0_2566_radar_mosaic\\00mos_chaophraya\\00run_batch_acchr_codes\\2output\\0Hourly\\0Sontihn_RF\\0CBB_Pulse\\0output_mosaic\\2018072201_2000m.tif. Using WGS84 as default.\n",
      "Features shape: (250000, 3)\n",
      "NaN values before imputation: 114528\n",
      "NaN values after imputation: 114528\n",
      "Original data - Mean: 0.06, Max: 34.39\n",
      "Corrected data - Mean: 0.45, Max: 49.43\n"
     ]
    },
    {
     "name": "stderr",
     "output_type": "stream",
     "text": [
      " 67%|█████████████████████████████████████████████████████▊                          | 158/235 [11:58<05:41,  4.44s/it]C:\\Users\\Admin\\anaconda3\\envs\\mossf\\lib\\site-packages\\sklearn\\base.py:493: FutureWarning: The feature names should match those that were passed during fit. Starting version 1.2, an error will be raised.\n",
      "Feature names unseen at fit time:\n",
      "- rainfall\n",
      "Feature names seen at fit time, yet now missing:\n",
      "- radar_rainfall\n",
      "\n",
      "  warnings.warn(message, FutureWarning)\n"
     ]
    },
    {
     "name": "stdout",
     "output_type": "stream",
     "text": [
      "\n",
      "Processing file: D:\\1Yang\\0Research\\0_2566_radar_mosaic\\00mos_chaophraya\\00run_batch_acchr_codes\\2output\\0Hourly\\0Sontihn_RF\\0CBB_Pulse\\0output_mosaic\\2018072202_2000m.tif\n",
      "Warning: CRS not defined for D:\\1Yang\\0Research\\0_2566_radar_mosaic\\00mos_chaophraya\\00run_batch_acchr_codes\\2output\\0Hourly\\0Sontihn_RF\\0CBB_Pulse\\0output_mosaic\\2018072202_2000m.tif. Using WGS84 as default.\n",
      "Features shape: (250000, 3)\n",
      "NaN values before imputation: 114343\n",
      "NaN values after imputation: 114343\n",
      "Original data - Mean: 0.09, Max: 84.40\n",
      "Corrected data - Mean: 0.54, Max: 49.43\n"
     ]
    },
    {
     "name": "stderr",
     "output_type": "stream",
     "text": [
      " 68%|██████████████████████████████████████████████████████▏                         | 159/235 [12:02<05:37,  4.44s/it]C:\\Users\\Admin\\anaconda3\\envs\\mossf\\lib\\site-packages\\sklearn\\base.py:493: FutureWarning: The feature names should match those that were passed during fit. Starting version 1.2, an error will be raised.\n",
      "Feature names unseen at fit time:\n",
      "- rainfall\n",
      "Feature names seen at fit time, yet now missing:\n",
      "- radar_rainfall\n",
      "\n",
      "  warnings.warn(message, FutureWarning)\n"
     ]
    },
    {
     "name": "stdout",
     "output_type": "stream",
     "text": [
      "\n",
      "Processing file: D:\\1Yang\\0Research\\0_2566_radar_mosaic\\00mos_chaophraya\\00run_batch_acchr_codes\\2output\\0Hourly\\0Sontihn_RF\\0CBB_Pulse\\0output_mosaic\\2018072203_2000m.tif\n",
      "Warning: CRS not defined for D:\\1Yang\\0Research\\0_2566_radar_mosaic\\00mos_chaophraya\\00run_batch_acchr_codes\\2output\\0Hourly\\0Sontihn_RF\\0CBB_Pulse\\0output_mosaic\\2018072203_2000m.tif. Using WGS84 as default.\n",
      "Features shape: (250000, 3)\n",
      "NaN values before imputation: 114447\n",
      "NaN values after imputation: 114447\n",
      "Original data - Mean: 0.07, Max: 73.82\n",
      "Corrected data - Mean: 0.43, Max: 49.43\n"
     ]
    },
    {
     "name": "stderr",
     "output_type": "stream",
     "text": [
      " 68%|██████████████████████████████████████████████████████▍                         | 160/235 [12:07<05:33,  4.44s/it]C:\\Users\\Admin\\anaconda3\\envs\\mossf\\lib\\site-packages\\sklearn\\base.py:493: FutureWarning: The feature names should match those that were passed during fit. Starting version 1.2, an error will be raised.\n",
      "Feature names unseen at fit time:\n",
      "- rainfall\n",
      "Feature names seen at fit time, yet now missing:\n",
      "- radar_rainfall\n",
      "\n",
      "  warnings.warn(message, FutureWarning)\n"
     ]
    },
    {
     "name": "stdout",
     "output_type": "stream",
     "text": [
      "\n",
      "Processing file: D:\\1Yang\\0Research\\0_2566_radar_mosaic\\00mos_chaophraya\\00run_batch_acchr_codes\\2output\\0Hourly\\0Sontihn_RF\\0CBB_Pulse\\0output_mosaic\\2018072204_2000m.tif\n",
      "Warning: CRS not defined for D:\\1Yang\\0Research\\0_2566_radar_mosaic\\00mos_chaophraya\\00run_batch_acchr_codes\\2output\\0Hourly\\0Sontihn_RF\\0CBB_Pulse\\0output_mosaic\\2018072204_2000m.tif. Using WGS84 as default.\n",
      "Features shape: (250000, 3)\n",
      "NaN values before imputation: 114419\n",
      "NaN values after imputation: 114419\n",
      "Original data - Mean: 0.07, Max: 25.61\n",
      "Corrected data - Mean: 0.40, Max: 49.43\n"
     ]
    },
    {
     "name": "stderr",
     "output_type": "stream",
     "text": [
      " 69%|██████████████████████████████████████████████████████▊                         | 161/235 [12:11<05:29,  4.45s/it]C:\\Users\\Admin\\anaconda3\\envs\\mossf\\lib\\site-packages\\sklearn\\base.py:493: FutureWarning: The feature names should match those that were passed during fit. Starting version 1.2, an error will be raised.\n",
      "Feature names unseen at fit time:\n",
      "- rainfall\n",
      "Feature names seen at fit time, yet now missing:\n",
      "- radar_rainfall\n",
      "\n",
      "  warnings.warn(message, FutureWarning)\n"
     ]
    },
    {
     "name": "stdout",
     "output_type": "stream",
     "text": [
      "\n",
      "Processing file: D:\\1Yang\\0Research\\0_2566_radar_mosaic\\00mos_chaophraya\\00run_batch_acchr_codes\\2output\\0Hourly\\0Sontihn_RF\\0CBB_Pulse\\0output_mosaic\\2018072205_2000m.tif\n",
      "Warning: CRS not defined for D:\\1Yang\\0Research\\0_2566_radar_mosaic\\00mos_chaophraya\\00run_batch_acchr_codes\\2output\\0Hourly\\0Sontihn_RF\\0CBB_Pulse\\0output_mosaic\\2018072205_2000m.tif. Using WGS84 as default.\n",
      "Features shape: (250000, 3)\n",
      "NaN values before imputation: 114340\n",
      "NaN values after imputation: 114340\n",
      "Original data - Mean: 0.07, Max: 16.24\n",
      "Corrected data - Mean: 0.41, Max: 49.43\n"
     ]
    },
    {
     "name": "stderr",
     "output_type": "stream",
     "text": [
      " 69%|███████████████████████████████████████████████████████▏                        | 162/235 [12:15<05:24,  4.45s/it]C:\\Users\\Admin\\anaconda3\\envs\\mossf\\lib\\site-packages\\sklearn\\base.py:493: FutureWarning: The feature names should match those that were passed during fit. Starting version 1.2, an error will be raised.\n",
      "Feature names unseen at fit time:\n",
      "- rainfall\n",
      "Feature names seen at fit time, yet now missing:\n",
      "- radar_rainfall\n",
      "\n",
      "  warnings.warn(message, FutureWarning)\n"
     ]
    },
    {
     "name": "stdout",
     "output_type": "stream",
     "text": [
      "\n",
      "Processing file: D:\\1Yang\\0Research\\0_2566_radar_mosaic\\00mos_chaophraya\\00run_batch_acchr_codes\\2output\\0Hourly\\0Sontihn_RF\\0CBB_Pulse\\0output_mosaic\\2018072206_2000m.tif\n",
      "Warning: CRS not defined for D:\\1Yang\\0Research\\0_2566_radar_mosaic\\00mos_chaophraya\\00run_batch_acchr_codes\\2output\\0Hourly\\0Sontihn_RF\\0CBB_Pulse\\0output_mosaic\\2018072206_2000m.tif. Using WGS84 as default.\n",
      "Features shape: (250000, 3)\n",
      "NaN values before imputation: 114287\n",
      "NaN values after imputation: 114287\n",
      "Original data - Mean: 0.04, Max: 10.75\n",
      "Corrected data - Mean: 0.37, Max: 36.39\n"
     ]
    },
    {
     "name": "stderr",
     "output_type": "stream",
     "text": [
      " 69%|███████████████████████████████████████████████████████▍                        | 163/235 [12:20<05:19,  4.43s/it]C:\\Users\\Admin\\anaconda3\\envs\\mossf\\lib\\site-packages\\sklearn\\base.py:493: FutureWarning: The feature names should match those that were passed during fit. Starting version 1.2, an error will be raised.\n",
      "Feature names unseen at fit time:\n",
      "- rainfall\n",
      "Feature names seen at fit time, yet now missing:\n",
      "- radar_rainfall\n",
      "\n",
      "  warnings.warn(message, FutureWarning)\n"
     ]
    },
    {
     "name": "stdout",
     "output_type": "stream",
     "text": [
      "\n",
      "Processing file: D:\\1Yang\\0Research\\0_2566_radar_mosaic\\00mos_chaophraya\\00run_batch_acchr_codes\\2output\\0Hourly\\0Sontihn_RF\\0CBB_Pulse\\0output_mosaic\\2018072207_2000m.tif\n",
      "Warning: CRS not defined for D:\\1Yang\\0Research\\0_2566_radar_mosaic\\00mos_chaophraya\\00run_batch_acchr_codes\\2output\\0Hourly\\0Sontihn_RF\\0CBB_Pulse\\0output_mosaic\\2018072207_2000m.tif. Using WGS84 as default.\n",
      "Features shape: (250000, 3)\n",
      "NaN values before imputation: 114336\n",
      "NaN values after imputation: 114336\n",
      "Original data - Mean: 0.04, Max: 25.60\n",
      "Corrected data - Mean: 0.40, Max: 49.43\n"
     ]
    },
    {
     "name": "stderr",
     "output_type": "stream",
     "text": [
      " 70%|███████████████████████████████████████████████████████▊                        | 164/235 [12:24<05:14,  4.43s/it]C:\\Users\\Admin\\anaconda3\\envs\\mossf\\lib\\site-packages\\sklearn\\base.py:493: FutureWarning: The feature names should match those that were passed during fit. Starting version 1.2, an error will be raised.\n",
      "Feature names unseen at fit time:\n",
      "- rainfall\n",
      "Feature names seen at fit time, yet now missing:\n",
      "- radar_rainfall\n",
      "\n",
      "  warnings.warn(message, FutureWarning)\n"
     ]
    },
    {
     "name": "stdout",
     "output_type": "stream",
     "text": [
      "\n",
      "Processing file: D:\\1Yang\\0Research\\0_2566_radar_mosaic\\00mos_chaophraya\\00run_batch_acchr_codes\\2output\\0Hourly\\0Sontihn_RF\\0CBB_Pulse\\0output_mosaic\\2018072208_2000m.tif\n",
      "Warning: CRS not defined for D:\\1Yang\\0Research\\0_2566_radar_mosaic\\00mos_chaophraya\\00run_batch_acchr_codes\\2output\\0Hourly\\0Sontihn_RF\\0CBB_Pulse\\0output_mosaic\\2018072208_2000m.tif. Using WGS84 as default.\n",
      "Features shape: (250000, 3)\n",
      "NaN values before imputation: 114322\n",
      "NaN values after imputation: 114322\n",
      "Original data - Mean: 0.06, Max: 19.76\n",
      "Corrected data - Mean: 0.50, Max: 49.43\n"
     ]
    },
    {
     "name": "stderr",
     "output_type": "stream",
     "text": [
      " 70%|████████████████████████████████████████████████████████▏                       | 165/235 [12:29<05:11,  4.45s/it]C:\\Users\\Admin\\anaconda3\\envs\\mossf\\lib\\site-packages\\sklearn\\base.py:493: FutureWarning: The feature names should match those that were passed during fit. Starting version 1.2, an error will be raised.\n",
      "Feature names unseen at fit time:\n",
      "- rainfall\n",
      "Feature names seen at fit time, yet now missing:\n",
      "- radar_rainfall\n",
      "\n",
      "  warnings.warn(message, FutureWarning)\n"
     ]
    },
    {
     "name": "stdout",
     "output_type": "stream",
     "text": [
      "\n",
      "Processing file: D:\\1Yang\\0Research\\0_2566_radar_mosaic\\00mos_chaophraya\\00run_batch_acchr_codes\\2output\\0Hourly\\0Sontihn_RF\\0CBB_Pulse\\0output_mosaic\\2018072209_2000m.tif\n",
      "Warning: CRS not defined for D:\\1Yang\\0Research\\0_2566_radar_mosaic\\00mos_chaophraya\\00run_batch_acchr_codes\\2output\\0Hourly\\0Sontihn_RF\\0CBB_Pulse\\0output_mosaic\\2018072209_2000m.tif. Using WGS84 as default.\n",
      "Features shape: (250000, 3)\n",
      "NaN values before imputation: 114262\n",
      "NaN values after imputation: 114262\n",
      "Original data - Mean: 0.09, Max: 60.80\n",
      "Corrected data - Mean: 0.51, Max: 49.43\n"
     ]
    },
    {
     "name": "stderr",
     "output_type": "stream",
     "text": [
      " 71%|████████████████████████████████████████████████████████▌                       | 166/235 [12:33<05:07,  4.45s/it]C:\\Users\\Admin\\anaconda3\\envs\\mossf\\lib\\site-packages\\sklearn\\base.py:493: FutureWarning: The feature names should match those that were passed during fit. Starting version 1.2, an error will be raised.\n",
      "Feature names unseen at fit time:\n",
      "- rainfall\n",
      "Feature names seen at fit time, yet now missing:\n",
      "- radar_rainfall\n",
      "\n",
      "  warnings.warn(message, FutureWarning)\n"
     ]
    },
    {
     "name": "stdout",
     "output_type": "stream",
     "text": [
      "\n",
      "Processing file: D:\\1Yang\\0Research\\0_2566_radar_mosaic\\00mos_chaophraya\\00run_batch_acchr_codes\\2output\\0Hourly\\0Sontihn_RF\\0CBB_Pulse\\0output_mosaic\\2018072210_2000m.tif\n",
      "Warning: CRS not defined for D:\\1Yang\\0Research\\0_2566_radar_mosaic\\00mos_chaophraya\\00run_batch_acchr_codes\\2output\\0Hourly\\0Sontihn_RF\\0CBB_Pulse\\0output_mosaic\\2018072210_2000m.tif. Using WGS84 as default.\n",
      "Features shape: (250000, 3)\n",
      "NaN values before imputation: 114341\n",
      "NaN values after imputation: 114341\n",
      "Original data - Mean: 0.06, Max: 19.11\n",
      "Corrected data - Mean: 0.48, Max: 49.43\n"
     ]
    },
    {
     "name": "stderr",
     "output_type": "stream",
     "text": [
      " 71%|████████████████████████████████████████████████████████▊                       | 167/235 [12:38<05:02,  4.45s/it]C:\\Users\\Admin\\anaconda3\\envs\\mossf\\lib\\site-packages\\sklearn\\base.py:493: FutureWarning: The feature names should match those that were passed during fit. Starting version 1.2, an error will be raised.\n",
      "Feature names unseen at fit time:\n",
      "- rainfall\n",
      "Feature names seen at fit time, yet now missing:\n",
      "- radar_rainfall\n",
      "\n",
      "  warnings.warn(message, FutureWarning)\n"
     ]
    },
    {
     "name": "stdout",
     "output_type": "stream",
     "text": [
      "\n",
      "Processing file: D:\\1Yang\\0Research\\0_2566_radar_mosaic\\00mos_chaophraya\\00run_batch_acchr_codes\\2output\\0Hourly\\0Sontihn_RF\\0CBB_Pulse\\0output_mosaic\\2018072211_2000m.tif\n",
      "Warning: CRS not defined for D:\\1Yang\\0Research\\0_2566_radar_mosaic\\00mos_chaophraya\\00run_batch_acchr_codes\\2output\\0Hourly\\0Sontihn_RF\\0CBB_Pulse\\0output_mosaic\\2018072211_2000m.tif. Using WGS84 as default.\n",
      "Features shape: (250000, 3)\n",
      "NaN values before imputation: 114299\n",
      "NaN values after imputation: 114299\n",
      "Original data - Mean: 0.06, Max: 24.54\n",
      "Corrected data - Mean: 0.44, Max: 49.43\n"
     ]
    },
    {
     "name": "stderr",
     "output_type": "stream",
     "text": [
      " 71%|█████████████████████████████████████████████████████████▏                      | 168/235 [12:42<04:57,  4.45s/it]C:\\Users\\Admin\\anaconda3\\envs\\mossf\\lib\\site-packages\\sklearn\\base.py:493: FutureWarning: The feature names should match those that were passed during fit. Starting version 1.2, an error will be raised.\n",
      "Feature names unseen at fit time:\n",
      "- rainfall\n",
      "Feature names seen at fit time, yet now missing:\n",
      "- radar_rainfall\n",
      "\n",
      "  warnings.warn(message, FutureWarning)\n"
     ]
    },
    {
     "name": "stdout",
     "output_type": "stream",
     "text": [
      "\n",
      "Processing file: D:\\1Yang\\0Research\\0_2566_radar_mosaic\\00mos_chaophraya\\00run_batch_acchr_codes\\2output\\0Hourly\\0Sontihn_RF\\0CBB_Pulse\\0output_mosaic\\2018072212_2000m.tif\n",
      "Warning: CRS not defined for D:\\1Yang\\0Research\\0_2566_radar_mosaic\\00mos_chaophraya\\00run_batch_acchr_codes\\2output\\0Hourly\\0Sontihn_RF\\0CBB_Pulse\\0output_mosaic\\2018072212_2000m.tif. Using WGS84 as default.\n",
      "Features shape: (250000, 3)\n",
      "NaN values before imputation: 114307\n",
      "NaN values after imputation: 114307\n",
      "Original data - Mean: 0.03, Max: 12.70\n",
      "Corrected data - Mean: 0.37, Max: 49.00\n"
     ]
    },
    {
     "name": "stderr",
     "output_type": "stream",
     "text": [
      " 72%|█████████████████████████████████████████████████████████▌                      | 169/235 [12:47<04:53,  4.45s/it]C:\\Users\\Admin\\anaconda3\\envs\\mossf\\lib\\site-packages\\sklearn\\base.py:493: FutureWarning: The feature names should match those that were passed during fit. Starting version 1.2, an error will be raised.\n",
      "Feature names unseen at fit time:\n",
      "- rainfall\n",
      "Feature names seen at fit time, yet now missing:\n",
      "- radar_rainfall\n",
      "\n",
      "  warnings.warn(message, FutureWarning)\n"
     ]
    },
    {
     "name": "stdout",
     "output_type": "stream",
     "text": [
      "\n",
      "Processing file: D:\\1Yang\\0Research\\0_2566_radar_mosaic\\00mos_chaophraya\\00run_batch_acchr_codes\\2output\\0Hourly\\0Sontihn_RF\\0CBB_Pulse\\0output_mosaic\\2018072213_2000m.tif\n",
      "Warning: CRS not defined for D:\\1Yang\\0Research\\0_2566_radar_mosaic\\00mos_chaophraya\\00run_batch_acchr_codes\\2output\\0Hourly\\0Sontihn_RF\\0CBB_Pulse\\0output_mosaic\\2018072213_2000m.tif. Using WGS84 as default.\n",
      "Features shape: (250000, 3)\n",
      "NaN values before imputation: 114307\n",
      "NaN values after imputation: 114307\n",
      "Original data - Mean: 0.05, Max: 63.76\n",
      "Corrected data - Mean: 0.46, Max: 49.43\n"
     ]
    },
    {
     "name": "stderr",
     "output_type": "stream",
     "text": [
      " 72%|█████████████████████████████████████████████████████████▊                      | 170/235 [12:51<04:50,  4.47s/it]C:\\Users\\Admin\\anaconda3\\envs\\mossf\\lib\\site-packages\\sklearn\\base.py:493: FutureWarning: The feature names should match those that were passed during fit. Starting version 1.2, an error will be raised.\n",
      "Feature names unseen at fit time:\n",
      "- rainfall\n",
      "Feature names seen at fit time, yet now missing:\n",
      "- radar_rainfall\n",
      "\n",
      "  warnings.warn(message, FutureWarning)\n"
     ]
    },
    {
     "name": "stdout",
     "output_type": "stream",
     "text": [
      "\n",
      "Processing file: D:\\1Yang\\0Research\\0_2566_radar_mosaic\\00mos_chaophraya\\00run_batch_acchr_codes\\2output\\0Hourly\\0Sontihn_RF\\0CBB_Pulse\\0output_mosaic\\2018072214_2000m.tif\n",
      "Warning: CRS not defined for D:\\1Yang\\0Research\\0_2566_radar_mosaic\\00mos_chaophraya\\00run_batch_acchr_codes\\2output\\0Hourly\\0Sontihn_RF\\0CBB_Pulse\\0output_mosaic\\2018072214_2000m.tif. Using WGS84 as default.\n",
      "Features shape: (250000, 3)\n",
      "NaN values before imputation: 114308\n",
      "NaN values after imputation: 114308\n",
      "Original data - Mean: 0.09, Max: 58.12\n",
      "Corrected data - Mean: 0.66, Max: 49.43\n"
     ]
    },
    {
     "name": "stderr",
     "output_type": "stream",
     "text": [
      " 73%|██████████████████████████████████████████████████████████▏                     | 171/235 [12:56<04:46,  4.47s/it]C:\\Users\\Admin\\anaconda3\\envs\\mossf\\lib\\site-packages\\sklearn\\base.py:493: FutureWarning: The feature names should match those that were passed during fit. Starting version 1.2, an error will be raised.\n",
      "Feature names unseen at fit time:\n",
      "- rainfall\n",
      "Feature names seen at fit time, yet now missing:\n",
      "- radar_rainfall\n",
      "\n",
      "  warnings.warn(message, FutureWarning)\n"
     ]
    },
    {
     "name": "stdout",
     "output_type": "stream",
     "text": [
      "\n",
      "Processing file: D:\\1Yang\\0Research\\0_2566_radar_mosaic\\00mos_chaophraya\\00run_batch_acchr_codes\\2output\\0Hourly\\0Sontihn_RF\\0CBB_Pulse\\0output_mosaic\\2018072215_2000m.tif\n",
      "Warning: CRS not defined for D:\\1Yang\\0Research\\0_2566_radar_mosaic\\00mos_chaophraya\\00run_batch_acchr_codes\\2output\\0Hourly\\0Sontihn_RF\\0CBB_Pulse\\0output_mosaic\\2018072215_2000m.tif. Using WGS84 as default.\n",
      "Features shape: (250000, 3)\n",
      "NaN values before imputation: 114316\n",
      "NaN values after imputation: 114316\n",
      "Original data - Mean: 0.13, Max: 62.23\n",
      "Corrected data - Mean: 0.81, Max: 49.43\n"
     ]
    },
    {
     "name": "stderr",
     "output_type": "stream",
     "text": [
      " 73%|██████████████████████████████████████████████████████████▌                     | 172/235 [13:00<04:41,  4.48s/it]C:\\Users\\Admin\\anaconda3\\envs\\mossf\\lib\\site-packages\\sklearn\\base.py:493: FutureWarning: The feature names should match those that were passed during fit. Starting version 1.2, an error will be raised.\n",
      "Feature names unseen at fit time:\n",
      "- rainfall\n",
      "Feature names seen at fit time, yet now missing:\n",
      "- radar_rainfall\n",
      "\n",
      "  warnings.warn(message, FutureWarning)\n"
     ]
    },
    {
     "name": "stdout",
     "output_type": "stream",
     "text": [
      "\n",
      "Processing file: D:\\1Yang\\0Research\\0_2566_radar_mosaic\\00mos_chaophraya\\00run_batch_acchr_codes\\2output\\0Hourly\\0Sontihn_RF\\0CBB_Pulse\\0output_mosaic\\2018072216_2000m.tif\n",
      "Warning: CRS not defined for D:\\1Yang\\0Research\\0_2566_radar_mosaic\\00mos_chaophraya\\00run_batch_acchr_codes\\2output\\0Hourly\\0Sontihn_RF\\0CBB_Pulse\\0output_mosaic\\2018072216_2000m.tif. Using WGS84 as default.\n",
      "Features shape: (250000, 3)\n",
      "NaN values before imputation: 114338\n",
      "NaN values after imputation: 114338\n",
      "Original data - Mean: 0.16, Max: 74.33\n",
      "Corrected data - Mean: 0.75, Max: 49.43\n"
     ]
    },
    {
     "name": "stderr",
     "output_type": "stream",
     "text": [
      " 74%|██████████████████████████████████████████████████████████▉                     | 173/235 [13:05<04:37,  4.48s/it]C:\\Users\\Admin\\anaconda3\\envs\\mossf\\lib\\site-packages\\sklearn\\base.py:493: FutureWarning: The feature names should match those that were passed during fit. Starting version 1.2, an error will be raised.\n",
      "Feature names unseen at fit time:\n",
      "- rainfall\n",
      "Feature names seen at fit time, yet now missing:\n",
      "- radar_rainfall\n",
      "\n",
      "  warnings.warn(message, FutureWarning)\n"
     ]
    },
    {
     "name": "stdout",
     "output_type": "stream",
     "text": [
      "\n",
      "Processing file: D:\\1Yang\\0Research\\0_2566_radar_mosaic\\00mos_chaophraya\\00run_batch_acchr_codes\\2output\\0Hourly\\0Sontihn_RF\\0CBB_Pulse\\0output_mosaic\\2018072217_2000m.tif\n",
      "Warning: CRS not defined for D:\\1Yang\\0Research\\0_2566_radar_mosaic\\00mos_chaophraya\\00run_batch_acchr_codes\\2output\\0Hourly\\0Sontihn_RF\\0CBB_Pulse\\0output_mosaic\\2018072217_2000m.tif. Using WGS84 as default.\n",
      "Features shape: (250000, 3)\n",
      "NaN values before imputation: 114295\n",
      "NaN values after imputation: 114295\n",
      "Original data - Mean: 0.24, Max: 90.71\n",
      "Corrected data - Mean: 0.79, Max: 49.43\n"
     ]
    },
    {
     "name": "stderr",
     "output_type": "stream",
     "text": [
      " 74%|███████████████████████████████████████████████████████████▏                    | 174/235 [13:09<04:33,  4.48s/it]C:\\Users\\Admin\\anaconda3\\envs\\mossf\\lib\\site-packages\\sklearn\\base.py:493: FutureWarning: The feature names should match those that were passed during fit. Starting version 1.2, an error will be raised.\n",
      "Feature names unseen at fit time:\n",
      "- rainfall\n",
      "Feature names seen at fit time, yet now missing:\n",
      "- radar_rainfall\n",
      "\n",
      "  warnings.warn(message, FutureWarning)\n"
     ]
    },
    {
     "name": "stdout",
     "output_type": "stream",
     "text": [
      "\n",
      "Processing file: D:\\1Yang\\0Research\\0_2566_radar_mosaic\\00mos_chaophraya\\00run_batch_acchr_codes\\2output\\0Hourly\\0Sontihn_RF\\0CBB_Pulse\\0output_mosaic\\2018072218_2000m.tif\n",
      "Warning: CRS not defined for D:\\1Yang\\0Research\\0_2566_radar_mosaic\\00mos_chaophraya\\00run_batch_acchr_codes\\2output\\0Hourly\\0Sontihn_RF\\0CBB_Pulse\\0output_mosaic\\2018072218_2000m.tif. Using WGS84 as default.\n",
      "Features shape: (250000, 3)\n",
      "NaN values before imputation: 114341\n",
      "NaN values after imputation: 114341\n",
      "Original data - Mean: 0.26, Max: 87.87\n",
      "Corrected data - Mean: 0.85, Max: 49.43\n"
     ]
    },
    {
     "name": "stderr",
     "output_type": "stream",
     "text": [
      " 74%|███████████████████████████████████████████████████████████▌                    | 175/235 [13:14<04:28,  4.48s/it]C:\\Users\\Admin\\anaconda3\\envs\\mossf\\lib\\site-packages\\sklearn\\base.py:493: FutureWarning: The feature names should match those that were passed during fit. Starting version 1.2, an error will be raised.\n",
      "Feature names unseen at fit time:\n",
      "- rainfall\n",
      "Feature names seen at fit time, yet now missing:\n",
      "- radar_rainfall\n",
      "\n",
      "  warnings.warn(message, FutureWarning)\n"
     ]
    },
    {
     "name": "stdout",
     "output_type": "stream",
     "text": [
      "\n",
      "Processing file: D:\\1Yang\\0Research\\0_2566_radar_mosaic\\00mos_chaophraya\\00run_batch_acchr_codes\\2output\\0Hourly\\0Sontihn_RF\\0CBB_Pulse\\0output_mosaic\\2018072219_2000m.tif\n",
      "Warning: CRS not defined for D:\\1Yang\\0Research\\0_2566_radar_mosaic\\00mos_chaophraya\\00run_batch_acchr_codes\\2output\\0Hourly\\0Sontihn_RF\\0CBB_Pulse\\0output_mosaic\\2018072219_2000m.tif. Using WGS84 as default.\n",
      "Features shape: (250000, 3)\n",
      "NaN values before imputation: 114322\n",
      "NaN values after imputation: 114322\n",
      "Original data - Mean: 0.20, Max: 82.61\n",
      "Corrected data - Mean: 0.79, Max: 49.43\n"
     ]
    },
    {
     "name": "stderr",
     "output_type": "stream",
     "text": [
      " 75%|███████████████████████████████████████████████████████████▉                    | 176/235 [13:18<04:24,  4.49s/it]C:\\Users\\Admin\\anaconda3\\envs\\mossf\\lib\\site-packages\\sklearn\\base.py:493: FutureWarning: The feature names should match those that were passed during fit. Starting version 1.2, an error will be raised.\n",
      "Feature names unseen at fit time:\n",
      "- rainfall\n",
      "Feature names seen at fit time, yet now missing:\n",
      "- radar_rainfall\n",
      "\n",
      "  warnings.warn(message, FutureWarning)\n"
     ]
    },
    {
     "name": "stdout",
     "output_type": "stream",
     "text": [
      "\n",
      "Processing file: D:\\1Yang\\0Research\\0_2566_radar_mosaic\\00mos_chaophraya\\00run_batch_acchr_codes\\2output\\0Hourly\\0Sontihn_RF\\0CBB_Pulse\\0output_mosaic\\2018072220_2000m.tif\n",
      "Warning: CRS not defined for D:\\1Yang\\0Research\\0_2566_radar_mosaic\\00mos_chaophraya\\00run_batch_acchr_codes\\2output\\0Hourly\\0Sontihn_RF\\0CBB_Pulse\\0output_mosaic\\2018072220_2000m.tif. Using WGS84 as default.\n",
      "Features shape: (250000, 3)\n",
      "NaN values before imputation: 114277\n",
      "NaN values after imputation: 114277\n",
      "Original data - Mean: 0.18, Max: 40.04\n",
      "Corrected data - Mean: 0.70, Max: 49.43\n"
     ]
    },
    {
     "name": "stderr",
     "output_type": "stream",
     "text": [
      " 75%|████████████████████████████████████████████████████████████▎                   | 177/235 [13:23<04:20,  4.49s/it]C:\\Users\\Admin\\anaconda3\\envs\\mossf\\lib\\site-packages\\sklearn\\base.py:493: FutureWarning: The feature names should match those that were passed during fit. Starting version 1.2, an error will be raised.\n",
      "Feature names unseen at fit time:\n",
      "- rainfall\n",
      "Feature names seen at fit time, yet now missing:\n",
      "- radar_rainfall\n",
      "\n",
      "  warnings.warn(message, FutureWarning)\n"
     ]
    },
    {
     "name": "stdout",
     "output_type": "stream",
     "text": [
      "\n",
      "Processing file: D:\\1Yang\\0Research\\0_2566_radar_mosaic\\00mos_chaophraya\\00run_batch_acchr_codes\\2output\\0Hourly\\0Sontihn_RF\\0CBB_Pulse\\0output_mosaic\\2018072221_2000m.tif\n",
      "Warning: CRS not defined for D:\\1Yang\\0Research\\0_2566_radar_mosaic\\00mos_chaophraya\\00run_batch_acchr_codes\\2output\\0Hourly\\0Sontihn_RF\\0CBB_Pulse\\0output_mosaic\\2018072221_2000m.tif. Using WGS84 as default.\n",
      "Features shape: (250000, 3)\n",
      "NaN values before imputation: 114328\n",
      "NaN values after imputation: 114328\n",
      "Original data - Mean: 0.10, Max: 14.82\n",
      "Corrected data - Mean: 0.51, Max: 49.43\n"
     ]
    },
    {
     "name": "stderr",
     "output_type": "stream",
     "text": [
      " 76%|████████████████████████████████████████████████████████████▌                   | 178/235 [13:27<04:16,  4.49s/it]C:\\Users\\Admin\\anaconda3\\envs\\mossf\\lib\\site-packages\\sklearn\\base.py:493: FutureWarning: The feature names should match those that were passed during fit. Starting version 1.2, an error will be raised.\n",
      "Feature names unseen at fit time:\n",
      "- rainfall\n",
      "Feature names seen at fit time, yet now missing:\n",
      "- radar_rainfall\n",
      "\n",
      "  warnings.warn(message, FutureWarning)\n"
     ]
    },
    {
     "name": "stdout",
     "output_type": "stream",
     "text": [
      "\n",
      "Processing file: D:\\1Yang\\0Research\\0_2566_radar_mosaic\\00mos_chaophraya\\00run_batch_acchr_codes\\2output\\0Hourly\\0Sontihn_RF\\0CBB_Pulse\\0output_mosaic\\2018072222_2000m.tif\n",
      "Warning: CRS not defined for D:\\1Yang\\0Research\\0_2566_radar_mosaic\\00mos_chaophraya\\00run_batch_acchr_codes\\2output\\0Hourly\\0Sontihn_RF\\0CBB_Pulse\\0output_mosaic\\2018072222_2000m.tif. Using WGS84 as default.\n",
      "Features shape: (250000, 3)\n",
      "NaN values before imputation: 114298\n",
      "NaN values after imputation: 114298\n",
      "Original data - Mean: 0.06, Max: 27.55\n",
      "Corrected data - Mean: 0.43, Max: 49.43\n"
     ]
    },
    {
     "name": "stderr",
     "output_type": "stream",
     "text": [
      " 76%|████████████████████████████████████████████████████████████▉                   | 179/235 [13:31<04:11,  4.48s/it]C:\\Users\\Admin\\anaconda3\\envs\\mossf\\lib\\site-packages\\sklearn\\base.py:493: FutureWarning: The feature names should match those that were passed during fit. Starting version 1.2, an error will be raised.\n",
      "Feature names unseen at fit time:\n",
      "- rainfall\n",
      "Feature names seen at fit time, yet now missing:\n",
      "- radar_rainfall\n",
      "\n",
      "  warnings.warn(message, FutureWarning)\n"
     ]
    },
    {
     "name": "stdout",
     "output_type": "stream",
     "text": [
      "\n",
      "Processing file: D:\\1Yang\\0Research\\0_2566_radar_mosaic\\00mos_chaophraya\\00run_batch_acchr_codes\\2output\\0Hourly\\0Sontihn_RF\\0CBB_Pulse\\0output_mosaic\\2018072223_2000m.tif\n",
      "Warning: CRS not defined for D:\\1Yang\\0Research\\0_2566_radar_mosaic\\00mos_chaophraya\\00run_batch_acchr_codes\\2output\\0Hourly\\0Sontihn_RF\\0CBB_Pulse\\0output_mosaic\\2018072223_2000m.tif. Using WGS84 as default.\n",
      "Features shape: (250000, 3)\n",
      "NaN values before imputation: 114307\n",
      "NaN values after imputation: 114307\n",
      "Original data - Mean: 0.05, Max: 12.28\n",
      "Corrected data - Mean: 0.48, Max: 49.00\n"
     ]
    },
    {
     "name": "stderr",
     "output_type": "stream",
     "text": [
      " 77%|█████████████████████████████████████████████████████████████▎                  | 180/235 [13:37<04:25,  4.82s/it]C:\\Users\\Admin\\anaconda3\\envs\\mossf\\lib\\site-packages\\sklearn\\base.py:493: FutureWarning: The feature names should match those that were passed during fit. Starting version 1.2, an error will be raised.\n",
      "Feature names unseen at fit time:\n",
      "- rainfall\n",
      "Feature names seen at fit time, yet now missing:\n",
      "- radar_rainfall\n",
      "\n",
      "  warnings.warn(message, FutureWarning)\n"
     ]
    },
    {
     "name": "stdout",
     "output_type": "stream",
     "text": [
      "\n",
      "Processing file: D:\\1Yang\\0Research\\0_2566_radar_mosaic\\00mos_chaophraya\\00run_batch_acchr_codes\\2output\\0Hourly\\0Sontihn_RF\\0CBB_Pulse\\0output_mosaic\\2018072300_2000m.tif\n",
      "Warning: CRS not defined for D:\\1Yang\\0Research\\0_2566_radar_mosaic\\00mos_chaophraya\\00run_batch_acchr_codes\\2output\\0Hourly\\0Sontihn_RF\\0CBB_Pulse\\0output_mosaic\\2018072300_2000m.tif. Using WGS84 as default.\n",
      "Features shape: (250000, 3)\n",
      "NaN values before imputation: 114377\n",
      "NaN values after imputation: 114377\n",
      "Original data - Mean: 0.04, Max: 11.50\n",
      "Corrected data - Mean: 0.33, Max: 46.23\n"
     ]
    },
    {
     "name": "stderr",
     "output_type": "stream",
     "text": [
      " 77%|█████████████████████████████████████████████████████████████▌                  | 181/235 [13:42<04:14,  4.71s/it]C:\\Users\\Admin\\anaconda3\\envs\\mossf\\lib\\site-packages\\sklearn\\base.py:493: FutureWarning: The feature names should match those that were passed during fit. Starting version 1.2, an error will be raised.\n",
      "Feature names unseen at fit time:\n",
      "- rainfall\n",
      "Feature names seen at fit time, yet now missing:\n",
      "- radar_rainfall\n",
      "\n",
      "  warnings.warn(message, FutureWarning)\n"
     ]
    },
    {
     "name": "stdout",
     "output_type": "stream",
     "text": [
      "\n",
      "Processing file: D:\\1Yang\\0Research\\0_2566_radar_mosaic\\00mos_chaophraya\\00run_batch_acchr_codes\\2output\\0Hourly\\0Sontihn_RF\\0CBB_Pulse\\0output_mosaic\\2018072301_2000m.tif\n",
      "Warning: CRS not defined for D:\\1Yang\\0Research\\0_2566_radar_mosaic\\00mos_chaophraya\\00run_batch_acchr_codes\\2output\\0Hourly\\0Sontihn_RF\\0CBB_Pulse\\0output_mosaic\\2018072301_2000m.tif. Using WGS84 as default.\n",
      "Features shape: (250000, 3)\n",
      "NaN values before imputation: 114348\n",
      "NaN values after imputation: 114348\n",
      "Original data - Mean: 0.05, Max: 32.22\n",
      "Corrected data - Mean: 0.32, Max: 49.43\n"
     ]
    },
    {
     "name": "stderr",
     "output_type": "stream",
     "text": [
      " 77%|█████████████████████████████████████████████████████████████▉                  | 182/235 [13:46<04:06,  4.66s/it]C:\\Users\\Admin\\anaconda3\\envs\\mossf\\lib\\site-packages\\sklearn\\base.py:493: FutureWarning: The feature names should match those that were passed during fit. Starting version 1.2, an error will be raised.\n",
      "Feature names unseen at fit time:\n",
      "- rainfall\n",
      "Feature names seen at fit time, yet now missing:\n",
      "- radar_rainfall\n",
      "\n",
      "  warnings.warn(message, FutureWarning)\n"
     ]
    },
    {
     "name": "stdout",
     "output_type": "stream",
     "text": [
      "\n",
      "Processing file: D:\\1Yang\\0Research\\0_2566_radar_mosaic\\00mos_chaophraya\\00run_batch_acchr_codes\\2output\\0Hourly\\0Sontihn_RF\\0CBB_Pulse\\0output_mosaic\\2018072302_2000m.tif\n",
      "Warning: CRS not defined for D:\\1Yang\\0Research\\0_2566_radar_mosaic\\00mos_chaophraya\\00run_batch_acchr_codes\\2output\\0Hourly\\0Sontihn_RF\\0CBB_Pulse\\0output_mosaic\\2018072302_2000m.tif. Using WGS84 as default.\n",
      "Features shape: (250000, 3)\n",
      "NaN values before imputation: 114254\n",
      "NaN values after imputation: 114254\n",
      "Original data - Mean: 0.07, Max: 35.61\n",
      "Corrected data - Mean: 0.27, Max: 49.43\n"
     ]
    },
    {
     "name": "stderr",
     "output_type": "stream",
     "text": [
      " 78%|██████████████████████████████████████████████████████████████▎                 | 183/235 [13:51<04:01,  4.64s/it]C:\\Users\\Admin\\anaconda3\\envs\\mossf\\lib\\site-packages\\sklearn\\base.py:493: FutureWarning: The feature names should match those that were passed during fit. Starting version 1.2, an error will be raised.\n",
      "Feature names unseen at fit time:\n",
      "- rainfall\n",
      "Feature names seen at fit time, yet now missing:\n",
      "- radar_rainfall\n",
      "\n",
      "  warnings.warn(message, FutureWarning)\n"
     ]
    },
    {
     "name": "stdout",
     "output_type": "stream",
     "text": [
      "\n",
      "Processing file: D:\\1Yang\\0Research\\0_2566_radar_mosaic\\00mos_chaophraya\\00run_batch_acchr_codes\\2output\\0Hourly\\0Sontihn_RF\\0CBB_Pulse\\0output_mosaic\\2018072303_2000m.tif\n",
      "Warning: CRS not defined for D:\\1Yang\\0Research\\0_2566_radar_mosaic\\00mos_chaophraya\\00run_batch_acchr_codes\\2output\\0Hourly\\0Sontihn_RF\\0CBB_Pulse\\0output_mosaic\\2018072303_2000m.tif. Using WGS84 as default.\n",
      "Features shape: (250000, 3)\n",
      "NaN values before imputation: 114326\n",
      "NaN values after imputation: 114326\n",
      "Original data - Mean: 0.08, Max: 54.54\n",
      "Corrected data - Mean: 0.31, Max: 49.43\n"
     ]
    },
    {
     "name": "stderr",
     "output_type": "stream",
     "text": [
      " 78%|██████████████████████████████████████████████████████████████▋                 | 184/235 [13:57<04:15,  5.02s/it]C:\\Users\\Admin\\anaconda3\\envs\\mossf\\lib\\site-packages\\sklearn\\base.py:493: FutureWarning: The feature names should match those that were passed during fit. Starting version 1.2, an error will be raised.\n",
      "Feature names unseen at fit time:\n",
      "- rainfall\n",
      "Feature names seen at fit time, yet now missing:\n",
      "- radar_rainfall\n",
      "\n",
      "  warnings.warn(message, FutureWarning)\n"
     ]
    },
    {
     "name": "stdout",
     "output_type": "stream",
     "text": [
      "\n",
      "Processing file: D:\\1Yang\\0Research\\0_2566_radar_mosaic\\00mos_chaophraya\\00run_batch_acchr_codes\\2output\\0Hourly\\0Sontihn_RF\\0CBB_Pulse\\0output_mosaic\\2018072304_2000m.tif\n",
      "Warning: CRS not defined for D:\\1Yang\\0Research\\0_2566_radar_mosaic\\00mos_chaophraya\\00run_batch_acchr_codes\\2output\\0Hourly\\0Sontihn_RF\\0CBB_Pulse\\0output_mosaic\\2018072304_2000m.tif. Using WGS84 as default.\n",
      "Features shape: (250000, 3)\n",
      "NaN values before imputation: 114320\n",
      "NaN values after imputation: 114320\n",
      "Original data - Mean: 0.12, Max: 62.27\n",
      "Corrected data - Mean: 0.40, Max: 49.43\n"
     ]
    },
    {
     "name": "stderr",
     "output_type": "stream",
     "text": [
      " 79%|██████████████████████████████████████████████████████████████▉                 | 185/235 [14:01<04:08,  4.96s/it]C:\\Users\\Admin\\anaconda3\\envs\\mossf\\lib\\site-packages\\sklearn\\base.py:493: FutureWarning: The feature names should match those that were passed during fit. Starting version 1.2, an error will be raised.\n",
      "Feature names unseen at fit time:\n",
      "- rainfall\n",
      "Feature names seen at fit time, yet now missing:\n",
      "- radar_rainfall\n",
      "\n",
      "  warnings.warn(message, FutureWarning)\n"
     ]
    },
    {
     "name": "stdout",
     "output_type": "stream",
     "text": [
      "\n",
      "Processing file: D:\\1Yang\\0Research\\0_2566_radar_mosaic\\00mos_chaophraya\\00run_batch_acchr_codes\\2output\\0Hourly\\0Sontihn_RF\\0CBB_Pulse\\0output_mosaic\\2018072305_2000m.tif\n",
      "Warning: CRS not defined for D:\\1Yang\\0Research\\0_2566_radar_mosaic\\00mos_chaophraya\\00run_batch_acchr_codes\\2output\\0Hourly\\0Sontihn_RF\\0CBB_Pulse\\0output_mosaic\\2018072305_2000m.tif. Using WGS84 as default.\n",
      "Features shape: (250000, 3)\n",
      "NaN values before imputation: 114315\n",
      "NaN values after imputation: 114315\n",
      "Original data - Mean: 0.15, Max: 57.98\n",
      "Corrected data - Mean: 0.48, Max: 49.43\n"
     ]
    },
    {
     "name": "stderr",
     "output_type": "stream",
     "text": [
      " 79%|███████████████████████████████████████████████████████████████▎                | 186/235 [14:06<03:56,  4.83s/it]C:\\Users\\Admin\\anaconda3\\envs\\mossf\\lib\\site-packages\\sklearn\\base.py:493: FutureWarning: The feature names should match those that were passed during fit. Starting version 1.2, an error will be raised.\n",
      "Feature names unseen at fit time:\n",
      "- rainfall\n",
      "Feature names seen at fit time, yet now missing:\n",
      "- radar_rainfall\n",
      "\n",
      "  warnings.warn(message, FutureWarning)\n"
     ]
    },
    {
     "name": "stdout",
     "output_type": "stream",
     "text": [
      "\n",
      "Processing file: D:\\1Yang\\0Research\\0_2566_radar_mosaic\\00mos_chaophraya\\00run_batch_acchr_codes\\2output\\0Hourly\\0Sontihn_RF\\0CBB_Pulse\\0output_mosaic\\2018072306_2000m.tif\n",
      "Warning: CRS not defined for D:\\1Yang\\0Research\\0_2566_radar_mosaic\\00mos_chaophraya\\00run_batch_acchr_codes\\2output\\0Hourly\\0Sontihn_RF\\0CBB_Pulse\\0output_mosaic\\2018072306_2000m.tif. Using WGS84 as default.\n",
      "Features shape: (250000, 3)\n",
      "NaN values before imputation: 114306\n",
      "NaN values after imputation: 114306\n",
      "Original data - Mean: 0.14, Max: 48.83\n",
      "Corrected data - Mean: 0.48, Max: 49.43\n"
     ]
    },
    {
     "name": "stderr",
     "output_type": "stream",
     "text": [
      " 80%|███████████████████████████████████████████████████████████████▋                | 187/235 [14:10<03:46,  4.73s/it]C:\\Users\\Admin\\anaconda3\\envs\\mossf\\lib\\site-packages\\sklearn\\base.py:493: FutureWarning: The feature names should match those that were passed during fit. Starting version 1.2, an error will be raised.\n",
      "Feature names unseen at fit time:\n",
      "- rainfall\n",
      "Feature names seen at fit time, yet now missing:\n",
      "- radar_rainfall\n",
      "\n",
      "  warnings.warn(message, FutureWarning)\n"
     ]
    },
    {
     "name": "stdout",
     "output_type": "stream",
     "text": [
      "\n",
      "Processing file: D:\\1Yang\\0Research\\0_2566_radar_mosaic\\00mos_chaophraya\\00run_batch_acchr_codes\\2output\\0Hourly\\0Sontihn_RF\\0CBB_Pulse\\0output_mosaic\\2018072307_2000m.tif\n",
      "Warning: CRS not defined for D:\\1Yang\\0Research\\0_2566_radar_mosaic\\00mos_chaophraya\\00run_batch_acchr_codes\\2output\\0Hourly\\0Sontihn_RF\\0CBB_Pulse\\0output_mosaic\\2018072307_2000m.tif. Using WGS84 as default.\n",
      "Features shape: (250000, 3)\n",
      "NaN values before imputation: 114289\n",
      "NaN values after imputation: 114289\n",
      "Original data - Mean: 0.15, Max: 49.64\n",
      "Corrected data - Mean: 0.51, Max: 49.43\n"
     ]
    },
    {
     "name": "stderr",
     "output_type": "stream",
     "text": [
      " 80%|████████████████████████████████████████████████████████████████                | 188/235 [14:15<03:38,  4.65s/it]C:\\Users\\Admin\\anaconda3\\envs\\mossf\\lib\\site-packages\\sklearn\\base.py:493: FutureWarning: The feature names should match those that were passed during fit. Starting version 1.2, an error will be raised.\n",
      "Feature names unseen at fit time:\n",
      "- rainfall\n",
      "Feature names seen at fit time, yet now missing:\n",
      "- radar_rainfall\n",
      "\n",
      "  warnings.warn(message, FutureWarning)\n"
     ]
    },
    {
     "name": "stdout",
     "output_type": "stream",
     "text": [
      "\n",
      "Processing file: D:\\1Yang\\0Research\\0_2566_radar_mosaic\\00mos_chaophraya\\00run_batch_acchr_codes\\2output\\0Hourly\\0Sontihn_RF\\0CBB_Pulse\\0output_mosaic\\2018072308_2000m.tif\n",
      "Warning: CRS not defined for D:\\1Yang\\0Research\\0_2566_radar_mosaic\\00mos_chaophraya\\00run_batch_acchr_codes\\2output\\0Hourly\\0Sontihn_RF\\0CBB_Pulse\\0output_mosaic\\2018072308_2000m.tif. Using WGS84 as default.\n",
      "Features shape: (250000, 3)\n",
      "NaN values before imputation: 114333\n",
      "NaN values after imputation: 114333\n",
      "Original data - Mean: 0.12, Max: 47.28\n",
      "Corrected data - Mean: 0.46, Max: 49.43\n"
     ]
    },
    {
     "name": "stderr",
     "output_type": "stream",
     "text": [
      " 80%|████████████████████████████████████████████████████████████████▎               | 189/235 [14:19<03:32,  4.61s/it]C:\\Users\\Admin\\anaconda3\\envs\\mossf\\lib\\site-packages\\sklearn\\base.py:493: FutureWarning: The feature names should match those that were passed during fit. Starting version 1.2, an error will be raised.\n",
      "Feature names unseen at fit time:\n",
      "- rainfall\n",
      "Feature names seen at fit time, yet now missing:\n",
      "- radar_rainfall\n",
      "\n",
      "  warnings.warn(message, FutureWarning)\n"
     ]
    },
    {
     "name": "stdout",
     "output_type": "stream",
     "text": [
      "\n",
      "Processing file: D:\\1Yang\\0Research\\0_2566_radar_mosaic\\00mos_chaophraya\\00run_batch_acchr_codes\\2output\\0Hourly\\0Sontihn_RF\\0CBB_Pulse\\0output_mosaic\\2018072309_2000m.tif\n",
      "Warning: CRS not defined for D:\\1Yang\\0Research\\0_2566_radar_mosaic\\00mos_chaophraya\\00run_batch_acchr_codes\\2output\\0Hourly\\0Sontihn_RF\\0CBB_Pulse\\0output_mosaic\\2018072309_2000m.tif. Using WGS84 as default.\n",
      "Features shape: (250000, 3)\n",
      "NaN values before imputation: 114456\n",
      "NaN values after imputation: 114456\n",
      "Original data - Mean: 0.09, Max: 40.26\n",
      "Corrected data - Mean: 0.35, Max: 49.43\n"
     ]
    },
    {
     "name": "stderr",
     "output_type": "stream",
     "text": [
      " 81%|████████████████████████████████████████████████████████████████▋               | 190/235 [14:24<03:25,  4.58s/it]C:\\Users\\Admin\\anaconda3\\envs\\mossf\\lib\\site-packages\\sklearn\\base.py:493: FutureWarning: The feature names should match those that were passed during fit. Starting version 1.2, an error will be raised.\n",
      "Feature names unseen at fit time:\n",
      "- rainfall\n",
      "Feature names seen at fit time, yet now missing:\n",
      "- radar_rainfall\n",
      "\n",
      "  warnings.warn(message, FutureWarning)\n"
     ]
    },
    {
     "name": "stdout",
     "output_type": "stream",
     "text": [
      "\n",
      "Processing file: D:\\1Yang\\0Research\\0_2566_radar_mosaic\\00mos_chaophraya\\00run_batch_acchr_codes\\2output\\0Hourly\\0Sontihn_RF\\0CBB_Pulse\\0output_mosaic\\2018072310_2000m.tif\n",
      "Warning: CRS not defined for D:\\1Yang\\0Research\\0_2566_radar_mosaic\\00mos_chaophraya\\00run_batch_acchr_codes\\2output\\0Hourly\\0Sontihn_RF\\0CBB_Pulse\\0output_mosaic\\2018072310_2000m.tif. Using WGS84 as default.\n",
      "Features shape: (250000, 3)\n",
      "NaN values before imputation: 121993\n",
      "NaN values after imputation: 121993\n",
      "Original data - Mean: 0.02, Max: 16.23\n",
      "Corrected data - Mean: 0.11, Max: 49.43\n"
     ]
    },
    {
     "name": "stderr",
     "output_type": "stream",
     "text": [
      " 81%|█████████████████████████████████████████████████████████████████               | 191/235 [14:28<03:19,  4.54s/it]C:\\Users\\Admin\\anaconda3\\envs\\mossf\\lib\\site-packages\\sklearn\\base.py:493: FutureWarning: The feature names should match those that were passed during fit. Starting version 1.2, an error will be raised.\n",
      "Feature names unseen at fit time:\n",
      "- rainfall\n",
      "Feature names seen at fit time, yet now missing:\n",
      "- radar_rainfall\n",
      "\n",
      "  warnings.warn(message, FutureWarning)\n"
     ]
    },
    {
     "name": "stdout",
     "output_type": "stream",
     "text": [
      "\n",
      "Processing file: D:\\1Yang\\0Research\\0_2566_radar_mosaic\\00mos_chaophraya\\00run_batch_acchr_codes\\2output\\0Hourly\\0Sontihn_RF\\0CBB_Pulse\\0output_mosaic\\2018072311_2000m.tif\n",
      "Warning: CRS not defined for D:\\1Yang\\0Research\\0_2566_radar_mosaic\\00mos_chaophraya\\00run_batch_acchr_codes\\2output\\0Hourly\\0Sontihn_RF\\0CBB_Pulse\\0output_mosaic\\2018072311_2000m.tif. Using WGS84 as default.\n",
      "Features shape: (250000, 3)\n",
      "NaN values before imputation: 114332\n",
      "NaN values after imputation: 114332\n",
      "Original data - Mean: 0.04, Max: 38.71\n",
      "Corrected data - Mean: 0.25, Max: 49.43\n"
     ]
    },
    {
     "name": "stderr",
     "output_type": "stream",
     "text": [
      " 82%|█████████████████████████████████████████████████████████████████▎              | 192/235 [14:33<03:14,  4.52s/it]C:\\Users\\Admin\\anaconda3\\envs\\mossf\\lib\\site-packages\\sklearn\\base.py:493: FutureWarning: The feature names should match those that were passed during fit. Starting version 1.2, an error will be raised.\n",
      "Feature names unseen at fit time:\n",
      "- rainfall\n",
      "Feature names seen at fit time, yet now missing:\n",
      "- radar_rainfall\n",
      "\n",
      "  warnings.warn(message, FutureWarning)\n"
     ]
    },
    {
     "name": "stdout",
     "output_type": "stream",
     "text": [
      "\n",
      "Processing file: D:\\1Yang\\0Research\\0_2566_radar_mosaic\\00mos_chaophraya\\00run_batch_acchr_codes\\2output\\0Hourly\\0Sontihn_RF\\0CBB_Pulse\\0output_mosaic\\2018072312_2000m.tif\n",
      "Warning: CRS not defined for D:\\1Yang\\0Research\\0_2566_radar_mosaic\\00mos_chaophraya\\00run_batch_acchr_codes\\2output\\0Hourly\\0Sontihn_RF\\0CBB_Pulse\\0output_mosaic\\2018072312_2000m.tif. Using WGS84 as default.\n",
      "Features shape: (250000, 3)\n",
      "NaN values before imputation: 114331\n",
      "NaN values after imputation: 114331\n",
      "Original data - Mean: 0.04, Max: 22.43\n",
      "Corrected data - Mean: 0.29, Max: 49.43\n"
     ]
    },
    {
     "name": "stderr",
     "output_type": "stream",
     "text": [
      " 82%|█████████████████████████████████████████████████████████████████▋              | 193/235 [14:37<03:09,  4.51s/it]C:\\Users\\Admin\\anaconda3\\envs\\mossf\\lib\\site-packages\\sklearn\\base.py:493: FutureWarning: The feature names should match those that were passed during fit. Starting version 1.2, an error will be raised.\n",
      "Feature names unseen at fit time:\n",
      "- rainfall\n",
      "Feature names seen at fit time, yet now missing:\n",
      "- radar_rainfall\n",
      "\n",
      "  warnings.warn(message, FutureWarning)\n"
     ]
    },
    {
     "name": "stdout",
     "output_type": "stream",
     "text": [
      "\n",
      "Processing file: D:\\1Yang\\0Research\\0_2566_radar_mosaic\\00mos_chaophraya\\00run_batch_acchr_codes\\2output\\0Hourly\\0Sontihn_RF\\0CBB_Pulse\\0output_mosaic\\2018072313_2000m.tif\n",
      "Warning: CRS not defined for D:\\1Yang\\0Research\\0_2566_radar_mosaic\\00mos_chaophraya\\00run_batch_acchr_codes\\2output\\0Hourly\\0Sontihn_RF\\0CBB_Pulse\\0output_mosaic\\2018072313_2000m.tif. Using WGS84 as default.\n",
      "Features shape: (250000, 3)\n",
      "NaN values before imputation: 114394\n",
      "NaN values after imputation: 114394\n",
      "Original data - Mean: 0.04, Max: 33.54\n",
      "Corrected data - Mean: 0.30, Max: 49.43\n"
     ]
    },
    {
     "name": "stderr",
     "output_type": "stream",
     "text": [
      " 83%|██████████████████████████████████████████████████████████████████              | 194/235 [14:42<03:05,  4.51s/it]C:\\Users\\Admin\\anaconda3\\envs\\mossf\\lib\\site-packages\\sklearn\\base.py:493: FutureWarning: The feature names should match those that were passed during fit. Starting version 1.2, an error will be raised.\n",
      "Feature names unseen at fit time:\n",
      "- rainfall\n",
      "Feature names seen at fit time, yet now missing:\n",
      "- radar_rainfall\n",
      "\n",
      "  warnings.warn(message, FutureWarning)\n"
     ]
    },
    {
     "name": "stdout",
     "output_type": "stream",
     "text": [
      "\n",
      "Processing file: D:\\1Yang\\0Research\\0_2566_radar_mosaic\\00mos_chaophraya\\00run_batch_acchr_codes\\2output\\0Hourly\\0Sontihn_RF\\0CBB_Pulse\\0output_mosaic\\2018072314_2000m.tif\n",
      "Warning: CRS not defined for D:\\1Yang\\0Research\\0_2566_radar_mosaic\\00mos_chaophraya\\00run_batch_acchr_codes\\2output\\0Hourly\\0Sontihn_RF\\0CBB_Pulse\\0output_mosaic\\2018072314_2000m.tif. Using WGS84 as default.\n",
      "Features shape: (250000, 3)\n",
      "NaN values before imputation: 114456\n",
      "NaN values after imputation: 114456\n",
      "Original data - Mean: 0.09, Max: 71.27\n",
      "Corrected data - Mean: 0.42, Max: 49.43\n"
     ]
    },
    {
     "name": "stderr",
     "output_type": "stream",
     "text": [
      " 83%|██████████████████████████████████████████████████████████████████▍             | 195/235 [14:46<03:00,  4.50s/it]C:\\Users\\Admin\\anaconda3\\envs\\mossf\\lib\\site-packages\\sklearn\\base.py:493: FutureWarning: The feature names should match those that were passed during fit. Starting version 1.2, an error will be raised.\n",
      "Feature names unseen at fit time:\n",
      "- rainfall\n",
      "Feature names seen at fit time, yet now missing:\n",
      "- radar_rainfall\n",
      "\n",
      "  warnings.warn(message, FutureWarning)\n"
     ]
    },
    {
     "name": "stdout",
     "output_type": "stream",
     "text": [
      "\n",
      "Processing file: D:\\1Yang\\0Research\\0_2566_radar_mosaic\\00mos_chaophraya\\00run_batch_acchr_codes\\2output\\0Hourly\\0Sontihn_RF\\0CBB_Pulse\\0output_mosaic\\2018072315_2000m.tif\n",
      "Warning: CRS not defined for D:\\1Yang\\0Research\\0_2566_radar_mosaic\\00mos_chaophraya\\00run_batch_acchr_codes\\2output\\0Hourly\\0Sontihn_RF\\0CBB_Pulse\\0output_mosaic\\2018072315_2000m.tif. Using WGS84 as default.\n",
      "Features shape: (250000, 3)\n",
      "NaN values before imputation: 114330\n",
      "NaN values after imputation: 114330\n",
      "Original data - Mean: 0.10, Max: 97.81\n",
      "Corrected data - Mean: 0.44, Max: 49.43\n"
     ]
    },
    {
     "name": "stderr",
     "output_type": "stream",
     "text": [
      " 83%|██████████████████████████████████████████████████████████████████▋             | 196/235 [14:51<02:55,  4.50s/it]C:\\Users\\Admin\\anaconda3\\envs\\mossf\\lib\\site-packages\\sklearn\\base.py:493: FutureWarning: The feature names should match those that were passed during fit. Starting version 1.2, an error will be raised.\n",
      "Feature names unseen at fit time:\n",
      "- rainfall\n",
      "Feature names seen at fit time, yet now missing:\n",
      "- radar_rainfall\n",
      "\n",
      "  warnings.warn(message, FutureWarning)\n"
     ]
    },
    {
     "name": "stdout",
     "output_type": "stream",
     "text": [
      "\n",
      "Processing file: D:\\1Yang\\0Research\\0_2566_radar_mosaic\\00mos_chaophraya\\00run_batch_acchr_codes\\2output\\0Hourly\\0Sontihn_RF\\0CBB_Pulse\\0output_mosaic\\2018072316_2000m.tif\n",
      "Warning: CRS not defined for D:\\1Yang\\0Research\\0_2566_radar_mosaic\\00mos_chaophraya\\00run_batch_acchr_codes\\2output\\0Hourly\\0Sontihn_RF\\0CBB_Pulse\\0output_mosaic\\2018072316_2000m.tif. Using WGS84 as default.\n",
      "Features shape: (250000, 3)\n",
      "NaN values before imputation: 114519\n",
      "NaN values after imputation: 114519\n",
      "Original data - Mean: 0.12, Max: 165.21\n",
      "Corrected data - Mean: 0.33, Max: 49.43\n"
     ]
    },
    {
     "name": "stderr",
     "output_type": "stream",
     "text": [
      " 84%|███████████████████████████████████████████████████████████████████             | 197/235 [14:55<02:50,  4.50s/it]C:\\Users\\Admin\\anaconda3\\envs\\mossf\\lib\\site-packages\\sklearn\\base.py:493: FutureWarning: The feature names should match those that were passed during fit. Starting version 1.2, an error will be raised.\n",
      "Feature names unseen at fit time:\n",
      "- rainfall\n",
      "Feature names seen at fit time, yet now missing:\n",
      "- radar_rainfall\n",
      "\n",
      "  warnings.warn(message, FutureWarning)\n"
     ]
    },
    {
     "name": "stdout",
     "output_type": "stream",
     "text": [
      "\n",
      "Processing file: D:\\1Yang\\0Research\\0_2566_radar_mosaic\\00mos_chaophraya\\00run_batch_acchr_codes\\2output\\0Hourly\\0Sontihn_RF\\0CBB_Pulse\\0output_mosaic\\2018072317_2000m.tif\n",
      "Warning: CRS not defined for D:\\1Yang\\0Research\\0_2566_radar_mosaic\\00mos_chaophraya\\00run_batch_acchr_codes\\2output\\0Hourly\\0Sontihn_RF\\0CBB_Pulse\\0output_mosaic\\2018072317_2000m.tif. Using WGS84 as default.\n",
      "Features shape: (250000, 3)\n",
      "NaN values before imputation: 114476\n",
      "NaN values after imputation: 114476\n",
      "Original data - Mean: 0.09, Max: 99.38\n",
      "Corrected data - Mean: 0.38, Max: 49.43\n"
     ]
    },
    {
     "name": "stderr",
     "output_type": "stream",
     "text": [
      " 84%|███████████████████████████████████████████████████████████████████▍            | 198/235 [15:00<02:45,  4.49s/it]C:\\Users\\Admin\\anaconda3\\envs\\mossf\\lib\\site-packages\\sklearn\\base.py:493: FutureWarning: The feature names should match those that were passed during fit. Starting version 1.2, an error will be raised.\n",
      "Feature names unseen at fit time:\n",
      "- rainfall\n",
      "Feature names seen at fit time, yet now missing:\n",
      "- radar_rainfall\n",
      "\n",
      "  warnings.warn(message, FutureWarning)\n"
     ]
    },
    {
     "name": "stdout",
     "output_type": "stream",
     "text": [
      "\n",
      "Processing file: D:\\1Yang\\0Research\\0_2566_radar_mosaic\\00mos_chaophraya\\00run_batch_acchr_codes\\2output\\0Hourly\\0Sontihn_RF\\0CBB_Pulse\\0output_mosaic\\2018072318_2000m.tif\n",
      "Warning: CRS not defined for D:\\1Yang\\0Research\\0_2566_radar_mosaic\\00mos_chaophraya\\00run_batch_acchr_codes\\2output\\0Hourly\\0Sontihn_RF\\0CBB_Pulse\\0output_mosaic\\2018072318_2000m.tif. Using WGS84 as default.\n",
      "Features shape: (250000, 3)\n",
      "NaN values before imputation: 114267\n",
      "NaN values after imputation: 114267\n",
      "Original data - Mean: 0.09, Max: 121.57\n",
      "Corrected data - Mean: 0.37, Max: 49.43\n"
     ]
    },
    {
     "name": "stderr",
     "output_type": "stream",
     "text": [
      " 85%|███████████████████████████████████████████████████████████████████▋            | 199/235 [15:04<02:42,  4.51s/it]C:\\Users\\Admin\\anaconda3\\envs\\mossf\\lib\\site-packages\\sklearn\\base.py:493: FutureWarning: The feature names should match those that were passed during fit. Starting version 1.2, an error will be raised.\n",
      "Feature names unseen at fit time:\n",
      "- rainfall\n",
      "Feature names seen at fit time, yet now missing:\n",
      "- radar_rainfall\n",
      "\n",
      "  warnings.warn(message, FutureWarning)\n"
     ]
    },
    {
     "name": "stdout",
     "output_type": "stream",
     "text": [
      "\n",
      "Processing file: D:\\1Yang\\0Research\\0_2566_radar_mosaic\\00mos_chaophraya\\00run_batch_acchr_codes\\2output\\0Hourly\\0Sontihn_RF\\0CBB_Pulse\\0output_mosaic\\2018072319_2000m.tif\n",
      "Warning: CRS not defined for D:\\1Yang\\0Research\\0_2566_radar_mosaic\\00mos_chaophraya\\00run_batch_acchr_codes\\2output\\0Hourly\\0Sontihn_RF\\0CBB_Pulse\\0output_mosaic\\2018072319_2000m.tif. Using WGS84 as default.\n",
      "Features shape: (250000, 3)\n",
      "NaN values before imputation: 114329\n",
      "NaN values after imputation: 114329\n",
      "Original data - Mean: 0.10, Max: 107.46\n",
      "Corrected data - Mean: 0.38, Max: 49.43\n"
     ]
    },
    {
     "name": "stderr",
     "output_type": "stream",
     "text": [
      " 85%|████████████████████████████████████████████████████████████████████            | 200/235 [15:09<02:37,  4.51s/it]C:\\Users\\Admin\\anaconda3\\envs\\mossf\\lib\\site-packages\\sklearn\\base.py:493: FutureWarning: The feature names should match those that were passed during fit. Starting version 1.2, an error will be raised.\n",
      "Feature names unseen at fit time:\n",
      "- rainfall\n",
      "Feature names seen at fit time, yet now missing:\n",
      "- radar_rainfall\n",
      "\n",
      "  warnings.warn(message, FutureWarning)\n"
     ]
    },
    {
     "name": "stdout",
     "output_type": "stream",
     "text": [
      "\n",
      "Processing file: D:\\1Yang\\0Research\\0_2566_radar_mosaic\\00mos_chaophraya\\00run_batch_acchr_codes\\2output\\0Hourly\\0Sontihn_RF\\0CBB_Pulse\\0output_mosaic\\2018072320_2000m.tif\n",
      "Warning: CRS not defined for D:\\1Yang\\0Research\\0_2566_radar_mosaic\\00mos_chaophraya\\00run_batch_acchr_codes\\2output\\0Hourly\\0Sontihn_RF\\0CBB_Pulse\\0output_mosaic\\2018072320_2000m.tif. Using WGS84 as default.\n",
      "Features shape: (250000, 3)\n",
      "NaN values before imputation: 114316\n",
      "NaN values after imputation: 114316\n",
      "Original data - Mean: 0.12, Max: 57.82\n",
      "Corrected data - Mean: 0.47, Max: 49.43\n"
     ]
    },
    {
     "name": "stderr",
     "output_type": "stream",
     "text": [
      " 86%|████████████████████████████████████████████████████████████████████▍           | 201/235 [15:13<02:33,  4.50s/it]C:\\Users\\Admin\\anaconda3\\envs\\mossf\\lib\\site-packages\\sklearn\\base.py:493: FutureWarning: The feature names should match those that were passed during fit. Starting version 1.2, an error will be raised.\n",
      "Feature names unseen at fit time:\n",
      "- rainfall\n",
      "Feature names seen at fit time, yet now missing:\n",
      "- radar_rainfall\n",
      "\n",
      "  warnings.warn(message, FutureWarning)\n"
     ]
    },
    {
     "name": "stdout",
     "output_type": "stream",
     "text": [
      "\n",
      "Processing file: D:\\1Yang\\0Research\\0_2566_radar_mosaic\\00mos_chaophraya\\00run_batch_acchr_codes\\2output\\0Hourly\\0Sontihn_RF\\0CBB_Pulse\\0output_mosaic\\2018072321_2000m.tif\n",
      "Warning: CRS not defined for D:\\1Yang\\0Research\\0_2566_radar_mosaic\\00mos_chaophraya\\00run_batch_acchr_codes\\2output\\0Hourly\\0Sontihn_RF\\0CBB_Pulse\\0output_mosaic\\2018072321_2000m.tif. Using WGS84 as default.\n",
      "Features shape: (250000, 3)\n",
      "NaN values before imputation: 114321\n",
      "NaN values after imputation: 114321\n",
      "Original data - Mean: 0.16, Max: 39.36\n",
      "Corrected data - Mean: 0.65, Max: 49.43\n"
     ]
    },
    {
     "name": "stderr",
     "output_type": "stream",
     "text": [
      " 86%|████████████████████████████████████████████████████████████████████▊           | 202/235 [15:18<02:28,  4.50s/it]C:\\Users\\Admin\\anaconda3\\envs\\mossf\\lib\\site-packages\\sklearn\\base.py:493: FutureWarning: The feature names should match those that were passed during fit. Starting version 1.2, an error will be raised.\n",
      "Feature names unseen at fit time:\n",
      "- rainfall\n",
      "Feature names seen at fit time, yet now missing:\n",
      "- radar_rainfall\n",
      "\n",
      "  warnings.warn(message, FutureWarning)\n"
     ]
    },
    {
     "name": "stdout",
     "output_type": "stream",
     "text": [
      "\n",
      "Processing file: D:\\1Yang\\0Research\\0_2566_radar_mosaic\\00mos_chaophraya\\00run_batch_acchr_codes\\2output\\0Hourly\\0Sontihn_RF\\0CBB_Pulse\\0output_mosaic\\2018072322_2000m.tif\n",
      "Warning: CRS not defined for D:\\1Yang\\0Research\\0_2566_radar_mosaic\\00mos_chaophraya\\00run_batch_acchr_codes\\2output\\0Hourly\\0Sontihn_RF\\0CBB_Pulse\\0output_mosaic\\2018072322_2000m.tif. Using WGS84 as default.\n",
      "Features shape: (250000, 3)\n",
      "NaN values before imputation: 114333\n",
      "NaN values after imputation: 114333\n",
      "Original data - Mean: 0.23, Max: 40.22\n",
      "Corrected data - Mean: 0.91, Max: 49.43\n"
     ]
    },
    {
     "name": "stderr",
     "output_type": "stream",
     "text": [
      " 86%|█████████████████████████████████████████████████████████████████████           | 203/235 [15:22<02:24,  4.52s/it]C:\\Users\\Admin\\anaconda3\\envs\\mossf\\lib\\site-packages\\sklearn\\base.py:493: FutureWarning: The feature names should match those that were passed during fit. Starting version 1.2, an error will be raised.\n",
      "Feature names unseen at fit time:\n",
      "- rainfall\n",
      "Feature names seen at fit time, yet now missing:\n",
      "- radar_rainfall\n",
      "\n",
      "  warnings.warn(message, FutureWarning)\n"
     ]
    },
    {
     "name": "stdout",
     "output_type": "stream",
     "text": [
      "\n",
      "Processing file: D:\\1Yang\\0Research\\0_2566_radar_mosaic\\00mos_chaophraya\\00run_batch_acchr_codes\\2output\\0Hourly\\0Sontihn_RF\\0CBB_Pulse\\0output_mosaic\\2018072323_2000m.tif\n",
      "Warning: CRS not defined for D:\\1Yang\\0Research\\0_2566_radar_mosaic\\00mos_chaophraya\\00run_batch_acchr_codes\\2output\\0Hourly\\0Sontihn_RF\\0CBB_Pulse\\0output_mosaic\\2018072323_2000m.tif. Using WGS84 as default.\n",
      "Features shape: (250000, 3)\n",
      "NaN values before imputation: 114341\n",
      "NaN values after imputation: 114341\n",
      "Original data - Mean: 0.26, Max: 58.07\n",
      "Corrected data - Mean: 0.92, Max: 49.43\n"
     ]
    },
    {
     "name": "stderr",
     "output_type": "stream",
     "text": [
      " 87%|█████████████████████████████████████████████████████████████████████▍          | 204/235 [15:27<02:20,  4.52s/it]C:\\Users\\Admin\\anaconda3\\envs\\mossf\\lib\\site-packages\\sklearn\\base.py:493: FutureWarning: The feature names should match those that were passed during fit. Starting version 1.2, an error will be raised.\n",
      "Feature names unseen at fit time:\n",
      "- rainfall\n",
      "Feature names seen at fit time, yet now missing:\n",
      "- radar_rainfall\n",
      "\n",
      "  warnings.warn(message, FutureWarning)\n"
     ]
    },
    {
     "name": "stdout",
     "output_type": "stream",
     "text": [
      "\n",
      "Processing file: D:\\1Yang\\0Research\\0_2566_radar_mosaic\\00mos_chaophraya\\00run_batch_acchr_codes\\2output\\0Hourly\\0Sontihn_RF\\0CBB_Pulse\\0output_mosaic\\2018072400_2000m.tif\n",
      "Warning: CRS not defined for D:\\1Yang\\0Research\\0_2566_radar_mosaic\\00mos_chaophraya\\00run_batch_acchr_codes\\2output\\0Hourly\\0Sontihn_RF\\0CBB_Pulse\\0output_mosaic\\2018072400_2000m.tif. Using WGS84 as default.\n",
      "Features shape: (250000, 3)\n",
      "NaN values before imputation: 114300\n",
      "NaN values after imputation: 114300\n",
      "Original data - Mean: 0.27, Max: 57.57\n",
      "Corrected data - Mean: 0.90, Max: 49.43\n"
     ]
    },
    {
     "name": "stderr",
     "output_type": "stream",
     "text": [
      " 87%|█████████████████████████████████████████████████████████████████████▊          | 205/235 [15:31<02:15,  4.52s/it]C:\\Users\\Admin\\anaconda3\\envs\\mossf\\lib\\site-packages\\sklearn\\base.py:493: FutureWarning: The feature names should match those that were passed during fit. Starting version 1.2, an error will be raised.\n",
      "Feature names unseen at fit time:\n",
      "- rainfall\n",
      "Feature names seen at fit time, yet now missing:\n",
      "- radar_rainfall\n",
      "\n",
      "  warnings.warn(message, FutureWarning)\n"
     ]
    },
    {
     "name": "stdout",
     "output_type": "stream",
     "text": [
      "\n",
      "Processing file: D:\\1Yang\\0Research\\0_2566_radar_mosaic\\00mos_chaophraya\\00run_batch_acchr_codes\\2output\\0Hourly\\0Sontihn_RF\\0CBB_Pulse\\0output_mosaic\\2018072401_2000m.tif\n",
      "Warning: CRS not defined for D:\\1Yang\\0Research\\0_2566_radar_mosaic\\00mos_chaophraya\\00run_batch_acchr_codes\\2output\\0Hourly\\0Sontihn_RF\\0CBB_Pulse\\0output_mosaic\\2018072401_2000m.tif. Using WGS84 as default.\n",
      "Features shape: (250000, 3)\n",
      "NaN values before imputation: 114328\n",
      "NaN values after imputation: 114328\n",
      "Original data - Mean: 0.14, Max: 28.23\n",
      "Corrected data - Mean: 0.68, Max: 49.43\n"
     ]
    },
    {
     "name": "stderr",
     "output_type": "stream",
     "text": [
      " 88%|██████████████████████████████████████████████████████████████████████▏         | 206/235 [15:36<02:11,  4.52s/it]C:\\Users\\Admin\\anaconda3\\envs\\mossf\\lib\\site-packages\\sklearn\\base.py:493: FutureWarning: The feature names should match those that were passed during fit. Starting version 1.2, an error will be raised.\n",
      "Feature names unseen at fit time:\n",
      "- rainfall\n",
      "Feature names seen at fit time, yet now missing:\n",
      "- radar_rainfall\n",
      "\n",
      "  warnings.warn(message, FutureWarning)\n"
     ]
    },
    {
     "name": "stdout",
     "output_type": "stream",
     "text": [
      "\n",
      "Processing file: D:\\1Yang\\0Research\\0_2566_radar_mosaic\\00mos_chaophraya\\00run_batch_acchr_codes\\2output\\0Hourly\\0Sontihn_RF\\0CBB_Pulse\\0output_mosaic\\2018072402_2000m.tif\n",
      "Warning: CRS not defined for D:\\1Yang\\0Research\\0_2566_radar_mosaic\\00mos_chaophraya\\00run_batch_acchr_codes\\2output\\0Hourly\\0Sontihn_RF\\0CBB_Pulse\\0output_mosaic\\2018072402_2000m.tif. Using WGS84 as default.\n",
      "Features shape: (250000, 3)\n",
      "NaN values before imputation: 114353\n",
      "NaN values after imputation: 114353\n",
      "Original data - Mean: 0.07, Max: 27.19\n",
      "Corrected data - Mean: 0.42, Max: 49.43\n"
     ]
    },
    {
     "name": "stderr",
     "output_type": "stream",
     "text": [
      " 88%|██████████████████████████████████████████████████████████████████████▍         | 207/235 [15:40<02:06,  4.51s/it]C:\\Users\\Admin\\anaconda3\\envs\\mossf\\lib\\site-packages\\sklearn\\base.py:493: FutureWarning: The feature names should match those that were passed during fit. Starting version 1.2, an error will be raised.\n",
      "Feature names unseen at fit time:\n",
      "- rainfall\n",
      "Feature names seen at fit time, yet now missing:\n",
      "- radar_rainfall\n",
      "\n",
      "  warnings.warn(message, FutureWarning)\n"
     ]
    },
    {
     "name": "stdout",
     "output_type": "stream",
     "text": [
      "\n",
      "Processing file: D:\\1Yang\\0Research\\0_2566_radar_mosaic\\00mos_chaophraya\\00run_batch_acchr_codes\\2output\\0Hourly\\0Sontihn_RF\\0CBB_Pulse\\0output_mosaic\\2018072403_2000m.tif\n",
      "Warning: CRS not defined for D:\\1Yang\\0Research\\0_2566_radar_mosaic\\00mos_chaophraya\\00run_batch_acchr_codes\\2output\\0Hourly\\0Sontihn_RF\\0CBB_Pulse\\0output_mosaic\\2018072403_2000m.tif. Using WGS84 as default.\n",
      "Features shape: (250000, 3)\n",
      "NaN values before imputation: 114301\n",
      "NaN values after imputation: 114301\n",
      "Original data - Mean: 0.08, Max: 26.06\n",
      "Corrected data - Mean: 0.42, Max: 49.43\n"
     ]
    },
    {
     "name": "stderr",
     "output_type": "stream",
     "text": [
      " 89%|██████████████████████████████████████████████████████████████████████▊         | 208/235 [15:45<02:04,  4.61s/it]C:\\Users\\Admin\\anaconda3\\envs\\mossf\\lib\\site-packages\\sklearn\\base.py:493: FutureWarning: The feature names should match those that were passed during fit. Starting version 1.2, an error will be raised.\n",
      "Feature names unseen at fit time:\n",
      "- rainfall\n",
      "Feature names seen at fit time, yet now missing:\n",
      "- radar_rainfall\n",
      "\n",
      "  warnings.warn(message, FutureWarning)\n"
     ]
    },
    {
     "name": "stdout",
     "output_type": "stream",
     "text": [
      "\n",
      "Processing file: D:\\1Yang\\0Research\\0_2566_radar_mosaic\\00mos_chaophraya\\00run_batch_acchr_codes\\2output\\0Hourly\\0Sontihn_RF\\0CBB_Pulse\\0output_mosaic\\2018072404_2000m.tif\n",
      "Warning: CRS not defined for D:\\1Yang\\0Research\\0_2566_radar_mosaic\\00mos_chaophraya\\00run_batch_acchr_codes\\2output\\0Hourly\\0Sontihn_RF\\0CBB_Pulse\\0output_mosaic\\2018072404_2000m.tif. Using WGS84 as default.\n",
      "Features shape: (250000, 3)\n",
      "NaN values before imputation: 114350\n",
      "NaN values after imputation: 114350\n",
      "Original data - Mean: 0.06, Max: 24.03\n",
      "Corrected data - Mean: 0.35, Max: 49.43\n"
     ]
    },
    {
     "name": "stderr",
     "output_type": "stream",
     "text": [
      " 89%|███████████████████████████████████████████████████████████████████████▏        | 209/235 [15:50<01:59,  4.58s/it]C:\\Users\\Admin\\anaconda3\\envs\\mossf\\lib\\site-packages\\sklearn\\base.py:493: FutureWarning: The feature names should match those that were passed during fit. Starting version 1.2, an error will be raised.\n",
      "Feature names unseen at fit time:\n",
      "- rainfall\n",
      "Feature names seen at fit time, yet now missing:\n",
      "- radar_rainfall\n",
      "\n",
      "  warnings.warn(message, FutureWarning)\n"
     ]
    },
    {
     "name": "stdout",
     "output_type": "stream",
     "text": [
      "\n",
      "Processing file: D:\\1Yang\\0Research\\0_2566_radar_mosaic\\00mos_chaophraya\\00run_batch_acchr_codes\\2output\\0Hourly\\0Sontihn_RF\\0CBB_Pulse\\0output_mosaic\\2018072405_2000m.tif\n",
      "Warning: CRS not defined for D:\\1Yang\\0Research\\0_2566_radar_mosaic\\00mos_chaophraya\\00run_batch_acchr_codes\\2output\\0Hourly\\0Sontihn_RF\\0CBB_Pulse\\0output_mosaic\\2018072405_2000m.tif. Using WGS84 as default.\n",
      "Features shape: (250000, 3)\n",
      "NaN values before imputation: 114301\n",
      "NaN values after imputation: 114301\n",
      "Original data - Mean: 0.15, Max: 44.98\n",
      "Corrected data - Mean: 0.53, Max: 49.43\n"
     ]
    },
    {
     "name": "stderr",
     "output_type": "stream",
     "text": [
      " 89%|███████████████████████████████████████████████████████████████████████▍        | 210/235 [15:54<01:53,  4.56s/it]C:\\Users\\Admin\\anaconda3\\envs\\mossf\\lib\\site-packages\\sklearn\\base.py:493: FutureWarning: The feature names should match those that were passed during fit. Starting version 1.2, an error will be raised.\n",
      "Feature names unseen at fit time:\n",
      "- rainfall\n",
      "Feature names seen at fit time, yet now missing:\n",
      "- radar_rainfall\n",
      "\n",
      "  warnings.warn(message, FutureWarning)\n"
     ]
    },
    {
     "name": "stdout",
     "output_type": "stream",
     "text": [
      "\n",
      "Processing file: D:\\1Yang\\0Research\\0_2566_radar_mosaic\\00mos_chaophraya\\00run_batch_acchr_codes\\2output\\0Hourly\\0Sontihn_RF\\0CBB_Pulse\\0output_mosaic\\2018072406_2000m.tif\n",
      "Warning: CRS not defined for D:\\1Yang\\0Research\\0_2566_radar_mosaic\\00mos_chaophraya\\00run_batch_acchr_codes\\2output\\0Hourly\\0Sontihn_RF\\0CBB_Pulse\\0output_mosaic\\2018072406_2000m.tif. Using WGS84 as default.\n",
      "Features shape: (250000, 3)\n",
      "NaN values before imputation: 114302\n",
      "NaN values after imputation: 114302\n",
      "Original data - Mean: 0.29, Max: 58.78\n",
      "Corrected data - Mean: 0.73, Max: 49.43\n"
     ]
    },
    {
     "name": "stderr",
     "output_type": "stream",
     "text": [
      " 90%|███████████████████████████████████████████████████████████████████████▊        | 211/235 [15:59<01:49,  4.54s/it]C:\\Users\\Admin\\anaconda3\\envs\\mossf\\lib\\site-packages\\sklearn\\base.py:493: FutureWarning: The feature names should match those that were passed during fit. Starting version 1.2, an error will be raised.\n",
      "Feature names unseen at fit time:\n",
      "- rainfall\n",
      "Feature names seen at fit time, yet now missing:\n",
      "- radar_rainfall\n",
      "\n",
      "  warnings.warn(message, FutureWarning)\n"
     ]
    },
    {
     "name": "stdout",
     "output_type": "stream",
     "text": [
      "\n",
      "Processing file: D:\\1Yang\\0Research\\0_2566_radar_mosaic\\00mos_chaophraya\\00run_batch_acchr_codes\\2output\\0Hourly\\0Sontihn_RF\\0CBB_Pulse\\0output_mosaic\\2018072407_2000m.tif\n",
      "Warning: CRS not defined for D:\\1Yang\\0Research\\0_2566_radar_mosaic\\00mos_chaophraya\\00run_batch_acchr_codes\\2output\\0Hourly\\0Sontihn_RF\\0CBB_Pulse\\0output_mosaic\\2018072407_2000m.tif. Using WGS84 as default.\n",
      "Features shape: (250000, 3)\n",
      "NaN values before imputation: 114372\n",
      "NaN values after imputation: 114372\n",
      "Original data - Mean: 0.31, Max: 76.62\n",
      "Corrected data - Mean: 0.75, Max: 49.43\n"
     ]
    },
    {
     "name": "stderr",
     "output_type": "stream",
     "text": [
      " 90%|████████████████████████████████████████████████████████████████████████▏       | 212/235 [16:03<01:44,  4.54s/it]C:\\Users\\Admin\\anaconda3\\envs\\mossf\\lib\\site-packages\\sklearn\\base.py:493: FutureWarning: The feature names should match those that were passed during fit. Starting version 1.2, an error will be raised.\n",
      "Feature names unseen at fit time:\n",
      "- rainfall\n",
      "Feature names seen at fit time, yet now missing:\n",
      "- radar_rainfall\n",
      "\n",
      "  warnings.warn(message, FutureWarning)\n"
     ]
    },
    {
     "name": "stdout",
     "output_type": "stream",
     "text": [
      "\n",
      "Processing file: D:\\1Yang\\0Research\\0_2566_radar_mosaic\\00mos_chaophraya\\00run_batch_acchr_codes\\2output\\0Hourly\\0Sontihn_RF\\0CBB_Pulse\\0output_mosaic\\2018072408_2000m.tif\n",
      "Warning: CRS not defined for D:\\1Yang\\0Research\\0_2566_radar_mosaic\\00mos_chaophraya\\00run_batch_acchr_codes\\2output\\0Hourly\\0Sontihn_RF\\0CBB_Pulse\\0output_mosaic\\2018072408_2000m.tif. Using WGS84 as default.\n",
      "Features shape: (250000, 3)\n",
      "NaN values before imputation: 114325\n",
      "NaN values after imputation: 114325\n",
      "Original data - Mean: 0.38, Max: 94.13\n",
      "Corrected data - Mean: 0.74, Max: 49.43\n"
     ]
    },
    {
     "name": "stderr",
     "output_type": "stream",
     "text": [
      " 91%|████████████████████████████████████████████████████████████████████████▌       | 213/235 [16:08<01:39,  4.54s/it]C:\\Users\\Admin\\anaconda3\\envs\\mossf\\lib\\site-packages\\sklearn\\base.py:493: FutureWarning: The feature names should match those that were passed during fit. Starting version 1.2, an error will be raised.\n",
      "Feature names unseen at fit time:\n",
      "- rainfall\n",
      "Feature names seen at fit time, yet now missing:\n",
      "- radar_rainfall\n",
      "\n",
      "  warnings.warn(message, FutureWarning)\n"
     ]
    },
    {
     "name": "stdout",
     "output_type": "stream",
     "text": [
      "\n",
      "Processing file: D:\\1Yang\\0Research\\0_2566_radar_mosaic\\00mos_chaophraya\\00run_batch_acchr_codes\\2output\\0Hourly\\0Sontihn_RF\\0CBB_Pulse\\0output_mosaic\\2018072409_2000m.tif\n",
      "Warning: CRS not defined for D:\\1Yang\\0Research\\0_2566_radar_mosaic\\00mos_chaophraya\\00run_batch_acchr_codes\\2output\\0Hourly\\0Sontihn_RF\\0CBB_Pulse\\0output_mosaic\\2018072409_2000m.tif. Using WGS84 as default.\n",
      "Features shape: (250000, 3)\n",
      "NaN values before imputation: 114303\n",
      "NaN values after imputation: 114303\n",
      "Original data - Mean: 0.28, Max: 76.23\n",
      "Corrected data - Mean: 0.60, Max: 49.43\n"
     ]
    },
    {
     "name": "stderr",
     "output_type": "stream",
     "text": [
      " 91%|████████████████████████████████████████████████████████████████████████▊       | 214/235 [16:12<01:35,  4.53s/it]C:\\Users\\Admin\\anaconda3\\envs\\mossf\\lib\\site-packages\\sklearn\\base.py:493: FutureWarning: The feature names should match those that were passed during fit. Starting version 1.2, an error will be raised.\n",
      "Feature names unseen at fit time:\n",
      "- rainfall\n",
      "Feature names seen at fit time, yet now missing:\n",
      "- radar_rainfall\n",
      "\n",
      "  warnings.warn(message, FutureWarning)\n"
     ]
    },
    {
     "name": "stdout",
     "output_type": "stream",
     "text": [
      "\n",
      "Processing file: D:\\1Yang\\0Research\\0_2566_radar_mosaic\\00mos_chaophraya\\00run_batch_acchr_codes\\2output\\0Hourly\\0Sontihn_RF\\0CBB_Pulse\\0output_mosaic\\2018072410_2000m.tif\n",
      "Warning: CRS not defined for D:\\1Yang\\0Research\\0_2566_radar_mosaic\\00mos_chaophraya\\00run_batch_acchr_codes\\2output\\0Hourly\\0Sontihn_RF\\0CBB_Pulse\\0output_mosaic\\2018072410_2000m.tif. Using WGS84 as default.\n",
      "Features shape: (250000, 3)\n",
      "NaN values before imputation: 114316\n",
      "NaN values after imputation: 114316\n",
      "Original data - Mean: 0.19, Max: 68.53\n",
      "Corrected data - Mean: 0.50, Max: 49.43\n"
     ]
    },
    {
     "name": "stderr",
     "output_type": "stream",
     "text": [
      " 91%|█████████████████████████████████████████████████████████████████████████▏      | 215/235 [16:17<01:30,  4.53s/it]C:\\Users\\Admin\\anaconda3\\envs\\mossf\\lib\\site-packages\\sklearn\\base.py:493: FutureWarning: The feature names should match those that were passed during fit. Starting version 1.2, an error will be raised.\n",
      "Feature names unseen at fit time:\n",
      "- rainfall\n",
      "Feature names seen at fit time, yet now missing:\n",
      "- radar_rainfall\n",
      "\n",
      "  warnings.warn(message, FutureWarning)\n"
     ]
    },
    {
     "name": "stdout",
     "output_type": "stream",
     "text": [
      "\n",
      "Processing file: D:\\1Yang\\0Research\\0_2566_radar_mosaic\\00mos_chaophraya\\00run_batch_acchr_codes\\2output\\0Hourly\\0Sontihn_RF\\0CBB_Pulse\\0output_mosaic\\2018072411_2000m.tif\n",
      "Warning: CRS not defined for D:\\1Yang\\0Research\\0_2566_radar_mosaic\\00mos_chaophraya\\00run_batch_acchr_codes\\2output\\0Hourly\\0Sontihn_RF\\0CBB_Pulse\\0output_mosaic\\2018072411_2000m.tif. Using WGS84 as default.\n",
      "Features shape: (250000, 3)\n",
      "NaN values before imputation: 114292\n",
      "NaN values after imputation: 114292\n",
      "Original data - Mean: 0.09, Max: 25.29\n",
      "Corrected data - Mean: 0.40, Max: 49.43\n"
     ]
    },
    {
     "name": "stderr",
     "output_type": "stream",
     "text": [
      " 92%|█████████████████████████████████████████████████████████████████████████▌      | 216/235 [16:22<01:29,  4.71s/it]C:\\Users\\Admin\\anaconda3\\envs\\mossf\\lib\\site-packages\\sklearn\\base.py:493: FutureWarning: The feature names should match those that were passed during fit. Starting version 1.2, an error will be raised.\n",
      "Feature names unseen at fit time:\n",
      "- rainfall\n",
      "Feature names seen at fit time, yet now missing:\n",
      "- radar_rainfall\n",
      "\n",
      "  warnings.warn(message, FutureWarning)\n"
     ]
    },
    {
     "name": "stdout",
     "output_type": "stream",
     "text": [
      "\n",
      "Processing file: D:\\1Yang\\0Research\\0_2566_radar_mosaic\\00mos_chaophraya\\00run_batch_acchr_codes\\2output\\0Hourly\\0Sontihn_RF\\0CBB_Pulse\\0output_mosaic\\2018072412_2000m.tif\n",
      "Warning: CRS not defined for D:\\1Yang\\0Research\\0_2566_radar_mosaic\\00mos_chaophraya\\00run_batch_acchr_codes\\2output\\0Hourly\\0Sontihn_RF\\0CBB_Pulse\\0output_mosaic\\2018072412_2000m.tif. Using WGS84 as default.\n",
      "Features shape: (250000, 3)\n",
      "NaN values before imputation: 114321\n",
      "NaN values after imputation: 114321\n",
      "Original data - Mean: 0.03, Max: 11.14\n",
      "Corrected data - Mean: 0.16, Max: 45.30\n"
     ]
    },
    {
     "name": "stderr",
     "output_type": "stream",
     "text": [
      " 92%|█████████████████████████████████████████████████████████████████████████▊      | 217/235 [16:27<01:24,  4.71s/it]C:\\Users\\Admin\\anaconda3\\envs\\mossf\\lib\\site-packages\\sklearn\\base.py:493: FutureWarning: The feature names should match those that were passed during fit. Starting version 1.2, an error will be raised.\n",
      "Feature names unseen at fit time:\n",
      "- rainfall\n",
      "Feature names seen at fit time, yet now missing:\n",
      "- radar_rainfall\n",
      "\n",
      "  warnings.warn(message, FutureWarning)\n"
     ]
    },
    {
     "name": "stdout",
     "output_type": "stream",
     "text": [
      "\n",
      "Processing file: D:\\1Yang\\0Research\\0_2566_radar_mosaic\\00mos_chaophraya\\00run_batch_acchr_codes\\2output\\0Hourly\\0Sontihn_RF\\0CBB_Pulse\\0output_mosaic\\2018072413_2000m.tif\n",
      "Warning: CRS not defined for D:\\1Yang\\0Research\\0_2566_radar_mosaic\\00mos_chaophraya\\00run_batch_acchr_codes\\2output\\0Hourly\\0Sontihn_RF\\0CBB_Pulse\\0output_mosaic\\2018072413_2000m.tif. Using WGS84 as default.\n",
      "Features shape: (250000, 3)\n",
      "NaN values before imputation: 114354\n",
      "NaN values after imputation: 114354\n",
      "Original data - Mean: 0.02, Max: 13.60\n",
      "Corrected data - Mean: 0.14, Max: 49.43\n"
     ]
    },
    {
     "name": "stderr",
     "output_type": "stream",
     "text": [
      " 93%|██████████████████████████████████████████████████████████████████████████▏     | 218/235 [16:31<01:18,  4.65s/it]C:\\Users\\Admin\\anaconda3\\envs\\mossf\\lib\\site-packages\\sklearn\\base.py:493: FutureWarning: The feature names should match those that were passed during fit. Starting version 1.2, an error will be raised.\n",
      "Feature names unseen at fit time:\n",
      "- rainfall\n",
      "Feature names seen at fit time, yet now missing:\n",
      "- radar_rainfall\n",
      "\n",
      "  warnings.warn(message, FutureWarning)\n"
     ]
    },
    {
     "name": "stdout",
     "output_type": "stream",
     "text": [
      "\n",
      "Processing file: D:\\1Yang\\0Research\\0_2566_radar_mosaic\\00mos_chaophraya\\00run_batch_acchr_codes\\2output\\0Hourly\\0Sontihn_RF\\0CBB_Pulse\\0output_mosaic\\2018072414_2000m.tif\n",
      "Warning: CRS not defined for D:\\1Yang\\0Research\\0_2566_radar_mosaic\\00mos_chaophraya\\00run_batch_acchr_codes\\2output\\0Hourly\\0Sontihn_RF\\0CBB_Pulse\\0output_mosaic\\2018072414_2000m.tif. Using WGS84 as default.\n",
      "Features shape: (250000, 3)\n",
      "NaN values before imputation: 114304\n",
      "NaN values after imputation: 114304\n",
      "Original data - Mean: 0.01, Max: 19.87\n",
      "Corrected data - Mean: 0.13, Max: 49.43\n"
     ]
    },
    {
     "name": "stderr",
     "output_type": "stream",
     "text": [
      " 93%|██████████████████████████████████████████████████████████████████████████▌     | 219/235 [16:36<01:13,  4.60s/it]C:\\Users\\Admin\\anaconda3\\envs\\mossf\\lib\\site-packages\\sklearn\\base.py:493: FutureWarning: The feature names should match those that were passed during fit. Starting version 1.2, an error will be raised.\n",
      "Feature names unseen at fit time:\n",
      "- rainfall\n",
      "Feature names seen at fit time, yet now missing:\n",
      "- radar_rainfall\n",
      "\n",
      "  warnings.warn(message, FutureWarning)\n"
     ]
    },
    {
     "name": "stdout",
     "output_type": "stream",
     "text": [
      "\n",
      "Processing file: D:\\1Yang\\0Research\\0_2566_radar_mosaic\\00mos_chaophraya\\00run_batch_acchr_codes\\2output\\0Hourly\\0Sontihn_RF\\0CBB_Pulse\\0output_mosaic\\2018072415_2000m.tif\n",
      "Warning: CRS not defined for D:\\1Yang\\0Research\\0_2566_radar_mosaic\\00mos_chaophraya\\00run_batch_acchr_codes\\2output\\0Hourly\\0Sontihn_RF\\0CBB_Pulse\\0output_mosaic\\2018072415_2000m.tif. Using WGS84 as default.\n",
      "Features shape: (250000, 3)\n",
      "NaN values before imputation: 114323\n",
      "NaN values after imputation: 114323\n",
      "Original data - Mean: 0.02, Max: 28.74\n",
      "Corrected data - Mean: 0.20, Max: 49.43\n"
     ]
    },
    {
     "name": "stderr",
     "output_type": "stream",
     "text": [
      " 94%|██████████████████████████████████████████████████████████████████████████▉     | 220/235 [16:40<01:08,  4.57s/it]C:\\Users\\Admin\\anaconda3\\envs\\mossf\\lib\\site-packages\\sklearn\\base.py:493: FutureWarning: The feature names should match those that were passed during fit. Starting version 1.2, an error will be raised.\n",
      "Feature names unseen at fit time:\n",
      "- rainfall\n",
      "Feature names seen at fit time, yet now missing:\n",
      "- radar_rainfall\n",
      "\n",
      "  warnings.warn(message, FutureWarning)\n"
     ]
    },
    {
     "name": "stdout",
     "output_type": "stream",
     "text": [
      "\n",
      "Processing file: D:\\1Yang\\0Research\\0_2566_radar_mosaic\\00mos_chaophraya\\00run_batch_acchr_codes\\2output\\0Hourly\\0Sontihn_RF\\0CBB_Pulse\\0output_mosaic\\2018072416_2000m.tif\n",
      "Warning: CRS not defined for D:\\1Yang\\0Research\\0_2566_radar_mosaic\\00mos_chaophraya\\00run_batch_acchr_codes\\2output\\0Hourly\\0Sontihn_RF\\0CBB_Pulse\\0output_mosaic\\2018072416_2000m.tif. Using WGS84 as default.\n",
      "Features shape: (250000, 3)\n",
      "NaN values before imputation: 114343\n",
      "NaN values after imputation: 114343\n",
      "Original data - Mean: 0.04, Max: 43.40\n",
      "Corrected data - Mean: 0.27, Max: 49.43\n"
     ]
    },
    {
     "name": "stderr",
     "output_type": "stream",
     "text": [
      " 94%|███████████████████████████████████████████████████████████████████████████▏    | 221/235 [16:45<01:03,  4.55s/it]C:\\Users\\Admin\\anaconda3\\envs\\mossf\\lib\\site-packages\\sklearn\\base.py:493: FutureWarning: The feature names should match those that were passed during fit. Starting version 1.2, an error will be raised.\n",
      "Feature names unseen at fit time:\n",
      "- rainfall\n",
      "Feature names seen at fit time, yet now missing:\n",
      "- radar_rainfall\n",
      "\n",
      "  warnings.warn(message, FutureWarning)\n"
     ]
    },
    {
     "name": "stdout",
     "output_type": "stream",
     "text": [
      "\n",
      "Processing file: D:\\1Yang\\0Research\\0_2566_radar_mosaic\\00mos_chaophraya\\00run_batch_acchr_codes\\2output\\0Hourly\\0Sontihn_RF\\0CBB_Pulse\\0output_mosaic\\2018072417_2000m.tif\n",
      "Warning: CRS not defined for D:\\1Yang\\0Research\\0_2566_radar_mosaic\\00mos_chaophraya\\00run_batch_acchr_codes\\2output\\0Hourly\\0Sontihn_RF\\0CBB_Pulse\\0output_mosaic\\2018072417_2000m.tif. Using WGS84 as default.\n",
      "Features shape: (250000, 3)\n",
      "NaN values before imputation: 114407\n",
      "NaN values after imputation: 114407\n",
      "Original data - Mean: 0.03, Max: 31.99\n",
      "Corrected data - Mean: 0.26, Max: 49.43\n"
     ]
    },
    {
     "name": "stderr",
     "output_type": "stream",
     "text": [
      " 94%|███████████████████████████████████████████████████████████████████████████▌    | 222/235 [16:49<00:58,  4.53s/it]C:\\Users\\Admin\\anaconda3\\envs\\mossf\\lib\\site-packages\\sklearn\\base.py:493: FutureWarning: The feature names should match those that were passed during fit. Starting version 1.2, an error will be raised.\n",
      "Feature names unseen at fit time:\n",
      "- rainfall\n",
      "Feature names seen at fit time, yet now missing:\n",
      "- radar_rainfall\n",
      "\n",
      "  warnings.warn(message, FutureWarning)\n"
     ]
    },
    {
     "name": "stdout",
     "output_type": "stream",
     "text": [
      "\n",
      "Processing file: D:\\1Yang\\0Research\\0_2566_radar_mosaic\\00mos_chaophraya\\00run_batch_acchr_codes\\2output\\0Hourly\\0Sontihn_RF\\0CBB_Pulse\\0output_mosaic\\2018072418_2000m.tif\n",
      "Warning: CRS not defined for D:\\1Yang\\0Research\\0_2566_radar_mosaic\\00mos_chaophraya\\00run_batch_acchr_codes\\2output\\0Hourly\\0Sontihn_RF\\0CBB_Pulse\\0output_mosaic\\2018072418_2000m.tif. Using WGS84 as default.\n",
      "Features shape: (250000, 3)\n",
      "NaN values before imputation: 114330\n",
      "NaN values after imputation: 114330\n",
      "Original data - Mean: 0.02, Max: 14.59\n",
      "Corrected data - Mean: 0.27, Max: 49.43\n"
     ]
    },
    {
     "name": "stderr",
     "output_type": "stream",
     "text": [
      " 95%|███████████████████████████████████████████████████████████████████████████▉    | 223/235 [16:54<00:54,  4.53s/it]C:\\Users\\Admin\\anaconda3\\envs\\mossf\\lib\\site-packages\\sklearn\\base.py:493: FutureWarning: The feature names should match those that were passed during fit. Starting version 1.2, an error will be raised.\n",
      "Feature names unseen at fit time:\n",
      "- rainfall\n",
      "Feature names seen at fit time, yet now missing:\n",
      "- radar_rainfall\n",
      "\n",
      "  warnings.warn(message, FutureWarning)\n"
     ]
    },
    {
     "name": "stdout",
     "output_type": "stream",
     "text": [
      "\n",
      "Processing file: D:\\1Yang\\0Research\\0_2566_radar_mosaic\\00mos_chaophraya\\00run_batch_acchr_codes\\2output\\0Hourly\\0Sontihn_RF\\0CBB_Pulse\\0output_mosaic\\2018072419_2000m.tif\n",
      "Warning: CRS not defined for D:\\1Yang\\0Research\\0_2566_radar_mosaic\\00mos_chaophraya\\00run_batch_acchr_codes\\2output\\0Hourly\\0Sontihn_RF\\0CBB_Pulse\\0output_mosaic\\2018072419_2000m.tif. Using WGS84 as default.\n",
      "Features shape: (250000, 3)\n",
      "NaN values before imputation: 114356\n",
      "NaN values after imputation: 114356\n",
      "Original data - Mean: 0.02, Max: 10.36\n",
      "Corrected data - Mean: 0.26, Max: 33.96\n"
     ]
    },
    {
     "name": "stderr",
     "output_type": "stream",
     "text": [
      " 95%|████████████████████████████████████████████████████████████████████████████▎   | 224/235 [17:04<01:09,  6.34s/it]C:\\Users\\Admin\\anaconda3\\envs\\mossf\\lib\\site-packages\\sklearn\\base.py:493: FutureWarning: The feature names should match those that were passed during fit. Starting version 1.2, an error will be raised.\n",
      "Feature names unseen at fit time:\n",
      "- rainfall\n",
      "Feature names seen at fit time, yet now missing:\n",
      "- radar_rainfall\n",
      "\n",
      "  warnings.warn(message, FutureWarning)\n"
     ]
    },
    {
     "name": "stdout",
     "output_type": "stream",
     "text": [
      "\n",
      "Processing file: D:\\1Yang\\0Research\\0_2566_radar_mosaic\\00mos_chaophraya\\00run_batch_acchr_codes\\2output\\0Hourly\\0Sontihn_RF\\0CBB_Pulse\\0output_mosaic\\2018072420_2000m.tif\n",
      "Warning: CRS not defined for D:\\1Yang\\0Research\\0_2566_radar_mosaic\\00mos_chaophraya\\00run_batch_acchr_codes\\2output\\0Hourly\\0Sontihn_RF\\0CBB_Pulse\\0output_mosaic\\2018072420_2000m.tif. Using WGS84 as default.\n",
      "Features shape: (250000, 3)\n",
      "NaN values before imputation: 114275\n",
      "NaN values after imputation: 114275\n",
      "Original data - Mean: 0.02, Max: 21.43\n",
      "Corrected data - Mean: 0.30, Max: 49.43\n"
     ]
    },
    {
     "name": "stderr",
     "output_type": "stream",
     "text": [
      " 96%|████████████████████████████████████████████████████████████████████████████▌   | 225/235 [17:09<00:57,  5.78s/it]C:\\Users\\Admin\\anaconda3\\envs\\mossf\\lib\\site-packages\\sklearn\\base.py:493: FutureWarning: The feature names should match those that were passed during fit. Starting version 1.2, an error will be raised.\n",
      "Feature names unseen at fit time:\n",
      "- rainfall\n",
      "Feature names seen at fit time, yet now missing:\n",
      "- radar_rainfall\n",
      "\n",
      "  warnings.warn(message, FutureWarning)\n"
     ]
    },
    {
     "name": "stdout",
     "output_type": "stream",
     "text": [
      "\n",
      "Processing file: D:\\1Yang\\0Research\\0_2566_radar_mosaic\\00mos_chaophraya\\00run_batch_acchr_codes\\2output\\0Hourly\\0Sontihn_RF\\0CBB_Pulse\\0output_mosaic\\2018072421_2000m.tif\n",
      "Warning: CRS not defined for D:\\1Yang\\0Research\\0_2566_radar_mosaic\\00mos_chaophraya\\00run_batch_acchr_codes\\2output\\0Hourly\\0Sontihn_RF\\0CBB_Pulse\\0output_mosaic\\2018072421_2000m.tif. Using WGS84 as default.\n",
      "Features shape: (250000, 3)\n",
      "NaN values before imputation: 114349\n",
      "NaN values after imputation: 114349\n",
      "Original data - Mean: 0.03, Max: 13.66\n",
      "Corrected data - Mean: 0.29, Max: 49.43\n"
     ]
    },
    {
     "name": "stderr",
     "output_type": "stream",
     "text": [
      " 96%|████████████████████████████████████████████████████████████████████████████▉   | 226/235 [17:13<00:48,  5.37s/it]C:\\Users\\Admin\\anaconda3\\envs\\mossf\\lib\\site-packages\\sklearn\\base.py:493: FutureWarning: The feature names should match those that were passed during fit. Starting version 1.2, an error will be raised.\n",
      "Feature names unseen at fit time:\n",
      "- rainfall\n",
      "Feature names seen at fit time, yet now missing:\n",
      "- radar_rainfall\n",
      "\n",
      "  warnings.warn(message, FutureWarning)\n"
     ]
    },
    {
     "name": "stdout",
     "output_type": "stream",
     "text": [
      "\n",
      "Processing file: D:\\1Yang\\0Research\\0_2566_radar_mosaic\\00mos_chaophraya\\00run_batch_acchr_codes\\2output\\0Hourly\\0Sontihn_RF\\0CBB_Pulse\\0output_mosaic\\2018072422_2000m.tif\n",
      "Warning: CRS not defined for D:\\1Yang\\0Research\\0_2566_radar_mosaic\\00mos_chaophraya\\00run_batch_acchr_codes\\2output\\0Hourly\\0Sontihn_RF\\0CBB_Pulse\\0output_mosaic\\2018072422_2000m.tif. Using WGS84 as default.\n",
      "Features shape: (250000, 3)\n",
      "NaN values before imputation: 114323\n",
      "NaN values after imputation: 114323\n",
      "Original data - Mean: 0.03, Max: 14.11\n",
      "Corrected data - Mean: 0.37, Max: 49.43\n"
     ]
    },
    {
     "name": "stderr",
     "output_type": "stream",
     "text": [
      " 97%|█████████████████████████████████████████████████████████████████████████████▎  | 227/235 [17:18<00:40,  5.09s/it]C:\\Users\\Admin\\anaconda3\\envs\\mossf\\lib\\site-packages\\sklearn\\base.py:493: FutureWarning: The feature names should match those that were passed during fit. Starting version 1.2, an error will be raised.\n",
      "Feature names unseen at fit time:\n",
      "- rainfall\n",
      "Feature names seen at fit time, yet now missing:\n",
      "- radar_rainfall\n",
      "\n",
      "  warnings.warn(message, FutureWarning)\n"
     ]
    },
    {
     "name": "stdout",
     "output_type": "stream",
     "text": [
      "\n",
      "Processing file: D:\\1Yang\\0Research\\0_2566_radar_mosaic\\00mos_chaophraya\\00run_batch_acchr_codes\\2output\\0Hourly\\0Sontihn_RF\\0CBB_Pulse\\0output_mosaic\\2018072423_2000m.tif\n",
      "Warning: CRS not defined for D:\\1Yang\\0Research\\0_2566_radar_mosaic\\00mos_chaophraya\\00run_batch_acchr_codes\\2output\\0Hourly\\0Sontihn_RF\\0CBB_Pulse\\0output_mosaic\\2018072423_2000m.tif. Using WGS84 as default.\n",
      "Features shape: (250000, 3)\n",
      "NaN values before imputation: 114297\n",
      "NaN values after imputation: 114297\n",
      "Original data - Mean: 0.05, Max: 15.05\n",
      "Corrected data - Mean: 0.55, Max: 49.43\n"
     ]
    },
    {
     "name": "stderr",
     "output_type": "stream",
     "text": [
      " 97%|█████████████████████████████████████████████████████████████████████████████▌  | 228/235 [17:22<00:34,  4.90s/it]C:\\Users\\Admin\\anaconda3\\envs\\mossf\\lib\\site-packages\\sklearn\\base.py:493: FutureWarning: The feature names should match those that were passed during fit. Starting version 1.2, an error will be raised.\n",
      "Feature names unseen at fit time:\n",
      "- rainfall\n",
      "Feature names seen at fit time, yet now missing:\n",
      "- radar_rainfall\n",
      "\n",
      "  warnings.warn(message, FutureWarning)\n"
     ]
    },
    {
     "name": "stdout",
     "output_type": "stream",
     "text": [
      "\n",
      "Processing file: D:\\1Yang\\0Research\\0_2566_radar_mosaic\\00mos_chaophraya\\00run_batch_acchr_codes\\2output\\0Hourly\\0Sontihn_RF\\0CBB_Pulse\\0output_mosaic\\2018072500_2000m.tif\n",
      "Warning: CRS not defined for D:\\1Yang\\0Research\\0_2566_radar_mosaic\\00mos_chaophraya\\00run_batch_acchr_codes\\2output\\0Hourly\\0Sontihn_RF\\0CBB_Pulse\\0output_mosaic\\2018072500_2000m.tif. Using WGS84 as default.\n",
      "Features shape: (250000, 3)\n",
      "NaN values before imputation: 114388\n",
      "NaN values after imputation: 114388\n",
      "Original data - Mean: 0.05, Max: 28.89\n",
      "Corrected data - Mean: 0.69, Max: 49.43\n"
     ]
    },
    {
     "name": "stderr",
     "output_type": "stream",
     "text": [
      " 97%|█████████████████████████████████████████████████████████████████████████████▉  | 229/235 [17:27<00:28,  4.76s/it]C:\\Users\\Admin\\anaconda3\\envs\\mossf\\lib\\site-packages\\sklearn\\base.py:493: FutureWarning: The feature names should match those that were passed during fit. Starting version 1.2, an error will be raised.\n",
      "Feature names unseen at fit time:\n",
      "- rainfall\n",
      "Feature names seen at fit time, yet now missing:\n",
      "- radar_rainfall\n",
      "\n",
      "  warnings.warn(message, FutureWarning)\n"
     ]
    },
    {
     "name": "stdout",
     "output_type": "stream",
     "text": [
      "\n",
      "Processing file: D:\\1Yang\\0Research\\0_2566_radar_mosaic\\00mos_chaophraya\\00run_batch_acchr_codes\\2output\\0Hourly\\0Sontihn_RF\\0CBB_Pulse\\0output_mosaic\\2018072501_2000m.tif\n",
      "Warning: CRS not defined for D:\\1Yang\\0Research\\0_2566_radar_mosaic\\00mos_chaophraya\\00run_batch_acchr_codes\\2output\\0Hourly\\0Sontihn_RF\\0CBB_Pulse\\0output_mosaic\\2018072501_2000m.tif. Using WGS84 as default.\n",
      "Features shape: (250000, 3)\n",
      "NaN values before imputation: 114391\n",
      "NaN values after imputation: 114391\n",
      "Original data - Mean: 0.05, Max: 27.34\n",
      "Corrected data - Mean: 0.56, Max: 49.43\n"
     ]
    },
    {
     "name": "stderr",
     "output_type": "stream",
     "text": [
      " 98%|██████████████████████████████████████████████████████████████████████████████▎ | 230/235 [17:31<00:23,  4.66s/it]C:\\Users\\Admin\\anaconda3\\envs\\mossf\\lib\\site-packages\\sklearn\\base.py:493: FutureWarning: The feature names should match those that were passed during fit. Starting version 1.2, an error will be raised.\n",
      "Feature names unseen at fit time:\n",
      "- rainfall\n",
      "Feature names seen at fit time, yet now missing:\n",
      "- radar_rainfall\n",
      "\n",
      "  warnings.warn(message, FutureWarning)\n"
     ]
    },
    {
     "name": "stdout",
     "output_type": "stream",
     "text": [
      "\n",
      "Processing file: D:\\1Yang\\0Research\\0_2566_radar_mosaic\\00mos_chaophraya\\00run_batch_acchr_codes\\2output\\0Hourly\\0Sontihn_RF\\0CBB_Pulse\\0output_mosaic\\2018072502_2000m.tif\n",
      "Warning: CRS not defined for D:\\1Yang\\0Research\\0_2566_radar_mosaic\\00mos_chaophraya\\00run_batch_acchr_codes\\2output\\0Hourly\\0Sontihn_RF\\0CBB_Pulse\\0output_mosaic\\2018072502_2000m.tif. Using WGS84 as default.\n",
      "Features shape: (250000, 3)\n",
      "NaN values before imputation: 114421\n",
      "NaN values after imputation: 114421\n",
      "Original data - Mean: 0.06, Max: 62.06\n",
      "Corrected data - Mean: 0.52, Max: 49.43\n"
     ]
    },
    {
     "name": "stderr",
     "output_type": "stream",
     "text": [
      " 98%|██████████████████████████████████████████████████████████████████████████████▋ | 231/235 [17:35<00:18,  4.61s/it]C:\\Users\\Admin\\anaconda3\\envs\\mossf\\lib\\site-packages\\sklearn\\base.py:493: FutureWarning: The feature names should match those that were passed during fit. Starting version 1.2, an error will be raised.\n",
      "Feature names unseen at fit time:\n",
      "- rainfall\n",
      "Feature names seen at fit time, yet now missing:\n",
      "- radar_rainfall\n",
      "\n",
      "  warnings.warn(message, FutureWarning)\n"
     ]
    },
    {
     "name": "stdout",
     "output_type": "stream",
     "text": [
      "\n",
      "Processing file: D:\\1Yang\\0Research\\0_2566_radar_mosaic\\00mos_chaophraya\\00run_batch_acchr_codes\\2output\\0Hourly\\0Sontihn_RF\\0CBB_Pulse\\0output_mosaic\\2018072503_2000m.tif\n",
      "Warning: CRS not defined for D:\\1Yang\\0Research\\0_2566_radar_mosaic\\00mos_chaophraya\\00run_batch_acchr_codes\\2output\\0Hourly\\0Sontihn_RF\\0CBB_Pulse\\0output_mosaic\\2018072503_2000m.tif. Using WGS84 as default.\n",
      "Features shape: (250000, 3)\n",
      "NaN values before imputation: 114379\n",
      "NaN values after imputation: 114379\n",
      "Original data - Mean: 0.09, Max: 70.53\n",
      "Corrected data - Mean: 0.63, Max: 49.43\n"
     ]
    },
    {
     "name": "stderr",
     "output_type": "stream",
     "text": [
      " 99%|██████████████████████████████████████████████████████████████████████████████▉ | 232/235 [17:40<00:13,  4.56s/it]C:\\Users\\Admin\\anaconda3\\envs\\mossf\\lib\\site-packages\\sklearn\\base.py:493: FutureWarning: The feature names should match those that were passed during fit. Starting version 1.2, an error will be raised.\n",
      "Feature names unseen at fit time:\n",
      "- rainfall\n",
      "Feature names seen at fit time, yet now missing:\n",
      "- radar_rainfall\n",
      "\n",
      "  warnings.warn(message, FutureWarning)\n"
     ]
    },
    {
     "name": "stdout",
     "output_type": "stream",
     "text": [
      "\n",
      "Processing file: D:\\1Yang\\0Research\\0_2566_radar_mosaic\\00mos_chaophraya\\00run_batch_acchr_codes\\2output\\0Hourly\\0Sontihn_RF\\0CBB_Pulse\\0output_mosaic\\2018072504_2000m.tif\n",
      "Warning: CRS not defined for D:\\1Yang\\0Research\\0_2566_radar_mosaic\\00mos_chaophraya\\00run_batch_acchr_codes\\2output\\0Hourly\\0Sontihn_RF\\0CBB_Pulse\\0output_mosaic\\2018072504_2000m.tif. Using WGS84 as default.\n",
      "Features shape: (250000, 3)\n",
      "NaN values before imputation: 114303\n",
      "NaN values after imputation: 114303\n",
      "Original data - Mean: 0.07, Max: 21.59\n",
      "Corrected data - Mean: 0.67, Max: 49.43\n"
     ]
    },
    {
     "name": "stderr",
     "output_type": "stream",
     "text": [
      " 99%|███████████████████████████████████████████████████████████████████████████████▎| 233/235 [17:44<00:09,  4.52s/it]C:\\Users\\Admin\\anaconda3\\envs\\mossf\\lib\\site-packages\\sklearn\\base.py:493: FutureWarning: The feature names should match those that were passed during fit. Starting version 1.2, an error will be raised.\n",
      "Feature names unseen at fit time:\n",
      "- rainfall\n",
      "Feature names seen at fit time, yet now missing:\n",
      "- radar_rainfall\n",
      "\n",
      "  warnings.warn(message, FutureWarning)\n"
     ]
    },
    {
     "name": "stdout",
     "output_type": "stream",
     "text": [
      "\n",
      "Processing file: D:\\1Yang\\0Research\\0_2566_radar_mosaic\\00mos_chaophraya\\00run_batch_acchr_codes\\2output\\0Hourly\\0Sontihn_RF\\0CBB_Pulse\\0output_mosaic\\2018072505_2000m.tif\n",
      "Warning: CRS not defined for D:\\1Yang\\0Research\\0_2566_radar_mosaic\\00mos_chaophraya\\00run_batch_acchr_codes\\2output\\0Hourly\\0Sontihn_RF\\0CBB_Pulse\\0output_mosaic\\2018072505_2000m.tif. Using WGS84 as default.\n",
      "Features shape: (250000, 3)\n",
      "NaN values before imputation: 114342\n",
      "NaN values after imputation: 114342\n",
      "Original data - Mean: 0.06, Max: 24.82\n",
      "Corrected data - Mean: 0.63, Max: 49.43\n"
     ]
    },
    {
     "name": "stderr",
     "output_type": "stream",
     "text": [
      "100%|███████████████████████████████████████████████████████████████████████████████▋| 234/235 [17:49<00:04,  4.54s/it]C:\\Users\\Admin\\anaconda3\\envs\\mossf\\lib\\site-packages\\sklearn\\base.py:493: FutureWarning: The feature names should match those that were passed during fit. Starting version 1.2, an error will be raised.\n",
      "Feature names unseen at fit time:\n",
      "- rainfall\n",
      "Feature names seen at fit time, yet now missing:\n",
      "- radar_rainfall\n",
      "\n",
      "  warnings.warn(message, FutureWarning)\n"
     ]
    },
    {
     "name": "stdout",
     "output_type": "stream",
     "text": [
      "\n",
      "Processing file: D:\\1Yang\\0Research\\0_2566_radar_mosaic\\00mos_chaophraya\\00run_batch_acchr_codes\\2output\\0Hourly\\0Sontihn_RF\\0CBB_Pulse\\0output_mosaic\\2018072506_2000m.tif\n",
      "Warning: CRS not defined for D:\\1Yang\\0Research\\0_2566_radar_mosaic\\00mos_chaophraya\\00run_batch_acchr_codes\\2output\\0Hourly\\0Sontihn_RF\\0CBB_Pulse\\0output_mosaic\\2018072506_2000m.tif. Using WGS84 as default.\n",
      "Features shape: (250000, 3)\n",
      "NaN values before imputation: 114327\n",
      "NaN values after imputation: 114327\n",
      "Original data - Mean: 0.05, Max: 27.84\n",
      "Corrected data - Mean: 0.54, Max: 49.43\n"
     ]
    },
    {
     "name": "stderr",
     "output_type": "stream",
     "text": [
      "100%|████████████████████████████████████████████████████████████████████████████████| 235/235 [17:53<00:00,  4.57s/it]\n"
     ]
    },
    {
     "name": "stdout",
     "output_type": "stream",
     "text": [
      "\n",
      "Processing files with constant imputation strategy\n"
     ]
    },
    {
     "name": "stderr",
     "output_type": "stream",
     "text": [
      "  0%|                                                                                          | 0/235 [00:00<?, ?it/s]C:\\Users\\Admin\\anaconda3\\envs\\mossf\\lib\\site-packages\\sklearn\\base.py:493: FutureWarning: The feature names should match those that were passed during fit. Starting version 1.2, an error will be raised.\n",
      "Feature names unseen at fit time:\n",
      "- rainfall\n",
      "Feature names seen at fit time, yet now missing:\n",
      "- radar_rainfall\n",
      "\n",
      "  warnings.warn(message, FutureWarning)\n"
     ]
    },
    {
     "name": "stdout",
     "output_type": "stream",
     "text": [
      "\n",
      "Processing file: D:\\1Yang\\0Research\\0_2566_radar_mosaic\\00mos_chaophraya\\00run_batch_acchr_codes\\2output\\0Hourly\\0Sontihn_RF\\0CBB_Pulse\\0output_mosaic\\2018071507_2000m.tif\n",
      "Warning: CRS not defined for D:\\1Yang\\0Research\\0_2566_radar_mosaic\\00mos_chaophraya\\00run_batch_acchr_codes\\2output\\0Hourly\\0Sontihn_RF\\0CBB_Pulse\\0output_mosaic\\2018071507_2000m.tif. Using WGS84 as default.\n",
      "Features shape: (250000, 3)\n",
      "NaN values before imputation: 114311\n",
      "NaN values after imputation: 114311\n",
      "Original data - Mean: 0.01, Max: 4.38\n",
      "Corrected data - Mean: 0.19, Max: 17.07\n"
     ]
    },
    {
     "name": "stderr",
     "output_type": "stream",
     "text": [
      "  0%|▎                                                                                 | 1/235 [00:04<16:49,  4.32s/it]C:\\Users\\Admin\\anaconda3\\envs\\mossf\\lib\\site-packages\\sklearn\\base.py:493: FutureWarning: The feature names should match those that were passed during fit. Starting version 1.2, an error will be raised.\n",
      "Feature names unseen at fit time:\n",
      "- rainfall\n",
      "Feature names seen at fit time, yet now missing:\n",
      "- radar_rainfall\n",
      "\n",
      "  warnings.warn(message, FutureWarning)\n"
     ]
    },
    {
     "name": "stdout",
     "output_type": "stream",
     "text": [
      "\n",
      "Processing file: D:\\1Yang\\0Research\\0_2566_radar_mosaic\\00mos_chaophraya\\00run_batch_acchr_codes\\2output\\0Hourly\\0Sontihn_RF\\0CBB_Pulse\\0output_mosaic\\2018071508_2000m.tif\n",
      "Warning: CRS not defined for D:\\1Yang\\0Research\\0_2566_radar_mosaic\\00mos_chaophraya\\00run_batch_acchr_codes\\2output\\0Hourly\\0Sontihn_RF\\0CBB_Pulse\\0output_mosaic\\2018071508_2000m.tif. Using WGS84 as default.\n",
      "Features shape: (250000, 3)\n",
      "NaN values before imputation: 114385\n",
      "NaN values after imputation: 114385\n",
      "Original data - Mean: 0.01, Max: 6.54\n",
      "Corrected data - Mean: 0.22, Max: 17.22\n"
     ]
    },
    {
     "name": "stderr",
     "output_type": "stream",
     "text": [
      "  1%|▋                                                                                 | 2/235 [00:08<16:58,  4.37s/it]C:\\Users\\Admin\\anaconda3\\envs\\mossf\\lib\\site-packages\\sklearn\\base.py:493: FutureWarning: The feature names should match those that were passed during fit. Starting version 1.2, an error will be raised.\n",
      "Feature names unseen at fit time:\n",
      "- rainfall\n",
      "Feature names seen at fit time, yet now missing:\n",
      "- radar_rainfall\n",
      "\n",
      "  warnings.warn(message, FutureWarning)\n"
     ]
    },
    {
     "name": "stdout",
     "output_type": "stream",
     "text": [
      "\n",
      "Processing file: D:\\1Yang\\0Research\\0_2566_radar_mosaic\\00mos_chaophraya\\00run_batch_acchr_codes\\2output\\0Hourly\\0Sontihn_RF\\0CBB_Pulse\\0output_mosaic\\2018071509_2000m.tif\n",
      "Warning: CRS not defined for D:\\1Yang\\0Research\\0_2566_radar_mosaic\\00mos_chaophraya\\00run_batch_acchr_codes\\2output\\0Hourly\\0Sontihn_RF\\0CBB_Pulse\\0output_mosaic\\2018071509_2000m.tif. Using WGS84 as default.\n",
      "Features shape: (250000, 3)\n",
      "NaN values before imputation: 114284\n",
      "NaN values after imputation: 114284\n",
      "Original data - Mean: 0.01, Max: 3.88\n",
      "Corrected data - Mean: 0.21, Max: 14.83\n"
     ]
    },
    {
     "name": "stderr",
     "output_type": "stream",
     "text": [
      "  1%|█                                                                                 | 3/235 [00:13<17:00,  4.40s/it]C:\\Users\\Admin\\anaconda3\\envs\\mossf\\lib\\site-packages\\sklearn\\base.py:493: FutureWarning: The feature names should match those that were passed during fit. Starting version 1.2, an error will be raised.\n",
      "Feature names unseen at fit time:\n",
      "- rainfall\n",
      "Feature names seen at fit time, yet now missing:\n",
      "- radar_rainfall\n",
      "\n",
      "  warnings.warn(message, FutureWarning)\n"
     ]
    },
    {
     "name": "stdout",
     "output_type": "stream",
     "text": [
      "\n",
      "Processing file: D:\\1Yang\\0Research\\0_2566_radar_mosaic\\00mos_chaophraya\\00run_batch_acchr_codes\\2output\\0Hourly\\0Sontihn_RF\\0CBB_Pulse\\0output_mosaic\\2018071510_2000m.tif\n",
      "Warning: CRS not defined for D:\\1Yang\\0Research\\0_2566_radar_mosaic\\00mos_chaophraya\\00run_batch_acchr_codes\\2output\\0Hourly\\0Sontihn_RF\\0CBB_Pulse\\0output_mosaic\\2018071510_2000m.tif. Using WGS84 as default.\n",
      "Features shape: (250000, 3)\n",
      "NaN values before imputation: 114328\n",
      "NaN values after imputation: 114328\n",
      "Original data - Mean: 0.01, Max: 3.85\n",
      "Corrected data - Mean: 0.12, Max: 14.83\n"
     ]
    },
    {
     "name": "stderr",
     "output_type": "stream",
     "text": [
      "  2%|█▍                                                                                | 4/235 [00:17<17:04,  4.43s/it]C:\\Users\\Admin\\anaconda3\\envs\\mossf\\lib\\site-packages\\sklearn\\base.py:493: FutureWarning: The feature names should match those that were passed during fit. Starting version 1.2, an error will be raised.\n",
      "Feature names unseen at fit time:\n",
      "- rainfall\n",
      "Feature names seen at fit time, yet now missing:\n",
      "- radar_rainfall\n",
      "\n",
      "  warnings.warn(message, FutureWarning)\n"
     ]
    },
    {
     "name": "stdout",
     "output_type": "stream",
     "text": [
      "\n",
      "Processing file: D:\\1Yang\\0Research\\0_2566_radar_mosaic\\00mos_chaophraya\\00run_batch_acchr_codes\\2output\\0Hourly\\0Sontihn_RF\\0CBB_Pulse\\0output_mosaic\\2018071511_2000m.tif\n",
      "Warning: CRS not defined for D:\\1Yang\\0Research\\0_2566_radar_mosaic\\00mos_chaophraya\\00run_batch_acchr_codes\\2output\\0Hourly\\0Sontihn_RF\\0CBB_Pulse\\0output_mosaic\\2018071511_2000m.tif. Using WGS84 as default.\n",
      "Features shape: (250000, 3)\n",
      "NaN values before imputation: 114312\n",
      "NaN values after imputation: 114312\n",
      "Original data - Mean: 0.00, Max: 3.29\n",
      "Corrected data - Mean: 0.08, Max: 14.12\n"
     ]
    },
    {
     "name": "stderr",
     "output_type": "stream",
     "text": [
      "  2%|█▋                                                                                | 5/235 [00:21<16:49,  4.39s/it]C:\\Users\\Admin\\anaconda3\\envs\\mossf\\lib\\site-packages\\sklearn\\base.py:493: FutureWarning: The feature names should match those that were passed during fit. Starting version 1.2, an error will be raised.\n",
      "Feature names unseen at fit time:\n",
      "- rainfall\n",
      "Feature names seen at fit time, yet now missing:\n",
      "- radar_rainfall\n",
      "\n",
      "  warnings.warn(message, FutureWarning)\n"
     ]
    },
    {
     "name": "stdout",
     "output_type": "stream",
     "text": [
      "\n",
      "Processing file: D:\\1Yang\\0Research\\0_2566_radar_mosaic\\00mos_chaophraya\\00run_batch_acchr_codes\\2output\\0Hourly\\0Sontihn_RF\\0CBB_Pulse\\0output_mosaic\\2018071512_2000m.tif\n",
      "Warning: CRS not defined for D:\\1Yang\\0Research\\0_2566_radar_mosaic\\00mos_chaophraya\\00run_batch_acchr_codes\\2output\\0Hourly\\0Sontihn_RF\\0CBB_Pulse\\0output_mosaic\\2018071512_2000m.tif. Using WGS84 as default.\n",
      "Features shape: (250000, 3)\n",
      "NaN values before imputation: 114515\n",
      "NaN values after imputation: 114515\n",
      "Original data - Mean: 0.01, Max: 47.79\n",
      "Corrected data - Mean: 0.11, Max: 49.43\n"
     ]
    },
    {
     "name": "stderr",
     "output_type": "stream",
     "text": [
      "  3%|██                                                                                | 6/235 [00:26<16:52,  4.42s/it]C:\\Users\\Admin\\anaconda3\\envs\\mossf\\lib\\site-packages\\sklearn\\base.py:493: FutureWarning: The feature names should match those that were passed during fit. Starting version 1.2, an error will be raised.\n",
      "Feature names unseen at fit time:\n",
      "- rainfall\n",
      "Feature names seen at fit time, yet now missing:\n",
      "- radar_rainfall\n",
      "\n",
      "  warnings.warn(message, FutureWarning)\n"
     ]
    },
    {
     "name": "stdout",
     "output_type": "stream",
     "text": [
      "\n",
      "Processing file: D:\\1Yang\\0Research\\0_2566_radar_mosaic\\00mos_chaophraya\\00run_batch_acchr_codes\\2output\\0Hourly\\0Sontihn_RF\\0CBB_Pulse\\0output_mosaic\\2018071513_2000m.tif\n",
      "Warning: CRS not defined for D:\\1Yang\\0Research\\0_2566_radar_mosaic\\00mos_chaophraya\\00run_batch_acchr_codes\\2output\\0Hourly\\0Sontihn_RF\\0CBB_Pulse\\0output_mosaic\\2018071513_2000m.tif. Using WGS84 as default.\n",
      "Features shape: (250000, 3)\n",
      "NaN values before imputation: 114347\n",
      "NaN values after imputation: 114347\n",
      "Original data - Mean: 0.02, Max: 62.32\n",
      "Corrected data - Mean: 0.13, Max: 49.43\n"
     ]
    },
    {
     "name": "stderr",
     "output_type": "stream",
     "text": [
      "  3%|██▍                                                                               | 7/235 [00:30<16:48,  4.42s/it]C:\\Users\\Admin\\anaconda3\\envs\\mossf\\lib\\site-packages\\sklearn\\base.py:493: FutureWarning: The feature names should match those that were passed during fit. Starting version 1.2, an error will be raised.\n",
      "Feature names unseen at fit time:\n",
      "- rainfall\n",
      "Feature names seen at fit time, yet now missing:\n",
      "- radar_rainfall\n",
      "\n",
      "  warnings.warn(message, FutureWarning)\n"
     ]
    },
    {
     "name": "stdout",
     "output_type": "stream",
     "text": [
      "\n",
      "Processing file: D:\\1Yang\\0Research\\0_2566_radar_mosaic\\00mos_chaophraya\\00run_batch_acchr_codes\\2output\\0Hourly\\0Sontihn_RF\\0CBB_Pulse\\0output_mosaic\\2018071514_2000m.tif\n",
      "Warning: CRS not defined for D:\\1Yang\\0Research\\0_2566_radar_mosaic\\00mos_chaophraya\\00run_batch_acchr_codes\\2output\\0Hourly\\0Sontihn_RF\\0CBB_Pulse\\0output_mosaic\\2018071514_2000m.tif. Using WGS84 as default.\n",
      "Features shape: (250000, 3)\n",
      "NaN values before imputation: 114340\n",
      "NaN values after imputation: 114340\n",
      "Original data - Mean: 0.01, Max: 17.59\n",
      "Corrected data - Mean: 0.10, Max: 49.43\n"
     ]
    },
    {
     "name": "stderr",
     "output_type": "stream",
     "text": [
      "  3%|██▊                                                                               | 8/235 [00:35<16:46,  4.43s/it]C:\\Users\\Admin\\anaconda3\\envs\\mossf\\lib\\site-packages\\sklearn\\base.py:493: FutureWarning: The feature names should match those that were passed during fit. Starting version 1.2, an error will be raised.\n",
      "Feature names unseen at fit time:\n",
      "- rainfall\n",
      "Feature names seen at fit time, yet now missing:\n",
      "- radar_rainfall\n",
      "\n",
      "  warnings.warn(message, FutureWarning)\n"
     ]
    },
    {
     "name": "stdout",
     "output_type": "stream",
     "text": [
      "\n",
      "Processing file: D:\\1Yang\\0Research\\0_2566_radar_mosaic\\00mos_chaophraya\\00run_batch_acchr_codes\\2output\\0Hourly\\0Sontihn_RF\\0CBB_Pulse\\0output_mosaic\\2018071515_2000m.tif\n",
      "Warning: CRS not defined for D:\\1Yang\\0Research\\0_2566_radar_mosaic\\00mos_chaophraya\\00run_batch_acchr_codes\\2output\\0Hourly\\0Sontihn_RF\\0CBB_Pulse\\0output_mosaic\\2018071515_2000m.tif. Using WGS84 as default.\n",
      "Features shape: (250000, 3)\n",
      "NaN values before imputation: 114382\n",
      "NaN values after imputation: 114382\n",
      "Original data - Mean: 0.02, Max: 26.72\n",
      "Corrected data - Mean: 0.16, Max: 49.43\n"
     ]
    },
    {
     "name": "stderr",
     "output_type": "stream",
     "text": [
      "  4%|███▏                                                                              | 9/235 [00:39<16:40,  4.43s/it]C:\\Users\\Admin\\anaconda3\\envs\\mossf\\lib\\site-packages\\sklearn\\base.py:493: FutureWarning: The feature names should match those that were passed during fit. Starting version 1.2, an error will be raised.\n",
      "Feature names unseen at fit time:\n",
      "- rainfall\n",
      "Feature names seen at fit time, yet now missing:\n",
      "- radar_rainfall\n",
      "\n",
      "  warnings.warn(message, FutureWarning)\n"
     ]
    },
    {
     "name": "stdout",
     "output_type": "stream",
     "text": [
      "\n",
      "Processing file: D:\\1Yang\\0Research\\0_2566_radar_mosaic\\00mos_chaophraya\\00run_batch_acchr_codes\\2output\\0Hourly\\0Sontihn_RF\\0CBB_Pulse\\0output_mosaic\\2018071516_2000m.tif\n",
      "Warning: CRS not defined for D:\\1Yang\\0Research\\0_2566_radar_mosaic\\00mos_chaophraya\\00run_batch_acchr_codes\\2output\\0Hourly\\0Sontihn_RF\\0CBB_Pulse\\0output_mosaic\\2018071516_2000m.tif. Using WGS84 as default.\n",
      "Features shape: (250000, 3)\n",
      "NaN values before imputation: 114341\n",
      "NaN values after imputation: 114341\n",
      "Original data - Mean: 0.02, Max: 65.54\n",
      "Corrected data - Mean: 0.21, Max: 49.43\n"
     ]
    },
    {
     "name": "stderr",
     "output_type": "stream",
     "text": [
      "  4%|███▍                                                                             | 10/235 [00:44<16:38,  4.44s/it]C:\\Users\\Admin\\anaconda3\\envs\\mossf\\lib\\site-packages\\sklearn\\base.py:493: FutureWarning: The feature names should match those that were passed during fit. Starting version 1.2, an error will be raised.\n",
      "Feature names unseen at fit time:\n",
      "- rainfall\n",
      "Feature names seen at fit time, yet now missing:\n",
      "- radar_rainfall\n",
      "\n",
      "  warnings.warn(message, FutureWarning)\n"
     ]
    },
    {
     "name": "stdout",
     "output_type": "stream",
     "text": [
      "\n",
      "Processing file: D:\\1Yang\\0Research\\0_2566_radar_mosaic\\00mos_chaophraya\\00run_batch_acchr_codes\\2output\\0Hourly\\0Sontihn_RF\\0CBB_Pulse\\0output_mosaic\\2018071517_2000m.tif\n",
      "Warning: CRS not defined for D:\\1Yang\\0Research\\0_2566_radar_mosaic\\00mos_chaophraya\\00run_batch_acchr_codes\\2output\\0Hourly\\0Sontihn_RF\\0CBB_Pulse\\0output_mosaic\\2018071517_2000m.tif. Using WGS84 as default.\n",
      "Features shape: (250000, 3)\n",
      "NaN values before imputation: 114319\n",
      "NaN values after imputation: 114319\n",
      "Original data - Mean: 0.03, Max: 22.29\n",
      "Corrected data - Mean: 0.38, Max: 49.43\n"
     ]
    },
    {
     "name": "stderr",
     "output_type": "stream",
     "text": [
      "  5%|███▊                                                                             | 11/235 [00:48<16:33,  4.44s/it]C:\\Users\\Admin\\anaconda3\\envs\\mossf\\lib\\site-packages\\sklearn\\base.py:493: FutureWarning: The feature names should match those that were passed during fit. Starting version 1.2, an error will be raised.\n",
      "Feature names unseen at fit time:\n",
      "- rainfall\n",
      "Feature names seen at fit time, yet now missing:\n",
      "- radar_rainfall\n",
      "\n",
      "  warnings.warn(message, FutureWarning)\n"
     ]
    },
    {
     "name": "stdout",
     "output_type": "stream",
     "text": [
      "\n",
      "Processing file: D:\\1Yang\\0Research\\0_2566_radar_mosaic\\00mos_chaophraya\\00run_batch_acchr_codes\\2output\\0Hourly\\0Sontihn_RF\\0CBB_Pulse\\0output_mosaic\\2018071518_2000m.tif\n",
      "Warning: CRS not defined for D:\\1Yang\\0Research\\0_2566_radar_mosaic\\00mos_chaophraya\\00run_batch_acchr_codes\\2output\\0Hourly\\0Sontihn_RF\\0CBB_Pulse\\0output_mosaic\\2018071518_2000m.tif. Using WGS84 as default.\n",
      "Features shape: (250000, 3)\n",
      "NaN values before imputation: 114306\n",
      "NaN values after imputation: 114306\n",
      "Original data - Mean: 0.03, Max: 30.03\n",
      "Corrected data - Mean: 0.39, Max: 49.43\n"
     ]
    },
    {
     "name": "stderr",
     "output_type": "stream",
     "text": [
      "  5%|████▏                                                                            | 12/235 [00:53<16:30,  4.44s/it]C:\\Users\\Admin\\anaconda3\\envs\\mossf\\lib\\site-packages\\sklearn\\base.py:493: FutureWarning: The feature names should match those that were passed during fit. Starting version 1.2, an error will be raised.\n",
      "Feature names unseen at fit time:\n",
      "- rainfall\n",
      "Feature names seen at fit time, yet now missing:\n",
      "- radar_rainfall\n",
      "\n",
      "  warnings.warn(message, FutureWarning)\n"
     ]
    },
    {
     "name": "stdout",
     "output_type": "stream",
     "text": [
      "\n",
      "Processing file: D:\\1Yang\\0Research\\0_2566_radar_mosaic\\00mos_chaophraya\\00run_batch_acchr_codes\\2output\\0Hourly\\0Sontihn_RF\\0CBB_Pulse\\0output_mosaic\\2018071519_2000m.tif\n",
      "Warning: CRS not defined for D:\\1Yang\\0Research\\0_2566_radar_mosaic\\00mos_chaophraya\\00run_batch_acchr_codes\\2output\\0Hourly\\0Sontihn_RF\\0CBB_Pulse\\0output_mosaic\\2018071519_2000m.tif. Using WGS84 as default.\n",
      "Features shape: (250000, 3)\n",
      "NaN values before imputation: 114351\n",
      "NaN values after imputation: 114351\n",
      "Original data - Mean: 0.04, Max: 37.00\n",
      "Corrected data - Mean: 0.41, Max: 49.43\n"
     ]
    },
    {
     "name": "stderr",
     "output_type": "stream",
     "text": [
      "  6%|████▍                                                                            | 13/235 [00:57<16:29,  4.46s/it]C:\\Users\\Admin\\anaconda3\\envs\\mossf\\lib\\site-packages\\sklearn\\base.py:493: FutureWarning: The feature names should match those that were passed during fit. Starting version 1.2, an error will be raised.\n",
      "Feature names unseen at fit time:\n",
      "- rainfall\n",
      "Feature names seen at fit time, yet now missing:\n",
      "- radar_rainfall\n",
      "\n",
      "  warnings.warn(message, FutureWarning)\n"
     ]
    },
    {
     "name": "stdout",
     "output_type": "stream",
     "text": [
      "\n",
      "Processing file: D:\\1Yang\\0Research\\0_2566_radar_mosaic\\00mos_chaophraya\\00run_batch_acchr_codes\\2output\\0Hourly\\0Sontihn_RF\\0CBB_Pulse\\0output_mosaic\\2018071520_2000m.tif\n",
      "Warning: CRS not defined for D:\\1Yang\\0Research\\0_2566_radar_mosaic\\00mos_chaophraya\\00run_batch_acchr_codes\\2output\\0Hourly\\0Sontihn_RF\\0CBB_Pulse\\0output_mosaic\\2018071520_2000m.tif. Using WGS84 as default.\n",
      "Features shape: (250000, 3)\n",
      "NaN values before imputation: 114307\n",
      "NaN values after imputation: 114307\n",
      "Original data - Mean: 0.06, Max: 78.15\n",
      "Corrected data - Mean: 0.49, Max: 49.43\n"
     ]
    },
    {
     "name": "stderr",
     "output_type": "stream",
     "text": [
      "  6%|████▊                                                                            | 14/235 [01:02<16:24,  4.45s/it]C:\\Users\\Admin\\anaconda3\\envs\\mossf\\lib\\site-packages\\sklearn\\base.py:493: FutureWarning: The feature names should match those that were passed during fit. Starting version 1.2, an error will be raised.\n",
      "Feature names unseen at fit time:\n",
      "- rainfall\n",
      "Feature names seen at fit time, yet now missing:\n",
      "- radar_rainfall\n",
      "\n",
      "  warnings.warn(message, FutureWarning)\n"
     ]
    },
    {
     "name": "stdout",
     "output_type": "stream",
     "text": [
      "\n",
      "Processing file: D:\\1Yang\\0Research\\0_2566_radar_mosaic\\00mos_chaophraya\\00run_batch_acchr_codes\\2output\\0Hourly\\0Sontihn_RF\\0CBB_Pulse\\0output_mosaic\\2018071521_2000m.tif\n",
      "Warning: CRS not defined for D:\\1Yang\\0Research\\0_2566_radar_mosaic\\00mos_chaophraya\\00run_batch_acchr_codes\\2output\\0Hourly\\0Sontihn_RF\\0CBB_Pulse\\0output_mosaic\\2018071521_2000m.tif. Using WGS84 as default.\n",
      "Features shape: (250000, 3)\n",
      "NaN values before imputation: 114519\n",
      "NaN values after imputation: 114519\n",
      "Original data - Mean: 0.08, Max: 50.69\n",
      "Corrected data - Mean: 0.57, Max: 49.43\n"
     ]
    },
    {
     "name": "stderr",
     "output_type": "stream",
     "text": [
      "  6%|█████▏                                                                           | 15/235 [01:06<16:22,  4.47s/it]C:\\Users\\Admin\\anaconda3\\envs\\mossf\\lib\\site-packages\\sklearn\\base.py:493: FutureWarning: The feature names should match those that were passed during fit. Starting version 1.2, an error will be raised.\n",
      "Feature names unseen at fit time:\n",
      "- rainfall\n",
      "Feature names seen at fit time, yet now missing:\n",
      "- radar_rainfall\n",
      "\n",
      "  warnings.warn(message, FutureWarning)\n"
     ]
    },
    {
     "name": "stdout",
     "output_type": "stream",
     "text": [
      "\n",
      "Processing file: D:\\1Yang\\0Research\\0_2566_radar_mosaic\\00mos_chaophraya\\00run_batch_acchr_codes\\2output\\0Hourly\\0Sontihn_RF\\0CBB_Pulse\\0output_mosaic\\2018071522_2000m.tif\n",
      "Warning: CRS not defined for D:\\1Yang\\0Research\\0_2566_radar_mosaic\\00mos_chaophraya\\00run_batch_acchr_codes\\2output\\0Hourly\\0Sontihn_RF\\0CBB_Pulse\\0output_mosaic\\2018071522_2000m.tif. Using WGS84 as default.\n",
      "Features shape: (250000, 3)\n",
      "NaN values before imputation: 114346\n",
      "NaN values after imputation: 114346\n",
      "Original data - Mean: 0.10, Max: 70.39\n",
      "Corrected data - Mean: 0.59, Max: 49.43\n"
     ]
    },
    {
     "name": "stderr",
     "output_type": "stream",
     "text": [
      "  7%|█████▌                                                                           | 16/235 [01:11<16:41,  4.57s/it]C:\\Users\\Admin\\anaconda3\\envs\\mossf\\lib\\site-packages\\sklearn\\base.py:493: FutureWarning: The feature names should match those that were passed during fit. Starting version 1.2, an error will be raised.\n",
      "Feature names unseen at fit time:\n",
      "- rainfall\n",
      "Feature names seen at fit time, yet now missing:\n",
      "- radar_rainfall\n",
      "\n",
      "  warnings.warn(message, FutureWarning)\n"
     ]
    },
    {
     "name": "stdout",
     "output_type": "stream",
     "text": [
      "\n",
      "Processing file: D:\\1Yang\\0Research\\0_2566_radar_mosaic\\00mos_chaophraya\\00run_batch_acchr_codes\\2output\\0Hourly\\0Sontihn_RF\\0CBB_Pulse\\0output_mosaic\\2018071523_2000m.tif\n",
      "Warning: CRS not defined for D:\\1Yang\\0Research\\0_2566_radar_mosaic\\00mos_chaophraya\\00run_batch_acchr_codes\\2output\\0Hourly\\0Sontihn_RF\\0CBB_Pulse\\0output_mosaic\\2018071523_2000m.tif. Using WGS84 as default.\n",
      "Features shape: (250000, 3)\n",
      "NaN values before imputation: 114364\n",
      "NaN values after imputation: 114364\n",
      "Original data - Mean: 0.05, Max: 28.91\n",
      "Corrected data - Mean: 0.50, Max: 49.43\n"
     ]
    },
    {
     "name": "stderr",
     "output_type": "stream",
     "text": [
      "  7%|█████▊                                                                           | 17/235 [01:15<16:27,  4.53s/it]C:\\Users\\Admin\\anaconda3\\envs\\mossf\\lib\\site-packages\\sklearn\\base.py:493: FutureWarning: The feature names should match those that were passed during fit. Starting version 1.2, an error will be raised.\n",
      "Feature names unseen at fit time:\n",
      "- rainfall\n",
      "Feature names seen at fit time, yet now missing:\n",
      "- radar_rainfall\n",
      "\n",
      "  warnings.warn(message, FutureWarning)\n"
     ]
    },
    {
     "name": "stdout",
     "output_type": "stream",
     "text": [
      "\n",
      "Processing file: D:\\1Yang\\0Research\\0_2566_radar_mosaic\\00mos_chaophraya\\00run_batch_acchr_codes\\2output\\0Hourly\\0Sontihn_RF\\0CBB_Pulse\\0output_mosaic\\2018071600_2000m.tif\n",
      "Warning: CRS not defined for D:\\1Yang\\0Research\\0_2566_radar_mosaic\\00mos_chaophraya\\00run_batch_acchr_codes\\2output\\0Hourly\\0Sontihn_RF\\0CBB_Pulse\\0output_mosaic\\2018071600_2000m.tif. Using WGS84 as default.\n",
      "Features shape: (250000, 3)\n",
      "NaN values before imputation: 114345\n",
      "NaN values after imputation: 114345\n",
      "Original data - Mean: 0.07, Max: 26.60\n",
      "Corrected data - Mean: 0.49, Max: 49.43\n"
     ]
    },
    {
     "name": "stderr",
     "output_type": "stream",
     "text": [
      "  8%|██████▏                                                                          | 18/235 [01:20<16:17,  4.50s/it]C:\\Users\\Admin\\anaconda3\\envs\\mossf\\lib\\site-packages\\sklearn\\base.py:493: FutureWarning: The feature names should match those that were passed during fit. Starting version 1.2, an error will be raised.\n",
      "Feature names unseen at fit time:\n",
      "- rainfall\n",
      "Feature names seen at fit time, yet now missing:\n",
      "- radar_rainfall\n",
      "\n",
      "  warnings.warn(message, FutureWarning)\n"
     ]
    },
    {
     "name": "stdout",
     "output_type": "stream",
     "text": [
      "\n",
      "Processing file: D:\\1Yang\\0Research\\0_2566_radar_mosaic\\00mos_chaophraya\\00run_batch_acchr_codes\\2output\\0Hourly\\0Sontihn_RF\\0CBB_Pulse\\0output_mosaic\\2018071601_2000m.tif\n",
      "Warning: CRS not defined for D:\\1Yang\\0Research\\0_2566_radar_mosaic\\00mos_chaophraya\\00run_batch_acchr_codes\\2output\\0Hourly\\0Sontihn_RF\\0CBB_Pulse\\0output_mosaic\\2018071601_2000m.tif. Using WGS84 as default.\n",
      "Features shape: (250000, 3)\n",
      "NaN values before imputation: 114343\n",
      "NaN values after imputation: 114343\n",
      "Original data - Mean: 0.10, Max: 18.26\n",
      "Corrected data - Mean: 0.60, Max: 49.43\n"
     ]
    },
    {
     "name": "stderr",
     "output_type": "stream",
     "text": [
      "  8%|██████▌                                                                          | 19/235 [01:24<16:09,  4.49s/it]C:\\Users\\Admin\\anaconda3\\envs\\mossf\\lib\\site-packages\\sklearn\\base.py:493: FutureWarning: The feature names should match those that were passed during fit. Starting version 1.2, an error will be raised.\n",
      "Feature names unseen at fit time:\n",
      "- rainfall\n",
      "Feature names seen at fit time, yet now missing:\n",
      "- radar_rainfall\n",
      "\n",
      "  warnings.warn(message, FutureWarning)\n"
     ]
    },
    {
     "name": "stdout",
     "output_type": "stream",
     "text": [
      "\n",
      "Processing file: D:\\1Yang\\0Research\\0_2566_radar_mosaic\\00mos_chaophraya\\00run_batch_acchr_codes\\2output\\0Hourly\\0Sontihn_RF\\0CBB_Pulse\\0output_mosaic\\2018071602_2000m.tif\n",
      "Warning: CRS not defined for D:\\1Yang\\0Research\\0_2566_radar_mosaic\\00mos_chaophraya\\00run_batch_acchr_codes\\2output\\0Hourly\\0Sontihn_RF\\0CBB_Pulse\\0output_mosaic\\2018071602_2000m.tif. Using WGS84 as default.\n",
      "Features shape: (250000, 3)\n",
      "NaN values before imputation: 114412\n",
      "NaN values after imputation: 114412\n",
      "Original data - Mean: 0.05, Max: 8.99\n",
      "Corrected data - Mean: 0.50, Max: 20.71\n"
     ]
    },
    {
     "name": "stderr",
     "output_type": "stream",
     "text": [
      "  9%|██████▉                                                                          | 20/235 [01:29<16:01,  4.47s/it]C:\\Users\\Admin\\anaconda3\\envs\\mossf\\lib\\site-packages\\sklearn\\base.py:493: FutureWarning: The feature names should match those that were passed during fit. Starting version 1.2, an error will be raised.\n",
      "Feature names unseen at fit time:\n",
      "- rainfall\n",
      "Feature names seen at fit time, yet now missing:\n",
      "- radar_rainfall\n",
      "\n",
      "  warnings.warn(message, FutureWarning)\n"
     ]
    },
    {
     "name": "stdout",
     "output_type": "stream",
     "text": [
      "\n",
      "Processing file: D:\\1Yang\\0Research\\0_2566_radar_mosaic\\00mos_chaophraya\\00run_batch_acchr_codes\\2output\\0Hourly\\0Sontihn_RF\\0CBB_Pulse\\0output_mosaic\\2018071603_2000m.tif\n",
      "Warning: CRS not defined for D:\\1Yang\\0Research\\0_2566_radar_mosaic\\00mos_chaophraya\\00run_batch_acchr_codes\\2output\\0Hourly\\0Sontihn_RF\\0CBB_Pulse\\0output_mosaic\\2018071603_2000m.tif. Using WGS84 as default.\n",
      "Features shape: (250000, 3)\n",
      "NaN values before imputation: 114439\n",
      "NaN values after imputation: 114439\n",
      "Original data - Mean: 0.06, Max: 10.06\n",
      "Corrected data - Mean: 0.54, Max: 23.30\n"
     ]
    },
    {
     "name": "stderr",
     "output_type": "stream",
     "text": [
      "  9%|███████▏                                                                         | 21/235 [01:33<16:14,  4.55s/it]C:\\Users\\Admin\\anaconda3\\envs\\mossf\\lib\\site-packages\\sklearn\\base.py:493: FutureWarning: The feature names should match those that were passed during fit. Starting version 1.2, an error will be raised.\n",
      "Feature names unseen at fit time:\n",
      "- rainfall\n",
      "Feature names seen at fit time, yet now missing:\n",
      "- radar_rainfall\n",
      "\n",
      "  warnings.warn(message, FutureWarning)\n"
     ]
    },
    {
     "name": "stdout",
     "output_type": "stream",
     "text": [
      "\n",
      "Processing file: D:\\1Yang\\0Research\\0_2566_radar_mosaic\\00mos_chaophraya\\00run_batch_acchr_codes\\2output\\0Hourly\\0Sontihn_RF\\0CBB_Pulse\\0output_mosaic\\2018071604_2000m.tif\n",
      "Warning: CRS not defined for D:\\1Yang\\0Research\\0_2566_radar_mosaic\\00mos_chaophraya\\00run_batch_acchr_codes\\2output\\0Hourly\\0Sontihn_RF\\0CBB_Pulse\\0output_mosaic\\2018071604_2000m.tif. Using WGS84 as default.\n",
      "Features shape: (250000, 3)\n",
      "NaN values before imputation: 114372\n",
      "NaN values after imputation: 114372\n",
      "Original data - Mean: 0.04, Max: 9.85\n",
      "Corrected data - Mean: 0.50, Max: 22.88\n"
     ]
    },
    {
     "name": "stderr",
     "output_type": "stream",
     "text": [
      "  9%|███████▌                                                                         | 22/235 [01:38<16:17,  4.59s/it]C:\\Users\\Admin\\anaconda3\\envs\\mossf\\lib\\site-packages\\sklearn\\base.py:493: FutureWarning: The feature names should match those that were passed during fit. Starting version 1.2, an error will be raised.\n",
      "Feature names unseen at fit time:\n",
      "- rainfall\n",
      "Feature names seen at fit time, yet now missing:\n",
      "- radar_rainfall\n",
      "\n",
      "  warnings.warn(message, FutureWarning)\n"
     ]
    },
    {
     "name": "stdout",
     "output_type": "stream",
     "text": [
      "\n",
      "Processing file: D:\\1Yang\\0Research\\0_2566_radar_mosaic\\00mos_chaophraya\\00run_batch_acchr_codes\\2output\\0Hourly\\0Sontihn_RF\\0CBB_Pulse\\0output_mosaic\\2018071605_2000m.tif\n",
      "Warning: CRS not defined for D:\\1Yang\\0Research\\0_2566_radar_mosaic\\00mos_chaophraya\\00run_batch_acchr_codes\\2output\\0Hourly\\0Sontihn_RF\\0CBB_Pulse\\0output_mosaic\\2018071605_2000m.tif. Using WGS84 as default.\n",
      "Features shape: (250000, 3)\n",
      "NaN values before imputation: 114402\n",
      "NaN values after imputation: 114402\n",
      "Original data - Mean: 0.03, Max: 6.52\n",
      "Corrected data - Mean: 0.47, Max: 17.22\n"
     ]
    },
    {
     "name": "stderr",
     "output_type": "stream",
     "text": [
      " 10%|███████▉                                                                         | 23/235 [01:43<16:12,  4.59s/it]C:\\Users\\Admin\\anaconda3\\envs\\mossf\\lib\\site-packages\\sklearn\\base.py:493: FutureWarning: The feature names should match those that were passed during fit. Starting version 1.2, an error will be raised.\n",
      "Feature names unseen at fit time:\n",
      "- rainfall\n",
      "Feature names seen at fit time, yet now missing:\n",
      "- radar_rainfall\n",
      "\n",
      "  warnings.warn(message, FutureWarning)\n"
     ]
    },
    {
     "name": "stdout",
     "output_type": "stream",
     "text": [
      "\n",
      "Processing file: D:\\1Yang\\0Research\\0_2566_radar_mosaic\\00mos_chaophraya\\00run_batch_acchr_codes\\2output\\0Hourly\\0Sontihn_RF\\0CBB_Pulse\\0output_mosaic\\2018071606_2000m.tif\n",
      "Warning: CRS not defined for D:\\1Yang\\0Research\\0_2566_radar_mosaic\\00mos_chaophraya\\00run_batch_acchr_codes\\2output\\0Hourly\\0Sontihn_RF\\0CBB_Pulse\\0output_mosaic\\2018071606_2000m.tif. Using WGS84 as default.\n",
      "Features shape: (250000, 3)\n",
      "NaN values before imputation: 114412\n",
      "NaN values after imputation: 114412\n",
      "Original data - Mean: 0.02, Max: 9.90\n",
      "Corrected data - Mean: 0.43, Max: 22.88\n"
     ]
    },
    {
     "name": "stderr",
     "output_type": "stream",
     "text": [
      " 10%|████████▎                                                                        | 24/235 [01:47<16:02,  4.56s/it]C:\\Users\\Admin\\anaconda3\\envs\\mossf\\lib\\site-packages\\sklearn\\base.py:493: FutureWarning: The feature names should match those that were passed during fit. Starting version 1.2, an error will be raised.\n",
      "Feature names unseen at fit time:\n",
      "- rainfall\n",
      "Feature names seen at fit time, yet now missing:\n",
      "- radar_rainfall\n",
      "\n",
      "  warnings.warn(message, FutureWarning)\n"
     ]
    },
    {
     "name": "stdout",
     "output_type": "stream",
     "text": [
      "\n",
      "Processing file: D:\\1Yang\\0Research\\0_2566_radar_mosaic\\00mos_chaophraya\\00run_batch_acchr_codes\\2output\\0Hourly\\0Sontihn_RF\\0CBB_Pulse\\0output_mosaic\\2018071607_2000m.tif\n",
      "Warning: CRS not defined for D:\\1Yang\\0Research\\0_2566_radar_mosaic\\00mos_chaophraya\\00run_batch_acchr_codes\\2output\\0Hourly\\0Sontihn_RF\\0CBB_Pulse\\0output_mosaic\\2018071607_2000m.tif. Using WGS84 as default.\n",
      "Features shape: (250000, 3)\n",
      "NaN values before imputation: 114338\n",
      "NaN values after imputation: 114338\n",
      "Original data - Mean: 0.02, Max: 6.09\n",
      "Corrected data - Mean: 0.50, Max: 17.22\n"
     ]
    },
    {
     "name": "stderr",
     "output_type": "stream",
     "text": [
      " 11%|████████▌                                                                        | 25/235 [01:52<15:50,  4.52s/it]C:\\Users\\Admin\\anaconda3\\envs\\mossf\\lib\\site-packages\\sklearn\\base.py:493: FutureWarning: The feature names should match those that were passed during fit. Starting version 1.2, an error will be raised.\n",
      "Feature names unseen at fit time:\n",
      "- rainfall\n",
      "Feature names seen at fit time, yet now missing:\n",
      "- radar_rainfall\n",
      "\n",
      "  warnings.warn(message, FutureWarning)\n"
     ]
    },
    {
     "name": "stdout",
     "output_type": "stream",
     "text": [
      "\n",
      "Processing file: D:\\1Yang\\0Research\\0_2566_radar_mosaic\\00mos_chaophraya\\00run_batch_acchr_codes\\2output\\0Hourly\\0Sontihn_RF\\0CBB_Pulse\\0output_mosaic\\2018071608_2000m.tif\n",
      "Warning: CRS not defined for D:\\1Yang\\0Research\\0_2566_radar_mosaic\\00mos_chaophraya\\00run_batch_acchr_codes\\2output\\0Hourly\\0Sontihn_RF\\0CBB_Pulse\\0output_mosaic\\2018071608_2000m.tif. Using WGS84 as default.\n",
      "Features shape: (250000, 3)\n",
      "NaN values before imputation: 114414\n",
      "NaN values after imputation: 114414\n",
      "Original data - Mean: 0.02, Max: 4.11\n",
      "Corrected data - Mean: 0.44, Max: 16.63\n"
     ]
    },
    {
     "name": "stderr",
     "output_type": "stream",
     "text": [
      " 11%|████████▉                                                                        | 26/235 [01:56<15:35,  4.48s/it]C:\\Users\\Admin\\anaconda3\\envs\\mossf\\lib\\site-packages\\sklearn\\base.py:493: FutureWarning: The feature names should match those that were passed during fit. Starting version 1.2, an error will be raised.\n",
      "Feature names unseen at fit time:\n",
      "- rainfall\n",
      "Feature names seen at fit time, yet now missing:\n",
      "- radar_rainfall\n",
      "\n",
      "  warnings.warn(message, FutureWarning)\n"
     ]
    },
    {
     "name": "stdout",
     "output_type": "stream",
     "text": [
      "\n",
      "Processing file: D:\\1Yang\\0Research\\0_2566_radar_mosaic\\00mos_chaophraya\\00run_batch_acchr_codes\\2output\\0Hourly\\0Sontihn_RF\\0CBB_Pulse\\0output_mosaic\\2018071609_2000m.tif\n",
      "Warning: CRS not defined for D:\\1Yang\\0Research\\0_2566_radar_mosaic\\00mos_chaophraya\\00run_batch_acchr_codes\\2output\\0Hourly\\0Sontihn_RF\\0CBB_Pulse\\0output_mosaic\\2018071609_2000m.tif. Using WGS84 as default.\n",
      "Features shape: (250000, 3)\n",
      "NaN values before imputation: 114544\n",
      "NaN values after imputation: 114544\n",
      "Original data - Mean: 0.03, Max: 5.08\n",
      "Corrected data - Mean: 0.45, Max: 17.22\n"
     ]
    },
    {
     "name": "stderr",
     "output_type": "stream",
     "text": [
      " 11%|█████████▎                                                                       | 27/235 [02:00<15:29,  4.47s/it]C:\\Users\\Admin\\anaconda3\\envs\\mossf\\lib\\site-packages\\sklearn\\base.py:493: FutureWarning: The feature names should match those that were passed during fit. Starting version 1.2, an error will be raised.\n",
      "Feature names unseen at fit time:\n",
      "- rainfall\n",
      "Feature names seen at fit time, yet now missing:\n",
      "- radar_rainfall\n",
      "\n",
      "  warnings.warn(message, FutureWarning)\n"
     ]
    },
    {
     "name": "stdout",
     "output_type": "stream",
     "text": [
      "\n",
      "Processing file: D:\\1Yang\\0Research\\0_2566_radar_mosaic\\00mos_chaophraya\\00run_batch_acchr_codes\\2output\\0Hourly\\0Sontihn_RF\\0CBB_Pulse\\0output_mosaic\\2018071610_2000m.tif\n",
      "Warning: CRS not defined for D:\\1Yang\\0Research\\0_2566_radar_mosaic\\00mos_chaophraya\\00run_batch_acchr_codes\\2output\\0Hourly\\0Sontihn_RF\\0CBB_Pulse\\0output_mosaic\\2018071610_2000m.tif. Using WGS84 as default.\n",
      "Features shape: (250000, 3)\n",
      "NaN values before imputation: 114406\n",
      "NaN values after imputation: 114406\n",
      "Original data - Mean: 0.03, Max: 5.26\n",
      "Corrected data - Mean: 0.59, Max: 17.22\n"
     ]
    },
    {
     "name": "stderr",
     "output_type": "stream",
     "text": [
      " 12%|█████████▋                                                                       | 28/235 [02:05<15:24,  4.46s/it]C:\\Users\\Admin\\anaconda3\\envs\\mossf\\lib\\site-packages\\sklearn\\base.py:493: FutureWarning: The feature names should match those that were passed during fit. Starting version 1.2, an error will be raised.\n",
      "Feature names unseen at fit time:\n",
      "- rainfall\n",
      "Feature names seen at fit time, yet now missing:\n",
      "- radar_rainfall\n",
      "\n",
      "  warnings.warn(message, FutureWarning)\n"
     ]
    },
    {
     "name": "stdout",
     "output_type": "stream",
     "text": [
      "\n",
      "Processing file: D:\\1Yang\\0Research\\0_2566_radar_mosaic\\00mos_chaophraya\\00run_batch_acchr_codes\\2output\\0Hourly\\0Sontihn_RF\\0CBB_Pulse\\0output_mosaic\\2018071611_2000m.tif\n",
      "Warning: CRS not defined for D:\\1Yang\\0Research\\0_2566_radar_mosaic\\00mos_chaophraya\\00run_batch_acchr_codes\\2output\\0Hourly\\0Sontihn_RF\\0CBB_Pulse\\0output_mosaic\\2018071611_2000m.tif. Using WGS84 as default.\n",
      "Features shape: (250000, 3)\n",
      "NaN values before imputation: 114346\n",
      "NaN values after imputation: 114346\n",
      "Original data - Mean: 0.02, Max: 9.33\n",
      "Corrected data - Mean: 0.53, Max: 22.88\n"
     ]
    },
    {
     "name": "stderr",
     "output_type": "stream",
     "text": [
      " 12%|█████████▉                                                                       | 29/235 [02:09<15:22,  4.48s/it]C:\\Users\\Admin\\anaconda3\\envs\\mossf\\lib\\site-packages\\sklearn\\base.py:493: FutureWarning: The feature names should match those that were passed during fit. Starting version 1.2, an error will be raised.\n",
      "Feature names unseen at fit time:\n",
      "- rainfall\n",
      "Feature names seen at fit time, yet now missing:\n",
      "- radar_rainfall\n",
      "\n",
      "  warnings.warn(message, FutureWarning)\n"
     ]
    },
    {
     "name": "stdout",
     "output_type": "stream",
     "text": [
      "\n",
      "Processing file: D:\\1Yang\\0Research\\0_2566_radar_mosaic\\00mos_chaophraya\\00run_batch_acchr_codes\\2output\\0Hourly\\0Sontihn_RF\\0CBB_Pulse\\0output_mosaic\\2018071612_2000m.tif\n",
      "Warning: CRS not defined for D:\\1Yang\\0Research\\0_2566_radar_mosaic\\00mos_chaophraya\\00run_batch_acchr_codes\\2output\\0Hourly\\0Sontihn_RF\\0CBB_Pulse\\0output_mosaic\\2018071612_2000m.tif. Using WGS84 as default.\n",
      "Features shape: (250000, 3)\n",
      "NaN values before imputation: 114348\n",
      "NaN values after imputation: 114348\n",
      "Original data - Mean: 0.09, Max: 25.03\n",
      "Corrected data - Mean: 0.71, Max: 49.43\n"
     ]
    },
    {
     "name": "stderr",
     "output_type": "stream",
     "text": [
      " 13%|██████████▎                                                                      | 30/235 [02:14<15:20,  4.49s/it]"
     ]
    },
    {
     "name": "stdout",
     "output_type": "stream",
     "text": [
      "\n",
      "Processing file: D:\\1Yang\\0Research\\0_2566_radar_mosaic\\00mos_chaophraya\\00run_batch_acchr_codes\\2output\\0Hourly\\0Sontihn_RF\\0CBB_Pulse\\0output_mosaic\\2018071613_2000m.tif\n",
      "Warning: CRS not defined for D:\\1Yang\\0Research\\0_2566_radar_mosaic\\00mos_chaophraya\\00run_batch_acchr_codes\\2output\\0Hourly\\0Sontihn_RF\\0CBB_Pulse\\0output_mosaic\\2018071613_2000m.tif. Using WGS84 as default.\n",
      "Features shape: (250000, 3)\n",
      "NaN values before imputation: 114305\n",
      "NaN values after imputation: 114305\n"
     ]
    },
    {
     "name": "stderr",
     "output_type": "stream",
     "text": [
      "C:\\Users\\Admin\\anaconda3\\envs\\mossf\\lib\\site-packages\\sklearn\\base.py:493: FutureWarning: The feature names should match those that were passed during fit. Starting version 1.2, an error will be raised.\n",
      "Feature names unseen at fit time:\n",
      "- rainfall\n",
      "Feature names seen at fit time, yet now missing:\n",
      "- radar_rainfall\n",
      "\n",
      "  warnings.warn(message, FutureWarning)\n"
     ]
    },
    {
     "name": "stdout",
     "output_type": "stream",
     "text": [
      "Original data - Mean: 0.07, Max: 23.93\n",
      "Corrected data - Mean: 0.82, Max: 49.43\n"
     ]
    },
    {
     "name": "stderr",
     "output_type": "stream",
     "text": [
      " 13%|██████████▋                                                                      | 31/235 [02:18<15:16,  4.49s/it]C:\\Users\\Admin\\anaconda3\\envs\\mossf\\lib\\site-packages\\sklearn\\base.py:493: FutureWarning: The feature names should match those that were passed during fit. Starting version 1.2, an error will be raised.\n",
      "Feature names unseen at fit time:\n",
      "- rainfall\n",
      "Feature names seen at fit time, yet now missing:\n",
      "- radar_rainfall\n",
      "\n",
      "  warnings.warn(message, FutureWarning)\n"
     ]
    },
    {
     "name": "stdout",
     "output_type": "stream",
     "text": [
      "\n",
      "Processing file: D:\\1Yang\\0Research\\0_2566_radar_mosaic\\00mos_chaophraya\\00run_batch_acchr_codes\\2output\\0Hourly\\0Sontihn_RF\\0CBB_Pulse\\0output_mosaic\\2018071614_2000m.tif\n",
      "Warning: CRS not defined for D:\\1Yang\\0Research\\0_2566_radar_mosaic\\00mos_chaophraya\\00run_batch_acchr_codes\\2output\\0Hourly\\0Sontihn_RF\\0CBB_Pulse\\0output_mosaic\\2018071614_2000m.tif. Using WGS84 as default.\n",
      "Features shape: (250000, 3)\n",
      "NaN values before imputation: 114433\n",
      "NaN values after imputation: 114433\n",
      "Original data - Mean: 0.11, Max: 25.52\n",
      "Corrected data - Mean: 0.96, Max: 49.43\n"
     ]
    },
    {
     "name": "stderr",
     "output_type": "stream",
     "text": [
      " 14%|███████████                                                                      | 32/235 [02:23<15:14,  4.50s/it]C:\\Users\\Admin\\anaconda3\\envs\\mossf\\lib\\site-packages\\sklearn\\base.py:493: FutureWarning: The feature names should match those that were passed during fit. Starting version 1.2, an error will be raised.\n",
      "Feature names unseen at fit time:\n",
      "- rainfall\n",
      "Feature names seen at fit time, yet now missing:\n",
      "- radar_rainfall\n",
      "\n",
      "  warnings.warn(message, FutureWarning)\n"
     ]
    },
    {
     "name": "stdout",
     "output_type": "stream",
     "text": [
      "\n",
      "Processing file: D:\\1Yang\\0Research\\0_2566_radar_mosaic\\00mos_chaophraya\\00run_batch_acchr_codes\\2output\\0Hourly\\0Sontihn_RF\\0CBB_Pulse\\0output_mosaic\\2018071615_2000m.tif\n",
      "Warning: CRS not defined for D:\\1Yang\\0Research\\0_2566_radar_mosaic\\00mos_chaophraya\\00run_batch_acchr_codes\\2output\\0Hourly\\0Sontihn_RF\\0CBB_Pulse\\0output_mosaic\\2018071615_2000m.tif. Using WGS84 as default.\n",
      "Features shape: (250000, 3)\n",
      "NaN values before imputation: 114343\n",
      "NaN values after imputation: 114343\n",
      "Original data - Mean: 0.15, Max: 48.53\n",
      "Corrected data - Mean: 1.03, Max: 49.43\n"
     ]
    },
    {
     "name": "stderr",
     "output_type": "stream",
     "text": [
      " 14%|███████████▎                                                                     | 33/235 [02:27<15:10,  4.51s/it]C:\\Users\\Admin\\anaconda3\\envs\\mossf\\lib\\site-packages\\sklearn\\base.py:493: FutureWarning: The feature names should match those that were passed during fit. Starting version 1.2, an error will be raised.\n",
      "Feature names unseen at fit time:\n",
      "- rainfall\n",
      "Feature names seen at fit time, yet now missing:\n",
      "- radar_rainfall\n",
      "\n",
      "  warnings.warn(message, FutureWarning)\n"
     ]
    },
    {
     "name": "stdout",
     "output_type": "stream",
     "text": [
      "\n",
      "Processing file: D:\\1Yang\\0Research\\0_2566_radar_mosaic\\00mos_chaophraya\\00run_batch_acchr_codes\\2output\\0Hourly\\0Sontihn_RF\\0CBB_Pulse\\0output_mosaic\\2018071616_2000m.tif\n",
      "Warning: CRS not defined for D:\\1Yang\\0Research\\0_2566_radar_mosaic\\00mos_chaophraya\\00run_batch_acchr_codes\\2output\\0Hourly\\0Sontihn_RF\\0CBB_Pulse\\0output_mosaic\\2018071616_2000m.tif. Using WGS84 as default.\n",
      "Features shape: (250000, 3)\n",
      "NaN values before imputation: 114309\n",
      "NaN values after imputation: 114309\n",
      "Original data - Mean: 0.18, Max: 57.60\n",
      "Corrected data - Mean: 1.04, Max: 49.43\n"
     ]
    },
    {
     "name": "stderr",
     "output_type": "stream",
     "text": [
      " 14%|███████████▋                                                                     | 34/235 [02:32<15:12,  4.54s/it]C:\\Users\\Admin\\anaconda3\\envs\\mossf\\lib\\site-packages\\sklearn\\base.py:493: FutureWarning: The feature names should match those that were passed during fit. Starting version 1.2, an error will be raised.\n",
      "Feature names unseen at fit time:\n",
      "- rainfall\n",
      "Feature names seen at fit time, yet now missing:\n",
      "- radar_rainfall\n",
      "\n",
      "  warnings.warn(message, FutureWarning)\n"
     ]
    },
    {
     "name": "stdout",
     "output_type": "stream",
     "text": [
      "\n",
      "Processing file: D:\\1Yang\\0Research\\0_2566_radar_mosaic\\00mos_chaophraya\\00run_batch_acchr_codes\\2output\\0Hourly\\0Sontihn_RF\\0CBB_Pulse\\0output_mosaic\\2018071617_2000m.tif\n",
      "Warning: CRS not defined for D:\\1Yang\\0Research\\0_2566_radar_mosaic\\00mos_chaophraya\\00run_batch_acchr_codes\\2output\\0Hourly\\0Sontihn_RF\\0CBB_Pulse\\0output_mosaic\\2018071617_2000m.tif. Using WGS84 as default.\n",
      "Features shape: (250000, 3)\n",
      "NaN values before imputation: 114362\n",
      "NaN values after imputation: 114362\n",
      "Original data - Mean: 0.16, Max: 56.44\n",
      "Corrected data - Mean: 0.92, Max: 49.43\n"
     ]
    },
    {
     "name": "stderr",
     "output_type": "stream",
     "text": [
      " 15%|████████████                                                                     | 35/235 [02:36<15:04,  4.52s/it]C:\\Users\\Admin\\anaconda3\\envs\\mossf\\lib\\site-packages\\sklearn\\base.py:493: FutureWarning: The feature names should match those that were passed during fit. Starting version 1.2, an error will be raised.\n",
      "Feature names unseen at fit time:\n",
      "- rainfall\n",
      "Feature names seen at fit time, yet now missing:\n",
      "- radar_rainfall\n",
      "\n",
      "  warnings.warn(message, FutureWarning)\n"
     ]
    },
    {
     "name": "stdout",
     "output_type": "stream",
     "text": [
      "\n",
      "Processing file: D:\\1Yang\\0Research\\0_2566_radar_mosaic\\00mos_chaophraya\\00run_batch_acchr_codes\\2output\\0Hourly\\0Sontihn_RF\\0CBB_Pulse\\0output_mosaic\\2018071618_2000m.tif\n",
      "Warning: CRS not defined for D:\\1Yang\\0Research\\0_2566_radar_mosaic\\00mos_chaophraya\\00run_batch_acchr_codes\\2output\\0Hourly\\0Sontihn_RF\\0CBB_Pulse\\0output_mosaic\\2018071618_2000m.tif. Using WGS84 as default.\n",
      "Features shape: (250000, 3)\n",
      "NaN values before imputation: 114421\n",
      "NaN values after imputation: 114421\n",
      "Original data - Mean: 0.14, Max: 31.49\n",
      "Corrected data - Mean: 0.83, Max: 49.43\n"
     ]
    },
    {
     "name": "stderr",
     "output_type": "stream",
     "text": [
      " 15%|████████████▍                                                                    | 36/235 [02:41<14:59,  4.52s/it]C:\\Users\\Admin\\anaconda3\\envs\\mossf\\lib\\site-packages\\sklearn\\base.py:493: FutureWarning: The feature names should match those that were passed during fit. Starting version 1.2, an error will be raised.\n",
      "Feature names unseen at fit time:\n",
      "- rainfall\n",
      "Feature names seen at fit time, yet now missing:\n",
      "- radar_rainfall\n",
      "\n",
      "  warnings.warn(message, FutureWarning)\n"
     ]
    },
    {
     "name": "stdout",
     "output_type": "stream",
     "text": [
      "\n",
      "Processing file: D:\\1Yang\\0Research\\0_2566_radar_mosaic\\00mos_chaophraya\\00run_batch_acchr_codes\\2output\\0Hourly\\0Sontihn_RF\\0CBB_Pulse\\0output_mosaic\\2018071619_2000m.tif\n",
      "Warning: CRS not defined for D:\\1Yang\\0Research\\0_2566_radar_mosaic\\00mos_chaophraya\\00run_batch_acchr_codes\\2output\\0Hourly\\0Sontihn_RF\\0CBB_Pulse\\0output_mosaic\\2018071619_2000m.tif. Using WGS84 as default.\n",
      "Features shape: (250000, 3)\n",
      "NaN values before imputation: 114299\n",
      "NaN values after imputation: 114299\n",
      "Original data - Mean: 0.16, Max: 25.64\n",
      "Corrected data - Mean: 0.92, Max: 49.43\n"
     ]
    },
    {
     "name": "stderr",
     "output_type": "stream",
     "text": [
      " 16%|████████████▊                                                                    | 37/235 [02:46<14:56,  4.53s/it]C:\\Users\\Admin\\anaconda3\\envs\\mossf\\lib\\site-packages\\sklearn\\base.py:493: FutureWarning: The feature names should match those that were passed during fit. Starting version 1.2, an error will be raised.\n",
      "Feature names unseen at fit time:\n",
      "- rainfall\n",
      "Feature names seen at fit time, yet now missing:\n",
      "- radar_rainfall\n",
      "\n",
      "  warnings.warn(message, FutureWarning)\n"
     ]
    },
    {
     "name": "stdout",
     "output_type": "stream",
     "text": [
      "\n",
      "Processing file: D:\\1Yang\\0Research\\0_2566_radar_mosaic\\00mos_chaophraya\\00run_batch_acchr_codes\\2output\\0Hourly\\0Sontihn_RF\\0CBB_Pulse\\0output_mosaic\\2018071620_2000m.tif\n",
      "Warning: CRS not defined for D:\\1Yang\\0Research\\0_2566_radar_mosaic\\00mos_chaophraya\\00run_batch_acchr_codes\\2output\\0Hourly\\0Sontihn_RF\\0CBB_Pulse\\0output_mosaic\\2018071620_2000m.tif. Using WGS84 as default.\n",
      "Features shape: (250000, 3)\n",
      "NaN values before imputation: 114448\n",
      "NaN values after imputation: 114448\n",
      "Original data - Mean: 0.11, Max: 55.88\n",
      "Corrected data - Mean: 0.86, Max: 49.43\n"
     ]
    },
    {
     "name": "stderr",
     "output_type": "stream",
     "text": [
      " 16%|█████████████                                                                    | 38/235 [02:51<15:48,  4.82s/it]C:\\Users\\Admin\\anaconda3\\envs\\mossf\\lib\\site-packages\\sklearn\\base.py:493: FutureWarning: The feature names should match those that were passed during fit. Starting version 1.2, an error will be raised.\n",
      "Feature names unseen at fit time:\n",
      "- rainfall\n",
      "Feature names seen at fit time, yet now missing:\n",
      "- radar_rainfall\n",
      "\n",
      "  warnings.warn(message, FutureWarning)\n"
     ]
    },
    {
     "name": "stdout",
     "output_type": "stream",
     "text": [
      "\n",
      "Processing file: D:\\1Yang\\0Research\\0_2566_radar_mosaic\\00mos_chaophraya\\00run_batch_acchr_codes\\2output\\0Hourly\\0Sontihn_RF\\0CBB_Pulse\\0output_mosaic\\2018071621_2000m.tif\n",
      "Warning: CRS not defined for D:\\1Yang\\0Research\\0_2566_radar_mosaic\\00mos_chaophraya\\00run_batch_acchr_codes\\2output\\0Hourly\\0Sontihn_RF\\0CBB_Pulse\\0output_mosaic\\2018071621_2000m.tif. Using WGS84 as default.\n",
      "Features shape: (250000, 3)\n",
      "NaN values before imputation: 114333\n",
      "NaN values after imputation: 114333\n",
      "Original data - Mean: 0.03, Max: 18.64\n",
      "Corrected data - Mean: 0.73, Max: 49.43\n"
     ]
    },
    {
     "name": "stderr",
     "output_type": "stream",
     "text": [
      " 17%|█████████████▍                                                                   | 39/235 [02:56<15:25,  4.72s/it]C:\\Users\\Admin\\anaconda3\\envs\\mossf\\lib\\site-packages\\sklearn\\base.py:493: FutureWarning: The feature names should match those that were passed during fit. Starting version 1.2, an error will be raised.\n",
      "Feature names unseen at fit time:\n",
      "- rainfall\n",
      "Feature names seen at fit time, yet now missing:\n",
      "- radar_rainfall\n",
      "\n",
      "  warnings.warn(message, FutureWarning)\n"
     ]
    },
    {
     "name": "stdout",
     "output_type": "stream",
     "text": [
      "\n",
      "Processing file: D:\\1Yang\\0Research\\0_2566_radar_mosaic\\00mos_chaophraya\\00run_batch_acchr_codes\\2output\\0Hourly\\0Sontihn_RF\\0CBB_Pulse\\0output_mosaic\\2018071622_2000m.tif\n",
      "Warning: CRS not defined for D:\\1Yang\\0Research\\0_2566_radar_mosaic\\00mos_chaophraya\\00run_batch_acchr_codes\\2output\\0Hourly\\0Sontihn_RF\\0CBB_Pulse\\0output_mosaic\\2018071622_2000m.tif. Using WGS84 as default.\n",
      "Features shape: (250000, 3)\n",
      "NaN values before imputation: 114309\n",
      "NaN values after imputation: 114309\n",
      "Original data - Mean: 0.03, Max: 14.18\n",
      "Corrected data - Mean: 0.61, Max: 49.43\n"
     ]
    },
    {
     "name": "stderr",
     "output_type": "stream",
     "text": [
      " 17%|█████████████▊                                                                   | 40/235 [03:03<17:47,  5.47s/it]C:\\Users\\Admin\\anaconda3\\envs\\mossf\\lib\\site-packages\\sklearn\\base.py:493: FutureWarning: The feature names should match those that were passed during fit. Starting version 1.2, an error will be raised.\n",
      "Feature names unseen at fit time:\n",
      "- rainfall\n",
      "Feature names seen at fit time, yet now missing:\n",
      "- radar_rainfall\n",
      "\n",
      "  warnings.warn(message, FutureWarning)\n"
     ]
    },
    {
     "name": "stdout",
     "output_type": "stream",
     "text": [
      "\n",
      "Processing file: D:\\1Yang\\0Research\\0_2566_radar_mosaic\\00mos_chaophraya\\00run_batch_acchr_codes\\2output\\0Hourly\\0Sontihn_RF\\0CBB_Pulse\\0output_mosaic\\2018071623_2000m.tif\n",
      "Warning: CRS not defined for D:\\1Yang\\0Research\\0_2566_radar_mosaic\\00mos_chaophraya\\00run_batch_acchr_codes\\2output\\0Hourly\\0Sontihn_RF\\0CBB_Pulse\\0output_mosaic\\2018071623_2000m.tif. Using WGS84 as default.\n",
      "Features shape: (250000, 3)\n",
      "NaN values before imputation: 114367\n",
      "NaN values after imputation: 114367\n",
      "Original data - Mean: 0.03, Max: 28.18\n",
      "Corrected data - Mean: 0.56, Max: 49.43\n"
     ]
    },
    {
     "name": "stderr",
     "output_type": "stream",
     "text": [
      " 17%|██████████████▏                                                                  | 41/235 [03:07<16:55,  5.23s/it]C:\\Users\\Admin\\anaconda3\\envs\\mossf\\lib\\site-packages\\sklearn\\base.py:493: FutureWarning: The feature names should match those that were passed during fit. Starting version 1.2, an error will be raised.\n",
      "Feature names unseen at fit time:\n",
      "- rainfall\n",
      "Feature names seen at fit time, yet now missing:\n",
      "- radar_rainfall\n",
      "\n",
      "  warnings.warn(message, FutureWarning)\n"
     ]
    },
    {
     "name": "stdout",
     "output_type": "stream",
     "text": [
      "\n",
      "Processing file: D:\\1Yang\\0Research\\0_2566_radar_mosaic\\00mos_chaophraya\\00run_batch_acchr_codes\\2output\\0Hourly\\0Sontihn_RF\\0CBB_Pulse\\0output_mosaic\\2018071700_2000m.tif\n",
      "Warning: CRS not defined for D:\\1Yang\\0Research\\0_2566_radar_mosaic\\00mos_chaophraya\\00run_batch_acchr_codes\\2output\\0Hourly\\0Sontihn_RF\\0CBB_Pulse\\0output_mosaic\\2018071700_2000m.tif. Using WGS84 as default.\n",
      "Features shape: (250000, 3)\n",
      "NaN values before imputation: 114325\n",
      "NaN values after imputation: 114325\n",
      "Original data - Mean: 0.03, Max: 11.89\n",
      "Corrected data - Mean: 0.59, Max: 48.65\n"
     ]
    },
    {
     "name": "stderr",
     "output_type": "stream",
     "text": [
      " 18%|██████████████▍                                                                  | 42/235 [03:13<16:51,  5.24s/it]C:\\Users\\Admin\\anaconda3\\envs\\mossf\\lib\\site-packages\\sklearn\\base.py:493: FutureWarning: The feature names should match those that were passed during fit. Starting version 1.2, an error will be raised.\n",
      "Feature names unseen at fit time:\n",
      "- rainfall\n",
      "Feature names seen at fit time, yet now missing:\n",
      "- radar_rainfall\n",
      "\n",
      "  warnings.warn(message, FutureWarning)\n"
     ]
    },
    {
     "name": "stdout",
     "output_type": "stream",
     "text": [
      "\n",
      "Processing file: D:\\1Yang\\0Research\\0_2566_radar_mosaic\\00mos_chaophraya\\00run_batch_acchr_codes\\2output\\0Hourly\\0Sontihn_RF\\0CBB_Pulse\\0output_mosaic\\2018071701_2000m.tif\n",
      "Warning: CRS not defined for D:\\1Yang\\0Research\\0_2566_radar_mosaic\\00mos_chaophraya\\00run_batch_acchr_codes\\2output\\0Hourly\\0Sontihn_RF\\0CBB_Pulse\\0output_mosaic\\2018071701_2000m.tif. Using WGS84 as default.\n",
      "Features shape: (250000, 3)\n",
      "NaN values before imputation: 114311\n",
      "NaN values after imputation: 114311\n",
      "Original data - Mean: 0.03, Max: 9.19\n",
      "Corrected data - Mean: 0.63, Max: 22.88\n"
     ]
    },
    {
     "name": "stderr",
     "output_type": "stream",
     "text": [
      " 18%|██████████████▊                                                                  | 43/235 [03:18<16:48,  5.25s/it]C:\\Users\\Admin\\anaconda3\\envs\\mossf\\lib\\site-packages\\sklearn\\base.py:493: FutureWarning: The feature names should match those that were passed during fit. Starting version 1.2, an error will be raised.\n",
      "Feature names unseen at fit time:\n",
      "- rainfall\n",
      "Feature names seen at fit time, yet now missing:\n",
      "- radar_rainfall\n",
      "\n",
      "  warnings.warn(message, FutureWarning)\n"
     ]
    },
    {
     "name": "stdout",
     "output_type": "stream",
     "text": [
      "\n",
      "Processing file: D:\\1Yang\\0Research\\0_2566_radar_mosaic\\00mos_chaophraya\\00run_batch_acchr_codes\\2output\\0Hourly\\0Sontihn_RF\\0CBB_Pulse\\0output_mosaic\\2018071702_2000m.tif\n",
      "Warning: CRS not defined for D:\\1Yang\\0Research\\0_2566_radar_mosaic\\00mos_chaophraya\\00run_batch_acchr_codes\\2output\\0Hourly\\0Sontihn_RF\\0CBB_Pulse\\0output_mosaic\\2018071702_2000m.tif. Using WGS84 as default.\n",
      "Features shape: (250000, 3)\n",
      "NaN values before imputation: 114369\n",
      "NaN values after imputation: 114369\n",
      "Original data - Mean: 0.04, Max: 7.47\n",
      "Corrected data - Mean: 0.65, Max: 18.87\n"
     ]
    },
    {
     "name": "stderr",
     "output_type": "stream",
     "text": [
      " 19%|███████████████▏                                                                 | 44/235 [03:23<16:03,  5.05s/it]C:\\Users\\Admin\\anaconda3\\envs\\mossf\\lib\\site-packages\\sklearn\\base.py:493: FutureWarning: The feature names should match those that were passed during fit. Starting version 1.2, an error will be raised.\n",
      "Feature names unseen at fit time:\n",
      "- rainfall\n",
      "Feature names seen at fit time, yet now missing:\n",
      "- radar_rainfall\n",
      "\n",
      "  warnings.warn(message, FutureWarning)\n"
     ]
    },
    {
     "name": "stdout",
     "output_type": "stream",
     "text": [
      "\n",
      "Processing file: D:\\1Yang\\0Research\\0_2566_radar_mosaic\\00mos_chaophraya\\00run_batch_acchr_codes\\2output\\0Hourly\\0Sontihn_RF\\0CBB_Pulse\\0output_mosaic\\2018071703_2000m.tif\n",
      "Warning: CRS not defined for D:\\1Yang\\0Research\\0_2566_radar_mosaic\\00mos_chaophraya\\00run_batch_acchr_codes\\2output\\0Hourly\\0Sontihn_RF\\0CBB_Pulse\\0output_mosaic\\2018071703_2000m.tif. Using WGS84 as default.\n",
      "Features shape: (250000, 3)\n",
      "NaN values before imputation: 114294\n",
      "NaN values after imputation: 114294\n",
      "Original data - Mean: 0.04, Max: 16.87\n",
      "Corrected data - Mean: 0.76, Max: 49.43\n"
     ]
    },
    {
     "name": "stderr",
     "output_type": "stream",
     "text": [
      " 19%|███████████████▌                                                                 | 45/235 [03:27<15:27,  4.88s/it]C:\\Users\\Admin\\anaconda3\\envs\\mossf\\lib\\site-packages\\sklearn\\base.py:493: FutureWarning: The feature names should match those that were passed during fit. Starting version 1.2, an error will be raised.\n",
      "Feature names unseen at fit time:\n",
      "- rainfall\n",
      "Feature names seen at fit time, yet now missing:\n",
      "- radar_rainfall\n",
      "\n",
      "  warnings.warn(message, FutureWarning)\n"
     ]
    },
    {
     "name": "stdout",
     "output_type": "stream",
     "text": [
      "\n",
      "Processing file: D:\\1Yang\\0Research\\0_2566_radar_mosaic\\00mos_chaophraya\\00run_batch_acchr_codes\\2output\\0Hourly\\0Sontihn_RF\\0CBB_Pulse\\0output_mosaic\\2018071704_2000m.tif\n",
      "Warning: CRS not defined for D:\\1Yang\\0Research\\0_2566_radar_mosaic\\00mos_chaophraya\\00run_batch_acchr_codes\\2output\\0Hourly\\0Sontihn_RF\\0CBB_Pulse\\0output_mosaic\\2018071704_2000m.tif. Using WGS84 as default.\n",
      "Features shape: (250000, 3)\n",
      "NaN values before imputation: 114324\n",
      "NaN values after imputation: 114324\n",
      "Original data - Mean: 0.05, Max: 26.97\n",
      "Corrected data - Mean: 0.82, Max: 49.43\n"
     ]
    },
    {
     "name": "stderr",
     "output_type": "stream",
     "text": [
      " 20%|███████████████▊                                                                 | 46/235 [03:32<15:00,  4.76s/it]C:\\Users\\Admin\\anaconda3\\envs\\mossf\\lib\\site-packages\\sklearn\\base.py:493: FutureWarning: The feature names should match those that were passed during fit. Starting version 1.2, an error will be raised.\n",
      "Feature names unseen at fit time:\n",
      "- rainfall\n",
      "Feature names seen at fit time, yet now missing:\n",
      "- radar_rainfall\n",
      "\n",
      "  warnings.warn(message, FutureWarning)\n"
     ]
    },
    {
     "name": "stdout",
     "output_type": "stream",
     "text": [
      "\n",
      "Processing file: D:\\1Yang\\0Research\\0_2566_radar_mosaic\\00mos_chaophraya\\00run_batch_acchr_codes\\2output\\0Hourly\\0Sontihn_RF\\0CBB_Pulse\\0output_mosaic\\2018071705_2000m.tif\n",
      "Warning: CRS not defined for D:\\1Yang\\0Research\\0_2566_radar_mosaic\\00mos_chaophraya\\00run_batch_acchr_codes\\2output\\0Hourly\\0Sontihn_RF\\0CBB_Pulse\\0output_mosaic\\2018071705_2000m.tif. Using WGS84 as default.\n",
      "Features shape: (250000, 3)\n",
      "NaN values before imputation: 114341\n",
      "NaN values after imputation: 114341\n",
      "Original data - Mean: 0.06, Max: 33.82\n",
      "Corrected data - Mean: 0.87, Max: 49.43\n"
     ]
    },
    {
     "name": "stderr",
     "output_type": "stream",
     "text": [
      " 20%|████████████████▏                                                                | 47/235 [03:36<14:43,  4.70s/it]C:\\Users\\Admin\\anaconda3\\envs\\mossf\\lib\\site-packages\\sklearn\\base.py:493: FutureWarning: The feature names should match those that were passed during fit. Starting version 1.2, an error will be raised.\n",
      "Feature names unseen at fit time:\n",
      "- rainfall\n",
      "Feature names seen at fit time, yet now missing:\n",
      "- radar_rainfall\n",
      "\n",
      "  warnings.warn(message, FutureWarning)\n"
     ]
    },
    {
     "name": "stdout",
     "output_type": "stream",
     "text": [
      "\n",
      "Processing file: D:\\1Yang\\0Research\\0_2566_radar_mosaic\\00mos_chaophraya\\00run_batch_acchr_codes\\2output\\0Hourly\\0Sontihn_RF\\0CBB_Pulse\\0output_mosaic\\2018071706_2000m.tif\n",
      "Warning: CRS not defined for D:\\1Yang\\0Research\\0_2566_radar_mosaic\\00mos_chaophraya\\00run_batch_acchr_codes\\2output\\0Hourly\\0Sontihn_RF\\0CBB_Pulse\\0output_mosaic\\2018071706_2000m.tif. Using WGS84 as default.\n",
      "Features shape: (250000, 3)\n",
      "NaN values before imputation: 114300\n",
      "NaN values after imputation: 114300\n",
      "Original data - Mean: 0.08, Max: 43.35\n",
      "Corrected data - Mean: 0.92, Max: 49.43\n"
     ]
    },
    {
     "name": "stderr",
     "output_type": "stream",
     "text": [
      " 20%|████████████████▌                                                                | 48/235 [03:41<14:28,  4.64s/it]C:\\Users\\Admin\\anaconda3\\envs\\mossf\\lib\\site-packages\\sklearn\\base.py:493: FutureWarning: The feature names should match those that were passed during fit. Starting version 1.2, an error will be raised.\n",
      "Feature names unseen at fit time:\n",
      "- rainfall\n",
      "Feature names seen at fit time, yet now missing:\n",
      "- radar_rainfall\n",
      "\n",
      "  warnings.warn(message, FutureWarning)\n"
     ]
    },
    {
     "name": "stdout",
     "output_type": "stream",
     "text": [
      "\n",
      "Processing file: D:\\1Yang\\0Research\\0_2566_radar_mosaic\\00mos_chaophraya\\00run_batch_acchr_codes\\2output\\0Hourly\\0Sontihn_RF\\0CBB_Pulse\\0output_mosaic\\2018071707_2000m.tif\n",
      "Warning: CRS not defined for D:\\1Yang\\0Research\\0_2566_radar_mosaic\\00mos_chaophraya\\00run_batch_acchr_codes\\2output\\0Hourly\\0Sontihn_RF\\0CBB_Pulse\\0output_mosaic\\2018071707_2000m.tif. Using WGS84 as default.\n",
      "Features shape: (250000, 3)\n",
      "NaN values before imputation: 114329\n",
      "NaN values after imputation: 114329\n",
      "Original data - Mean: 0.11, Max: 40.16\n",
      "Corrected data - Mean: 0.90, Max: 49.43\n"
     ]
    },
    {
     "name": "stderr",
     "output_type": "stream",
     "text": [
      " 21%|████████████████▉                                                                | 49/235 [03:45<14:15,  4.60s/it]C:\\Users\\Admin\\anaconda3\\envs\\mossf\\lib\\site-packages\\sklearn\\base.py:493: FutureWarning: The feature names should match those that were passed during fit. Starting version 1.2, an error will be raised.\n",
      "Feature names unseen at fit time:\n",
      "- rainfall\n",
      "Feature names seen at fit time, yet now missing:\n",
      "- radar_rainfall\n",
      "\n",
      "  warnings.warn(message, FutureWarning)\n"
     ]
    },
    {
     "name": "stdout",
     "output_type": "stream",
     "text": [
      "\n",
      "Processing file: D:\\1Yang\\0Research\\0_2566_radar_mosaic\\00mos_chaophraya\\00run_batch_acchr_codes\\2output\\0Hourly\\0Sontihn_RF\\0CBB_Pulse\\0output_mosaic\\2018071708_2000m.tif\n",
      "Warning: CRS not defined for D:\\1Yang\\0Research\\0_2566_radar_mosaic\\00mos_chaophraya\\00run_batch_acchr_codes\\2output\\0Hourly\\0Sontihn_RF\\0CBB_Pulse\\0output_mosaic\\2018071708_2000m.tif. Using WGS84 as default.\n",
      "Features shape: (250000, 3)\n",
      "NaN values before imputation: 114339\n",
      "NaN values after imputation: 114339\n",
      "Original data - Mean: 0.12, Max: 35.78\n",
      "Corrected data - Mean: 0.93, Max: 49.43\n"
     ]
    },
    {
     "name": "stderr",
     "output_type": "stream",
     "text": [
      " 21%|█████████████████▏                                                               | 50/235 [03:50<14:05,  4.57s/it]C:\\Users\\Admin\\anaconda3\\envs\\mossf\\lib\\site-packages\\sklearn\\base.py:493: FutureWarning: The feature names should match those that were passed during fit. Starting version 1.2, an error will be raised.\n",
      "Feature names unseen at fit time:\n",
      "- rainfall\n",
      "Feature names seen at fit time, yet now missing:\n",
      "- radar_rainfall\n",
      "\n",
      "  warnings.warn(message, FutureWarning)\n"
     ]
    },
    {
     "name": "stdout",
     "output_type": "stream",
     "text": [
      "\n",
      "Processing file: D:\\1Yang\\0Research\\0_2566_radar_mosaic\\00mos_chaophraya\\00run_batch_acchr_codes\\2output\\0Hourly\\0Sontihn_RF\\0CBB_Pulse\\0output_mosaic\\2018071709_2000m.tif\n",
      "Warning: CRS not defined for D:\\1Yang\\0Research\\0_2566_radar_mosaic\\00mos_chaophraya\\00run_batch_acchr_codes\\2output\\0Hourly\\0Sontihn_RF\\0CBB_Pulse\\0output_mosaic\\2018071709_2000m.tif. Using WGS84 as default.\n",
      "Features shape: (250000, 3)\n",
      "NaN values before imputation: 114286\n",
      "NaN values after imputation: 114286\n",
      "Original data - Mean: 0.15, Max: 40.77\n",
      "Corrected data - Mean: 0.87, Max: 49.43\n"
     ]
    },
    {
     "name": "stderr",
     "output_type": "stream",
     "text": [
      " 22%|█████████████████▌                                                               | 51/235 [03:54<13:56,  4.54s/it]C:\\Users\\Admin\\anaconda3\\envs\\mossf\\lib\\site-packages\\sklearn\\base.py:493: FutureWarning: The feature names should match those that were passed during fit. Starting version 1.2, an error will be raised.\n",
      "Feature names unseen at fit time:\n",
      "- rainfall\n",
      "Feature names seen at fit time, yet now missing:\n",
      "- radar_rainfall\n",
      "\n",
      "  warnings.warn(message, FutureWarning)\n"
     ]
    },
    {
     "name": "stdout",
     "output_type": "stream",
     "text": [
      "\n",
      "Processing file: D:\\1Yang\\0Research\\0_2566_radar_mosaic\\00mos_chaophraya\\00run_batch_acchr_codes\\2output\\0Hourly\\0Sontihn_RF\\0CBB_Pulse\\0output_mosaic\\2018071710_2000m.tif\n",
      "Warning: CRS not defined for D:\\1Yang\\0Research\\0_2566_radar_mosaic\\00mos_chaophraya\\00run_batch_acchr_codes\\2output\\0Hourly\\0Sontihn_RF\\0CBB_Pulse\\0output_mosaic\\2018071710_2000m.tif. Using WGS84 as default.\n",
      "Features shape: (250000, 3)\n",
      "NaN values before imputation: 114357\n",
      "NaN values after imputation: 114357\n",
      "Original data - Mean: 0.15, Max: 28.53\n",
      "Corrected data - Mean: 0.78, Max: 49.43\n"
     ]
    },
    {
     "name": "stderr",
     "output_type": "stream",
     "text": [
      " 22%|█████████████████▉                                                               | 52/235 [03:59<13:48,  4.53s/it]C:\\Users\\Admin\\anaconda3\\envs\\mossf\\lib\\site-packages\\sklearn\\base.py:493: FutureWarning: The feature names should match those that were passed during fit. Starting version 1.2, an error will be raised.\n",
      "Feature names unseen at fit time:\n",
      "- rainfall\n",
      "Feature names seen at fit time, yet now missing:\n",
      "- radar_rainfall\n",
      "\n",
      "  warnings.warn(message, FutureWarning)\n"
     ]
    },
    {
     "name": "stdout",
     "output_type": "stream",
     "text": [
      "\n",
      "Processing file: D:\\1Yang\\0Research\\0_2566_radar_mosaic\\00mos_chaophraya\\00run_batch_acchr_codes\\2output\\0Hourly\\0Sontihn_RF\\0CBB_Pulse\\0output_mosaic\\2018071711_2000m.tif\n",
      "Warning: CRS not defined for D:\\1Yang\\0Research\\0_2566_radar_mosaic\\00mos_chaophraya\\00run_batch_acchr_codes\\2output\\0Hourly\\0Sontihn_RF\\0CBB_Pulse\\0output_mosaic\\2018071711_2000m.tif. Using WGS84 as default.\n",
      "Features shape: (250000, 3)\n",
      "NaN values before imputation: 114313\n",
      "NaN values after imputation: 114313\n",
      "Original data - Mean: 0.22, Max: 24.29\n",
      "Corrected data - Mean: 0.98, Max: 49.43\n"
     ]
    },
    {
     "name": "stderr",
     "output_type": "stream",
     "text": [
      " 23%|██████████████████▎                                                              | 53/235 [04:03<13:39,  4.50s/it]C:\\Users\\Admin\\anaconda3\\envs\\mossf\\lib\\site-packages\\sklearn\\base.py:493: FutureWarning: The feature names should match those that were passed during fit. Starting version 1.2, an error will be raised.\n",
      "Feature names unseen at fit time:\n",
      "- rainfall\n",
      "Feature names seen at fit time, yet now missing:\n",
      "- radar_rainfall\n",
      "\n",
      "  warnings.warn(message, FutureWarning)\n"
     ]
    },
    {
     "name": "stdout",
     "output_type": "stream",
     "text": [
      "\n",
      "Processing file: D:\\1Yang\\0Research\\0_2566_radar_mosaic\\00mos_chaophraya\\00run_batch_acchr_codes\\2output\\0Hourly\\0Sontihn_RF\\0CBB_Pulse\\0output_mosaic\\2018071712_2000m.tif\n",
      "Warning: CRS not defined for D:\\1Yang\\0Research\\0_2566_radar_mosaic\\00mos_chaophraya\\00run_batch_acchr_codes\\2output\\0Hourly\\0Sontihn_RF\\0CBB_Pulse\\0output_mosaic\\2018071712_2000m.tif. Using WGS84 as default.\n",
      "Features shape: (250000, 3)\n",
      "NaN values before imputation: 114424\n",
      "NaN values after imputation: 114424\n",
      "Original data - Mean: 0.24, Max: 23.94\n",
      "Corrected data - Mean: 1.10, Max: 49.43\n"
     ]
    },
    {
     "name": "stderr",
     "output_type": "stream",
     "text": [
      " 23%|██████████████████▌                                                              | 54/235 [04:07<13:32,  4.49s/it]C:\\Users\\Admin\\anaconda3\\envs\\mossf\\lib\\site-packages\\sklearn\\base.py:493: FutureWarning: The feature names should match those that were passed during fit. Starting version 1.2, an error will be raised.\n",
      "Feature names unseen at fit time:\n",
      "- rainfall\n",
      "Feature names seen at fit time, yet now missing:\n",
      "- radar_rainfall\n",
      "\n",
      "  warnings.warn(message, FutureWarning)\n"
     ]
    },
    {
     "name": "stdout",
     "output_type": "stream",
     "text": [
      "\n",
      "Processing file: D:\\1Yang\\0Research\\0_2566_radar_mosaic\\00mos_chaophraya\\00run_batch_acchr_codes\\2output\\0Hourly\\0Sontihn_RF\\0CBB_Pulse\\0output_mosaic\\2018071713_2000m.tif\n",
      "Warning: CRS not defined for D:\\1Yang\\0Research\\0_2566_radar_mosaic\\00mos_chaophraya\\00run_batch_acchr_codes\\2output\\0Hourly\\0Sontihn_RF\\0CBB_Pulse\\0output_mosaic\\2018071713_2000m.tif. Using WGS84 as default.\n",
      "Features shape: (250000, 3)\n",
      "NaN values before imputation: 114325\n",
      "NaN values after imputation: 114325\n",
      "Original data - Mean: 0.34, Max: 37.87\n",
      "Corrected data - Mean: 1.35, Max: 49.43\n"
     ]
    },
    {
     "name": "stderr",
     "output_type": "stream",
     "text": [
      " 23%|██████████████████▉                                                              | 55/235 [04:12<13:30,  4.50s/it]C:\\Users\\Admin\\anaconda3\\envs\\mossf\\lib\\site-packages\\sklearn\\base.py:493: FutureWarning: The feature names should match those that were passed during fit. Starting version 1.2, an error will be raised.\n",
      "Feature names unseen at fit time:\n",
      "- rainfall\n",
      "Feature names seen at fit time, yet now missing:\n",
      "- radar_rainfall\n",
      "\n",
      "  warnings.warn(message, FutureWarning)\n"
     ]
    },
    {
     "name": "stdout",
     "output_type": "stream",
     "text": [
      "\n",
      "Processing file: D:\\1Yang\\0Research\\0_2566_radar_mosaic\\00mos_chaophraya\\00run_batch_acchr_codes\\2output\\0Hourly\\0Sontihn_RF\\0CBB_Pulse\\0output_mosaic\\2018071714_2000m.tif\n",
      "Warning: CRS not defined for D:\\1Yang\\0Research\\0_2566_radar_mosaic\\00mos_chaophraya\\00run_batch_acchr_codes\\2output\\0Hourly\\0Sontihn_RF\\0CBB_Pulse\\0output_mosaic\\2018071714_2000m.tif. Using WGS84 as default.\n",
      "Features shape: (250000, 3)\n",
      "NaN values before imputation: 114313\n",
      "NaN values after imputation: 114313\n",
      "Original data - Mean: 0.43, Max: 95.33\n",
      "Corrected data - Mean: 1.56, Max: 49.43\n"
     ]
    },
    {
     "name": "stderr",
     "output_type": "stream",
     "text": [
      " 24%|███████████████████▎                                                             | 56/235 [04:16<13:24,  4.49s/it]C:\\Users\\Admin\\anaconda3\\envs\\mossf\\lib\\site-packages\\sklearn\\base.py:493: FutureWarning: The feature names should match those that were passed during fit. Starting version 1.2, an error will be raised.\n",
      "Feature names unseen at fit time:\n",
      "- rainfall\n",
      "Feature names seen at fit time, yet now missing:\n",
      "- radar_rainfall\n",
      "\n",
      "  warnings.warn(message, FutureWarning)\n"
     ]
    },
    {
     "name": "stdout",
     "output_type": "stream",
     "text": [
      "\n",
      "Processing file: D:\\1Yang\\0Research\\0_2566_radar_mosaic\\00mos_chaophraya\\00run_batch_acchr_codes\\2output\\0Hourly\\0Sontihn_RF\\0CBB_Pulse\\0output_mosaic\\2018071715_2000m.tif\n",
      "Warning: CRS not defined for D:\\1Yang\\0Research\\0_2566_radar_mosaic\\00mos_chaophraya\\00run_batch_acchr_codes\\2output\\0Hourly\\0Sontihn_RF\\0CBB_Pulse\\0output_mosaic\\2018071715_2000m.tif. Using WGS84 as default.\n",
      "Features shape: (250000, 3)\n",
      "NaN values before imputation: 114310\n",
      "NaN values after imputation: 114310\n",
      "Original data - Mean: 0.50, Max: 75.51\n",
      "Corrected data - Mean: 1.70, Max: 49.43\n"
     ]
    },
    {
     "name": "stderr",
     "output_type": "stream",
     "text": [
      " 24%|███████████████████▋                                                             | 57/235 [04:21<13:20,  4.50s/it]C:\\Users\\Admin\\anaconda3\\envs\\mossf\\lib\\site-packages\\sklearn\\base.py:493: FutureWarning: The feature names should match those that were passed during fit. Starting version 1.2, an error will be raised.\n",
      "Feature names unseen at fit time:\n",
      "- rainfall\n",
      "Feature names seen at fit time, yet now missing:\n",
      "- radar_rainfall\n",
      "\n",
      "  warnings.warn(message, FutureWarning)\n"
     ]
    },
    {
     "name": "stdout",
     "output_type": "stream",
     "text": [
      "\n",
      "Processing file: D:\\1Yang\\0Research\\0_2566_radar_mosaic\\00mos_chaophraya\\00run_batch_acchr_codes\\2output\\0Hourly\\0Sontihn_RF\\0CBB_Pulse\\0output_mosaic\\2018071716_2000m.tif\n",
      "Warning: CRS not defined for D:\\1Yang\\0Research\\0_2566_radar_mosaic\\00mos_chaophraya\\00run_batch_acchr_codes\\2output\\0Hourly\\0Sontihn_RF\\0CBB_Pulse\\0output_mosaic\\2018071716_2000m.tif. Using WGS84 as default.\n",
      "Features shape: (250000, 3)\n",
      "NaN values before imputation: 114318\n",
      "NaN values after imputation: 114318\n",
      "Original data - Mean: 0.30, Max: 63.78\n",
      "Corrected data - Mean: 1.31, Max: 49.43\n"
     ]
    },
    {
     "name": "stderr",
     "output_type": "stream",
     "text": [
      " 25%|███████████████████▉                                                             | 58/235 [04:26<13:17,  4.51s/it]C:\\Users\\Admin\\anaconda3\\envs\\mossf\\lib\\site-packages\\sklearn\\base.py:493: FutureWarning: The feature names should match those that were passed during fit. Starting version 1.2, an error will be raised.\n",
      "Feature names unseen at fit time:\n",
      "- rainfall\n",
      "Feature names seen at fit time, yet now missing:\n",
      "- radar_rainfall\n",
      "\n",
      "  warnings.warn(message, FutureWarning)\n"
     ]
    },
    {
     "name": "stdout",
     "output_type": "stream",
     "text": [
      "\n",
      "Processing file: D:\\1Yang\\0Research\\0_2566_radar_mosaic\\00mos_chaophraya\\00run_batch_acchr_codes\\2output\\0Hourly\\0Sontihn_RF\\0CBB_Pulse\\0output_mosaic\\2018071717_2000m.tif\n",
      "Warning: CRS not defined for D:\\1Yang\\0Research\\0_2566_radar_mosaic\\00mos_chaophraya\\00run_batch_acchr_codes\\2output\\0Hourly\\0Sontihn_RF\\0CBB_Pulse\\0output_mosaic\\2018071717_2000m.tif. Using WGS84 as default.\n",
      "Features shape: (250000, 3)\n",
      "NaN values before imputation: 114330\n",
      "NaN values after imputation: 114330\n",
      "Original data - Mean: 0.29, Max: 96.28\n",
      "Corrected data - Mean: 1.35, Max: 49.43\n"
     ]
    },
    {
     "name": "stderr",
     "output_type": "stream",
     "text": [
      " 25%|████████████████████▎                                                            | 59/235 [04:30<13:13,  4.51s/it]C:\\Users\\Admin\\anaconda3\\envs\\mossf\\lib\\site-packages\\sklearn\\base.py:493: FutureWarning: The feature names should match those that were passed during fit. Starting version 1.2, an error will be raised.\n",
      "Feature names unseen at fit time:\n",
      "- rainfall\n",
      "Feature names seen at fit time, yet now missing:\n",
      "- radar_rainfall\n",
      "\n",
      "  warnings.warn(message, FutureWarning)\n"
     ]
    },
    {
     "name": "stdout",
     "output_type": "stream",
     "text": [
      "\n",
      "Processing file: D:\\1Yang\\0Research\\0_2566_radar_mosaic\\00mos_chaophraya\\00run_batch_acchr_codes\\2output\\0Hourly\\0Sontihn_RF\\0CBB_Pulse\\0output_mosaic\\2018071718_2000m.tif\n",
      "Warning: CRS not defined for D:\\1Yang\\0Research\\0_2566_radar_mosaic\\00mos_chaophraya\\00run_batch_acchr_codes\\2output\\0Hourly\\0Sontihn_RF\\0CBB_Pulse\\0output_mosaic\\2018071718_2000m.tif. Using WGS84 as default.\n",
      "Features shape: (250000, 3)\n",
      "NaN values before imputation: 114333\n",
      "NaN values after imputation: 114333\n",
      "Original data - Mean: 0.35, Max: 107.79\n",
      "Corrected data - Mean: 1.40, Max: 49.43\n"
     ]
    },
    {
     "name": "stderr",
     "output_type": "stream",
     "text": [
      " 26%|████████████████████▋                                                            | 60/235 [04:35<13:10,  4.52s/it]C:\\Users\\Admin\\anaconda3\\envs\\mossf\\lib\\site-packages\\sklearn\\base.py:493: FutureWarning: The feature names should match those that were passed during fit. Starting version 1.2, an error will be raised.\n",
      "Feature names unseen at fit time:\n",
      "- rainfall\n",
      "Feature names seen at fit time, yet now missing:\n",
      "- radar_rainfall\n",
      "\n",
      "  warnings.warn(message, FutureWarning)\n"
     ]
    },
    {
     "name": "stdout",
     "output_type": "stream",
     "text": [
      "\n",
      "Processing file: D:\\1Yang\\0Research\\0_2566_radar_mosaic\\00mos_chaophraya\\00run_batch_acchr_codes\\2output\\0Hourly\\0Sontihn_RF\\0CBB_Pulse\\0output_mosaic\\2018071719_2000m.tif\n",
      "Warning: CRS not defined for D:\\1Yang\\0Research\\0_2566_radar_mosaic\\00mos_chaophraya\\00run_batch_acchr_codes\\2output\\0Hourly\\0Sontihn_RF\\0CBB_Pulse\\0output_mosaic\\2018071719_2000m.tif. Using WGS84 as default.\n",
      "Features shape: (250000, 3)\n",
      "NaN values before imputation: 114334\n",
      "NaN values after imputation: 114334\n",
      "Original data - Mean: 0.36, Max: 84.63\n",
      "Corrected data - Mean: 1.42, Max: 49.43\n"
     ]
    },
    {
     "name": "stderr",
     "output_type": "stream",
     "text": [
      " 26%|█████████████████████                                                            | 61/235 [04:39<13:08,  4.53s/it]C:\\Users\\Admin\\anaconda3\\envs\\mossf\\lib\\site-packages\\sklearn\\base.py:493: FutureWarning: The feature names should match those that were passed during fit. Starting version 1.2, an error will be raised.\n",
      "Feature names unseen at fit time:\n",
      "- rainfall\n",
      "Feature names seen at fit time, yet now missing:\n",
      "- radar_rainfall\n",
      "\n",
      "  warnings.warn(message, FutureWarning)\n"
     ]
    },
    {
     "name": "stdout",
     "output_type": "stream",
     "text": [
      "\n",
      "Processing file: D:\\1Yang\\0Research\\0_2566_radar_mosaic\\00mos_chaophraya\\00run_batch_acchr_codes\\2output\\0Hourly\\0Sontihn_RF\\0CBB_Pulse\\0output_mosaic\\2018071720_2000m.tif\n",
      "Warning: CRS not defined for D:\\1Yang\\0Research\\0_2566_radar_mosaic\\00mos_chaophraya\\00run_batch_acchr_codes\\2output\\0Hourly\\0Sontihn_RF\\0CBB_Pulse\\0output_mosaic\\2018071720_2000m.tif. Using WGS84 as default.\n",
      "Features shape: (250000, 3)\n",
      "NaN values before imputation: 114269\n",
      "NaN values after imputation: 114269\n",
      "Original data - Mean: 0.43, Max: 87.57\n",
      "Corrected data - Mean: 1.54, Max: 49.43\n"
     ]
    },
    {
     "name": "stderr",
     "output_type": "stream",
     "text": [
      " 26%|█████████████████████▎                                                           | 62/235 [04:44<13:19,  4.62s/it]C:\\Users\\Admin\\anaconda3\\envs\\mossf\\lib\\site-packages\\sklearn\\base.py:493: FutureWarning: The feature names should match those that were passed during fit. Starting version 1.2, an error will be raised.\n",
      "Feature names unseen at fit time:\n",
      "- rainfall\n",
      "Feature names seen at fit time, yet now missing:\n",
      "- radar_rainfall\n",
      "\n",
      "  warnings.warn(message, FutureWarning)\n"
     ]
    },
    {
     "name": "stdout",
     "output_type": "stream",
     "text": [
      "\n",
      "Processing file: D:\\1Yang\\0Research\\0_2566_radar_mosaic\\00mos_chaophraya\\00run_batch_acchr_codes\\2output\\0Hourly\\0Sontihn_RF\\0CBB_Pulse\\0output_mosaic\\2018071721_2000m.tif\n",
      "Warning: CRS not defined for D:\\1Yang\\0Research\\0_2566_radar_mosaic\\00mos_chaophraya\\00run_batch_acchr_codes\\2output\\0Hourly\\0Sontihn_RF\\0CBB_Pulse\\0output_mosaic\\2018071721_2000m.tif. Using WGS84 as default.\n",
      "Features shape: (250000, 3)\n",
      "NaN values before imputation: 114345\n",
      "NaN values after imputation: 114345\n",
      "Original data - Mean: 0.43, Max: 65.82\n",
      "Corrected data - Mean: 1.64, Max: 49.43\n"
     ]
    },
    {
     "name": "stderr",
     "output_type": "stream",
     "text": [
      " 27%|█████████████████████▋                                                           | 63/235 [04:48<13:09,  4.59s/it]C:\\Users\\Admin\\anaconda3\\envs\\mossf\\lib\\site-packages\\sklearn\\base.py:493: FutureWarning: The feature names should match those that were passed during fit. Starting version 1.2, an error will be raised.\n",
      "Feature names unseen at fit time:\n",
      "- rainfall\n",
      "Feature names seen at fit time, yet now missing:\n",
      "- radar_rainfall\n",
      "\n",
      "  warnings.warn(message, FutureWarning)\n"
     ]
    },
    {
     "name": "stdout",
     "output_type": "stream",
     "text": [
      "\n",
      "Processing file: D:\\1Yang\\0Research\\0_2566_radar_mosaic\\00mos_chaophraya\\00run_batch_acchr_codes\\2output\\0Hourly\\0Sontihn_RF\\0CBB_Pulse\\0output_mosaic\\2018071722_2000m.tif\n",
      "Warning: CRS not defined for D:\\1Yang\\0Research\\0_2566_radar_mosaic\\00mos_chaophraya\\00run_batch_acchr_codes\\2output\\0Hourly\\0Sontihn_RF\\0CBB_Pulse\\0output_mosaic\\2018071722_2000m.tif. Using WGS84 as default.\n",
      "Features shape: (250000, 3)\n",
      "NaN values before imputation: 114315\n",
      "NaN values after imputation: 114315\n",
      "Original data - Mean: 0.44, Max: 103.22\n",
      "Corrected data - Mean: 1.43, Max: 49.43\n"
     ]
    },
    {
     "name": "stderr",
     "output_type": "stream",
     "text": [
      " 27%|██████████████████████                                                           | 64/235 [04:53<13:03,  4.58s/it]C:\\Users\\Admin\\anaconda3\\envs\\mossf\\lib\\site-packages\\sklearn\\base.py:493: FutureWarning: The feature names should match those that were passed during fit. Starting version 1.2, an error will be raised.\n",
      "Feature names unseen at fit time:\n",
      "- rainfall\n",
      "Feature names seen at fit time, yet now missing:\n",
      "- radar_rainfall\n",
      "\n",
      "  warnings.warn(message, FutureWarning)\n"
     ]
    },
    {
     "name": "stdout",
     "output_type": "stream",
     "text": [
      "\n",
      "Processing file: D:\\1Yang\\0Research\\0_2566_radar_mosaic\\00mos_chaophraya\\00run_batch_acchr_codes\\2output\\0Hourly\\0Sontihn_RF\\0CBB_Pulse\\0output_mosaic\\2018071723_2000m.tif\n",
      "Warning: CRS not defined for D:\\1Yang\\0Research\\0_2566_radar_mosaic\\00mos_chaophraya\\00run_batch_acchr_codes\\2output\\0Hourly\\0Sontihn_RF\\0CBB_Pulse\\0output_mosaic\\2018071723_2000m.tif. Using WGS84 as default.\n",
      "Features shape: (250000, 3)\n",
      "NaN values before imputation: 114396\n",
      "NaN values after imputation: 114396\n",
      "Original data - Mean: 0.22, Max: 42.93\n",
      "Corrected data - Mean: 0.92, Max: 49.43\n"
     ]
    },
    {
     "name": "stderr",
     "output_type": "stream",
     "text": [
      " 28%|██████████████████████▍                                                          | 65/235 [04:58<12:56,  4.57s/it]C:\\Users\\Admin\\anaconda3\\envs\\mossf\\lib\\site-packages\\sklearn\\base.py:493: FutureWarning: The feature names should match those that were passed during fit. Starting version 1.2, an error will be raised.\n",
      "Feature names unseen at fit time:\n",
      "- rainfall\n",
      "Feature names seen at fit time, yet now missing:\n",
      "- radar_rainfall\n",
      "\n",
      "  warnings.warn(message, FutureWarning)\n"
     ]
    },
    {
     "name": "stdout",
     "output_type": "stream",
     "text": [
      "\n",
      "Processing file: D:\\1Yang\\0Research\\0_2566_radar_mosaic\\00mos_chaophraya\\00run_batch_acchr_codes\\2output\\0Hourly\\0Sontihn_RF\\0CBB_Pulse\\0output_mosaic\\2018071800_2000m.tif\n",
      "Warning: CRS not defined for D:\\1Yang\\0Research\\0_2566_radar_mosaic\\00mos_chaophraya\\00run_batch_acchr_codes\\2output\\0Hourly\\0Sontihn_RF\\0CBB_Pulse\\0output_mosaic\\2018071800_2000m.tif. Using WGS84 as default.\n",
      "Features shape: (250000, 3)\n",
      "NaN values before imputation: 114408\n",
      "NaN values after imputation: 114408\n",
      "Original data - Mean: 0.26, Max: 52.96\n",
      "Corrected data - Mean: 0.94, Max: 49.43\n"
     ]
    },
    {
     "name": "stderr",
     "output_type": "stream",
     "text": [
      " 28%|██████████████████████▋                                                          | 66/235 [05:02<12:59,  4.61s/it]C:\\Users\\Admin\\anaconda3\\envs\\mossf\\lib\\site-packages\\sklearn\\base.py:493: FutureWarning: The feature names should match those that were passed during fit. Starting version 1.2, an error will be raised.\n",
      "Feature names unseen at fit time:\n",
      "- rainfall\n",
      "Feature names seen at fit time, yet now missing:\n",
      "- radar_rainfall\n",
      "\n",
      "  warnings.warn(message, FutureWarning)\n"
     ]
    },
    {
     "name": "stdout",
     "output_type": "stream",
     "text": [
      "\n",
      "Processing file: D:\\1Yang\\0Research\\0_2566_radar_mosaic\\00mos_chaophraya\\00run_batch_acchr_codes\\2output\\0Hourly\\0Sontihn_RF\\0CBB_Pulse\\0output_mosaic\\2018071801_2000m.tif\n",
      "Warning: CRS not defined for D:\\1Yang\\0Research\\0_2566_radar_mosaic\\00mos_chaophraya\\00run_batch_acchr_codes\\2output\\0Hourly\\0Sontihn_RF\\0CBB_Pulse\\0output_mosaic\\2018071801_2000m.tif. Using WGS84 as default.\n",
      "Features shape: (250000, 3)\n",
      "NaN values before imputation: 114342\n",
      "NaN values after imputation: 114342\n",
      "Original data - Mean: 0.20, Max: 45.80\n",
      "Corrected data - Mean: 0.76, Max: 49.43\n"
     ]
    },
    {
     "name": "stderr",
     "output_type": "stream",
     "text": [
      " 29%|███████████████████████                                                          | 67/235 [05:07<12:52,  4.60s/it]C:\\Users\\Admin\\anaconda3\\envs\\mossf\\lib\\site-packages\\sklearn\\base.py:493: FutureWarning: The feature names should match those that were passed during fit. Starting version 1.2, an error will be raised.\n",
      "Feature names unseen at fit time:\n",
      "- rainfall\n",
      "Feature names seen at fit time, yet now missing:\n",
      "- radar_rainfall\n",
      "\n",
      "  warnings.warn(message, FutureWarning)\n"
     ]
    },
    {
     "name": "stdout",
     "output_type": "stream",
     "text": [
      "\n",
      "Processing file: D:\\1Yang\\0Research\\0_2566_radar_mosaic\\00mos_chaophraya\\00run_batch_acchr_codes\\2output\\0Hourly\\0Sontihn_RF\\0CBB_Pulse\\0output_mosaic\\2018071802_2000m.tif\n",
      "Warning: CRS not defined for D:\\1Yang\\0Research\\0_2566_radar_mosaic\\00mos_chaophraya\\00run_batch_acchr_codes\\2output\\0Hourly\\0Sontihn_RF\\0CBB_Pulse\\0output_mosaic\\2018071802_2000m.tif. Using WGS84 as default.\n",
      "Features shape: (250000, 3)\n",
      "NaN values before imputation: 114428\n",
      "NaN values after imputation: 114428\n",
      "Original data - Mean: 0.10, Max: 33.08\n",
      "Corrected data - Mean: 0.56, Max: 49.43\n"
     ]
    },
    {
     "name": "stderr",
     "output_type": "stream",
     "text": [
      " 29%|███████████████████████▍                                                         | 68/235 [05:11<12:42,  4.57s/it]C:\\Users\\Admin\\anaconda3\\envs\\mossf\\lib\\site-packages\\sklearn\\base.py:493: FutureWarning: The feature names should match those that were passed during fit. Starting version 1.2, an error will be raised.\n",
      "Feature names unseen at fit time:\n",
      "- rainfall\n",
      "Feature names seen at fit time, yet now missing:\n",
      "- radar_rainfall\n",
      "\n",
      "  warnings.warn(message, FutureWarning)\n"
     ]
    },
    {
     "name": "stdout",
     "output_type": "stream",
     "text": [
      "\n",
      "Processing file: D:\\1Yang\\0Research\\0_2566_radar_mosaic\\00mos_chaophraya\\00run_batch_acchr_codes\\2output\\0Hourly\\0Sontihn_RF\\0CBB_Pulse\\0output_mosaic\\2018071803_2000m.tif\n",
      "Warning: CRS not defined for D:\\1Yang\\0Research\\0_2566_radar_mosaic\\00mos_chaophraya\\00run_batch_acchr_codes\\2output\\0Hourly\\0Sontihn_RF\\0CBB_Pulse\\0output_mosaic\\2018071803_2000m.tif. Using WGS84 as default.\n",
      "Features shape: (250000, 3)\n",
      "NaN values before imputation: 114351\n",
      "NaN values after imputation: 114351\n",
      "Original data - Mean: 0.13, Max: 43.60\n",
      "Corrected data - Mean: 0.65, Max: 49.43\n"
     ]
    },
    {
     "name": "stderr",
     "output_type": "stream",
     "text": [
      " 29%|███████████████████████▊                                                         | 69/235 [05:16<13:03,  4.72s/it]C:\\Users\\Admin\\anaconda3\\envs\\mossf\\lib\\site-packages\\sklearn\\base.py:493: FutureWarning: The feature names should match those that were passed during fit. Starting version 1.2, an error will be raised.\n",
      "Feature names unseen at fit time:\n",
      "- rainfall\n",
      "Feature names seen at fit time, yet now missing:\n",
      "- radar_rainfall\n",
      "\n",
      "  warnings.warn(message, FutureWarning)\n"
     ]
    },
    {
     "name": "stdout",
     "output_type": "stream",
     "text": [
      "\n",
      "Processing file: D:\\1Yang\\0Research\\0_2566_radar_mosaic\\00mos_chaophraya\\00run_batch_acchr_codes\\2output\\0Hourly\\0Sontihn_RF\\0CBB_Pulse\\0output_mosaic\\2018071804_2000m.tif\n",
      "Warning: CRS not defined for D:\\1Yang\\0Research\\0_2566_radar_mosaic\\00mos_chaophraya\\00run_batch_acchr_codes\\2output\\0Hourly\\0Sontihn_RF\\0CBB_Pulse\\0output_mosaic\\2018071804_2000m.tif. Using WGS84 as default.\n",
      "Features shape: (250000, 3)\n",
      "NaN values before imputation: 114340\n",
      "NaN values after imputation: 114340\n",
      "Original data - Mean: 0.13, Max: 36.17\n",
      "Corrected data - Mean: 0.60, Max: 49.43\n"
     ]
    },
    {
     "name": "stderr",
     "output_type": "stream",
     "text": [
      " 30%|████████████████████████▏                                                        | 70/235 [05:21<12:50,  4.67s/it]C:\\Users\\Admin\\anaconda3\\envs\\mossf\\lib\\site-packages\\sklearn\\base.py:493: FutureWarning: The feature names should match those that were passed during fit. Starting version 1.2, an error will be raised.\n",
      "Feature names unseen at fit time:\n",
      "- rainfall\n",
      "Feature names seen at fit time, yet now missing:\n",
      "- radar_rainfall\n",
      "\n",
      "  warnings.warn(message, FutureWarning)\n"
     ]
    },
    {
     "name": "stdout",
     "output_type": "stream",
     "text": [
      "\n",
      "Processing file: D:\\1Yang\\0Research\\0_2566_radar_mosaic\\00mos_chaophraya\\00run_batch_acchr_codes\\2output\\0Hourly\\0Sontihn_RF\\0CBB_Pulse\\0output_mosaic\\2018071805_2000m.tif\n",
      "Warning: CRS not defined for D:\\1Yang\\0Research\\0_2566_radar_mosaic\\00mos_chaophraya\\00run_batch_acchr_codes\\2output\\0Hourly\\0Sontihn_RF\\0CBB_Pulse\\0output_mosaic\\2018071805_2000m.tif. Using WGS84 as default.\n",
      "Features shape: (250000, 3)\n",
      "NaN values before imputation: 114324\n",
      "NaN values after imputation: 114324\n",
      "Original data - Mean: 0.14, Max: 40.99\n",
      "Corrected data - Mean: 0.64, Max: 49.43\n"
     ]
    },
    {
     "name": "stderr",
     "output_type": "stream",
     "text": [
      " 30%|████████████████████████▍                                                        | 71/235 [05:26<12:39,  4.63s/it]C:\\Users\\Admin\\anaconda3\\envs\\mossf\\lib\\site-packages\\sklearn\\base.py:493: FutureWarning: The feature names should match those that were passed during fit. Starting version 1.2, an error will be raised.\n",
      "Feature names unseen at fit time:\n",
      "- rainfall\n",
      "Feature names seen at fit time, yet now missing:\n",
      "- radar_rainfall\n",
      "\n",
      "  warnings.warn(message, FutureWarning)\n"
     ]
    },
    {
     "name": "stdout",
     "output_type": "stream",
     "text": [
      "\n",
      "Processing file: D:\\1Yang\\0Research\\0_2566_radar_mosaic\\00mos_chaophraya\\00run_batch_acchr_codes\\2output\\0Hourly\\0Sontihn_RF\\0CBB_Pulse\\0output_mosaic\\2018071806_2000m.tif\n",
      "Warning: CRS not defined for D:\\1Yang\\0Research\\0_2566_radar_mosaic\\00mos_chaophraya\\00run_batch_acchr_codes\\2output\\0Hourly\\0Sontihn_RF\\0CBB_Pulse\\0output_mosaic\\2018071806_2000m.tif. Using WGS84 as default.\n",
      "Features shape: (250000, 3)\n",
      "NaN values before imputation: 114348\n",
      "NaN values after imputation: 114348\n",
      "Original data - Mean: 0.09, Max: 19.58\n",
      "Corrected data - Mean: 0.46, Max: 49.43\n"
     ]
    },
    {
     "name": "stderr",
     "output_type": "stream",
     "text": [
      " 31%|████████████████████████▊                                                        | 72/235 [05:30<12:35,  4.63s/it]C:\\Users\\Admin\\anaconda3\\envs\\mossf\\lib\\site-packages\\sklearn\\base.py:493: FutureWarning: The feature names should match those that were passed during fit. Starting version 1.2, an error will be raised.\n",
      "Feature names unseen at fit time:\n",
      "- rainfall\n",
      "Feature names seen at fit time, yet now missing:\n",
      "- radar_rainfall\n",
      "\n",
      "  warnings.warn(message, FutureWarning)\n"
     ]
    },
    {
     "name": "stdout",
     "output_type": "stream",
     "text": [
      "\n",
      "Processing file: D:\\1Yang\\0Research\\0_2566_radar_mosaic\\00mos_chaophraya\\00run_batch_acchr_codes\\2output\\0Hourly\\0Sontihn_RF\\0CBB_Pulse\\0output_mosaic\\2018071807_2000m.tif\n",
      "Warning: CRS not defined for D:\\1Yang\\0Research\\0_2566_radar_mosaic\\00mos_chaophraya\\00run_batch_acchr_codes\\2output\\0Hourly\\0Sontihn_RF\\0CBB_Pulse\\0output_mosaic\\2018071807_2000m.tif. Using WGS84 as default.\n",
      "Features shape: (250000, 3)\n",
      "NaN values before imputation: 114283\n",
      "NaN values after imputation: 114283\n",
      "Original data - Mean: 0.03, Max: 13.84\n",
      "Corrected data - Mean: 0.32, Max: 49.43\n"
     ]
    },
    {
     "name": "stderr",
     "output_type": "stream",
     "text": [
      " 31%|█████████████████████████▏                                                       | 73/235 [05:35<12:24,  4.60s/it]C:\\Users\\Admin\\anaconda3\\envs\\mossf\\lib\\site-packages\\sklearn\\base.py:493: FutureWarning: The feature names should match those that were passed during fit. Starting version 1.2, an error will be raised.\n",
      "Feature names unseen at fit time:\n",
      "- rainfall\n",
      "Feature names seen at fit time, yet now missing:\n",
      "- radar_rainfall\n",
      "\n",
      "  warnings.warn(message, FutureWarning)\n"
     ]
    },
    {
     "name": "stdout",
     "output_type": "stream",
     "text": [
      "\n",
      "Processing file: D:\\1Yang\\0Research\\0_2566_radar_mosaic\\00mos_chaophraya\\00run_batch_acchr_codes\\2output\\0Hourly\\0Sontihn_RF\\0CBB_Pulse\\0output_mosaic\\2018071808_2000m.tif\n",
      "Warning: CRS not defined for D:\\1Yang\\0Research\\0_2566_radar_mosaic\\00mos_chaophraya\\00run_batch_acchr_codes\\2output\\0Hourly\\0Sontihn_RF\\0CBB_Pulse\\0output_mosaic\\2018071808_2000m.tif. Using WGS84 as default.\n",
      "Features shape: (250000, 3)\n",
      "NaN values before imputation: 114339\n",
      "NaN values after imputation: 114339\n",
      "Original data - Mean: 0.03, Max: 13.80\n",
      "Corrected data - Mean: 0.25, Max: 49.43\n"
     ]
    },
    {
     "name": "stderr",
     "output_type": "stream",
     "text": [
      " 31%|█████████████████████████▌                                                       | 74/235 [05:39<12:16,  4.58s/it]C:\\Users\\Admin\\anaconda3\\envs\\mossf\\lib\\site-packages\\sklearn\\base.py:493: FutureWarning: The feature names should match those that were passed during fit. Starting version 1.2, an error will be raised.\n",
      "Feature names unseen at fit time:\n",
      "- rainfall\n",
      "Feature names seen at fit time, yet now missing:\n",
      "- radar_rainfall\n",
      "\n",
      "  warnings.warn(message, FutureWarning)\n"
     ]
    },
    {
     "name": "stdout",
     "output_type": "stream",
     "text": [
      "\n",
      "Processing file: D:\\1Yang\\0Research\\0_2566_radar_mosaic\\00mos_chaophraya\\00run_batch_acchr_codes\\2output\\0Hourly\\0Sontihn_RF\\0CBB_Pulse\\0output_mosaic\\2018071809_2000m.tif\n",
      "Warning: CRS not defined for D:\\1Yang\\0Research\\0_2566_radar_mosaic\\00mos_chaophraya\\00run_batch_acchr_codes\\2output\\0Hourly\\0Sontihn_RF\\0CBB_Pulse\\0output_mosaic\\2018071809_2000m.tif. Using WGS84 as default.\n",
      "Features shape: (250000, 3)\n",
      "NaN values before imputation: 114340\n",
      "NaN values after imputation: 114340\n",
      "Original data - Mean: 0.05, Max: 27.41\n",
      "Corrected data - Mean: 0.27, Max: 49.43\n"
     ]
    },
    {
     "name": "stderr",
     "output_type": "stream",
     "text": [
      " 32%|█████████████████████████▊                                                       | 75/235 [05:44<12:12,  4.58s/it]C:\\Users\\Admin\\anaconda3\\envs\\mossf\\lib\\site-packages\\sklearn\\base.py:493: FutureWarning: The feature names should match those that were passed during fit. Starting version 1.2, an error will be raised.\n",
      "Feature names unseen at fit time:\n",
      "- rainfall\n",
      "Feature names seen at fit time, yet now missing:\n",
      "- radar_rainfall\n",
      "\n",
      "  warnings.warn(message, FutureWarning)\n"
     ]
    },
    {
     "name": "stdout",
     "output_type": "stream",
     "text": [
      "\n",
      "Processing file: D:\\1Yang\\0Research\\0_2566_radar_mosaic\\00mos_chaophraya\\00run_batch_acchr_codes\\2output\\0Hourly\\0Sontihn_RF\\0CBB_Pulse\\0output_mosaic\\2018071810_2000m.tif\n",
      "Warning: CRS not defined for D:\\1Yang\\0Research\\0_2566_radar_mosaic\\00mos_chaophraya\\00run_batch_acchr_codes\\2output\\0Hourly\\0Sontihn_RF\\0CBB_Pulse\\0output_mosaic\\2018071810_2000m.tif. Using WGS84 as default.\n",
      "Features shape: (250000, 3)\n",
      "NaN values before imputation: 114336\n",
      "NaN values after imputation: 114336\n",
      "Original data - Mean: 0.08, Max: 59.13\n",
      "Corrected data - Mean: 0.29, Max: 49.43\n"
     ]
    },
    {
     "name": "stderr",
     "output_type": "stream",
     "text": [
      " 32%|██████████████████████████▏                                                      | 76/235 [05:48<12:06,  4.57s/it]C:\\Users\\Admin\\anaconda3\\envs\\mossf\\lib\\site-packages\\sklearn\\base.py:493: FutureWarning: The feature names should match those that were passed during fit. Starting version 1.2, an error will be raised.\n",
      "Feature names unseen at fit time:\n",
      "- rainfall\n",
      "Feature names seen at fit time, yet now missing:\n",
      "- radar_rainfall\n",
      "\n",
      "  warnings.warn(message, FutureWarning)\n"
     ]
    },
    {
     "name": "stdout",
     "output_type": "stream",
     "text": [
      "\n",
      "Processing file: D:\\1Yang\\0Research\\0_2566_radar_mosaic\\00mos_chaophraya\\00run_batch_acchr_codes\\2output\\0Hourly\\0Sontihn_RF\\0CBB_Pulse\\0output_mosaic\\2018071811_2000m.tif\n",
      "Warning: CRS not defined for D:\\1Yang\\0Research\\0_2566_radar_mosaic\\00mos_chaophraya\\00run_batch_acchr_codes\\2output\\0Hourly\\0Sontihn_RF\\0CBB_Pulse\\0output_mosaic\\2018071811_2000m.tif. Using WGS84 as default.\n",
      "Features shape: (250000, 3)\n",
      "NaN values before imputation: 114346\n",
      "NaN values after imputation: 114346\n",
      "Original data - Mean: 0.02, Max: 6.45\n",
      "Corrected data - Mean: 0.14, Max: 17.22\n"
     ]
    },
    {
     "name": "stderr",
     "output_type": "stream",
     "text": [
      " 33%|██████████████████████████▌                                                      | 77/235 [05:53<12:00,  4.56s/it]C:\\Users\\Admin\\anaconda3\\envs\\mossf\\lib\\site-packages\\sklearn\\base.py:493: FutureWarning: The feature names should match those that were passed during fit. Starting version 1.2, an error will be raised.\n",
      "Feature names unseen at fit time:\n",
      "- rainfall\n",
      "Feature names seen at fit time, yet now missing:\n",
      "- radar_rainfall\n",
      "\n",
      "  warnings.warn(message, FutureWarning)\n"
     ]
    },
    {
     "name": "stdout",
     "output_type": "stream",
     "text": [
      "\n",
      "Processing file: D:\\1Yang\\0Research\\0_2566_radar_mosaic\\00mos_chaophraya\\00run_batch_acchr_codes\\2output\\0Hourly\\0Sontihn_RF\\0CBB_Pulse\\0output_mosaic\\2018071812_2000m.tif\n",
      "Warning: CRS not defined for D:\\1Yang\\0Research\\0_2566_radar_mosaic\\00mos_chaophraya\\00run_batch_acchr_codes\\2output\\0Hourly\\0Sontihn_RF\\0CBB_Pulse\\0output_mosaic\\2018071812_2000m.tif. Using WGS84 as default.\n",
      "Features shape: (250000, 3)\n",
      "NaN values before imputation: 114372\n",
      "NaN values after imputation: 114372\n",
      "Original data - Mean: 0.03, Max: 30.12\n",
      "Corrected data - Mean: 0.19, Max: 49.43\n"
     ]
    },
    {
     "name": "stderr",
     "output_type": "stream",
     "text": [
      " 33%|██████████████████████████▉                                                      | 78/235 [05:57<11:57,  4.57s/it]C:\\Users\\Admin\\anaconda3\\envs\\mossf\\lib\\site-packages\\sklearn\\base.py:493: FutureWarning: The feature names should match those that were passed during fit. Starting version 1.2, an error will be raised.\n",
      "Feature names unseen at fit time:\n",
      "- rainfall\n",
      "Feature names seen at fit time, yet now missing:\n",
      "- radar_rainfall\n",
      "\n",
      "  warnings.warn(message, FutureWarning)\n"
     ]
    },
    {
     "name": "stdout",
     "output_type": "stream",
     "text": [
      "\n",
      "Processing file: D:\\1Yang\\0Research\\0_2566_radar_mosaic\\00mos_chaophraya\\00run_batch_acchr_codes\\2output\\0Hourly\\0Sontihn_RF\\0CBB_Pulse\\0output_mosaic\\2018071813_2000m.tif\n",
      "Warning: CRS not defined for D:\\1Yang\\0Research\\0_2566_radar_mosaic\\00mos_chaophraya\\00run_batch_acchr_codes\\2output\\0Hourly\\0Sontihn_RF\\0CBB_Pulse\\0output_mosaic\\2018071813_2000m.tif. Using WGS84 as default.\n",
      "Features shape: (250000, 3)\n",
      "NaN values before imputation: 114314\n",
      "NaN values after imputation: 114314\n",
      "Original data - Mean: 0.05, Max: 56.30\n",
      "Corrected data - Mean: 0.30, Max: 49.43\n"
     ]
    },
    {
     "name": "stderr",
     "output_type": "stream",
     "text": [
      " 34%|███████████████████████████▏                                                     | 79/235 [06:02<11:53,  4.57s/it]C:\\Users\\Admin\\anaconda3\\envs\\mossf\\lib\\site-packages\\sklearn\\base.py:493: FutureWarning: The feature names should match those that were passed during fit. Starting version 1.2, an error will be raised.\n",
      "Feature names unseen at fit time:\n",
      "- rainfall\n",
      "Feature names seen at fit time, yet now missing:\n",
      "- radar_rainfall\n",
      "\n",
      "  warnings.warn(message, FutureWarning)\n"
     ]
    },
    {
     "name": "stdout",
     "output_type": "stream",
     "text": [
      "\n",
      "Processing file: D:\\1Yang\\0Research\\0_2566_radar_mosaic\\00mos_chaophraya\\00run_batch_acchr_codes\\2output\\0Hourly\\0Sontihn_RF\\0CBB_Pulse\\0output_mosaic\\2018071814_2000m.tif\n",
      "Warning: CRS not defined for D:\\1Yang\\0Research\\0_2566_radar_mosaic\\00mos_chaophraya\\00run_batch_acchr_codes\\2output\\0Hourly\\0Sontihn_RF\\0CBB_Pulse\\0output_mosaic\\2018071814_2000m.tif. Using WGS84 as default.\n",
      "Features shape: (250000, 3)\n",
      "NaN values before imputation: 114345\n",
      "NaN values after imputation: 114345\n",
      "Original data - Mean: 0.06, Max: 47.85\n",
      "Corrected data - Mean: 0.38, Max: 49.43\n"
     ]
    },
    {
     "name": "stderr",
     "output_type": "stream",
     "text": [
      " 34%|███████████████████████████▌                                                     | 80/235 [06:07<11:51,  4.59s/it]C:\\Users\\Admin\\anaconda3\\envs\\mossf\\lib\\site-packages\\sklearn\\base.py:493: FutureWarning: The feature names should match those that were passed during fit. Starting version 1.2, an error will be raised.\n",
      "Feature names unseen at fit time:\n",
      "- rainfall\n",
      "Feature names seen at fit time, yet now missing:\n",
      "- radar_rainfall\n",
      "\n",
      "  warnings.warn(message, FutureWarning)\n"
     ]
    },
    {
     "name": "stdout",
     "output_type": "stream",
     "text": [
      "\n",
      "Processing file: D:\\1Yang\\0Research\\0_2566_radar_mosaic\\00mos_chaophraya\\00run_batch_acchr_codes\\2output\\0Hourly\\0Sontihn_RF\\0CBB_Pulse\\0output_mosaic\\2018071815_2000m.tif\n",
      "Warning: CRS not defined for D:\\1Yang\\0Research\\0_2566_radar_mosaic\\00mos_chaophraya\\00run_batch_acchr_codes\\2output\\0Hourly\\0Sontihn_RF\\0CBB_Pulse\\0output_mosaic\\2018071815_2000m.tif. Using WGS84 as default.\n",
      "Features shape: (250000, 3)\n",
      "NaN values before imputation: 114330\n",
      "NaN values after imputation: 114330\n",
      "Original data - Mean: 0.16, Max: 168.21\n",
      "Corrected data - Mean: 0.58, Max: 49.43\n"
     ]
    },
    {
     "name": "stderr",
     "output_type": "stream",
     "text": [
      " 34%|███████████████████████████▉                                                     | 81/235 [06:12<12:31,  4.88s/it]C:\\Users\\Admin\\anaconda3\\envs\\mossf\\lib\\site-packages\\sklearn\\base.py:493: FutureWarning: The feature names should match those that were passed during fit. Starting version 1.2, an error will be raised.\n",
      "Feature names unseen at fit time:\n",
      "- rainfall\n",
      "Feature names seen at fit time, yet now missing:\n",
      "- radar_rainfall\n",
      "\n",
      "  warnings.warn(message, FutureWarning)\n"
     ]
    },
    {
     "name": "stdout",
     "output_type": "stream",
     "text": [
      "\n",
      "Processing file: D:\\1Yang\\0Research\\0_2566_radar_mosaic\\00mos_chaophraya\\00run_batch_acchr_codes\\2output\\0Hourly\\0Sontihn_RF\\0CBB_Pulse\\0output_mosaic\\2018071816_2000m.tif\n",
      "Warning: CRS not defined for D:\\1Yang\\0Research\\0_2566_radar_mosaic\\00mos_chaophraya\\00run_batch_acchr_codes\\2output\\0Hourly\\0Sontihn_RF\\0CBB_Pulse\\0output_mosaic\\2018071816_2000m.tif. Using WGS84 as default.\n",
      "Features shape: (250000, 3)\n",
      "NaN values before imputation: 114326\n",
      "NaN values after imputation: 114326\n",
      "Original data - Mean: 0.15, Max: 80.63\n",
      "Corrected data - Mean: 0.56, Max: 49.43\n"
     ]
    },
    {
     "name": "stderr",
     "output_type": "stream",
     "text": [
      " 35%|████████████████████████████▎                                                    | 82/235 [06:17<12:11,  4.78s/it]C:\\Users\\Admin\\anaconda3\\envs\\mossf\\lib\\site-packages\\sklearn\\base.py:493: FutureWarning: The feature names should match those that were passed during fit. Starting version 1.2, an error will be raised.\n",
      "Feature names unseen at fit time:\n",
      "- rainfall\n",
      "Feature names seen at fit time, yet now missing:\n",
      "- radar_rainfall\n",
      "\n",
      "  warnings.warn(message, FutureWarning)\n"
     ]
    },
    {
     "name": "stdout",
     "output_type": "stream",
     "text": [
      "\n",
      "Processing file: D:\\1Yang\\0Research\\0_2566_radar_mosaic\\00mos_chaophraya\\00run_batch_acchr_codes\\2output\\0Hourly\\0Sontihn_RF\\0CBB_Pulse\\0output_mosaic\\2018071817_2000m.tif\n",
      "Warning: CRS not defined for D:\\1Yang\\0Research\\0_2566_radar_mosaic\\00mos_chaophraya\\00run_batch_acchr_codes\\2output\\0Hourly\\0Sontihn_RF\\0CBB_Pulse\\0output_mosaic\\2018071817_2000m.tif. Using WGS84 as default.\n",
      "Features shape: (250000, 3)\n",
      "NaN values before imputation: 114343\n",
      "NaN values after imputation: 114343\n",
      "Original data - Mean: 0.26, Max: 107.48\n",
      "Corrected data - Mean: 0.84, Max: 49.43\n"
     ]
    },
    {
     "name": "stderr",
     "output_type": "stream",
     "text": [
      " 35%|████████████████████████████▌                                                    | 83/235 [06:21<11:54,  4.70s/it]C:\\Users\\Admin\\anaconda3\\envs\\mossf\\lib\\site-packages\\sklearn\\base.py:493: FutureWarning: The feature names should match those that were passed during fit. Starting version 1.2, an error will be raised.\n",
      "Feature names unseen at fit time:\n",
      "- rainfall\n",
      "Feature names seen at fit time, yet now missing:\n",
      "- radar_rainfall\n",
      "\n",
      "  warnings.warn(message, FutureWarning)\n"
     ]
    },
    {
     "name": "stdout",
     "output_type": "stream",
     "text": [
      "\n",
      "Processing file: D:\\1Yang\\0Research\\0_2566_radar_mosaic\\00mos_chaophraya\\00run_batch_acchr_codes\\2output\\0Hourly\\0Sontihn_RF\\0CBB_Pulse\\0output_mosaic\\2018071818_2000m.tif\n",
      "Warning: CRS not defined for D:\\1Yang\\0Research\\0_2566_radar_mosaic\\00mos_chaophraya\\00run_batch_acchr_codes\\2output\\0Hourly\\0Sontihn_RF\\0CBB_Pulse\\0output_mosaic\\2018071818_2000m.tif. Using WGS84 as default.\n",
      "Features shape: (250000, 3)\n",
      "NaN values before imputation: 114319\n",
      "NaN values after imputation: 114319\n",
      "Original data - Mean: 0.45, Max: 143.93\n",
      "Corrected data - Mean: 1.19, Max: 49.43\n"
     ]
    },
    {
     "name": "stderr",
     "output_type": "stream",
     "text": [
      " 36%|████████████████████████████▉                                                    | 84/235 [06:26<11:44,  4.67s/it]C:\\Users\\Admin\\anaconda3\\envs\\mossf\\lib\\site-packages\\sklearn\\base.py:493: FutureWarning: The feature names should match those that were passed during fit. Starting version 1.2, an error will be raised.\n",
      "Feature names unseen at fit time:\n",
      "- rainfall\n",
      "Feature names seen at fit time, yet now missing:\n",
      "- radar_rainfall\n",
      "\n",
      "  warnings.warn(message, FutureWarning)\n"
     ]
    },
    {
     "name": "stdout",
     "output_type": "stream",
     "text": [
      "\n",
      "Processing file: D:\\1Yang\\0Research\\0_2566_radar_mosaic\\00mos_chaophraya\\00run_batch_acchr_codes\\2output\\0Hourly\\0Sontihn_RF\\0CBB_Pulse\\0output_mosaic\\2018071819_2000m.tif\n",
      "Warning: CRS not defined for D:\\1Yang\\0Research\\0_2566_radar_mosaic\\00mos_chaophraya\\00run_batch_acchr_codes\\2output\\0Hourly\\0Sontihn_RF\\0CBB_Pulse\\0output_mosaic\\2018071819_2000m.tif. Using WGS84 as default.\n",
      "Features shape: (250000, 3)\n",
      "NaN values before imputation: 122038\n",
      "NaN values after imputation: 122038\n",
      "Original data - Mean: 0.11, Max: 81.95\n",
      "Corrected data - Mean: 0.32, Max: 49.43\n"
     ]
    },
    {
     "name": "stderr",
     "output_type": "stream",
     "text": [
      " 36%|█████████████████████████████▎                                                   | 85/235 [06:30<11:31,  4.61s/it]C:\\Users\\Admin\\anaconda3\\envs\\mossf\\lib\\site-packages\\sklearn\\base.py:493: FutureWarning: The feature names should match those that were passed during fit. Starting version 1.2, an error will be raised.\n",
      "Feature names unseen at fit time:\n",
      "- rainfall\n",
      "Feature names seen at fit time, yet now missing:\n",
      "- radar_rainfall\n",
      "\n",
      "  warnings.warn(message, FutureWarning)\n"
     ]
    },
    {
     "name": "stdout",
     "output_type": "stream",
     "text": [
      "\n",
      "Processing file: D:\\1Yang\\0Research\\0_2566_radar_mosaic\\00mos_chaophraya\\00run_batch_acchr_codes\\2output\\0Hourly\\0Sontihn_RF\\0CBB_Pulse\\0output_mosaic\\2018071820_2000m.tif\n",
      "Warning: CRS not defined for D:\\1Yang\\0Research\\0_2566_radar_mosaic\\00mos_chaophraya\\00run_batch_acchr_codes\\2output\\0Hourly\\0Sontihn_RF\\0CBB_Pulse\\0output_mosaic\\2018071820_2000m.tif. Using WGS84 as default.\n",
      "Features shape: (250000, 3)\n",
      "NaN values before imputation: 122050\n",
      "NaN values after imputation: 122050\n",
      "Original data - Mean: 0.10, Max: 85.75\n",
      "Corrected data - Mean: 0.31, Max: 49.43\n"
     ]
    },
    {
     "name": "stderr",
     "output_type": "stream",
     "text": [
      " 37%|█████████████████████████████▋                                                   | 86/235 [06:35<11:23,  4.59s/it]C:\\Users\\Admin\\anaconda3\\envs\\mossf\\lib\\site-packages\\sklearn\\base.py:493: FutureWarning: The feature names should match those that were passed during fit. Starting version 1.2, an error will be raised.\n",
      "Feature names unseen at fit time:\n",
      "- rainfall\n",
      "Feature names seen at fit time, yet now missing:\n",
      "- radar_rainfall\n",
      "\n",
      "  warnings.warn(message, FutureWarning)\n"
     ]
    },
    {
     "name": "stdout",
     "output_type": "stream",
     "text": [
      "\n",
      "Processing file: D:\\1Yang\\0Research\\0_2566_radar_mosaic\\00mos_chaophraya\\00run_batch_acchr_codes\\2output\\0Hourly\\0Sontihn_RF\\0CBB_Pulse\\0output_mosaic\\2018071821_2000m.tif\n",
      "Warning: CRS not defined for D:\\1Yang\\0Research\\0_2566_radar_mosaic\\00mos_chaophraya\\00run_batch_acchr_codes\\2output\\0Hourly\\0Sontihn_RF\\0CBB_Pulse\\0output_mosaic\\2018071821_2000m.tif. Using WGS84 as default.\n",
      "Features shape: (250000, 3)\n",
      "NaN values before imputation: 114275\n",
      "NaN values after imputation: 114275\n",
      "Original data - Mean: 0.21, Max: 121.95\n",
      "Corrected data - Mean: 0.66, Max: 49.43\n"
     ]
    },
    {
     "name": "stderr",
     "output_type": "stream",
     "text": [
      " 37%|█████████████████████████████▉                                                   | 87/235 [06:40<11:20,  4.60s/it]C:\\Users\\Admin\\anaconda3\\envs\\mossf\\lib\\site-packages\\sklearn\\base.py:493: FutureWarning: The feature names should match those that were passed during fit. Starting version 1.2, an error will be raised.\n",
      "Feature names unseen at fit time:\n",
      "- rainfall\n",
      "Feature names seen at fit time, yet now missing:\n",
      "- radar_rainfall\n",
      "\n",
      "  warnings.warn(message, FutureWarning)\n"
     ]
    },
    {
     "name": "stdout",
     "output_type": "stream",
     "text": [
      "\n",
      "Processing file: D:\\1Yang\\0Research\\0_2566_radar_mosaic\\00mos_chaophraya\\00run_batch_acchr_codes\\2output\\0Hourly\\0Sontihn_RF\\0CBB_Pulse\\0output_mosaic\\2018071822_2000m.tif\n",
      "Warning: CRS not defined for D:\\1Yang\\0Research\\0_2566_radar_mosaic\\00mos_chaophraya\\00run_batch_acchr_codes\\2output\\0Hourly\\0Sontihn_RF\\0CBB_Pulse\\0output_mosaic\\2018071822_2000m.tif. Using WGS84 as default.\n",
      "Features shape: (250000, 3)\n",
      "NaN values before imputation: 114330\n",
      "NaN values after imputation: 114330\n",
      "Original data - Mean: 0.16, Max: 110.95\n",
      "Corrected data - Mean: 0.58, Max: 49.43\n"
     ]
    },
    {
     "name": "stderr",
     "output_type": "stream",
     "text": [
      " 37%|██████████████████████████████▎                                                  | 88/235 [06:44<11:14,  4.59s/it]C:\\Users\\Admin\\anaconda3\\envs\\mossf\\lib\\site-packages\\sklearn\\base.py:493: FutureWarning: The feature names should match those that were passed during fit. Starting version 1.2, an error will be raised.\n",
      "Feature names unseen at fit time:\n",
      "- rainfall\n",
      "Feature names seen at fit time, yet now missing:\n",
      "- radar_rainfall\n",
      "\n",
      "  warnings.warn(message, FutureWarning)\n"
     ]
    },
    {
     "name": "stdout",
     "output_type": "stream",
     "text": [
      "\n",
      "Processing file: D:\\1Yang\\0Research\\0_2566_radar_mosaic\\00mos_chaophraya\\00run_batch_acchr_codes\\2output\\0Hourly\\0Sontihn_RF\\0CBB_Pulse\\0output_mosaic\\2018071823_2000m.tif\n",
      "Warning: CRS not defined for D:\\1Yang\\0Research\\0_2566_radar_mosaic\\00mos_chaophraya\\00run_batch_acchr_codes\\2output\\0Hourly\\0Sontihn_RF\\0CBB_Pulse\\0output_mosaic\\2018071823_2000m.tif. Using WGS84 as default.\n",
      "Features shape: (250000, 3)\n",
      "NaN values before imputation: 114363\n",
      "NaN values after imputation: 114363\n",
      "Original data - Mean: 0.16, Max: 135.04\n",
      "Corrected data - Mean: 0.52, Max: 49.43\n"
     ]
    },
    {
     "name": "stderr",
     "output_type": "stream",
     "text": [
      " 38%|██████████████████████████████▋                                                  | 89/235 [06:49<11:30,  4.73s/it]C:\\Users\\Admin\\anaconda3\\envs\\mossf\\lib\\site-packages\\sklearn\\base.py:493: FutureWarning: The feature names should match those that were passed during fit. Starting version 1.2, an error will be raised.\n",
      "Feature names unseen at fit time:\n",
      "- rainfall\n",
      "Feature names seen at fit time, yet now missing:\n",
      "- radar_rainfall\n",
      "\n",
      "  warnings.warn(message, FutureWarning)\n"
     ]
    },
    {
     "name": "stdout",
     "output_type": "stream",
     "text": [
      "\n",
      "Processing file: D:\\1Yang\\0Research\\0_2566_radar_mosaic\\00mos_chaophraya\\00run_batch_acchr_codes\\2output\\0Hourly\\0Sontihn_RF\\0CBB_Pulse\\0output_mosaic\\2018071900_2000m.tif\n",
      "Warning: CRS not defined for D:\\1Yang\\0Research\\0_2566_radar_mosaic\\00mos_chaophraya\\00run_batch_acchr_codes\\2output\\0Hourly\\0Sontihn_RF\\0CBB_Pulse\\0output_mosaic\\2018071900_2000m.tif. Using WGS84 as default.\n",
      "Features shape: (250000, 3)\n",
      "NaN values before imputation: 114348\n",
      "NaN values after imputation: 114348\n",
      "Original data - Mean: 0.11, Max: 68.92\n",
      "Corrected data - Mean: 0.42, Max: 49.43\n"
     ]
    },
    {
     "name": "stderr",
     "output_type": "stream",
     "text": [
      " 38%|███████████████████████████████                                                  | 90/235 [07:10<23:15,  9.62s/it]C:\\Users\\Admin\\anaconda3\\envs\\mossf\\lib\\site-packages\\sklearn\\base.py:493: FutureWarning: The feature names should match those that were passed during fit. Starting version 1.2, an error will be raised.\n",
      "Feature names unseen at fit time:\n",
      "- rainfall\n",
      "Feature names seen at fit time, yet now missing:\n",
      "- radar_rainfall\n",
      "\n",
      "  warnings.warn(message, FutureWarning)\n"
     ]
    },
    {
     "name": "stdout",
     "output_type": "stream",
     "text": [
      "\n",
      "Processing file: D:\\1Yang\\0Research\\0_2566_radar_mosaic\\00mos_chaophraya\\00run_batch_acchr_codes\\2output\\0Hourly\\0Sontihn_RF\\0CBB_Pulse\\0output_mosaic\\2018071901_2000m.tif\n",
      "Warning: CRS not defined for D:\\1Yang\\0Research\\0_2566_radar_mosaic\\00mos_chaophraya\\00run_batch_acchr_codes\\2output\\0Hourly\\0Sontihn_RF\\0CBB_Pulse\\0output_mosaic\\2018071901_2000m.tif. Using WGS84 as default.\n",
      "Features shape: (250000, 3)\n",
      "NaN values before imputation: 114301\n",
      "NaN values after imputation: 114301\n",
      "Original data - Mean: 0.06, Max: 20.02\n",
      "Corrected data - Mean: 0.31, Max: 49.43\n"
     ]
    },
    {
     "name": "stderr",
     "output_type": "stream",
     "text": [
      " 39%|███████████████████████████████▎                                                 | 91/235 [07:15<19:22,  8.07s/it]C:\\Users\\Admin\\anaconda3\\envs\\mossf\\lib\\site-packages\\sklearn\\base.py:493: FutureWarning: The feature names should match those that were passed during fit. Starting version 1.2, an error will be raised.\n",
      "Feature names unseen at fit time:\n",
      "- rainfall\n",
      "Feature names seen at fit time, yet now missing:\n",
      "- radar_rainfall\n",
      "\n",
      "  warnings.warn(message, FutureWarning)\n"
     ]
    },
    {
     "name": "stdout",
     "output_type": "stream",
     "text": [
      "\n",
      "Processing file: D:\\1Yang\\0Research\\0_2566_radar_mosaic\\00mos_chaophraya\\00run_batch_acchr_codes\\2output\\0Hourly\\0Sontihn_RF\\0CBB_Pulse\\0output_mosaic\\2018071902_2000m.tif\n",
      "Warning: CRS not defined for D:\\1Yang\\0Research\\0_2566_radar_mosaic\\00mos_chaophraya\\00run_batch_acchr_codes\\2output\\0Hourly\\0Sontihn_RF\\0CBB_Pulse\\0output_mosaic\\2018071902_2000m.tif. Using WGS84 as default.\n",
      "Features shape: (250000, 3)\n",
      "NaN values before imputation: 114323\n",
      "NaN values after imputation: 114323\n",
      "Original data - Mean: 0.03, Max: 16.35\n",
      "Corrected data - Mean: 0.16, Max: 49.43\n"
     ]
    },
    {
     "name": "stderr",
     "output_type": "stream",
     "text": [
      " 39%|███████████████████████████████▋                                                 | 92/235 [07:19<16:40,  7.00s/it]C:\\Users\\Admin\\anaconda3\\envs\\mossf\\lib\\site-packages\\sklearn\\base.py:493: FutureWarning: The feature names should match those that were passed during fit. Starting version 1.2, an error will be raised.\n",
      "Feature names unseen at fit time:\n",
      "- rainfall\n",
      "Feature names seen at fit time, yet now missing:\n",
      "- radar_rainfall\n",
      "\n",
      "  warnings.warn(message, FutureWarning)\n"
     ]
    },
    {
     "name": "stdout",
     "output_type": "stream",
     "text": [
      "\n",
      "Processing file: D:\\1Yang\\0Research\\0_2566_radar_mosaic\\00mos_chaophraya\\00run_batch_acchr_codes\\2output\\0Hourly\\0Sontihn_RF\\0CBB_Pulse\\0output_mosaic\\2018071903_2000m.tif\n",
      "Warning: CRS not defined for D:\\1Yang\\0Research\\0_2566_radar_mosaic\\00mos_chaophraya\\00run_batch_acchr_codes\\2output\\0Hourly\\0Sontihn_RF\\0CBB_Pulse\\0output_mosaic\\2018071903_2000m.tif. Using WGS84 as default.\n",
      "Features shape: (250000, 3)\n",
      "NaN values before imputation: 114291\n",
      "NaN values after imputation: 114291\n",
      "Original data - Mean: 0.02, Max: 7.71\n",
      "Corrected data - Mean: 0.11, Max: 18.92\n"
     ]
    },
    {
     "name": "stderr",
     "output_type": "stream",
     "text": [
      " 40%|████████████████████████████████                                                 | 93/235 [07:24<14:47,  6.25s/it]C:\\Users\\Admin\\anaconda3\\envs\\mossf\\lib\\site-packages\\sklearn\\base.py:493: FutureWarning: The feature names should match those that were passed during fit. Starting version 1.2, an error will be raised.\n",
      "Feature names unseen at fit time:\n",
      "- rainfall\n",
      "Feature names seen at fit time, yet now missing:\n",
      "- radar_rainfall\n",
      "\n",
      "  warnings.warn(message, FutureWarning)\n"
     ]
    },
    {
     "name": "stdout",
     "output_type": "stream",
     "text": [
      "\n",
      "Processing file: D:\\1Yang\\0Research\\0_2566_radar_mosaic\\00mos_chaophraya\\00run_batch_acchr_codes\\2output\\0Hourly\\0Sontihn_RF\\0CBB_Pulse\\0output_mosaic\\2018071904_2000m.tif\n",
      "Warning: CRS not defined for D:\\1Yang\\0Research\\0_2566_radar_mosaic\\00mos_chaophraya\\00run_batch_acchr_codes\\2output\\0Hourly\\0Sontihn_RF\\0CBB_Pulse\\0output_mosaic\\2018071904_2000m.tif. Using WGS84 as default.\n",
      "Features shape: (250000, 3)\n",
      "NaN values before imputation: 114354\n",
      "NaN values after imputation: 114354\n",
      "Original data - Mean: 0.04, Max: 15.68\n",
      "Corrected data - Mean: 0.17, Max: 49.43\n"
     ]
    },
    {
     "name": "stderr",
     "output_type": "stream",
     "text": [
      " 40%|████████████████████████████████▍                                                | 94/235 [07:28<13:30,  5.75s/it]C:\\Users\\Admin\\anaconda3\\envs\\mossf\\lib\\site-packages\\sklearn\\base.py:493: FutureWarning: The feature names should match those that were passed during fit. Starting version 1.2, an error will be raised.\n",
      "Feature names unseen at fit time:\n",
      "- rainfall\n",
      "Feature names seen at fit time, yet now missing:\n",
      "- radar_rainfall\n",
      "\n",
      "  warnings.warn(message, FutureWarning)\n"
     ]
    },
    {
     "name": "stdout",
     "output_type": "stream",
     "text": [
      "\n",
      "Processing file: D:\\1Yang\\0Research\\0_2566_radar_mosaic\\00mos_chaophraya\\00run_batch_acchr_codes\\2output\\0Hourly\\0Sontihn_RF\\0CBB_Pulse\\0output_mosaic\\2018071905_2000m.tif\n",
      "Warning: CRS not defined for D:\\1Yang\\0Research\\0_2566_radar_mosaic\\00mos_chaophraya\\00run_batch_acchr_codes\\2output\\0Hourly\\0Sontihn_RF\\0CBB_Pulse\\0output_mosaic\\2018071905_2000m.tif. Using WGS84 as default.\n",
      "Features shape: (250000, 3)\n",
      "NaN values before imputation: 114333\n",
      "NaN values after imputation: 114333\n",
      "Original data - Mean: 0.03, Max: 13.25\n",
      "Corrected data - Mean: 0.14, Max: 49.43\n"
     ]
    },
    {
     "name": "stderr",
     "output_type": "stream",
     "text": [
      " 40%|████████████████████████████████▋                                                | 95/235 [07:33<12:30,  5.36s/it]C:\\Users\\Admin\\anaconda3\\envs\\mossf\\lib\\site-packages\\sklearn\\base.py:493: FutureWarning: The feature names should match those that were passed during fit. Starting version 1.2, an error will be raised.\n",
      "Feature names unseen at fit time:\n",
      "- rainfall\n",
      "Feature names seen at fit time, yet now missing:\n",
      "- radar_rainfall\n",
      "\n",
      "  warnings.warn(message, FutureWarning)\n"
     ]
    },
    {
     "name": "stdout",
     "output_type": "stream",
     "text": [
      "\n",
      "Processing file: D:\\1Yang\\0Research\\0_2566_radar_mosaic\\00mos_chaophraya\\00run_batch_acchr_codes\\2output\\0Hourly\\0Sontihn_RF\\0CBB_Pulse\\0output_mosaic\\2018071906_2000m.tif\n",
      "Warning: CRS not defined for D:\\1Yang\\0Research\\0_2566_radar_mosaic\\00mos_chaophraya\\00run_batch_acchr_codes\\2output\\0Hourly\\0Sontihn_RF\\0CBB_Pulse\\0output_mosaic\\2018071906_2000m.tif. Using WGS84 as default.\n",
      "Features shape: (250000, 3)\n",
      "NaN values before imputation: 114322\n",
      "NaN values after imputation: 114322\n",
      "Original data - Mean: 0.03, Max: 12.31\n",
      "Corrected data - Mean: 0.17, Max: 49.00\n"
     ]
    },
    {
     "name": "stderr",
     "output_type": "stream",
     "text": [
      " 41%|█████████████████████████████████                                                | 96/235 [07:37<11:50,  5.11s/it]C:\\Users\\Admin\\anaconda3\\envs\\mossf\\lib\\site-packages\\sklearn\\base.py:493: FutureWarning: The feature names should match those that were passed during fit. Starting version 1.2, an error will be raised.\n",
      "Feature names unseen at fit time:\n",
      "- rainfall\n",
      "Feature names seen at fit time, yet now missing:\n",
      "- radar_rainfall\n",
      "\n",
      "  warnings.warn(message, FutureWarning)\n"
     ]
    },
    {
     "name": "stdout",
     "output_type": "stream",
     "text": [
      "\n",
      "Processing file: D:\\1Yang\\0Research\\0_2566_radar_mosaic\\00mos_chaophraya\\00run_batch_acchr_codes\\2output\\0Hourly\\0Sontihn_RF\\0CBB_Pulse\\0output_mosaic\\2018071907_2000m.tif\n",
      "Warning: CRS not defined for D:\\1Yang\\0Research\\0_2566_radar_mosaic\\00mos_chaophraya\\00run_batch_acchr_codes\\2output\\0Hourly\\0Sontihn_RF\\0CBB_Pulse\\0output_mosaic\\2018071907_2000m.tif. Using WGS84 as default.\n",
      "Features shape: (250000, 3)\n",
      "NaN values before imputation: 114343\n",
      "NaN values after imputation: 114343\n",
      "Original data - Mean: 0.02, Max: 13.08\n",
      "Corrected data - Mean: 0.11, Max: 49.43\n"
     ]
    },
    {
     "name": "stderr",
     "output_type": "stream",
     "text": [
      " 41%|█████████████████████████████████▍                                               | 97/235 [07:42<11:22,  4.95s/it]C:\\Users\\Admin\\anaconda3\\envs\\mossf\\lib\\site-packages\\sklearn\\base.py:493: FutureWarning: The feature names should match those that were passed during fit. Starting version 1.2, an error will be raised.\n",
      "Feature names unseen at fit time:\n",
      "- rainfall\n",
      "Feature names seen at fit time, yet now missing:\n",
      "- radar_rainfall\n",
      "\n",
      "  warnings.warn(message, FutureWarning)\n"
     ]
    },
    {
     "name": "stdout",
     "output_type": "stream",
     "text": [
      "\n",
      "Processing file: D:\\1Yang\\0Research\\0_2566_radar_mosaic\\00mos_chaophraya\\00run_batch_acchr_codes\\2output\\0Hourly\\0Sontihn_RF\\0CBB_Pulse\\0output_mosaic\\2018071908_2000m.tif\n",
      "Warning: CRS not defined for D:\\1Yang\\0Research\\0_2566_radar_mosaic\\00mos_chaophraya\\00run_batch_acchr_codes\\2output\\0Hourly\\0Sontihn_RF\\0CBB_Pulse\\0output_mosaic\\2018071908_2000m.tif. Using WGS84 as default.\n",
      "Features shape: (250000, 3)\n",
      "NaN values before imputation: 114387\n",
      "NaN values after imputation: 114387\n",
      "Original data - Mean: 0.01, Max: 13.31\n",
      "Corrected data - Mean: 0.07, Max: 49.43\n"
     ]
    },
    {
     "name": "stderr",
     "output_type": "stream",
     "text": [
      " 42%|█████████████████████████████████▊                                               | 98/235 [07:46<11:03,  4.84s/it]C:\\Users\\Admin\\anaconda3\\envs\\mossf\\lib\\site-packages\\sklearn\\base.py:493: FutureWarning: The feature names should match those that were passed during fit. Starting version 1.2, an error will be raised.\n",
      "Feature names unseen at fit time:\n",
      "- rainfall\n",
      "Feature names seen at fit time, yet now missing:\n",
      "- radar_rainfall\n",
      "\n",
      "  warnings.warn(message, FutureWarning)\n"
     ]
    },
    {
     "name": "stdout",
     "output_type": "stream",
     "text": [
      "\n",
      "Processing file: D:\\1Yang\\0Research\\0_2566_radar_mosaic\\00mos_chaophraya\\00run_batch_acchr_codes\\2output\\0Hourly\\0Sontihn_RF\\0CBB_Pulse\\0output_mosaic\\2018071909_2000m.tif\n",
      "Warning: CRS not defined for D:\\1Yang\\0Research\\0_2566_radar_mosaic\\00mos_chaophraya\\00run_batch_acchr_codes\\2output\\0Hourly\\0Sontihn_RF\\0CBB_Pulse\\0output_mosaic\\2018071909_2000m.tif. Using WGS84 as default.\n",
      "Features shape: (250000, 3)\n",
      "NaN values before imputation: 114439\n",
      "NaN values after imputation: 114439\n",
      "Original data - Mean: 0.01, Max: 10.13\n",
      "Corrected data - Mean: 0.16, Max: 24.95\n"
     ]
    },
    {
     "name": "stderr",
     "output_type": "stream",
     "text": [
      " 42%|██████████████████████████████████                                               | 99/235 [07:51<10:40,  4.71s/it]C:\\Users\\Admin\\anaconda3\\envs\\mossf\\lib\\site-packages\\sklearn\\base.py:493: FutureWarning: The feature names should match those that were passed during fit. Starting version 1.2, an error will be raised.\n",
      "Feature names unseen at fit time:\n",
      "- rainfall\n",
      "Feature names seen at fit time, yet now missing:\n",
      "- radar_rainfall\n",
      "\n",
      "  warnings.warn(message, FutureWarning)\n"
     ]
    },
    {
     "name": "stdout",
     "output_type": "stream",
     "text": [
      "\n",
      "Processing file: D:\\1Yang\\0Research\\0_2566_radar_mosaic\\00mos_chaophraya\\00run_batch_acchr_codes\\2output\\0Hourly\\0Sontihn_RF\\0CBB_Pulse\\0output_mosaic\\2018071910_2000m.tif\n",
      "Warning: CRS not defined for D:\\1Yang\\0Research\\0_2566_radar_mosaic\\00mos_chaophraya\\00run_batch_acchr_codes\\2output\\0Hourly\\0Sontihn_RF\\0CBB_Pulse\\0output_mosaic\\2018071910_2000m.tif. Using WGS84 as default.\n",
      "Features shape: (250000, 3)\n",
      "NaN values before imputation: 114340\n",
      "NaN values after imputation: 114340\n",
      "Original data - Mean: 0.02, Max: 10.47\n",
      "Corrected data - Mean: 0.21, Max: 36.39\n"
     ]
    },
    {
     "name": "stderr",
     "output_type": "stream",
     "text": [
      " 43%|██████████████████████████████████                                              | 100/235 [07:55<10:25,  4.63s/it]"
     ]
    },
    {
     "name": "stdout",
     "output_type": "stream",
     "text": [
      "\n",
      "Processing file: D:\\1Yang\\0Research\\0_2566_radar_mosaic\\00mos_chaophraya\\00run_batch_acchr_codes\\2output\\0Hourly\\0Sontihn_RF\\0CBB_Pulse\\0output_mosaic\\2018071911_2000m.tif\n",
      "Warning: CRS not defined for D:\\1Yang\\0Research\\0_2566_radar_mosaic\\00mos_chaophraya\\00run_batch_acchr_codes\\2output\\0Hourly\\0Sontihn_RF\\0CBB_Pulse\\0output_mosaic\\2018071911_2000m.tif. Using WGS84 as default.\n",
      "Features shape: (250000, 3)\n",
      "NaN values before imputation: 114398\n",
      "NaN values after imputation: 114398\n"
     ]
    },
    {
     "name": "stderr",
     "output_type": "stream",
     "text": [
      "C:\\Users\\Admin\\anaconda3\\envs\\mossf\\lib\\site-packages\\sklearn\\base.py:493: FutureWarning: The feature names should match those that were passed during fit. Starting version 1.2, an error will be raised.\n",
      "Feature names unseen at fit time:\n",
      "- rainfall\n",
      "Feature names seen at fit time, yet now missing:\n",
      "- radar_rainfall\n",
      "\n",
      "  warnings.warn(message, FutureWarning)\n"
     ]
    },
    {
     "name": "stdout",
     "output_type": "stream",
     "text": [
      "Original data - Mean: 0.04, Max: 15.37\n",
      "Corrected data - Mean: 0.39, Max: 49.43\n"
     ]
    },
    {
     "name": "stderr",
     "output_type": "stream",
     "text": [
      " 43%|██████████████████████████████████▍                                             | 101/235 [08:00<10:13,  4.58s/it]C:\\Users\\Admin\\anaconda3\\envs\\mossf\\lib\\site-packages\\sklearn\\base.py:493: FutureWarning: The feature names should match those that were passed during fit. Starting version 1.2, an error will be raised.\n",
      "Feature names unseen at fit time:\n",
      "- rainfall\n",
      "Feature names seen at fit time, yet now missing:\n",
      "- radar_rainfall\n",
      "\n",
      "  warnings.warn(message, FutureWarning)\n"
     ]
    },
    {
     "name": "stdout",
     "output_type": "stream",
     "text": [
      "\n",
      "Processing file: D:\\1Yang\\0Research\\0_2566_radar_mosaic\\00mos_chaophraya\\00run_batch_acchr_codes\\2output\\0Hourly\\0Sontihn_RF\\0CBB_Pulse\\0output_mosaic\\2018071912_2000m.tif\n",
      "Warning: CRS not defined for D:\\1Yang\\0Research\\0_2566_radar_mosaic\\00mos_chaophraya\\00run_batch_acchr_codes\\2output\\0Hourly\\0Sontihn_RF\\0CBB_Pulse\\0output_mosaic\\2018071912_2000m.tif. Using WGS84 as default.\n",
      "Features shape: (250000, 3)\n",
      "NaN values before imputation: 114373\n",
      "NaN values after imputation: 114373\n",
      "Original data - Mean: 0.04, Max: 10.26\n",
      "Corrected data - Mean: 0.50, Max: 25.11\n"
     ]
    },
    {
     "name": "stderr",
     "output_type": "stream",
     "text": [
      " 43%|██████████████████████████████████▋                                             | 102/235 [08:04<10:03,  4.54s/it]C:\\Users\\Admin\\anaconda3\\envs\\mossf\\lib\\site-packages\\sklearn\\base.py:493: FutureWarning: The feature names should match those that were passed during fit. Starting version 1.2, an error will be raised.\n",
      "Feature names unseen at fit time:\n",
      "- rainfall\n",
      "Feature names seen at fit time, yet now missing:\n",
      "- radar_rainfall\n",
      "\n",
      "  warnings.warn(message, FutureWarning)\n"
     ]
    },
    {
     "name": "stdout",
     "output_type": "stream",
     "text": [
      "\n",
      "Processing file: D:\\1Yang\\0Research\\0_2566_radar_mosaic\\00mos_chaophraya\\00run_batch_acchr_codes\\2output\\0Hourly\\0Sontihn_RF\\0CBB_Pulse\\0output_mosaic\\2018071913_2000m.tif\n",
      "Warning: CRS not defined for D:\\1Yang\\0Research\\0_2566_radar_mosaic\\00mos_chaophraya\\00run_batch_acchr_codes\\2output\\0Hourly\\0Sontihn_RF\\0CBB_Pulse\\0output_mosaic\\2018071913_2000m.tif. Using WGS84 as default.\n",
      "Features shape: (250000, 3)\n",
      "NaN values before imputation: 114324\n",
      "NaN values after imputation: 114324\n",
      "Original data - Mean: 0.05, Max: 34.72\n",
      "Corrected data - Mean: 0.55, Max: 49.43\n"
     ]
    },
    {
     "name": "stderr",
     "output_type": "stream",
     "text": [
      " 44%|███████████████████████████████████                                             | 103/235 [08:09<09:54,  4.50s/it]C:\\Users\\Admin\\anaconda3\\envs\\mossf\\lib\\site-packages\\sklearn\\base.py:493: FutureWarning: The feature names should match those that were passed during fit. Starting version 1.2, an error will be raised.\n",
      "Feature names unseen at fit time:\n",
      "- rainfall\n",
      "Feature names seen at fit time, yet now missing:\n",
      "- radar_rainfall\n",
      "\n",
      "  warnings.warn(message, FutureWarning)\n"
     ]
    },
    {
     "name": "stdout",
     "output_type": "stream",
     "text": [
      "\n",
      "Processing file: D:\\1Yang\\0Research\\0_2566_radar_mosaic\\00mos_chaophraya\\00run_batch_acchr_codes\\2output\\0Hourly\\0Sontihn_RF\\0CBB_Pulse\\0output_mosaic\\2018071914_2000m.tif\n",
      "Warning: CRS not defined for D:\\1Yang\\0Research\\0_2566_radar_mosaic\\00mos_chaophraya\\00run_batch_acchr_codes\\2output\\0Hourly\\0Sontihn_RF\\0CBB_Pulse\\0output_mosaic\\2018071914_2000m.tif. Using WGS84 as default.\n",
      "Features shape: (250000, 3)\n",
      "NaN values before imputation: 114247\n",
      "NaN values after imputation: 114247\n",
      "Original data - Mean: 0.08, Max: 87.91\n",
      "Corrected data - Mean: 0.65, Max: 49.43\n"
     ]
    },
    {
     "name": "stderr",
     "output_type": "stream",
     "text": [
      " 44%|███████████████████████████████████▍                                            | 104/235 [08:13<09:48,  4.50s/it]C:\\Users\\Admin\\anaconda3\\envs\\mossf\\lib\\site-packages\\sklearn\\base.py:493: FutureWarning: The feature names should match those that were passed during fit. Starting version 1.2, an error will be raised.\n",
      "Feature names unseen at fit time:\n",
      "- rainfall\n",
      "Feature names seen at fit time, yet now missing:\n",
      "- radar_rainfall\n",
      "\n",
      "  warnings.warn(message, FutureWarning)\n"
     ]
    },
    {
     "name": "stdout",
     "output_type": "stream",
     "text": [
      "\n",
      "Processing file: D:\\1Yang\\0Research\\0_2566_radar_mosaic\\00mos_chaophraya\\00run_batch_acchr_codes\\2output\\0Hourly\\0Sontihn_RF\\0CBB_Pulse\\0output_mosaic\\2018071915_2000m.tif\n",
      "Warning: CRS not defined for D:\\1Yang\\0Research\\0_2566_radar_mosaic\\00mos_chaophraya\\00run_batch_acchr_codes\\2output\\0Hourly\\0Sontihn_RF\\0CBB_Pulse\\0output_mosaic\\2018071915_2000m.tif. Using WGS84 as default.\n",
      "Features shape: (250000, 3)\n",
      "NaN values before imputation: 114357\n",
      "NaN values after imputation: 114357\n",
      "Original data - Mean: 0.09, Max: 83.77\n",
      "Corrected data - Mean: 0.57, Max: 49.43\n"
     ]
    },
    {
     "name": "stderr",
     "output_type": "stream",
     "text": [
      " 45%|███████████████████████████████████▋                                            | 105/235 [08:17<09:42,  4.48s/it]C:\\Users\\Admin\\anaconda3\\envs\\mossf\\lib\\site-packages\\sklearn\\base.py:493: FutureWarning: The feature names should match those that were passed during fit. Starting version 1.2, an error will be raised.\n",
      "Feature names unseen at fit time:\n",
      "- rainfall\n",
      "Feature names seen at fit time, yet now missing:\n",
      "- radar_rainfall\n",
      "\n",
      "  warnings.warn(message, FutureWarning)\n"
     ]
    },
    {
     "name": "stdout",
     "output_type": "stream",
     "text": [
      "\n",
      "Processing file: D:\\1Yang\\0Research\\0_2566_radar_mosaic\\00mos_chaophraya\\00run_batch_acchr_codes\\2output\\0Hourly\\0Sontihn_RF\\0CBB_Pulse\\0output_mosaic\\2018071916_2000m.tif\n",
      "Warning: CRS not defined for D:\\1Yang\\0Research\\0_2566_radar_mosaic\\00mos_chaophraya\\00run_batch_acchr_codes\\2output\\0Hourly\\0Sontihn_RF\\0CBB_Pulse\\0output_mosaic\\2018071916_2000m.tif. Using WGS84 as default.\n",
      "Features shape: (250000, 3)\n",
      "NaN values before imputation: 0\n",
      "NaN values after imputation: 0\n",
      "Original data - Mean: 0.02, Max: 48.40\n",
      "Corrected data - Mean: 0.22, Max: 49.43\n"
     ]
    },
    {
     "name": "stderr",
     "output_type": "stream",
     "text": [
      " 45%|████████████████████████████████████                                            | 106/235 [08:22<09:43,  4.52s/it]C:\\Users\\Admin\\anaconda3\\envs\\mossf\\lib\\site-packages\\sklearn\\base.py:493: FutureWarning: The feature names should match those that were passed during fit. Starting version 1.2, an error will be raised.\n",
      "Feature names unseen at fit time:\n",
      "- rainfall\n",
      "Feature names seen at fit time, yet now missing:\n",
      "- radar_rainfall\n",
      "\n",
      "  warnings.warn(message, FutureWarning)\n"
     ]
    },
    {
     "name": "stdout",
     "output_type": "stream",
     "text": [
      "\n",
      "Processing file: D:\\1Yang\\0Research\\0_2566_radar_mosaic\\00mos_chaophraya\\00run_batch_acchr_codes\\2output\\0Hourly\\0Sontihn_RF\\0CBB_Pulse\\0output_mosaic\\2018071917_2000m.tif\n",
      "Warning: CRS not defined for D:\\1Yang\\0Research\\0_2566_radar_mosaic\\00mos_chaophraya\\00run_batch_acchr_codes\\2output\\0Hourly\\0Sontihn_RF\\0CBB_Pulse\\0output_mosaic\\2018071917_2000m.tif. Using WGS84 as default.\n",
      "Features shape: (250000, 3)\n",
      "NaN values before imputation: 114307\n",
      "NaN values after imputation: 114307\n",
      "Original data - Mean: 0.08, Max: 28.20\n",
      "Corrected data - Mean: 0.63, Max: 49.43\n"
     ]
    },
    {
     "name": "stderr",
     "output_type": "stream",
     "text": [
      " 46%|████████████████████████████████████▍                                           | 107/235 [08:27<09:36,  4.51s/it]C:\\Users\\Admin\\anaconda3\\envs\\mossf\\lib\\site-packages\\sklearn\\base.py:493: FutureWarning: The feature names should match those that were passed during fit. Starting version 1.2, an error will be raised.\n",
      "Feature names unseen at fit time:\n",
      "- rainfall\n",
      "Feature names seen at fit time, yet now missing:\n",
      "- radar_rainfall\n",
      "\n",
      "  warnings.warn(message, FutureWarning)\n"
     ]
    },
    {
     "name": "stdout",
     "output_type": "stream",
     "text": [
      "\n",
      "Processing file: D:\\1Yang\\0Research\\0_2566_radar_mosaic\\00mos_chaophraya\\00run_batch_acchr_codes\\2output\\0Hourly\\0Sontihn_RF\\0CBB_Pulse\\0output_mosaic\\2018071918_2000m.tif\n",
      "Warning: CRS not defined for D:\\1Yang\\0Research\\0_2566_radar_mosaic\\00mos_chaophraya\\00run_batch_acchr_codes\\2output\\0Hourly\\0Sontihn_RF\\0CBB_Pulse\\0output_mosaic\\2018071918_2000m.tif. Using WGS84 as default.\n",
      "Features shape: (250000, 3)\n",
      "NaN values before imputation: 114350\n",
      "NaN values after imputation: 114350\n",
      "Original data - Mean: 0.10, Max: 58.43\n",
      "Corrected data - Mean: 0.71, Max: 49.43\n"
     ]
    },
    {
     "name": "stderr",
     "output_type": "stream",
     "text": [
      " 46%|████████████████████████████████████▊                                           | 108/235 [08:31<09:31,  4.50s/it]C:\\Users\\Admin\\anaconda3\\envs\\mossf\\lib\\site-packages\\sklearn\\base.py:493: FutureWarning: The feature names should match those that were passed during fit. Starting version 1.2, an error will be raised.\n",
      "Feature names unseen at fit time:\n",
      "- rainfall\n",
      "Feature names seen at fit time, yet now missing:\n",
      "- radar_rainfall\n",
      "\n",
      "  warnings.warn(message, FutureWarning)\n"
     ]
    },
    {
     "name": "stdout",
     "output_type": "stream",
     "text": [
      "\n",
      "Processing file: D:\\1Yang\\0Research\\0_2566_radar_mosaic\\00mos_chaophraya\\00run_batch_acchr_codes\\2output\\0Hourly\\0Sontihn_RF\\0CBB_Pulse\\0output_mosaic\\2018071919_2000m.tif\n",
      "Warning: CRS not defined for D:\\1Yang\\0Research\\0_2566_radar_mosaic\\00mos_chaophraya\\00run_batch_acchr_codes\\2output\\0Hourly\\0Sontihn_RF\\0CBB_Pulse\\0output_mosaic\\2018071919_2000m.tif. Using WGS84 as default.\n",
      "Features shape: (250000, 3)\n",
      "NaN values before imputation: 114264\n",
      "NaN values after imputation: 114264\n",
      "Original data - Mean: 0.10, Max: 38.98\n",
      "Corrected data - Mean: 0.70, Max: 49.43\n"
     ]
    },
    {
     "name": "stderr",
     "output_type": "stream",
     "text": [
      " 46%|█████████████████████████████████████                                           | 109/235 [08:35<09:24,  4.48s/it]C:\\Users\\Admin\\anaconda3\\envs\\mossf\\lib\\site-packages\\sklearn\\base.py:493: FutureWarning: The feature names should match those that were passed during fit. Starting version 1.2, an error will be raised.\n",
      "Feature names unseen at fit time:\n",
      "- rainfall\n",
      "Feature names seen at fit time, yet now missing:\n",
      "- radar_rainfall\n",
      "\n",
      "  warnings.warn(message, FutureWarning)\n"
     ]
    },
    {
     "name": "stdout",
     "output_type": "stream",
     "text": [
      "\n",
      "Processing file: D:\\1Yang\\0Research\\0_2566_radar_mosaic\\00mos_chaophraya\\00run_batch_acchr_codes\\2output\\0Hourly\\0Sontihn_RF\\0CBB_Pulse\\0output_mosaic\\2018071920_2000m.tif\n",
      "Warning: CRS not defined for D:\\1Yang\\0Research\\0_2566_radar_mosaic\\00mos_chaophraya\\00run_batch_acchr_codes\\2output\\0Hourly\\0Sontihn_RF\\0CBB_Pulse\\0output_mosaic\\2018071920_2000m.tif. Using WGS84 as default.\n",
      "Features shape: (250000, 3)\n",
      "NaN values before imputation: 114308\n",
      "NaN values after imputation: 114308\n",
      "Original data - Mean: 0.07, Max: 9.38\n",
      "Corrected data - Mean: 0.64, Max: 22.88\n"
     ]
    },
    {
     "name": "stderr",
     "output_type": "stream",
     "text": [
      " 47%|█████████████████████████████████████▍                                          | 110/235 [08:40<09:18,  4.47s/it]C:\\Users\\Admin\\anaconda3\\envs\\mossf\\lib\\site-packages\\sklearn\\base.py:493: FutureWarning: The feature names should match those that were passed during fit. Starting version 1.2, an error will be raised.\n",
      "Feature names unseen at fit time:\n",
      "- rainfall\n",
      "Feature names seen at fit time, yet now missing:\n",
      "- radar_rainfall\n",
      "\n",
      "  warnings.warn(message, FutureWarning)\n"
     ]
    },
    {
     "name": "stdout",
     "output_type": "stream",
     "text": [
      "\n",
      "Processing file: D:\\1Yang\\0Research\\0_2566_radar_mosaic\\00mos_chaophraya\\00run_batch_acchr_codes\\2output\\0Hourly\\0Sontihn_RF\\0CBB_Pulse\\0output_mosaic\\2018071921_2000m.tif\n",
      "Warning: CRS not defined for D:\\1Yang\\0Research\\0_2566_radar_mosaic\\00mos_chaophraya\\00run_batch_acchr_codes\\2output\\0Hourly\\0Sontihn_RF\\0CBB_Pulse\\0output_mosaic\\2018071921_2000m.tif. Using WGS84 as default.\n",
      "Features shape: (250000, 3)\n",
      "NaN values before imputation: 114338\n",
      "NaN values after imputation: 114338\n",
      "Original data - Mean: 0.06, Max: 20.23\n",
      "Corrected data - Mean: 0.53, Max: 49.43\n"
     ]
    },
    {
     "name": "stderr",
     "output_type": "stream",
     "text": [
      " 47%|█████████████████████████████████████▊                                          | 111/235 [08:44<09:13,  4.47s/it]C:\\Users\\Admin\\anaconda3\\envs\\mossf\\lib\\site-packages\\sklearn\\base.py:493: FutureWarning: The feature names should match those that were passed during fit. Starting version 1.2, an error will be raised.\n",
      "Feature names unseen at fit time:\n",
      "- rainfall\n",
      "Feature names seen at fit time, yet now missing:\n",
      "- radar_rainfall\n",
      "\n",
      "  warnings.warn(message, FutureWarning)\n"
     ]
    },
    {
     "name": "stdout",
     "output_type": "stream",
     "text": [
      "\n",
      "Processing file: D:\\1Yang\\0Research\\0_2566_radar_mosaic\\00mos_chaophraya\\00run_batch_acchr_codes\\2output\\0Hourly\\0Sontihn_RF\\0CBB_Pulse\\0output_mosaic\\2018071922_2000m.tif\n",
      "Warning: CRS not defined for D:\\1Yang\\0Research\\0_2566_radar_mosaic\\00mos_chaophraya\\00run_batch_acchr_codes\\2output\\0Hourly\\0Sontihn_RF\\0CBB_Pulse\\0output_mosaic\\2018071922_2000m.tif. Using WGS84 as default.\n",
      "Features shape: (250000, 3)\n",
      "NaN values before imputation: 114406\n",
      "NaN values after imputation: 114406\n",
      "Original data - Mean: 0.04, Max: 12.13\n",
      "Corrected data - Mean: 0.49, Max: 49.00\n"
     ]
    },
    {
     "name": "stderr",
     "output_type": "stream",
     "text": [
      " 48%|██████████████████████████████████████▏                                         | 112/235 [08:49<09:10,  4.48s/it]C:\\Users\\Admin\\anaconda3\\envs\\mossf\\lib\\site-packages\\sklearn\\base.py:493: FutureWarning: The feature names should match those that were passed during fit. Starting version 1.2, an error will be raised.\n",
      "Feature names unseen at fit time:\n",
      "- rainfall\n",
      "Feature names seen at fit time, yet now missing:\n",
      "- radar_rainfall\n",
      "\n",
      "  warnings.warn(message, FutureWarning)\n"
     ]
    },
    {
     "name": "stdout",
     "output_type": "stream",
     "text": [
      "\n",
      "Processing file: D:\\1Yang\\0Research\\0_2566_radar_mosaic\\00mos_chaophraya\\00run_batch_acchr_codes\\2output\\0Hourly\\0Sontihn_RF\\0CBB_Pulse\\0output_mosaic\\2018071923_2000m.tif\n",
      "Warning: CRS not defined for D:\\1Yang\\0Research\\0_2566_radar_mosaic\\00mos_chaophraya\\00run_batch_acchr_codes\\2output\\0Hourly\\0Sontihn_RF\\0CBB_Pulse\\0output_mosaic\\2018071923_2000m.tif. Using WGS84 as default.\n",
      "Features shape: (250000, 3)\n",
      "NaN values before imputation: 114330\n",
      "NaN values after imputation: 114330\n",
      "Original data - Mean: 0.05, Max: 82.43\n",
      "Corrected data - Mean: 0.48, Max: 49.43\n"
     ]
    },
    {
     "name": "stderr",
     "output_type": "stream",
     "text": [
      " 48%|██████████████████████████████████████▍                                         | 113/235 [08:53<09:05,  4.47s/it]C:\\Users\\Admin\\anaconda3\\envs\\mossf\\lib\\site-packages\\sklearn\\base.py:493: FutureWarning: The feature names should match those that were passed during fit. Starting version 1.2, an error will be raised.\n",
      "Feature names unseen at fit time:\n",
      "- rainfall\n",
      "Feature names seen at fit time, yet now missing:\n",
      "- radar_rainfall\n",
      "\n",
      "  warnings.warn(message, FutureWarning)\n"
     ]
    },
    {
     "name": "stdout",
     "output_type": "stream",
     "text": [
      "\n",
      "Processing file: D:\\1Yang\\0Research\\0_2566_radar_mosaic\\00mos_chaophraya\\00run_batch_acchr_codes\\2output\\0Hourly\\0Sontihn_RF\\0CBB_Pulse\\0output_mosaic\\2018072000_2000m.tif\n",
      "Warning: CRS not defined for D:\\1Yang\\0Research\\0_2566_radar_mosaic\\00mos_chaophraya\\00run_batch_acchr_codes\\2output\\0Hourly\\0Sontihn_RF\\0CBB_Pulse\\0output_mosaic\\2018072000_2000m.tif. Using WGS84 as default.\n",
      "Features shape: (250000, 3)\n",
      "NaN values before imputation: 114333\n",
      "NaN values after imputation: 114333\n",
      "Original data - Mean: 0.06, Max: 54.46\n",
      "Corrected data - Mean: 0.55, Max: 49.43\n"
     ]
    },
    {
     "name": "stderr",
     "output_type": "stream",
     "text": [
      " 49%|██████████████████████████████████████▊                                         | 114/235 [08:58<09:02,  4.48s/it]C:\\Users\\Admin\\anaconda3\\envs\\mossf\\lib\\site-packages\\sklearn\\base.py:493: FutureWarning: The feature names should match those that were passed during fit. Starting version 1.2, an error will be raised.\n",
      "Feature names unseen at fit time:\n",
      "- rainfall\n",
      "Feature names seen at fit time, yet now missing:\n",
      "- radar_rainfall\n",
      "\n",
      "  warnings.warn(message, FutureWarning)\n"
     ]
    },
    {
     "name": "stdout",
     "output_type": "stream",
     "text": [
      "\n",
      "Processing file: D:\\1Yang\\0Research\\0_2566_radar_mosaic\\00mos_chaophraya\\00run_batch_acchr_codes\\2output\\0Hourly\\0Sontihn_RF\\0CBB_Pulse\\0output_mosaic\\2018072001_2000m.tif\n",
      "Warning: CRS not defined for D:\\1Yang\\0Research\\0_2566_radar_mosaic\\00mos_chaophraya\\00run_batch_acchr_codes\\2output\\0Hourly\\0Sontihn_RF\\0CBB_Pulse\\0output_mosaic\\2018072001_2000m.tif. Using WGS84 as default.\n",
      "Features shape: (250000, 3)\n",
      "NaN values before imputation: 114296\n",
      "NaN values after imputation: 114296\n",
      "Original data - Mean: 0.05, Max: 19.51\n",
      "Corrected data - Mean: 0.65, Max: 49.43\n"
     ]
    },
    {
     "name": "stderr",
     "output_type": "stream",
     "text": [
      " 49%|███████████████████████████████████████▏                                        | 115/235 [09:02<08:59,  4.49s/it]C:\\Users\\Admin\\anaconda3\\envs\\mossf\\lib\\site-packages\\sklearn\\base.py:493: FutureWarning: The feature names should match those that were passed during fit. Starting version 1.2, an error will be raised.\n",
      "Feature names unseen at fit time:\n",
      "- rainfall\n",
      "Feature names seen at fit time, yet now missing:\n",
      "- radar_rainfall\n",
      "\n",
      "  warnings.warn(message, FutureWarning)\n"
     ]
    },
    {
     "name": "stdout",
     "output_type": "stream",
     "text": [
      "\n",
      "Processing file: D:\\1Yang\\0Research\\0_2566_radar_mosaic\\00mos_chaophraya\\00run_batch_acchr_codes\\2output\\0Hourly\\0Sontihn_RF\\0CBB_Pulse\\0output_mosaic\\2018072002_2000m.tif\n",
      "Warning: CRS not defined for D:\\1Yang\\0Research\\0_2566_radar_mosaic\\00mos_chaophraya\\00run_batch_acchr_codes\\2output\\0Hourly\\0Sontihn_RF\\0CBB_Pulse\\0output_mosaic\\2018072002_2000m.tif. Using WGS84 as default.\n",
      "Features shape: (250000, 3)\n",
      "NaN values before imputation: 114334\n",
      "NaN values after imputation: 114334\n",
      "Original data - Mean: 0.05, Max: 24.91\n",
      "Corrected data - Mean: 0.57, Max: 49.43\n"
     ]
    },
    {
     "name": "stderr",
     "output_type": "stream",
     "text": [
      " 49%|███████████████████████████████████████▍                                        | 116/235 [09:07<08:53,  4.49s/it]C:\\Users\\Admin\\anaconda3\\envs\\mossf\\lib\\site-packages\\sklearn\\base.py:493: FutureWarning: The feature names should match those that were passed during fit. Starting version 1.2, an error will be raised.\n",
      "Feature names unseen at fit time:\n",
      "- rainfall\n",
      "Feature names seen at fit time, yet now missing:\n",
      "- radar_rainfall\n",
      "\n",
      "  warnings.warn(message, FutureWarning)\n"
     ]
    },
    {
     "name": "stdout",
     "output_type": "stream",
     "text": [
      "\n",
      "Processing file: D:\\1Yang\\0Research\\0_2566_radar_mosaic\\00mos_chaophraya\\00run_batch_acchr_codes\\2output\\0Hourly\\0Sontihn_RF\\0CBB_Pulse\\0output_mosaic\\2018072003_2000m.tif\n",
      "Warning: CRS not defined for D:\\1Yang\\0Research\\0_2566_radar_mosaic\\00mos_chaophraya\\00run_batch_acchr_codes\\2output\\0Hourly\\0Sontihn_RF\\0CBB_Pulse\\0output_mosaic\\2018072003_2000m.tif. Using WGS84 as default.\n",
      "Features shape: (250000, 3)\n",
      "NaN values before imputation: 114422\n",
      "NaN values after imputation: 114422\n",
      "Original data - Mean: 0.12, Max: 26.79\n",
      "Corrected data - Mean: 0.78, Max: 49.43\n"
     ]
    },
    {
     "name": "stderr",
     "output_type": "stream",
     "text": [
      " 50%|███████████████████████████████████████▊                                        | 117/235 [09:11<08:48,  4.48s/it]C:\\Users\\Admin\\anaconda3\\envs\\mossf\\lib\\site-packages\\sklearn\\base.py:493: FutureWarning: The feature names should match those that were passed during fit. Starting version 1.2, an error will be raised.\n",
      "Feature names unseen at fit time:\n",
      "- rainfall\n",
      "Feature names seen at fit time, yet now missing:\n",
      "- radar_rainfall\n",
      "\n",
      "  warnings.warn(message, FutureWarning)\n"
     ]
    },
    {
     "name": "stdout",
     "output_type": "stream",
     "text": [
      "\n",
      "Processing file: D:\\1Yang\\0Research\\0_2566_radar_mosaic\\00mos_chaophraya\\00run_batch_acchr_codes\\2output\\0Hourly\\0Sontihn_RF\\0CBB_Pulse\\0output_mosaic\\2018072004_2000m.tif\n",
      "Warning: CRS not defined for D:\\1Yang\\0Research\\0_2566_radar_mosaic\\00mos_chaophraya\\00run_batch_acchr_codes\\2output\\0Hourly\\0Sontihn_RF\\0CBB_Pulse\\0output_mosaic\\2018072004_2000m.tif. Using WGS84 as default.\n",
      "Features shape: (250000, 3)\n",
      "NaN values before imputation: 114300\n",
      "NaN values after imputation: 114300\n",
      "Original data - Mean: 0.16, Max: 27.12\n",
      "Corrected data - Mean: 0.80, Max: 49.43\n"
     ]
    },
    {
     "name": "stderr",
     "output_type": "stream",
     "text": [
      " 50%|████████████████████████████████████████▏                                       | 118/235 [09:16<08:45,  4.49s/it]C:\\Users\\Admin\\anaconda3\\envs\\mossf\\lib\\site-packages\\sklearn\\base.py:493: FutureWarning: The feature names should match those that were passed during fit. Starting version 1.2, an error will be raised.\n",
      "Feature names unseen at fit time:\n",
      "- rainfall\n",
      "Feature names seen at fit time, yet now missing:\n",
      "- radar_rainfall\n",
      "\n",
      "  warnings.warn(message, FutureWarning)\n"
     ]
    },
    {
     "name": "stdout",
     "output_type": "stream",
     "text": [
      "\n",
      "Processing file: D:\\1Yang\\0Research\\0_2566_radar_mosaic\\00mos_chaophraya\\00run_batch_acchr_codes\\2output\\0Hourly\\0Sontihn_RF\\0CBB_Pulse\\0output_mosaic\\2018072005_2000m.tif\n",
      "Warning: CRS not defined for D:\\1Yang\\0Research\\0_2566_radar_mosaic\\00mos_chaophraya\\00run_batch_acchr_codes\\2output\\0Hourly\\0Sontihn_RF\\0CBB_Pulse\\0output_mosaic\\2018072005_2000m.tif. Using WGS84 as default.\n",
      "Features shape: (250000, 3)\n",
      "NaN values before imputation: 114436\n",
      "NaN values after imputation: 114436\n",
      "Original data - Mean: 0.11, Max: 18.10\n",
      "Corrected data - Mean: 0.68, Max: 49.43\n"
     ]
    },
    {
     "name": "stderr",
     "output_type": "stream",
     "text": [
      " 51%|████████████████████████████████████████▌                                       | 119/235 [09:20<08:40,  4.48s/it]C:\\Users\\Admin\\anaconda3\\envs\\mossf\\lib\\site-packages\\sklearn\\base.py:493: FutureWarning: The feature names should match those that were passed during fit. Starting version 1.2, an error will be raised.\n",
      "Feature names unseen at fit time:\n",
      "- rainfall\n",
      "Feature names seen at fit time, yet now missing:\n",
      "- radar_rainfall\n",
      "\n",
      "  warnings.warn(message, FutureWarning)\n"
     ]
    },
    {
     "name": "stdout",
     "output_type": "stream",
     "text": [
      "\n",
      "Processing file: D:\\1Yang\\0Research\\0_2566_radar_mosaic\\00mos_chaophraya\\00run_batch_acchr_codes\\2output\\0Hourly\\0Sontihn_RF\\0CBB_Pulse\\0output_mosaic\\2018072006_2000m.tif\n",
      "Warning: CRS not defined for D:\\1Yang\\0Research\\0_2566_radar_mosaic\\00mos_chaophraya\\00run_batch_acchr_codes\\2output\\0Hourly\\0Sontihn_RF\\0CBB_Pulse\\0output_mosaic\\2018072006_2000m.tif. Using WGS84 as default.\n",
      "Features shape: (250000, 3)\n",
      "NaN values before imputation: 114319\n",
      "NaN values after imputation: 114319\n",
      "Original data - Mean: 0.10, Max: 17.96\n",
      "Corrected data - Mean: 0.74, Max: 49.43\n"
     ]
    },
    {
     "name": "stderr",
     "output_type": "stream",
     "text": [
      " 51%|████████████████████████████████████████▊                                       | 120/235 [09:25<08:36,  4.49s/it]C:\\Users\\Admin\\anaconda3\\envs\\mossf\\lib\\site-packages\\sklearn\\base.py:493: FutureWarning: The feature names should match those that were passed during fit. Starting version 1.2, an error will be raised.\n",
      "Feature names unseen at fit time:\n",
      "- rainfall\n",
      "Feature names seen at fit time, yet now missing:\n",
      "- radar_rainfall\n",
      "\n",
      "  warnings.warn(message, FutureWarning)\n"
     ]
    },
    {
     "name": "stdout",
     "output_type": "stream",
     "text": [
      "\n",
      "Processing file: D:\\1Yang\\0Research\\0_2566_radar_mosaic\\00mos_chaophraya\\00run_batch_acchr_codes\\2output\\0Hourly\\0Sontihn_RF\\0CBB_Pulse\\0output_mosaic\\2018072007_2000m.tif\n",
      "Warning: CRS not defined for D:\\1Yang\\0Research\\0_2566_radar_mosaic\\00mos_chaophraya\\00run_batch_acchr_codes\\2output\\0Hourly\\0Sontihn_RF\\0CBB_Pulse\\0output_mosaic\\2018072007_2000m.tif. Using WGS84 as default.\n",
      "Features shape: (250000, 3)\n",
      "NaN values before imputation: 114535\n",
      "NaN values after imputation: 114535\n",
      "Original data - Mean: 0.14, Max: 22.67\n",
      "Corrected data - Mean: 1.12, Max: 49.43\n"
     ]
    },
    {
     "name": "stderr",
     "output_type": "stream",
     "text": [
      " 51%|█████████████████████████████████████████▏                                      | 121/235 [09:29<08:32,  4.50s/it]C:\\Users\\Admin\\anaconda3\\envs\\mossf\\lib\\site-packages\\sklearn\\base.py:493: FutureWarning: The feature names should match those that were passed during fit. Starting version 1.2, an error will be raised.\n",
      "Feature names unseen at fit time:\n",
      "- rainfall\n",
      "Feature names seen at fit time, yet now missing:\n",
      "- radar_rainfall\n",
      "\n",
      "  warnings.warn(message, FutureWarning)\n"
     ]
    },
    {
     "name": "stdout",
     "output_type": "stream",
     "text": [
      "\n",
      "Processing file: D:\\1Yang\\0Research\\0_2566_radar_mosaic\\00mos_chaophraya\\00run_batch_acchr_codes\\2output\\0Hourly\\0Sontihn_RF\\0CBB_Pulse\\0output_mosaic\\2018072008_2000m.tif\n",
      "Warning: CRS not defined for D:\\1Yang\\0Research\\0_2566_radar_mosaic\\00mos_chaophraya\\00run_batch_acchr_codes\\2output\\0Hourly\\0Sontihn_RF\\0CBB_Pulse\\0output_mosaic\\2018072008_2000m.tif. Using WGS84 as default.\n",
      "Features shape: (250000, 3)\n",
      "NaN values before imputation: 114339\n",
      "NaN values after imputation: 114339\n",
      "Original data - Mean: 0.15, Max: 26.74\n",
      "Corrected data - Mean: 0.92, Max: 49.43\n"
     ]
    },
    {
     "name": "stderr",
     "output_type": "stream",
     "text": [
      " 52%|█████████████████████████████████████████▌                                      | 122/235 [09:34<08:27,  4.49s/it]C:\\Users\\Admin\\anaconda3\\envs\\mossf\\lib\\site-packages\\sklearn\\base.py:493: FutureWarning: The feature names should match those that were passed during fit. Starting version 1.2, an error will be raised.\n",
      "Feature names unseen at fit time:\n",
      "- rainfall\n",
      "Feature names seen at fit time, yet now missing:\n",
      "- radar_rainfall\n",
      "\n",
      "  warnings.warn(message, FutureWarning)\n"
     ]
    },
    {
     "name": "stdout",
     "output_type": "stream",
     "text": [
      "\n",
      "Processing file: D:\\1Yang\\0Research\\0_2566_radar_mosaic\\00mos_chaophraya\\00run_batch_acchr_codes\\2output\\0Hourly\\0Sontihn_RF\\0CBB_Pulse\\0output_mosaic\\2018072009_2000m.tif\n",
      "Warning: CRS not defined for D:\\1Yang\\0Research\\0_2566_radar_mosaic\\00mos_chaophraya\\00run_batch_acchr_codes\\2output\\0Hourly\\0Sontihn_RF\\0CBB_Pulse\\0output_mosaic\\2018072009_2000m.tif. Using WGS84 as default.\n",
      "Features shape: (250000, 3)\n",
      "NaN values before imputation: 114320\n",
      "NaN values after imputation: 114320\n",
      "Original data - Mean: 0.18, Max: 40.69\n",
      "Corrected data - Mean: 0.98, Max: 49.43\n"
     ]
    },
    {
     "name": "stderr",
     "output_type": "stream",
     "text": [
      " 52%|█████████████████████████████████████████▊                                      | 123/235 [09:38<08:23,  4.49s/it]C:\\Users\\Admin\\anaconda3\\envs\\mossf\\lib\\site-packages\\sklearn\\base.py:493: FutureWarning: The feature names should match those that were passed during fit. Starting version 1.2, an error will be raised.\n",
      "Feature names unseen at fit time:\n",
      "- rainfall\n",
      "Feature names seen at fit time, yet now missing:\n",
      "- radar_rainfall\n",
      "\n",
      "  warnings.warn(message, FutureWarning)\n"
     ]
    },
    {
     "name": "stdout",
     "output_type": "stream",
     "text": [
      "\n",
      "Processing file: D:\\1Yang\\0Research\\0_2566_radar_mosaic\\00mos_chaophraya\\00run_batch_acchr_codes\\2output\\0Hourly\\0Sontihn_RF\\0CBB_Pulse\\0output_mosaic\\2018072010_2000m.tif\n",
      "Warning: CRS not defined for D:\\1Yang\\0Research\\0_2566_radar_mosaic\\00mos_chaophraya\\00run_batch_acchr_codes\\2output\\0Hourly\\0Sontihn_RF\\0CBB_Pulse\\0output_mosaic\\2018072010_2000m.tif. Using WGS84 as default.\n",
      "Features shape: (250000, 3)\n",
      "NaN values before imputation: 114317\n",
      "NaN values after imputation: 114317\n",
      "Original data - Mean: 0.12, Max: 20.76\n",
      "Corrected data - Mean: 0.77, Max: 49.43\n"
     ]
    },
    {
     "name": "stderr",
     "output_type": "stream",
     "text": [
      " 53%|██████████████████████████████████████████▏                                     | 124/235 [09:43<08:18,  4.49s/it]C:\\Users\\Admin\\anaconda3\\envs\\mossf\\lib\\site-packages\\sklearn\\base.py:493: FutureWarning: The feature names should match those that were passed during fit. Starting version 1.2, an error will be raised.\n",
      "Feature names unseen at fit time:\n",
      "- rainfall\n",
      "Feature names seen at fit time, yet now missing:\n",
      "- radar_rainfall\n",
      "\n",
      "  warnings.warn(message, FutureWarning)\n"
     ]
    },
    {
     "name": "stdout",
     "output_type": "stream",
     "text": [
      "\n",
      "Processing file: D:\\1Yang\\0Research\\0_2566_radar_mosaic\\00mos_chaophraya\\00run_batch_acchr_codes\\2output\\0Hourly\\0Sontihn_RF\\0CBB_Pulse\\0output_mosaic\\2018072011_2000m.tif\n",
      "Warning: CRS not defined for D:\\1Yang\\0Research\\0_2566_radar_mosaic\\00mos_chaophraya\\00run_batch_acchr_codes\\2output\\0Hourly\\0Sontihn_RF\\0CBB_Pulse\\0output_mosaic\\2018072011_2000m.tif. Using WGS84 as default.\n",
      "Features shape: (250000, 3)\n",
      "NaN values before imputation: 114452\n",
      "NaN values after imputation: 114452\n",
      "Original data - Mean: 0.09, Max: 27.22\n",
      "Corrected data - Mean: 0.79, Max: 49.43\n"
     ]
    },
    {
     "name": "stderr",
     "output_type": "stream",
     "text": [
      " 53%|██████████████████████████████████████████▌                                     | 125/235 [09:47<08:14,  4.50s/it]C:\\Users\\Admin\\anaconda3\\envs\\mossf\\lib\\site-packages\\sklearn\\base.py:493: FutureWarning: The feature names should match those that were passed during fit. Starting version 1.2, an error will be raised.\n",
      "Feature names unseen at fit time:\n",
      "- rainfall\n",
      "Feature names seen at fit time, yet now missing:\n",
      "- radar_rainfall\n",
      "\n",
      "  warnings.warn(message, FutureWarning)\n"
     ]
    },
    {
     "name": "stdout",
     "output_type": "stream",
     "text": [
      "\n",
      "Processing file: D:\\1Yang\\0Research\\0_2566_radar_mosaic\\00mos_chaophraya\\00run_batch_acchr_codes\\2output\\0Hourly\\0Sontihn_RF\\0CBB_Pulse\\0output_mosaic\\2018072012_2000m.tif\n",
      "Warning: CRS not defined for D:\\1Yang\\0Research\\0_2566_radar_mosaic\\00mos_chaophraya\\00run_batch_acchr_codes\\2output\\0Hourly\\0Sontihn_RF\\0CBB_Pulse\\0output_mosaic\\2018072012_2000m.tif. Using WGS84 as default.\n",
      "Features shape: (250000, 3)\n",
      "NaN values before imputation: 114294\n",
      "NaN values after imputation: 114294\n",
      "Original data - Mean: 0.21, Max: 38.28\n",
      "Corrected data - Mean: 1.09, Max: 49.43\n"
     ]
    },
    {
     "name": "stderr",
     "output_type": "stream",
     "text": [
      " 54%|██████████████████████████████████████████▉                                     | 126/235 [09:52<08:10,  4.50s/it]C:\\Users\\Admin\\anaconda3\\envs\\mossf\\lib\\site-packages\\sklearn\\base.py:493: FutureWarning: The feature names should match those that were passed during fit. Starting version 1.2, an error will be raised.\n",
      "Feature names unseen at fit time:\n",
      "- rainfall\n",
      "Feature names seen at fit time, yet now missing:\n",
      "- radar_rainfall\n",
      "\n",
      "  warnings.warn(message, FutureWarning)\n"
     ]
    },
    {
     "name": "stdout",
     "output_type": "stream",
     "text": [
      "\n",
      "Processing file: D:\\1Yang\\0Research\\0_2566_radar_mosaic\\00mos_chaophraya\\00run_batch_acchr_codes\\2output\\0Hourly\\0Sontihn_RF\\0CBB_Pulse\\0output_mosaic\\2018072018_2000m.tif\n",
      "Warning: CRS not defined for D:\\1Yang\\0Research\\0_2566_radar_mosaic\\00mos_chaophraya\\00run_batch_acchr_codes\\2output\\0Hourly\\0Sontihn_RF\\0CBB_Pulse\\0output_mosaic\\2018072018_2000m.tif. Using WGS84 as default.\n",
      "Features shape: (250000, 3)\n",
      "NaN values before imputation: 114332\n",
      "NaN values after imputation: 114332\n",
      "Original data - Mean: 0.05, Max: 68.34\n",
      "Corrected data - Mean: 0.50, Max: 49.43\n"
     ]
    },
    {
     "name": "stderr",
     "output_type": "stream",
     "text": [
      " 54%|███████████████████████████████████████████▏                                    | 127/235 [09:56<08:05,  4.50s/it]C:\\Users\\Admin\\anaconda3\\envs\\mossf\\lib\\site-packages\\sklearn\\base.py:493: FutureWarning: The feature names should match those that were passed during fit. Starting version 1.2, an error will be raised.\n",
      "Feature names unseen at fit time:\n",
      "- rainfall\n",
      "Feature names seen at fit time, yet now missing:\n",
      "- radar_rainfall\n",
      "\n",
      "  warnings.warn(message, FutureWarning)\n"
     ]
    },
    {
     "name": "stdout",
     "output_type": "stream",
     "text": [
      "\n",
      "Processing file: D:\\1Yang\\0Research\\0_2566_radar_mosaic\\00mos_chaophraya\\00run_batch_acchr_codes\\2output\\0Hourly\\0Sontihn_RF\\0CBB_Pulse\\0output_mosaic\\2018072019_2000m.tif\n",
      "Warning: CRS not defined for D:\\1Yang\\0Research\\0_2566_radar_mosaic\\00mos_chaophraya\\00run_batch_acchr_codes\\2output\\0Hourly\\0Sontihn_RF\\0CBB_Pulse\\0output_mosaic\\2018072019_2000m.tif. Using WGS84 as default.\n",
      "Features shape: (250000, 3)\n",
      "NaN values before imputation: 114314\n",
      "NaN values after imputation: 114314\n",
      "Original data - Mean: 0.06, Max: 53.22\n",
      "Corrected data - Mean: 0.50, Max: 49.43\n"
     ]
    },
    {
     "name": "stderr",
     "output_type": "stream",
     "text": [
      " 54%|███████████████████████████████████████████▌                                    | 128/235 [10:01<08:02,  4.51s/it]C:\\Users\\Admin\\anaconda3\\envs\\mossf\\lib\\site-packages\\sklearn\\base.py:493: FutureWarning: The feature names should match those that were passed during fit. Starting version 1.2, an error will be raised.\n",
      "Feature names unseen at fit time:\n",
      "- rainfall\n",
      "Feature names seen at fit time, yet now missing:\n",
      "- radar_rainfall\n",
      "\n",
      "  warnings.warn(message, FutureWarning)\n"
     ]
    },
    {
     "name": "stdout",
     "output_type": "stream",
     "text": [
      "\n",
      "Processing file: D:\\1Yang\\0Research\\0_2566_radar_mosaic\\00mos_chaophraya\\00run_batch_acchr_codes\\2output\\0Hourly\\0Sontihn_RF\\0CBB_Pulse\\0output_mosaic\\2018072020_2000m.tif\n",
      "Warning: CRS not defined for D:\\1Yang\\0Research\\0_2566_radar_mosaic\\00mos_chaophraya\\00run_batch_acchr_codes\\2output\\0Hourly\\0Sontihn_RF\\0CBB_Pulse\\0output_mosaic\\2018072020_2000m.tif. Using WGS84 as default.\n",
      "Features shape: (250000, 3)\n",
      "NaN values before imputation: 114453\n",
      "NaN values after imputation: 114453\n",
      "Original data - Mean: 0.08, Max: 64.26\n",
      "Corrected data - Mean: 0.46, Max: 49.43\n"
     ]
    },
    {
     "name": "stderr",
     "output_type": "stream",
     "text": [
      " 55%|███████████████████████████████████████████▉                                    | 129/235 [10:05<07:58,  4.51s/it]C:\\Users\\Admin\\anaconda3\\envs\\mossf\\lib\\site-packages\\sklearn\\base.py:493: FutureWarning: The feature names should match those that were passed during fit. Starting version 1.2, an error will be raised.\n",
      "Feature names unseen at fit time:\n",
      "- rainfall\n",
      "Feature names seen at fit time, yet now missing:\n",
      "- radar_rainfall\n",
      "\n",
      "  warnings.warn(message, FutureWarning)\n"
     ]
    },
    {
     "name": "stdout",
     "output_type": "stream",
     "text": [
      "\n",
      "Processing file: D:\\1Yang\\0Research\\0_2566_radar_mosaic\\00mos_chaophraya\\00run_batch_acchr_codes\\2output\\0Hourly\\0Sontihn_RF\\0CBB_Pulse\\0output_mosaic\\2018072021_2000m.tif\n",
      "Warning: CRS not defined for D:\\1Yang\\0Research\\0_2566_radar_mosaic\\00mos_chaophraya\\00run_batch_acchr_codes\\2output\\0Hourly\\0Sontihn_RF\\0CBB_Pulse\\0output_mosaic\\2018072021_2000m.tif. Using WGS84 as default.\n",
      "Features shape: (250000, 3)\n",
      "NaN values before imputation: 114286\n",
      "NaN values after imputation: 114286\n",
      "Original data - Mean: 0.03, Max: 26.26\n",
      "Corrected data - Mean: 0.33, Max: 49.43\n"
     ]
    },
    {
     "name": "stderr",
     "output_type": "stream",
     "text": [
      " 55%|████████████████████████████████████████████▎                                   | 130/235 [10:10<07:54,  4.52s/it]C:\\Users\\Admin\\anaconda3\\envs\\mossf\\lib\\site-packages\\sklearn\\base.py:493: FutureWarning: The feature names should match those that were passed during fit. Starting version 1.2, an error will be raised.\n",
      "Feature names unseen at fit time:\n",
      "- rainfall\n",
      "Feature names seen at fit time, yet now missing:\n",
      "- radar_rainfall\n",
      "\n",
      "  warnings.warn(message, FutureWarning)\n"
     ]
    },
    {
     "name": "stdout",
     "output_type": "stream",
     "text": [
      "\n",
      "Processing file: D:\\1Yang\\0Research\\0_2566_radar_mosaic\\00mos_chaophraya\\00run_batch_acchr_codes\\2output\\0Hourly\\0Sontihn_RF\\0CBB_Pulse\\0output_mosaic\\2018072022_2000m.tif\n",
      "Warning: CRS not defined for D:\\1Yang\\0Research\\0_2566_radar_mosaic\\00mos_chaophraya\\00run_batch_acchr_codes\\2output\\0Hourly\\0Sontihn_RF\\0CBB_Pulse\\0output_mosaic\\2018072022_2000m.tif. Using WGS84 as default.\n",
      "Features shape: (250000, 3)\n",
      "NaN values before imputation: 114468\n",
      "NaN values after imputation: 114468\n",
      "Original data - Mean: 0.02, Max: 62.01\n",
      "Corrected data - Mean: 0.21, Max: 49.43\n"
     ]
    },
    {
     "name": "stderr",
     "output_type": "stream",
     "text": [
      " 56%|████████████████████████████████████████████▌                                   | 131/235 [10:15<08:22,  4.83s/it]C:\\Users\\Admin\\anaconda3\\envs\\mossf\\lib\\site-packages\\sklearn\\base.py:493: FutureWarning: The feature names should match those that were passed during fit. Starting version 1.2, an error will be raised.\n",
      "Feature names unseen at fit time:\n",
      "- rainfall\n",
      "Feature names seen at fit time, yet now missing:\n",
      "- radar_rainfall\n",
      "\n",
      "  warnings.warn(message, FutureWarning)\n"
     ]
    },
    {
     "name": "stdout",
     "output_type": "stream",
     "text": [
      "\n",
      "Processing file: D:\\1Yang\\0Research\\0_2566_radar_mosaic\\00mos_chaophraya\\00run_batch_acchr_codes\\2output\\0Hourly\\0Sontihn_RF\\0CBB_Pulse\\0output_mosaic\\2018072023_2000m.tif\n",
      "Warning: CRS not defined for D:\\1Yang\\0Research\\0_2566_radar_mosaic\\00mos_chaophraya\\00run_batch_acchr_codes\\2output\\0Hourly\\0Sontihn_RF\\0CBB_Pulse\\0output_mosaic\\2018072023_2000m.tif. Using WGS84 as default.\n",
      "Features shape: (250000, 3)\n",
      "NaN values before imputation: 114299\n",
      "NaN values after imputation: 114299\n",
      "Original data - Mean: 0.03, Max: 30.69\n",
      "Corrected data - Mean: 0.26, Max: 49.43\n"
     ]
    },
    {
     "name": "stderr",
     "output_type": "stream",
     "text": [
      " 56%|████████████████████████████████████████████▉                                   | 132/235 [10:20<08:10,  4.76s/it]C:\\Users\\Admin\\anaconda3\\envs\\mossf\\lib\\site-packages\\sklearn\\base.py:493: FutureWarning: The feature names should match those that were passed during fit. Starting version 1.2, an error will be raised.\n",
      "Feature names unseen at fit time:\n",
      "- rainfall\n",
      "Feature names seen at fit time, yet now missing:\n",
      "- radar_rainfall\n",
      "\n",
      "  warnings.warn(message, FutureWarning)\n"
     ]
    },
    {
     "name": "stdout",
     "output_type": "stream",
     "text": [
      "\n",
      "Processing file: D:\\1Yang\\0Research\\0_2566_radar_mosaic\\00mos_chaophraya\\00run_batch_acchr_codes\\2output\\0Hourly\\0Sontihn_RF\\0CBB_Pulse\\0output_mosaic\\2018072100_2000m.tif\n",
      "Warning: CRS not defined for D:\\1Yang\\0Research\\0_2566_radar_mosaic\\00mos_chaophraya\\00run_batch_acchr_codes\\2output\\0Hourly\\0Sontihn_RF\\0CBB_Pulse\\0output_mosaic\\2018072100_2000m.tif. Using WGS84 as default.\n",
      "Features shape: (250000, 3)\n",
      "NaN values before imputation: 114370\n",
      "NaN values after imputation: 114370\n",
      "Original data - Mean: 0.12, Max: 77.38\n",
      "Corrected data - Mean: 0.64, Max: 49.43\n"
     ]
    },
    {
     "name": "stderr",
     "output_type": "stream",
     "text": [
      " 57%|█████████████████████████████████████████████▎                                  | 133/235 [10:25<07:57,  4.68s/it]C:\\Users\\Admin\\anaconda3\\envs\\mossf\\lib\\site-packages\\sklearn\\base.py:493: FutureWarning: The feature names should match those that were passed during fit. Starting version 1.2, an error will be raised.\n",
      "Feature names unseen at fit time:\n",
      "- rainfall\n",
      "Feature names seen at fit time, yet now missing:\n",
      "- radar_rainfall\n",
      "\n",
      "  warnings.warn(message, FutureWarning)\n"
     ]
    },
    {
     "name": "stdout",
     "output_type": "stream",
     "text": [
      "\n",
      "Processing file: D:\\1Yang\\0Research\\0_2566_radar_mosaic\\00mos_chaophraya\\00run_batch_acchr_codes\\2output\\0Hourly\\0Sontihn_RF\\0CBB_Pulse\\0output_mosaic\\2018072101_2000m.tif\n",
      "Warning: CRS not defined for D:\\1Yang\\0Research\\0_2566_radar_mosaic\\00mos_chaophraya\\00run_batch_acchr_codes\\2output\\0Hourly\\0Sontihn_RF\\0CBB_Pulse\\0output_mosaic\\2018072101_2000m.tif. Using WGS84 as default.\n",
      "Features shape: (250000, 3)\n",
      "NaN values before imputation: 114326\n",
      "NaN values after imputation: 114326\n",
      "Original data - Mean: 0.20, Max: 57.12\n",
      "Corrected data - Mean: 0.88, Max: 49.43\n"
     ]
    },
    {
     "name": "stderr",
     "output_type": "stream",
     "text": [
      " 57%|█████████████████████████████████████████████▌                                  | 134/235 [10:29<07:47,  4.63s/it]C:\\Users\\Admin\\anaconda3\\envs\\mossf\\lib\\site-packages\\sklearn\\base.py:493: FutureWarning: The feature names should match those that were passed during fit. Starting version 1.2, an error will be raised.\n",
      "Feature names unseen at fit time:\n",
      "- rainfall\n",
      "Feature names seen at fit time, yet now missing:\n",
      "- radar_rainfall\n",
      "\n",
      "  warnings.warn(message, FutureWarning)\n"
     ]
    },
    {
     "name": "stdout",
     "output_type": "stream",
     "text": [
      "\n",
      "Processing file: D:\\1Yang\\0Research\\0_2566_radar_mosaic\\00mos_chaophraya\\00run_batch_acchr_codes\\2output\\0Hourly\\0Sontihn_RF\\0CBB_Pulse\\0output_mosaic\\2018072102_2000m.tif\n",
      "Warning: CRS not defined for D:\\1Yang\\0Research\\0_2566_radar_mosaic\\00mos_chaophraya\\00run_batch_acchr_codes\\2output\\0Hourly\\0Sontihn_RF\\0CBB_Pulse\\0output_mosaic\\2018072102_2000m.tif. Using WGS84 as default.\n",
      "Features shape: (250000, 3)\n",
      "NaN values before imputation: 114298\n",
      "NaN values after imputation: 114298\n",
      "Original data - Mean: 0.19, Max: 38.20\n",
      "Corrected data - Mean: 0.86, Max: 49.43\n"
     ]
    },
    {
     "name": "stderr",
     "output_type": "stream",
     "text": [
      " 57%|█████████████████████████████████████████████▉                                  | 135/235 [10:34<07:40,  4.60s/it]C:\\Users\\Admin\\anaconda3\\envs\\mossf\\lib\\site-packages\\sklearn\\base.py:493: FutureWarning: The feature names should match those that were passed during fit. Starting version 1.2, an error will be raised.\n",
      "Feature names unseen at fit time:\n",
      "- rainfall\n",
      "Feature names seen at fit time, yet now missing:\n",
      "- radar_rainfall\n",
      "\n",
      "  warnings.warn(message, FutureWarning)\n"
     ]
    },
    {
     "name": "stdout",
     "output_type": "stream",
     "text": [
      "\n",
      "Processing file: D:\\1Yang\\0Research\\0_2566_radar_mosaic\\00mos_chaophraya\\00run_batch_acchr_codes\\2output\\0Hourly\\0Sontihn_RF\\0CBB_Pulse\\0output_mosaic\\2018072103_2000m.tif\n",
      "Warning: CRS not defined for D:\\1Yang\\0Research\\0_2566_radar_mosaic\\00mos_chaophraya\\00run_batch_acchr_codes\\2output\\0Hourly\\0Sontihn_RF\\0CBB_Pulse\\0output_mosaic\\2018072103_2000m.tif. Using WGS84 as default.\n",
      "Features shape: (250000, 3)\n",
      "NaN values before imputation: 114317\n",
      "NaN values after imputation: 114317\n",
      "Original data - Mean: 0.22, Max: 66.99\n",
      "Corrected data - Mean: 0.88, Max: 49.43\n"
     ]
    },
    {
     "name": "stderr",
     "output_type": "stream",
     "text": [
      " 58%|██████████████████████████████████████████████▎                                 | 136/235 [10:38<07:32,  4.57s/it]C:\\Users\\Admin\\anaconda3\\envs\\mossf\\lib\\site-packages\\sklearn\\base.py:493: FutureWarning: The feature names should match those that were passed during fit. Starting version 1.2, an error will be raised.\n",
      "Feature names unseen at fit time:\n",
      "- rainfall\n",
      "Feature names seen at fit time, yet now missing:\n",
      "- radar_rainfall\n",
      "\n",
      "  warnings.warn(message, FutureWarning)\n"
     ]
    },
    {
     "name": "stdout",
     "output_type": "stream",
     "text": [
      "\n",
      "Processing file: D:\\1Yang\\0Research\\0_2566_radar_mosaic\\00mos_chaophraya\\00run_batch_acchr_codes\\2output\\0Hourly\\0Sontihn_RF\\0CBB_Pulse\\0output_mosaic\\2018072104_2000m.tif\n",
      "Warning: CRS not defined for D:\\1Yang\\0Research\\0_2566_radar_mosaic\\00mos_chaophraya\\00run_batch_acchr_codes\\2output\\0Hourly\\0Sontihn_RF\\0CBB_Pulse\\0output_mosaic\\2018072104_2000m.tif. Using WGS84 as default.\n",
      "Features shape: (250000, 3)\n",
      "NaN values before imputation: 114353\n",
      "NaN values after imputation: 114353\n",
      "Original data - Mean: 0.17, Max: 78.49\n",
      "Corrected data - Mean: 0.72, Max: 49.43\n"
     ]
    },
    {
     "name": "stderr",
     "output_type": "stream",
     "text": [
      " 58%|██████████████████████████████████████████████▋                                 | 137/235 [10:43<07:27,  4.57s/it]C:\\Users\\Admin\\anaconda3\\envs\\mossf\\lib\\site-packages\\sklearn\\base.py:493: FutureWarning: The feature names should match those that were passed during fit. Starting version 1.2, an error will be raised.\n",
      "Feature names unseen at fit time:\n",
      "- rainfall\n",
      "Feature names seen at fit time, yet now missing:\n",
      "- radar_rainfall\n",
      "\n",
      "  warnings.warn(message, FutureWarning)\n"
     ]
    },
    {
     "name": "stdout",
     "output_type": "stream",
     "text": [
      "\n",
      "Processing file: D:\\1Yang\\0Research\\0_2566_radar_mosaic\\00mos_chaophraya\\00run_batch_acchr_codes\\2output\\0Hourly\\0Sontihn_RF\\0CBB_Pulse\\0output_mosaic\\2018072105_2000m.tif\n",
      "Warning: CRS not defined for D:\\1Yang\\0Research\\0_2566_radar_mosaic\\00mos_chaophraya\\00run_batch_acchr_codes\\2output\\0Hourly\\0Sontihn_RF\\0CBB_Pulse\\0output_mosaic\\2018072105_2000m.tif. Using WGS84 as default.\n",
      "Features shape: (250000, 3)\n",
      "NaN values before imputation: 114289\n",
      "NaN values after imputation: 114289\n",
      "Original data - Mean: 0.10, Max: 76.92\n",
      "Corrected data - Mean: 0.51, Max: 49.43\n"
     ]
    },
    {
     "name": "stderr",
     "output_type": "stream",
     "text": [
      " 59%|██████████████████████████████████████████████▉                                 | 138/235 [10:47<07:21,  4.55s/it]C:\\Users\\Admin\\anaconda3\\envs\\mossf\\lib\\site-packages\\sklearn\\base.py:493: FutureWarning: The feature names should match those that were passed during fit. Starting version 1.2, an error will be raised.\n",
      "Feature names unseen at fit time:\n",
      "- rainfall\n",
      "Feature names seen at fit time, yet now missing:\n",
      "- radar_rainfall\n",
      "\n",
      "  warnings.warn(message, FutureWarning)\n"
     ]
    },
    {
     "name": "stdout",
     "output_type": "stream",
     "text": [
      "\n",
      "Processing file: D:\\1Yang\\0Research\\0_2566_radar_mosaic\\00mos_chaophraya\\00run_batch_acchr_codes\\2output\\0Hourly\\0Sontihn_RF\\0CBB_Pulse\\0output_mosaic\\2018072106_2000m.tif\n",
      "Warning: CRS not defined for D:\\1Yang\\0Research\\0_2566_radar_mosaic\\00mos_chaophraya\\00run_batch_acchr_codes\\2output\\0Hourly\\0Sontihn_RF\\0CBB_Pulse\\0output_mosaic\\2018072106_2000m.tif. Using WGS84 as default.\n",
      "Features shape: (250000, 3)\n",
      "NaN values before imputation: 114344\n",
      "NaN values after imputation: 114344\n",
      "Original data - Mean: 0.07, Max: 41.56\n",
      "Corrected data - Mean: 0.41, Max: 49.43\n"
     ]
    },
    {
     "name": "stderr",
     "output_type": "stream",
     "text": [
      " 59%|███████████████████████████████████████████████▎                                | 139/235 [10:52<07:16,  4.54s/it]C:\\Users\\Admin\\anaconda3\\envs\\mossf\\lib\\site-packages\\sklearn\\base.py:493: FutureWarning: The feature names should match those that were passed during fit. Starting version 1.2, an error will be raised.\n",
      "Feature names unseen at fit time:\n",
      "- rainfall\n",
      "Feature names seen at fit time, yet now missing:\n",
      "- radar_rainfall\n",
      "\n",
      "  warnings.warn(message, FutureWarning)\n"
     ]
    },
    {
     "name": "stdout",
     "output_type": "stream",
     "text": [
      "\n",
      "Processing file: D:\\1Yang\\0Research\\0_2566_radar_mosaic\\00mos_chaophraya\\00run_batch_acchr_codes\\2output\\0Hourly\\0Sontihn_RF\\0CBB_Pulse\\0output_mosaic\\2018072107_2000m.tif\n",
      "Warning: CRS not defined for D:\\1Yang\\0Research\\0_2566_radar_mosaic\\00mos_chaophraya\\00run_batch_acchr_codes\\2output\\0Hourly\\0Sontihn_RF\\0CBB_Pulse\\0output_mosaic\\2018072107_2000m.tif. Using WGS84 as default.\n",
      "Features shape: (250000, 3)\n",
      "NaN values before imputation: 114319\n",
      "NaN values after imputation: 114319\n",
      "Original data - Mean: 0.05, Max: 62.66\n",
      "Corrected data - Mean: 0.39, Max: 49.43\n"
     ]
    },
    {
     "name": "stderr",
     "output_type": "stream",
     "text": [
      " 60%|███████████████████████████████████████████████▋                                | 140/235 [10:56<07:10,  4.54s/it]C:\\Users\\Admin\\anaconda3\\envs\\mossf\\lib\\site-packages\\sklearn\\base.py:493: FutureWarning: The feature names should match those that were passed during fit. Starting version 1.2, an error will be raised.\n",
      "Feature names unseen at fit time:\n",
      "- rainfall\n",
      "Feature names seen at fit time, yet now missing:\n",
      "- radar_rainfall\n",
      "\n",
      "  warnings.warn(message, FutureWarning)\n"
     ]
    },
    {
     "name": "stdout",
     "output_type": "stream",
     "text": [
      "\n",
      "Processing file: D:\\1Yang\\0Research\\0_2566_radar_mosaic\\00mos_chaophraya\\00run_batch_acchr_codes\\2output\\0Hourly\\0Sontihn_RF\\0CBB_Pulse\\0output_mosaic\\2018072108_2000m.tif\n",
      "Warning: CRS not defined for D:\\1Yang\\0Research\\0_2566_radar_mosaic\\00mos_chaophraya\\00run_batch_acchr_codes\\2output\\0Hourly\\0Sontihn_RF\\0CBB_Pulse\\0output_mosaic\\2018072108_2000m.tif. Using WGS84 as default.\n",
      "Features shape: (250000, 3)\n",
      "NaN values before imputation: 114312\n",
      "NaN values after imputation: 114312\n",
      "Original data - Mean: 0.10, Max: 51.07\n",
      "Corrected data - Mean: 0.51, Max: 49.43\n"
     ]
    },
    {
     "name": "stderr",
     "output_type": "stream",
     "text": [
      " 60%|████████████████████████████████████████████████                                | 141/235 [11:01<07:05,  4.53s/it]C:\\Users\\Admin\\anaconda3\\envs\\mossf\\lib\\site-packages\\sklearn\\base.py:493: FutureWarning: The feature names should match those that were passed during fit. Starting version 1.2, an error will be raised.\n",
      "Feature names unseen at fit time:\n",
      "- rainfall\n",
      "Feature names seen at fit time, yet now missing:\n",
      "- radar_rainfall\n",
      "\n",
      "  warnings.warn(message, FutureWarning)\n"
     ]
    },
    {
     "name": "stdout",
     "output_type": "stream",
     "text": [
      "\n",
      "Processing file: D:\\1Yang\\0Research\\0_2566_radar_mosaic\\00mos_chaophraya\\00run_batch_acchr_codes\\2output\\0Hourly\\0Sontihn_RF\\0CBB_Pulse\\0output_mosaic\\2018072109_2000m.tif\n",
      "Warning: CRS not defined for D:\\1Yang\\0Research\\0_2566_radar_mosaic\\00mos_chaophraya\\00run_batch_acchr_codes\\2output\\0Hourly\\0Sontihn_RF\\0CBB_Pulse\\0output_mosaic\\2018072109_2000m.tif. Using WGS84 as default.\n",
      "Features shape: (250000, 3)\n",
      "NaN values before imputation: 114320\n",
      "NaN values after imputation: 114320\n",
      "Original data - Mean: 0.09, Max: 63.69\n",
      "Corrected data - Mean: 0.43, Max: 49.43\n"
     ]
    },
    {
     "name": "stderr",
     "output_type": "stream",
     "text": [
      " 60%|████████████████████████████████████████████████▎                               | 142/235 [11:05<07:05,  4.57s/it]C:\\Users\\Admin\\anaconda3\\envs\\mossf\\lib\\site-packages\\sklearn\\base.py:493: FutureWarning: The feature names should match those that were passed during fit. Starting version 1.2, an error will be raised.\n",
      "Feature names unseen at fit time:\n",
      "- rainfall\n",
      "Feature names seen at fit time, yet now missing:\n",
      "- radar_rainfall\n",
      "\n",
      "  warnings.warn(message, FutureWarning)\n"
     ]
    },
    {
     "name": "stdout",
     "output_type": "stream",
     "text": [
      "\n",
      "Processing file: D:\\1Yang\\0Research\\0_2566_radar_mosaic\\00mos_chaophraya\\00run_batch_acchr_codes\\2output\\0Hourly\\0Sontihn_RF\\0CBB_Pulse\\0output_mosaic\\2018072110_2000m.tif\n",
      "Warning: CRS not defined for D:\\1Yang\\0Research\\0_2566_radar_mosaic\\00mos_chaophraya\\00run_batch_acchr_codes\\2output\\0Hourly\\0Sontihn_RF\\0CBB_Pulse\\0output_mosaic\\2018072110_2000m.tif. Using WGS84 as default.\n",
      "Features shape: (250000, 3)\n",
      "NaN values before imputation: 114415\n",
      "NaN values after imputation: 114415\n",
      "Original data - Mean: 0.07, Max: 31.87\n",
      "Corrected data - Mean: 0.35, Max: 49.43\n"
     ]
    },
    {
     "name": "stderr",
     "output_type": "stream",
     "text": [
      " 61%|████████████████████████████████████████████████▋                               | 143/235 [11:10<06:59,  4.56s/it]C:\\Users\\Admin\\anaconda3\\envs\\mossf\\lib\\site-packages\\sklearn\\base.py:493: FutureWarning: The feature names should match those that were passed during fit. Starting version 1.2, an error will be raised.\n",
      "Feature names unseen at fit time:\n",
      "- rainfall\n",
      "Feature names seen at fit time, yet now missing:\n",
      "- radar_rainfall\n",
      "\n",
      "  warnings.warn(message, FutureWarning)\n"
     ]
    },
    {
     "name": "stdout",
     "output_type": "stream",
     "text": [
      "\n",
      "Processing file: D:\\1Yang\\0Research\\0_2566_radar_mosaic\\00mos_chaophraya\\00run_batch_acchr_codes\\2output\\0Hourly\\0Sontihn_RF\\0CBB_Pulse\\0output_mosaic\\2018072111_2000m.tif\n",
      "Warning: CRS not defined for D:\\1Yang\\0Research\\0_2566_radar_mosaic\\00mos_chaophraya\\00run_batch_acchr_codes\\2output\\0Hourly\\0Sontihn_RF\\0CBB_Pulse\\0output_mosaic\\2018072111_2000m.tif. Using WGS84 as default.\n",
      "Features shape: (250000, 3)\n",
      "NaN values before imputation: 114478\n",
      "NaN values after imputation: 114478\n",
      "Original data - Mean: 0.06, Max: 64.16\n",
      "Corrected data - Mean: 0.37, Max: 49.43\n"
     ]
    },
    {
     "name": "stderr",
     "output_type": "stream",
     "text": [
      " 61%|█████████████████████████████████████████████████                               | 144/235 [11:15<06:57,  4.58s/it]C:\\Users\\Admin\\anaconda3\\envs\\mossf\\lib\\site-packages\\sklearn\\base.py:493: FutureWarning: The feature names should match those that were passed during fit. Starting version 1.2, an error will be raised.\n",
      "Feature names unseen at fit time:\n",
      "- rainfall\n",
      "Feature names seen at fit time, yet now missing:\n",
      "- radar_rainfall\n",
      "\n",
      "  warnings.warn(message, FutureWarning)\n"
     ]
    },
    {
     "name": "stdout",
     "output_type": "stream",
     "text": [
      "\n",
      "Processing file: D:\\1Yang\\0Research\\0_2566_radar_mosaic\\00mos_chaophraya\\00run_batch_acchr_codes\\2output\\0Hourly\\0Sontihn_RF\\0CBB_Pulse\\0output_mosaic\\2018072112_2000m.tif\n",
      "Warning: CRS not defined for D:\\1Yang\\0Research\\0_2566_radar_mosaic\\00mos_chaophraya\\00run_batch_acchr_codes\\2output\\0Hourly\\0Sontihn_RF\\0CBB_Pulse\\0output_mosaic\\2018072112_2000m.tif. Using WGS84 as default.\n",
      "Features shape: (250000, 3)\n",
      "NaN values before imputation: 114457\n",
      "NaN values after imputation: 114457\n",
      "Original data - Mean: 0.07, Max: 85.34\n",
      "Corrected data - Mean: 0.35, Max: 49.43\n"
     ]
    },
    {
     "name": "stderr",
     "output_type": "stream",
     "text": [
      " 62%|█████████████████████████████████████████████████▎                              | 145/235 [11:20<07:11,  4.79s/it]C:\\Users\\Admin\\anaconda3\\envs\\mossf\\lib\\site-packages\\sklearn\\base.py:493: FutureWarning: The feature names should match those that were passed during fit. Starting version 1.2, an error will be raised.\n",
      "Feature names unseen at fit time:\n",
      "- rainfall\n",
      "Feature names seen at fit time, yet now missing:\n",
      "- radar_rainfall\n",
      "\n",
      "  warnings.warn(message, FutureWarning)\n"
     ]
    },
    {
     "name": "stdout",
     "output_type": "stream",
     "text": [
      "\n",
      "Processing file: D:\\1Yang\\0Research\\0_2566_radar_mosaic\\00mos_chaophraya\\00run_batch_acchr_codes\\2output\\0Hourly\\0Sontihn_RF\\0CBB_Pulse\\0output_mosaic\\2018072113_2000m.tif\n",
      "Warning: CRS not defined for D:\\1Yang\\0Research\\0_2566_radar_mosaic\\00mos_chaophraya\\00run_batch_acchr_codes\\2output\\0Hourly\\0Sontihn_RF\\0CBB_Pulse\\0output_mosaic\\2018072113_2000m.tif. Using WGS84 as default.\n",
      "Features shape: (250000, 3)\n",
      "NaN values before imputation: 114300\n",
      "NaN values after imputation: 114300\n",
      "Original data - Mean: 0.05, Max: 50.46\n",
      "Corrected data - Mean: 0.30, Max: 49.43\n"
     ]
    },
    {
     "name": "stderr",
     "output_type": "stream",
     "text": [
      " 62%|█████████████████████████████████████████████████▋                              | 146/235 [11:24<06:59,  4.71s/it]C:\\Users\\Admin\\anaconda3\\envs\\mossf\\lib\\site-packages\\sklearn\\base.py:493: FutureWarning: The feature names should match those that were passed during fit. Starting version 1.2, an error will be raised.\n",
      "Feature names unseen at fit time:\n",
      "- rainfall\n",
      "Feature names seen at fit time, yet now missing:\n",
      "- radar_rainfall\n",
      "\n",
      "  warnings.warn(message, FutureWarning)\n"
     ]
    },
    {
     "name": "stdout",
     "output_type": "stream",
     "text": [
      "\n",
      "Processing file: D:\\1Yang\\0Research\\0_2566_radar_mosaic\\00mos_chaophraya\\00run_batch_acchr_codes\\2output\\0Hourly\\0Sontihn_RF\\0CBB_Pulse\\0output_mosaic\\2018072114_2000m.tif\n",
      "Warning: CRS not defined for D:\\1Yang\\0Research\\0_2566_radar_mosaic\\00mos_chaophraya\\00run_batch_acchr_codes\\2output\\0Hourly\\0Sontihn_RF\\0CBB_Pulse\\0output_mosaic\\2018072114_2000m.tif. Using WGS84 as default.\n",
      "Features shape: (250000, 3)\n",
      "NaN values before imputation: 114322\n",
      "NaN values after imputation: 114322\n",
      "Original data - Mean: 0.06, Max: 39.26\n",
      "Corrected data - Mean: 0.58, Max: 49.43\n"
     ]
    },
    {
     "name": "stderr",
     "output_type": "stream",
     "text": [
      " 63%|██████████████████████████████████████████████████                              | 147/235 [11:29<06:49,  4.65s/it]C:\\Users\\Admin\\anaconda3\\envs\\mossf\\lib\\site-packages\\sklearn\\base.py:493: FutureWarning: The feature names should match those that were passed during fit. Starting version 1.2, an error will be raised.\n",
      "Feature names unseen at fit time:\n",
      "- rainfall\n",
      "Feature names seen at fit time, yet now missing:\n",
      "- radar_rainfall\n",
      "\n",
      "  warnings.warn(message, FutureWarning)\n"
     ]
    },
    {
     "name": "stdout",
     "output_type": "stream",
     "text": [
      "\n",
      "Processing file: D:\\1Yang\\0Research\\0_2566_radar_mosaic\\00mos_chaophraya\\00run_batch_acchr_codes\\2output\\0Hourly\\0Sontihn_RF\\0CBB_Pulse\\0output_mosaic\\2018072115_2000m.tif\n",
      "Warning: CRS not defined for D:\\1Yang\\0Research\\0_2566_radar_mosaic\\00mos_chaophraya\\00run_batch_acchr_codes\\2output\\0Hourly\\0Sontihn_RF\\0CBB_Pulse\\0output_mosaic\\2018072115_2000m.tif. Using WGS84 as default.\n",
      "Features shape: (250000, 3)\n",
      "NaN values before imputation: 114339\n",
      "NaN values after imputation: 114339\n",
      "Original data - Mean: 0.12, Max: 98.63\n",
      "Corrected data - Mean: 0.54, Max: 49.43\n"
     ]
    },
    {
     "name": "stderr",
     "output_type": "stream",
     "text": [
      " 63%|██████████████████████████████████████████████████▍                             | 148/235 [11:33<06:41,  4.61s/it]C:\\Users\\Admin\\anaconda3\\envs\\mossf\\lib\\site-packages\\sklearn\\base.py:493: FutureWarning: The feature names should match those that were passed during fit. Starting version 1.2, an error will be raised.\n",
      "Feature names unseen at fit time:\n",
      "- rainfall\n",
      "Feature names seen at fit time, yet now missing:\n",
      "- radar_rainfall\n",
      "\n",
      "  warnings.warn(message, FutureWarning)\n"
     ]
    },
    {
     "name": "stdout",
     "output_type": "stream",
     "text": [
      "\n",
      "Processing file: D:\\1Yang\\0Research\\0_2566_radar_mosaic\\00mos_chaophraya\\00run_batch_acchr_codes\\2output\\0Hourly\\0Sontihn_RF\\0CBB_Pulse\\0output_mosaic\\2018072116_2000m.tif\n",
      "Warning: CRS not defined for D:\\1Yang\\0Research\\0_2566_radar_mosaic\\00mos_chaophraya\\00run_batch_acchr_codes\\2output\\0Hourly\\0Sontihn_RF\\0CBB_Pulse\\0output_mosaic\\2018072116_2000m.tif. Using WGS84 as default.\n",
      "Features shape: (250000, 3)\n",
      "NaN values before imputation: 114293\n",
      "NaN values after imputation: 114293\n",
      "Original data - Mean: 0.21, Max: 65.20\n",
      "Corrected data - Mean: 0.84, Max: 49.43\n"
     ]
    },
    {
     "name": "stderr",
     "output_type": "stream",
     "text": [
      " 63%|██████████████████████████████████████████████████▋                             | 149/235 [11:38<06:35,  4.60s/it]C:\\Users\\Admin\\anaconda3\\envs\\mossf\\lib\\site-packages\\sklearn\\base.py:493: FutureWarning: The feature names should match those that were passed during fit. Starting version 1.2, an error will be raised.\n",
      "Feature names unseen at fit time:\n",
      "- rainfall\n",
      "Feature names seen at fit time, yet now missing:\n",
      "- radar_rainfall\n",
      "\n",
      "  warnings.warn(message, FutureWarning)\n"
     ]
    },
    {
     "name": "stdout",
     "output_type": "stream",
     "text": [
      "\n",
      "Processing file: D:\\1Yang\\0Research\\0_2566_radar_mosaic\\00mos_chaophraya\\00run_batch_acchr_codes\\2output\\0Hourly\\0Sontihn_RF\\0CBB_Pulse\\0output_mosaic\\2018072117_2000m.tif\n",
      "Warning: CRS not defined for D:\\1Yang\\0Research\\0_2566_radar_mosaic\\00mos_chaophraya\\00run_batch_acchr_codes\\2output\\0Hourly\\0Sontihn_RF\\0CBB_Pulse\\0output_mosaic\\2018072117_2000m.tif. Using WGS84 as default.\n",
      "Features shape: (250000, 3)\n",
      "NaN values before imputation: 114459\n",
      "NaN values after imputation: 114459\n",
      "Original data - Mean: 0.33, Max: 82.13\n",
      "Corrected data - Mean: 1.17, Max: 49.43\n"
     ]
    },
    {
     "name": "stderr",
     "output_type": "stream",
     "text": [
      " 64%|███████████████████████████████████████████████████                             | 150/235 [11:43<06:30,  4.59s/it]C:\\Users\\Admin\\anaconda3\\envs\\mossf\\lib\\site-packages\\sklearn\\base.py:493: FutureWarning: The feature names should match those that were passed during fit. Starting version 1.2, an error will be raised.\n",
      "Feature names unseen at fit time:\n",
      "- rainfall\n",
      "Feature names seen at fit time, yet now missing:\n",
      "- radar_rainfall\n",
      "\n",
      "  warnings.warn(message, FutureWarning)\n"
     ]
    },
    {
     "name": "stdout",
     "output_type": "stream",
     "text": [
      "\n",
      "Processing file: D:\\1Yang\\0Research\\0_2566_radar_mosaic\\00mos_chaophraya\\00run_batch_acchr_codes\\2output\\0Hourly\\0Sontihn_RF\\0CBB_Pulse\\0output_mosaic\\2018072118_2000m.tif\n",
      "Warning: CRS not defined for D:\\1Yang\\0Research\\0_2566_radar_mosaic\\00mos_chaophraya\\00run_batch_acchr_codes\\2output\\0Hourly\\0Sontihn_RF\\0CBB_Pulse\\0output_mosaic\\2018072118_2000m.tif. Using WGS84 as default.\n",
      "Features shape: (250000, 3)\n",
      "NaN values before imputation: 114326\n",
      "NaN values after imputation: 114326\n",
      "Original data - Mean: 0.34, Max: 89.36\n",
      "Corrected data - Mean: 1.21, Max: 49.43\n"
     ]
    },
    {
     "name": "stderr",
     "output_type": "stream",
     "text": [
      " 64%|███████████████████████████████████████████████████▍                            | 151/235 [11:47<06:25,  4.58s/it]C:\\Users\\Admin\\anaconda3\\envs\\mossf\\lib\\site-packages\\sklearn\\base.py:493: FutureWarning: The feature names should match those that were passed during fit. Starting version 1.2, an error will be raised.\n",
      "Feature names unseen at fit time:\n",
      "- rainfall\n",
      "Feature names seen at fit time, yet now missing:\n",
      "- radar_rainfall\n",
      "\n",
      "  warnings.warn(message, FutureWarning)\n"
     ]
    },
    {
     "name": "stdout",
     "output_type": "stream",
     "text": [
      "\n",
      "Processing file: D:\\1Yang\\0Research\\0_2566_radar_mosaic\\00mos_chaophraya\\00run_batch_acchr_codes\\2output\\0Hourly\\0Sontihn_RF\\0CBB_Pulse\\0output_mosaic\\2018072119_2000m.tif\n",
      "Warning: CRS not defined for D:\\1Yang\\0Research\\0_2566_radar_mosaic\\00mos_chaophraya\\00run_batch_acchr_codes\\2output\\0Hourly\\0Sontihn_RF\\0CBB_Pulse\\0output_mosaic\\2018072119_2000m.tif. Using WGS84 as default.\n",
      "Features shape: (250000, 3)\n",
      "NaN values before imputation: 114303\n",
      "NaN values after imputation: 114303\n",
      "Original data - Mean: 0.23, Max: 63.84\n",
      "Corrected data - Mean: 1.06, Max: 49.43\n"
     ]
    },
    {
     "name": "stderr",
     "output_type": "stream",
     "text": [
      " 65%|███████████████████████████████████████████████████▋                            | 152/235 [11:52<06:21,  4.59s/it]C:\\Users\\Admin\\anaconda3\\envs\\mossf\\lib\\site-packages\\sklearn\\base.py:493: FutureWarning: The feature names should match those that were passed during fit. Starting version 1.2, an error will be raised.\n",
      "Feature names unseen at fit time:\n",
      "- rainfall\n",
      "Feature names seen at fit time, yet now missing:\n",
      "- radar_rainfall\n",
      "\n",
      "  warnings.warn(message, FutureWarning)\n"
     ]
    },
    {
     "name": "stdout",
     "output_type": "stream",
     "text": [
      "\n",
      "Processing file: D:\\1Yang\\0Research\\0_2566_radar_mosaic\\00mos_chaophraya\\00run_batch_acchr_codes\\2output\\0Hourly\\0Sontihn_RF\\0CBB_Pulse\\0output_mosaic\\2018072120_2000m.tif\n",
      "Warning: CRS not defined for D:\\1Yang\\0Research\\0_2566_radar_mosaic\\00mos_chaophraya\\00run_batch_acchr_codes\\2output\\0Hourly\\0Sontihn_RF\\0CBB_Pulse\\0output_mosaic\\2018072120_2000m.tif. Using WGS84 as default.\n",
      "Features shape: (250000, 3)\n",
      "NaN values before imputation: 114343\n",
      "NaN values after imputation: 114343\n",
      "Original data - Mean: 0.25, Max: 63.53\n",
      "Corrected data - Mean: 1.26, Max: 49.43\n"
     ]
    },
    {
     "name": "stderr",
     "output_type": "stream",
     "text": [
      " 65%|████████████████████████████████████████████████████                            | 153/235 [11:56<06:17,  4.60s/it]C:\\Users\\Admin\\anaconda3\\envs\\mossf\\lib\\site-packages\\sklearn\\base.py:493: FutureWarning: The feature names should match those that were passed during fit. Starting version 1.2, an error will be raised.\n",
      "Feature names unseen at fit time:\n",
      "- rainfall\n",
      "Feature names seen at fit time, yet now missing:\n",
      "- radar_rainfall\n",
      "\n",
      "  warnings.warn(message, FutureWarning)\n"
     ]
    },
    {
     "name": "stdout",
     "output_type": "stream",
     "text": [
      "\n",
      "Processing file: D:\\1Yang\\0Research\\0_2566_radar_mosaic\\00mos_chaophraya\\00run_batch_acchr_codes\\2output\\0Hourly\\0Sontihn_RF\\0CBB_Pulse\\0output_mosaic\\2018072121_2000m.tif\n",
      "Warning: CRS not defined for D:\\1Yang\\0Research\\0_2566_radar_mosaic\\00mos_chaophraya\\00run_batch_acchr_codes\\2output\\0Hourly\\0Sontihn_RF\\0CBB_Pulse\\0output_mosaic\\2018072121_2000m.tif. Using WGS84 as default.\n",
      "Features shape: (250000, 3)\n",
      "NaN values before imputation: 114382\n",
      "NaN values after imputation: 114382\n",
      "Original data - Mean: 0.13, Max: 20.08\n",
      "Corrected data - Mean: 0.77, Max: 49.43\n"
     ]
    },
    {
     "name": "stderr",
     "output_type": "stream",
     "text": [
      " 66%|████████████████████████████████████████████████████▍                           | 154/235 [12:01<06:10,  4.57s/it]C:\\Users\\Admin\\anaconda3\\envs\\mossf\\lib\\site-packages\\sklearn\\base.py:493: FutureWarning: The feature names should match those that were passed during fit. Starting version 1.2, an error will be raised.\n",
      "Feature names unseen at fit time:\n",
      "- rainfall\n",
      "Feature names seen at fit time, yet now missing:\n",
      "- radar_rainfall\n",
      "\n",
      "  warnings.warn(message, FutureWarning)\n"
     ]
    },
    {
     "name": "stdout",
     "output_type": "stream",
     "text": [
      "\n",
      "Processing file: D:\\1Yang\\0Research\\0_2566_radar_mosaic\\00mos_chaophraya\\00run_batch_acchr_codes\\2output\\0Hourly\\0Sontihn_RF\\0CBB_Pulse\\0output_mosaic\\2018072122_2000m.tif\n",
      "Warning: CRS not defined for D:\\1Yang\\0Research\\0_2566_radar_mosaic\\00mos_chaophraya\\00run_batch_acchr_codes\\2output\\0Hourly\\0Sontihn_RF\\0CBB_Pulse\\0output_mosaic\\2018072122_2000m.tif. Using WGS84 as default.\n",
      "Features shape: (250000, 3)\n",
      "NaN values before imputation: 114278\n",
      "NaN values after imputation: 114278\n",
      "Original data - Mean: 0.06, Max: 19.93\n",
      "Corrected data - Mean: 0.61, Max: 49.43\n"
     ]
    },
    {
     "name": "stderr",
     "output_type": "stream",
     "text": [
      " 66%|████████████████████████████████████████████████████▊                           | 155/235 [12:05<06:05,  4.57s/it]C:\\Users\\Admin\\anaconda3\\envs\\mossf\\lib\\site-packages\\sklearn\\base.py:493: FutureWarning: The feature names should match those that were passed during fit. Starting version 1.2, an error will be raised.\n",
      "Feature names unseen at fit time:\n",
      "- rainfall\n",
      "Feature names seen at fit time, yet now missing:\n",
      "- radar_rainfall\n",
      "\n",
      "  warnings.warn(message, FutureWarning)\n"
     ]
    },
    {
     "name": "stdout",
     "output_type": "stream",
     "text": [
      "\n",
      "Processing file: D:\\1Yang\\0Research\\0_2566_radar_mosaic\\00mos_chaophraya\\00run_batch_acchr_codes\\2output\\0Hourly\\0Sontihn_RF\\0CBB_Pulse\\0output_mosaic\\2018072123_2000m.tif\n",
      "Warning: CRS not defined for D:\\1Yang\\0Research\\0_2566_radar_mosaic\\00mos_chaophraya\\00run_batch_acchr_codes\\2output\\0Hourly\\0Sontihn_RF\\0CBB_Pulse\\0output_mosaic\\2018072123_2000m.tif. Using WGS84 as default.\n",
      "Features shape: (250000, 3)\n",
      "NaN values before imputation: 114348\n",
      "NaN values after imputation: 114348\n",
      "Original data - Mean: 0.03, Max: 10.41\n",
      "Corrected data - Mean: 0.51, Max: 35.83\n"
     ]
    },
    {
     "name": "stderr",
     "output_type": "stream",
     "text": [
      " 66%|█████████████████████████████████████████████████████                           | 156/235 [12:10<05:58,  4.54s/it]C:\\Users\\Admin\\anaconda3\\envs\\mossf\\lib\\site-packages\\sklearn\\base.py:493: FutureWarning: The feature names should match those that were passed during fit. Starting version 1.2, an error will be raised.\n",
      "Feature names unseen at fit time:\n",
      "- rainfall\n",
      "Feature names seen at fit time, yet now missing:\n",
      "- radar_rainfall\n",
      "\n",
      "  warnings.warn(message, FutureWarning)\n"
     ]
    },
    {
     "name": "stdout",
     "output_type": "stream",
     "text": [
      "\n",
      "Processing file: D:\\1Yang\\0Research\\0_2566_radar_mosaic\\00mos_chaophraya\\00run_batch_acchr_codes\\2output\\0Hourly\\0Sontihn_RF\\0CBB_Pulse\\0output_mosaic\\2018072200_2000m.tif\n",
      "Warning: CRS not defined for D:\\1Yang\\0Research\\0_2566_radar_mosaic\\00mos_chaophraya\\00run_batch_acchr_codes\\2output\\0Hourly\\0Sontihn_RF\\0CBB_Pulse\\0output_mosaic\\2018072200_2000m.tif. Using WGS84 as default.\n",
      "Features shape: (250000, 3)\n",
      "NaN values before imputation: 114303\n",
      "NaN values after imputation: 114303\n",
      "Original data - Mean: 0.03, Max: 15.10\n",
      "Corrected data - Mean: 0.42, Max: 49.43\n"
     ]
    }
   ],
   "source": [
    "import numpy as np\n",
    "import pandas as pd\n",
    "import rasterio\n",
    "import os\n",
    "import joblib\n",
    "from sklearn.ensemble import RandomForestRegressor\n",
    "from sklearn.preprocessing import StandardScaler\n",
    "from sklearn.impute import SimpleImputer\n",
    "import geopandas as gpd\n",
    "import matplotlib.pyplot as plt\n",
    "from tqdm import tqdm\n",
    "from rasterio.plot import show\n",
    "from matplotlib.colors import LinearSegmentedColormap, ListedColormap, LogNorm, to_rgba\n",
    "import matplotlib.colors as mcolors\n",
    "from pyproj import CRS\n",
    "\n",
    "def create_output_dirs(base_dir):\n",
    "    dirs = ['corrected_tiffs', 'comparison_plots']\n",
    "    for d in dirs:\n",
    "        os.makedirs(os.path.join(base_dir, d), exist_ok=True)\n",
    "    return {d: os.path.join(base_dir, d) for d in dirs}\n",
    "\n",
    "def process_file(input_file, model, scaler, imputer, output_dirs, basin_shape, fit_imputer=False):\n",
    "    print(f\"\\nProcessing file: {input_file}\")\n",
    "    with rasterio.open(input_file) as src:\n",
    "        data = src.read(1)\n",
    "        meta = src.meta.copy()\n",
    "        nodata = src.nodata\n",
    "        transform = src.transform\n",
    "        \n",
    "        if src.crs is None:\n",
    "            print(f\"Warning: CRS not defined for {input_file}. Using WGS84 as default.\")\n",
    "            crs = CRS.from_epsg(4326)  # WGS84\n",
    "        else:\n",
    "            crs = CRS.from_wkt(src.crs.to_wkt())\n",
    "        \n",
    "        bounds = src.bounds\n",
    "        height, width = data.shape\n",
    "        rows, cols = np.meshgrid(np.arange(height), np.arange(width), indexing='ij')\n",
    "        lons, lats = rasterio.transform.xy(transform, rows, cols)\n",
    "    \n",
    "    # Create a mask for valid data (inside radar coverage)\n",
    "    valid_mask = (data != nodata)\n",
    "    \n",
    "    # Apply the mask to the original data\n",
    "    data = np.where(valid_mask, data, np.nan)\n",
    "    \n",
    "    # Prepare features\n",
    "    lons, lats = np.array(lons), np.array(lats)\n",
    "    features = np.column_stack((data.ravel(), lons.ravel(), lats.ravel()))\n",
    "    feature_names = ['rainfall', 'longitude', 'latitude']\n",
    "    \n",
    "    print(f\"Features shape: {features.shape}\")\n",
    "    print(f\"NaN values before imputation: {np.isnan(features).sum()}\")\n",
    "    \n",
    "    if fit_imputer:\n",
    "        imputer.fit(features[np.logical_and(valid_mask.ravel(), ~np.isnan(features[:,0]), features[:,0] > 0)])\n",
    "    \n",
    "    # Only impute valid data that is not zero or NaN\n",
    "    features_imputed = features.copy()\n",
    "    non_zero_mask = np.logical_and(valid_mask.ravel(), ~np.isnan(features[:,0]), features[:,0] > 0)\n",
    "    features_imputed[non_zero_mask] = imputer.transform(features[non_zero_mask])\n",
    "    print(f\"NaN values after imputation: {np.isnan(features_imputed).sum()}\")\n",
    "    \n",
    "    scaled_features = np.zeros_like(features_imputed)\n",
    "    scaled_features[non_zero_mask] = scaler.transform(features_imputed[non_zero_mask])\n",
    "    \n",
    "    # Ensure feature names match those used in training\n",
    "    X_pred = pd.DataFrame(scaled_features, columns=feature_names)\n",
    "    corrected_values = model.predict(X_pred).reshape(data.shape)\n",
    "    \n",
    "    # Apply the corrections only to non-zero and non-NaN values within the radar coverage\n",
    "    corrected_data = np.where(np.logical_and(valid_mask, data > 0), np.maximum(corrected_values, 0), data)\n",
    "    corrected_data = np.where(valid_mask, corrected_data, np.nan)\n",
    "    \n",
    "    print(f\"Original data - Mean: {np.nanmean(data):.2f}, Max: {np.nanmax(data):.2f}\")\n",
    "    print(f\"Corrected data - Mean: {np.nanmean(corrected_data):.2f}, Max: {np.nanmax(corrected_data):.2f}\")\n",
    "    \n",
    "    # Save corrected data\n",
    "    output_file = os.path.join(output_dirs['corrected_tiffs'], f\"corrected_{os.path.basename(input_file)}\")\n",
    "    meta.update(dtype=rasterio.float32, nodata=np.nan)\n",
    "    with rasterio.open(output_file, 'w', **meta) as dst:\n",
    "        dst.write(corrected_data.astype(rasterio.float32), 1)\n",
    "    \n",
    "    # Calculate difference, maintaining NaN values outside radar coverage\n",
    "    difference = corrected_data - data\n",
    "    \n",
    "    # Create custom colormap for rainfall\n",
    "    colors = ['#FFFFFF', '#D2D2FF', '#A6A6FF', '#8080FF', '#4F4FFF', '#2626FF', '#0000FF', '#00AAFF', '#00FFFF', '#00FF00', '#7BFF7B', '#A6FFA6', '#CAFFCA', '#FFFF00', '#FFA600', '#FF0000', '#C80000']\n",
    "    n_bins = len(colors)\n",
    "    cmap_rain = LinearSegmentedColormap.from_list('custom_rain', colors, N=n_bins)\n",
    "    \n",
    "    # Modify colormap to include light grey for zero values\n",
    "    cmap_rain_with_grey = cmap_rain.copy()\n",
    "    cmap_rain_with_grey.set_under('#dadada')  # Set color for values below vmin\n",
    "    \n",
    "    # Create a softer colormap for difference\n",
    "    soft_colors = ['#4575B4', '#91BFDB', '#E0F3F8', '#FFFFBF', '#FEE090', '#FC8D59', '#D73027']\n",
    "    cmap_diff = LinearSegmentedColormap.from_list('soft_diff', soft_colors, N=256)\n",
    "    cmap_diff.set_bad('white')  # Set color for NaN values in difference plot\n",
    "    \n",
    "    # Create comparison plot\n",
    "    fig, (ax1, ax2, ax3) = plt.subplots(1, 3, figsize=(30, 10))\n",
    "    \n",
    "    for ax, data_to_plot, title, cmap in zip([ax1, ax2, ax3], \n",
    "                                             [data, corrected_data, difference], \n",
    "                                             ['Original Radar Data', 'Corrected Radar Data', 'Difference (Corrected - Original)'],\n",
    "                                             [cmap_rain_with_grey, cmap_rain_with_grey, cmap_diff]):\n",
    "        # Flip the data vertically for correct orientation\n",
    "        if cmap == cmap_diff:\n",
    "            # For difference plot, use symmetric vmin/vmax\n",
    "            vmin_diff, vmax_diff = -max(abs(np.nanmin(difference)), abs(np.nanmax(difference))), max(abs(np.nanmin(difference)), abs(np.nanmax(difference)))\n",
    "            masked_diff = np.ma.masked_where(np.logical_or(np.abs(data_to_plot) < 1e-6, np.isnan(data_to_plot)), data_to_plot)\n",
    "            im = ax.imshow(np.flipud(masked_diff), cmap=cmap, extent=[bounds.left, bounds.right, bounds.top, bounds.bottom], vmin=vmin_diff, vmax=vmax_diff)\n",
    "        else:\n",
    "            # For rainfall data, use logarithmic scale with a small offset to handle zeros\n",
    "            vmin_plot, vmax_plot = 0.1, np.nanmax(data_to_plot)\n",
    "            norm = LogNorm(vmin=vmin_plot, vmax=vmax_plot)\n",
    "            masked_data = np.ma.masked_where(np.logical_or(data_to_plot == 0, np.isnan(data_to_plot)), data_to_plot)\n",
    "            im = ax.imshow(np.flipud(masked_data), cmap=cmap, norm=norm, extent=[bounds.left, bounds.right, bounds.top, bounds.bottom])\n",
    "            # Plot zero values in light grey\n",
    "            ax.imshow(np.flipud(np.where(data_to_plot == 0, 1, np.nan)), cmap=ListedColormap(['#dadada']), extent=[bounds.left, bounds.right, bounds.top, bounds.bottom])\n",
    "        \n",
    "        ax.set_title(title)\n",
    "        \n",
    "        basin_shape_reprojected = basin_shape.to_crs(crs)\n",
    "        basin_shape_reprojected.plot(ax=ax, facecolor='none', edgecolor='black', linewidth=1)\n",
    "        ax.set_xlabel('Longitude')\n",
    "        ax.set_ylabel('Latitude')\n",
    "        plt.colorbar(im, ax=ax, label='Rainfall (mm/hr)' if cmap != cmap_diff else 'Difference (mm/hr)')\n",
    "    \n",
    "    plt.tight_layout()\n",
    "    plt.savefig(os.path.join(output_dirs['comparison_plots'], f\"comparison_{os.path.splitext(os.path.basename(input_file))[0]}.png\"), dpi=300)\n",
    "    plt.close()\n",
    "\n",
    "    return np.nanmean(data), np.nanmax(data), np.nanmean(corrected_data), np.nanmax(corrected_data)\n",
    "\n",
    "def main():\n",
    "    print(\"Script started\")\n",
    "    \n",
    "    # Paths\n",
    "    input_hourly_dir = r'D:\\1Yang\\0Research\\0_2566_radar_mosaic\\00mos_chaophraya\\00run_batch_acchr_codes\\2output\\0Hourly\\0Sontihn_RF\\0CBB_Pulse\\0output_mosaic'\n",
    "    output_base_dir = r'D:\\1Yang\\0Research\\0_2566_radar_mosaic\\00mos_chaophraya\\00run_batch_acchr_codes\\2output\\0Hourly\\0Sontihn_RF\\0CBB_Pulse\\0output_mosaic_corrected'\n",
    "    model_path = '../3output/0models/rf_model_best.joblib'\n",
    "    scaler_path = '../3output/0models/scaler_new.joblib'\n",
    "    \n",
    "    output_dirs = create_output_dirs(output_base_dir)\n",
    "    \n",
    "    print(\"Loading model and scaler\")\n",
    "    model = joblib.load(model_path)\n",
    "    scaler = joblib.load(scaler_path)\n",
    "    print(\"Model and scaler loaded successfully\")\n",
    "    print(f\"Model n_features_in_: {model.n_features_in_}\")\n",
    "    print(f\"Scaler n_features_in_: {scaler.n_features_in_}\")\n",
    "    \n",
    "    # Print feature importances\n",
    "    feature_names = ['rainfall', 'longitude', 'latitude']\n",
    "    importances = model.feature_importances_\n",
    "    for name, importance in zip(feature_names, importances):\n",
    "        print(f\"Importance of {name}: {importance}\")\n",
    "    \n",
    "    # Create imputers with different strategies\n",
    "    imputers = {\n",
    "        'mean': SimpleImputer(strategy='mean'),\n",
    "        'median': SimpleImputer(strategy='median'),\n",
    "        'constant': SimpleImputer(strategy='constant', fill_value=0)\n",
    "    }\n",
    "    \n",
    "    # Load Chao Phraya Basin shapefile\n",
    "    basin_shape = gpd.read_file('../1data/1GIS/0base_map_gis/Chaophraya_Basins_others_ONWR_Law_WGS84Geo.shp')\n",
    "    \n",
    "    input_files = [f for f in os.listdir(input_hourly_dir) if f.endswith('.tif')]\n",
    "    print(f\"Found {len(input_files)} .tif files\")\n",
    "    \n",
    "    if not input_files:\n",
    "        print(\"No .tif files found in the input directory\")\n",
    "        return\n",
    "    \n",
    "    # Find global min and max for consistent color scaling\n",
    "    global_min = float('inf')\n",
    "    global_max = float('-inf')\n",
    "    for file in input_files[:10]:  # Adjust if processing more files\n",
    "        input_file = os.path.join(input_hourly_dir, file)\n",
    "        with rasterio.open(input_file) as src:\n",
    "            data = src.read(1)\n",
    "            valid_data = data[data != src.nodata]\n",
    "            global_min = min(global_min, np.nanmin(valid_data))\n",
    "            global_max = max(global_max, np.nanmax(valid_data))\n",
    "\n",
    "    # Adjust color range slightly to ensure all data is visible\n",
    "    vmin, vmax = global_min * 0.9, global_max * 1.1\n",
    "    \n",
    "    results = {strategy: [] for strategy in imputers.keys()}\n",
    "    \n",
    "    for strategy, imputer in imputers.items():\n",
    "        print(f\"\\nProcessing files with {strategy} imputation strategy\")\n",
    "        for i, file in enumerate(tqdm(input_files)):  # Process all files\n",
    "        #for i, file in enumerate(tqdm(input_files[:10])):  # Process first 10 files\n",
    "            input_file = os.path.join(input_hourly_dir, file)\n",
    "            orig_mean, orig_max, corr_mean, corr_max = process_file(\n",
    "                input_file, model, scaler, imputer, output_dirs, basin_shape, fit_imputer=(i==0)\n",
    "            )\n",
    "            results[strategy].append((orig_mean, orig_max, corr_mean, corr_max))\n",
    "    \n",
    "    # Plot results\n",
    "    strategies = list(imputers.keys())\n",
    "    x = np.arange(len(results[strategies[0]]))\n",
    "    width = 0.25\n",
    "    \n",
    "    fig, (ax1, ax2) = plt.subplots(2, 1, figsize=(15, 20))\n",
    "    \n",
    "    for i, strategy in enumerate(strategies):\n",
    "        means = [r[2] for r in results[strategy]]\n",
    "        ax1.bar(x + i*width, means, width, label=f'{strategy} imputation')\n",
    "    \n",
    "    ax1.set_ylabel('Corrected Mean Rainfall')\n",
    "    ax1.set_title('Comparison of Imputation Strategies - Mean Rainfall')\n",
    "    ax1.set_xticks(x + width)\n",
    "    ax1.set_xticklabels([f'File {i+1}' for i in range(len(x))])\n",
    "    ax1.legend()\n",
    "    \n",
    "    for i, strategy in enumerate(strategies):\n",
    "        maxes = [r[3] for r in results[strategy]]\n",
    "        ax2.bar(x + i*width, maxes, width, label=f'{strategy} imputation')\n",
    "    \n",
    "    ax2.set_ylabel('Corrected Max Rainfall')\n",
    "    ax2.set_title('Comparison of Imputation Strategies - Max Rainfall')\n",
    "    ax2.set_xticks(x + width)\n",
    "    ax2.set_xticklabels([f'File {i+1}' for i in range(len(x))])\n",
    "    ax2.legend()\n",
    "    \n",
    "    plt.tight_layout()\n",
    "    plt.savefig(os.path.join(output_base_dir, 'imputation_strategy_comparison.png'))\n",
    "    plt.close()\n",
    "    \n",
    "    print(\"Script completed\")\n",
    "\n",
    "if __name__ == \"__main__\":\n",
    "    main()"
   ]
  },
  {
   "cell_type": "code",
   "execution_count": null,
   "id": "accae302-2fc7-47ba-8808-d67662bb3fa3",
   "metadata": {},
   "outputs": [],
   "source": []
  },
  {
   "cell_type": "code",
   "execution_count": null,
   "id": "d1540756-a3d4-45ab-9158-9442d269d261",
   "metadata": {},
   "outputs": [],
   "source": []
  },
  {
   "cell_type": "code",
   "execution_count": null,
   "id": "2f47634a-d86c-4459-9b92-2e8b4aace4bd",
   "metadata": {},
   "outputs": [],
   "source": []
  },
  {
   "cell_type": "code",
   "execution_count": null,
   "id": "be8e2461-35c6-4615-9d8a-0baa9de52f38",
   "metadata": {},
   "outputs": [],
   "source": []
  },
  {
   "cell_type": "code",
   "execution_count": null,
   "id": "dc7d19bb-c2e6-43f8-92a1-5fd240f9f403",
   "metadata": {},
   "outputs": [],
   "source": [
    "'''    \n",
    "# เหมือนจะได้แล้ว แต่ค่า mean ดันสูง\n",
    "import numpy as np\n",
    "import rasterio\n",
    "import os\n",
    "import joblib\n",
    "from sklearn.ensemble import RandomForestRegressor\n",
    "from sklearn.preprocessing import StandardScaler\n",
    "from sklearn.impute import SimpleImputer\n",
    "import geopandas as gpd\n",
    "\n",
    "def process_file(input_file, model, scaler, imputer, fit_imputer=False):\n",
    "    print(f\"Processing file: {input_file}\")\n",
    "    with rasterio.open(input_file) as src:\n",
    "        data = src.read(1)\n",
    "        height, width = data.shape\n",
    "        rows, cols = np.meshgrid(np.arange(height), np.arange(width), indexing='ij')\n",
    "        lons, lats = rasterio.transform.xy(src.transform, rows, cols)\n",
    "    \n",
    "    lons = np.array(lons)\n",
    "    lats = np.array(lats)\n",
    "    \n",
    "    # Create features array with radar data, longitude, and latitude\n",
    "    features = np.column_stack((data.ravel(), lons.ravel(), lats.ravel()))\n",
    "    \n",
    "    print(f\"Features shape: {features.shape}\")\n",
    "    print(f\"NaN values before imputation: {np.isnan(features).sum()}\")\n",
    "    \n",
    "    # Fit the imputer if this is the first file\n",
    "    if fit_imputer:\n",
    "        imputer.fit(features)\n",
    "    \n",
    "    # Impute NaN values\n",
    "    features_imputed = imputer.transform(features)\n",
    "    print(f\"NaN values after imputation: {np.isnan(features_imputed).sum()}\")\n",
    "    \n",
    "    scaled_features = scaler.transform(features_imputed)\n",
    "    corrected_values = model.predict(scaled_features).reshape(data.shape)\n",
    "    corrected_data = np.maximum(corrected_values, 0)\n",
    "    \n",
    "    print(f\"Original data - Mean: {np.nanmean(data):.2f}, Max: {np.nanmax(data):.2f}\")\n",
    "    print(f\"Corrected data - Mean: {np.mean(corrected_data):.2f}, Max: {np.max(corrected_data):.2f}\")\n",
    "\n",
    "def main():\n",
    "    print(\"Script started\")\n",
    "    \n",
    "    # Paths\n",
    "    input_hourly_dir = r'D:\\1Yang\\0Research\\0_2566_radar_mosaic\\00mos_chaophraya\\00run_batch_acchr_codes\\2output\\0Hourly\\0Sontihn_RF\\0CBB_Pulse\\0output_mosaic'\n",
    "    model_path = '../4output/0models/rf_model_best.joblib'\n",
    "    scaler_path = '../4output/0models/scaler_new.joblib'\n",
    "    \n",
    "    print(\"Loading model and scaler\")\n",
    "    model = joblib.load(model_path)\n",
    "    scaler = joblib.load(scaler_path)\n",
    "    print(\"Model and scaler loaded successfully\")\n",
    "    print(f\"Model n_features_in_: {model.n_features_in_}\")\n",
    "    print(f\"Scaler n_features_in_: {scaler.n_features_in_}\")\n",
    "    \n",
    "    # Create an imputer\n",
    "    imputer = SimpleImputer(strategy='mean')\n",
    "    \n",
    "    print(\"Getting list of input files\")\n",
    "    input_files = [f for f in os.listdir(input_hourly_dir) if f.endswith('.tif')]\n",
    "    print(f\"Found {len(input_files)} .tif files\")\n",
    "    \n",
    "    if not input_files:\n",
    "        print(\"No .tif files found in the input directory\")\n",
    "        return\n",
    "    \n",
    "    print(\"Processing files\")\n",
    "    for i, file in enumerate(input_files[:5]):  # Process only the first 5 files for testing\n",
    "        input_file = os.path.join(input_hourly_dir, file)\n",
    "        process_file(input_file, model, scaler, imputer, fit_imputer=(i==0))\n",
    "    \n",
    "    print(\"Script completed\")\n",
    "\n",
    "if __name__ == \"__main__\":\n",
    "    main()\n",
    "    \n",
    "'''    "
   ]
  },
  {
   "cell_type": "code",
   "execution_count": null,
   "id": "d3fc4bd8-9407-4408-ba68-209af2a4481d",
   "metadata": {},
   "outputs": [],
   "source": [
    "'''\n",
    "# ต้นแบบ ดีมาก\n",
    "# โค้ดเรียกใช้แบบจำลอง RF เพื่อปรับแก้ฝนเรดาร์รายชั่วโมง รันปรับแก้ทั้งโฟลเดอร์ perfect!!!\n",
    "import numpy as np\n",
    "import matplotlib.pyplot as plt\n",
    "import rasterio\n",
    "from rasterio.plot import show\n",
    "import os\n",
    "import joblib\n",
    "from sklearn.ensemble import RandomForestRegressor\n",
    "from sklearn.preprocessing import StandardScaler\n",
    "import logging\n",
    "from datetime import datetime\n",
    "import geopandas as gpd\n",
    "from tqdm import tqdm\n",
    "\n",
    "# Set up logging\n",
    "logging.basicConfig(level=logging.INFO, format='%(asctime)s - %(levelname)s - %(message)s')\n",
    "\n",
    "# Keep the existing functions (extract_features, create_and_save_scaler, correct_single_radar_file, print_statistics) as they are\n",
    "\n",
    "def visualize_correction(original_data, corrected_data, output_plot, input_file, basin_shape):\n",
    "    fig, (ax1, ax2, ax3) = plt.subplots(1, 3, figsize=(30, 10))\n",
    "    \n",
    "    with rasterio.open(input_file) as src:\n",
    "        extent = [src.bounds.left, src.bounds.right, src.bounds.top, src.bounds.bottom]  # Note the swap of top and bottom\n",
    "    \n",
    "    # Flip the data vertically\n",
    "    original_data = np.flipud(original_data)\n",
    "    corrected_data = np.flipud(corrected_data)\n",
    "    \n",
    "    # Calculate difference\n",
    "    difference = corrected_data - original_data\n",
    "    \n",
    "    # Plot original data\n",
    "    basin_shape.plot(ax=ax1, color='none', edgecolor='black', linewidth=0.5)\n",
    "    im1 = ax1.imshow(original_data, cmap='viridis', extent=extent, vmin=0, vmax=np.nanpercentile(original_data, 99))\n",
    "    ax1.set_title('Original Radar Data')\n",
    "    plt.colorbar(im1, ax=ax1, label='Rainfall (mm)')\n",
    "    \n",
    "    # Plot corrected data\n",
    "    basin_shape.plot(ax=ax2, color='none', edgecolor='black', linewidth=0.5)\n",
    "    im2 = ax2.imshow(corrected_data, cmap='viridis', extent=extent, vmin=0, vmax=np.nanpercentile(corrected_data, 99))\n",
    "    ax2.set_title('Corrected Radar Data')\n",
    "    plt.colorbar(im2, ax=ax2, label='Rainfall (mm)')\n",
    "    \n",
    "    # Plot difference\n",
    "    basin_shape.plot(ax=ax3, color='none', edgecolor='black', linewidth=0.5)\n",
    "    vmax = np.nanpercentile(np.abs(difference), 99)\n",
    "    im3 = ax3.imshow(difference, cmap='RdBu_r', extent=extent, vmin=-vmax, vmax=vmax)\n",
    "    ax3.set_title('Difference (Corrected - Original)')\n",
    "    plt.colorbar(im3, ax=ax3, label='Rainfall Difference (mm)')\n",
    "    \n",
    "    for ax in (ax1, ax2, ax3):\n",
    "        ax.set_xlabel('Longitude')\n",
    "        ax.set_ylabel('Latitude')\n",
    "    \n",
    "    plt.tight_layout()\n",
    "    plt.savefig(output_plot, dpi=300, bbox_inches='tight')\n",
    "    plt.close()\n",
    "\n",
    "    logging.info(f\"Visualization saved to {output_plot}\")\n",
    "\n",
    "def process_all_files(input_dir, output_dir, model, scaler, basin_shape):\n",
    "    input_files = [f for f in os.listdir(input_dir) if f.endswith('.tif')]\n",
    "    \n",
    "    if not input_files:\n",
    "        logging.error(f\"No .tif files found in {input_dir}\")\n",
    "        return\n",
    "    \n",
    "    for file in tqdm(input_files, desc=\"Processing files\"):\n",
    "        input_file = os.path.join(input_dir, file)\n",
    "        output_file = os.path.join(output_dir, f\"corrected_{file}\")\n",
    "        output_plot = os.path.join(output_dir, f\"comparison_{os.path.splitext(file)[0]}.png\")\n",
    "        \n",
    "        logging.info(f\"Processing file: {input_file}\")\n",
    "        \n",
    "        # Correct the file\n",
    "        original_data, corrected_data, meta = correct_single_radar_file(input_file, output_file, model, scaler)\n",
    "        \n",
    "        # Visualize the results\n",
    "        visualize_correction(original_data, corrected_data, output_plot, input_file, basin_shape)\n",
    "        \n",
    "        # Print statistics\n",
    "        print_statistics(original_data, corrected_data)\n",
    "        \n",
    "        logging.info(f\"Corrected file saved to: {output_file}\")\n",
    "\n",
    "if __name__ == \"__main__\":\n",
    "    # Paths\n",
    "    input_hourly_dir = r'D:\\1Yang\\0Research\\0_2566_radar_mosaic\\00mos_chaophraya\\00run_batch_acchr_codes\\2output\\0Hourly\\0Sontihn_RF\\0CBB_Pulse\\0output_mosaic'\n",
    "    output_hourly_dir = r'D:\\1Yang\\0Research\\0_2566_radar_mosaic\\00mos_chaophraya\\00run_batch_acchr_codes\\2output\\0Hourly\\0Sontihn_RF\\0CBB_Pulse\\0output_mosaic_corrected'\n",
    "    model_path = '../4output/0models/rf_model_best.joblib'\n",
    "    scaler_path = '../4output/0models/scaler_new.joblib'\n",
    "    \n",
    "    # Load Chao Phraya Basin shapefile\n",
    "    basin_shape = gpd.read_file('../1data/1GIS/0base_map_gis/Chaophraya_Basins_others_ONWR_Law_WGS84Geo.shp')\n",
    "    \n",
    "    # Create output directory if it doesn't exist\n",
    "    os.makedirs(output_hourly_dir, exist_ok=True)\n",
    "    os.makedirs(os.path.dirname(scaler_path), exist_ok=True)\n",
    "    \n",
    "    # Load the saved model\n",
    "    logging.info(f\"Loading model from {model_path}\")\n",
    "    model = joblib.load(model_path)\n",
    "    \n",
    "    # Load or create scaler\n",
    "    if os.path.exists(scaler_path):\n",
    "        logging.info(f\"Loading scaler from {scaler_path}\")\n",
    "        scaler = joblib.load(scaler_path)\n",
    "    else:\n",
    "        logging.info(f\"Creating new scaler.\")\n",
    "        input_files = [f for f in os.listdir(input_hourly_dir) if f.endswith('.tif')]\n",
    "        if not input_files:\n",
    "            logging.error(f\"No .tif files found in {input_hourly_dir}\")\n",
    "            exit(1)\n",
    "        sample_file = os.path.join(input_hourly_dir, input_files[0])\n",
    "        scaler = create_and_save_scaler(sample_file, scaler_path)\n",
    "    \n",
    "    # Process all files\n",
    "    process_all_files(input_hourly_dir, output_hourly_dir, model, scaler, basin_shape)\n",
    "    \n",
    "    logging.info(\"All files processed. Please check the output directory for results.\")\n",
    "'''    "
   ]
  },
  {
   "cell_type": "code",
   "execution_count": null,
   "id": "28c1bab4-2dd1-448e-842a-300874f5571d",
   "metadata": {},
   "outputs": [],
   "source": [
    "'''\n",
    "# โค้ดเรียกใช้แบบจำลอง RF เพื่อปรับแก้ฝนเรดาร์รายชั่วโมง แบบระบุวันเวลาได้ perfect!!!\n",
    "import numpy as np\n",
    "import matplotlib.pyplot as plt\n",
    "import rasterio\n",
    "from rasterio.plot import show\n",
    "import os\n",
    "import joblib\n",
    "from sklearn.ensemble import RandomForestRegressor\n",
    "from sklearn.preprocessing import StandardScaler\n",
    "import logging\n",
    "from datetime import datetime\n",
    "import geopandas as gpd\n",
    "from rasterio.mask import mask\n",
    "\n",
    "# Set up logging\n",
    "logging.basicConfig(level=logging.INFO, format='%(asctime)s - %(levelname)s - %(message)s')\n",
    "\n",
    "def extract_features(data, lons, lats):\n",
    "    features = np.stack([data, lons, lats], axis=-1)\n",
    "    return features\n",
    "\n",
    "def create_and_save_scaler(input_file, scaler_path):\n",
    "    with rasterio.open(input_file) as src:\n",
    "        radar_data = src.read(1)\n",
    "        height, width = radar_data.shape\n",
    "        rows, cols = np.mgrid[0:height, 0:width]\n",
    "        lons, lats = rasterio.transform.xy(src.transform, rows, cols)\n",
    "    \n",
    "    X = extract_features(radar_data, lons, lats)\n",
    "    X_flat = X.reshape(-1, X.shape[-1])\n",
    "    scaler = StandardScaler()\n",
    "    scaler.fit(X_flat)\n",
    "    joblib.dump(scaler, scaler_path)\n",
    "    logging.info(f\"Scaler created and saved to {scaler_path}\")\n",
    "    return scaler\n",
    "\n",
    "def correct_single_radar_file(input_file, output_file, model, scaler):\n",
    "    with rasterio.open(input_file) as src:\n",
    "        radar_data = src.read(1)\n",
    "        \n",
    "        # Create a mask for areas inside radar coverage (non-NaN in original data)\n",
    "        inside_radar_mask = ~np.isnan(radar_data)\n",
    "        \n",
    "        # Create a mask for areas with no rain (0 mm) inside radar coverage\n",
    "        no_rain_mask = (radar_data == 0) & inside_radar_mask\n",
    "        \n",
    "        # Create a grid of longitude and latitude values\n",
    "        height, width = radar_data.shape\n",
    "        rows, cols = np.mgrid[0:height, 0:width]\n",
    "        lons, lats = rasterio.transform.xy(src.transform, rows, cols)\n",
    "        \n",
    "        # Extract features\n",
    "        X = extract_features(radar_data, lons, lats)\n",
    "        \n",
    "        # Handle NaNs before scaling (only for areas inside radar coverage)\n",
    "        for i in range(X.shape[-1]):\n",
    "            feature = X[..., i]\n",
    "            feature[inside_radar_mask] = np.nan_to_num(feature[inside_radar_mask], nan=np.nanmean(feature[inside_radar_mask]))\n",
    "        \n",
    "        # Reshape for scaling\n",
    "        X_flat = X.reshape(-1, X.shape[-1])\n",
    "        \n",
    "        # Scale features\n",
    "        X_scaled = scaler.transform(X_flat)\n",
    "        \n",
    "        # Apply the correction only to areas inside radar coverage\n",
    "        corrected_data = np.full_like(radar_data, np.nan)\n",
    "        corrected_data[inside_radar_mask] = model.predict(X_scaled[inside_radar_mask.ravel()]).reshape(inside_radar_mask.sum())\n",
    "        \n",
    "        # Ensure corrected values are non-negative\n",
    "        corrected_data = np.maximum(corrected_data, 0)\n",
    "        \n",
    "        # Apply the no-rain mask to set those areas to zero\n",
    "        corrected_data[no_rain_mask] = 0\n",
    "        \n",
    "        # Write the corrected data to a new GeoTIFF file\n",
    "        with rasterio.open(output_file, 'w', **src.meta) as dst:\n",
    "            dst.write(corrected_data, 1)\n",
    "    \n",
    "    return radar_data, corrected_data, src.meta\n",
    "\n",
    "def visualize_correction(original_data, corrected_data, output_plot, input_file, basin_shape):\n",
    "    fig, (ax1, ax2, ax3) = plt.subplots(1, 3, figsize=(30, 10))\n",
    "    \n",
    "    with rasterio.open(input_file) as src:\n",
    "        extent = [src.bounds.left, src.bounds.right, src.bounds.top, src.bounds.bottom]  # Note the swap of top and bottom\n",
    "    \n",
    "    # Flip the data vertically\n",
    "    original_data = np.flipud(original_data)\n",
    "    corrected_data = np.flipud(corrected_data)\n",
    "    \n",
    "    # Calculate difference\n",
    "    difference = corrected_data - original_data\n",
    "    \n",
    "    # Plot original data\n",
    "    basin_shape.plot(ax=ax1, color='none', edgecolor='red', linewidth=0.5)\n",
    "    im1 = ax1.imshow(original_data, cmap='viridis', extent=extent, vmin=0, vmax=np.nanpercentile(original_data, 99))\n",
    "    ax1.set_title('Original Radar Data')\n",
    "    plt.colorbar(im1, ax=ax1, label='Rainfall (mm)')\n",
    "    \n",
    "    # Plot corrected data\n",
    "    basin_shape.plot(ax=ax2, color='none', edgecolor='red', linewidth=0.5)\n",
    "    im2 = ax2.imshow(corrected_data, cmap='viridis', extent=extent, vmin=0, vmax=np.nanpercentile(corrected_data, 99))\n",
    "    ax2.set_title('Corrected Radar Data')\n",
    "    plt.colorbar(im2, ax=ax2, label='Rainfall (mm)')\n",
    "    \n",
    "    # Plot difference\n",
    "    basin_shape.plot(ax=ax3, color='none', edgecolor='black', linewidth=0.5)\n",
    "    vmax = np.nanpercentile(np.abs(difference), 99)\n",
    "    im3 = ax3.imshow(difference, cmap='RdBu_r', extent=extent, vmin=-vmax, vmax=vmax)\n",
    "    ax3.set_title('Difference (Corrected - Original)')\n",
    "    plt.colorbar(im3, ax=ax3, label='Rainfall Difference (mm)')\n",
    "    \n",
    "    for ax in (ax1, ax2, ax3):\n",
    "        ax.set_xlabel('Longitude')\n",
    "        ax.set_ylabel('Latitude')\n",
    "    \n",
    "    plt.tight_layout()\n",
    "    plt.savefig(output_plot, dpi=300, bbox_inches='tight')\n",
    "    plt.close()\n",
    "\n",
    "    logging.info(f\"Visualization saved to {output_plot}\")\n",
    "\n",
    "def print_statistics(original_data, corrected_data):\n",
    "    # Mask for areas inside radar coverage\n",
    "    inside_radar_mask = ~np.isnan(original_data)\n",
    "    \n",
    "    original_stats = {\n",
    "        'min': np.nanmin(original_data),\n",
    "        'max': np.nanmax(original_data),\n",
    "        'mean': np.nanmean(original_data),\n",
    "        'std': np.nanstd(original_data)\n",
    "    }\n",
    "    corrected_stats = {\n",
    "        'min': np.nanmin(corrected_data[inside_radar_mask]),\n",
    "        'max': np.nanmax(corrected_data[inside_radar_mask]),\n",
    "        'mean': np.nanmean(corrected_data[inside_radar_mask]),\n",
    "        'std': np.nanstd(corrected_data[inside_radar_mask])\n",
    "    }\n",
    "    \n",
    "    logging.info(\"Original Data Statistics (inside radar coverage):\")\n",
    "    for key, value in original_stats.items():\n",
    "        logging.info(f\"{key}: {value:.4f}\")\n",
    "    \n",
    "    logging.info(\"\\nCorrected Data Statistics (inside radar coverage):\")\n",
    "    for key, value in corrected_stats.items():\n",
    "        logging.info(f\"{key}: {value:.4f}\")\n",
    "\n",
    "if __name__ == \"__main__\":\n",
    "    # Paths\n",
    "    input_hourly_dir = r'D:\\1Yang\\0Research\\0_2566_radar_mosaic\\00mos_chaophraya\\00run_batch_acchr_codes\\2output\\0Hourly\\0Sontihn_RF\\0CBB_Pulse\\0output_mosaic'\n",
    "    output_hourly_dir = r'D:\\1Yang\\0Research\\0_2566_radar_mosaic\\00mos_chaophraya\\00run_batch_acchr_codes\\2output\\0Hourly\\0Sontihn_RF\\0CBB_Pulse\\0output_mosaic_corrected'\n",
    "    model_path = '../4output/0models/rf_model_best.joblib'\n",
    "    scaler_path = '../4output/0models/scaler_new.joblib'\n",
    "    \n",
    "    # Load Chao Phraya Basin shapefile\n",
    "    basin_shape = gpd.read_file('../1data/1GIS/0base_map_gis/Chaophraya_Basins_others_ONWR_Law_WGS84Geo.shp')\n",
    "    \n",
    "    # Create output directory if it doesn't exist\n",
    "    os.makedirs(output_hourly_dir, exist_ok=True)\n",
    "    os.makedirs(os.path.dirname(scaler_path), exist_ok=True)\n",
    "    \n",
    "    # Load the saved model\n",
    "    logging.info(f\"Loading model from {model_path}\")\n",
    "    model = joblib.load(model_path)\n",
    "    \n",
    "    # Load or create scaler\n",
    "    if os.path.exists(scaler_path):\n",
    "        logging.info(f\"Loading scaler from {scaler_path}\")\n",
    "        scaler = joblib.load(scaler_path)\n",
    "    else:\n",
    "        logging.info(f\"Creating new scaler.\")\n",
    "        input_files = [f for f in os.listdir(input_hourly_dir) if f.endswith('.tif')]\n",
    "        if not input_files:\n",
    "            logging.error(f\"No .tif files found in {input_hourly_dir}\")\n",
    "            exit(1)\n",
    "        sample_file = os.path.join(input_hourly_dir, input_files[0])\n",
    "        scaler = create_and_save_scaler(sample_file, scaler_path)\n",
    "    \n",
    "    # Get user input for date and time\n",
    "    date_input = input(\"Enter the date and time in format YYYYMMDDHH (e.g., 2018071719): \")\n",
    "    target_datetime = datetime.strptime(date_input, \"%Y%m%d%H\")\n",
    "    \n",
    "    # Find the matching file\n",
    "    target_file = None\n",
    "    for file in os.listdir(input_hourly_dir):\n",
    "        if file.startswith(target_datetime.strftime(\"%Y%m%d%H\")) and file.endswith('.tif'):\n",
    "            target_file = file\n",
    "            break\n",
    "    \n",
    "    if target_file is None:\n",
    "        logging.error(f\"No file found for the specified date and time: {date_input}\")\n",
    "        exit(1)\n",
    "    \n",
    "    input_file = os.path.join(input_hourly_dir, target_file)\n",
    "    output_file = os.path.join(output_hourly_dir, f\"corrected_{target_file}\")\n",
    "    output_plot = os.path.join(output_hourly_dir, f\"comparison_{os.path.splitext(target_file)[0]}.png\")\n",
    "    \n",
    "    logging.info(f\"Processing file: {input_file}\")\n",
    "    \n",
    "    # Correct the single file\n",
    "    original_data, corrected_data, meta = correct_single_radar_file(input_file, output_file, model, scaler)\n",
    "    \n",
    "    # Visualize the results\n",
    "    visualize_correction(original_data, corrected_data, output_plot, input_file, basin_shape)\n",
    "    \n",
    "    # Print statistics\n",
    "    print_statistics(original_data, corrected_data)\n",
    "    \n",
    "    logging.info(f\"Corrected file saved to: {output_file}\")\n",
    "    logging.info(\"Process completed. Please check the output directory for results.\")\n",
    "'''    "
   ]
  },
  {
   "cell_type": "markdown",
   "id": "957f7236-0766-4f73-9059-6ac173ffd361",
   "metadata": {},
   "source": [
    "## Next\n",
    "* นำผลทั้งหมดมาเรียงในสไลด์ พร้อมโค้ดที่ใช้สร้าง\n",
    "* สร้างโครงในเปเปอร์\n",
    "* เขียนอธิบายผล \n",
    "    * เป็นข้อ ๆ อภิปรายบางส่วน เขียนเน้นเรื่องการพัฒนาโค้ดโมเสค การใช้ DEM เข้ามาเป็น QI การ interpolate กลไกของโค้ด\n",
    "    * เอาข้อมูล report ความครบถ้วน มาอธิบาย\n",
    "    * \n",
    "* เขียนอภิปราย\n",
    "    * ผลการ improve แม้ว่าจะไม่ sig\n",
    "    * ผลจากแบบจำลอง RF ของฝนปรับแก้ ยกกรณีชั่วโมงตัวอย่าง\n",
    "* เขียนกรอบแนวคิด วาดรูป เขียนวิธีการที่ใช้ ข้อมูลที่ใช้ \n",
    "* เขียน introduction\n",
    "* เขียนสรุป ตามคำถาม และสิ่งค้นพบ\n",
    "* เขียนบทคัดย่อ \n",
    "* หาเปเปอร์มาอ้างอิงเพิ่ม และอภิปราย"
   ]
  },
  {
   "cell_type": "code",
   "execution_count": null,
   "id": "ee953188-4928-484d-abd4-95e863bee64e",
   "metadata": {},
   "outputs": [],
   "source": []
  }
 ],
 "metadata": {
  "kernelspec": {
   "display_name": "Python 3 (ipykernel)",
   "language": "python",
   "name": "python3"
  },
  "language_info": {
   "codemirror_mode": {
    "name": "ipython",
    "version": 3
   },
   "file_extension": ".py",
   "mimetype": "text/x-python",
   "name": "python",
   "nbconvert_exporter": "python",
   "pygments_lexer": "ipython3",
   "version": "3.8.13"
  }
 },
 "nbformat": 4,
 "nbformat_minor": 5
}
